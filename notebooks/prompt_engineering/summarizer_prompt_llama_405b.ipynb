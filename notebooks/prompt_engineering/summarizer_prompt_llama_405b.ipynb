{
 "cells": [
  {
   "cell_type": "code",
   "execution_count": 7,
   "id": "48eb428b-a444-4d9c-9149-59f0a6c52934",
   "metadata": {
    "execution": {
     "iopub.execute_input": "2025-02-22T05:01:15.853762Z",
     "iopub.status.busy": "2025-02-22T05:01:15.853293Z",
     "iopub.status.idle": "2025-02-22T05:01:15.862341Z",
     "shell.execute_reply": "2025-02-22T05:01:15.860872Z",
     "shell.execute_reply.started": "2025-02-22T05:01:15.853730Z"
    }
   },
   "outputs": [],
   "source": [
    "import pandas as pd\n",
    "\n",
    "from src.genai_model.summarizer import Summarizer"
   ]
  },
  {
   "cell_type": "code",
   "execution_count": 2,
   "id": "27ad9605-7027-47f3-a6e2-f89e24a9145a",
   "metadata": {
    "execution": {
     "iopub.execute_input": "2025-02-22T04:59:49.573322Z",
     "iopub.status.busy": "2025-02-22T04:59:49.572756Z",
     "iopub.status.idle": "2025-02-22T04:59:50.026364Z",
     "shell.execute_reply": "2025-02-22T04:59:50.025048Z",
     "shell.execute_reply.started": "2025-02-22T04:59:49.573245Z"
    }
   },
   "outputs": [],
   "source": [
    "df = pd.read_parquet(\"/home/logs/df_news_stories/2025-01-01_2025-01-12__df_news_stories__20250113-010137__v1.0.parquet\")"
   ]
  },
  {
   "cell_type": "code",
   "execution_count": 4,
   "id": "f1c0d779-12cc-4d31-a727-bb0cad11c305",
   "metadata": {
    "execution": {
     "iopub.execute_input": "2025-02-22T05:00:38.606283Z",
     "iopub.status.busy": "2025-02-22T05:00:38.597680Z",
     "iopub.status.idle": "2025-02-22T05:00:38.657796Z",
     "shell.execute_reply": "2025-02-22T05:00:38.655053Z",
     "shell.execute_reply.started": "2025-02-22T05:00:38.606083Z"
    }
   },
   "outputs": [],
   "source": [
    "text = \"\"\n",
    "for nb, idx in enumerate(df.index[:5]):\n",
    "    ns = df.loc[idx]\n",
    "    text += f\"{ns['title']} : {ns['news_summary']}\\n\""
   ]
  },
  {
   "cell_type": "code",
   "execution_count": 6,
   "id": "58d74ab8-45f0-459a-8303-084c593249a6",
   "metadata": {
    "execution": {
     "iopub.execute_input": "2025-02-22T05:00:44.711546Z",
     "iopub.status.busy": "2025-02-22T05:00:44.711029Z",
     "iopub.status.idle": "2025-02-22T05:00:44.721189Z",
     "shell.execute_reply": "2025-02-22T05:00:44.719270Z",
     "shell.execute_reply.started": "2025-02-22T05:00:44.711513Z"
    }
   },
   "outputs": [
    {
     "name": "stdout",
     "output_type": "stream",
     "text": [
      "META'S LLAMA COPYRIGHTED TRAINING : A recent filing alleges that Meta's Llama team trained on copyrighted material with approval from Mark Zuckerberg, raising concerns over intellectual property use in AI training.\n",
      "GOOGLE LENS TIPS : Google highlights new tips and features for Lens in 2025, showcasing its expanded capabilities in visual search and integration with everyday tasks.\n",
      "STANDALONE GROK APP LAUNCHES ON IOS IN THE US : The standalone Grok app by xAI is now available on iOS in the US. It provides advanced conversational AI capabilities.\n",
      "TRANSPARENT VIDEO GENERATION : The transparent generation algorithm includes the alpha channel which increases the usefulness of the model for VFX applications.\n",
      "3D BIRD GENERATION : This algorithm can generate novel birds by using parts and a learned combination algorithm. The results are stunning and quite useful due to the quality of the underlying generated mesh.\n",
      "\n"
     ]
    }
   ],
   "source": [
    "print(text)"
   ]
  },
  {
   "cell_type": "code",
   "execution_count": 11,
   "id": "3b896fe5-4f8b-47b6-9dbb-d05acbdb952d",
   "metadata": {
    "execution": {
     "iopub.execute_input": "2025-02-22T05:03:04.183811Z",
     "iopub.status.busy": "2025-02-22T05:03:04.183396Z",
     "iopub.status.idle": "2025-02-22T05:03:04.192019Z",
     "shell.execute_reply": "2025-02-22T05:03:04.189939Z",
     "shell.execute_reply.started": "2025-02-22T05:03:04.183783Z"
    }
   },
   "outputs": [],
   "source": [
    "summarize_llama405b = Summarizer(model_type=\"openrouter/meta-llama/llama-3.1-405b-instruct:free\")\n",
    "summarize_gemini_1206 = Summarizer(model_type=\"gemini/gemini-exp-1206\")"
   ]
  },
  {
   "cell_type": "code",
   "execution_count": 12,
   "id": "539437a6-0198-4ac8-8dfa-e40d94a6edf3",
   "metadata": {
    "execution": {
     "iopub.execute_input": "2025-02-22T05:03:14.860469Z",
     "iopub.status.busy": "2025-02-22T05:03:14.860113Z",
     "iopub.status.idle": "2025-02-22T05:03:21.519416Z",
     "shell.execute_reply": "2025-02-22T05:03:21.518298Z",
     "shell.execute_reply.started": "2025-02-22T05:03:14.860443Z"
    }
   },
   "outputs": [
    {
     "data": {
      "text/plain": [
       "\"Here is a concise summary of the news articles:\\n\\nMeta's Llama team is facing allegations of training on copyrighted material with approval from Mark Zuckerberg, raising concerns over intellectual property use in AI training. Meanwhile, Google has highlighted new tips and features for Lens in 2025, showcasing its expanded capabilities in visual search and integration with everyday tasks. In other developments, xAI's standalone Grok app is now available on iOS in the US, providing advanced conversational AI capabilities. Additionally, researchers have made breakthroughs in AI-generated content, including a transparent video generation algorithm that includes an alpha channel, increasing its usefulness for VFX applications, and a 3D bird generation algorithm that can create novel birds using a learned combination algorithm, producing high-quality results.\""
      ]
     },
     "execution_count": 12,
     "metadata": {},
     "output_type": "execute_result"
    }
   ],
   "source": [
    "summarize_llama405b.summarize_str(text)"
   ]
  },
  {
   "cell_type": "code",
   "execution_count": null,
   "id": "f9dae4de-a7d9-4b6b-8b1d-95d667920b8e",
   "metadata": {},
   "outputs": [],
   "source": [
    "summarize_llama405b"
   ]
  },
  {
   "cell_type": "code",
   "execution_count": 13,
   "id": "e982e8ea-fd0c-4d1b-b70f-6cd7719fb3c7",
   "metadata": {
    "execution": {
     "iopub.execute_input": "2025-02-22T05:03:33.151141Z",
     "iopub.status.busy": "2025-02-22T05:03:33.150640Z",
     "iopub.status.idle": "2025-02-22T05:03:35.668698Z",
     "shell.execute_reply": "2025-02-22T05:03:35.667515Z",
     "shell.execute_reply.started": "2025-02-22T05:03:33.151093Z"
    }
   },
   "outputs": [
    {
     "data": {
      "text/plain": [
       "\"This week's AI news highlights advancements in generative AI and ongoing discussions around AI ethics. In generative AI, new algorithms for transparent video generation, including alpha channels for VFX applications, and 3D bird generation with high-quality mesh outputs, showcase the progress in the field. xAI launched its Grok conversational AI app on iOS in the US. Google promoted new features for Google Lens, emphasizing its visual search capabilities. Finally, a legal filing alleges Meta's Llama team knowingly trained its model on copyrighted material, raising intellectual property concerns.\\n\""
      ]
     },
     "execution_count": 13,
     "metadata": {},
     "output_type": "execute_result"
    }
   ],
   "source": [
    "summarize_gemini_1206.summarize_str(text)"
   ]
  },
  {
   "cell_type": "code",
   "execution_count": 20,
   "id": "62ca2994-9f54-42da-8e00-e828c071a72a",
   "metadata": {
    "execution": {
     "iopub.execute_input": "2025-02-22T05:05:31.488362Z",
     "iopub.status.busy": "2025-02-22T05:05:31.486935Z",
     "iopub.status.idle": "2025-02-22T05:05:31.496202Z",
     "shell.execute_reply": "2025-02-22T05:05:31.494239Z",
     "shell.execute_reply.started": "2025-02-22T05:05:31.488328Z"
    }
   },
   "outputs": [
    {
     "name": "stdout",
     "output_type": "stream",
     "text": [
      "\n",
      "You are an expert technical writer, specialized in the field of Artificial Intelligence.\n",
      "Your speciality is to summarize multiple news articles into professional news digests.\n",
      "You audience consists of senior business leaders who are interested in \n",
      "1. understanding the technological trends in AI, \n",
      "2. monitoring the fundraising activities in the ecosystem, and \n",
      "3. tracking the main AI companies.\n",
      "        \n"
     ]
    }
   ],
   "source": [
    "print(summarize_llama405b._generate_system_prompt())"
   ]
  },
  {
   "cell_type": "code",
   "execution_count": 19,
   "id": "43d8fa69-fc96-4535-aead-9e357bb6e930",
   "metadata": {
    "execution": {
     "iopub.execute_input": "2025-02-22T05:04:38.140336Z",
     "iopub.status.busy": "2025-02-22T05:04:38.140004Z",
     "iopub.status.idle": "2025-02-22T05:04:38.147370Z",
     "shell.execute_reply": "2025-02-22T05:04:38.145671Z",
     "shell.execute_reply.started": "2025-02-22T05:04:38.140310Z"
    }
   },
   "outputs": [
    {
     "name": "stdout",
     "output_type": "stream",
     "text": [
      "\n",
      "I will provide you with a list of news articles, and I want you to summarize all those articles into a single paragraph. Here are a few additional requirements:\n",
      "- The summary should be as short as possible.\n",
      "- The core content of all the news stories should be contained in the summary. \n",
      "- If several news stories contain similar or identical material, this should not be repeated in the summary.\n",
      "\n",
      "To produce the summaries, I want you to follow these steps:\n",
      "1. Organize the news articles into a small number of categories.\n",
      "2. For each category, summarize all news articles of that category into a concise paragraph.\n",
      "3. Combine the summaries of all categories together.\n",
      "\n",
      "You must only return the output from step 3, not the intermediate steps (steps 1 and 2).\n",
      "\n",
      "Each news article follows the same format:\n",
      "<TITLE> : <MAIN TEXT>\n",
      "Here is the list of news articles that I want you to use to create your newsletter:\n",
      "META'S LLAMA COPYRIGHTED TRAINING : A recent filing alleges that Meta's Llama team trained on copyrighted material with approval from Mark Zuckerberg, raising concerns over intellectual property use in AI training.\n",
      "GOOGLE LENS TIPS : Google highlights new tips and features for Lens in 2025, showcasing its expanded capabilities in visual search and integration with everyday tasks.\n",
      "STANDALONE GROK APP LAUNCHES ON IOS IN THE US : The standalone Grok app by xAI is now available on iOS in the US. It provides advanced conversational AI capabilities.\n",
      "TRANSPARENT VIDEO GENERATION : The transparent generation algorithm includes the alpha channel which increases the usefulness of the model for VFX applications.\n",
      "3D BIRD GENERATION : This algorithm can generate novel birds by using parts and a learned combination algorithm. The results are stunning and quite useful due to the quality of the underlying generated mesh.\n",
      "\n",
      "        \n"
     ]
    }
   ],
   "source": [
    "print(summarize_llama405b._generate_user_prompt(text))"
   ]
  },
  {
   "cell_type": "code",
   "execution_count": 23,
   "id": "33996513-0f1a-4b56-bdac-2e5fb0ccde66",
   "metadata": {
    "execution": {
     "iopub.execute_input": "2025-02-22T05:09:59.653619Z",
     "iopub.status.busy": "2025-02-22T05:09:59.653172Z",
     "iopub.status.idle": "2025-02-22T05:10:05.811927Z",
     "shell.execute_reply": "2025-02-22T05:10:05.810556Z",
     "shell.execute_reply.started": "2025-02-22T05:09:59.653590Z"
    }
   },
   "outputs": [
    {
     "data": {
      "text/plain": [
       "\"Here is a concise summary of the news articles:\\n\\nMeta's Llama AI training has raised concerns over intellectual property use, as a filing alleges that the team trained on copyrighted material with Mark Zuckerberg's approval. Meanwhile, Google has highlighted new features for Lens, showcasing its expanded capabilities in visual search and integration with everyday tasks. In other developments, xAI's standalone Grok app has launched on iOS in the US, offering advanced conversational AI capabilities. Additionally, researchers have made breakthroughs in AI-generated content, including a transparent video generation algorithm and a 3D bird generation algorithm that can create novel, high-quality bird models using a learned combination algorithm.\""
      ]
     },
     "execution_count": 23,
     "metadata": {},
     "output_type": "execute_result"
    }
   ],
   "source": [
    "summarize_llama405b.summarizer.completion_str(user_prompt=\"\"\"\n",
    "I will provide you with a list of news articles, and I want you to summarize all those articles into a single paragraph. Here are a few additional requirements:\n",
    "- The summary should be as short as possible.\n",
    "- The core content of all the news stories should be contained in the summary. \n",
    "- If several news stories contain similar or identical material, this should not be repeated in the summary.\n",
    "\n",
    "To produce the summaries, I want you to follow these steps:\n",
    "1. Organize the news articles into a small number of categories.\n",
    "2. For each category, summarize all news articles of that category into a concise paragraph.\n",
    "3. Combine the summaries of all categories together.\n",
    "\n",
    "You must only return the output from step 3, not the intermediate steps (steps 1 and 2).\n",
    "\n",
    "Each news article follows the same format:\n",
    "<TITLE> : <MAIN TEXT>\n",
    "Here is the list of news articles that I want you to use to create your newsletter:\n",
    "META'S LLAMA COPYRIGHTED TRAINING : A recent filing alleges that Meta's Llama team trained on copyrighted material with approval from Mark Zuckerberg, raising concerns over intellectual property use in AI training.\n",
    "GOOGLE LENS TIPS : Google highlights new tips and features for Lens in 2025, showcasing its expanded capabilities in visual search and integration with everyday tasks.\n",
    "STANDALONE GROK APP LAUNCHES ON IOS IN THE US : The standalone Grok app by xAI is now available on iOS in the US. It provides advanced conversational AI capabilities.\n",
    "TRANSPARENT VIDEO GENERATION : The transparent generation algorithm includes the alpha channel which increases the usefulness of the model for VFX applications.\n",
    "3D BIRD GENERATION : This algorithm can generate novel birds by using parts and a learned combination algorithm. The results are stunning and quite useful due to the quality of the underlying generated mesh.\n",
    "\"\"\")"
   ]
  },
  {
   "cell_type": "code",
   "execution_count": 26,
   "id": "d04c2df8-a3be-46fb-859e-8128983f0e9c",
   "metadata": {
    "execution": {
     "iopub.execute_input": "2025-02-22T05:11:59.571289Z",
     "iopub.status.busy": "2025-02-22T05:11:59.570269Z",
     "iopub.status.idle": "2025-02-22T05:12:05.924390Z",
     "shell.execute_reply": "2025-02-22T05:12:05.923053Z",
     "shell.execute_reply.started": "2025-02-22T05:11:59.571259Z"
    }
   },
   "outputs": [
    {
     "data": {
      "text/plain": [
       "\"Meta's Llama team is facing allegations of training on copyrighted material with approval from Mark Zuckerberg, raising concerns over intellectual property use in AI training. Meanwhile, Google has highlighted new tips and features for Lens, showcasing its expanded capabilities in visual search and integration with everyday tasks. xAI has launched a standalone Grok app on iOS in the US, providing advanced conversational AI capabilities. In AI research, new algorithms have been developed for transparent video generation, including the alpha channel for increased usefulness in VFX applications, and 3D bird generation, which can create novel birds using parts and a learned combination algorithm, producing high-quality underlying generated meshes.\""
      ]
     },
     "execution_count": 26,
     "metadata": {},
     "output_type": "execute_result"
    }
   ],
   "source": [
    "summarize_llama405b.summarizer.completion_str(user_prompt=\"\"\"\n",
    "I will provide you with a list of news articles, and I want you to summarize all those articles into a single paragraph. Here are a few additional requirements:\n",
    "- The summary should be as short as possible.\n",
    "- The core content of all the news stories should be contained in the summary. \n",
    "- If several news stories contain similar or identical material, this should not be repeated in the summary.\n",
    "\n",
    "To produce the summaries, I want you to follow these steps:\n",
    "1. Organize the news articles into a small number of categories.\n",
    "2. For each category, summarize all news articles of that category into a concise paragraph.\n",
    "3. Combine the summaries of all categories together.\n",
    "\n",
    "You must only return the output from step 3, not the intermediate steps (steps 1 and 2).\n",
    "You must only return the summary, don't start with any introductory sentence.\n",
    "\n",
    "Each news article follows the same format:\n",
    "<TITLE> : <MAIN TEXT>\n",
    "Here is the list of news articles that I want you to use to create your newsletter:\n",
    "META'S LLAMA COPYRIGHTED TRAINING : A recent filing alleges that Meta's Llama team trained on copyrighted material with approval from Mark Zuckerberg, raising concerns over intellectual property use in AI training.\n",
    "GOOGLE LENS TIPS : Google highlights new tips and features for Lens in 2025, showcasing its expanded capabilities in visual search and integration with everyday tasks.\n",
    "STANDALONE GROK APP LAUNCHES ON IOS IN THE US : The standalone Grok app by xAI is now available on iOS in the US. It provides advanced conversational AI capabilities.\n",
    "TRANSPARENT VIDEO GENERATION : The transparent generation algorithm includes the alpha channel which increases the usefulness of the model for VFX applications.\n",
    "3D BIRD GENERATION : This algorithm can generate novel birds by using parts and a learned combination algorithm. The results are stunning and quite useful due to the quality of the underlying generated mesh.\n",
    "\"\"\")"
   ]
  },
  {
   "cell_type": "code",
   "execution_count": 27,
   "id": "e77ecf05-c8cf-4462-a512-71ec7122396c",
   "metadata": {
    "execution": {
     "iopub.execute_input": "2025-02-22T05:12:13.141522Z",
     "iopub.status.busy": "2025-02-22T05:12:13.140989Z",
     "iopub.status.idle": "2025-02-22T05:12:15.456449Z",
     "shell.execute_reply": "2025-02-22T05:12:15.455077Z",
     "shell.execute_reply.started": "2025-02-22T05:12:13.141496Z"
    }
   },
   "outputs": [
    {
     "data": {
      "text/plain": [
       "\"Meta's Llama faces allegations of training on copyrighted material with Mark Zuckerberg's approval, raising intellectual property concerns. Advancements in generative AI include a transparent video generation algorithm incorporating an alpha channel for VFX applications, and a 3D bird generation algorithm producing high-quality meshes by combining parts. In other AI developments, xAI launched its standalone Grok app on iOS in the US, offering advanced conversational AI, while Google highlighted new features and tips for Google Lens, enhancing its visual search capabilities.\\n\""
      ]
     },
     "execution_count": 27,
     "metadata": {},
     "output_type": "execute_result"
    }
   ],
   "source": [
    "summarize_gemini_1206.summarizer.completion_str(user_prompt=\"\"\"\n",
    "I will provide you with a list of news articles, and I want you to summarize all those articles into a single paragraph. Here are a few additional requirements:\n",
    "- The summary should be as short as possible.\n",
    "- The core content of all the news stories should be contained in the summary. \n",
    "- If several news stories contain similar or identical material, this should not be repeated in the summary.\n",
    "\n",
    "To produce the summaries, I want you to follow these steps:\n",
    "1. Organize the news articles into a small number of categories.\n",
    "2. For each category, summarize all news articles of that category into a concise paragraph.\n",
    "3. Combine the summaries of all categories together.\n",
    "\n",
    "You must only return the output from step 3, not the intermediate steps (steps 1 and 2).\n",
    "You must only return the summary, don't start with any introductory sentence.\n",
    "\n",
    "Each news article follows the same format:\n",
    "<TITLE> : <MAIN TEXT>\n",
    "Here is the list of news articles that I want you to use to create your newsletter:\n",
    "META'S LLAMA COPYRIGHTED TRAINING : A recent filing alleges that Meta's Llama team trained on copyrighted material with approval from Mark Zuckerberg, raising concerns over intellectual property use in AI training.\n",
    "GOOGLE LENS TIPS : Google highlights new tips and features for Lens in 2025, showcasing its expanded capabilities in visual search and integration with everyday tasks.\n",
    "STANDALONE GROK APP LAUNCHES ON IOS IN THE US : The standalone Grok app by xAI is now available on iOS in the US. It provides advanced conversational AI capabilities.\n",
    "TRANSPARENT VIDEO GENERATION : The transparent generation algorithm includes the alpha channel which increases the usefulness of the model for VFX applications.\n",
    "3D BIRD GENERATION : This algorithm can generate novel birds by using parts and a learned combination algorithm. The results are stunning and quite useful due to the quality of the underlying generated mesh.\n",
    "\"\"\")"
   ]
  },
  {
   "cell_type": "code",
   "execution_count": null,
   "id": "f744a254-28fe-4df6-87db-f45a557f7c8d",
   "metadata": {},
   "outputs": [],
   "source": []
  }
 ],
 "metadata": {
  "kernelspec": {
   "display_name": "Python 3 (ipykernel)",
   "language": "python",
   "name": "python3"
  },
  "language_info": {
   "codemirror_mode": {
    "name": "ipython",
    "version": 3
   },
   "file_extension": ".py",
   "mimetype": "text/x-python",
   "name": "python",
   "nbconvert_exporter": "python",
   "pygments_lexer": "ipython3",
   "version": "3.11.11"
  }
 },
 "nbformat": 4,
 "nbformat_minor": 5
}
