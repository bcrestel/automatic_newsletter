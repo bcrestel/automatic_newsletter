{
 "cells": [
  {
   "cell_type": "markdown",
   "id": "b9710aa8-94c8-4f26-b71c-af2d8f71c755",
   "metadata": {},
   "source": [
    "# Test LiteLLM"
   ]
  },
  {
   "cell_type": "code",
   "execution_count": 1,
   "id": "79bda238-758d-4ad8-9c82-12ff0cd5300d",
   "metadata": {
    "execution": {
     "iopub.execute_input": "2025-01-29T03:44:29.169366Z",
     "iopub.status.busy": "2025-01-29T03:44:29.169040Z",
     "iopub.status.idle": "2025-01-29T03:44:31.897173Z",
     "shell.execute_reply": "2025-01-29T03:44:31.896162Z",
     "shell.execute_reply.started": "2025-01-29T03:44:29.169340Z"
    }
   },
   "outputs": [],
   "source": [
    "from litellm import completion"
   ]
  },
  {
   "cell_type": "code",
   "execution_count": 2,
   "id": "e0c913b6-9110-4fb0-a6b8-2f67bcfb92e0",
   "metadata": {
    "execution": {
     "iopub.execute_input": "2025-01-29T03:44:31.898716Z",
     "iopub.status.busy": "2025-01-29T03:44:31.898408Z",
     "iopub.status.idle": "2025-01-29T03:44:31.905704Z",
     "shell.execute_reply": "2025-01-29T03:44:31.903597Z",
     "shell.execute_reply.started": "2025-01-29T03:44:31.898695Z"
    }
   },
   "outputs": [],
   "source": [
    "prompt = \"Explain nuclear fusion in 5 sentences or less.\""
   ]
  },
  {
   "cell_type": "code",
   "execution_count": 3,
   "id": "3cd3b494-33f0-4076-b57e-6a0ca957b30e",
   "metadata": {
    "execution": {
     "iopub.execute_input": "2025-01-29T03:44:31.907747Z",
     "iopub.status.busy": "2025-01-29T03:44:31.907282Z",
     "iopub.status.idle": "2025-01-29T03:44:33.048199Z",
     "shell.execute_reply": "2025-01-29T03:44:33.046165Z",
     "shell.execute_reply.started": "2025-01-29T03:44:31.907691Z"
    }
   },
   "outputs": [
    {
     "name": "stdout",
     "output_type": "stream",
     "text": [
      "Nuclear fusion combines light atomic nuclei, like hydrogen, into heavier ones, like helium.  This process releases immense energy.  It's the power source of stars.  The energy is generated from converting a small amount of mass into energy, as described by Einstein's famous equation, E=mc².  Achieving sustained fusion on Earth is a major scientific and engineering challenge.\n",
      "\n"
     ]
    }
   ],
   "source": [
    "# Gemini models\n",
    "response_l = completion(\n",
    "    model=f\"gemini/gemini-1.5-flash\",\n",
    "    messages=[{\"role\": \"user\", \"content\": prompt}],\n",
    ")\n",
    "print(response_l['choices'][0].message.content)"
   ]
  },
  {
   "cell_type": "code",
   "execution_count": 4,
   "id": "1dddc138-8e61-4a2c-b37e-40bd82132c51",
   "metadata": {
    "execution": {
     "iopub.execute_input": "2025-01-29T03:44:33.053365Z",
     "iopub.status.busy": "2025-01-29T03:44:33.052670Z",
     "iopub.status.idle": "2025-01-29T03:44:33.857454Z",
     "shell.execute_reply": "2025-01-29T03:44:33.855961Z",
     "shell.execute_reply.started": "2025-01-29T03:44:33.053311Z"
    }
   },
   "outputs": [
    {
     "name": "stdout",
     "output_type": "stream",
     "text": [
      "Here is a brief explanation of nuclear fusion:\n",
      "\n",
      "Nuclear fusion is the process by which atomic nuclei combine to form a heavier nucleus, releasing vast amounts of energy in the process. This is the same process that powers the sun and other stars. When nuclei fuse, they release energy because the resulting nucleus has a lower mass than the original nuclei, and this mass difference is converted into energy according to Einstein's famous equation, E=mc². The most commonly discussed fusion reaction is the deuterium-tritium (D-T) reaction, which involves the combination of two forms of hydrogen. If harnessed, nuclear fusion has the potential to provide a nearly limitless, clean, and sustainable source of energy.\n"
     ]
    }
   ],
   "source": [
    "# Groq models\n",
    "response_l = completion(\n",
    "    model=f\"groq/llama3-70b-8192\",\n",
    "    messages=[{\"role\": \"user\", \"content\": prompt}],\n",
    ")\n",
    "print(response_l['choices'][0].message.content)"
   ]
  },
  {
   "cell_type": "code",
   "execution_count": 5,
   "id": "9cdccf07-775b-43c9-98b5-3c78a4044cdf",
   "metadata": {
    "execution": {
     "iopub.execute_input": "2025-01-29T03:44:33.858571Z",
     "iopub.status.busy": "2025-01-29T03:44:33.858334Z",
     "iopub.status.idle": "2025-01-29T03:44:36.692429Z",
     "shell.execute_reply": "2025-01-29T03:44:36.690874Z",
     "shell.execute_reply.started": "2025-01-29T03:44:33.858547Z"
    }
   },
   "outputs": [
    {
     "name": "stdout",
     "output_type": "stream",
     "text": [
      "Nuclear fusion is a process where atomic nuclei combine to form heavier nuclei, releasing a tremendous amount of energy. This is the same process that powers stars, including our Sun. For fusion to occur, extremely high temperatures and pressures are required to overcome the repulsive forces between the positively charged nuclei. The most promising fusion reaction for energy production is the combination of hydrogen isotopes, namely deuterium and tritium, to form helium and a neutron. Achieving controlled, sustainable fusion reactions is a major goal of scientific research, as it has the potential to provide nearly limitless, clean energy.\n"
     ]
    }
   ],
   "source": [
    "# Mistral models\n",
    "response_l = completion(\n",
    "    model=f\"mistral/mistral-large-2411\",\n",
    "    messages=[{\"role\": \"user\", \"content\": prompt}],\n",
    ")\n",
    "print(response_l['choices'][0].message.content)"
   ]
  },
  {
   "cell_type": "code",
   "execution_count": 6,
   "id": "d8dc1b0a-474a-4a73-837d-be6e704e11d6",
   "metadata": {
    "execution": {
     "iopub.execute_input": "2025-01-29T03:44:36.694148Z",
     "iopub.status.busy": "2025-01-29T03:44:36.693739Z",
     "iopub.status.idle": "2025-01-29T03:45:19.594179Z",
     "shell.execute_reply": "2025-01-29T03:45:19.592879Z",
     "shell.execute_reply.started": "2025-01-29T03:44:36.694119Z"
    }
   },
   "outputs": [
    {
     "name": "stdout",
     "output_type": "stream",
     "text": [
      "Nuclear fusion is a process where lighter atomic nuclei combine under extreme heat and pressure to form a heavier nucleus, releasing vast energy. Overcoming the repulsion between positively charged nuclei requires high temperatures (millions of degrees) and pressure, as found in stellar cores. The mass lost during the reaction converts to energy via Einstein’s \\( E=mc^2 \\). This powers stars like the Sun, where hydrogen fuses into helium. On Earth, researchers aim to replicate fusion as a sustainable, clean energy source, though maintaining stable reactions remains a challenge.\n"
     ]
    }
   ],
   "source": [
    "# OpenRouter models\n",
    "response_l = completion(\n",
    "    model=f\"openrouter/deepseek/deepseek-r1:free\",\n",
    "    messages=[{\"role\": \"user\", \"content\": prompt}],\n",
    ")\n",
    "print(response_l['choices'][0].message.content)"
   ]
  },
  {
   "cell_type": "markdown",
   "id": "ce21dba7-d218-4131-a014-49892a9af702",
   "metadata": {},
   "source": [
    "# Compare Gemini and Groq models"
   ]
  },
  {
   "cell_type": "markdown",
   "id": "95993511-577f-4132-abda-1a21be446986",
   "metadata": {},
   "source": [
    "## Gemini"
   ]
  },
  {
   "cell_type": "code",
   "execution_count": 2,
   "id": "31e8545f-28c4-4e8c-a009-1476b7e480c0",
   "metadata": {
    "execution": {
     "iopub.execute_input": "2025-01-29T02:42:10.718515Z",
     "iopub.status.busy": "2025-01-29T02:42:10.718134Z",
     "iopub.status.idle": "2025-01-29T02:42:13.587027Z",
     "shell.execute_reply": "2025-01-29T02:42:13.586251Z",
     "shell.execute_reply.started": "2025-01-29T02:42:10.718464Z"
    }
   },
   "outputs": [
    {
     "name": "stderr",
     "output_type": "stream",
     "text": [
      "/usr/local/lib/python3.11/site-packages/pydantic/_internal/_config.py:345: UserWarning: Valid config keys have changed in V2:\n",
      "* 'fields' has been removed\n",
      "  warnings.warn(message, UserWarning)\n"
     ]
    }
   ],
   "source": [
    "import os\n",
    "import google.generativeai as genai\n",
    "from groq import Groq\n",
    "\n",
    "\n",
    "genai.configure(api_key=os.environ.get(\"GEMINI_API_KEY\"))\n",
    "client = Groq(api_key=os.environ.get(\"GROQ_API_KEY\"))"
   ]
  },
  {
   "cell_type": "code",
   "execution_count": 46,
   "id": "7b96bfb0-a3f4-447e-a5d9-c7b75ab23f6b",
   "metadata": {
    "execution": {
     "iopub.execute_input": "2025-01-28T20:59:57.152219Z",
     "iopub.status.busy": "2025-01-28T20:59:57.151832Z",
     "iopub.status.idle": "2025-01-28T20:59:57.158810Z",
     "shell.execute_reply": "2025-01-28T20:59:57.157196Z",
     "shell.execute_reply.started": "2025-01-28T20:59:57.152191Z"
    }
   },
   "outputs": [],
   "source": [
    "model_name = \"gemini-1.5-flash\"\n",
    "param = {\"temperature\": 0.0, \"top_p\": 0.1}\n",
    "prompt = \"Describe OpenAI in a few sentences.\""
   ]
  },
  {
   "cell_type": "code",
   "execution_count": 47,
   "id": "2be53e0a-e5b4-414d-beb7-b94bb9ee0078",
   "metadata": {
    "execution": {
     "iopub.execute_input": "2025-01-28T20:59:57.859923Z",
     "iopub.status.busy": "2025-01-28T20:59:57.859328Z",
     "iopub.status.idle": "2025-01-28T20:59:58.626254Z",
     "shell.execute_reply": "2025-01-28T20:59:58.624962Z",
     "shell.execute_reply.started": "2025-01-28T20:59:57.859897Z"
    }
   },
   "outputs": [
    {
     "data": {
      "text/plain": [
       "'OpenAI is a leading artificial intelligence research company that develops and promotes friendly AI.  They create cutting-edge models like GPT, DALL-E, and others,  available through APIs and research publications, aiming to benefit humanity.  Their mission is to ensure that artificial general intelligence (AGI) benefits all of humankind.\\n'"
      ]
     },
     "execution_count": 47,
     "metadata": {},
     "output_type": "execute_result"
    }
   ],
   "source": [
    "model = genai.GenerativeModel(model_name)\n",
    "response_g = model.generate_content(\n",
    "    prompt,\n",
    "    generation_config = genai.GenerationConfig(**param)\n",
    ")\n",
    "response_g.text"
   ]
  },
  {
   "cell_type": "code",
   "execution_count": 48,
   "id": "2e492321-bf28-46a9-9297-2db44bded706",
   "metadata": {
    "execution": {
     "iopub.execute_input": "2025-01-28T20:59:58.630575Z",
     "iopub.status.busy": "2025-01-28T20:59:58.629294Z",
     "iopub.status.idle": "2025-01-28T20:59:59.552332Z",
     "shell.execute_reply": "2025-01-28T20:59:59.551195Z",
     "shell.execute_reply.started": "2025-01-28T20:59:58.630528Z"
    }
   },
   "outputs": [
    {
     "data": {
      "text/plain": [
       "'OpenAI is a leading artificial intelligence research company that develops and promotes friendly AI.  They create cutting-edge models like GPT, DALL-E, and others,  available through APIs and research publications, aiming to benefit humanity.  Their mission is to ensure that artificial general intelligence (AGI) benefits all of humankind.\\n'"
      ]
     },
     "execution_count": 48,
     "metadata": {},
     "output_type": "execute_result"
    }
   ],
   "source": [
    "# https://docs.litellm.ai/docs/providers/gemini\n",
    "response_l = completion(\n",
    "    model=f\"gemini/{model_name}\",\n",
    "    messages=[{\"role\": \"user\", \"content\": prompt}],\n",
    "    **param\n",
    ")\n",
    "response_l['choices'][0].message.content"
   ]
  },
  {
   "cell_type": "markdown",
   "id": "837ea8bc-dc58-4fcb-af05-0960f696b203",
   "metadata": {
    "jp-MarkdownHeadingCollapsed": true
   },
   "source": [
    "### Check reproducibility in the case temperature=0.0 and top_p < 1.0\n",
    "In the case top_p = 1.0, I would still get some stochasticity, probably since temperature=0.0 is approximated algorithmically (using eps)"
   ]
  },
  {
   "cell_type": "code",
   "execution_count": 36,
   "id": "a1d2e76f-6035-4fee-a34d-4d02035f93e8",
   "metadata": {
    "execution": {
     "iopub.execute_input": "2025-01-28T20:53:37.955872Z",
     "iopub.status.busy": "2025-01-28T20:53:37.955465Z",
     "iopub.status.idle": "2025-01-28T20:53:38.837304Z",
     "shell.execute_reply": "2025-01-28T20:53:38.835959Z",
     "shell.execute_reply.started": "2025-01-28T20:53:37.955841Z"
    }
   },
   "outputs": [
    {
     "data": {
      "text/plain": [
       "'OpenAI is a leading artificial intelligence research company that develops and promotes friendly AI.  They create cutting-edge models like GPT, DALL-E, and others,  available through APIs and research publications, aiming to benefit humanity.  Their mission is to ensure that artificial general intelligence (AGI) benefits all of humankind.\\n'"
      ]
     },
     "execution_count": 36,
     "metadata": {},
     "output_type": "execute_result"
    }
   ],
   "source": [
    "model = genai.GenerativeModel(model_name)\n",
    "response_g = model.generate_content(\n",
    "    prompt,\n",
    "    generation_config = genai.GenerationConfig(**param)\n",
    ")\n",
    "response_g.text"
   ]
  },
  {
   "cell_type": "code",
   "execution_count": 37,
   "id": "a1c79a17-1e4a-45df-a65f-599da71c07b9",
   "metadata": {
    "execution": {
     "iopub.execute_input": "2025-01-28T20:53:39.587496Z",
     "iopub.status.busy": "2025-01-28T20:53:39.587117Z",
     "iopub.status.idle": "2025-01-28T20:53:40.349271Z",
     "shell.execute_reply": "2025-01-28T20:53:40.347870Z",
     "shell.execute_reply.started": "2025-01-28T20:53:39.587468Z"
    }
   },
   "outputs": [
    {
     "data": {
      "text/plain": [
       "'OpenAI is a leading artificial intelligence research company that develops and promotes friendly AI.  They create cutting-edge models like GPT, DALL-E, and others,  available through APIs and research publications, aiming to benefit humanity.  Their mission is to ensure that artificial general intelligence (AGI) benefits all of humankind.\\n'"
      ]
     },
     "execution_count": 37,
     "metadata": {},
     "output_type": "execute_result"
    }
   ],
   "source": [
    "model = genai.GenerativeModel(model_name)\n",
    "response_g = model.generate_content(\n",
    "    prompt,\n",
    "    generation_config = genai.GenerationConfig(**param)\n",
    ")\n",
    "response_g.text"
   ]
  },
  {
   "cell_type": "code",
   "execution_count": 38,
   "id": "6b7272d8-7d12-47f5-bc70-3bfc698766a5",
   "metadata": {
    "execution": {
     "iopub.execute_input": "2025-01-28T20:53:40.941653Z",
     "iopub.status.busy": "2025-01-28T20:53:40.941148Z",
     "iopub.status.idle": "2025-01-28T20:53:41.791465Z",
     "shell.execute_reply": "2025-01-28T20:53:41.789924Z",
     "shell.execute_reply.started": "2025-01-28T20:53:40.941623Z"
    }
   },
   "outputs": [
    {
     "data": {
      "text/plain": [
       "'OpenAI is a leading artificial intelligence research company that develops and promotes friendly AI.  They create cutting-edge models like GPT, DALL-E, and others,  available through APIs and research publications, aiming to benefit humanity.  Their mission is to ensure that artificial general intelligence (AGI) benefits all of humankind.\\n'"
      ]
     },
     "execution_count": 38,
     "metadata": {},
     "output_type": "execute_result"
    }
   ],
   "source": [
    "response_l = completion(\n",
    "    model=f\"gemini/{model_name}\",\n",
    "    messages=[{\"role\": \"user\", \"content\": prompt}],\n",
    "    **param\n",
    ")\n",
    "response_l['choices'][0].message.content"
   ]
  },
  {
   "cell_type": "markdown",
   "id": "d5a329a4-ae1f-4b97-8987-2712976bafb6",
   "metadata": {},
   "source": [
    "## Compare Groq"
   ]
  },
  {
   "cell_type": "code",
   "execution_count": 49,
   "id": "47305b29-b45e-4181-b9b4-9581b878a088",
   "metadata": {
    "execution": {
     "iopub.execute_input": "2025-01-28T21:00:27.516968Z",
     "iopub.status.busy": "2025-01-28T21:00:27.516558Z",
     "iopub.status.idle": "2025-01-28T21:00:27.524554Z",
     "shell.execute_reply": "2025-01-28T21:00:27.523009Z",
     "shell.execute_reply.started": "2025-01-28T21:00:27.516939Z"
    }
   },
   "outputs": [],
   "source": [
    "model_name = \"llama-3.3-70b-versatile\"\n",
    "param = {\"temperature\": 0.0, \"top_p\": 0.1}\n",
    "prompt = \"Describe OpenAI in a few sentences.\""
   ]
  },
  {
   "cell_type": "code",
   "execution_count": 50,
   "id": "a035767f-fe04-4414-8b5e-9933d86287f6",
   "metadata": {
    "execution": {
     "iopub.execute_input": "2025-01-28T21:00:27.875371Z",
     "iopub.status.busy": "2025-01-28T21:00:27.875073Z",
     "iopub.status.idle": "2025-01-28T21:00:28.686141Z",
     "shell.execute_reply": "2025-01-28T21:00:28.684826Z",
     "shell.execute_reply.started": "2025-01-28T21:00:27.875346Z"
    }
   },
   "outputs": [
    {
     "name": "stdout",
     "output_type": "stream",
     "text": [
      "OpenAI is a leading artificial intelligence research organization that aims to develop and promote friendly AI that benefits humanity. Founded in 2015, OpenAI is known for its cutting-edge AI models, including language models like GPT-3 and DALL-E, which have achieved state-of-the-art results in various AI tasks. The organization is committed to transparency, open-source development, and responsible AI practices, and its research and technologies have far-reaching implications for fields such as natural language processing, computer vision, and robotics.\n"
     ]
    }
   ],
   "source": [
    "chat_completion = client.chat.completions.create(\n",
    "    messages=[{\"role\": \"user\", \"content\": prompt,}],\n",
    "    model=model_name,\n",
    "    **param\n",
    ")\n",
    "print(chat_completion.choices[0].message.content)"
   ]
  },
  {
   "cell_type": "code",
   "execution_count": 51,
   "id": "f18051be-6b7c-4d85-b11d-4b08fc78715f",
   "metadata": {
    "execution": {
     "iopub.execute_input": "2025-01-28T21:00:28.688517Z",
     "iopub.status.busy": "2025-01-28T21:00:28.688096Z",
     "iopub.status.idle": "2025-01-28T21:00:29.556525Z",
     "shell.execute_reply": "2025-01-28T21:00:29.555822Z",
     "shell.execute_reply.started": "2025-01-28T21:00:28.688490Z"
    }
   },
   "outputs": [
    {
     "data": {
      "text/plain": [
       "'OpenAI is a leading artificial intelligence research organization that aims to develop and promote friendly AI that benefits humanity. Founded in 2015, OpenAI is known for its cutting-edge AI models, including language models like GPT-3 and DALL-E, which have achieved state-of-the-art results in various AI tasks. The organization is committed to transparency, open-source development, and responsible AI practices, and its research and technologies have far-reaching implications for fields such as natural language processing, computer vision, and robotics.'"
      ]
     },
     "execution_count": 51,
     "metadata": {},
     "output_type": "execute_result"
    }
   ],
   "source": [
    "# https://docs.litellm.ai/docs/providers/groq\n",
    "response_l = completion(\n",
    "    model=f\"groq/{model_name}\",\n",
    "    messages=[{\"role\": \"user\", \"content\": prompt}],\n",
    "    **param\n",
    ")\n",
    "response_l['choices'][0].message.content"
   ]
  },
  {
   "cell_type": "code",
   "execution_count": null,
   "id": "b618955e-48ae-4f7c-8900-ca6d65fc79ca",
   "metadata": {},
   "outputs": [],
   "source": []
  },
  {
   "cell_type": "code",
   "execution_count": null,
   "id": "6f87a7bf-e71d-43bb-bf78-1778ece36acf",
   "metadata": {},
   "outputs": [],
   "source": []
  }
 ],
 "metadata": {
  "kernelspec": {
   "display_name": "Python 3 (ipykernel)",
   "language": "python",
   "name": "python3"
  },
  "language_info": {
   "codemirror_mode": {
    "name": "ipython",
    "version": 3
   },
   "file_extension": ".py",
   "mimetype": "text/x-python",
   "name": "python",
   "nbconvert_exporter": "python",
   "pygments_lexer": "ipython3",
   "version": "3.11.11"
  }
 },
 "nbformat": 4,
 "nbformat_minor": 5
}
