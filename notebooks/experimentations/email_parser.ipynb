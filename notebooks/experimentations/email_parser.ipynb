{
 "cells": [
  {
   "cell_type": "code",
   "execution_count": 1,
   "id": "7a70f2a9-719c-45a8-9df9-043eb3cf9cb3",
   "metadata": {
    "execution": {
     "iopub.execute_input": "2025-03-27T21:39:38.038572Z",
     "iopub.status.busy": "2025-03-27T21:39:38.038075Z",
     "iopub.status.idle": "2025-03-27T21:39:40.039441Z",
     "shell.execute_reply": "2025-03-27T21:39:40.038775Z",
     "shell.execute_reply.started": "2025-03-27T21:39:38.038535Z"
    }
   },
   "outputs": [],
   "source": [
    "from src.gmail import Gmail\n",
    "from src.newsletters.config import NEWSLETTER_AND_PARSER\n",
    "from src.newsletters.parser.tldr import tldr_parser\n",
    "from src.newsletters.parser.alpha_signal import alpha_signal_parser\n",
    "from src.newsletters.parser.bloomberg_tech import bloomberg_tech_parser\n",
    "from src.newsletters.parser.tech_crunch import tech_crunch_parser\n",
    "from src.config import SCOPES\n",
    "from src.newsletters.parser.process_links import process_raw_url\n",
    "\n",
    "import re"
   ]
  },
  {
   "cell_type": "code",
   "execution_count": 2,
   "id": "348555ad-1e0e-4b8e-8e34-e3054add7402",
   "metadata": {
    "execution": {
     "iopub.execute_input": "2025-03-27T21:39:40.041419Z",
     "iopub.status.busy": "2025-03-27T21:39:40.040193Z",
     "iopub.status.idle": "2025-03-27T21:39:40.046037Z",
     "shell.execute_reply": "2025-03-27T21:39:40.045121Z",
     "shell.execute_reply.started": "2025-03-27T21:39:40.041380Z"
    }
   },
   "outputs": [],
   "source": [
    "import logging\n",
    "logging.basicConfig(\n",
    "    level=logging.ERROR,\n",
    "    format=\"%(asctime)s - %(name)s - %(levelname)s -- l.%(lineno)d: %(message)s\",\n",
    ")"
   ]
  },
  {
   "cell_type": "code",
   "execution_count": 3,
   "id": "d6024b25-c28e-480f-8297-0c6f43361e99",
   "metadata": {
    "execution": {
     "iopub.execute_input": "2025-03-27T21:39:40.056269Z",
     "iopub.status.busy": "2025-03-27T21:39:40.054408Z",
     "iopub.status.idle": "2025-03-27T21:39:40.072347Z",
     "shell.execute_reply": "2025-03-27T21:39:40.070526Z",
     "shell.execute_reply.started": "2025-03-27T21:39:40.056235Z"
    }
   },
   "outputs": [
    {
     "data": {
      "text/plain": [
       "dict_keys(['TLDR AI <dan@tldrnewsletter.com>', 'AlphaSignal <news@alphasignal.ai>', 'TLDR <dan@tldrnewsletter.com>', 'TLDR Product <dan@tldrnewsletter.com>', 'Bloomberg Technology <noreply@news.bloomberg.com>', 'TechCrunch <newsletters@techcrunch.com>'])"
      ]
     },
     "execution_count": 3,
     "metadata": {},
     "output_type": "execute_result"
    }
   ],
   "source": [
    "NEWSLETTER_AND_PARSER.keys()"
   ]
  },
  {
   "cell_type": "code",
   "execution_count": 4,
   "id": "93ef2c90-9422-44da-840d-f51dc7522f28",
   "metadata": {
    "execution": {
     "iopub.execute_input": "2025-03-27T21:39:40.073736Z",
     "iopub.status.busy": "2025-03-27T21:39:40.073214Z",
     "iopub.status.idle": "2025-03-27T21:39:40.089787Z",
     "shell.execute_reply": "2025-03-27T21:39:40.088909Z",
     "shell.execute_reply.started": "2025-03-27T21:39:40.073709Z"
    }
   },
   "outputs": [],
   "source": [
    "gmail = Gmail(\n",
    "    path_to_token=\"/home/secrets_vault/token.json\",\n",
    "    path_to_credentials=\"/home/secrets_vault/credentials.json\",\n",
    "    scopes=SCOPES\n",
    ")"
   ]
  },
  {
   "cell_type": "markdown",
   "id": "d8b54d36-58ee-4b86-a140-9981dd06d5e3",
   "metadata": {
    "jp-MarkdownHeadingCollapsed": true
   },
   "source": [
    "# TechCrunch"
   ]
  },
  {
   "cell_type": "code",
   "execution_count": 6,
   "id": "3c5461fd-af83-488e-95e4-d4303cfd0939",
   "metadata": {
    "execution": {
     "iopub.execute_input": "2025-03-27T21:31:51.985996Z",
     "iopub.status.busy": "2025-03-27T21:31:51.984667Z",
     "iopub.status.idle": "2025-03-27T21:31:52.203559Z",
     "shell.execute_reply": "2025-03-27T21:31:52.202561Z",
     "shell.execute_reply.started": "2025-03-27T21:31:51.985964Z"
    }
   },
   "outputs": [
    {
     "data": {
      "text/plain": [
       "1"
      ]
     },
     "execution_count": 6,
     "metadata": {},
     "output_type": "execute_result"
    }
   ],
   "source": [
    "emails = gmail.fetch_emails(sender='TechCrunch <newsletters@techcrunch.com>', after='2025-02-07', before='2025-02-07')\n",
    "len(emails)"
   ]
  },
  {
   "cell_type": "code",
   "execution_count": 7,
   "id": "ddc6b7ef-2a3c-43f3-b75c-9eedbbbb2f19",
   "metadata": {
    "execution": {
     "iopub.execute_input": "2025-03-27T21:31:56.825869Z",
     "iopub.status.busy": "2025-03-27T21:31:56.825390Z",
     "iopub.status.idle": "2025-03-27T21:31:58.597039Z",
     "shell.execute_reply": "2025-03-27T21:31:58.595941Z",
     "shell.execute_reply.started": "2025-03-27T21:31:56.825842Z"
    },
    "scrolled": true
   },
   "outputs": [],
   "source": [
    "news_sources = tech_crunch_parser(emails[0])"
   ]
  },
  {
   "cell_type": "code",
   "execution_count": 8,
   "id": "c99f0275-1c9e-4510-be47-326b96929b37",
   "metadata": {
    "execution": {
     "iopub.execute_input": "2025-03-27T21:32:00.357649Z",
     "iopub.status.busy": "2025-03-27T21:32:00.357246Z",
     "iopub.status.idle": "2025-03-27T21:32:00.370203Z",
     "shell.execute_reply": "2025-03-27T21:32:00.368897Z",
     "shell.execute_reply.started": "2025-03-27T21:32:00.357621Z"
    },
    "scrolled": true
   },
   "outputs": [
    {
     "data": {
      "text/plain": [
       "[{'title': 'Joining forces',\n",
       "  'url': 'https://email.techcrunch.com/e3t/Ctc/ZX+113/d5b44W04/VWk1PJ7_QZRGW2G7P1p8PzjY1W7FnbcL5rMzw3N7Rflzb3gP0xW95jsWP6lZ3ljN2w796N2Gl1vVT5_N86hKmMzW5ZWwCk89FtJfW2q9sGS1RRlzVW3LWWXb37n8t9W4VsSrD4lk4w6W2jPfh85sD2t8W5_nWgv50fNb2V7z9ms6rnxtCW8srTmc4QpWXMW4T6h7t3dtnwMW6Z89TC7rVqprW58CVcH7Y288FW51PVXd5zYJQ0V48cZF5dFSsgVxzWjM8655k8W7CvW0b80s7GJW7nrZCH7tLMxyW5gjnzT3kgwbvW7Jbfr12HsnsXW7x7t7G2N8hpGW1XGq-j8pRXT7W2LCG8V52S0y6W6XMc_12lclbqW1-d_Bf47vhqDW8Q6hnh2Kx73fW582wP_52LL7BW89RPqn50dT5kMfhb-bGBv8nW7phv2061mWwGf1pDK_Y04 ',\n",
       "  'news_provider': 'techcrunch.com',\n",
       "  'source_of_the_news': 'TechCrunch <newsletters@techcrunch.com>',\n",
       "  'text': '',\n",
       "  'news_summary': 'Following a similar partnership with Aurora Innovation, Volvo Autonomous Solutions partnered with self-driving truck startup Waabi  to jointly develop and deploy autonomous trucks. Commercial pilots are set to launch in Texas soon, with a driverless demonstration on public roads planned for the end of the year.',\n",
       "  'date_source': 'Fri, 7 Feb 2025 08:00:52 -0800',\n",
       "  'date_source_time_zone': 'utc'},\n",
       " {'title': 'Space Startups Merge to Build Next-Gen Telescopes',\n",
       "  'url': 'https://email.techcrunch.com/e3t/Ctc/ZX+113/d5b44W04/VWk1PJ7_QZRGW2G7P1p8PzjY1W7FnbcL5rMzw3N7Rflx65fkwKW50kH_H6lZ3nVW6xg2lJ4tPPqTW4WghVR33Sfn_W6bj57n1byzf7W6GhFLn2x26DHW1hC-2M37KtPdW5hF75p6x6Dw-W34j3sF1BqsW2N1H_TTs67QxYV1tRbJ1w75S8W1zwHQN2bwkS_Vq4m911Fl8yBW7HczmH4fcD1pW6dTHcz4zgg89W1cgSGP4R6pfZW9kGF3k81Vh21W35fqtq6PkFRbW31SXtL6pCjsNW6qYQhZ53gCtZW3lYt7F51Gh8HW8dPVYg24kvXhW2RfyrR8mcgGmW8YC7yP1JGXb_W7jQ52j2-rsSVW59xyvP1q9NJ5VbVNjv6_Lg4NW2H2lwT7DvpBpW523rxm6pKRcWW28mKBm72vZk1W8vgKcq5VlvjmVpr3GZ97vyzmW8nRs-B3DQb9NW56yhWS3BnXMZf34X63g04 ',\n",
       "  'news_provider': 'techcrunch.com',\n",
       "  'source_of_the_news': 'TechCrunch <newsletters@techcrunch.com>',\n",
       "  'text': '',\n",
       "  'news_summary': 'And space startups OurSky and PlaneWave merged to create Observable Space  , a new company that aims to create the next generation of telescopes.',\n",
       "  'date_source': 'Fri, 7 Feb 2025 08:00:52 -0800',\n",
       "  'date_source_time_zone': 'utc'},\n",
       " {'title': 'Going solo',\n",
       "  'url': 'https://email.techcrunch.com/e3t/Ctc/ZX+113/d5b44W04/VWk1PJ7_QZRGW2G7P1p8PzjY1W7FnbcL5rMzw3N7RflyW3gP0xW8wLKSR6lZ3kLW2NY-L741Dc-YW3Yznr34KGGqRW6mDlYP2992lwW8lGBMX37lvL8W35MRV44mYmyBW3bY14W9lyCR1W5yF8gw431ZRVW5RRjm-2YFk8QW5XflrK2X3mBxW97kWn26qtbP3W4KjC561Kt6mmVtSfVv6338gkN7h-4tbpGVpjW8xJj0-5QC3GDW1m70ZK94fwMKW4-n3gG4VPSYzW8Z1D9y1QmQHCW79thNX1c6-p6W8M1lHJ2DK2XtW6z7yDl9lD79tW2F6NXR8xhQY_VHN_0k20WrgMVpfw7v2vNkDRW3R1m367wFBZXW78JCZf79PLFpW8Q9q9L1pLSk9W3_fJlz55HV_VW28D85F66dzwJf3scgZz04 ',\n",
       "  'news_provider': 'techcrunch.com',\n",
       "  'source_of_the_news': 'TechCrunch <newsletters@techcrunch.com>',\n",
       "  'text': '',\n",
       "  'news_summary': 'Robotics company Figure AI exited its deal with OpenAI  , choosing instead to focus on in-house AI owing to a “major breakthrough.” The startup is developing a general-purpose humanoid robot for commercial and residential use.',\n",
       "  'date_source': 'Fri, 7 Feb 2025 08:00:52 -0800',\n",
       "  'date_source_time_zone': 'utc'},\n",
       " {'title': \"Google's X Launches Heritable Agriculture Startup to Boost Crop Yields\",\n",
       "  'url': 'https://email.techcrunch.com/e3t/Ctc/ZX+113/d5b44W04/VWk1PJ7_QZRGW2G7P1p8PzjY1W7FnbcL5rMzw3N7Rflx65fkwKW50kH_H6lZ3mbW1rjV7H7nX4fbW5DYCD592vtDWW4Xt1R_8FgwSGW8l-qBH2ytvqSN5mCyMqfkY5XTsx1J8KbY_TW7SsGG42bJX33W78w5GS71MJ4_W8Lt_xR79Wy8ZW2mtf-t2WZ3Q6W31Dfjs5td679W7bN_qW3jt5NZVNXxF33CjCvTVX9hJ07yNcYfW1dj5Cn3yrRstW4KrLv_2M2DfDW1lR5DN7C_Yw3V-7WwV6n7GD2W25HkqS4dKdKkW1Kx2gb2flGN4W4nGZLN1lj5qMW5MYyrl32TY12Vm9X_694kTS1W4-6SKy6l2Ng-N3rtbCR10_fGW7x4HpQ4XNmScW5l5Tpd981d23W4BM-WC6_ng3fVfRbk98H-lZWW7rfF1M6Pp6drW7PZP2X4bBbn6V6k7BY73BfL2f4jrz7K04 ',\n",
       "  'news_provider': 'techcrunch.com',\n",
       "  'source_of_the_news': 'TechCrunch <newsletters@techcrunch.com>',\n",
       "  'text': '',\n",
       "  'news_summary': 'And Google’s X spun out Heritable Agriculture  , a startup using AI to improve crop yield. The “moonshot factory” has been spinning off several ventures under the leadership of Astro Teller.',\n",
       "  'date_source': 'Fri, 7 Feb 2025 08:00:52 -0800',\n",
       "  'date_source_time_zone': 'utc'},\n",
       " {'title': 'Takeover',\n",
       "  'url': 'https://email.techcrunch.com/e3t/Ctc/ZX+113/d5b44W04/VWk1PJ7_QZRGW2G7P1p8PzjY1W7FnbcL5rMzw3N7Rflx65fkwKW50kH_H6lZ3llW7lN3r01jqjKyW5S-HYJ8b1Z3LW6Vc1mc3Np_rJW8xZNk42-fhglW2v3HQN4ccJHzW5-q-bc8J7ynDMYvWcwg8_zBW2lFBDz2PdX8zW9dX1hL9kZhSvN7TlqFt7td7_W1DtSh83nYrPZW2P-3Fx9kvZfVW43FHXy6HX8SxW7QwwBf2L4QJTW8YDCRd3kVv-LN60B7zWtqbB7W9gt_xM1NvfPDW57b-0-7xYkfGW3Gp8Tb1sCV6vW3zljQ74mNs7qVGydD92TM_3CW3FvrVT9hqFXdVMV0rK26l2JXW4wp_h23wsdpmW7332wv2VfTy9W8tBbMb6gjyl4VgGdFB3XTqFxV64WrX15ZYtBW6VXybt1r4_T5W2tZw0R8ZmbPRW3zlNdB8PJzGJW2-ntMs6W7DZpdJL89204 ',\n",
       "  'news_provider': 'techcrunch.com',\n",
       "  'source_of_the_news': 'TechCrunch <newsletters@techcrunch.com>',\n",
       "  'text': '',\n",
       "  'news_summary': 'XOi, a startup that builds software for maintenance people, acquired competitor Specifx  to expand its datasets on repairs. The acquisition was made for an undisclosed sum and funded by a $230 million round that the company also announced this week.',\n",
       "  'date_source': 'Fri, 7 Feb 2025 08:00:52 -0800',\n",
       "  'date_source_time_zone': 'utc'},\n",
       " {'title': 'High burn',\n",
       "  'url': 'https://email.techcrunch.com/e3t/Ctc/ZX+113/d5b44W04/VWk1PJ7_QZRGW2G7P1p8PzjY1W7FnbcL5rMzw3N7RflyW3gP0xW8wLKSR6lZ3kZW6MR3Xh7Dn0X9W46tTps6VMq0xW6Qg9wh3rF9KyN5vp-GNpKsGTW75w4H84C76TrW1Zmvrn1Qg7b2W2JDfTv50N5WLW2MMD-z5WWV4KW3l2JY66PG-JWW3bm6qD3dV9YZW3hr_Nj7K4-ZDW1TCw9Q8QcmHmW6h_g_825KnKyW3x227N4bkpkbW9dFWNK6FbDmVW3mS4Zw4qhs_pW1n34kB3skKS_W8LDRMw4ZVyF-N3snxY-Ndm8gW1R-2LJ3DqL9ZW1LKgjK8kD746W3zLX9j5bHdVbW8vFmM31YcBYfW2HPBd57tfkF_VY_38k7PG-MJW5HCvn12HpnhFN7j-WSPMvQTHN8Ws4ng8wC5Tf98f1v804 ',\n",
       "  'news_provider': 'techcrunch.com',\n",
       "  'source_of_the_news': 'TechCrunch <newsletters@techcrunch.com>',\n",
       "  'text': '',\n",
       "  'news_summary': 'Failed Canada-based accounting startup Bench burned through $135 million  over the years before filing for bankruptcy, records revealed.',\n",
       "  'date_source': 'Fri, 7 Feb 2025 08:00:52 -0800',\n",
       "  'date_source_time_zone': 'utc'},\n",
       " {'title': 'IPOs ahead',\n",
       "  'url': ['https://email.techcrunch.com/e3t/Ctc/ZX+113/d5b44W04/VWk1PJ7_QZRGW2G7P1p8PzjY1W7FnbcL5rMzw3N7Rflzb3gP0xW95jsWP6lZ3lgW3rm8fc8Ysnw9W5qgpLL1z7VyjW1YK9Rt4HRHLKW3kB4B78mBvX0VhQLhs2MWBn5W7rs52T3BWJ4_W7Fhtn64npQWtW8VghwZ6dfQFNW3Hbg286qlT1tW6vVxFd5T9SgSW59_Q5q6CkkTMW6vht7c8nVC68M1D0hbWCr-bVJ0gGP5qdRt9W5wnRs14kWLCxVzXBr24SnsQwW2wK7K-2MNFtyW6KvdLs8jf4tqN1W6VcTwSKF5W1KPM4T26vNL2W5hHwq27mtz3GVFDpkM8mrTQYW118D6p86B5d7W5QTXhv5ZbWPTW7sqdCm8C2ZJtW5gDR0Z2zfSX_W4CYtW26gN9qqW5n95LX6v7b1KN6r_jC6ZgthcW5DrW085D0ccLd_vvgH04 ',\n",
       "   'https://email.techcrunch.com/e3t/Ctc/ZX+113/d5b44W04/VWk1PJ7_QZRGW2G7P1p8PzjY1W7FnbcL5rMzw3N7Rflx65fkwKW50kH_H6lZ3mcW7T3lbY777YLyW4D8NCq1ql7P3N6gtqlCt9tZjW2sVly611m88mW4-xBV84FSKlbVDhxSP7pWgGYW4W-9ZS6gg-YjW8BXr0m6_yYXXW3hK4Q-1_q55JW6gmQ7B5z4qjpN1P1ld5W_scrW3Yq9688xhyHqN7_Kz70l--5SN6jqtKvJhpvDW5q2jt8720t9FW6TTqCm64ZcYwW11Rr1y65ZQhhW8dtJVy7KlsJnW2PYjnD4vW5KCW1xG-Kt3DmjMqN6Ks7pSdP5jcW8mHs2g25RpS8N32F7CGFjN8nW7flkqT3TJfWdW6Gcqv65r9jPBW104h6M2GxkndW2nTsFr4-PZQQW5MGM8j2H2l3HW85xr9v86zXl1W5yzdW-5TYVpbW5rwMdx3zHTb1W8SYN533NQ501f5VlDSz04 '],\n",
       "  'news_provider': 'techcrunch.com',\n",
       "  'source_of_the_news': 'TechCrunch <newsletters@techcrunch.com>',\n",
       "  'text': '',\n",
       "  'news_summary': 'TechCrunch compiled a list of tech companies that could go public this year  , including two space and defense tech startups that filed to go public last month Karman and Voyager Technologies. Deel was not on the list, but a major secondary sale  suggests that the IPO the fintech/HR startup previously teased for “the 2025/2026 time frame” is getting closer.',\n",
       "  'date_source': 'Fri, 7 Feb 2025 08:00:52 -0800',\n",
       "  'date_source_time_zone': 'utc'},\n",
       " {'title': 'Adtech',\n",
       "  'url': 'https://email.techcrunch.com/e3t/Ctc/ZX+113/d5b44W04/VWk1PJ7_QZRGW2G7P1p8PzjY1W7FnbcL5rMzw3N7Rflzb3gP0xW95jsWP6lZ3q7W78fhwY8L9tgtW4qzSgK5tx2fZW8flDhh1wzpKRW7p8Mb6152gtHW5VQswH2CHnV-W6Xw7pR4YPVMLW6yc0Hh6TB4tCW1FFNYj61HwbgW2sB-BP2chHKqW5RpR5w69MwpXW1xKKDb82-8KbW4KgzRd5zxDYJVSd7Gv103PmnW3w3kjd3svVQgW4PGzl11g0qjWW6nH6xX6v6Bs4VpsjwL4bpBJ-W3jhBV82npCM3W1H5try4RGPn3W1l0xhm8wjzLpW96HSd-8068hMV4K-Hb3Vl7MyW7hZnSq5_QFNTW20YDc25zFcmRW4WY5Gl7JvgptN8z2TcSvC2LvW5CKx5V6cttb5W18WShG5v7wvlN8HrbFh7R3kJW3yDrZ152MZHgf6wqwM404 ',\n",
       "  'news_provider': 'techcrunch.com',\n",
       "  'source_of_the_news': 'TechCrunch <newsletters@techcrunch.com>',\n",
       "  'text': '',\n",
       "  'news_summary': 'Canadian programmatic advertising startup StackAdapt raised a $235 million growth funding round  led by Teachers’ Venture Growth (TVG), the investment arm of the Ontario Teachers’ Pension Plan.',\n",
       "  'date_source': 'Fri, 7 Feb 2025 08:00:52 -0800',\n",
       "  'date_source_time_zone': 'utc'},\n",
       " {'title': 'FoF',\n",
       "  'url': 'https://email.techcrunch.com/e3t/Ctc/ZX+113/d5b44W04/VWk1PJ7_QZRGW2G7P1p8PzjY1W7FnbcL5rMzw3N7RflyC3gP0xW7Y8-PT6lZ3mGW5X67427C4mVvVXHczV4VCcFBW5zBCm02gbh3xW8tnTCY4v5rtKW2sf_zB1SSLJnV-bZKW1SPWDjN7l5qSGkxyW8W2rc8h963CVPFN4WkvGP-md3yW7yb3Hf5LZHfbW24mlQ22Qchl-W98Lcd78hRcrNN2NzxFwMm49bW6wrpxS4thFY7W2mqkTx6wGjv6W5SB6ws5dcT2wW4gMzgB1_-s97VVgn7W5HZwnYW5f_j-m9cNLg1W7myqDl1-h3MCW69yrwK9f9TZ8W7q9_ff2-MTytW63L8g74_L8F8W5rD_nf2wN_2cVqnw_51WbK2TN3vN17bz5Fghf3jt-QK04 ',\n",
       "  'news_provider': 'techcrunch.com',\n",
       "  'source_of_the_news': 'TechCrunch <newsletters@techcrunch.com>',\n",
       "  'text': '',\n",
       "  'news_summary': 'India announced a new $1.15 billion fund of funds for startups  as part of its federal budget for 2025-26. The FoF is meant to have an “expanded scope” compared to previous startup funding programs, and New Delhi will explore creating a separate deep tech FoF.',\n",
       "  'date_source': 'Fri, 7 Feb 2025 08:00:52 -0800',\n",
       "  'date_source_time_zone': 'utc'},\n",
       " {'title': 'Indian LLMs',\n",
       "  'url': 'https://email.techcrunch.com/e3t/Ctc/ZX+113/d5b44W04/VWk1PJ7_QZRGW2G7P1p8PzjY1W7FnbcL5rMzw3N7Rflzb3gP0xW95jsWP6lZ3pvV5tP3G86dMzcW6r2cWB1RbMMqVVHWQX59mWwcW19MyXb2QJJy5N443LwLYjWSmW8T3yHx4M5lntW6Vng7-66jjTHW60flMY12nwwPW7rs6Ms1w3JKTW5HJ_ZQ4b430fVgw5-v4z7qXVVYhtR_8VsMZRW3rMngf8TKTQCW2QWJFB7Fqt-nW3gVWXK1LdJf5W4QMKLM3q6b5dW1K9yFw8-HsxqV3p0Gl7xv8fMW5JmfF920M5CCW8wkk_V2yp2w5W47MkR06vg3nZW65S9w32L12kkW7q4ch072BvgtW2VwfgQ53h0cHW2k-KYR1Lc4lXW5zcNHY2CjdbtW1J4sjN5TqSVtW7Kd3nf78JYKJW8K63Hh5TlDVcW3018Hl1lWR8-f1wR3SK04 ',\n",
       "  'news_provider': 'techcrunch.com',\n",
       "  'source_of_the_news': 'TechCrunch <newsletters@techcrunch.com>',\n",
       "  'text': '',\n",
       "  'news_summary': 'Ola billionaire founder Bhavish Aggarwal announced that he would invest $230 million into Krutrim  , the AI startup he created in a push for Indian LLMs.',\n",
       "  'date_source': 'Fri, 7 Feb 2025 08:00:52 -0800',\n",
       "  'date_source_time_zone': 'utc'},\n",
       " {'title': 'Deep tech',\n",
       "  'url': 'https://email.techcrunch.com/e3t/Ctc/ZX+113/d5b44W04/VWk1PJ7_QZRGW2G7P1p8PzjY1W7FnbcL5rMzw3N7Rflx65fkwKW50kH_H6lZ3nRW6CHSxp5nv2fQW6NY1lS8k-yc6W9hWFfq2y2XdSW2Pyty51RFByWW1lf0B33ysmLZW7D-S667jZTmpW34ZD4v5-2xj_W9jcFTT7t9XY-W2_LVy84Sx2WyW6qLqGQ1sjM72W4b24fs3xGLCvW6Vld8X3j9zlRW3HS3TX1QLtnkW6cs4xM9cVbQGW4s7-316H42gJW22m_m_8L1g-TW93k-D475HWWWW588-4Z1_w4L9W8NpdKQ4cs0k1W2HFKFh1-R5MYW7gglc78QNYfVN4Y7-TyBkdb1W32fZWD3dJ_qTVt3lNQ11NCxxW2C12t11YcSg5W9glX8g5g290WW5c3K_M5y7tqFW2zQvHb6TXBxwW72KFNT5_zS9RW4q1KpQ1dM-SsW3B-gJH3VHPPWW7w0hNh3_BbNtf3z2Z8-04 ',\n",
       "  'news_provider': 'techcrunch.com',\n",
       "  'source_of_the_news': 'TechCrunch <newsletters@techcrunch.com>',\n",
       "  'text': '',\n",
       "  'news_summary': 'Munich-based CVC Hitachi Ventures secured $400 million  for its fourth fund, which will keep on targeting Series A investments into deep tech startups, but with 55% of the capital reserved for follow-on investments.',\n",
       "  'date_source': 'Fri, 7 Feb 2025 08:00:52 -0800',\n",
       "  'date_source_time_zone': 'utc'},\n",
       " {'title': 'Ozempic effect',\n",
       "  'url': 'https://email.techcrunch.com/e3t/Ctc/ZX+113/d5b44W04/VWk1PJ7_QZRGW2G7P1p8PzjY1W7FnbcL5rMzw3N7Rflzb3gP0xW95jsWP6lZ3kHW1-1Nng4YVRvsW6YclmJ7HhbZ3VTfNDZ8PJ3KQVrH2hH6vBWY8N1vlffzPC3CjVSkSd37xmwC7W2HyBSX72YN4sW4mwqq-8nWHcBN4cPr8j1QgYGW4gjCkY1Jj6K8W1GkC6k353nqNVZZ0c06dvd-SW3tlsFz8_S8KyW2-R3Nj8DBHjJVK6vcg1Q9JlgW64fKXc22XGy_W94VTCy8LxYW-W5ggf6860qhXWW8h9C0p1Xm7YHW6r56X28jGk1mW95w8B1963QpnW6Cg5P849-ylFW6pmG5t3DDbDmW8SQ5zY2McNqjW1mV8Fh6dHCLtMBdJ-W48KLhN2wnfjVdV2zPW8BZlKY1qCFynW5J6YQM1Ls9JTW58qhDS2f_bhkd4rpLP04 ',\n",
       "  'news_provider': 'techcrunch.com',\n",
       "  'source_of_the_news': 'TechCrunch <newsletters@techcrunch.com>',\n",
       "  'text': '',\n",
       "  'news_summary': 'Berry Street and Fay, two startups that match dietitians with patients, each raised a $50 million funding round  , as GLP-1 drugs created tailwinds for nutrition counseling.',\n",
       "  'date_source': 'Fri, 7 Feb 2025 08:00:52 -0800',\n",
       "  'date_source_time_zone': 'utc'},\n",
       " {'title': 'French Cybersecurity Startup Riot Secures $30M to Shift Focus from Education to Threat Mitigation',\n",
       "  'url': 'https://email.techcrunch.com/e3t/Ctc/ZX+113/d5b44W04/VWk1PJ7_QZRGW2G7P1p8PzjY1W7FnbcL5rMzw3N7Rflx65fkwKW50kH_H6lZ3lQW7zMqJJ6MbHTbW5gF_CY7PPKxdW1gRv0x8PwdJXW7_v4QL8P6txSW1FyxqX7gffGPW15wbjV2wxwgFW85Cckc2wqyP1W82d17L8CfSbjW69c4Jq242sFWW2LDCRG5Bhs2sW4B78kj7zFDdZW2db5MB4z7qB_W4J93xH78MmtJW1rSphK6m66ygV7rw5l3pJGwNW27FhkQ4GP7yPW8tc9G61R4dY8W1y5krB20xlKgW6HmWBc2mYcMTW36zw6l2LDF8SW77njyp67R_TVW646cdB4sp0BJN8f2hBClN6KkW7CXNNh4P-GSHN1sVF7RMxHXVVcSbNm6DV22HW3v3gGt4CWSf9W6qpx6h78QhT1VSdmqT7c9FQHN6q37VlcXklPW828tfD8rT2J4W9j04nz85Czcff3rDjKn04 ',\n",
       "  'news_provider': 'techcrunch.com',\n",
       "  'source_of_the_news': 'TechCrunch <newsletters@techcrunch.com>',\n",
       "  'text': '',\n",
       "  'news_summary': 'Riot! French startup Riot raised a $30 million Series B round  to expand its focus beyond educating employees about cybersecurity risks, and now nudge them further into minimizing threats. With a post-money valuation north of $170 million according to sources, the company reached $10 million in annual revenue in 2024.',\n",
       "  'date_source': 'Fri, 7 Feb 2025 08:00:52 -0800',\n",
       "  'date_source_time_zone': 'utc'},\n",
       " {'title': 'Cherry on top',\n",
       "  'url': 'https://email.techcrunch.com/e3t/Ctc/ZX+113/d5b44W04/VWk1PJ7_QZRGW2G7P1p8PzjY1W7FnbcL5rMzw3N7Rflx65fkwKW50kH_H6lZ3kSW7l5ZVG8kzhGFW9kS9vD7DDCV0W4xmW6K70ldCQVPxFs95Nn2LRW7WFmPk2cYsKdW62hNCH5bgWrYW5bZ7sW4X-j3qW116YNs69HyxVW5DX3fR5rjY1VW8-jxcd3hwf37W94l-BP6z-kFlN7h534ZCF_GkN6DJwcXS71-dW98ljxb7stqHYW1z8w2W8Gz2yMW5wdznp4SBxb3W2jJ1tx1Z497RN5DZlmx8lbMrW78jP1r7_fl2hW4mDxrq5_JpG8W6Hyqdq8wNXKhW8_w7QX7gplnLW553CG35MBNdzW3Ty5Wq3ZMm80N7VJL08l2lnbW1GDcLy13xjZ8W5WffTn71wNDRW8nvCj85JsV7TW4MXNKt67DqQlW3qFvJt3nPl8LW1P30n91qCMRdW7w21t85qdJR9f33mhmb04 ',\n",
       "  'news_provider': 'techcrunch.com',\n",
       "  'source_of_the_news': 'TechCrunch <newsletters@techcrunch.com>',\n",
       "  'text': '',\n",
       "  'news_summary': 'German VC firm Cherry Ventures raised a new $500 million fund  to make early-stage and follow-on investments. Its previous fund, announced in 2022, had closed at approximately $312 million.',\n",
       "  'date_source': 'Fri, 7 Feb 2025 08:00:52 -0800',\n",
       "  'date_source_time_zone': 'utc'},\n",
       " {'title': 'First fund',\n",
       "  'url': 'https://email.techcrunch.com/e3t/Ctc/ZX+113/d5b44W04/VWk1PJ7_QZRGW2G7P1p8PzjY1W7FnbcL5rMzw3N7Rflzb3gP0xW95jsWP6lZ3mhW4Nr7Rc52C-9wN8h_08NBhmxmW7mys9j4p-vRLN1HmnB1D3vXGN7HSwcT6NHV7W73ljd-6zSXSZVzn4b16bsrf7W10zwBH1D7d8wW80QTzv4ZlSywW4FHV4S1CNBrDW4qqJrz50lw7XW49W_gR324hsrV9gtPv7v54ZNW8_Pcjw38KtdGW51DQT51wXgbjW5pHjZh42pBcTW25PyLB5qRlKZN8VBQmgCd12vW1cPpg9909FBrW2b6D1r6QxYyxN2V3Kk37CltzVlnvK03KkNphW8kGwJV6Bg-CkW2s_F622FvhNsM9Txcm-fHsYW5LlDq65ZdFtwW59mRp283cmssW6D8FxM3hcLRvW7wVc_W5h_30bML-sTGzBlfJf1SHvFx04 ',\n",
       "  'news_provider': 'techcrunch.com',\n",
       "  'source_of_the_news': 'TechCrunch <newsletters@techcrunch.com>',\n",
       "  'text': '',\n",
       "  'news_summary': 'European VC firm Emblem, which is based in Paris, raised $85 million  for its initial fund. Its general partners previously invested in companies like Gourmey and Sorare, among others.',\n",
       "  'date_source': 'Fri, 7 Feb 2025 08:00:52 -0800',\n",
       "  'date_source_time_zone': 'utc'},\n",
       " {'title': 'European AI Startups Surge, Raising $8 Billion in 2024',\n",
       "  'url': 'https://email.techcrunch.com/e3t/Ctc/ZX+113/d5b44W04/VWk1PJ7_QZRGW2G7P1p8PzjY1W7FnbcL5rMzw3N7RflyW3gP0xW8wLKSR6lZ3p-W6gdzGL6X0r4NVvmHbf4YZtCbW2YwQg096FmHcW9gz-ds80PSgPW6YKMCd8pCsxNW2gmWSC51PH5hW5-sJ_w7mQ_mmW2NnNFz7CHtjpVLbkTZ8XXK4tW3jl3pr6WzbmWW5MT53n53bw4NVTs_HK28FX4dW44VMmq1dP8nWV_jD6s5z4dkGF4mdZxhFhrrVV6qHM5gv6t5W4sDQQ-3CL7gxW6fqrqr6nm5N7W1kpG8T7wr5MpW4ST_YQ8WC_bxN3q_4kJHtCNgW82KF4V3np23FW6-Hrz38Tj0k5W5KnH0Q7hgRBgN4tFs2T9cjwGW2X6Y3w6w2NMLW1X8FB2503nr9W35lnph1sjwccf6y0WKR04 ',\n",
       "  'news_provider': 'techcrunch.com',\n",
       "  'source_of_the_news': 'TechCrunch <newsletters@techcrunch.com>',\n",
       "  'text': '',\n",
       "  'news_summary': 'European AI startups collectively raised $8 billion in 2024  , according to the French AI Report. Released jointly by early-stage VC firm Galion.exe, growth investment firm Revaia, and advisory firm Chausson Partners, it also revealed that 70% of that capital went into seed to Series B rounds, suggesting that the figure could increase as the scene matures.',\n",
       "  'date_source': 'Fri, 7 Feb 2025 08:00:52 -0800',\n",
       "  'date_source_time_zone': 'utc'}]"
      ]
     },
     "execution_count": 8,
     "metadata": {},
     "output_type": "execute_result"
    }
   ],
   "source": [
    "news_sources"
   ]
  },
  {
   "cell_type": "code",
   "execution_count": 21,
   "id": "0f57b2de-0251-4253-8e5c-13c1bc9e79e0",
   "metadata": {
    "execution": {
     "iopub.execute_input": "2025-02-21T04:31:41.254290Z",
     "iopub.status.busy": "2025-02-21T04:31:41.253146Z",
     "iopub.status.idle": "2025-02-21T04:31:41.263764Z",
     "shell.execute_reply": "2025-02-21T04:31:41.262261Z",
     "shell.execute_reply.started": "2025-02-21T04:31:41.254256Z"
    }
   },
   "outputs": [
    {
     "data": {
      "text/plain": [
       "'Security M&As: Security compliance firm Data acquired software security review startup SafeBase for $250 million  . And CyberArk, an identity security company, bought startup Zilla Security  for $165 million in cash, with an additional $10 million contingent on certain milestones.'"
      ]
     },
     "execution_count": 21,
     "metadata": {},
     "output_type": "execute_result"
    }
   ],
   "source": [
    "re.sub(r\"\\(https://[^\\)]+\\)\", \"\", news_sources[0].split(\"\\r\\n\\r\\n\")[-3])"
   ]
  },
  {
   "cell_type": "code",
   "execution_count": 9,
   "id": "6432f08d-e14e-48e3-b105-98ff2ce470a4",
   "metadata": {
    "execution": {
     "iopub.execute_input": "2025-02-21T03:56:32.516390Z",
     "iopub.status.busy": "2025-02-21T03:56:32.515972Z",
     "iopub.status.idle": "2025-02-21T03:56:32.522362Z",
     "shell.execute_reply": "2025-02-21T03:56:32.520607Z",
     "shell.execute_reply.started": "2025-02-21T03:56:32.516363Z"
    }
   },
   "outputs": [],
   "source": [
    "MARKERS = [\n",
    "    \"Most interesting startup stories from the week\",\n",
    "    \"Most interesting VC and funding news this week\",\n",
    "    \"Last but not least\",\n",
    "]"
   ]
  },
  {
   "cell_type": "code",
   "execution_count": 14,
   "id": "d76872b4-48be-46ef-8322-eab78040a0a9",
   "metadata": {
    "execution": {
     "iopub.execute_input": "2025-02-21T03:58:21.927836Z",
     "iopub.status.busy": "2025-02-21T03:58:21.927280Z",
     "iopub.status.idle": "2025-02-21T03:58:21.938290Z",
     "shell.execute_reply": "2025-02-21T03:58:21.936724Z",
     "shell.execute_reply.started": "2025-02-21T03:58:21.927809Z"
    },
    "scrolled": true
   },
   "outputs": [
    {
     "data": {
      "text/plain": [
       "['',\n",
       " 'Arthur Mensch of Mistral AI (https://email.techcrunch.com/e3t/Ctc/ZX+113/d5b44W04/VW9vbz66q9DsN5m5xQ5Cldx-W11fj5c5s1Bg9N31NNCl3gP0xW7Y8-PT6lZ3lJW47D_Kx3yMYscW4LYgwP7CYWkqV4tzqW3FZ0QbW1k8FrF8dgqm_W48SMsr1T--0nN990vdQljlc6N5lTtBT1xSK0W7LkYJR1RZKMwW1lbYLw7617WFVBbyfs26zyb8VZn6sh5tVlvGW5LF4M98k_jT0W25f2zq9kzYFfW42HYd46R3RlDW1_kX5K3wQlLSMmtYZKZnjX3W33ScTb6KCGVwW4jS5HT87C4rsVyjC7w5WvtxfN30Sk9l1CWxsW3tbc6w4dbHrmW1c2GgN2kqyvhW5SXSfY6755v-W5t0kX46PqQg9W4Vngpp5k-4_ZW7F7rpJ2NBFRmf1GN_P804 )',\n",
       " 'Image Credits:  Nathan Laine / Bloomberg / Getty Images',\n",
       " 'Uncertainty usually doesn’t rhyme with investment. But there’s always money for security, whether online or IRL.',\n",
       " 'Countercyclical: AI startups raised $110 billion in 2024 (https://email.techcrunch.com/e3t/Ctc/ZX+113/d5b44W04/VW9vbz66q9DsN5m5xQ5Cldx-W11fj5c5s1Bg9N31NNB85fkwKW5BWr2F6lZ3n6V1c0Gt6nz-6fW9j8xhp7Fhk5QW3WsY_b5MR4nDW60BhXD328ZgGN5dhMc7vnhvKV3WDZ_4dt8--W7jzQYn7KKQPWW6jH3w08MxqGzW1Ct3rH3TmwfgW83XG4q6ZsZs6W1BMTWM4Y0PfLN7pHDF-sygf6W8dklpS1P0HGSN4PpWWn1L3tGW1B5jM_4D7NwzVsG79J3cR8PGW20JFcN4_lsJXW2163bP4H8zKqW7l90-d5cS1cYW8PdPcd3CZ320W2TdGFs3lkQmYW3cpNhN3HcKl8W4cVxMv2ntHMPW82VCQl5wTy4DN4vYrwh4l5TWW1gVD9h8xtG85W158r015Cgr-rW3LMHj77wJ0_-W5knf-B8cR7-4VS2-v02yf0ctMZdYMqz5HWjW331dFB6mslx1W4Q24Xf8x_dTrW239Ynq1ZrmRrf4RHZtT04 ) , a 62% increase compared to 2023, while overall startup funding was down 12% year on year.',\n",
       " 'Meanwhile, European startups in the defense, security, and resilience tech space raised $5.2 billion last year, a record 10% of all VC funding (https://email.techcrunch.com/e3t/Ctc/ZX+113/d5b44W04/VW9vbz66q9DsN5m5xQ5Cldx-W11fj5c5s1Bg9N31NNzT5fkwKW50kH_H6lZ3lsW5LxtzP50CXDGN6XgCSDqmfRgN6TwTdv954trW5Q7g6n8jTpDFN35rL6TDfZLWW7qkMKQ3wv3-9W5NkJDn5R7gpwW42CnK65v2vzBW8j0vJ08htPr1W1cv-Gl6_W3hnW7d4Cs06vwfxkW6HNLjD4hnhYYN5mWHtfb-JmFW4Ff9qQ8Th7f3N4G_mD2RlNlPW6Tk8TY4w8kZxW8PBJ6f964BRWW4cj6m97lDB47W1dlSN882YqvgVdnRt_2CDTzRW3n6Fmy2dMx0zW368Zr_36fQ0mVf0T0h7J-CkqW2L2-4c4ysS3HW64cLZ86lcFt-W4tgGcQ8gwQ1cV5DcVT8ggk07W6YSSPf5zd3G3W2KTs_V2BrpLKW4z-Grt8ptMKBW6cgTRJ5BlfDFW85TL3f4FPm0Xf2bvgT404 ) in the region.',\n",
       " 'European AI: French champion Mistral AI was in the spotlight this week during the Paris AI Summit, with its AI assistant Le Chat becoming the most downloaded iOS app (https://email.techcrunch.com/e3t/Ctc/ZX+113/d5b44W04/VW9vbz66q9DsN5m5xQ5Cldx-W11fj5c5s1Bg9N31NNCl3gP0xW7Y8-PT6lZ3lJW47D_Kx3yMYscW4LYgwP7CYWkqV4tzqW3FZ0QbW1k8FrF8dgqm_W48SMsr1T--0nN990vdQljlc6N5lTtBT1xSK0W7LkYJR1RZKMwW1lbYLw7617WFVBbyfs26zyb8VZn6sh5tVlvGW5LF4M98k_jT0W25f2zq9kzYFfW42HYd46R3RlDW1_kX5K3wQlLSMmtYZKZnjX3W33ScTb6KCGVwW4jS5HT87C4rsVyjC7w5WvtxfN30Sk9l1CWxsW3tbc6w4dbHrmW1c2GgN2kqyvhW5SXSfY6755v-W5t0kX46PqQg9W4Vngpp5k-4_ZW7F7rpJ2NBFRmf1GN_P804 ) in France.',\n",
       " 'Security M&As: Security compliance firm Data acquired software security review startup SafeBase for $250 million (https://email.techcrunch.com/e3t/Ctc/ZX+113/d5b44W04/VW9vbz66q9DsN5m5xQ5Cldx-W11fj5c5s1Bg9N31NNCY3gP0xW95jsWP6lZ3pPW73q-vZ1GHW5bW6ltW6G4MjR-yW84sZF32m5fY5N6YlqMv2RRfkW8mNfh93lr5FTW80sX787HPTVGW79Y9WZ51PdpDW7TmJCF6L9JlQVWj6_H3r9tS-W7PpGj64vxsmtW6fPKDJ6sRB3RW23yfFD1jmzVrW66PrgY7V5DHcVMwJ3p86F_yZW8DmMJq78TnsjW3WxLCC2DBBZrW1QXHq97TMTf4W7PZGTd5xRWN2W3Z_xTc1w0fbyW8CwR171nsl0cN8RLs5lNwnpbW5sZztx5VM7hsW5mqrZN8vpwCMW7W4BGH37YZrlW78f3tx44NfG4W9cCqNT5DZ0SgW1Gk-Zs89Xj6fW20gNJT5LhhzlW9kD4bn7Z3nQcW1NwfSR2nxcM0f7qrWgH04 ) . And CyberArk, an identity security company, bought startup Zilla Security (https://email.techcrunch.com/e3t/Ctc/ZX+113/d5b44W04/VW9vbz66q9DsN5m5xQ5Cldx-W11fj5c5s1Bg9N31NNCF3gP0xW8wLKSR6lZ3p2W5h785-8BH3MmW4S5fcG8gTvzJW3hc9H72mFZb7W2hpY2Z7pSLz_W871yZf5HnV5JVlcB9b4N_JnJW38HBdc94bQ68W7KFV5l3dRxqlW41fJm31vfKnwW5w9GDg4NNw55V86FpL7NC6s6W50S8lN685x90W3dhP7b9849Q7VMdJnp4bX5yNW68_D8W7SDHBxN8L5ZHLjKBgkW1TT1kK7bSLFfW55V0Rl486LF5N3T0f7BznChSW146Xqt56xsNVW5bgC-l2LftJbW5XqM9S4dcQQvW89dpnd6-K4y4W8fMTMK61yVfxN7jvJmZSFCMVW8YRWFH7b_vhSW81bpgC4MQVr0W3D6Z6x8dYF2Qf1d0DrF04 ) for $165 million in cash, with an additional $10 million contingent on certain milestones.',\n",
       " '\\u200a',\n",
       " 'Most interesting VC and funding news this week',\n",
       " 'Bhavin Turakhia and Ramki Gaddipati of Zeta (https://email.techcrunch.com/e3t/Ctc/ZX+113/d5b44W04/VW9vbz66q9DsN5m5xQ5Cldx-W11fj5c5s1Bg9N31NNCl3gP0xW7Y8-PT6lZ3pTW1_ct1h2Y1rNBW5ppVV_4FXXG3W4w8m196Fjb45W2RgCxS2Qd4lcW80VC_n7fNN3WW1HcP8S6FnW1fW6nWBBC1VRRJ-W6vkV4H5lNTxpW6YYWtr42q48jW80bfzD1X7nJ6W6kpR306R8l6QW8wYBVP1625XDW7y1CLq8Nk8W0W8LMc9d4kZdnwW94MFQ35s8-GTW67p2Wv1zMKlXW54xRww6GR3tfN7d3Msbcl3dkW4GcfYy52Psj7W6BDdr96cNcmDW2bFjnp3740Q2W2m3kdd77vSDwW1x-GGZ4fG1K6W8H-G8g15LdgtW18zK_67Ht_Q8W7RLlt_7PmKLSf5Wxhq004 )',\n",
       " 'Image Credits: Zeta',\n",
       " 'Startups in a wide range of sectors announced funding rounds this week. Plus, Founders Fund should soon have more capital to invest.',\n",
       " 'Money in the bank: Zeta, a Bengaluru-based provider of banking software, is now valued at $2 billion (https://email.techcrunch.com/e3t/Ctc/ZX+113/d5b44W04/VW9vbz66q9DsN5m5xQ5Cldx-W11fj5c5s1Bg9N31NNCl3gP0xW7Y8-PT6lZ3pTW1_ct1h2Y1rNBW5ppVV_4FXXG3W4w8m196Fjb45W2RgCxS2Qd4lcW80VC_n7fNN3WW1HcP8S6FnW1fW6nWBBC1VRRJ-W6vkV4H5lNTxpW6YYWtr42q48jW80bfzD1X7nJ6W6kpR306R8l6QW8wYBVP1625XDW7y1CLq8Nk8W0W8LMc9d4kZdnwW94MFQ35s8-GTW67p2Wv1zMKlXW54xRww6GR3tfN7d3Msbcl3dkW4GcfYy52Psj7W6BDdr96cNcmDW2bFjnp3740Q2W2m3kdd77vSDwW1x-GGZ4fG1K6W8H-G8g15LdgtW18zK_67Ht_Q8W7RLlt_7PmKLSf5Wxhq004 ) after raising $50 million from a strategic investor.',\n",
       " 'Quantum notes: Google-backed Boston quantum startup QuEra secured $230 million in debt  (https://email.techcrunch.com/e3t/Ctc/ZX+113/d5b44W04/VW9vbz66q9DsN5m5xQ5Cldx-W11fj5c5s1Bg9N31NNzT5fkwKW50kH_H6lZ3nhN5RJf-kr4JSfW4WWk-T2WPYzWVQBcqp8Pys-SV_F7lB1vwFkRN30h1y0S1BgrW3wTtZg6QdxW5W33Sl_y2t62f5W2qFV3s3mYTwGW81bs6Z3B_CBsW5hskTY8b8yPDN14GGjfCq-C-W5KhcMV5w7hdFW5sh8RF7QjMHTW5lGfFK6n3KJvW8q671Z3SkXFRW8hT1P08KFcG9VtFmVG8Z2PjKV6ZSHW6vxPVDW3fBMJh8Xlh2WW1Tqy3h7GHvgcW8gVw_s7VllmKW8BRPlC8sVnnjW6qxBQy2BkkYkW7pY1Q37GJrvMW8W9gVd8vyzFRN5RnL2n7whlMW48q5ND8NbTlJW6N_v5C5rXnfKW7g9q659dgT3HW8RsSwg8ZnF7RW100hvb2ZPYj_VrlWWz12frPMf2XX2fl04 ) via a convertible note, at an undisclosed valuation that its CEO said “represented “a very substantial increase” compared to its previous round.',\n",
       " 'Forestation: Carbon removal startup Chestnut Carbon closed a $160 million Series B round of financing (https://email.techcrunch.com/e3t/Ctc/ZX+113/d5b44W04/VW9vbz66q9DsN5m5xQ5Cldx-W11fj5c5s1Bg9N31NNCF3gP0xW8wLKSR6lZ3nJW4CYhPs3rbRx3N3bnpNXS6PxRW2-MXxH6P2cPKN34W-4dR6XC0W8McX1N8bV-M1W5rZy975tn8xBW5KGtkh158yMGW1zP0RZ3M5_fwW6265R640j6xxW20D6KR4h4TbtW48tSfn1yff-ZVk08Yw31zCZVW5KqH6J68ZkkZW2b9RlY7q-gkwW95HtyZ7rnkDYW96j7922jVcy4W3w8TNq5wq2VxVnGZz32CFtXNW6vv2cB1hVsRKW8kFM128dHD2gW5bLzPl49ybN-W68Hh8j5q_Ws2W5pYGLY70H7cNW5nynqr8mkNjrW4RQcXs9gKzjDW3hyHYD8WVWxCW8QmfR92h0NPXVTtFPP4LD0Hhf4xFqJP04 ) to turn old farms into forests.',\n",
       " 'Firstname.ai: Australian health tech startup Harrison.ai raised a $112 million Series C round (https://email.techcrunch.com/e3t/Ctc/ZX+113/d5b44W04/VW9vbz66q9DsN5m5xQ5Cldx-W11fj5c5s1Bg9N31NNCY3gP0xW95jsWP6lZ3lYF8nDnKb2pBHW58S49D3WlyjBVvZW132Y4Sq2W1TnBzS3YLhR_W9lhqPK5Rm0cpW1d_JhZ4wZrwFW3M1PCw6NV8WKW1TGPpy4cHG_bW4dvwgw7brVgCW2ngdQc7N_qpxW7GDSd-5j7-BpW2qSTjv5K-d70W3f00b11DNVgYW8QN2c_8MtsyPW6c3w_Z2mqPlLW1VSpfg1tBgLnW75z6PZ7h_rsSW5YsfYt8l1pddW3gTW3n2Dlc4zV65tCy4yKdl7W26V8Kp4CsNrMV_2Vq4374KccN1pYWZqq73nwW8FLmcV5QW3lQW8RD1Yq4Jkq8CW6WJB6L1slS5vW9lZznp29m3G1W2h85Kv4PHR_KN1dB25XGJCbSW6fczC-8JJRMTdLhd2d04 ) for its AI-enabled medical diagnostic software, Annalise.ai, which is focused on radiology, and Franklin.ai, which is focused on pathology.',\n",
       " 'Easy bills: Only six months after raising $29 million, American startup Candid Health closed a $52.5 million Series C (https://email.techcrunch.com/e3t/Ctc/ZX+113/d5b44W04/VW9vbz66q9DsN5m5xQ5Cldx-W11fj5c5s1Bg9N31NNzT5fkwKW50kH_H6lZ3mwW95j39C7PfdNmW6Q7NBl3gYtDtW8rdjdT7Fk-ZjW2yMXcC121sZnW6wK84X1tXWwZW92nRHS2y3XwlW89vXvy8fsdVDW35B5HT7FZJp1W6nzdt38vZPttN4_YWZ2LXpGRW6y2nKG5C-GM3W3h0d7k54S0JzN5XyfGL7vxCHW9gkp1y6mBbLnN2j-JYd1yrqpW2X6F8h8fJp08W4_z5dz9hWjNMW5dvcDV6pQD2FW4W2-zC6RbHWQW6Sf7tS9h0MWhN1vCGFYCvFLvW4jPwTG4S7NBtN3TTRtFvLbkWW5RhW-v6jpf8yVqGRX99b_b7RW8mx6qW7mSDRTW5dZlqC7PWxyvW76t3rN25YhfHW6xSHR97HyHSmN8THrtxN9GSsW8ptGsM380NcLW6bV1S362xTKDf3-S6-s04 ) to simplify medical billing.',\n",
       " 'Manifest: Latent Labs, an AI biotech startup founded by a former research scientist at DeepMind, came out of stealth mode (https://email.techcrunch.com/e3t/Ctc/ZX+113/d5b44W04/VW9vbz66q9DsN5m5xQ5Cldx-W11fj5c5s1Bg9N31NNzT5fkwKW50kH_H6lZ3m-W4HdF1J8nzZB9W88rF5964hTwXW12ZgXB4HB0bLW4w-FDz2CCJR6W8Vt0pV8gplD5W1PXJW82r-YBjN3W-HN08X4vjW8Hk_xx66N52WW8zh5P43YTkb1W85R1F31bQBBpW11_8xq2_8RDcW5v2W8J3zcVCnN6LVxgCZzdqfW51fCb55g4j-qW6NSxdZ6V9HgRW5-08BL2vNj9LN8PgLsSCycCLW8Q728P7tn4wLW7Xfkxr2M6DKfW7SfmQG20cVV2W3dBK3_14bMT7W4WgLp05lvvpsW3zMPwH3l3PSrW49SxKv22XPw9W4kG9ZP2Mp2nKW5yX9tD5Q5qFHW6B6ssD2-XcPJW3rjX1C3ZbGvJW7sV17y3HMGnfN7XHnGq2h9ffW5W2WR95mztfBW7b194p4DwnYzf8DxsV604 ) with $50 million in funding.',\n",
       " 'Crystal ball: Israeli startup Voyantis scored $41 million (https://email.techcrunch.com/e3t/Ctc/ZX+113/d5b44W04/VW9vbz66q9DsN5m5xQ5Cldx-W11fj5c5s1Bg9N31NNCY3gP0xW95jsWP6lZ3mTW3JMCYg5rKtjDW1b0Z5X7_4lRrW1dk9nm4j8wlbW8HCXhm2trFNjW8Q706D8Ygm1vW7t7Tz93ZNM_MW3mBBKb3CNQDQW4CZXxy7Fc9RYW5VXVsp3GzrLjW6N4NgZ65bN5dW8sJLSC88TX6fW8BYx2-5B7V0PW2rjc2K8QZNFGVxB-sq1qkgK3W1Zdyvl4r3l_QVp60956L9xhMW1F1K6W8nZBglW37b-nz47cqjyW2K_FHH32ffz8W67ql-55c-9HrW8YQ8Fj2VZrZWW5zjtbb4sMkc3W3KVX6S55HW3rW3TQhB75Y8WzmW4k28bw7w4tnbW74Lq_X2Rb9cyW3zqQkm27nyLRW8hmR3q8YgtT7W5sH4_797wJpVW972F3g6v9tH_dV6XRn04 ) to apply AI to helping companies figure out the lifetime value of their customers.',\n",
       " 'Three times lucky? Peter Thiel’s Founders Fund is on track to close another $3 billion fund (https://email.techcrunch.com/e3t/Ctc/ZX+113/d5b44W04/VW9vbz66q9DsN5m5xQ5Cldx-W11fj5c5s1Bg9N31NNCF3gP0xW8wLKSR6lZ3ngW16cSBW510L21W7KMBqN7MzsrbW5CrBtL2Jq0-9N62hpHcPDr4QW2g50NQ6HVmGFW73q5n52Bp-psW3n6F_d2P8ygKW8cmx6r1c8Td0W3mqWv71xD9NtW7xS7Rd8qRnPKN8GDk_Yqp-hGN4MPm2cz-hKCW1F-cf963mTvbW8ynTcg52JTQ3W3q-D458MP-Z1W6x6bSJ3LcZylW7K-CN94kpwzmW2Dn3-W82fRdLW4GNDj_4TkdY8W8rsqP54yn_xDW56DWZ63QmtYMW332Ycz8CXrlsW77rsBN3cCt2TW4kDZMp21zTX9W3zHjnM2J-QsPW8R83Jw7qpdzFN1Z3rm7ffVZxW8dlFtX86_zJGf8d9gZT04 ) , according to sources. This will be the firm’s third growth fund.',\n",
       " '\\u200a',\n",
       " 'Last but not least',\n",
       " \"Sheel Mohnot standing in front of ''Everything is fintech'' sign (https://email.techcrunch.com/e3t/Ctc/ZX+113/d5b44W04/VW9vbz66q9DsN5m5xQ5Cldx-W11fj5c5s1Bg9N31NNzT5fkwKW50kH_H6lZ3lYW9cV37R4s0-zCW1WDgY71QZbZ3W6d_zXt7GZg5jW76-gzV3lMc3XW5RTBqN8bDbnVW5MMJDb95ThSjW80HHPS7D3f12W8pM-Nq733v6wW6BN_4F33Z0ccW7zmG377jGc1jW73NVtj2nc7KNW4g9_Zb33W4STW7QbT-35qZFwJW1_S_wz4Z0YZNW7nZqwp4Zbz47W4YZwRd8vJRn9W4gD2911NqbN8W6_yrPD5X-4_sN7ybV2ZDHyR7W3QhMF52ctRCrVkSVJc5W9qydW5cNPyP582k52W377r703xF-TTW51Ct5S7C0DkvW7MYp7s9kPM6xVwZ0Xk5BMrvYW5jYFrC72hP_7W6hZMVv13b5G2W3wM6h65_1sXPW318LgK8qkly6W2rDmNl6XGgbgW9gbbCJ11nJtCf3QSpHR04 )\",\n",
       " 'Image Credits: Sheel Mohnot, Better Tomorrow Ventures / Rex Salisbury',\n",
       " 'If you are reading this, you may be one of Sheel Mohnot’s 150,000 X followers. But even if you’re not, Mary Ann Azevedo’s interview with the co-founder and general partner of Better Tomorrow Ventures is well worth listening to (https://email.techcrunch.com/e3t/Ctc/ZX+113/d5b44W04/VW9vbz66q9DsN5m5xQ5Cldx-W11fj5c5s1Bg9N31NNzT5fkwKW50kH_H6lZ3lYW9cV37R4s0-zCW1WDgY71QZbZ3W6d_zXt7GZg5jW76-gzV3lMc3XW5RTBqN8bDbnVW5MMJDb95ThSjW80HHPS7D3f12W8pM-Nq733v6wW6BN_4F33Z0ccW7zmG377jGc1jW73NVtj2nc7KNW4g9_Zb33W4STW7QbT-35qZFwJW1_S_wz4Z0YZNW7nZqwp4Zbz47W4YZwRd8vJRn9W4gD2911NqbN8W6_yrPD5X-4_sN7ybV2ZDHyR7W3QhMF52ctRCrVkSVJc5W9qydW5cNPyP582k52W377r703xF-TTW51Ct5S7C0DkvW7MYp7s9kPM6xVwZ0Xk5BMrvYW5jYFrC72hP_7W6hZMVv13b5G2W3wM6h65_1sXPW318LgK8qkly6W2rDmNl6XGgbgW9gbbCJ11nJtCf3QSpHR04 ) .',\n",
       " \"In their chat, Mohnot talked about his Twitter fame, and about AI and fintech, which he is as bullish about as ever. “I’m excited about a lot of the stuff that we always believed in, which is 'the everything is fintech' story, which persists today,” he said.\",\n",
       " '\\u200a',\n",
       " 'Featured jobs from CrunchBoard',\n",
       " 'BizOps Lead, Elayne (New York, NY) (https://email.techcrunch.com/e3t/Ctc/ZX+113/d5b44W04/VW9vbz66q9DsN5m5xQ5Cldx-W11fj5c5s1Bg9N31NNzT5fkwKW50kH_H6lZ3pGW26Jb2n8Mwnz_W44Z-Kn6-8KQrW4MnPx_8h02lqW7vSfRs41tLSBW2DpfyJ3RQDrKN3FV5gqybvFVW9lqfMz2kHRFMW94k0_z4xyngzV4HPR01BFlWZW3gXVVP39vPv5W4zY-1R48DkY0W1cYylg8nVbbkW1NyfZK7G8Dx3W1d7YZW7nphRqN9gVwj1BBTGMN3J8jFcZYDh3W8ZpJ0v7WbgflVRq_Fw9h8LnPW7Sx01Z4bScb7W5k8dQR5JC7jhW2XR-9t6Z02bkW2h3XPw3mHRg-W2-ng9v994jHJW7rsgM98gG4jDW5tJ0tc8KNDj0W8dfP6V8j2pzHW1k8s8h4_Wx0TW4HKS_q8dd6j7W5Bst0y1RPL9JW8MnyNV7MMsfgW8zLPBr503ZT8W8LMFZh3w94R3f677HBg04 )',\n",
       " 'Staff Software Engineer, Murmuration (Remote) (https://email.techcrunch.com/e3t/Ctc/ZX+113/d5b44W04/VW9vbz66q9DsN5m5xQ5Cldx-W11fj5c5s1Bg9N31NNCF3gP0xW8wLKSR6lZ3kDW1rP_J71Lwv0JW3d4ghv61PSzFW6TJNPq8k6Dt5W9kspV-6dNqfzW4S0pdm5gVBYqW389HJZ8ZHss9W113FJ-2ZBbs1W6wP8zM7x5QM4N5Sv0J_CP8ffW8GcRYD2BHrVLW5jfTWv6rmSQyW43PSBS66TlykW6XpbP95fXt_bW9k-PcM5nWvghW5HYNRY1vFHdvW1Y2_wR7FL2gnVkM9-T8R7L13W74FSCg6VHvkqW22CXTG7t4xmKN2VQJtvhhWPBW5BqSwT8Z5K9_W5YRlL498fgXwVfq7Fy9fD59mW76NfVh6lxVlLN5Cby9Hr2QHWW4X9j3425LjRbW1vPHHv1HqxHrW3sJZ278RKzH_f23ChQF04 )',\n",
       " 'Founding Sales Development Representative, Clerkie (Remote) (https://email.techcrunch.com/e3t/Ctc/ZX+113/d5b44W04/VW9vbz66q9DsN5m5xQ5Cldx-W11fj5c5s1Bg9N31NNCY3gP0xW95jsWP6lZ3pHM9Y06l_c72vW112nDV4HZgDYN6kmdyWpH_mnW3q6RPT11DQHKW2HS42N5HBtGWW8hj9Pf2ZB603W4Xv95_8b8FFGW2dm5Jm43xCK0W7XGCPP1GyM3pW44lw4Y47dl3kW6wdcvx15S9LdVbTHV278CNH9VRgKZ257cDmZW3XTlCw470Y8bW3TZ0Vw6DH7pdW6fNMr03lh2GwW8sxk0n74frFZW8gbDm32Fp3vGW3vxCHy5V8dL7W99nkmB5-jq9RW81jKh42l1y5-W61M-CT3rTJ1fW1C9bCQ866k_7VFXL0P67jD7ZN30W3PjPznsPW5jXnw19jzRkgW8qw5686zXvygW8lykc71_KbsDW3TkJMb20_CykVB15wM13fL-ff3RQWz404 )',\n",
       " 'Business Analyst, Air Line Pilots Association (Tysons, VA) (https://email.techcrunch.com/e3t/Ctc/ZX+113/d5b44W04/VW9vbz66q9DsN5m5xQ5Cldx-W11fj5c5s1Bg9N31NNB85fkwKW5BWr2F6lZ3lzW1cnNYF2fPPNNVQ5TCy5sKBFYW4sfz9K2ZhrTFVZlx8-9dxv9FN6_pT_KGVCjjW582ny41zpzgvW8ryH-F2K_txGVNgxxl2BtMx2VMD1L52wMpNNW7y3HMn6-rg34W7_m8K-7pbvd-W155SG9884X7HW2w-kxn7Zd5lLW1CDY1852jsN5W3QhXKR90JLWsW5DH29G3Z37cXW6WHmgq8zWDJMW8_0qCG4Kn-BjN263z2K_xDqYW3j0zYR4Z9St_W5ChzRf2VgsyzN76wkpSFD8G6W81VzLf69c0nWW1jLKW97KjB7lW9cPx1C6z1z1KW5SrgpY8BZvfQW16Hp148Vw0FRN28p4THTZTGjW99K1Zl404dmLW1qGH9K7g0QSPW7Y8YDF5cRyQ7W131tGx35m3TSW78cgw35D_kSyW4xfrfh4Pq1hjf96BslR04 )',\n",
       " 'CAD Technician, Sinacola (Dallas, TX) (https://email.techcrunch.com/e3t/Ctc/ZX+113/d5b44W04/VW9vbz66q9DsN5m5xQ5Cldx-W11fj5c5s1Bg9N31NNCl3gP0xW7Y8-PT6lZ3pNW2S3P1B64JnbYW2bCJGb5LySMSW8vD--H5sP5rnW5wrm4z1lxW9vW2Z_r-r1q8zpgW4BmXq15F9cJ8W2rDxy65_HGbTW1Sn_G429N26LW5g4Hdk40lYc5W2CqxH18nqzjsW4xr40D1ZTcs5W5cT0DG6dpPtQW48PXwN4X3qJLW7T0tWT3fkzcQW6mmpCZ6NzyBBW1_DDSZ7-rFkmW3LTBRD92rMFdW1RGW3H2bjg8nW7M17YS5JtFSmN3XSHqDXPHBgW8wxt0W45241dN4kwwNWMkYDyW17btvJ3ByztrW8zTjCc42lCWvW3mqbZJ5xSyDkW6npwTD4Bdbmbf18knkF04 )',\n",
       " 'See more jobs on CrunchBoard (https://email.techcrunch.com/e3t/Ctc/ZX+113/d5b44W04/VW9vbz66q9DsN5m5xQ5Cldx-W11fj5c5s1Bg9N31NNBs7cV0WW69tBBd6lZ3p9W3ZmnJ151J93ZW8Q4SQH2Pdlm-N2cCFnDn7yWCW6hmm0b7BlF7bVYbg1y14hhk8W6TS-pl4mcWwXW5gTt1r2PbZbhW9k83vF4fZfrHW8HdN2W8-QGVqW7685Pn8SyhYBW2CmkZx274Zj_W6fFjBh4ZLBnFW5ZQjhx113SHKW3y9ytY4YJZjMW6H3wng694RLvW4JbDJn94vS6mW1WSdvj2PQCFPVRVYvb1Frp0TW3W52SN8WHBX-W19MDNG56rcmPVd_fkp24SpcwN6PhbKTCqLWBW5pztfP4ZW3_PN4TMP2Xs-j4yW9h6qW27csZRVVxddDK90GZVtW7m1Vwl31w_4HT_hZR38Yz5SW2jD4pL7DWlp4W3_Qjdh4Z1jqCW6PHTkg8BFVGrVfRvv72SP6CRW8StRkq8jqkqcW9d8Npv6FS0mvN5rc0c8rhsTZW8lN7lT4fCFdwW1SvCs21w4zPGN2JSRBM7gH_qW4dp-Dn2ZxGJxW6jjYQx8NzJxRN5g41kgy9mqzVzC_KF2mHc4wW1DnQ705rnyVDW1YcCnP8YVGBVW6tTyGm7FqtPzV7J6dV66N31XW4CYCvW9dJFsNW5l-9Bg73yl2SW1vv1bg3G86dMVdtP9l95PmCRW7D8y642NlwDXW4Xcj-_8yF9K9dzGNwF04 )',\n",
       " 'Post your tech jobs  (https://email.techcrunch.com/e3t/Ctc/ZX+113/d5b44W04/VW9vbz66q9DsN5m5xQ5Cldx-W11fj5c5s1Bg9N31NNBs7cV0WW69tBBd6lZ3lHW6Z5d3K4wG_6WN2kTHCXptPPlW1byHQr4dMt62W3jxM5F1QV096W6Zz1Bt5_dmlKW9kcZyg8fxvRPW3fxs7F2h41-pW55zj028-4cYfW11-jTs7MbzWLW6H4Qft8JqmhYW58mB8p5WVBRHW4C33jS27P_9lVTv4_53gq-JdW4QsD085t62yKW47pNfC60kCxBW6V0Ks_5HKfgdMt89zP6tqn1W3wp8MK3Gj7RKW2hDcwd2pjVj1N9982zRr3tPnF4xZyP7ZkXvN8HQYd02bWX1W5gxKJb1w6KGmMdhDJ-3CgbMW8jqMgr1BsnNxW60t5S931FcH9W2lF9Dt2DXdPtW953KGl5VXKShW99qVmG3435lwW7gypzl6dd6ZpW91Y5_c4RhH6wW4FZjdy92w2SWW6QRg215c5qb0W8Q3_Z88YSC_ZN2H_cXchx97NW7Fwtvg1lwz96W6zJ5L472bW_qN3gdXHBFrHTtW3TD6Gf4jlCbGW3LcZgR3HLP1lVzMLkw21z_HRW7Gpkx52D2WY_W6_-40m7CWD5BW6zQXGQ7ChxBJN6jZT2byRshbW8LjDQZ1MmPtVN1MD6GL5vqF0W7bsbsb6bW6kMW3jsQYT3x-X7yW4-tTh72MZhdyW14fxFS1cxHtyN5hBVB7nDRQsdC6KYd04 ) and reach millions of TechCrunch readers for only $349 per month.',\n",
       " '\\u200a',\n",
       " 'Check out some of our other newsletters:',\n",
       " 'Week in Review (https://email.techcrunch.com/e3t/Ctc/ZX+113/d5b44W04/VW9vbz66q9DsN5m5xQ5Cldx-W11fj5c5s1Bg9N31NNC23gP0xW7lCdLW6lZ3m-W55npbF5Sh_03W7bBbyH30gynyW8fhhln2TxqKgW2mBn1G4qk5G3W6HwTtB8yjV_QW1jNJKf1yk_t-W9jZw-y8ZPxWbW7BZ17y5cyBPVW43816D8HWR2jN49702NC8k66W8xnZd86GzW-rW2wKym78M81TMW8L4Kd247hPmNW5d-jfn5DnVyCW4lWHz22NryDGW3Slljj28s5-jW2fqF2n8YBg6-W2RbtHZ4WWj8sW2yG1zz16HgfpW4ppgKf4lfLkLV88Bgh8h0435W35k-Gc5FTkcFW4pD-xm5Wm636V72x295jZ6lvf6Fn-zx04 )',\n",
       " 'TechCrunch AI (https://email.techcrunch.com/e3t/Ctc/ZX+113/d5b44W04/VW9vbz66q9DsN5m5xQ5Cldx-W11fj5c5s1Bg9N31NNC23gP0xW7lCdLW6lZ3mZW7gPw6S4Rfy8cVH1mP67T1l64W23vrv56B8PzpN6nJncysTRsrW1WR6tN8mNcNWW4WfJjg3qKCs_Vgp_qQ6-jbt-W844ZVd8G0RyQN3C900_9wb2BW5YYDHC8R_d38W4mW7m78c7rWdW3PYqHt6sy-ZRW28sqmD6HRcdZW84xCR59lc0ypW1qb3w05HbsNFVt8QzM7fqBP2W8Wmg-z4Z2VHQN83Xbn9HD3SYVlWhhs2d_Dc0W5rFmqz5ThrgkW4XQc0g1pLxkGW65Qtww5LKkVjW6C76xb1k0_-vW4ts6z55cjWPYf16S55604 )',\n",
       " 'TechCrunch Mobility (https://email.techcrunch.com/e3t/Ctc/ZX+113/d5b44W04/VW9vbz66q9DsN5m5xQ5Cldx-W11fj5c5s1Bg9N31NNC23gP0xW7lCdLW6lZ3lNW7HBdP37KTr3QW6yqJx66ncngXW7LqtKv6L_p2jW90WzMd47gM2CW1Q31nx2SyDFgW5vRkjg3-9Dn_W7r2cY41DcTlwW67xQPw1qHv5SW1xYGGz79TkpdW6_TpKB3k_1-VW2yhkYb8h3DdTW3fkfK132cT5VW806Jy11cxddcW2pHMGs6xPVsnW8s3-Ds5mcgxLW3ysQzM2FlNkCW3R_kn_8vK9xyN2QTH5hWLRKlW5n96Bz6_3jddN7CJr-kwK6_TW4zq2Qs4gwT9sN47hHXZd0r8BW7wXHcB8dmSHvW353v293lQkB0f47T-Xv04 )',\n",
       " 'Got a tip?',\n",
       " 'Get in touch securely. (https://email.techcrunch.com/e3t/Ctc/ZX+113/d5b44W04/VW9vbz66q9DsN5m5xQ5Cldx-W11fj5c5s1Bg9N31NNBs3gP0xW69sMD-6lZ3nZW6Rvq6d5l-fxWVPCZDT8fBz9CVBYxw_1PhdLQW2TsL_995dnYhN8dSwM_1n33cN43f2bD2QtRtW2c1Bm47RLGqyN6rDy1v205scLHzhf7ljb6W1sYc5M6G5Tb2N3bSSWQ5m8xnW6MLQl-6_n3TxW2tQVg42HLz58W2mFWPv8JfB1mW6DyzBB60vNKTV6PK6K9gwl1jW7DlDvM77Wl8GMCr85lrqXjVN8xsXTP6xMH9W6cgZDD56wBLnf469p5604 )',\n",
       " 'Want to advertise on TechCrunch? advertise@techcrunch.com (mailto:advertise@techcrunch.com)',\n",
       " 'Has this been forwarded to you? Click here (https://email.techcrunch.com/e3t/Ctc/ZX+113/d5b44W04/VW9vbz66q9DsN5m5xQ5Cldx-W11fj5c5s1Bg9N31NNBM3gP0xW6N1vHY6lZ3ksW7Z9Ys83rQq9vVKczz21MtJs2W4Kj2Mf64kH_cW4Q2LRT9fx5bqW3xdJDp29qTmBW5Ksly66kW49xW4l7HWB7Nw3kGW7h0Fxn6mMyfQW8W_3Wl4SJHnTW1Rg6MZ3MGwSFVK0rvF30YCCSW1ykCPb2_DXMdW7GQkND2Z_gcHW5QHGZg2LHdnGW2ZQ4fJ74M175W8VXP3F6LmJSgW9jL3-w1hNqptW6Gd4V08Q32PGW5JhnP18D7jHrN7lnTt09kTstW1T6RZ11zssZQW7XgY4s2DpzkJf1dYh_K04 ) to subscribe to this newsletter.',\n",
       " '\\u200a',\n",
       " 'Update your preferences here (https://email.techcrunch.com/hs/preferences-center/en/page?data=W2nXS-N30h-MKW1NBkBX4fpN5lW2Hqr_n3SDcJFW2WfcPm3JVN24W1Q0Mdx2xZ-CjW2TxVfj3SzJ-7W32C0F42FXL89W4mvCBh4cw1hVW1Nw9tR2-CnN2W3H9Qch2t0wcsW3XT-j73F8nq6W4mqpcn2PvRtzW3z9y1d1SBT12W4fjt803KcDHYW3yXTl23z0V4tW30G6ky2WvDz9W233Wjx2RMncfW4kJJNh1_dLtzW38jTDy4cBGpXW3JYdBx1Q2r_cW1_nBHZ2WwmvFW2Hsv4F2t296yW3ddhRS45S-44W2WPV-Q4tG8w6W3Zxp9J2TxYG6W2zV_Hp1NcpDGW32Jq9f4fMb24W3JJRLj4chNC6W2CNBd53G-X-FW3SRTtb3XvCWgW4hDkm43_ZylhW2p6hwx1XfvMrW4pB0w62B160FW3dt7tP45BlGCW45NPzh2-DF-0W41sJ_23QDr75W38fwxK2y2w5mW251GFW2Yrrp8W1Qv9G92-zQfyW41Kv512FsGdlW2PNlDn2YDVgRW41q9643R15hzW2YP8tq1BCPpbW2PTNwg1Vvz8xW4kftBv2xKCHGW4kwgx02RRSFcW21m_JP1BF1RwW4pxWP_2KxrjL0&_hsenc=p2ANqtz-8h4r-8CmS0GTyxMfv03hKYTCzEEn_b2kUqf8VnQEA_veXoUtQGWrCIVd48nhFVjMulMt_9-YMavsui-nibE0_T9WN38I7EPgOEYd-Be04tPZra3ZQ&_hsmi=347305060 ) at any time',\n",
       " 'Copyright © 2024 TechCrunch, All rights reserved.Yahoo Inc. 110 5th St,San Francisco,CA',\n",
       " 'Privacy Policy (https://email.techcrunch.com/e3t/Ctc/ZX+113/d5b44W04/VW9vbz66q9DsN5m5xQ5Cldx-W11fj5c5s1Bg9N31NNC23gP0xW7lCdLW6lZ3lJW3VtLy91X0X22W6G--jB6ct_rVVXvyhy73_-y0W3Z6X854nTgzxW1CWMpb3c3yTzW4GCyjX1CM_4WW5cph2w4hM4-gW4JQj6n16TbSnW5HCP393LWqKsW70wtss7rCGGNN4fWV9gt1rVrW7pMvtK2nlFFxW5SYPQ88JqHF4W51tx5X9jLTvVW11zMN97JlWZJV8QtDG8XCK6sW25sL0z32FjSgW4FNvky5bPKxVW8-LJYH4zKmqMN10PkKvpl528W5MfQJN51JJ7NW42D2xG2RBW6pW56_rJN4CPm3FN85k5HPJCKJxf9ky9W-04 )']"
      ]
     },
     "execution_count": 14,
     "metadata": {},
     "output_type": "execute_result"
    }
   ],
   "source": [
    "mark = MARKERS[0]\n",
    "txt.split(mark)[1].split(\"\\r\\n\\r\\n\")"
   ]
  },
  {
   "cell_type": "code",
   "execution_count": null,
   "id": "ebc16971-2304-4d21-9058-ef05e471cf59",
   "metadata": {},
   "outputs": [],
   "source": []
  },
  {
   "cell_type": "code",
   "execution_count": null,
   "id": "17399ff2-e7ce-42b1-8a21-e6503eee56b8",
   "metadata": {},
   "outputs": [],
   "source": []
  },
  {
   "cell_type": "code",
   "execution_count": null,
   "id": "a80faf03-1ef5-4d8a-b703-c54a1694957d",
   "metadata": {},
   "outputs": [],
   "source": []
  },
  {
   "cell_type": "code",
   "execution_count": 45,
   "id": "da2dd943-de23-4997-972f-3fd975356977",
   "metadata": {
    "execution": {
     "iopub.execute_input": "2025-02-20T04:45:41.699682Z",
     "iopub.status.busy": "2025-02-20T04:45:41.699306Z",
     "iopub.status.idle": "2025-02-20T04:45:41.707858Z",
     "shell.execute_reply": "2025-02-20T04:45:41.706159Z",
     "shell.execute_reply.started": "2025-02-20T04:45:41.699656Z"
    },
    "scrolled": true
   },
   "outputs": [
    {
     "name": "stdout",
     "output_type": "stream",
     "text": [
      "3\n",
      "Plus, Databricks closes a $10B Series J\n",
      "\n",
      "View this email online in your browser (https://email.techcrunch.com/e3t/Ctc/ZX+113/d5b44W04/VWsW7P5D_y4YW68y4sS7Zv_0CW5l3Nw35rbzG7MGxfTK5m_5PW6N1X8z6lZ3pbW69k03S14RPCnW3NZNgP2QBBzjW2YF2Qg5Tg6MjVhWY6G3y6lmkW1CXVNn349FwdVz3trg4SGCcwW8qrVJg8klW3RW2gRhkn7N4v5TW5t05ST703wqpW19Yjnw1Q0XNGW8vd2ph8DsjfPN8_rcpvlWjkBW7r_Cth7_DlShW3nhgD36c4nlsN707lwJMBgVbW2fGCZ_2KzZ-PW5f8qjd4TBHzrW1vWXt47KlF3GW7ZRp4f9fx-XkW2Rm8l32XjbVnW3C6Drd7SrnCrW5fWgDB63BxypW8yHQjX66-BBYW6q2Gmz2NbPHbW1kFPjy81nBVXW5mbTqb70XM6mW5-KnZl8pWq94W952Sc836Ryq3W95tB031-KKvsW4jGv7v2JpZycN7sRCpzmG030N3g3LRQs91wtW6vX5Nd3v0w_3W2gX_TQ89dbfRW8d40FQ7wwz5TW8Z55Yj92M2f-W21P8W25M5G2kW4crQlz2qb0xlf1Fj5Dq04 )\n",
      "\n",
      "By Anna Heim (https://email.techcrunch.com/e3t/Ctc/ZX+113/d5b44W04/VWsW7P5D_y4YW68y4sS7Zv_0CW5l3Nw35rbzG7MGxfTq3gP0xW69sMD-6lZ3p1N7zXgdL67vW9W43wPvp1cLHCtW2tncpw6nx_-NW91xpPL9lwZZVW31qdBK1Tq0swW3S2m-b6nDRmBN1cHS67kLn7MW6q6s7b1235T4VP11Rt5stznFW7CQnHR8QjkkRW60QPmB4YR0XpW8NL73m6w91HMN1XMkSK1JLw8VzY7rB46lR5DW72BFVy5XxtmvW4ddq226qtVjZW68lZYb7s9j2YW4Rk4J84B7d3MN6zNqplcRYZ-W5s3dd84wdbxrf9bgvMs04 )\n",
      "\n",
      "Friday, January 24, 2025\n",
      "\n",
      " \n",
      "\n",
      "Image Credits: MicroStockHub / Getty Images\n",
      "\n",
      "Welcome to Startups Weekly — your weekly recap of everything you can’t miss from the world of startups.\n",
      "\n",
      "This week was supposed to be a short one in the U.S., as it started with a holiday. But Inauguration Day kept some founders busy (https://email.techcrunch.com/e3t/Ctc/ZX+113/d5b44W04/VWsW7P5D_y4YW68y4sS7Zv_0CW5l3Nw35rbzG7MGxfVW3gP0xW95jsWP6lZ3nWW6YBG-v3bdh_sW58zGrD1h8P1TW801R0S2qD3FtVGyPpd4P-jhbW45H4pY6Dg6YsVXNNSc7xSVWnVbjssz2wD9RRN28JSzSvWQs1W2RLm_y52GZVQW9ctMT82FRrptW871LGz8h0x-BN155YBF8FtvQW3j9__C3p5T-CW6gwzrD2djpYtW1FqTh06dcS2MW2l0BDQ23h109VGWh5d99gPv5W4TTVlY6mmZSKW6McHhh1ztsstW3N6t-R1C_K4YW1vGXT56Z8PxDW11qww_5PWjBwW3c3kP93d9HK_VMqt_n28xkn5W1ZGLqp4Q2jCtW58NkhQ6gqDmbW1bD4r212y7x7W6LYF4435fPyCW2kH4nM96VcpXW25mrLP1TsrG0f54F7Ps04 ) , and the following days brought us more than their fair share of startup news.\n",
      "\n",
      " \n",
      "\n",
      "Most interesting startup stories from the week\n",
      "\n",
      "Alexandr Wang, co-founder and CEO of Scale AI (https://email.techcrunch.com/e3t/Ctc/ZX+113/d5b44W04/VWsW7P5D_y4YW68y4sS7Zv_0CW5l3Nw35rbzG7MGxfVW3gP0xW95jsWP6lZ3kFW6-4Z035f1dZKW1L2Dxx7QWl-RW2ygsXv77cv7PV3lrK646rsBZW73zyT24KV8HyN21fZTz6J8gNW4dj6Xb5N44cCW13zkK27SMX9YW64zj2q49b663W8BkwVp12C6lKVpl02M6zytbJW8ZdTjV2GjSwSW1ZP1pq98-22pW9c5DcJ6wPkZnW80XRr_6kX0hnW90MvFm6k8z_dW8YKcnJ6ZqD7TW8Xcvp39dCc8HW6XS66X2MPz6rW75rtrJ48y35xW6SVG917Vh9XBW4GSwsP62k5kNW3r0hW14w1MplW4xWZBd406q-xW1DG1JT5vD14nW2Ccv1d1DvWHDW1tVvp51LjJpYW4NzXvv5-p2TfW6tmYMV2qZ8hCN716SJRvr_FPdb7pS604 )\n",
      "\n",
      "Image Credits: David Paul Morris/Bloomberg via Getty\n",
      "\n",
      "This week reminded us that not all sales are created equal, and that it is often worth looking beyond the price tag. Plus, there were legal troubles for an AI decacorn.\n",
      "\n",
      "No divvy: Divvy Homes, a rent-to-own startup backed by a16z, is selling to a division of Brookfield Properties (https://email.techcrunch.com/e3t/Ctc/ZX+113/d5b44W04/VWsW7P5D_y4YW68y4sS7Zv_0CW5l3Nw35rbzG7MGxfSR5fkwKW50kH_H6lZ3mmN3MGs_1gwq_hW2K3fFK2f95NfW78R3Pk4q3ntDW7M95yn3YM8_0N3QvjXxhB_PZW1GFrSL4vH9t0W8gvPXZ4Hyx1SN47N49ktY6cZVTzrmF5-Ht1ZVzZrRM49nnhTW6DPSLb4WkgvRW1Jz9P-37N2lcW7vn9F032bZVlW3s5ZBf80HnnMW7HX_rb84jNBCN19WWXXPsMK8W1rslJM8bFTGgW3p77Gv5Yc_PVN4hF3LCP17V5W2rVv9q16kxPDW5D3kyp1hSS6CW3z2L215VZ_BlN949M0fDLSqfW8bcWGc4pnqFTV6TQGF3_zpS3W2rP2bH6Dwn6MW83mwZM2ffDdvV6K9922tG3WsW6ZVwnT2tdr-sW10Ywhf5z09JwW8Mk-yS2PrmHNW2zbr3V2w-bwrf10S8yP04 ) for about $1 billion. However, some shareholders may not see a dime (https://email.techcrunch.com/e3t/Ctc/ZX+113/d5b44W04/VWsW7P5D_y4YW68y4sS7Zv_0CW5l3Nw35rbzG7MGxfSR5fkwKW50kH_H6lZ3n8W76V4G27LyFz6W7jnZfH2swLDPN2r4jfZdX0FzW4yrS3m5ZwTqzW723dLt3lNgT2W6qkgXz6YfYSWW4jwtmd1cqcTmW72NBr38LYN9XW3PZgrs6jWmjZN5g3qD4ZTBL5W56jgYS2HtmWQW8xD6C93dccvkW9lZfL26dvg4WW1ybJSt6KNRfFW6vlL401fK-05W5QPgXZ3jyrSKW5sL_Br57qmWBN4sQmwL86224W70xp9Q5ss9hFN4vBwzTptv0lW4LzM9K27D2BYW7__HVZ480DwjN1HX5mCyF1_VV7N19g38nRT8W1HZqcb2blG74N7z8_n56GNsbW9ffJqf7qh7-dW5v5y1n8HRQJQW6BQCtq8GwjHgW8l8xXV1p0x5fW5pwWnL1Y_xRsW8tYylr1tlggdf3mMTxj04 ) from the sale.\n",
      "\n",
      "Beauty for sale: Consumer goods giant Hindustan Unilever agreed to acquire Peak XV-backed Indian skincare startup Minimalist (https://email.techcrunch.com/e3t/Ctc/ZX+113/d5b44W04/VWsW7P5D_y4YW68y4sS7Zv_0CW5l3Nw35rbzG7MGxfVW3gP0xW95jsWP6lZ3krW3Jtjmz3d-L5YW4sGnBp7b4DcPW2VvR6H8jhK9MVTgJmK7jhbz7W91B_JX3cbdthW4gmF4r6Q306xW6hJ3N14wcYmhW72XdN68l1tT7W7354Yj6R_W4YVsHgGr5p11wRN4SXKkmmRFxWN1-G2gmmbmblW80g2VG5cF1H8W5DzpGl17njKCW3FYcFh2_jz5HVfnhb_88ysNDW1905cC43kDpDW4KTV4p76nbvZW6QsBrn8hr8ZdW9d97Zr6mnrJ5W3f3dTx6J8gQTW6NgjCD5hr5ZpW3qLf6K2s3VphW8lx3K231jM8GW3NLr6k8K_cQ6W1xdKYD62S7ClN50WVc0_8TdmW1ZZ-Q415Pkb-N1B9vL4PRml7W4yvkpZ5FpYLnf3jXQv004 ) for about $342 million — more than the $300 million valuation it reportedly sought in a fundraising attempt last year.\n",
      "\n",
      "Big markdown: AI-powered parking platform Metropolis acquired computer vision company Oosto (https://email.techcrunch.com/e3t/Ctc/ZX+113/d5b44W04/VWsW7P5D_y4YW68y4sS7Zv_0CW5l3Nw35rbzG7MGxfT65fkwKW5BWr2F6lZ3lpV3S1T48B8gGzN26hjsfW8V5zW40yWgf2XV1vTW30qBdj28CVK4W4fMJVs6tXFPvW7Ycrft8ksG4xW80wVPf16N-kKN6HFFjywpzyqVZk0--4_xrVHW5MVpxN5MpGfCW5ZNNjc59k4z1W29ygph6gb3RmN4F-5SS1Ft4NVrw9ll82RFpnW9b76_d1fgRRPW6Kznyr4rtrtXW8mRtky1by2PZW4hKsm_1Z2q85W1jQBMh2bdsk-W1cWrsk8bf7D0W6BTbBP4_dzN0W7SJspG8yJrbXW39ZYtw7g_R_pW4VGft020F-xjW7CXc576fF2b-W9cm6Nj8ZV_vhW3QD8lp7h6qhkW6qp1vW12t6vQW7fnR5N6vN6tXM9M89My9LtjW5dlXgc3dszTnW4bnNyQ1T2LcVW81LPCJ1nT7-cW1Cg95J70b4BXf16bdMW04 ) for a fraction of what the startup had raised to date. Formerly known as AnyVision, it had lost backers over its technology being used in controversial surveillance applications.\n",
      "\n",
      "Legal clash: Valued at $13.8 billion last year, Scale AI is facing its third worker lawsuit (https://email.techcrunch.com/e3t/Ctc/ZX+113/d5b44W04/VWsW7P5D_y4YW68y4sS7Zv_0CW5l3Nw35rbzG7MGxfVW3gP0xW95jsWP6lZ3kFW6-4Z035f1dZKW1L2Dxx7QWl-RW2ygsXv77cv7PV3lrK646rsBZW73zyT24KV8HyN21fZTz6J8gNW4dj6Xb5N44cCW13zkK27SMX9YW64zj2q49b663W8BkwVp12C6lKVpl02M6zytbJW8ZdTjV2GjSwSW1ZP1pq98-22pW9c5DcJ6wPkZnW80XRr_6kX0hnW90MvFm6k8z_dW8YKcnJ6ZqD7TW8Xcvp39dCc8HW6XS66X2MPz6rW75rtrJ48y35xW6SVG917Vh9XBW4GSwsP62k5kNW3r0hW14w1MplW4xWZBd406q-xW1DG1JT5vD14nW2Ccv1d1DvWHDW1tVvp51LjJpYW4NzXvv5-p2TfW6tmYMV2qZ8hCN716SJRvr_FPdb7pS604 ) of 2025, with contractors claiming they suffered psychological harm from writing prompts about disturbing content. A spokesperson for Scale AI said it had “numerous safeguards in place.”\n",
      "\n",
      " \n",
      "\n",
      "Most interesting VC and funding news this week\n",
      "\n",
      "Image Credits: Ati Motors\n",
      "\n",
      "Series B rounds announced this week varied greatly in size, with some of these exceeding other Series C rounds. And for companies that don’t quite feel like going public yet, there are still more letters in the alphabet.\n",
      "\n",
      "Pre-IPO letters: Data analytics platform Databricks closed a $10 billion Series J equity funding round (https://email.techcrunch.com/e3t/Ctc/ZX+113/d5b44W04/VWsW7P5D_y4YW68y4sS7Zv_0CW5l3Nw35rbzG7MGxfSR5fkwKW50kH_H6lZ3p6W6d61zl5c-mmPW15gXd14D9RfQN8vn9bGs0LDzN64--QdWPTbpW18dJXH1bcPnxW2R_Sgd1ZhBJ5N3_LSvXt3K0xW8Kxrfg8k058yW8xgs4x4CwlnCN4GmZyKBBz4fW8hYsTV423B7tN4TjPR6-j33JW4X0mDk2F2016W1PqHrR6BgHP8W6LQbYt74gYqyW4F11nG6nsHfhW22VWC78bmMwLW5tW0Cy5BRChZW4W92Ph5TlK4SN5_LgRgf38BbW19cWgv4dWKjZW8sZ02k1c5KY8W374s3F22X5gTW47Pg4N4nPt-nW8r0LW31jqW1YW4RnT-d6_YlN1W4QWcHH5YKkmWVNKxrh5QpcN_W78qVV_40sQvcW5_90XR7nxH6JW6DRhwR2PBVq-VRpRJF37vkv4dfbj-804 )  at a $62 billion valuation, with an additional $5.25 billion in debt financing. Meta is backing the company as a strategic investor.\n",
      "\n",
      "From cat to unicorn: Neko Health, the Swedish body-scanning startup co-founded by Spotify’s Daniel Ek, and whose name means “cat” in Japanese, raised a $260 million Series B round of funding (https://email.techcrunch.com/e3t/Ctc/ZX+113/d5b44W04/VWsW7P5D_y4YW68y4sS7Zv_0CW5l3Nw35rbzG7MGxfT65fkwKW5BWr2F6lZ3p8W8lZ-SX6RYTtsW2TQHVL46PMgFW7Zbdm14TzFMmN8LwpvQz0wT_N43CVXqVn_t2N6vjSGsbF3kHN5v054bK4gFXW8qw2YQ6ycV0pW9cWgBh6LY70CN6PSJzkvYwPTW3rTWl14-B9KCW7CBQJb9b93WfW56zzNG69g2r1N2qqtg0q5pJtVspyxc8QK66lW4wVdzH5yDn54W8J7Xpn43fw28VDCPgz5Zw0pnW5qmrZ359X9xPN3BgkNRmGpF_W26kG-y8XkGF6W12tXLw8f3DXkN8_NbjFY7q--W93fpWy3Z0Cl6W43RvRN8Dc3QQN1bXtVphfkrvW1n8XZl4xyxDZN4T5Y2dkBncxW6gCvGP4ZY0GHW4Wb8wv9ckk5zW2flf721_7vMmW5SbsVJ8LcKdHW7R8BWR7Yr1bPW2xkQjm766jz6f1b3hr204 ) at $1.8 billion post-money.\n",
      "\n",
      "Money to move: Lindus Health, a startup backed by Peter Thiel and Creandum that is currently moving its HQ from the U.K. to the U.S., secured a $55 million Series B round (https://email.techcrunch.com/e3t/Ctc/ZX+113/d5b44W04/VWsW7P5D_y4YW68y4sS7Zv_0CW5l3Nw35rbzG7MGxfVW3gP0xW95jsWP6lZ3p_W1742yM653kvgW41GYL13T8r_qW6D_pGm81xx5GW6KwBnL7vqgbBW7d9bY_6N76dJW5Z8GZz8MQ_NPW1WbZLG1dYv9rW5jW7rV4ZBXBWW8wym6g6c-5jWW5hj05t58_BgZW8M-48z74S6XNW1wmRsM63Y4vdN2q3rSZMrGlXN1f2nj1z7-VXW4q4drz1K7G0wW2d3Vy18BjFC1W24VF572q-BMmW4qYXXX9gFPnxW50JjB87J-HswW82Qf434RsNmqMdJRFlN_6xQW7-FFq48LKHxNW6bXQrv7X-Lt3W2G8KFS7hjrWRVXFTfn8SByz3W4KL0dK3pv5y6W7XPqnh7ycH6PW4mblGN2BDhN3W6MsXfc55SLKpMc6f6-wQjDwd5d8Xv04 ) to “fix the broken clinical trial industry.”\n",
      "\n",
      "Spending less: AI-powered SaaS spend management platform Vertice raised a $50 million Series C round of funding (https://email.techcrunch.com/e3t/Ctc/ZX+113/d5b44W04/VWsW7P5D_y4YW68y4sS7Zv_0CW5l3Nw35rbzG7MGxfVW3gP0xW95jsWP6lZ3kwN2nbZ5LWc8c-N5K9zW0sbzS8W5mF4YG8-mzxkW3Pt9-X97Lc6CVhGG-L8N2xTPW4CF-X55_pJ2tW97QYqr84JdwYW5tr9Xb8_YdTqW7spNXg8wvp2XW4B8Rdm70kkXgW7bDpgF86BcbTN53J1TLmnwxYVR_3L02G-3hkVgzR7B5q1kR5W1KQhxT7lh0vfVFYSZC4N2QyYN9hfDS_mdl50W4JFp3b6fXpWnW1PxSd36zrn79N516LyTjLS_7W5-HjMZ544D_GN1tj55ZXm93wVkN2y499gMzWW1ksvZK5yw0ChW70g0F34466ZcW5hX4PZ23v0QRVV_Tpt2JcK6wW40KLZM2bgxV1W5LKXJJ6DtmlMW24z7qw3dYwnlf94fXxx04 ) led by Lakestar, at a valuation close to $500 million, according to sources.\n",
      "\n",
      "Indian robotics: Indian-based autonomous mobile robots startup Ati Motors raised a $20 million Series B (https://email.techcrunch.com/e3t/Ctc/ZX+113/d5b44W04/VWsW7P5D_y4YW68y4sS7Zv_0CW5l3Nw35rbzG7MGxfVC3gP0xW8wLKSR6lZ3k-W5Ylkbj47jqr9W67Dt-27t8Y8RW8zhH447hqC98W42SSrH3v6fF0W5tKcRK36kcgqW4Ps6_980TyFLW7Lfybf7NjKqXW8H89Gt71bKFSW8SP8LB3FY46RW8WzF6n5VQ3kQW7N2LSM1PJF5rW7H226q5Wp-yRW6S7LtK4X-03JW1pY5FK2xvVMJW6SHgFz5bybK6VFpm-f8WTT-mW8pd0RL4Y1mH2W3_Vbpp1tfZ2vW1VSPZ61K7z2lW1n0sFf4szD2HVlQrYj1wrrWxW7q72sG3xf20qW5kD2_22YNy6BW68gyrj48ncfhW2G1Chk4mDpvMN5S3py7-PkHVW7GPRQj5Lsc12N3gpzF5CRtqmf3ZFW3z04 ) to grow internationally. The U.S. already dominates Ati’s revenues, and the company hopes to further benefit from demand for robotics manufactured outside of China.\n",
      "\n",
      "Crypto crypto crypto: Capitalizing on crypto’s comeback, AngelList and CoinList teamed up to launch crypto special purpose vehicles and crypto roll-up vehicles (https://email.techcrunch.com/e3t/Ctc/ZX+113/d5b44W04/VWsW7P5D_y4YW68y4sS7Zv_0CW5l3Nw35rbzG7MGxfSR5fkwKW50kH_H6lZ3nPVmgKrd308hjxW9hRy-m1fNwx2W5NZp377YQYvnW6qvT-t4lLLfjN1d0DMxbyrZzW1fnHDB35vwMBW23WVDS7F7L8gW8FGSMf3kY-B9W5F2c323yrqV5W8H5K6K4L8SY9W3yZvfZ7bYcqVW17nf-T4Z792_MRJwGdvf7QsVDXMl-2twXk_W91D89m34BkdTM_LZyK930tyW8qRNg33VV2YPW62LSdc4f-cxvW8cFfmT8rPWjpVdFrsx4TRhLzW8FcfMc1Bp_H-W51wq078gQW2NW8ZwHK_5SgJ6bV1KyQN1m3p_3W7M61Cl5wl86dW5d4hv78dp4KRW1jflBN4ShxqNV_4TGl8LrC_yVxb4dx37JjbyW43cjhx1g5StRW38kDXM2N6SlqW3-jCr74Qr2cQf3bZ5GF04 ) that will let crypto founders raise capital using crypto coins.\n",
      "\n",
      "\n",
      "============================================================\n",
      "\n",
      "\n",
      "A Message from Brex (https://email.techcrunch.com/e3t/Ctc/ZX+113/d5b44W04/VWsW7P5D_y4YW68y4sS7Zv_0CW5l3Nw35rbzG7MGxfVC3gP0xW8wLKSR6lZ3lqW4CFM1j3rV0qrN1MRqt6HZ9TqVmb2q24RlcblW1xV5XF86SmYvW46pxzN39NcPXW5Bzvx2990brXN7v69CD79LVDW5Hc0QV1LR5L6W7zHn-x6D8wXnW6YGlPg5GfPlRW8zTV9n5jLG4lW5nkpHV3p5zHDW1khy546Vmm69W2Bkgn468qr_bN93q1GP4_w6FW7nKnkd6TVNZRW7hWZmG15Tz6QW4clmS33HbzFSW62n8qL1s7fsjN8vGD6BXPm2hW3mw-Yw3cSQWxW6vk5z_8Hy_mvW3r60m51Z-MrHVr0rv82TL-mvW7pzgjN225f1ZW2NFv9z3d7qkpN3c2j1SrVKxqW7Q08B973kXHDf4cWgNY04 )\n",
      "\n",
      "The financial stack you can bank on (https://email.techcrunch.com/e3t/Ctc/ZX+113/d5b44W04/VWsW7P5D_y4YW68y4sS7Zv_0CW5l3Nw35rbzG7MGxfVC3gP0xW8wLKSR6lZ3lqW4CFM1j3rV0qrN1MRqt6HZ9TqVmb2q24RlcblW1xV5XF86SmYvW46pxzN39NcPXW5Bzvx2990brXN7v69CD79LVDW5Hc0QV1LR5L6W7zHn-x6D8wXnW6YGlPg5GfPlRW8zTV9n5jLG4lW5nkpHV3p5zHDW1khy546Vmm69W2Bkgn468qr_bN93q1GP4_w6FW7nKnkd6TVNZRW7hWZmG15Tz6QW4clmS33HbzFSW62n8qL1s7fsjN8vGD6BXPm2hW3mw-Yw3cSQWxW6vk5z_8Hy_mvW3r60m51Z-MrHVr0rv82TL-mvW7pzgjN225f1ZW2NFv9z3d7qkpN3c2j1SrVKxqW7Q08B973kXHDf4cWgNY04 )\n",
      "\n",
      "Runway is everything for startups. That’s why 1 in 3 startups choose Brex for modern checking, treasury, and FDIC in one account. Move money fast worldwide. Earn yield from your first dollar — while accessing your funds anytime. And get up to $6 million in FDIC coverage from program banks. (https://email.techcrunch.com/e3t/Ctc/ZX+113/d5b44W04/VWsW7P5D_y4YW68y4sS7Zv_0CW5l3Nw35rbzG7MGxfVC3gP0xW8wLKSR6lZ3lqW4CFM1j3rV0qrN1MRqt6HZ9TqVmb2q24RlcblW1xV5XF86SmYvW46pxzN39NcPXW5Bzvx2990brXN7v69CD79LVDW5Hc0QV1LR5L6W7zHn-x6D8wXnW6YGlPg5GfPlRW8zTV9n5jLG4lW5nkpHV3p5zHDW1khy546Vmm69W2Bkgn468qr_bN93q1GP4_w6FW7nKnkd6TVNZRW7hWZmG15Tz6QW4clmS33HbzFSW62n8qL1s7fsjN8vGD6BXPm2hW3mw-Yw3cSQWxW6vk5z_8Hy_mvW3r60m51Z-MrHVr0rv82TL-mvW7pzgjN225f1ZW2NFv9z3d7qkpN3c2j1SrVKxqW7Q08B973kXHDf4cWgNY04 )\n",
      "\n",
      "Learn More (https://email.techcrunch.com/e3t/Ctc/ZX+113/d5b44W04/VWsW7P5D_y4YW68y4sS7Zv_0CW5l3Nw35rbzG7MGxfVC3gP0xW8wLKSR6lZ3lqW4CFM1j3rV0qrN1MRqt6HZ9TqVmb2q24RlcblW1xV5XF86SmYvW46pxzN39NcPXW5Bzvx2990brXN7v69CD79LVDW5Hc0QV1LR5L6W7zHn-x6D8wXnW6YGlPg5GfPlRW8zTV9n5jLG4lW5nkpHV3p5zHDW1khy546Vmm69W2Bkgn468qr_bN93q1GP4_w6FW7nKnkd6TVNZRW7hWZmG15Tz6QW4clmS33HbzFSW62n8qL1s7fsjN8vGD6BXPm2hW3mw-Yw3cSQWxW6vk5z_8Hy_mvW3r60m51Z-MrHVr0rv82TL-mvW7pzgjN225f1ZW2NFv9z3d7qkpN3c2j1SrVKxqW7Q08B973kXHDf4cWgNY04 )\n",
      "\n",
      "\n",
      "============================================================\n",
      "\n",
      "\n",
      "Last but not least\n",
      "\n",
      "Five sets of hands holding cash out to an empty hand (https://email.techcrunch.com/e3t/Ctc/ZX+113/d5b44W04/VWsW7P5D_y4YW68y4sS7Zv_0CW5l3Nw35rbzG7MGxfVW3gP0xW95jsWP6lZ3m1W3D6v2J6ZpSnNVjSpdD4vs786W1L6-z951BNCNW4pgyhf4hjwwjW13H6M82QPJj4W10wnXc5ppKc_W1-yV0T1krmsvW2c7Lh84QyGJjW4ZtCRK52My3YW3NG5RS1F3n7xW7-6Tdm1Bg-StW5FWYDj3fsWZ-W66C9fp6bM1bWN7J5C3v_3thKN4rK4r094VR7W49y22s27vC9nW4gSSYy3_8K-sW1BKbh01mkrjhW5qV6wh5Z44mkW7XmRkY7d06mnVLtwQW3b9-rBW47mxXH8y6ZB3W77Pnt53VLZQwN5Rmdf1b60TYW2KtXdF81Q0b3VQLN5H1mfTZ7W2S0zMG8yCn5YW2pV03t98y1PCW4B19Rj3Jsw6xW3GR6ll86XMrsf4xblNF04 )\n",
      "\n",
      "Image Credits: Getty Images\n",
      "\n",
      "AI is still red hot, but there are always subsectors that VCs are more interested in. To figure out which types of AI startups they’d most like to back (https://email.techcrunch.com/e3t/Ctc/ZX+113/d5b44W04/VWsW7P5D_y4YW68y4sS7Zv_0CW5l3Nw35rbzG7MGxfVW3gP0xW95jsWP6lZ3m1W3D6v2J6ZpSnNVjSpdD4vs786W1L6-z951BNCNW4pgyhf4hjwwjW13H6M82QPJj4W10wnXc5ppKc_W1-yV0T1krmsvW2c7Lh84QyGJjW4ZtCRK52My3YW3NG5RS1F3n7xW7-6Tdm1Bg-StW5FWYDj3fsWZ-W66C9fp6bM1bWN7J5C3v_3thKN4rK4r094VR7W49y22s27vC9nW4gSSYy3_8K-sW1BKbh01mkrjhW5qV6wh5Z44mkW7XmRkY7d06mnVLtwQW3b9-rBW47mxXH8y6ZB3W77Pnt53VLZQwN5Rmdf1b60TYW2KtXdF81Q0b3VQLN5H1mfTZ7W2S0zMG8yCn5YW2pV03t98y1PCW4B19Rj3Jsw6xW3GR6ll86XMrsf4xblNF04 ) this year, TechCrunch rounded up some findings from our recent survey of 20 enterprise VCs. In short: Think companies, not features.\n",
      "\n",
      " \n",
      "\n",
      "Featured jobs from CrunchBoard\n",
      "\n",
      "BizOps Lead, Elayne (New York, NY) (https://email.techcrunch.com/e3t/Ctc/ZX+113/d5b44W04/VWsW7P5D_y4YW68y4sS7Zv_0CW5l3Nw35rbzG7MGxfSR5fkwKW50kH_H6lZ3lWW7ltRBg43FhzqW4PFBWp2RDv0jN79D5PdYdx05W7LvN1-81g51DW84mt-f3fhWTvW4dHRrR6-hGHXW59_hbX5gG53PW8F0nT7214d2TVd9kzn3-TN66W28-ywg6KjWscW75DmZ066wv2rN6BZgr8Vkph3W5plttM6y4CGpW4Y99Nr4c7x4YW43nhp_4gF37TW4ljh7P48hz8DW5B-8g59lPh2sW44BM345sVbXTV2qH1x1zJ8sxW34G7J07_DYTTW74RcBw2yqgSzW2lK3K79l_vHcW4nDvng5Y6PVgW3lMycx3D5CfMVRRQW85hVCqHW7xjL8P8zbSHZW81H67m1_yTYhW7MMS5N8kdPDzW2Tz1rC8DdYj5W7DzR_54BgvHwW2jztQ880yn2hW3M7FvL8-GR4Bf2PvSH404 )\n",
      "\n",
      "Staff Software Engineer, Murmuration (Remote) (https://email.techcrunch.com/e3t/Ctc/ZX+113/d5b44W04/VWsW7P5D_y4YW68y4sS7Zv_0CW5l3Nw35rbzG7MGxfVC3gP0xW8wLKSR6lZ3lqV8ZpWp7t0YjFW83ghKF3bMHpjW81WGhj8NrpsdW47clB63-9l_9W8LqXhm5Cd_NJW59Lf9H1M58H8W991T3V31rrdLW271ZNP7V6PTLW1vk1TT6K3TX5W5dZ6KK7ZsZxSW5ttRtt69qvsCW2srL-P77tvbvV3PzPl3MlM7tW369gZy5lccs-W6qy2hq3_lcg6W7f-KFB1ZJ7z2W6N-nWc9jc16HW1Zw1Rm5PjyK2W4mZtSw20j5WWW70DXTt3MHHQPW2hYYbs8qFgRZW17r5MC3BHL-gW5WC0q46DfnB_W6fJ4Bj1jWXM-W35BFLB501kvZW6grkc83LrqkkW67RV298NR6GCW4TWdX-3Jsrtxf1ZX_DT04 )\n",
      "\n",
      "Founding Sales Development Representative, Clerkie (Remote) (https://email.techcrunch.com/e3t/Ctc/ZX+113/d5b44W04/VWsW7P5D_y4YW68y4sS7Zv_0CW5l3Nw35rbzG7MGxfVW3gP0xW95jsWP6lZ3psW3W_C7p8nYW9zVDflYk5p5mX1W1qm94Q5rrQW4W6LRXmD34s06QVpd-rb7ZNCCMW7njNcr5R573fW82NXbX6NG1tYW2w9XdQ5B8_hFW33vpdb7Xz4_DN8tJlfb8DsD2W6F25tj5XR_3wW3l6z0b5YqxfgW7jnCYk4M-f3LV2ngzH75Xd9vW89kpc_8lvZnQW4j-VLS8qKyNXW4yg4yn2NzL2XW38f-XX4GQqJ_W7s6rQ21gHtKqW1RmlvV5JnWjZW7B1ks04YwsZ8W8GdQzL2CPk2rW199-vL1TqXByW8b81Gz6wzFYWW89_qDx2f3KPfW8cw7N23jQXn9W8MS5xT7hh_VzW69-XDN2pl8bkW4nnDlq7q1dM9W4XKtqP6mYn5pf1Kgckg04 )\n",
      "\n",
      "Business Analyst, Air Line Pilots Association (Tysons, VA) (https://email.techcrunch.com/e3t/Ctc/ZX+113/d5b44W04/VWsW7P5D_y4YW68y4sS7Zv_0CW5l3Nw35rbzG7MGxfT65fkwKW5BWr2F6lZ3lcW86hypK4D6HfcVp9M_X3flnB3W7_Tqw98yLBn0VN72Cf8dGhK-W6q52VH1DJ2cQVM8Mg91BLqMkW7CMXKC1DX4dPW3KMLmW78WS74N1YywS8NJdVWW7YqJqf6xrcz3W76yqqv1kDKb8W4tSmb-549w9YW6k7S6F3cPYrLW5q7pPJ9jnHqJW5zzRdT7wr8g_W6Tyk_t7PCZV8W4XS7vF1YpgSNW6MQBHb6pKp37W6qv6p22WZWZMW5tLmn_3ncl2HW5y4CG43_DwCbW7RB5D94FcXjxN3jMH16XkRjtW4RV_x-1NgCcvW616Jld3Y7NnLW5c6Q6y3yjVfXW8CSTrX2VLVw_W4gtwLc3qJDYsW3kMJFF6tnTsKW8t3sp55_Y5K6W7RQLgt6F72WyW8CHqrm6qvhgLW76kd8Y5WkwQpW4T1mZF8jyGkmf4Tf8_v04 )\n",
      "\n",
      "CAD Technician, Sinacola (Dallas, TX) (https://email.techcrunch.com/e3t/Ctc/ZX+113/d5b44W04/VWsW7P5D_y4YW68y4sS7Zv_0CW5l3Nw35rbzG7MGxfVj3gP0xW7Y8-PT6lZ3l-W3Kq15D6s8SrHW6sRLHn4pgz9yN34H79YhJNs4W17RFmX6x4_GkW3s3qz87RbmNsW4d8Ldl1JWWycVvKSvQ7Yy78gW3VS0BK7Hw9FHN3hxkfVpCfJJW45NH4h3zCRhpW46vClq1hDw29W9jnvZ194GcQnW9cwFsp5X8rbtW3YSW5n4hrg-KVZJs1g6DpPRBW5MlsNK5LTp1zW34p1RH97LbmXW7N46h58f0cnxN9gvrvv3Y8zWN6HkcKrjyz1SW2FGh942Qt6ylW8BZd6N1GhtR7W1QdQqx79szMSW78rs311Z8XFwW5qbNNf5vKPR3W21yycf7VZFd_f5dVzsW04 )\n",
      "\n",
      "See more jobs on CrunchBoard (https://email.techcrunch.com/e3t/Ctc/ZX+113/d5b44W04/VWsW7P5D_y4YW68y4sS7Zv_0CW5l3Nw35rbzG7MGxfTq7cV0WW69tBBd6lZ3nDW8-Q79j7DHn07W1qL7r66wrkQsW81J0Bg8MJLpQW1sYk706C91XjW67m8nP1x07RgW7Nr0LF448qlyVL3WMY79DL_KW18Q-701pjY8_W8Zy-ym7wZmv6W4g6nTM4WJf7qW7DZ-S85fRDpQW2fcHYX4YgmcJVvyCqH8ttpN8W93jnnz2MvgJwW5BTJf57t51ThW7zCZ0R1tZ6zGW38xsWT2NktCwW2JyTsn3Knf0hW2LCjMj4X8nhsW2TyQ6-4j6VBdW8S6gZv1sKcH-N6S4Np8MrYzzW26Q6W495C0LKW51KTTm5_33djW6pbFtX3rYNTVW5DyXt16HjQ7dW4LhB-91ZX1F7W19bBMz7MK833W4d_2kz7v2sMTW3kHYFd19d-20W8G4Fl15HxjSnW3H-fSM8PZ-8-N486q5N8mwPcW9c7sdN9j0ktCW47tGrg183-N0W8DmghY1HWrK1W8sf9L65vdV75W5h1-kH95ngjJW9652_r9hFy2BW4nCv2C8mQH75N8Kr8WKWP5hTW7nWYXQ4Mq4pRW4BRqpN6j8bzlW94C8yL8bfljtW2g7VXQ6XLmbzW5lD_vk8vHr10W4C-T1L6bwDPSW2htXd12GmDGSVdRcz474_DNdW2ZGzmF161d3jW919d_K5dM636W15cnKV1vZkcYf10CC0C04 )\n",
      "\n",
      "Post your tech jobs  (https://email.techcrunch.com/e3t/Ctc/ZX+113/d5b44W04/VWsW7P5D_y4YW68y4sS7Zv_0CW5l3Nw35rbzG7MGxfTq7cV0WW69tBBd6lZ3psW4k1b7k2vmg3gW443sYy8K3QpFW21dt4y6-BzbLW4ttXnR7y93b0W5TcgF74gMB5-W3WgxL78Bd62_W8X4CMR7ZKNZ6N3gP2Fg-YyCGVMDpPb45K41rW6L4kS73JNvmVW6V2gSw7PLK1QW1nlgfs1wbwKQW4RfY--3HfmCXW5B2BTB8JJsX5W9hMYp647CqQVW5zthkY3ZK4gjN3J4DKWpwyS6W1lXyX_3jhGNKW4qdlqs6DGDjWW4mYb7c7VYVMqMbQ3GjLQvRtW1npcHb3b8b5BLBF983m3H5W3DXQwW1Lyl8YW7tKVrd6h5XQHW7xZq5Q5S1v1vW8vbwGq6WXfKxW3HqGFw6RvQ-tW8nwm_R913VzpW7ZC_zk6Ml044W8z_m3y69mPMWW5cq0cW3WyQk1W3r72KJ31DRRLN8KkY-1wPjQnW4ZdV1674R_-7W7HJCdX7jgbyNVBGJvV8Y58cfW7sZ9Lr4LwbV0W2ntzvC1GRRd_N3wZT-tFXmmyW4zP8f_4Q152PN4MqG7jCdkbFV1QvcQ6FDBc9W1WpWXK7RNSd_W7n3Qk87SfbBGW1ZwQhW1pnqQ9W5ThL9S4K334-W2XRx6m3wzh0PW2z6Tt243VhPgW4DvkZK2Q0hwjW8ZvSLQ63JwffW7kh1RD8kmnz1f3NXFGg04 ) and reach millions of TechCrunch readers for only $349 per month.\n",
      "\n",
      " \n",
      "\n",
      "Check out some of our other newsletters:\n",
      "\n",
      "Week in Review (https://email.techcrunch.com/e3t/Ctc/ZX+113/d5b44W04/VWsW7P5D_y4YW68y4sS7Zv_0CW5l3Nw35rbzG7MGxfV03gP0xW7lCdLW6lZ3nqW40cFqj2lNWgfW1yL2ZP4Nv3tzVFhLmK4yDyrLW2nVKny2-b-sXW6S9cN-3l0c8NN65-syqScCHrW8R7RqQ7lBtp-VyyQbg86s7XWW1ST3yz5cLLZbV6GlGB5l89HHW7gRqRz4TcvzxW63YfJZ3QWK8-W4rK7Lx8FP9T1VH7_lt6Jq3xlW2__h5161RzZ3W7bfshG7YzcM5W1yvPsF3Pk719W3r2Md673BMmPW3RX18G8vNfSPW6-HSng72q1DRW6MQ71B2Pv5NRN210_qzXQjZdW3mY1YS73fMfnW2nF2_-5L0PPnf6l4mfq04 )\n",
      "\n",
      "TechCrunch AI (https://email.techcrunch.com/e3t/Ctc/ZX+113/d5b44W04/VWsW7P5D_y4YW68y4sS7Zv_0CW5l3Nw35rbzG7MGxfV03gP0xW7lCdLW6lZ3kWW7Cbswp1mcqcpW7bHW954qRqF6W71tjXX8sQmvfW8ht92r7NVHThN96ZhZGBGrhBW6G4yxQ4YZ7zgW83KY2w6zxj4CW636x8G7CCCC9N5NtyP1DyL8LW6k-zxl6z5GDfW4WKGK_27rl93N4g64HstMj4WW1qfMp46Gmj_rN3pHgT0L4J1-W9lFx2c5CWM0DW2Q810-3RklZMW595HZW2cD-CtW5l4j9Z58nJKNW18DbQd8N-7rWW1m_dTy6_ZPZcW2ymwBr8w3KmyW3Qx8ct6C6yDjW1QspRZ7l2Db5W7pR2wL45TzYRf4xsSJz04 )\n",
      "\n",
      "TechCrunch Mobility (https://email.techcrunch.com/e3t/Ctc/ZX+113/d5b44W04/VWsW7P5D_y4YW68y4sS7Zv_0CW5l3Nw35rbzG7MGxfV03gP0xW7lCdLW6lZ3l5W8z0nRx3WLnYvM4YC_2_ZsnPN3ln4jxsJbJSW62-h9x62ZB3ZW4Wd8Nv6VLRcGW4YTPlr9bxSldW5cGlRc7B5rrGW8ls94j5Pfh7YW5gZCLN5gmCb-W40tk7k1J4LDPVlRHhP5KCWgLW2pxl_c99Fg02W8nnXXg5KdggVVzN8gK8pVXS7W1xqVF_46tKrqW42dVDP5cm0bJW5GCTN094PrP7W3zLCX-4QsjmGVSW4N36SPq1nVc9HkH2Ym9NtW2M_d5N5fvJvsW66yPrD8pPq-CW3cFxVF48dTR-MllY9tqldn_f8QGckK04 )\n",
      "\n",
      "Got a tip?\n",
      "\n",
      "Get in touch securely. (https://email.techcrunch.com/e3t/Ctc/ZX+113/d5b44W04/VWsW7P5D_y4YW68y4sS7Zv_0CW5l3Nw35rbzG7MGxfTq3gP0xW69sMD-6lZ3nCW8vGkk03-P1PMW4QsM9F7wm7PbVbgPlH1w580PVFkqTX23--fxW7pBnFv39RnjbN8vW2gXlX-2pW8jHpKf8RvS1mW6Tb7Tp3mqrbSN2CjmZfbmhXMN7TYm1hqdgB1N2_GC4tXSNMqW3xWGkT313S3LV-bdPc5jRh2gVQ5K4c6MRh9SW3CgQdM3vX6C4W3dxmFH8bKSzTN2vNXbqPXv5nVj4wVz5WgDW-W8RKlNP5HJp8RW5kpL-357mXCFd7P9VY04 )\n",
      "\n",
      "Want to advertise on TechCrunch? advertise@techcrunch.com (mailto:advertise@techcrunch.com)\n",
      "\n",
      "Has this been forwarded to you? Click here (https://email.techcrunch.com/e3t/Ctc/ZX+113/d5b44W04/VWsW7P5D_y4YW68y4sS7Zv_0CW5l3Nw35rbzG7MGxfTK3gP0xW6N1vHY6lZ3mdW5y4VWF803b88W3l2pX63_0N1nW22tDyz6d0wNsW1fkGQR2-SVp_VWCkkp1C66gXW8hP9t_2jD5fLM11FBkLSghwW3sLsyr4_M4RGW12rkpt2mNjtDW3HQ83r7N0ZtQVSTl-P3GLbRNW6xY_XH8txwPqW8LNYkC6PdqkxW6jhyJB3RY5DHW4tHJfL62WL14W2KzVc26n5-0SW4HHlKt3vgf9GN813xSFZft5sN1yWmvhQxjVMN2gqQ99gMmcJW4m0llG3Pm6pYW5CKtnv5NLXtxf6rwfBP04 ) to subscribe to this newsletter.\n",
      "\n",
      " \n",
      "\n",
      "Update your preferences here (https://email.techcrunch.com/hs/preferences-center/en/page?data=W2nXS-N30h-G8W3_s3tY30CFPNW2HWHwM1S8_7kW3T0Vrw2FSWH8W3H5dJz2TS5vQW3jt83d2KJFWZW1QDfhj2FG_j7W49JFkd2qXhwJW3B-ZnY4fjR1fW45yJcH2WswwKW2WLt-H1Y-kKPW2TRdCJ2xtKw3W3z7-143J-kWVW45nwgz36C4bKW1Lhm3122ThmMW3F1HPc2RtkH_W3jlysH47m5BYW2FKW5P2qWngpW2TKXW03dpTMRW3gdXCZ3F7xY6W1Xsnwj38zx08W3H6SD01LxfkVW2vQTDq2HtnVFW34mNx_21nNBQW3CgMmZ32Gq5wW4ftDJz3z4Cj9W1Qhjt-2zJ6VvW3b99FN3b25MyW2TG_3N1BMM2yW3g1cJq2-cdjWW4hy2jC1Lqt81W3VJBHM4krYF6W34fZ3C2FHhxWW4mDKYt2FMyL9W22Vydh2TjPSNW2qDNL230KXd8W3bvzyJ1Q4vvFW41SVDB2PRLklW34BSjR1Zd58JW2-JRMW21ljvbW25pcQ94fskrHW43DJbd2nXWx5W327YlZ2HyS-yW3h-94D2HLwKRW2TK0Dw2Kr1vvW2Rtphh1QCQdnW2HKJQX2xtNvkW1S2dDY3QZk4X0&_hsenc=p2ANqtz-9GCLLKBWY6n3kzPMG64OlXC2HcrXA_gHiF_bejoYb7bpJPCI-RVUrMJrF4w1RtEhVxd5vWE2irsIyFTZxPM955Z_GwvTqO4p2TduQ8wiagVV6Ixrs&_hsmi=343906520 ) at any time\n",
      "\n",
      "Copyright © 2024 TechCrunch, All rights reserved.Yahoo Inc. 110 5th St,San Francisco,CA\n",
      "\n",
      "Privacy Policy (https://email.techcrunch.com/e3t/Ctc/ZX+113/d5b44W04/VWsW7P5D_y4YW68y4sS7Zv_0CW5l3Nw35rbzG7MGxfV03gP0xW7lCdLW6lZ3mYV8snLx5jkgRnW4Bqmqr76x_qLV-Mns95tD5RnW5wGMwN1G0xDjV7N49j6mYNHfW4JdK1-3b1cL5W4vyMRC484LNhW1N4jQW59PXqZVGxq6V29L34bW7t0zYy1T7SRTW55D1Rr7GWjZhW2nDh-373W4MHW2yyQ5Y2vJj3yW8tB4__95-VJ2W8J6wkQ77tCDfW1rfp904m_cfgN1x_Z4qnzF8vW81BDwY4t8wCHW2VQy2n4Z0V5CW6p20mS5ylHtcV7R75X5JjMlkW2XZ-2811fx4_Vv1Nhf5cxB75W3qMW8z75k9pjf1Wf22-04 )\n",
      "\n",
      "\n",
      "============================================================\n",
      "\n",
      "\n"
     ]
    }
   ],
   "source": [
    "# Isolate ads with '\\r\\n\\r\\n\\u200a\\r\\n\\r\\n\\u200a\\r\\n\\r\\n'\n",
    "split_ads = txt.split(\"\\r\\n\\r\\n\\u200a\\r\\n\\r\\n\\u200a\\r\\n\\r\\n\")\n",
    "print(len(split_ads))\n",
    "for tt in split_ads:\n",
    "    print(tt)\n",
    "    print(\"\\n\\n\" + \"=\"*60 + \"\\n\\n\")"
   ]
  },
  {
   "cell_type": "code",
   "execution_count": 16,
   "id": "9943ca52-7e36-4ae6-ab3f-e47479722ba7",
   "metadata": {
    "execution": {
     "iopub.execute_input": "2025-02-20T04:32:41.143792Z",
     "iopub.status.busy": "2025-02-20T04:32:41.141968Z",
     "iopub.status.idle": "2025-02-20T04:32:41.173995Z",
     "shell.execute_reply": "2025-02-20T04:32:41.171526Z",
     "shell.execute_reply.started": "2025-02-20T04:32:41.143710Z"
    }
   },
   "outputs": [],
   "source": [
    "txt_split = txt.split(MARKERS[0])[1].split(MARKERS[1])[0].split(\"\\r\\n\\r\\n\")"
   ]
  },
  {
   "cell_type": "code",
   "execution_count": 19,
   "id": "21fd53ca-f5ee-4117-8374-358e4848feeb",
   "metadata": {
    "execution": {
     "iopub.execute_input": "2025-02-20T04:32:58.739873Z",
     "iopub.status.busy": "2025-02-20T04:32:58.739519Z",
     "iopub.status.idle": "2025-02-20T04:32:58.756398Z",
     "shell.execute_reply": "2025-02-20T04:32:58.754734Z",
     "shell.execute_reply.started": "2025-02-20T04:32:58.739848Z"
    }
   },
   "outputs": [
    {
     "data": {
      "text/plain": [
       "True"
      ]
     },
     "execution_count": 19,
     "metadata": {},
     "output_type": "execute_result"
    }
   ],
   "source": [
    "\"https://\" in txt_split[4]"
   ]
  },
  {
   "cell_type": "code",
   "execution_count": 25,
   "id": "1ffbf63f-1fd4-4922-85b8-2fb47d31bef0",
   "metadata": {
    "execution": {
     "iopub.execute_input": "2025-02-20T04:34:09.903904Z",
     "iopub.status.busy": "2025-02-20T04:34:09.902591Z",
     "iopub.status.idle": "2025-02-20T04:34:09.912220Z",
     "shell.execute_reply": "2025-02-20T04:34:09.911199Z",
     "shell.execute_reply.started": "2025-02-20T04:34:09.903872Z"
    }
   },
   "outputs": [
    {
     "data": {
      "text/plain": [
       "'Security M&As: Security compliance firm Data acquired software security review startup SafeBase for $250 million (https://email.techcrunch.com/e3t/Ctc/ZX+113/d5b44W04/VW9vbz66q9DsN5m5xQ5Cldx-W11fj5c5s1Bg9N31NNCY3gP0xW95jsWP6lZ3pPW73q-vZ1GHW5bW6ltW6G4MjR-yW84sZF32m5fY5N6YlqMv2RRfkW8mNfh93lr5FTW80sX787HPTVGW79Y9WZ51PdpDW7TmJCF6L9JlQVWj6_H3r9tS-W7PpGj64vxsmtW6fPKDJ6sRB3RW23yfFD1jmzVrW66PrgY7V5DHcVMwJ3p86F_yZW8DmMJq78TnsjW3WxLCC2DBBZrW1QXHq97TMTf4W7PZGTd5xRWN2W3Z_xTc1w0fbyW8CwR171nsl0cN8RLs5lNwnpbW5sZztx5VM7hsW5mqrZN8vpwCMW7W4BGH37YZrlW78f3tx44NfG4W9cCqNT5DZ0SgW1Gk-Zs89Xj6fW20gNJT5LhhzlW9kD4bn7Z3nQcW1NwfSR2nxcM0f7qrWgH04 ) . And CyberArk, an identity security company, bought startup Zilla Security (https://email.techcrunch.com/e3t/Ctc/ZX+113/d5b44W04/VW9vbz66q9DsN5m5xQ5Cldx-W11fj5c5s1Bg9N31NNCF3gP0xW8wLKSR6lZ3p2W5h785-8BH3MmW4S5fcG8gTvzJW3hc9H72mFZb7W2hpY2Z7pSLz_W871yZf5HnV5JVlcB9b4N_JnJW38HBdc94bQ68W7KFV5l3dRxqlW41fJm31vfKnwW5w9GDg4NNw55V86FpL7NC6s6W50S8lN685x90W3dhP7b9849Q7VMdJnp4bX5yNW68_D8W7SDHBxN8L5ZHLjKBgkW1TT1kK7bSLFfW55V0Rl486LF5N3T0f7BznChSW146Xqt56xsNVW5bgC-l2LftJbW5XqM9S4dcQQvW89dpnd6-K4y4W8fMTMK61yVfxN7jvJmZSFCMVW8YRWFH7b_vhSW81bpgC4MQVr0W3D6Z6x8dYF2Qf1d0DrF04 ) for $165 million in cash, with an additional $10 million contingent on certain milestones.'"
      ]
     },
     "execution_count": 25,
     "metadata": {},
     "output_type": "execute_result"
    }
   ],
   "source": [
    "txt_split[-3]"
   ]
  },
  {
   "cell_type": "code",
   "execution_count": 26,
   "id": "ed886e4e-004d-49ad-9f82-9a8f9cbab150",
   "metadata": {
    "execution": {
     "iopub.execute_input": "2025-02-20T04:34:14.176173Z",
     "iopub.status.busy": "2025-02-20T04:34:14.174652Z",
     "iopub.status.idle": "2025-02-20T04:34:14.187285Z",
     "shell.execute_reply": "2025-02-20T04:34:14.185667Z",
     "shell.execute_reply.started": "2025-02-20T04:34:14.176137Z"
    }
   },
   "outputs": [
    {
     "data": {
      "text/plain": [
       "['(https://email.techcrunch.com/e3t/Ctc/ZX+113/d5b44W04/VW9vbz66q9DsN5m5xQ5Cldx-W11fj5c5s1Bg9N31NNCY3gP0xW95jsWP6lZ3pPW73q-vZ1GHW5bW6ltW6G4MjR-yW84sZF32m5fY5N6YlqMv2RRfkW8mNfh93lr5FTW80sX787HPTVGW79Y9WZ51PdpDW7TmJCF6L9JlQVWj6_H3r9tS-W7PpGj64vxsmtW6fPKDJ6sRB3RW23yfFD1jmzVrW66PrgY7V5DHcVMwJ3p86F_yZW8DmMJq78TnsjW3WxLCC2DBBZrW1QXHq97TMTf4W7PZGTd5xRWN2W3Z_xTc1w0fbyW8CwR171nsl0cN8RLs5lNwnpbW5sZztx5VM7hsW5mqrZN8vpwCMW7W4BGH37YZrlW78f3tx44NfG4W9cCqNT5DZ0SgW1Gk-Zs89Xj6fW20gNJT5LhhzlW9kD4bn7Z3nQcW1NwfSR2nxcM0f7qrWgH04 )',\n",
       " '(https://email.techcrunch.com/e3t/Ctc/ZX+113/d5b44W04/VW9vbz66q9DsN5m5xQ5Cldx-W11fj5c5s1Bg9N31NNCF3gP0xW8wLKSR6lZ3p2W5h785-8BH3MmW4S5fcG8gTvzJW3hc9H72mFZb7W2hpY2Z7pSLz_W871yZf5HnV5JVlcB9b4N_JnJW38HBdc94bQ68W7KFV5l3dRxqlW41fJm31vfKnwW5w9GDg4NNw55V86FpL7NC6s6W50S8lN685x90W3dhP7b9849Q7VMdJnp4bX5yNW68_D8W7SDHBxN8L5ZHLjKBgkW1TT1kK7bSLFfW55V0Rl486LF5N3T0f7BznChSW146Xqt56xsNVW5bgC-l2LftJbW5XqM9S4dcQQvW89dpnd6-K4y4W8fMTMK61yVfxN7jvJmZSFCMVW8YRWFH7b_vhSW81bpgC4MQVr0W3D6Z6x8dYF2Qf1d0DrF04 )']"
      ]
     },
     "execution_count": 26,
     "metadata": {},
     "output_type": "execute_result"
    }
   ],
   "source": [
    "import re\n",
    "re.findall(r\"\\(https://[^\\)]+\\)\",txt_split[-3])"
   ]
  },
  {
   "cell_type": "code",
   "execution_count": 27,
   "id": "b99be7d6-0a19-4726-a099-8581a56dfde7",
   "metadata": {
    "execution": {
     "iopub.execute_input": "2025-02-20T04:35:41.403847Z",
     "iopub.status.busy": "2025-02-20T04:35:41.403553Z",
     "iopub.status.idle": "2025-02-20T04:35:41.414190Z",
     "shell.execute_reply": "2025-02-20T04:35:41.412610Z",
     "shell.execute_reply.started": "2025-02-20T04:35:41.403824Z"
    }
   },
   "outputs": [
    {
     "data": {
      "text/plain": [
       "'Countercyclical: AI startups raised $110 billion in 2024 (https://email.techcrunch.com/e3t/Ctc/ZX+113/d5b44W04/VW9vbz66q9DsN5m5xQ5Cldx-W11fj5c5s1Bg9N31NNB85fkwKW5BWr2F6lZ3n6V1c0Gt6nz-6fW9j8xhp7Fhk5QW3WsY_b5MR4nDW60BhXD328ZgGN5dhMc7vnhvKV3WDZ_4dt8--W7jzQYn7KKQPWW6jH3w08MxqGzW1Ct3rH3TmwfgW83XG4q6ZsZs6W1BMTWM4Y0PfLN7pHDF-sygf6W8dklpS1P0HGSN4PpWWn1L3tGW1B5jM_4D7NwzVsG79J3cR8PGW20JFcN4_lsJXW2163bP4H8zKqW7l90-d5cS1cYW8PdPcd3CZ320W2TdGFs3lkQmYW3cpNhN3HcKl8W4cVxMv2ntHMPW82VCQl5wTy4DN4vYrwh4l5TWW1gVD9h8xtG85W158r015Cgr-rW3LMHj77wJ0_-W5knf-B8cR7-4VS2-v02yf0ctMZdYMqz5HWjW331dFB6mslx1W4Q24Xf8x_dTrW239Ynq1ZrmRrf4RHZtT04 ) , a 62% increase compared to 2023, while overall startup funding was down 12% year on year.'"
      ]
     },
     "execution_count": 27,
     "metadata": {},
     "output_type": "execute_result"
    }
   ],
   "source": [
    "txt_split[4]"
   ]
  },
  {
   "cell_type": "code",
   "execution_count": 32,
   "id": "29089de3-27a1-4415-acb5-55548c2c6d98",
   "metadata": {
    "execution": {
     "iopub.execute_input": "2025-02-20T04:38:07.698854Z",
     "iopub.status.busy": "2025-02-20T04:38:07.698551Z",
     "iopub.status.idle": "2025-02-20T04:38:07.708182Z",
     "shell.execute_reply": "2025-02-20T04:38:07.706636Z",
     "shell.execute_reply.started": "2025-02-20T04:38:07.698831Z"
    }
   },
   "outputs": [
    {
     "data": {
      "text/plain": [
       "'Countercyclical: AI startups raised $110 billion in 2024  , a 62% increase compared to 2023, while overall startup funding was down 12% year on year.'"
      ]
     },
     "execution_count": 32,
     "metadata": {},
     "output_type": "execute_result"
    }
   ],
   "source": [
    "(\"\").join(txt_split[4].split(re.findall(r\"\\(https://[^\\)]+\\)\",txt_split[4])[0]))"
   ]
  },
  {
   "cell_type": "markdown",
   "id": "291e51f3-9cd4-4ed0-aba2-74ff4f5774bd",
   "metadata": {},
   "source": [
    "# Bloomberg Technology"
   ]
  },
  {
   "cell_type": "code",
   "execution_count": 5,
   "id": "769ae406-cf99-4cab-a97a-1a7873618dce",
   "metadata": {
    "execution": {
     "iopub.execute_input": "2025-03-27T21:39:41.661556Z",
     "iopub.status.busy": "2025-03-27T21:39:41.660747Z",
     "iopub.status.idle": "2025-03-27T21:39:42.083766Z",
     "shell.execute_reply": "2025-03-27T21:39:42.083107Z",
     "shell.execute_reply.started": "2025-03-27T21:39:41.661526Z"
    }
   },
   "outputs": [
    {
     "data": {
      "text/plain": [
       "1"
      ]
     },
     "execution_count": 5,
     "metadata": {},
     "output_type": "execute_result"
    }
   ],
   "source": [
    "emails = gmail.fetch_emails(sender='Bloomberg Technology <noreply@news.bloomberg.com>', after='2025-03-05', before='2025-03-05')\n",
    "len(emails)"
   ]
  },
  {
   "cell_type": "code",
   "execution_count": 6,
   "id": "b64e31ac-df89-4477-a322-4f8146b8efed",
   "metadata": {
    "execution": {
     "iopub.execute_input": "2025-03-27T21:39:42.085689Z",
     "iopub.status.busy": "2025-03-27T21:39:42.084617Z",
     "iopub.status.idle": "2025-03-27T21:39:45.126567Z",
     "shell.execute_reply": "2025-03-27T21:39:45.125401Z",
     "shell.execute_reply.started": "2025-03-27T21:39:42.085660Z"
    },
    "scrolled": true
   },
   "outputs": [],
   "source": [
    "news_sources = bloomberg_tech_parser(emails[0])"
   ]
  },
  {
   "cell_type": "code",
   "execution_count": 7,
   "id": "27e8c81b-ae81-4613-9b85-ba4ef74967ef",
   "metadata": {
    "execution": {
     "iopub.execute_input": "2025-03-27T21:39:45.177068Z",
     "iopub.status.busy": "2025-03-27T21:39:45.176703Z",
     "iopub.status.idle": "2025-03-27T21:39:45.187531Z",
     "shell.execute_reply": "2025-03-27T21:39:45.185999Z",
     "shell.execute_reply.started": "2025-03-27T21:39:45.177043Z"
    },
    "scrolled": true
   },
   "outputs": [
    {
     "data": {
      "text/plain": [
       "[{'title': 'New iPads',\n",
       "  'url': 'https://www.bloomberg.com/news/articles/2025-03-04/apple-launches-upgraded-ipad-air-in-bid-to-sustain-tablet-growth?cmpid=tech-in-brief',\n",
       "  'news_provider': 'www.bloomberg.com',\n",
       "  'source_of_the_news': 'Bloomberg Technology <noreply@news.bloomberg.com>',\n",
       "  'text': '',\n",
       "  'news_summary': 'Apple introduced a new iPad Air and an upgraded low-end tablet, trying to capitalize on therenewed popularity  of the products while sales of the iPhone slump.',\n",
       "  'date_source': 'Wed, 05 Mar 2025 13:08:45 +0000',\n",
       "  'date_source_time_zone': 'utc'},\n",
       " {'title': 'French satellites',\n",
       "  'url': 'https://www.bloomberg.com/news/articles/2025-03-04/starlink-rival-eutelsat-surges-on-european-defense-spending-plan?cmpid=tech-in-brief',\n",
       "  'news_provider': 'www.bloomberg.com',\n",
       "  'source_of_the_news': 'Bloomberg Technology <noreply@news.bloomberg.com>',\n",
       "  'text': '',\n",
       "  'news_summary': 'Eutelsat Communications SA shares jumped this week . Investors bet the French satellite provider will gain a portion of the increased defense spending pledged by the EU in the wake of the US withdrawal of military support for Ukraine.',\n",
       "  'date_source': 'Wed, 05 Mar 2025 13:08:45 +0000',\n",
       "  'date_source_time_zone': 'utc'},\n",
       " {'title': 'Tencent on top',\n",
       "  'url': 'https://www.bloomberg.com/news/articles/2025-03-04/tencent-s-ai-bot-passes-deepseek-as-china-s-favorite-on-iphones?cmpid=tech-in-brief',\n",
       "  'news_provider': 'www.bloomberg.com',\n",
       "  'source_of_the_news': 'Bloomberg Technology <noreply@news.bloomberg.com>',\n",
       "  'text': '',\n",
       "  'news_summary': 'Tencent stepped up the competition for artificial intelligence tools  in China when its Yuanbao chatbot passed DeepSeek — for just a day — to become the country’s most-downloaded iPhone app.',\n",
       "  'date_source': 'Wed, 05 Mar 2025 13:08:45 +0000',\n",
       "  'date_source_time_zone': 'utc'},\n",
       " {'title': 'AI Massage Robots Get $83 Million Funding Boost',\n",
       "  'url': 'https://www.bloomberg.com/news/articles/2025-03-04/ai-massage-startup-raises-83-million-brings-robots-to-equinox?cmpid=tech-in-brief',\n",
       "  'news_provider': 'www.bloomberg.com',\n",
       "  'source_of_the_news': 'Bloomberg Technology <noreply@news.bloomberg.com>',\n",
       "  'text': '',\n",
       "  'news_summary': 'Aescape, the maker of an AI-powered massage robot , raised $83 million in a new funding round that valued it at $250 million. The company has 40 robot massage tables on the market, including some at Equinox gyms, and plans to ship 400 more this year. A woman lies face down on an Aescape table, receiving a massage.',\n",
       "  'date_source': 'Wed, 05 Mar 2025 13:08:45 +0000',\n",
       "  'date_source_time_zone': 'utc'},\n",
       " {'title': 'Trump Challenges $52 Billion Chips Act, Tying US Investment to No Government Funds',\n",
       "  'url': 'https://www.bloomberg.com/news/articles/2025-03-05/trump-calls-for-end-to-52-billion-chips-act-subsidy-program?cmpid=tech-in-brief',\n",
       "  'news_provider': 'www.bloomberg.com',\n",
       "  'source_of_the_news': 'Bloomberg Technology <noreply@news.bloomberg.com>',\n",
       "  'text': '',\n",
       "  'news_summary': 'Donald Trump’s prime-time address to Congress on Tuesday was highlighted by his calling foran end to the $52 billion Chips Act . The president touted TSMC’s commitment of another $100 billion in US investment, but said the government would be “giving them no money.” How far can his executive power reach in curtailing promised incentives, and how might companies react? Intoday’s Tech In Depth , Mackenzie Hawkins searches for answers.',\n",
       "  'date_source': 'Wed, 05 Mar 2025 13:08:45 +0000',\n",
       "  'date_source_time_zone': 'utc'}]"
      ]
     },
     "execution_count": 7,
     "metadata": {},
     "output_type": "execute_result"
    }
   ],
   "source": [
    "news_sources"
   ]
  },
  {
   "cell_type": "markdown",
   "id": "dc11a670-6b8b-48a5-927e-5911fcf00860",
   "metadata": {
    "jp-MarkdownHeadingCollapsed": true
   },
   "source": [
    "## Experimentation"
   ]
  },
  {
   "cell_type": "code",
   "execution_count": 9,
   "id": "c288e80b-f88f-412f-96a8-52fa95018fa1",
   "metadata": {
    "execution": {
     "iopub.execute_input": "2025-02-28T03:34:53.072319Z",
     "iopub.status.busy": "2025-02-28T03:34:53.071960Z",
     "iopub.status.idle": "2025-02-28T03:34:53.216848Z",
     "shell.execute_reply": "2025-02-28T03:34:53.215531Z",
     "shell.execute_reply.started": "2025-02-28T03:34:53.072289Z"
    }
   },
   "outputs": [
    {
     "data": {
      "text/plain": [
       "('https://www.bloomberg.com/newsletters/tech-in-depth/latest',\n",
       " 'www.bloomberg.com')"
      ]
     },
     "execution_count": 9,
     "metadata": {},
     "output_type": "execute_result"
    }
   ],
   "source": [
    "process_raw_url(\"https://www.bloomberg.com/newsletters/tech-in-depth/latest\")"
   ]
  },
  {
   "cell_type": "code",
   "execution_count": 11,
   "id": "b3641ca5-cc18-4b7e-b196-33ebef5de9ec",
   "metadata": {
    "execution": {
     "iopub.execute_input": "2025-02-28T03:39:19.892292Z",
     "iopub.status.busy": "2025-02-28T03:39:19.891215Z",
     "iopub.status.idle": "2025-02-28T03:39:20.020003Z",
     "shell.execute_reply": "2025-02-28T03:39:20.018821Z",
     "shell.execute_reply.started": "2025-02-28T03:39:19.892265Z"
    }
   },
   "outputs": [],
   "source": [
    "import requests\n",
    "response = requests.get(\"https://www.bloomberg.com/newsletters/tech-in-depth/latest\", allow_redirects=True)"
   ]
  },
  {
   "cell_type": "code",
   "execution_count": 12,
   "id": "5027a286-592b-446f-8064-691c92c94252",
   "metadata": {
    "execution": {
     "iopub.execute_input": "2025-02-28T03:39:29.199320Z",
     "iopub.status.busy": "2025-02-28T03:39:29.198050Z",
     "iopub.status.idle": "2025-02-28T03:39:29.204821Z",
     "shell.execute_reply": "2025-02-28T03:39:29.204003Z",
     "shell.execute_reply.started": "2025-02-28T03:39:29.199288Z"
    }
   },
   "outputs": [
    {
     "data": {
      "text/plain": [
       "'https://www.bloomberg.com/newsletters/tech-in-depth/latest'"
      ]
     },
     "execution_count": 12,
     "metadata": {},
     "output_type": "execute_result"
    }
   ],
   "source": [
    "response.url"
   ]
  },
  {
   "cell_type": "code",
   "execution_count": 14,
   "id": "1b1c4761-1429-4093-95f6-0437c2b27401",
   "metadata": {
    "execution": {
     "iopub.execute_input": "2025-02-28T03:40:28.339600Z",
     "iopub.status.busy": "2025-02-28T03:40:28.339209Z",
     "iopub.status.idle": "2025-02-28T03:40:35.405877Z",
     "shell.execute_reply": "2025-02-28T03:40:35.404815Z",
     "shell.execute_reply.started": "2025-02-28T03:40:28.339571Z"
    },
    "scrolled": true
   },
   "outputs": [
    {
     "name": "stdout",
     "output_type": "stream",
     "text": [
      "Collecting selenium\n",
      "  Downloading selenium-4.29.0-py3-none-any.whl.metadata (7.1 kB)\n",
      "Requirement already satisfied: urllib3<3,>=1.26 in /usr/local/lib/python3.11/site-packages (from urllib3[socks]<3,>=1.26->selenium) (2.3.0)\n",
      "Collecting trio~=0.17 (from selenium)\n",
      "  Downloading trio-0.29.0-py3-none-any.whl.metadata (8.5 kB)\n",
      "Collecting trio-websocket~=0.9 (from selenium)\n",
      "  Downloading trio_websocket-0.12.2-py3-none-any.whl.metadata (5.1 kB)\n",
      "Requirement already satisfied: certifi>=2021.10.8 in /usr/local/lib/python3.11/site-packages (from selenium) (2025.1.31)\n",
      "Requirement already satisfied: typing_extensions~=4.9 in /usr/local/lib/python3.11/site-packages (from selenium) (4.12.2)\n",
      "Requirement already satisfied: websocket-client~=1.8 in /usr/local/lib/python3.11/site-packages (from selenium) (1.8.0)\n",
      "Requirement already satisfied: attrs>=23.2.0 in /usr/local/lib/python3.11/site-packages (from trio~=0.17->selenium) (25.1.0)\n",
      "Collecting sortedcontainers (from trio~=0.17->selenium)\n",
      "  Downloading sortedcontainers-2.4.0-py2.py3-none-any.whl.metadata (10 kB)\n",
      "Requirement already satisfied: idna in /usr/local/lib/python3.11/site-packages (from trio~=0.17->selenium) (3.10)\n",
      "Collecting outcome (from trio~=0.17->selenium)\n",
      "  Downloading outcome-1.3.0.post0-py2.py3-none-any.whl.metadata (2.6 kB)\n",
      "Requirement already satisfied: sniffio>=1.3.0 in /usr/local/lib/python3.11/site-packages (from trio~=0.17->selenium) (1.3.1)\n",
      "Collecting wsproto>=0.14 (from trio-websocket~=0.9->selenium)\n",
      "  Downloading wsproto-1.2.0-py3-none-any.whl.metadata (5.6 kB)\n",
      "Collecting pysocks!=1.5.7,<2.0,>=1.5.6 (from urllib3[socks]<3,>=1.26->selenium)\n",
      "  Downloading PySocks-1.7.1-py3-none-any.whl.metadata (13 kB)\n",
      "Requirement already satisfied: h11<1,>=0.9.0 in /usr/local/lib/python3.11/site-packages (from wsproto>=0.14->trio-websocket~=0.9->selenium) (0.14.0)\n",
      "Downloading selenium-4.29.0-py3-none-any.whl (9.5 MB)\n",
      "\u001b[2K   \u001b[90m━━━━━━━━━━━━━━━━━━━━━━━━━━━━━━━━━━━━━━━━\u001b[0m \u001b[32m9.5/9.5 MB\u001b[0m \u001b[31m12.4 MB/s\u001b[0m eta \u001b[36m0:00:00\u001b[0m00:01\u001b[0m00:01\u001b[0m\n",
      "\u001b[?25hDownloading trio-0.29.0-py3-none-any.whl (492 kB)\n",
      "\u001b[2K   \u001b[90m━━━━━━━━━━━━━━━━━━━━━━━━━━━━━━━━━━━━━━━━\u001b[0m \u001b[32m492.9/492.9 kB\u001b[0m \u001b[31m11.4 MB/s\u001b[0m eta \u001b[36m0:00:00\u001b[0ma \u001b[36m0:00:01\u001b[0m\n",
      "\u001b[?25hDownloading trio_websocket-0.12.2-py3-none-any.whl (21 kB)\n",
      "Downloading outcome-1.3.0.post0-py2.py3-none-any.whl (10 kB)\n",
      "Downloading PySocks-1.7.1-py3-none-any.whl (16 kB)\n",
      "Downloading wsproto-1.2.0-py3-none-any.whl (24 kB)\n",
      "Downloading sortedcontainers-2.4.0-py2.py3-none-any.whl (29 kB)\n",
      "Installing collected packages: sortedcontainers, wsproto, pysocks, outcome, trio, trio-websocket, selenium\n",
      "Successfully installed outcome-1.3.0.post0 pysocks-1.7.1 selenium-4.29.0 sortedcontainers-2.4.0 trio-0.29.0 trio-websocket-0.12.2 wsproto-1.2.0\n",
      "\u001b[33mWARNING: Running pip as the 'root' user can result in broken permissions and conflicting behaviour with the system package manager. It is recommended to use a virtual environment instead: https://pip.pypa.io/warnings/venv\u001b[0m\u001b[33m\n",
      "\u001b[0m\n",
      "\u001b[1m[\u001b[0m\u001b[34;49mnotice\u001b[0m\u001b[1;39;49m]\u001b[0m\u001b[39;49m A new release of pip is available: \u001b[0m\u001b[31;49m24.0\u001b[0m\u001b[39;49m -> \u001b[0m\u001b[32;49m25.0.1\u001b[0m\n",
      "\u001b[1m[\u001b[0m\u001b[34;49mnotice\u001b[0m\u001b[1;39;49m]\u001b[0m\u001b[39;49m To update, run: \u001b[0m\u001b[32;49mpip install --upgrade pip\u001b[0m\n"
     ]
    }
   ],
   "source": [
    "!pip install selenium"
   ]
  },
  {
   "cell_type": "code",
   "execution_count": 15,
   "id": "9b1c8f5a-74e0-4793-bb8c-985d0090612a",
   "metadata": {
    "execution": {
     "iopub.execute_input": "2025-02-28T03:40:46.502206Z",
     "iopub.status.busy": "2025-02-28T03:40:46.501656Z",
     "iopub.status.idle": "2025-02-28T03:41:07.696274Z",
     "shell.execute_reply": "2025-02-28T03:41:07.695472Z",
     "shell.execute_reply.started": "2025-02-28T03:40:46.502170Z"
    },
    "scrolled": true
   },
   "outputs": [
    {
     "ename": "WebDriverException",
     "evalue": "Message: Service /root/.cache/selenium/chromedriver/linux64/133.0.6943.141/chromedriver unexpectedly exited. Status code was: 127\n",
     "output_type": "error",
     "traceback": [
      "\u001b[0;31m---------------------------------------------------------------------------\u001b[0m",
      "\u001b[0;31mWebDriverException\u001b[0m                        Traceback (most recent call last)",
      "Cell \u001b[0;32mIn[15], line 5\u001b[0m\n\u001b[1;32m      1\u001b[0m \u001b[38;5;28;01mfrom\u001b[39;00m\u001b[38;5;250m \u001b[39m\u001b[38;5;21;01mselenium\u001b[39;00m\u001b[38;5;250m \u001b[39m\u001b[38;5;28;01mimport\u001b[39;00m webdriver\n\u001b[1;32m      3\u001b[0m url \u001b[38;5;241m=\u001b[39m \u001b[38;5;124m\"\u001b[39m\u001b[38;5;124mhttps://www.bloomberg.com/newsletters/tech-in-depth/latest\u001b[39m\u001b[38;5;124m\"\u001b[39m\n\u001b[0;32m----> 5\u001b[0m driver \u001b[38;5;241m=\u001b[39m \u001b[43mwebdriver\u001b[49m\u001b[38;5;241;43m.\u001b[39;49m\u001b[43mChrome\u001b[49m\u001b[43m(\u001b[49m\u001b[43m)\u001b[49m  \u001b[38;5;66;03m# Make sure you have ChromeDriver installed\u001b[39;00m\n\u001b[1;32m      6\u001b[0m driver\u001b[38;5;241m.\u001b[39mget(url)\n\u001b[1;32m      8\u001b[0m \u001b[38;5;28mprint\u001b[39m(driver\u001b[38;5;241m.\u001b[39mcurrent_url)  \u001b[38;5;66;03m# This should show the final URL\u001b[39;00m\n",
      "File \u001b[0;32m/usr/local/lib/python3.11/site-packages/selenium/webdriver/chrome/webdriver.py:45\u001b[0m, in \u001b[0;36mWebDriver.__init__\u001b[0;34m(self, options, service, keep_alive)\u001b[0m\n\u001b[1;32m     42\u001b[0m service \u001b[38;5;241m=\u001b[39m service \u001b[38;5;28;01mif\u001b[39;00m service \u001b[38;5;28;01melse\u001b[39;00m Service()\n\u001b[1;32m     43\u001b[0m options \u001b[38;5;241m=\u001b[39m options \u001b[38;5;28;01mif\u001b[39;00m options \u001b[38;5;28;01melse\u001b[39;00m Options()\n\u001b[0;32m---> 45\u001b[0m \u001b[38;5;28;43msuper\u001b[39;49m\u001b[43m(\u001b[49m\u001b[43m)\u001b[49m\u001b[38;5;241;43m.\u001b[39;49m\u001b[38;5;21;43m__init__\u001b[39;49m\u001b[43m(\u001b[49m\n\u001b[1;32m     46\u001b[0m \u001b[43m    \u001b[49m\u001b[43mbrowser_name\u001b[49m\u001b[38;5;241;43m=\u001b[39;49m\u001b[43mDesiredCapabilities\u001b[49m\u001b[38;5;241;43m.\u001b[39;49m\u001b[43mCHROME\u001b[49m\u001b[43m[\u001b[49m\u001b[38;5;124;43m\"\u001b[39;49m\u001b[38;5;124;43mbrowserName\u001b[39;49m\u001b[38;5;124;43m\"\u001b[39;49m\u001b[43m]\u001b[49m\u001b[43m,\u001b[49m\n\u001b[1;32m     47\u001b[0m \u001b[43m    \u001b[49m\u001b[43mvendor_prefix\u001b[49m\u001b[38;5;241;43m=\u001b[39;49m\u001b[38;5;124;43m\"\u001b[39;49m\u001b[38;5;124;43mgoog\u001b[39;49m\u001b[38;5;124;43m\"\u001b[39;49m\u001b[43m,\u001b[49m\n\u001b[1;32m     48\u001b[0m \u001b[43m    \u001b[49m\u001b[43moptions\u001b[49m\u001b[38;5;241;43m=\u001b[39;49m\u001b[43moptions\u001b[49m\u001b[43m,\u001b[49m\n\u001b[1;32m     49\u001b[0m \u001b[43m    \u001b[49m\u001b[43mservice\u001b[49m\u001b[38;5;241;43m=\u001b[39;49m\u001b[43mservice\u001b[49m\u001b[43m,\u001b[49m\n\u001b[1;32m     50\u001b[0m \u001b[43m    \u001b[49m\u001b[43mkeep_alive\u001b[49m\u001b[38;5;241;43m=\u001b[39;49m\u001b[43mkeep_alive\u001b[49m\u001b[43m,\u001b[49m\n\u001b[1;32m     51\u001b[0m \u001b[43m\u001b[49m\u001b[43m)\u001b[49m\n",
      "File \u001b[0;32m/usr/local/lib/python3.11/site-packages/selenium/webdriver/chromium/webdriver.py:55\u001b[0m, in \u001b[0;36mChromiumDriver.__init__\u001b[0;34m(self, browser_name, vendor_prefix, options, service, keep_alive)\u001b[0m\n\u001b[1;32m     52\u001b[0m     options\u001b[38;5;241m.\u001b[39mbrowser_version \u001b[38;5;241m=\u001b[39m \u001b[38;5;28;01mNone\u001b[39;00m\n\u001b[1;32m     54\u001b[0m \u001b[38;5;28mself\u001b[39m\u001b[38;5;241m.\u001b[39mservice\u001b[38;5;241m.\u001b[39mpath \u001b[38;5;241m=\u001b[39m \u001b[38;5;28mself\u001b[39m\u001b[38;5;241m.\u001b[39mservice\u001b[38;5;241m.\u001b[39menv_path() \u001b[38;5;129;01mor\u001b[39;00m finder\u001b[38;5;241m.\u001b[39mget_driver_path()\n\u001b[0;32m---> 55\u001b[0m \u001b[38;5;28;43mself\u001b[39;49m\u001b[38;5;241;43m.\u001b[39;49m\u001b[43mservice\u001b[49m\u001b[38;5;241;43m.\u001b[39;49m\u001b[43mstart\u001b[49m\u001b[43m(\u001b[49m\u001b[43m)\u001b[49m\n\u001b[1;32m     57\u001b[0m executor \u001b[38;5;241m=\u001b[39m ChromiumRemoteConnection(\n\u001b[1;32m     58\u001b[0m     remote_server_addr\u001b[38;5;241m=\u001b[39m\u001b[38;5;28mself\u001b[39m\u001b[38;5;241m.\u001b[39mservice\u001b[38;5;241m.\u001b[39mservice_url,\n\u001b[1;32m     59\u001b[0m     browser_name\u001b[38;5;241m=\u001b[39mbrowser_name,\n\u001b[0;32m   (...)\u001b[0m\n\u001b[1;32m     62\u001b[0m     ignore_proxy\u001b[38;5;241m=\u001b[39moptions\u001b[38;5;241m.\u001b[39m_ignore_local_proxy,\n\u001b[1;32m     63\u001b[0m )\n\u001b[1;32m     65\u001b[0m \u001b[38;5;28;01mtry\u001b[39;00m:\n",
      "File \u001b[0;32m/usr/local/lib/python3.11/site-packages/selenium/webdriver/common/service.py:113\u001b[0m, in \u001b[0;36mService.start\u001b[0;34m(self)\u001b[0m\n\u001b[1;32m    111\u001b[0m count \u001b[38;5;241m=\u001b[39m \u001b[38;5;241m0\u001b[39m\n\u001b[1;32m    112\u001b[0m \u001b[38;5;28;01mwhile\u001b[39;00m \u001b[38;5;28;01mTrue\u001b[39;00m:\n\u001b[0;32m--> 113\u001b[0m     \u001b[38;5;28;43mself\u001b[39;49m\u001b[38;5;241;43m.\u001b[39;49m\u001b[43massert_process_still_running\u001b[49m\u001b[43m(\u001b[49m\u001b[43m)\u001b[49m\n\u001b[1;32m    114\u001b[0m     \u001b[38;5;28;01mif\u001b[39;00m \u001b[38;5;28mself\u001b[39m\u001b[38;5;241m.\u001b[39mis_connectable():\n\u001b[1;32m    115\u001b[0m         \u001b[38;5;28;01mbreak\u001b[39;00m\n",
      "File \u001b[0;32m/usr/local/lib/python3.11/site-packages/selenium/webdriver/common/service.py:126\u001b[0m, in \u001b[0;36mService.assert_process_still_running\u001b[0;34m(self)\u001b[0m\n\u001b[1;32m    124\u001b[0m return_code \u001b[38;5;241m=\u001b[39m \u001b[38;5;28mself\u001b[39m\u001b[38;5;241m.\u001b[39mprocess\u001b[38;5;241m.\u001b[39mpoll()\n\u001b[1;32m    125\u001b[0m \u001b[38;5;28;01mif\u001b[39;00m return_code:\n\u001b[0;32m--> 126\u001b[0m     \u001b[38;5;28;01mraise\u001b[39;00m WebDriverException(\u001b[38;5;124mf\u001b[39m\u001b[38;5;124m\"\u001b[39m\u001b[38;5;124mService \u001b[39m\u001b[38;5;132;01m{\u001b[39;00m\u001b[38;5;28mself\u001b[39m\u001b[38;5;241m.\u001b[39m_path\u001b[38;5;132;01m}\u001b[39;00m\u001b[38;5;124m unexpectedly exited. Status code was: \u001b[39m\u001b[38;5;132;01m{\u001b[39;00mreturn_code\u001b[38;5;132;01m}\u001b[39;00m\u001b[38;5;124m\"\u001b[39m)\n",
      "\u001b[0;31mWebDriverException\u001b[0m: Message: Service /root/.cache/selenium/chromedriver/linux64/133.0.6943.141/chromedriver unexpectedly exited. Status code was: 127\n"
     ]
    }
   ],
   "source": [
    "from selenium import webdriver\n",
    "\n",
    "url = \"https://www.bloomberg.com/newsletters/tech-in-depth/latest\"\n",
    "\n",
    "driver = webdriver.Chrome()  # Make sure you have ChromeDriver installed\n",
    "driver.get(url)\n",
    "\n",
    "print(driver.current_url)  # This should show the final URL\n",
    "driver.quit()"
   ]
  },
  {
   "cell_type": "code",
   "execution_count": null,
   "id": "ec3fad50-8456-472e-8593-a57c9d0b429f",
   "metadata": {},
   "outputs": [],
   "source": []
  },
  {
   "cell_type": "code",
   "execution_count": 14,
   "id": "58cc8805-2947-4455-9d96-1ad2f138f6ca",
   "metadata": {
    "execution": {
     "iopub.execute_input": "2025-03-10T01:31:35.199618Z",
     "iopub.status.busy": "2025-03-10T01:31:35.198470Z",
     "iopub.status.idle": "2025-03-10T01:31:35.431231Z",
     "shell.execute_reply": "2025-03-10T01:31:35.430639Z",
     "shell.execute_reply.started": "2025-03-10T01:31:35.199559Z"
    }
   },
   "outputs": [],
   "source": [
    "messages = gmail.fetch_emails(sender='Bloomberg Technology <noreply@news.bloomberg.com>', after='2025-03-05', before='2025-03-05')"
   ]
  },
  {
   "cell_type": "code",
   "execution_count": 16,
   "id": "98953484-0a14-404e-8fe2-7d79262e576a",
   "metadata": {
    "execution": {
     "iopub.execute_input": "2025-03-10T01:31:47.627522Z",
     "iopub.status.busy": "2025-03-10T01:31:47.627155Z",
     "iopub.status.idle": "2025-03-10T01:31:47.640964Z",
     "shell.execute_reply": "2025-03-10T01:31:47.638992Z",
     "shell.execute_reply.started": "2025-03-10T01:31:47.627477Z"
    },
    "scrolled": true
   },
   "outputs": [
    {
     "data": {
      "text/plain": [
       "[{'sender': 'Bloomberg Technology <noreply@news.bloomberg.com>',\n",
       "  'subject': \"Trump assails Biden's Chips Act\",\n",
       "  'date_utc': 'Wed, 05 Mar 2025 13:08:45 +0000',\n",
       "  'id': '195666c5783c7f6e',\n",
       "  'text': \"Tech In Brief \\n Hi, you’re receiving our new free Tech In Brief newsletter because you had \\nbeen getting one of Bloomberg’s technology newsletters that are n \\n\\n\\n <https://bloom.bg/41JkELf> \\n \\n<https://sli.bloomberg.com/click?s=1105649&stpe=default&li=12803590&m=412ded93419b0667798b58cd796b87cf&p=03052025&us_privacy=1YYY>\\n\\n\\n\\n\\n Get exclusive scoops, insights and analysis from Bloomberg technology \\nreporters with the Tech Newsletter Bundle subscription. Includes the \\nsubscriber-only newsletters Tech In Depth, Power On, Q&AI, Game On and \\nSoundbite and paywall-free access to the links in them. \\n Subscribe now  <https://bloom.bg/3WjXMhT> \\n\\n\\n\\n\\nHi, you’re receiving our new free Tech In Brief newsletter because you had \\nbeen getting one of Bloomberg’s technology newsletters that are now \\nsubscriber-only. You can manage your newsletter subscriptionshere \\n<https://bloom.bg/41nNwZ7>. \\n\\n\\n\\n Tech Across the Globe \\n\\n\\n\\nNew iPads: Apple introduced a new iPad Air and an upgraded low-end tablet, \\ntrying to capitalize on therenewed popularity <https://bloom.bg/3XvybTY> of the \\nproducts while sales of the iPhone slump.\\n\\nFrench satellites: Eutelsat Communications SA shares jumped this week \\n<https://bloom.bg/3DiY0zC>. Investors bet the French satellite provider will \\ngain a portion of the increased defense spending pledged by the EU in the wake \\nof the US withdrawal of military support for Ukraine.\\n\\nTencent on top: Tencent stepped up the competition for artificial intelligence \\ntools <https://bloom.bg/3XoEpoz> in China when its Yuanbao chatbot passed \\nDeepSeek — for just a day — to become the country’s most-downloaded iPhone app.\\n\\n\\n\\n Revalued \\n\\n\\n\\nAescape, the maker of an AI-powered massage robot <https://bloom.bg/41FwyFs>, \\nraised $83 million in a new funding round that valued it at $250 million. The \\ncompany has 40 robot massage tables on the market, including some at Equinox \\ngyms, and plans to ship 400 more this year.\\nA woman lies face down on an Aescape table, receiving a massage. Source: \\nSource: Aescape \\n\\n\\n Must read \\n\\n\\n\\nDonald Trump’s prime-time address to Congress on Tuesday was highlighted by \\nhis calling foran end to the $52 billion Chips Act <https://bloom.bg/4h7NU2q>. \\nThe president touted TSMC’s commitment of another $100 billion in US \\ninvestment, but said the government would be “giving them no money.” How far \\ncan his executive power reach in curtailing promised incentives, and how might \\ncompanies react? Intoday’s Tech In Depth <https://bloom.bg/4hjzWes>, Mackenzie \\nHawkins searches for answers.\\n\\nFor more of Bloomberg’s coverage of the technology industry, subscribe here \\n<https://bloom.bg/3POHEBt>.\\n\\n\\n \\n<https://sli.bloomberg.com/click?s=1105644&stpe=default&li=12803590&m=412ded93419b0667798b58cd796b87cf&p=03052025&us_privacy=1YYY>\\n\\n \\n<https://sli.bloomberg.com/click?s=1105644&stpe=default&li=12803590&m=412ded93419b0667798b58cd796b87cf&p=03052025&us_privacy=1YYY>\\n\\n This week in Soundbite \\n\\n\\n\\nCountry music star Jelly Roll knew a turn on Joe Rogan’s podcast would prove a \\npromotional boon, Ashley Carman reports in this week’sSoundbite \\n<https://bloom.bg/4ksH0Yg>. But now, she writes, the Grammy-nominated artist \\nhas become a friend of Rogan and his crew of podcasting comedians — and a \\nregular character on their popular shows. For more of Ashley’s coverage of the \\npodcast and music industries, subscribehere <https://bloom.bg/3BYsIxp>. \\n\\n\\n\\n\\nMore from Bloomberg\\n\\nGet Tech In Depth <https://bloom.bg/3WipX0B> and more Bloomberg Tech \\nnewsletters in your inbox:\\n\\n * Cyber Bulletin <https://bloom.bg/3Wk7EZb> for coverage of the shadow world \\nof hackers and cyber-espionage \\n * Game On <https://bloom.bg/3DU2Sv2> for diving deep inside the video game \\nbusiness \\n * Power On <https://bloom.bg/3Wir1S6> for Apple scoops, consumer tech news \\nand more \\n * Screentime <https://bloom.bg/3CbsRgX> for a front-row seat to the collision \\nof Hollywood and Silicon Valley \\n * Soundbite <https://bloom.bg/4jfcBMr> for reporting on podcasting, the music \\nindustry and audio trends \\n * Q&AI <https://bloom.bg/3WhVqAc> for answers to all your questions about AI \\n\\nFollow Us \\n\\n <https://www.facebook.com/bloombergbusiness>  \\n<https://www.instagram.com/bloombergbusiness/>  <https://twitter.com/technology>\\n <https://www.linkedin.com/company/bloomberg-news/> \\n\\n\\n\\nLike getting this newsletter?  Subscribe to Bloomberg.com \\n<https://www.bloomberg.com/subscriptions?utm_medium=email&utm_source=newsletter&utm_campaign=tech-in-brief>\\n for unlimited access to trusted, data-driven journalism and subscriber-only \\ninsights.\\n\\nBefore it’s here, it’s on the Bloomberg Terminal. Find out more about how the \\nTerminal delivers information and analysis that financial professionals can’t \\nfind anywhere else. Learn more \\n<https://www.bloomberg.com/professional/products/bloomberg-terminal/?utm_medium=email&utm_source=newsletter&utm_campaign=tech-in-brief>\\n.\\n\\nWant to sponsor this newsletter?  Get in touch here \\n<https://www.bloombergmedia.com/contact/?utm_medium=email&utm_source=newsletter&utm_campaign=tech-in-brief>\\n.\\n\\n\\n You received this message because you are subscribed to Bloomberg's Tech In \\nBrief newsletter. If a friend forwarded you this message,sign up here \\n<https://bloom.bg/3C8MshO> to get it in your inbox. \\nUnsubscribe \\n<https://login.bloomberg.com/newsletters?source=newsletter_unsub&email=automatic.newsletters@gmail.com&hash=f0b8719d3aa4dc758fcae83e3cfc34e517c4e64b>\\nBloomberg.com <http://bloomberg.com> \\nContact Us <https://bloom.bg/3PWd74F>  Bloomberg L.P.\\n731 Lexington Avenue,\\nNew York, NY 10022 \\n\\n <https://www.liveintent.com/powered-by>  <>  \\n<https://www.liveintent.com/ad-choices>  \\n<https://links.message.bloomberg.com/s/eh/0g6Y-ApdKmdeX8sEFUSSyuaRtZlBM5r3hdVIc0qaEHZbSzkqrO8-SKHlFCVzT6N_00rjk2bufIZRpo8RVcNgnlZy18bC7waYFlhuaps4Bman6LzRyPQogoOwOmCo1Tf2hwCI3nMhf646KYc-9Fg37yAL9UTS5XTcxA2xZQAicb53wrXlg_OH1biNKBXPuFSOknSGnQgel1PHUmj-J-5UQzSST_Tn4LiEOhEr_QgJgFLQcgipHORZxsBU4uZ6-o7vATB92X8PKNJYHLPn95IWgoJLc1NYi9aCHqP95QgNvdDxBPCEeWSjjI4Tjma0R4_u1zUssLYAWae2aLAqBqlPoSRe4AmClB-sj73di7zYT_pRGg/oaJBIC8LzCs9v_-dIrMZJqFJd3ofSEjT/6>\",\n",
       "  'message': {'id': '195666c5783c7f6e',\n",
       "   'threadId': '195666c5783c7f6e',\n",
       "   'labelIds': ['CATEGORY_UPDATES', 'INBOX'],\n",
       "   'snippet': 'Hi, you&#39;re receiving our new free Tech In Brief newsletter because you had been getting one of Bloomberg&#39;s technology newsletters that are n Bloomberg Get exclusive scoops, insights and',\n",
       "   'payload': {'partId': '',\n",
       "    'mimeType': 'multipart/alternative',\n",
       "    'filename': '',\n",
       "    'headers': [{'name': 'Delivered-To',\n",
       "      'value': 'automatic.newsletters@gmail.com'},\n",
       "     {'name': 'Received',\n",
       "      'value': 'by 2002:a05:622a:2a18:b0:474:e23f:3605 with SMTP id hc24csp807420qtb;        Wed, 5 Mar 2025 05:08:51 -0800 (PST)'},\n",
       "     {'name': 'X-Google-Smtp-Source',\n",
       "      'value': 'AGHT+IFqBfYLRXdCxYvsgtPPlyM5xlhmiUArwweo1snnYcOMF+ncZzaxnf2pb5B0VUDPMeLBz8+r'},\n",
       "     {'name': 'X-Received',\n",
       "      'value': 'by 2002:a05:6102:32c3:b0:4bb:c490:7d6c with SMTP id ada2fe7eead31-4c2e27af8d3mr1397479137.9.1741180130833;        Wed, 05 Mar 2025 05:08:50 -0800 (PST)'},\n",
       "     {'name': 'ARC-Seal',\n",
       "      'value': 'i=1; a=rsa-sha256; t=1741180130; cv=none;        d=google.com; s=arc-20240605;        b=ccIM92IOowfEH3c7OwbKXLTLzWmFZk6JAZY1io0nAZXjBy+ihKCtWpxfgdQRoqcMhF         Qb3c/snFLF+Tjh+bSsyniXTu4Y4R2a3SkZPu+e0IXlJbhijCJAIzIF7A6PTe/3H1pZnx         W/viuiGsbNUdUr21E0hBGNzSrsugnj/YAALQP77zy0EtlQ/iYgfkCvVMm3YsLzwKIkHa         7Y6tQJRlbu6hrg57VgUSWQBFuAFBZYh8KVX+h/hnsHuPZA5GK7hGxTVZeHNix8MwphKa         X5G9RO+Zm53UoN/8+RcbhR0mDbYrcru/I/zdYchnOeVq6iYhqWR1GWRSbpuVDLpwpR2T         rHZQ=='},\n",
       "     {'name': 'ARC-Message-Signature',\n",
       "      'value': 'i=1; a=rsa-sha256; c=relaxed/relaxed; d=google.com; s=arc-20240605;        h=feedback-id:from:subject:list-unsubscribe-post:reply-to         :list-unsubscribe:mime-version:date:message-id:to:dkim-signature;        bh=uF9dGyYIVitw2T5HrqiROg/WpU7p7xphKreuR3NmRyU=;        fh=VnhNYpUDAK7h/fb2MJhpyBMA59Jx2JgnfiwqFtc1/Y0=;        b=QM5hGOeh9S9mIwIIp2KgqYepsnInX9IOEoaSFSZCxXB6oK0hEWIPasukFlWH5j1T0S         81G2yxWh04aEb2hbNHpnqV3SBOsvE/sBOQXi8RP3yW3L8T3FggKvhApfE6koRIMfCcLe         nYy4tq7H3jjiDTVj7hTbnixPfjiofXJsfuXSqcoG7/esYXucfe7n1U3akP+bB44gSkUY         6aOSwSjrnn8nZYCcnWsXnf/L+/B88hIHVVUX10+4aOCYyqjdRDLo9K8/Fcf8srdlnYFC         3kvTfCnryOZbti4di7AVfbvu+PFfe4c4THH5iKCZWK2AZuTsNgID5Hwfcz1BjphcbUnq         0eYw==;        dara=google.com'},\n",
       "     {'name': 'ARC-Authentication-Results',\n",
       "      'value': 'i=1; mx.google.com;       dkim=pass header.i=@news.bloomberg.com header.s=20240320 header.b=\"wyLxXSf/\";       spf=pass (google.com: domain of msprvs1=20159o-ictsak=bounces-280172-1781@bounce.news.bloomberg.com designates 168.203.32.21 as permitted sender) smtp.mailfrom=\"msprvs1=20159O-IcTSAk=bounces-280172-1781@bounce.news.bloomberg.com\";       dmarc=pass (p=REJECT sp=REJECT dis=NONE) header.from=news.bloomberg.com'},\n",
       "     {'name': 'Return-Path',\n",
       "      'value': '<msprvs1=20159O-IcTSAk=bounces-280172-1781@bounce.news.bloomberg.com>'},\n",
       "     {'name': 'Received',\n",
       "      'value': 'from mta-203-32-21.sparkpostmail.com (mta-203-32-21.sparkpostmail.com. [168.203.32.21])        by mx.google.com with ESMTPS id ada2fe7eead31-4c175719e84si1955371137.458.2025.03.05.05.08.50        for <automatic.newsletters@gmail.com>        (version=TLS1_2 cipher=ECDHE-ECDSA-AES128-GCM-SHA256 bits=128/128);        Wed, 05 Mar 2025 05:08:50 -0800 (PST)'},\n",
       "     {'name': 'Received-SPF',\n",
       "      'value': 'pass (google.com: domain of msprvs1=20159o-ictsak=bounces-280172-1781@bounce.news.bloomberg.com designates 168.203.32.21 as permitted sender) client-ip=168.203.32.21;'},\n",
       "     {'name': 'Authentication-Results',\n",
       "      'value': 'mx.google.com;       dkim=pass header.i=@news.bloomberg.com header.s=20240320 header.b=\"wyLxXSf/\";       spf=pass (google.com: domain of msprvs1=20159o-ictsak=bounces-280172-1781@bounce.news.bloomberg.com designates 168.203.32.21 as permitted sender) smtp.mailfrom=\"msprvs1=20159O-IcTSAk=bounces-280172-1781@bounce.news.bloomberg.com\";       dmarc=pass (p=REJECT sp=REJECT dis=NONE) header.from=news.bloomberg.com'},\n",
       "     {'name': 'Return-Path',\n",
       "      'value': '<msprvs1=20159O-IcTSAk=bounces-280172-1781@bounce.news.bloomberg.com>'},\n",
       "     {'name': 'X-MSFBL',\n",
       "      'value': 'AfUuT1XLLISNwhUfKH7kaarsXlDqotYsCejDE05NvU4=|eyJjdXN0b21lcl9pZCI 6IjI4MDE3MiIsInN1YmFjY291bnRfaWQiOiIxNzgxIiwidGVuYW50X2lkIjoic3B jIiwibWVzc2FnZV9pZCI6IjY3YmZkZDRjYzg2NzhhNzE3NzFjIiwiciI6ImF1dG9 tYXRpYy5uZXdzbGV0dGVyc0BnbWFpbC5jb20ifQ=='},\n",
       "     {'name': 'DKIM-Signature',\n",
       "      'value': 'v=1; a=rsa-sha256; c=relaxed/relaxed; d=news.bloomberg.com; s=20240320; t=1741180125; i=@news.bloomberg.com; bh=uF9dGyYIVitw2T5HrqiROg/WpU7p7xphKreuR3NmRyU=; h=To:Message-ID:Date:Content-Type:List-Unsubscribe:\\t List-Unsubscribe-Post:Subject:From:From:To:Cc:Subject; b=wyLxXSf/H/qI3Uux7jR2KI51f9Cz8idtWcYPX3bAA5k1mF33EshDbAaGL7SepBvfr\\t VpQk8BG2T2BMhUEfeHhAVU6LvIXC8nv/mZ/9eqFNjJvFMGg9rumDlmCY2p2E85Wz7z\\t 7t8kdhzoMB/VmReFWOv8EiXSGg63dUt94jNa3LXD+EfuLf+5aWY6rntVqv+iNAMwar\\t xdz4YYTmsDn/+kzpfSUm5r3QWYVYGYrRoY6Iv4zZqtBvdq8Eo50nZPTOYzucKbWVzy\\t RPD/8mTX2jjfxjVzvjKHsNTnbfa21PAVROr0RajLWT31nYMdSDTz6oONzladTvkDbP\\t EIfsO7rudhDLg=='},\n",
       "     {'name': 'Received',\n",
       "      'value': 'from [10.90.41.10] ([10.90.41.10]) by i-03e66a6c61d7e58ac.mta1vrest.sd.prd.sparkpost (ecelerity 4.8.0.74368 r(msys-ecelerity:tags/4.8.0.17)) with REST id C1/77-22418-DDC48C76; Wed, 05 Mar 2025 13:08:45 +0000'},\n",
       "     {'name': 'To', 'value': 'automatic.newsletters@gmail.com'},\n",
       "     {'name': 'Message-ID',\n",
       "      'value': '<C1.77.22418.DDC48C76@i-03e66a6c61d7e58ac.mta1vrest.sd.prd.sparkpost>'},\n",
       "     {'name': 'Date', 'value': 'Wed, 05 Mar 2025 13:08:45 +0000'},\n",
       "     {'name': 'Content-Type',\n",
       "      'value': 'multipart/alternative; boundary=\"_----k9ZYURsTwOL87guehN8X+w===_D0/77-22418-DDC48C76\"'},\n",
       "     {'name': 'MIME-Version', 'value': '1.0'},\n",
       "     {'name': 'X-Campaign-ID', 'value': '12803590'},\n",
       "     {'name': 'List-Unsubscribe',\n",
       "      'value': '<https://www.bloomberg.com/email-settings/out/?l=1&cid=1002&uid=YXV0b21hdGljLm5ld3NsZXR0ZXJzQGdtYWlsLmNvbQ%3D%3D>,<mailto:unsubscribe+12803590+16769556@unsubscribe.iterable.com>'},\n",
       "     {'name': 'X-Message-ID', 'value': 'cbcd9ce71e2248f7bf7019e202541ebd'},\n",
       "     {'name': 'X-Feedback-ID', 'value': '16769556:12803590:99686:iterable'},\n",
       "     {'name': 'Reply-To', 'value': 'noreply@news.bloomberg.com'},\n",
       "     {'name': 'List-Unsubscribe-Post', 'value': 'List-Unsubscribe=One-Click'},\n",
       "     {'name': 'Subject', 'value': \"Trump assails Biden's Chips Act\"},\n",
       "     {'name': 'From',\n",
       "      'value': 'Bloomberg Technology <noreply@news.bloomberg.com>'},\n",
       "     {'name': 'Feedback-ID', 'value': '16769556:12803590:99686:iterable'}],\n",
       "    'body': {'size': 0},\n",
       "    'parts': [{'partId': '0',\n",
       "      'mimeType': 'text/plain',\n",
       "      'filename': '',\n",
       "      'headers': [{'name': 'Content-Transfer-Encoding',\n",
       "        'value': 'quoted-printable'},\n",
       "       {'name': 'Content-Type', 'value': 'text/plain; charset=\"UTF-8\"'}],\n",
       "      'body': {'size': 6119,\n",
       "       'data': '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'}},\n",
       "     {'partId': '1',\n",
       "      'mimeType': 'text/html',\n",
       "      'filename': '',\n",
       "      'headers': [{'name': 'Content-Transfer-Encoding',\n",
       "        'value': 'quoted-printable'},\n",
       "       {'name': 'Content-Type', 'value': 'text/html; charset=\"UTF-8\"'}],\n",
       "      'body': {'size': 41668,\n",
       "       'data': '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'}}]},\n",
       "   'sizeEstimate': 57010,\n",
       "   'historyId': '95974',\n",
       "   'internalDate': '1741180125000'}}]"
      ]
     },
     "execution_count": 16,
     "metadata": {},
     "output_type": "execute_result"
    }
   ],
   "source": [
    "messages"
   ]
  },
  {
   "cell_type": "code",
   "execution_count": 17,
   "id": "d0c9fd03-626a-4d31-bf77-b4e203f8f50b",
   "metadata": {
    "execution": {
     "iopub.execute_input": "2025-03-10T01:32:26.761482Z",
     "iopub.status.busy": "2025-03-10T01:32:26.760070Z",
     "iopub.status.idle": "2025-03-10T01:32:26.768014Z",
     "shell.execute_reply": "2025-03-10T01:32:26.766709Z",
     "shell.execute_reply.started": "2025-03-10T01:32:26.761395Z"
    }
   },
   "outputs": [],
   "source": [
    "txt = messages[0]['text']"
   ]
  },
  {
   "cell_type": "code",
   "execution_count": 18,
   "id": "180d705f-94a3-4790-afe2-7a63993225af",
   "metadata": {
    "execution": {
     "iopub.execute_input": "2025-03-10T01:32:36.692284Z",
     "iopub.status.busy": "2025-03-10T01:32:36.691891Z",
     "iopub.status.idle": "2025-03-10T01:32:36.701875Z",
     "shell.execute_reply": "2025-03-10T01:32:36.700742Z",
     "shell.execute_reply.started": "2025-03-10T01:32:36.692257Z"
    }
   },
   "outputs": [
    {
     "data": {
      "text/plain": [
       "\"Tech In Brief \\n Hi, you’re receiving our new free Tech In Brief newsletter because you had \\nbeen getting one of Bloomberg’s technology newsletters that are n \\n\\n\\n <https://bloom.bg/41JkELf> \\n \\n<https://sli.bloomberg.com/click?s=1105649&stpe=default&li=12803590&m=412ded93419b0667798b58cd796b87cf&p=03052025&us_privacy=1YYY>\\n\\n\\n\\n\\n Get exclusive scoops, insights and analysis from Bloomberg technology \\nreporters with the Tech Newsletter Bundle subscription. Includes the \\nsubscriber-only newsletters Tech In Depth, Power On, Q&AI, Game On and \\nSoundbite and paywall-free access to the links in them. \\n Subscribe now  <https://bloom.bg/3WjXMhT> \\n\\n\\n\\n\\nHi, you’re receiving our new free Tech In Brief newsletter because you had \\nbeen getting one of Bloomberg’s technology newsletters that are now \\nsubscriber-only. You can manage your newsletter subscriptionshere \\n<https://bloom.bg/41nNwZ7>. \\n\\n\\n\\n Tech Across the Globe \\n\\n\\n\\nNew iPads: Apple introduced a new iPad Air and an upgraded low-end tablet, \\ntrying to capitalize on therenewed popularity <https://bloom.bg/3XvybTY> of the \\nproducts while sales of the iPhone slump.\\n\\nFrench satellites: Eutelsat Communications SA shares jumped this week \\n<https://bloom.bg/3DiY0zC>. Investors bet the French satellite provider will \\ngain a portion of the increased defense spending pledged by the EU in the wake \\nof the US withdrawal of military support for Ukraine.\\n\\nTencent on top: Tencent stepped up the competition for artificial intelligence \\ntools <https://bloom.bg/3XoEpoz> in China when its Yuanbao chatbot passed \\nDeepSeek — for just a day — to become the country’s most-downloaded iPhone app.\\n\\n\\n\\n Revalued \\n\\n\\n\\nAescape, the maker of an AI-powered massage robot <https://bloom.bg/41FwyFs>, \\nraised $83 million in a new funding round that valued it at $250 million. The \\ncompany has 40 robot massage tables on the market, including some at Equinox \\ngyms, and plans to ship 400 more this year.\\nA woman lies face down on an Aescape table, receiving a massage. Source: \\nSource: Aescape \\n\\n\\n Must read \\n\\n\\n\\nDonald Trump’s prime-time address to Congress on Tuesday was highlighted by \\nhis calling foran end to the $52 billion Chips Act <https://bloom.bg/4h7NU2q>. \\nThe president touted TSMC’s commitment of another $100 billion in US \\ninvestment, but said the government would be “giving them no money.” How far \\ncan his executive power reach in curtailing promised incentives, and how might \\ncompanies react? Intoday’s Tech In Depth <https://bloom.bg/4hjzWes>, Mackenzie \\nHawkins searches for answers.\\n\\nFor more of Bloomberg’s coverage of the technology industry, subscribe here \\n<https://bloom.bg/3POHEBt>.\\n\\n\\n \\n<https://sli.bloomberg.com/click?s=1105644&stpe=default&li=12803590&m=412ded93419b0667798b58cd796b87cf&p=03052025&us_privacy=1YYY>\\n\\n \\n<https://sli.bloomberg.com/click?s=1105644&stpe=default&li=12803590&m=412ded93419b0667798b58cd796b87cf&p=03052025&us_privacy=1YYY>\\n\\n This week in Soundbite \\n\\n\\n\\nCountry music star Jelly Roll knew a turn on Joe Rogan’s podcast would prove a \\npromotional boon, Ashley Carman reports in this week’sSoundbite \\n<https://bloom.bg/4ksH0Yg>. But now, she writes, the Grammy-nominated artist \\nhas become a friend of Rogan and his crew of podcasting comedians — and a \\nregular character on their popular shows. For more of Ashley’s coverage of the \\npodcast and music industries, subscribehere <https://bloom.bg/3BYsIxp>. \\n\\n\\n\\n\\nMore from Bloomberg\\n\\nGet Tech In Depth <https://bloom.bg/3WipX0B> and more Bloomberg Tech \\nnewsletters in your inbox:\\n\\n * Cyber Bulletin <https://bloom.bg/3Wk7EZb> for coverage of the shadow world \\nof hackers and cyber-espionage \\n * Game On <https://bloom.bg/3DU2Sv2> for diving deep inside the video game \\nbusiness \\n * Power On <https://bloom.bg/3Wir1S6> for Apple scoops, consumer tech news \\nand more \\n * Screentime <https://bloom.bg/3CbsRgX> for a front-row seat to the collision \\nof Hollywood and Silicon Valley \\n * Soundbite <https://bloom.bg/4jfcBMr> for reporting on podcasting, the music \\nindustry and audio trends \\n * Q&AI <https://bloom.bg/3WhVqAc> for answers to all your questions about AI \\n\\nFollow Us \\n\\n <https://www.facebook.com/bloombergbusiness>  \\n<https://www.instagram.com/bloombergbusiness/>  <https://twitter.com/technology>\\n <https://www.linkedin.com/company/bloomberg-news/> \\n\\n\\n\\nLike getting this newsletter?  Subscribe to Bloomberg.com \\n<https://www.bloomberg.com/subscriptions?utm_medium=email&utm_source=newsletter&utm_campaign=tech-in-brief>\\n for unlimited access to trusted, data-driven journalism and subscriber-only \\ninsights.\\n\\nBefore it’s here, it’s on the Bloomberg Terminal. Find out more about how the \\nTerminal delivers information and analysis that financial professionals can’t \\nfind anywhere else. Learn more \\n<https://www.bloomberg.com/professional/products/bloomberg-terminal/?utm_medium=email&utm_source=newsletter&utm_campaign=tech-in-brief>\\n.\\n\\nWant to sponsor this newsletter?  Get in touch here \\n<https://www.bloombergmedia.com/contact/?utm_medium=email&utm_source=newsletter&utm_campaign=tech-in-brief>\\n.\\n\\n\\n You received this message because you are subscribed to Bloomberg's Tech In \\nBrief newsletter. If a friend forwarded you this message,sign up here \\n<https://bloom.bg/3C8MshO> to get it in your inbox. \\nUnsubscribe \\n<https://login.bloomberg.com/newsletters?source=newsletter_unsub&email=automatic.newsletters@gmail.com&hash=f0b8719d3aa4dc758fcae83e3cfc34e517c4e64b>\\nBloomberg.com <http://bloomberg.com> \\nContact Us <https://bloom.bg/3PWd74F>  Bloomberg L.P.\\n731 Lexington Avenue,\\nNew York, NY 10022 \\n\\n <https://www.liveintent.com/powered-by>  <>  \\n<https://www.liveintent.com/ad-choices>  \\n<https://links.message.bloomberg.com/s/eh/0g6Y-ApdKmdeX8sEFUSSyuaRtZlBM5r3hdVIc0qaEHZbSzkqrO8-SKHlFCVzT6N_00rjk2bufIZRpo8RVcNgnlZy18bC7waYFlhuaps4Bman6LzRyPQogoOwOmCo1Tf2hwCI3nMhf646KYc-9Fg37yAL9UTS5XTcxA2xZQAicb53wrXlg_OH1biNKBXPuFSOknSGnQgel1PHUmj-J-5UQzSST_Tn4LiEOhEr_QgJgFLQcgipHORZxsBU4uZ6-o7vATB92X8PKNJYHLPn95IWgoJLc1NYi9aCHqP95QgNvdDxBPCEeWSjjI4Tjma0R4_u1zUssLYAWae2aLAqBqlPoSRe4AmClB-sj73di7zYT_pRGg/oaJBIC8LzCs9v_-dIrMZJqFJd3ofSEjT/6>\""
      ]
     },
     "execution_count": 18,
     "metadata": {},
     "output_type": "execute_result"
    }
   ],
   "source": [
    "txt"
   ]
  },
  {
   "cell_type": "code",
   "execution_count": 19,
   "id": "3249af54-d014-4665-8ee9-0ecf02c8d6c4",
   "metadata": {
    "execution": {
     "iopub.execute_input": "2025-03-10T01:37:19.777260Z",
     "iopub.status.busy": "2025-03-10T01:37:19.776761Z",
     "iopub.status.idle": "2025-03-10T01:37:19.784964Z",
     "shell.execute_reply": "2025-03-10T01:37:19.783782Z",
     "shell.execute_reply.started": "2025-03-10T01:37:19.777224Z"
    }
   },
   "outputs": [],
   "source": [
    "_text_txt = \"Revalued \\n\\n\\n\\nAescape, the maker of an AI-powered massage robot <https://bloom.bg/41FwyFs>, \\nraised $83 million in a new funding round that valued it at $250 million. The \\ncompany has 40 robot massage tables on the market, including some at Equinox \\ngyms, and plans to ship 400 more this year.\\nA woman lies face down on an Aescape table, receiving a massage. Source: \\nSource: Aescape \\n\\n\\n\""
   ]
  },
  {
   "cell_type": "code",
   "execution_count": 23,
   "id": "aa6393c3-7677-4fd5-8e50-e64e3ff9716a",
   "metadata": {
    "execution": {
     "iopub.execute_input": "2025-03-10T02:42:52.612746Z",
     "iopub.status.busy": "2025-03-10T02:42:52.610280Z",
     "iopub.status.idle": "2025-03-10T02:42:52.626801Z",
     "shell.execute_reply": "2025-03-10T02:42:52.625385Z",
     "shell.execute_reply.started": "2025-03-10T02:42:52.612709Z"
    }
   },
   "outputs": [
    {
     "data": {
      "text/plain": [
       "'Revalued Aescape, the maker of an AI-powered massage robot <https://bloom.bg/41FwyFs>, raised $83 million in a new funding round that valued it at $250 million. The company has 40 robot massage tables on the market, including some at Equinox gyms, and plans to ship 400 more this year. A woman lies face down on an Aescape table, receiving a massage. Source: Source: Aescape'"
      ]
     },
     "execution_count": 23,
     "metadata": {},
     "output_type": "execute_result"
    }
   ],
   "source": [
    "(\" \").join(_text_txt.strip().split())"
   ]
  },
  {
   "cell_type": "code",
   "execution_count": null,
   "id": "7500b90c-5cd9-4742-968a-bdd595808a39",
   "metadata": {},
   "outputs": [],
   "source": []
  },
  {
   "cell_type": "code",
   "execution_count": null,
   "id": "d2e7d0ee-66e9-476f-8a19-b03b63803690",
   "metadata": {},
   "outputs": [],
   "source": []
  },
  {
   "cell_type": "markdown",
   "id": "3a26028d-0127-4144-a086-3e6ffafe6ea9",
   "metadata": {
    "jp-MarkdownHeadingCollapsed": true
   },
   "source": [
    "# ALPHA SIGNAL"
   ]
  },
  {
   "cell_type": "code",
   "execution_count": 12,
   "id": "c39b7a28-6382-4560-84f4-3a0dfec15627",
   "metadata": {
    "execution": {
     "iopub.execute_input": "2025-03-27T21:32:45.462473Z",
     "iopub.status.busy": "2025-03-27T21:32:45.462077Z",
     "iopub.status.idle": "2025-03-27T21:32:45.735078Z",
     "shell.execute_reply": "2025-03-27T21:32:45.733983Z",
     "shell.execute_reply.started": "2025-03-27T21:32:45.462447Z"
    }
   },
   "outputs": [
    {
     "data": {
      "text/plain": [
       "(1, list)"
      ]
     },
     "execution_count": 12,
     "metadata": {},
     "output_type": "execute_result"
    }
   ],
   "source": [
    "emails = gmail.fetch_emails(sender='AlphaSignal <news@alphasignal.ai>', after='2025-02-10', before='2025-02-10')\n",
    "len(emails), type(emails)"
   ]
  },
  {
   "cell_type": "code",
   "execution_count": 13,
   "id": "6eaec6a7-d237-4d53-82ca-b67e016eb887",
   "metadata": {
    "execution": {
     "iopub.execute_input": "2025-03-27T21:32:45.880424Z",
     "iopub.status.busy": "2025-03-27T21:32:45.880052Z",
     "iopub.status.idle": "2025-03-27T21:32:53.602401Z",
     "shell.execute_reply": "2025-03-27T21:32:53.601404Z",
     "shell.execute_reply.started": "2025-03-27T21:32:45.880346Z"
    }
   },
   "outputs": [],
   "source": [
    "news_sources = alpha_signal_parser(emails[0])"
   ]
  },
  {
   "cell_type": "code",
   "execution_count": 10,
   "id": "906b8a68-bc87-46e8-ae62-92b7da5c7938",
   "metadata": {
    "execution": {
     "iopub.execute_input": "2025-02-11T06:32:33.693737Z",
     "iopub.status.busy": "2025-02-11T06:32:33.692378Z",
     "iopub.status.idle": "2025-02-11T06:32:33.703281Z",
     "shell.execute_reply": "2025-02-11T06:32:33.702106Z",
     "shell.execute_reply.started": "2025-02-11T06:32:33.693704Z"
    },
    "scrolled": true
   },
   "outputs": [
    {
     "data": {
      "text/plain": [
       "[{'title': 'OpenAI’s Sam Altman outlines AI trends',\n",
       "  'url': 'https://blog.samaltman.com/three-observations',\n",
       "  'source_of_the_news': 'AlphaSignal <news@alphasignal.ai>',\n",
       "  'text': 'OpenAI CEO Sam Altman outlined key trends in AI development, emphasizing the scaling economics of intelligence, the rapid cost reduction of AI usage, and the implications of AI agents.  KEY HIGHLIGHTS   \\t* Intelligence scales logarithmically with resources, with no clear saturation point.   \\t* AI costs decline at an unprecedented rate, dropping 10x every 12 months.   \\t* AI agents are positioned as scalable knowledge workers, handling constrained tasks at scale.   \\t* Scientific progress is expected to accelerate, driven by automation of complex reasoning tasks.   \\t* AI will integrate across economic sectors, reshaping workflows without immediate large-scale disruptions.  ECONOMIC IMPLICATIONS   \\t* AI spreads beyond tech companies, distributing its benefits across industries.   \\t* The balance between capital and labor shifts as AI automates tasks, reducing reliance on human workers.   \\t* People may receive \"compute budgets\" to access AI, making it as common as internet access.   \\t* The cost of intelligence keeps dropping, automating problem-solving and reducing repetitive intellectual work.   \\t* Human value shifts toward creativity, determination, and decision-making over routine skills.  KEY RISKS   \\t* Balancing safety and individual empowerment remains a priority.   \\t* AI governance must prevent authoritarian control and misuse in surveillance.   \\t* Broad distribution of benefits ensures equitable progress.   \\t* The capital/labor balance may shift unpredictably, requiring new economic models.  AUTONOMOUS AI\\xa0  AI models will operate independently within defined limits, making more complex decisions without direct human input. Sam Altman expects more contributions from the open-source community, leading to changes in how AI safety and accessibility are balanced. Over time, AI will become cheaper, more widely available, and embedded in every industry.  \\t\\tREAD MORE [5]',\n",
       "  'news_summary': \"OpenAI CEO Sam Altman's presentation highlights the rapid advancement and scaling of AI, emphasizing three key trends:  the logarithmic scaling of intelligence, the exponential decline in AI usage costs, and the emergence of AI agents.  He predicts AI will become widely accessible, integrating into various sectors and automating tasks.  While this promises significant economic benefits, potential risks include the need for responsible governance, equitable distribution of benefits, and a re-evaluation of the labor market.  Autonomous AI, operating within defined parameters, is expected to further accelerate progress and require careful consideration of safety and accessibility.\",\n",
       "  'date_source': 'Mon, 10 Feb 2025 16:26:58 +0000',\n",
       "  'date_source_time_zone': 'utc',\n",
       "  'news_provider': 'blog.samaltman.com'},\n",
       " {'title': 'Perplexity unlocks 1M token context',\n",
       "  'url': 'https://x.com/perplexity_ai/status/1887897060902318263',\n",
       "  'source_of_the_news': 'AlphaSignal <news@alphasignal.ai>',\n",
       "  'text': '',\n",
       "  'news_summary': 'Perplexity unlocks 1M token context , file & image support for free users in “Auto” mode.',\n",
       "  'date_source': 'Mon, 10 Feb 2025 16:26:58 +0000',\n",
       "  'date_source_time_zone': 'utc',\n",
       "  'news_provider': 'x.com'},\n",
       " {'title': 'Harvard releases 311K datasets from Data.gov',\n",
       "  'url': 'https://lil.law.harvard.edu/blog/2025/02/06/announcing-data-gov-archive/',\n",
       "  'source_of_the_news': 'AlphaSignal <news@alphasignal.ai>',\n",
       "  'text': '',\n",
       "  'news_summary': 'Harvard releases 311K datasets from Data.gov  (16TB), updated daily for open access.',\n",
       "  'date_source': 'Mon, 10 Feb 2025 16:26:58 +0000',\n",
       "  'date_source_time_zone': 'utc',\n",
       "  'news_provider': 'lil.law.harvard.edu'},\n",
       " {'title': 'Apple introduces ELEGNT,',\n",
       "  'url': 'https://machinelearning.apple.com/research/elegnt-expressive-functional-movement',\n",
       "  'source_of_the_news': 'AlphaSignal <news@alphasignal.ai>',\n",
       "  'text': '',\n",
       "  'news_summary': 'Apple introduces ELEGNT,  a framework for expressive, natural movement in non-humanoid robots.',\n",
       "  'date_source': 'Mon, 10 Feb 2025 16:26:58 +0000',\n",
       "  'date_source_time_zone': 'utc',\n",
       "  'news_provider': 'machinelearning.apple.com'},\n",
       " {'title': 'Hugging Face publishes the first open-source robotics',\n",
       "  'url': 'https://huggingface.co/blog/pi0',\n",
       "  'source_of_the_news': 'AlphaSignal <news@alphasignal.ai>',\n",
       "  'text': '',\n",
       "  'news_summary': 'Hugging Face publishes the first open-source robotics  foundation models for real-world applications.',\n",
       "  'date_source': 'Mon, 10 Feb 2025 16:26:58 +0000',\n",
       "  'date_source_time_zone': 'utc',\n",
       "  'news_provider': 'huggingface.co'},\n",
       " {'title': 'Postman unveils AI Agent Builder',\n",
       "  'url': 'https://community.postman.com/t/the-postman-drop-introducing-the-ai-agent-builder/74203',\n",
       "  'source_of_the_news': 'AlphaSignal <news@alphasignal.ai>',\n",
       "  'text': '',\n",
       "  'news_summary': 'Postman unveils AI Agent Builder , making API discovery, integration, and management 10x easier.',\n",
       "  'date_source': 'Mon, 10 Feb 2025 16:26:58 +0000',\n",
       "  'date_source_time_zone': 'utc',\n",
       "  'news_provider': 'community.postman.com'},\n",
       " {'title': 'Transcribe speech accurately with AssemblyAI’s API',\n",
       "  'url': 'https://www.assemblyai.com/',\n",
       "  'source_of_the_news': 'AlphaSignal <news@alphasignal.ai>',\n",
       "  'text': '',\n",
       "  'news_summary': 'Transcribe speech accurately with AssemblyAI’s API , handling punctuation and speaker diarization securely at scale.',\n",
       "  'date_source': 'Mon, 10 Feb 2025 16:26:58 +0000',\n",
       "  'date_source_time_zone': 'utc',\n",
       "  'news_provider': 'www.assemblyai.com'},\n",
       " {'title': 'Deploy and fine-tune DeepSeek-R1 models on AWS',\n",
       "  'url': 'https://huggingface.co/blog/deepseek-r1-aws',\n",
       "  'source_of_the_news': 'AlphaSignal <news@alphasignal.ai>',\n",
       "  'text': '',\n",
       "  'news_summary': 'Deploy and fine-tune DeepSeek-R1 models on AWS  using Hugging Face with GPUs, SageMaker, and EC2 Neuron.',\n",
       "  'date_source': 'Mon, 10 Feb 2025 16:26:58 +0000',\n",
       "  'date_source_time_zone': 'utc',\n",
       "  'news_provider': 'huggingface.co'},\n",
       " {'title': 'Turn any OpenAPI spec into an MCP-based assistant',\n",
       "  'url': 'https://medium.com/heurislabs/building-a-universal-assistant-to-connect-with-any-api-89d7c353e524',\n",
       "  'source_of_the_news': 'AlphaSignal <news@alphasignal.ai>',\n",
       "  'text': '',\n",
       "  'news_summary': 'Turn any OpenAPI spec into an MCP-based assistant  that can call API endpoints automatically, no custom code needed.',\n",
       "  'date_source': 'Mon, 10 Feb 2025 16:26:58 +0000',\n",
       "  'date_source_time_zone': 'utc',\n",
       "  'news_provider': 'medium.com'},\n",
       " {'title': 'Convert PDFs into structured JSON with Gemini 2.0',\n",
       "  'url': 'https://www.philschmid.de/gemini-pdf-to-data',\n",
       "  'source_of_the_news': 'AlphaSignal <news@alphasignal.ai>',\n",
       "  'text': '',\n",
       "  'news_summary': 'Convert PDFs into structured JSON with Gemini 2.0 . Set up the SDK, process files, manage tokens, and extract data.',\n",
       "  'date_source': 'Mon, 10 Feb 2025 16:26:58 +0000',\n",
       "  'date_source_time_zone': 'utc',\n",
       "  'news_provider': 'www.philschmid.de'},\n",
       " {'title': 'Automate GitHub PRs in seconds',\n",
       "  'url': 'https://github.com/mckaywrigley/r1-automated-pr-example',\n",
       "  'source_of_the_news': 'AlphaSignal <news@alphasignal.ai>',\n",
       "  'text': '',\n",
       "  'news_summary': 'Automate GitHub PRs in seconds  using DeepSeek’s r1 with Groq and the GitHub API.',\n",
       "  'date_source': 'Mon, 10 Feb 2025 16:26:58 +0000',\n",
       "  'date_source_time_zone': 'utc',\n",
       "  'news_provider': 'github.com'}]"
      ]
     },
     "execution_count": 10,
     "metadata": {},
     "output_type": "execute_result"
    }
   ],
   "source": [
    "news_sources"
   ]
  },
  {
   "cell_type": "code",
   "execution_count": 23,
   "id": "6c073d77-4142-40f2-9957-dc305924db2e",
   "metadata": {
    "execution": {
     "iopub.execute_input": "2025-02-10T04:25:45.010385Z",
     "iopub.status.busy": "2025-02-10T04:25:45.010073Z",
     "iopub.status.idle": "2025-02-10T04:25:45.018545Z",
     "shell.execute_reply": "2025-02-10T04:25:45.016868Z",
     "shell.execute_reply.started": "2025-02-10T04:25:45.010360Z"
    }
   },
   "outputs": [
    {
     "data": {
      "text/plain": [
       "'https://mistral.ai/en/news/all-new-le-chat'"
      ]
     },
     "execution_count": 23,
     "metadata": {},
     "output_type": "execute_result"
    }
   ],
   "source": [
    "news_sources[0]['url']"
   ]
  },
  {
   "cell_type": "code",
   "execution_count": 32,
   "id": "f8692d99-73cf-4713-abe3-f5d2a96ad75d",
   "metadata": {
    "execution": {
     "iopub.execute_input": "2025-02-10T04:30:24.500697Z",
     "iopub.status.busy": "2025-02-10T04:30:24.500362Z",
     "iopub.status.idle": "2025-02-10T04:30:24.514072Z",
     "shell.execute_reply": "2025-02-10T04:30:24.512512Z",
     "shell.execute_reply.started": "2025-02-10T04:30:24.500671Z"
    }
   },
   "outputs": [],
   "source": [
    "import pandas as pd\n",
    "df = pd.read_parquet(\"/home/logs/database_news_stories.parquet\")"
   ]
  },
  {
   "cell_type": "code",
   "execution_count": 33,
   "id": "1a69b588-4a99-4223-8e39-f390e8f521ca",
   "metadata": {
    "execution": {
     "iopub.execute_input": "2025-02-10T04:30:30.741393Z",
     "iopub.status.busy": "2025-02-10T04:30:30.740718Z",
     "iopub.status.idle": "2025-02-10T04:30:30.756780Z",
     "shell.execute_reply": "2025-02-10T04:30:30.755370Z",
     "shell.execute_reply.started": "2025-02-10T04:30:30.741355Z"
    }
   },
   "outputs": [
    {
     "data": {
      "text/plain": [
       "title                                           object\n",
       "url                                             object\n",
       "news_provider                                   object\n",
       "source_of_the_news                              object\n",
       "text                                            object\n",
       "news_summary                                    object\n",
       "date_source                 datetime64[ns, US/Eastern]\n",
       "date_source_time_zone                           object\n",
       "version                                         object\n",
       "competitive_intelligence                        object\n",
       "themes                                          object\n",
       "market_intelligence                             object\n",
       "personalities                                   object\n",
       "score_category_count                             int64\n",
       "unique_id                                        int64\n",
       "dtype: object"
      ]
     },
     "execution_count": 33,
     "metadata": {},
     "output_type": "execute_result"
    }
   ],
   "source": [
    "df.dtypes"
   ]
  },
  {
   "cell_type": "markdown",
   "id": "98e6160c-4398-428d-9f43-46a7be72f5ba",
   "metadata": {},
   "source": [
    "## Experimentation"
   ]
  },
  {
   "cell_type": "code",
   "execution_count": 6,
   "id": "30f5c812-5117-4fc2-b493-dcaa44f68ea9",
   "metadata": {
    "execution": {
     "iopub.execute_input": "2025-02-10T04:04:43.807732Z",
     "iopub.status.busy": "2025-02-10T04:04:43.807317Z",
     "iopub.status.idle": "2025-02-10T04:04:43.815582Z",
     "shell.execute_reply": "2025-02-10T04:04:43.814523Z",
     "shell.execute_reply.started": "2025-02-10T04:04:43.807703Z"
    }
   },
   "outputs": [
    {
     "data": {
      "text/plain": [
       "dict_keys(['sender', 'subject', 'date_utc', 'id', 'text'])"
      ]
     },
     "execution_count": 6,
     "metadata": {},
     "output_type": "execute_result"
    }
   ],
   "source": [
    "emails[0].keys()"
   ]
  },
  {
   "cell_type": "code",
   "execution_count": 7,
   "id": "57cac741-6738-4c4c-9040-7314a49c9d83",
   "metadata": {
    "execution": {
     "iopub.execute_input": "2025-02-10T04:04:44.681899Z",
     "iopub.status.busy": "2025-02-10T04:04:44.681539Z",
     "iopub.status.idle": "2025-02-10T04:04:44.689669Z",
     "shell.execute_reply": "2025-02-10T04:04:44.688543Z",
     "shell.execute_reply.started": "2025-02-10T04:04:44.681874Z"
    },
    "scrolled": true
   },
   "outputs": [
    {
     "data": {
      "text/plain": [
       "'AlphaSignal <news@alphasignal.ai>'"
      ]
     },
     "execution_count": 7,
     "metadata": {},
     "output_type": "execute_result"
    }
   ],
   "source": [
    "emails[0]['sender']"
   ]
  },
  {
   "cell_type": "code",
   "execution_count": 21,
   "id": "bc5974f5-df32-4855-8701-ddbd2c5a71c8",
   "metadata": {
    "execution": {
     "iopub.execute_input": "2025-02-11T06:13:19.005759Z",
     "iopub.status.busy": "2025-02-11T06:13:19.005296Z",
     "iopub.status.idle": "2025-02-11T06:13:19.016644Z",
     "shell.execute_reply": "2025-02-11T06:13:19.015403Z",
     "shell.execute_reply.started": "2025-02-11T06:13:19.005732Z"
    }
   },
   "outputs": [
    {
     "data": {
      "text/plain": [
       "'🔥Mistral AI updates Chatbot, Faster than ChatGPT & Claude'"
      ]
     },
     "execution_count": 21,
     "metadata": {},
     "output_type": "execute_result"
    }
   ],
   "source": [
    "emails[0]['subject']"
   ]
  },
  {
   "cell_type": "code",
   "execution_count": 25,
   "id": "d360ca96-2773-48a9-aa82-5fd0ccfefc0c",
   "metadata": {
    "execution": {
     "iopub.execute_input": "2025-02-11T06:15:36.593444Z",
     "iopub.status.busy": "2025-02-11T06:15:36.593049Z",
     "iopub.status.idle": "2025-02-11T06:15:36.603089Z",
     "shell.execute_reply": "2025-02-11T06:15:36.601708Z",
     "shell.execute_reply.started": "2025-02-11T06:15:36.593363Z"
    },
    "scrolled": true
   },
   "outputs": [
    {
     "data": {
      "text/plain": [
       "\"On Andrew Ng's agentic object detection, GitHub Copilot's agent mode,\\r\\nGoogle's Imagen 3 on Gemini API,...\\xa0\\r\\n\\r\\nSIGNUP [1]\\xa0\\xa0|\\xa0\\xa0WORK WITH US [2]\\xa0\\xa0|\\xa0\\xa0FOLLOW ON X\\r\\n[3]\\xa0\\xa0|\\xa0\\xa0READ ON WEB [4]\\r\\n\\r\\n . \\r\\n\\r\\nHEY ,\\r\\n\\r\\nWelcome to AlphaSignal – the most read newsletter by AI\\r\\ndevelopers.\\xa0\\r\\n\\r\\nWe bring you the top 1% of news, papers, models, and repos, all\\r\\nsummarized to keep you updated on the latest in AI.\\r\\n\\r\\nIN TODAY'S SIGNAL\\r\\n\\r\\n_Read time: 5 min 41 sec_\\r\\n\\r\\n🎖️ TOP NEWS\\r\\n\\r\\n \\t*\\r\\nMistral AI brings Le Chat to iOS, Android, and enterprise [5] with web\\r\\nsearch and automation tools.\\r\\n\\r\\n⚡️ TRENDING SIGNALS\\r\\n\\r\\n \\t*\\r\\nAndrew Ng presents Agentic Object Detection [6]: human-like object\\r\\nrecognition via text-driven reasoning.\\r\\n\\r\\n \\t*\\r\\nGitHub upgrades Copilot with agent mode [7], multi-file edits, and an\\r\\nupcoming autonomous coding agent.\\r\\n\\r\\n \\t*\\r\\nGoogle releases Imagen 3 in Gemini API [8]: high quality, watermarked\\r\\nimage generation with improved prompt adherence.\\r\\n\\r\\n \\t*\\r\\nOpenAI refines CoT reasoning in O3-Mini [9] models, expanding\\r\\nvisibility.\\r\\n\\r\\n \\t*\\r\\nPika Labs launches Pikadditions [10]: add any object or person to any\\r\\nvideo with ease.\\r\\n\\r\\n💻TOP PAPERS\\r\\n\\r\\n \\t*\\r\\nGoogle AI's AlphaGeometry2 surpasses gold medalists [11] in Olympiad\\r\\ngeometry, improving problem coverage and solving rates.\\r\\n\\r\\n \\t*\\r\\ns1-32B improves test-time scaling [12] with budget forcing, boosting\\r\\nmath reasoning and competition scores.\\r\\n\\r\\n \\t*\\r\\nMulti-agent system reduces AI hallucinations [13]using structured\\r\\nreviews, NLP-based coordination, and new KPIs.\\r\\n\\r\\n🧠 PYTHON TIP\\r\\n\\r\\n \\t*\\r\\nHow to generate high-quality images with Imagen 3 using the Gemini\\r\\nAPI.\\r\\n\\r\\nIF YOU'RE ENJOYING ALPHASIGNAL PLEASE FORWARD THIS EMAIL TO A\\r\\nCOLLEAGUE.\\xa0\\r\\n\\r\\nIt helps us keep this content free.\\r\\n\\r\\nTOP NEWS\\r\\n\\r\\nAI Assistant\\r\\n\\r\\nMISTRAL AI UPGRADES ITS CHATBOT WITH FASTER RESPONSES, CODE EXECUTION\\r\\nFOR MOBILE AND ENTERPRISE DEPLOYMENT\\r\\n\\r\\n⇧ 13,532 Likes\\r\\n\\r\\n\\t\\t [5] \\r\\n\\r\\nWHAT'S NEW\\r\\n\\r\\nFrench AI lab, Mistral AI updates its chatbot\\xa0LE CHAT and makes it\\r\\navailable on iOS, Android, and enterprise infrastructure. It\\r\\nintroduces FLASH ANSWERS, A BUILT-IN CODE INTERPRETER, and REAL-TIME\\r\\nSEARCH, competing with ChatGPT, Claude, and DeepSeek.\\r\\n\\r\\nCORE FUNCTIONALITIES\\r\\n\\r\\nLe Chat provides tools for both general use and technical\\r\\napplications, offering:\\r\\n\\r\\n \\t* OCR ENGINE: Processes PDFs, spreadsheets, and complex or\\r\\nlow-quality files.\\r\\n\\r\\n \\t* CODE INTERPRETER: Runs scripts, handles data analysis, and creates\\r\\nvisualizations.\\r\\n\\r\\n \\t* IMAGE GENERATION: Uses BLACK FOREST LABS’ FLUX ULTRA to generate\\r\\nphotorealistic visuals.\\r\\n\\r\\n \\t* REAL-TIME INFORMATION RETRIEVAL: Combines static pre-trained\\r\\nknowledge with updated data from web searches and news outlets.\\r\\n\\r\\n \\t* Its MULTI-STEP AGENT FRAMEWORK lets you AUTOMATE WORKFLOWS by\\r\\nintegrating with messaging systems and databases.\\r\\n\\r\\nPERFORMANCE\\r\\n\\r\\nLe Chat runs on Mistral’s latest models and introduces FLASH\\r\\nANSWERS, a feature enabling RESPONSE SPEEDS OF UP TO 1,000 WORDS PER\\r\\nSECOND. It supports real-time web search with data from journalism\\r\\nsources and social platforms. The assistant processes text, images,\\r\\nand structured data files without external dependencies.\\r\\n\\r\\nCOMPARISON WITH OTHER CHATBOTS\\r\\n\\r\\n \\t* Faster than ChatGPT and Claude in response generation.\\r\\n\\r\\n \\t* Stronger OCR and document parsing than Claude.\\r\\n\\r\\n \\t* Code execution similar to ChatGPT Plus.\\r\\n\\r\\n \\t* Web search supports social media and journalism sources.\\r\\n\\r\\n \\t* Claude is known\\xa0\\xa0for token efficiency, but Le Chat provides\\r\\ncustom enterprise deployments and flexible infrastructure setups.\\r\\n\\r\\n \\t* Le Chat adheres to EU privacy standards (GDPR).\\r\\n\\r\\nENTERPRISE DEPLOYMENTS AND CUSTOMIZATION\\r\\nLe Chat targets enterprises with options for SAAS, ON-PREMISE, and VPC\\r\\nDEPLOYMENT. Teams can customize models and ensure on-site data\\r\\nsecurity, making it a viable alternative to U.S. and Chinese\\r\\nproviders.\\r\\n\\r\\nACCESS AND AVAILABILITY\\r\\n\\r\\nYou can find Le Chat available on web, iOS, and Android. It offers\\r\\nthree tiers:\\r\\n\\r\\n \\t* FREE PLAN: Limited usage with access to core features.\\r\\n\\r\\n \\t* PRO PLAN: Faster responses, priority access, and extended usage\\r\\nlimits.\\r\\n\\r\\n \\t* ENTERPRISE: Custom deployment on ON-PREMISE OR VPC INFRASTRUCTURE,\\r\\nmodel fine-tuning, and API rate customization.\\r\\n\\r\\n\\t\\tTRY NOW [5] \\r\\n\\r\\nTRENDING SIGNALS\\r\\n\\r\\nComputer Vision\\r\\n\\r\\nANDREW NG INTRODUCES A REASONING DRIVEN APPROACH TO OBJECT DETECTION,\\r\\nUSES AGENTIC WORKFLOWS TO ANALYZE AND IDENTIFY OBJECTS [6]\\r\\n\\r\\n⇧ 3,285 Likes\\r\\n\\r\\nCoding Assistant\\r\\n\\r\\nGITHUB UNVEILS COPILOT AGENT MODE: SELF-ITERATING CODE, TERMINAL\\r\\nGUIDANCE, AND AUTOMATED ERROR FIXING IN VS CODE [7]\\r\\n\\r\\n⇧ 6,385 Likes\\r\\n\\r\\nImage Generation\\r\\n\\r\\nGOOGLE LAUNCHES IMAGEN 3 ON GEMINI API WITH IMPROVED PROMPT ACCURACY,\\r\\nMULTI-STYLE SUPPORT, AND AI CONTENT VERIFICATION [8]\\r\\n\\r\\n⇧ 1,024 Likes\\r\\n\\r\\nLLM\\r\\n\\r\\nOPENAI\\xa0UPDATES O3-MINI WITH IMPROVED CHAIN-OF-THOUGHT REASONING FOR\\r\\nFREE AND PAID USERS [9]\\r\\n\\r\\n⇧ 4,283 Likes\\r\\n\\r\\nAI Video Editing\\r\\n\\r\\nPIKA LABS RELEASES VIDEO TO VIDEO PLATFORM THAT ALLOWS ADDITION OF ANY\\r\\nOBJECT OR PERSON INTO EXISTING VIDEOS WITH\\xa015 FREE GENERATIONS [10]\\r\\n\\r\\n⇧ 1,384 Likes\\r\\n\\r\\nTOP PAPERS\\r\\n\\r\\nMathematical Reasoning\\r\\n\\r\\nGOLD-MEDALIST PERFORMANCE IN SOLVING OLYMPIAD GEOMETRY WITH\\r\\nALPHAGEOMETRY2 [11]\\r\\n\\r\\n⇧ 6,128 Likes\\r\\n\\r\\nPROBLEM\\r\\n\\r\\nGoogle AI's AlphaGeometry struggled with solving complex Olympiad\\r\\ngeometry problems, especially those involving object movements and\\r\\nlinear equations of angles, ratios, and distances. Its coverage of\\r\\nInternational Math Olympiad (IMO) geometry problems was limited.\\r\\n\\r\\nSOLUTION\\r\\nAlphaGeometry2 extends the problem-solving language, improves search\\r\\nwith the Gemini architecture, and introduces a novel knowledge-sharing\\r\\nmechanism to combine multiple search trees. Enhancements in the\\r\\nsymbolic engine and synthetic data generation further refine its\\r\\naccuracy.\\r\\n\\r\\nRESULTS\\r\\nAlphaGeometry2 boosts IMO geometry problem coverage from 66% to 88%\\r\\nand increases the solving rate from 54% to 84%, surpassing average\\r\\ngold medalists and contributing to a silver-medal performance at IMO\\r\\n2024.\\r\\n\\r\\nLLM Reasoning\\r\\n\\r\\nS1: SIMPLE TEST-TIME SCALING [12]\\r\\n\\r\\n⇧ 4,593 Likes\\r\\n\\r\\nPROBLEM\\r\\n\\r\\nTest-time scaling helps language models perform better by using extra\\r\\ncompute, but OpenAI’s O1 model showed this without sharing details.\\r\\nA simple way to achieve this and improve reasoning was needed.\\r\\n\\r\\nSOLUTION\\r\\nThe s1-32B model is trained on a small dataset (s1K) of 1,000\\r\\nreasoning questions. It uses budget forcing, a method that controls\\r\\nhow long the model thinks by adding or stopping “Wait” signals,\\r\\nhelping it fix mistakes.\\r\\n\\r\\nRESULTS\\r\\ns1-32B outperforms O1-preview, improving math competition scores by up\\r\\nto 27% (MATH, AIME24). Budget forcing boosts AIME24 accuracy from 50%\\r\\nto 57%. The model, data, and code are open-source.\\r\\n\\r\\nAI Safety and Reliability\\r\\n\\r\\nHALLUCINATION MITIGATION USING AGENTIC AI NATURAL LANGUAGE-BASED\\r\\nFRAMEWORKS [13]\\r\\n\\r\\n⇧ 2,493 Likes\\r\\n\\r\\nPROBLEM\\r\\n\\r\\nGenerative AI models often produce hallucinations, making them less\\r\\nreliable and reducing trust in AI systems. A better approach was\\r\\nneeded to detect and refine misleading content while maintaining clear\\r\\nand factual responses.\\r\\n\\r\\nSOLUTION\\r\\nA multi-agent system is designed using over 300 prompts to induce\\r\\nhallucinations. AI agents at different levels review and refine\\r\\noutputs using distinct language models, structured JSON communication,\\r\\nand the OVON framework for seamless interaction. New KPIs are\\r\\nintroduced to measure hallucination levels.\\r\\n\\r\\nRESULTS\\r\\nThe multi-agent approach lowers hallucination scores, improves\\r\\nclarity, and makes speculative content more transparent. Structured\\r\\nmeta-information exchange enhances AI explainability, boosting trust\\r\\nin AI-generated responses.\\r\\n\\r\\nPYTHON TIP\\r\\n\\r\\nGENERATE AN IMAGE WITH IMAGEN 3 USING GEMINI API\\r\\n\\r\\nGoogle's IMAGEN 3 is now available via the GEMINI API, allowing you to\\r\\ngenerate high-quality images with improved prompt adherence. It\\r\\nsupports various styles, from hyperrealism to anime, and includes a\\r\\nSYNTHID WATERMARK for AI attribution.\\r\\n\\r\\nAPPLICATION\\r\\n\\r\\nThis API is ideal for design, advertising, content creation, and\\r\\nprototyping. It offers customizable aspect ratios and prompt-based\\r\\ngeneration, making it a powerful tool for creative and commercial\\r\\napplications.\\r\\n\\r\\nThis Python code snippet demonstrates how to generate an image with\\r\\nImagen 3 using the Gemini API.\\r\\n\\r\\nfrom\\xa0google\\xa0import\\xa0genai\\r\\nfrom\\xa0google.genai\\xa0import\\xa0types\\r\\nfrom\\xa0PIL\\xa0import\\xa0Image\\r\\nfrom\\xa0io\\xa0import\\xa0BytesIO\\r\\n\\r\\nclient\\xa0=\\xa0genai.Client(api_key='GEMINI_API_KEY')\\r\\n\\r\\nresponse\\xa0=\\xa0client.models.generate_images(\\r\\n\\xa0\\xa0\\xa0\\xa0model='imagen-3.0-generate-002',\\r\\n\\xa0\\xa0\\xa0\\xa0prompt='a\\xa0portrait\\xa0of\\xa0a\\xa0sheepadoodle\\xa0wearing\\xa0cape',\\r\\n\\xa0\\xa0\\xa0\\xa0config=types.GenerateImagesConfig(\\r\\n\\xa0\\xa0\\xa0\\xa0\\xa0\\xa0\\xa0\\xa0number_of_images=1,\\r\\n\\xa0\\xa0\\xa0\\xa0)\\r\\n)\\r\\nfor\\xa0generated_image\\xa0in\\xa0response.generated_images:\\r\\n\\xa0\\xa0image\\xa0=\\xa0Image.open(BytesIO(generated_image.image.image_bytes))\\r\\n\\xa0\\xa0image.show()\\r\\n\\r\\nHOW WAS TODAY’S EMAIL?\\r\\n\\r\\nAWESOME\\xa0 \\xa0\\xa0DECENT\\xa0 \\xa0 \\xa0NOT GREAT\\r\\n\\r\\nAt Alpha Signal, our mission is to build a sharp, engaged community\\r\\nfocused on AI, machine learning, and cutting-edge language models,\\r\\nhelping over 200,000 developers stay informed and ahead. We’re\\r\\npassionate about curating the best in AI, from top research and\\r\\ntrending technical blogs to expert insights and tailored job\\r\\nopportunities. We keep you connected to the breakthroughs and\\r\\ndiscussions that matter, so you can stay in the loop without endless\\r\\nsearching. We also work closely with partners who value the future of\\r\\nAI, including employers and advertisers who want to reach an audience\\r\\nas passionate about AI as we are.\\r\\n\\r\\nOur partnerships are based on shared values of ethics, responsibility,\\r\\nand a commitment to building a better world through technology.Privacy\\r\\nis a priority at Alpha Signal. Our Privacy Policy clearly explains how\\r\\nwe collect, store, and use your personal and non-personal information.\\r\\nBy using our website, you accept these terms, which you can review on\\r\\nour website. This policy applies across all Alpha Signal pages,\\r\\noutlining your rights and how to contact us if you want to adjust the\\r\\nuse of your information. We’re based in the United States. By using\\r\\nour site, you agree to be governed by U.S. laws.\\r\\n\\r\\nLooking to promote your company, product, service, or event to\\r\\n200,000+ AI developers? Let's work together.\\r\\n\\r\\n\\t\\tWORK WITH US [2] \\r\\n\\r\\nStop receiving emails here [14]\\r\\n\\r\\n214 Barton Springs Rd, Austin, Texas, 78704, United States of America\\r\\n\\r\\n \\r\\n\\r\\nLinks:\\r\\n------\\r\\n[1] https://link.alphasignal.ai/HWyWVm\\r\\n[2] https://link.alphasignal.ai/qBDJtP\\r\\n[3] https://link.alphasignal.ai/uIKFtp\\r\\n[4] https://araneoides.eomail1.com/web-version?ep=1&lc=0833873c-e381-11ef-a3f9-cbdf36f97402&p=686320f2-e586-11ef-8073-e1d644c8c090&pt=campaign&t=1738956006&s=500545ddc16f1bef398809bb750062650fa2e232d79ebc54d415c0bb5f955c45\\r\\n[5] https://link.alphasignal.ai/Z6dVYR\\r\\n[6] https://link.alphasignal.ai/Yrwvxf\\r\\n[7] https://link.alphasignal.ai/UF6bj7\\r\\n[8] https://link.alphasignal.ai/pE0RTm\\r\\n[9] https://link.alphasignal.ai/stKaZF\\r\\n[10] https://link.alphasignal.ai/qcV4LG\\r\\n[11] https://link.alphasignal.ai/5hUes6\\r\\n[12] https://link.alphasignal.ai/lKJLbL\\r\\n[13] https://link.alphasignal.ai/KDRgwL\\r\\n[14] https://araneoides.eomail1.com/unsubscribe?ep=1&l=9a4eb768-071d-11ef-b70b-19296a53e269&lc=0833873c-e381-11ef-a3f9-cbdf36f97402&p=686320f2-e586-11ef-8073-e1d644c8c090&pt=campaign&pv=4&spa=1738955841&t=1738956006&s=71a80f6481a811dc78ce58d6c2076abf8e33df42a7d6160853a52c1cf5863528\""
      ]
     },
     "execution_count": 25,
     "metadata": {},
     "output_type": "execute_result"
    }
   ],
   "source": [
    "(emails[0]['text'])"
   ]
  },
  {
   "cell_type": "code",
   "execution_count": 12,
   "id": "10828961-bcca-4ad1-9008-ae292038154f",
   "metadata": {
    "execution": {
     "iopub.execute_input": "2025-02-11T06:28:06.912019Z",
     "iopub.status.busy": "2025-02-11T06:28:06.911573Z",
     "iopub.status.idle": "2025-02-11T06:28:06.920471Z",
     "shell.execute_reply": "2025-02-11T06:28:06.918665Z",
     "shell.execute_reply.started": "2025-02-11T06:28:06.911988Z"
    }
   },
   "outputs": [
    {
     "name": "stdout",
     "output_type": "stream",
     "text": [
      "Mistral AI brings Le Chat to iOS, Android, and enterprise [5] with web\n",
      "search and automation tools.\n",
      " \n",
      "Andrew Ng presents Agentic Object Detection [6]: human-like object\n",
      "recognition via text-driven reasoning.\n",
      " \n",
      "GitHub upgrades Copilot with agent mode [7], multi-file edits, and an\n",
      "upcoming autonomous coding agent.\n",
      " \n",
      "Google releases Imagen 3 in Gemini API [8]: high quality, watermarked\n",
      "image generation with improved prompt adherence.\n",
      " \n",
      "OpenAI refines CoT reasoning in O3-Mini [9] models, expanding\n",
      "visibility.\n",
      " \n",
      "Pika Labs launches Pikadditions [10]: add any object or person to any\n",
      "video with ease.\n",
      " \n",
      "Google AI's AlphaGeometry2 surpasses gold medalists [11] in Olympiad\n",
      "geometry, improving problem coverage and solving rates.\n",
      " \n",
      "s1-32B improves test-time scaling [12] with budget forcing, boosting\n",
      "math reasoning and competition scores.\n",
      " \n",
      "Multi-agent system reduces AI hallucinations [13]using structured\n",
      "reviews, NLP-based coordination, and new KPIs.\n",
      " \n"
     ]
    }
   ],
   "source": [
    "for line in emails[0]['text'].split(\"TOP NEWS\")[1].split(\"\\r\\n\\r\\n\"):\n",
    "    if \" \\t*\\r\" in line and re.search(r\"\\[\\d+\\]\", line):\n",
    "        print(line.lstrip(\" \\t*\\r\\n\").strip())\n",
    "        print(\" \")"
   ]
  },
  {
   "cell_type": "code",
   "execution_count": 29,
   "id": "2296ee9c-2eaf-40e1-bc4b-93bacbd017aa",
   "metadata": {
    "execution": {
     "iopub.execute_input": "2025-02-11T06:17:59.644354Z",
     "iopub.status.busy": "2025-02-11T06:17:59.643884Z",
     "iopub.status.idle": "2025-02-11T06:17:59.653963Z",
     "shell.execute_reply": "2025-02-11T06:17:59.652392Z",
     "shell.execute_reply.started": "2025-02-11T06:17:59.644324Z"
    }
   },
   "outputs": [
    {
     "data": {
      "text/plain": [
       "['',\n",
       " ' \\t*\\r\\nMistral AI brings Le Chat to iOS, Android, and enterprise [5] with web\\r\\nsearch and automation tools.',\n",
       " '⚡️ TRENDING SIGNALS',\n",
       " ' \\t*\\r\\nAndrew Ng presents Agentic Object Detection [6]: human-like object\\r\\nrecognition via text-driven reasoning.',\n",
       " ' \\t*\\r\\nGitHub upgrades Copilot with agent mode [7], multi-file edits, and an\\r\\nupcoming autonomous coding agent.',\n",
       " ' \\t*\\r\\nGoogle releases Imagen 3 in Gemini API [8]: high quality, watermarked\\r\\nimage generation with improved prompt adherence.',\n",
       " ' \\t*\\r\\nOpenAI refines CoT reasoning in O3-Mini [9] models, expanding\\r\\nvisibility.',\n",
       " ' \\t*\\r\\nPika Labs launches Pikadditions [10]: add any object or person to any\\r\\nvideo with ease.',\n",
       " '💻TOP PAPERS',\n",
       " \" \\t*\\r\\nGoogle AI's AlphaGeometry2 surpasses gold medalists [11] in Olympiad\\r\\ngeometry, improving problem coverage and solving rates.\",\n",
       " ' \\t*\\r\\ns1-32B improves test-time scaling [12] with budget forcing, boosting\\r\\nmath reasoning and competition scores.',\n",
       " ' \\t*\\r\\nMulti-agent system reduces AI hallucinations [13]using structured\\r\\nreviews, NLP-based coordination, and new KPIs.',\n",
       " '🧠 PYTHON TIP',\n",
       " ' \\t*\\r\\nHow to generate high-quality images with Imagen 3 using the Gemini\\r\\nAPI.',\n",
       " \"IF YOU'RE ENJOYING ALPHASIGNAL PLEASE FORWARD THIS EMAIL TO A\\r\\nCOLLEAGUE.\\xa0\",\n",
       " 'It helps us keep this content free.',\n",
       " '']"
      ]
     },
     "execution_count": 29,
     "metadata": {},
     "output_type": "execute_result"
    }
   ],
   "source": [
    "emails[0]['text'].split(\"TOP NEWS\")[1].split(\"\\r\\n\\r\\n\")"
   ]
  },
  {
   "cell_type": "code",
   "execution_count": 13,
   "id": "72da0416-f1d2-41a5-ac2e-2bf15d89aaf8",
   "metadata": {
    "execution": {
     "iopub.execute_input": "2025-02-08T05:24:38.849861Z",
     "iopub.status.busy": "2025-02-08T05:24:38.849294Z",
     "iopub.status.idle": "2025-02-08T05:24:38.859555Z",
     "shell.execute_reply": "2025-02-08T05:24:38.857627Z",
     "shell.execute_reply.started": "2025-02-08T05:24:38.849828Z"
    }
   },
   "outputs": [],
   "source": [
    "SECTIONS = [\n",
    "    \"TOP NEWS\",\n",
    "    \"TRENDING SIGNALS\",\n",
    "    \"TOP PAPERS\",\n",
    "    \"PYTHON TIP\",\n",
    "]\n",
    "txt = emails[0]['text']\n",
    "sections = []\n",
    "for sec in SECTIONS:\n",
    "    _tmp = txt.split(sec)\n",
    "    sections.append(_tmp[0])\n",
    "    txt = _tmp[1]"
   ]
  },
  {
   "cell_type": "code",
   "execution_count": 15,
   "id": "dd8cf410-2094-4a7e-8273-1580098ce960",
   "metadata": {
    "execution": {
     "iopub.execute_input": "2025-02-08T05:24:58.473927Z",
     "iopub.status.busy": "2025-02-08T05:24:58.473586Z",
     "iopub.status.idle": "2025-02-08T05:24:58.481545Z",
     "shell.execute_reply": "2025-02-08T05:24:58.480464Z",
     "shell.execute_reply.started": "2025-02-08T05:24:58.473886Z"
    },
    "scrolled": true
   },
   "outputs": [
    {
     "name": "stdout",
     "output_type": "stream",
     "text": [
      "\n",
      "\n",
      " \t*\n",
      "Mistral AI brings Le Chat to iOS, Android, and enterprise [5] with web\n",
      "search and automation tools.\n",
      "\n",
      "⚡️ \n",
      "\n",
      "\n",
      " \t*\n",
      "Andrew Ng presents Agentic Object Detection [6]: human-like object\n",
      "recognition via text-driven reasoning.\n",
      "\n",
      " \t*\n",
      "GitHub upgrades Copilot with agent mode [7], multi-file edits, and an\n",
      "upcoming autonomous coding agent.\n",
      "\n",
      " \t*\n",
      "Google releases Imagen 3 in Gemini API [8]: high quality, watermarked\n",
      "image generation with improved prompt adherence.\n",
      "\n",
      " \t*\n",
      "OpenAI refines CoT reasoning in O3-Mini [9] models, expanding\n",
      "visibility.\n",
      "\n",
      " \t*\n",
      "Pika Labs launches Pikadditions [10]: add any object or person to any\n",
      "video with ease.\n",
      "\n",
      "💻\n",
      "\n",
      "\n",
      " \t*\n",
      "Google AI's AlphaGeometry2 surpasses gold medalists [11] in Olympiad\n",
      "geometry, improving problem coverage and solving rates.\n",
      "\n",
      " \t*\n",
      "s1-32B improves test-time scaling [12] with budget forcing, boosting\n",
      "math reasoning and competition scores.\n",
      "\n",
      " \t*\n",
      "Multi-agent system reduces AI hallucinations [13]using structured\n",
      "reviews, NLP-based coordination, and new KPIs.\n",
      "\n",
      "🧠 \n"
     ]
    }
   ],
   "source": [
    "for pp in sections[1:]:\n",
    "    print(pp)"
   ]
  },
  {
   "cell_type": "code",
   "execution_count": 19,
   "id": "c7d5f887-6faa-4f38-bd85-6f0236e509c8",
   "metadata": {
    "execution": {
     "iopub.execute_input": "2025-02-10T04:20:40.868554Z",
     "iopub.status.busy": "2025-02-10T04:20:40.868139Z",
     "iopub.status.idle": "2025-02-10T04:20:40.875727Z",
     "shell.execute_reply": "2025-02-10T04:20:40.874566Z",
     "shell.execute_reply.started": "2025-02-10T04:20:40.868523Z"
    },
    "scrolled": true
   },
   "outputs": [
    {
     "name": "stdout",
     "output_type": "stream",
     "text": [
      "\n",
      "\n",
      "French AI lab, Mistral AI updates its chatbot LE CHAT and makes it\n",
      "available on iOS, Android, and enterprise infrastructure. It\n",
      "introduces FLASH ANSWERS, A BUILT-IN CODE INTERPRETER, and REAL-TIME\n",
      "SEARCH, competing with ChatGPT, Claude, and DeepSeek.\n",
      "\n",
      "CORE FUNCTIONALITIES\n",
      "\n",
      "Le Chat provides tools for both general use and technical\n",
      "applications, offering:\n",
      "\n",
      " \t* OCR ENGINE: Processes PDFs, spreadsheets, and complex or\n",
      "low-quality files.\n",
      "\n",
      " \t* CODE INTERPRETER: Runs scripts, handles data analysis, and creates\n",
      "visualizations.\n",
      "\n",
      " \t* IMAGE GENERATION: Uses BLACK FOREST LABS’ FLUX ULTRA to generate\n",
      "photorealistic visuals.\n",
      "\n",
      " \t* REAL-TIME INFORMATION RETRIEVAL: Combines static pre-trained\n",
      "knowledge with updated data from web searches and news outlets.\n",
      "\n",
      " \t* Its MULTI-STEP AGENT FRAMEWORK lets you AUTOMATE WORKFLOWS by\n",
      "integrating with messaging systems and databases.\n",
      "\n",
      "PERFORMANCE\n",
      "\n",
      "Le Chat runs on Mistral’s latest models and introduces FLASH\n",
      "ANSWERS, a feature enabling RESPONSE SPEEDS OF UP TO 1,000 WORDS PER\n",
      "SECOND. It supports real-time web search with data from journalism\n",
      "sources and social platforms. The assistant processes text, images,\n",
      "and structured data files without external dependencies.\n",
      "\n",
      "COMPARISON WITH OTHER CHATBOTS\n",
      "\n",
      " \t* Faster than ChatGPT and Claude in response generation.\n",
      "\n",
      " \t* Stronger OCR and document parsing than Claude.\n",
      "\n",
      " \t* Code execution similar to ChatGPT Plus.\n",
      "\n",
      " \t* Web search supports social media and journalism sources.\n",
      "\n",
      " \t* Claude is known  for token efficiency, but Le Chat provides\n",
      "custom enterprise deployments and flexible infrastructure setups.\n",
      "\n",
      " \t* Le Chat adheres to EU privacy standards (GDPR).\n",
      "\n",
      "ENTERPRISE DEPLOYMENTS AND CUSTOMIZATION\n",
      "Le Chat targets enterprises with options for SAAS, ON-PREMISE, and VPC\n",
      "DEPLOYMENT. Teams can customize models and ensure on-site data\n",
      "security, making it a viable alternative to U.S. and Chinese\n",
      "providers.\n",
      "\n",
      "ACCESS AND AVAILABILITY\n",
      "\n",
      "You can find Le Chat available on web, iOS, and Android. It offers\n",
      "three tiers:\n",
      "\n",
      " \t* FREE PLAN: Limited usage with access to core features.\n",
      "\n",
      " \t* PRO PLAN: Faster responses, priority access, and extended usage\n",
      "limits.\n",
      "\n",
      " \t* ENTERPRISE: Custom deployment on ON-PREMISE OR VPC INFRASTRUCTURE,\n",
      "model fine-tuning, and API rate customization.\n",
      "\n",
      "\t\t\n"
     ]
    }
   ],
   "source": [
    "print(emails[0]['text'].split(\"TOP NEWS\")[2].split(\"WHAT'S NEW\")[1].split(\"TRENDING SIGNALS\")[0].split(\"TRY NOW\")[0])"
   ]
  },
  {
   "cell_type": "code",
   "execution_count": null,
   "id": "d9b57101-0670-47c7-81d3-4821cb3fdcbe",
   "metadata": {},
   "outputs": [],
   "source": []
  },
  {
   "cell_type": "code",
   "execution_count": null,
   "id": "51f8a341-81e6-49c1-82ba-f1c99ad8626c",
   "metadata": {},
   "outputs": [],
   "source": []
  },
  {
   "cell_type": "code",
   "execution_count": null,
   "id": "c37ea2b2-62e5-41a2-a626-66d55cb73efc",
   "metadata": {},
   "outputs": [],
   "source": []
  },
  {
   "cell_type": "markdown",
   "id": "6b627033-16dd-4f5e-b91a-9175fe4ba95b",
   "metadata": {
    "jp-MarkdownHeadingCollapsed": true
   },
   "source": [
    "# TLDR"
   ]
  },
  {
   "cell_type": "code",
   "execution_count": 14,
   "id": "4dd4c716-ed21-4261-9701-b5149468e47b",
   "metadata": {
    "execution": {
     "iopub.execute_input": "2025-03-27T21:33:16.112642Z",
     "iopub.status.busy": "2025-03-27T21:33:16.111755Z",
     "iopub.status.idle": "2025-03-27T21:33:17.666404Z",
     "shell.execute_reply": "2025-03-27T21:33:17.665686Z",
     "shell.execute_reply.started": "2025-03-27T21:33:16.112550Z"
    }
   },
   "outputs": [
    {
     "data": {
      "text/plain": [
       "5"
      ]
     },
     "execution_count": 14,
     "metadata": {},
     "output_type": "execute_result"
    }
   ],
   "source": [
    "emails = gmail.fetch_emails(sender='TLDR AI <dan@tldrnewsletter.com>', after='2024-12-01', before='2024-12-07')\n",
    "len(emails)"
   ]
  },
  {
   "cell_type": "code",
   "execution_count": 15,
   "id": "2bb76247-7448-4993-8188-ae5bf9c96c0b",
   "metadata": {
    "execution": {
     "iopub.execute_input": "2025-03-27T21:33:23.687007Z",
     "iopub.status.busy": "2025-03-27T21:33:23.686398Z",
     "iopub.status.idle": "2025-03-27T21:33:23.768703Z",
     "shell.execute_reply": "2025-03-27T21:33:23.764239Z",
     "shell.execute_reply.started": "2025-03-27T21:33:23.686983Z"
    },
    "scrolled": true
   },
   "outputs": [
    {
     "name": "stdout",
     "output_type": "stream",
     "text": [
      "{'sender': 'TLDR AI <dan@tldrnewsletter.com>', 'subject': \"OpenAI o1 System Card 📇, Perplexity Publisher Program 🔍, DeepMind's Genie 2 🧞\", 'date_utc': 'Fri, 6 Dec 2024 14:16:24 +0000', 'id': '1939c5434a9f7fd8', 'text': \"This report outlines the safety work carried out prior to releasing\\r\\nOpenAI o1 and o1-mini, including external red teaming and frontier\\r\\nrisk\\r\\nevaluation\\xa0\\u200c\\xa0\\u200c\\xa0\\u200c\\xa0\\u200c\\xa0\\u200c\\xa0\\u200c\\xa0\\u200c\\xa0\\u200c\\xa0\\u200c\\xa0\\u200c\\xa0\\u200c\\xa0\\u200c\\xa0\\u200c\\xa0\\u200c\\xa0\\u200c\\xa0\\u200c\\xa0\\u200c\\xa0\\u200c\\xa0\\u200c\\xa0\\u200c\\xa0\\u200c\\xa0\\u200c\\xa0\\u200c\\xa0\\u200c\\xa0\\u200c\\xa0\\u200c\\xa0\\xa0\\u200c\\xa0\\u200c\\xa0\\u200c\\xa0\\u200c\\xa0\\u200c\\xa0\\u200c\\xa0\\u200c\\xa0\\u200c\\xa0\\u200c\\xa0\\u200c\\xa0\\u200c\\xa0\\u200c\\xa0\\u200c\\xa0\\u200c\\xa0\\u200c\\xa0\\u200c\\xa0\\u200c\\xa0\\u200c\\xa0\\u200c\\xa0\\u200c\\xa0\\u200c\\xa0\\u200c\\xa0\\u200c\\xa0\\u200c\\xa0\\u200c\\xa0\\u200c\\xa0\\r\\n\\r\\n\\r\\n Sign Up [1] |Advertise [2]|View Online [3] \\r\\n\\r\\n\\t\\tTLDR \\r\\n\\r\\n\\t\\tTOGETHER WITH [Writer] [4]\\r\\n\\r\\nTLDR AI 2024-12-06\\r\\n\\r\\n THE FASTEST WAY TO BUILD AI APPS (SPONSOR) [4] \\r\\n\\r\\n Writer is excited to introduce Writer AI Studio [4], the fastest way\\r\\nto build AI apps, products, and features. Writer's unique full-stack\\r\\ndesign makes it easy to prototype, deploy, and test AI apps [4] –\\r\\nallowing developers to build with APIs, a drag-and-drop open-source\\r\\nPython framework, or a no-code builder, so you have flexibility to\\r\\nbuild the way you want.\\r\\n\\r\\nWriter comes with a suite of top-ranking LLMs and has built-in RAG for\\r\\neasy integration with your data. Check it out if you're looking to\\r\\nstreamline how you build and integrate AI apps.\\r\\n\\r\\nStart building with Writer AI STUDIO. [4]\\r\\n\\r\\n🚀 \\r\\n\\r\\nHEADLINES & LAUNCHES\\r\\n\\r\\n OPENAI O1 SYSTEM CARD (3 MINUTE READ) [5] \\r\\n\\r\\n This report outlines the safety work carried out prior to releasing\\r\\nOpenAI o1 and o1-mini, including external red teaming and frontier\\r\\nrisk evaluations according to OpenAI's Preparedness Framework. \\r\\n\\r\\n PERPLEXITY EXPANDING IT'S PUBLISHER'S PROGRAM (4 MINUTE READ) [6] \\r\\n\\r\\n Perplexity has added over a dozen international news organizations to\\r\\nits Publishers' Program, offering tools, revenue sharing, and support\\r\\nto strengthen collaboration with global media. \\r\\n\\r\\n DEEPMIND'S GENIE 2 CAN GENERATE INTERACTIVE WORLDS THAT LOOK LIKE\\r\\nVIDEO GAMES (4 MINUTE READ) [7] \\r\\n\\r\\n DeepMind's Genie 2 is an advanced AI model that generates diverse,\\r\\ninteractive 3D worlds from images and text descriptions. The model is\\r\\nparticularly adept at simulating complex elements like physics and NPC\\r\\nbehavior, setting it apart from similar models by maintaining scene\\r\\nconsistency. Positioned as a research tool, Genie 2 is designed for\\r\\nprototyping interactive experiences and evaluating AI agents. \\r\\n\\r\\n🧠 \\r\\n\\r\\nRESEARCH & INNOVATION\\r\\n\\r\\n PALIGEMMA 2 (23 MINUTE READ) [8] \\r\\n\\r\\n Paligemma 2 is one of the best VLMs on the market today. It uses\\r\\nSigLIP and Gemma. \\r\\n\\r\\n LAND COVER MAPPING WITH ASANET (29 MINUTE READ) [9] \\r\\n\\r\\n The Asymmetric Semantic Aligning Network (ASANet) improves land cover\\r\\nclassification using both SAR and RGB images. \\r\\n\\r\\n FASTER MULTI-MODAL MODELS WITH TOKEN MERGING (14 MINUTE READ) [10] \\r\\n\\r\\n Researchers have developed a training-free method to make multi-modal\\r\\nlanguage models (LLMs) more efficient without sacrificing much\\r\\nperformance. Their approach reduces computational demands by up to 7\\r\\ntimes by smartly merging and pruning visual data tokens. \\r\\n\\r\\n🧑\\u200d💻 \\r\\n\\r\\nENGINEERING & RESOURCES\\r\\n\\r\\n RETHINKING CHANGE MANAGEMENT IN THE AGE OF AI (SPONSOR) [11] \\r\\n\\r\\n With the rise of AI and evolving customer expectations, businesses\\r\\nhave to move beyond temporary fixes and adopt a culture of continuous\\r\\ntransformation. Get the guide by Camunda [11] to find out how to align\\r\\nstakeholders, leverage technology and data, and embed a mindset of\\r\\ncontinuous change. Read the guide [11] \\r\\n\\r\\n GRAPHCAST (GITHUB REPO) [12] \\r\\n\\r\\n DeepMind has open sourced its GraphCast algorithm, which is\\r\\nsubstantially better and faster at localized weather prediction at 36\\r\\nhours. It also runs in a fraction of the time. \\r\\n\\r\\n CREATING OPTICAL ILLUSIONS (GITHUB REPO) [13] \\r\\n\\r\\n This project advances visual anagram generation - images that change\\r\\nappearance when flipped or rotated - by refining how diffusion models\\r\\nhandle multiple viewpoints. \\r\\n\\r\\n 3D SCENE COMPLETION FOR AUTONOMOUS VEHICLES (GITHUB REPO) [14] \\r\\n\\r\\n ScoreLiDAR is a new method that speeds up 3D LiDAR scene completion\\r\\nfor autonomous vehicles. \\r\\n\\r\\n🎁 \\r\\n\\r\\nMISCELLANEOUS\\r\\n\\r\\n NEW FISH AUDIO MODEL (3 MINUTE READ) [15] \\r\\n\\r\\n The newest Fish Audio 1.5 is currently #2 on Text To Speech\\r\\nLeaderboards behind ElevenLabs. It supports voice cloning and is fast\\r\\nto run, although the output quality seems hit or miss. \\r\\n\\r\\n OPENAI PARTNERS WITH ANDURIL (5 MINUTE READ) [16] \\r\\n\\r\\n OpenAI and defense company Anduril have partnered to create a\\r\\nnational security-based AI. \\r\\n\\r\\n KEY LEADERS BEHIND GOOGLE'S VIRAL NOTEBOOKLM ARE LEAVING TO CREATE\\r\\nTHEIR OWN STARTUP (2 MINUTE READ) [17] \\r\\n\\r\\n Three key Google NotebookLM members have left to start a new stealth\\r\\nAI venture. The startup aims to leverage the latest AI models to\\r\\ncreate consumer-facing, user-first AI products. It remains in its\\r\\nearly stages without a clear focus or announced funding. \\r\\n\\r\\n⚡ \\r\\n\\r\\nQUICK LINKS\\r\\n\\r\\n HOW CITI, RIPJAR, AND CLOUDFACTORY ARE USING AI IRL (SPONSOR) [18] \\r\\n\\r\\n AI in the real world isn't just ChatGPT. It's building robust systems\\r\\nwith firm guardrails and solving practical challenges around\\r\\ninference, data, and models. Watch the recorded presentation from\\r\\nAI_IRL London. [18] \\r\\n\\r\\n DEEPTHOUGHT 8B REASONING MODEL (HUGGING FACE HUB) [19] \\r\\n\\r\\n Ruliad has released a small reasoning model that takes extra time to\\r\\nthink through problems. \\r\\n\\r\\n GUI AGENTS (2 MINUTE READ) [20] \\r\\n\\r\\n A collection of research papers and projects on large language\\r\\nmodel-brained GUI agents. \\r\\n\\r\\n SAM ALTMAN SAYS ARTIFICIAL GENERAL INTELLIGENCE IS ON THE HORIZON (1\\r\\nMINUTE READ) [21] \\r\\n\\r\\n Sam Altman, CEO of OpenAI, stated at the DealBook Summit that\\r\\nArtificial General Intelligence might impact everyday life less\\r\\nsignificantly than expected. \\r\\n\\r\\nWant to advertise in TLDR? 📰\\r\\n\\r\\n If your company is interested in reaching an audience of AI\\r\\nprofessionals and decision makers, you may want to ADVERTISE WITH US\\r\\n[22]. \\r\\n\\r\\n If you have any comments or feedback, just respond to this email! \\r\\n\\r\\nThanks for reading, \\r\\nAndrew Tan & Andrew Carr \\r\\n\\r\\nIf you don't want to receive future editions of TLDR AI, please\\r\\nunsubscribe from TLDR AI [23] or manage all of your TLDR newsletter\\r\\nsubscriptions [24]. \\r\\n\\r\\n \\r\\n\\r\\nLinks:\\r\\n------\\r\\n[1] https://tldr.tech/ai?utm_source=tldrai\\r\\n[2] https://advertise.tldr.tech/?utm_source=tldrai&utm_medium=newsletter&utm_campaign=advertisetopnav\\r\\n[3] https://a.tldrnewsletter.com/web-version?ep=1&lc=57aff87c-ae02-11ef-9074-4b7e3c69f0c6&p=68d03084-b3c7-11ef-928d-09d27092d252&pt=campaign&t=1733494584&s=a94ebb372672f7844f8d11fcad3029c68791b13faf831d296ca3c8f639256320\\r\\n[4] https://writer.com/product/ai-studio/?utm_source=tldr&utm_medium=newsletter&utm_campaign=ai_studio\\r\\n[5] https://links.tldrnewsletter.com/xS4pwo\\r\\n[6] https://links.tldrnewsletter.com/UUkpwY\\r\\n[7] https://techcrunch.com/2024/12/04/deepminds-genie-2-can-generate-interactive-worlds-that-look-like-video-games/?utm_source=tldrai\\r\\n[8] https://arxiv.org/abs/2412.03555?utm_source=tldrai\\r\\n[9] https://arxiv.org/abs/2412.02044v1?utm_source=tldrai\\r\\n[10] https://arxiv.org/abs/2412.03248v1?utm_source=tldrai\\r\\n[11] https://page.camunda.com/wp-rethinking-change-management?utm_medium=paid_leadgen&utm_source=tldr&utm_campaign=Guide.RethinkingChangeManagement.24Q4.EN&utm_content=Q4program\\r\\n[12] https://github.com/google-deepmind/graphcast?utm_source=tldrai\\r\\n[13] https://github.com/pixtella/anagram-mtl?utm_source=tldrai\\r\\n[14] https://github.com/happyw1nd/scorelidar?utm_source=tldrai\\r\\n[15] https://threadreaderapp.com/thread/1864370933496205728.html?utm_source=tldrai\\r\\n[16] https://www.cnbc.com/2024/12/04/openai-partners-with-defense-company-anduril.html?utm_source=tldrai\\r\\n[17] https://techcrunch.com/2024/12/04/key-leaders-behind-googles-viral-notebooklm-are-leaving-to-create-their-own-startup/?utm_source=tldrai\\r\\n[18] https://www.cloudfactory.com/webinar/ai-irl?utm_campaign=Core_AP_EG&utm_source=tldr&utm_medium=mediapartner&utm_content=email_quicklinks\\r\\n[19] https://huggingface.co/ruliad/deepthought-8b-llama-v0.01-alpha?utm_source=tldrai\\r\\n[20] https://vyokky.github.io/LLM-Brained-GUI-Agents-Survey/?utm_source=tldrai\\r\\n[21] https://www.nytimes.com/video/business/100000009858580/sam-altman-openai-dealbook.html?utm_source=tldrai\\r\\n[22] https://advertise.tldr.tech/?utm_source=tldrai&utm_medium=newsletter&utm_campaign=advertisecta\\r\\n[23] https://a.tldrnewsletter.com/unsubscribe?ep=1&l=eedf6b14-3de3-11ed-9a32-0241b9615763&lc=57aff87c-ae02-11ef-9074-4b7e3c69f0c6&p=68d03084-b3c7-11ef-928d-09d27092d252&pt=campaign&pv=4&spa=1733493669&t=1733494584&s=ea38715a39323501a5e9b28f17e7c39f0df3e5d14a1e4155a2a433bd6fecc396\\r\\n[24] https://tldr.tech/ai/manage?email=automatic.newsletters%40gmail.com\", 'message': {'id': '1939c5434a9f7fd8', 'threadId': '1939c5434a9f7fd8', 'labelIds': ['CATEGORY_UPDATES', 'INBOX'], 'snippet': 'This report outlines the safety work carried out prior to releasing OpenAI o1 and o1-mini, including external red teaming and frontier risk evaluation \\u200c \\u200c \\u200c \\u200c \\u200c \\u200c \\u200c \\u200c \\u200c \\u200c \\u200c \\u200c \\u200c \\u200c \\u200c \\u200c \\u200c \\u200c \\u200c \\u200c \\u200c \\u200c \\u200c \\u200c \\u200c', 'payload': {'partId': '', 'mimeType': 'multipart/alternative', 'filename': '', 'headers': [{'name': 'Delivered-To', 'value': 'automatic.newsletters@gmail.com'}, {'name': 'Received', 'value': 'by 2002:a05:622a:5b98:b0:466:ad67:1db9 with SMTP id ec24csp803853qtb;        Fri, 6 Dec 2024 06:16:24 -0800 (PST)'}, {'name': 'X-Google-Smtp-Source', 'value': 'AGHT+IHzhiNqZjonbgIAWEkl10XzKeycMuPIVuMriaaO+Xh5v1IW8r7yv+TL7i5kML0FCngEYbIo'}, {'name': 'X-Received', 'value': 'by 2002:a05:620a:3f85:b0:7b1:4cc0:5e1f with SMTP id af79cd13be357-7b6bcac0428mr430802385a.7.1733494584668;        Fri, 06 Dec 2024 06:16:24 -0800 (PST)'}, {'name': 'ARC-Seal', 'value': 'i=1; a=rsa-sha256; t=1733494584; cv=none;        d=google.com; s=arc-20240605;        b=TkGqklaCOUJQrXVTwZkQDl01qjxkO2EzqLeEW1djEwxjeQq0XwKtgLJLSKupsHoEi+         VinY3fnoCVS6V/LHtqs8NKeLQutmky3NWTy2N7YywqDlTMBKArti174pvZ1Oy2ppZDRP         ooTgYcDPDKC+8u7h67C2vVgpxNzaWCSmxBJzKWkKhaj1166Bzd0sCVyY5kLvcE1nT6H/         /TDztTwmKtODKZuc9rkideKnIW570x53N83LaykqjE3zEm73JzF+2Brv8tM2/ktYxwkr         VKVoSPOLIWDqg/tA+tdYag1P3KsLmJlVwmNCMXzxCWcps7A/PBBGBlQ08TUvgFGqlNnS         oUfg=='}, {'name': 'ARC-Message-Signature', 'value': 'i=1; a=rsa-sha256; c=relaxed/relaxed; d=google.com; s=arc-20240605;        h=feedback-id:message-id:date:mime-version:list-unsubscribe-post         :list-unsubscribe:subject:to:from:dkim-signature:dkim-signature;        bh=FQeL0t6J7RtvS1NR0hTi1JHgedwEOmKMUh54MvI4qD0=;        fh=VnhNYpUDAK7h/fb2MJhpyBMA59Jx2JgnfiwqFtc1/Y0=;        b=QZg1W7yBkkrfuhTCkJU175D9kPoMa3Sp7vtpL7s443xmNOCLYB9BiQ0x9BSBVtg2Y+         JHz+v9nX38ZlvKeKH0DG+WWpPnG5hFVYnjN5ibgZcTR5Cpgjk/fSU4dcqEggz9dAfqB7         FjKkkEzrE4n4H9Rb+X+wHMnTRfj3Zql7NTHey1+WAxmU4GVwUV+VBhi3VRk/FSE2FnNX         v5yxJ2qeYx2Z+M2HyJpFwRHJHhf3ZOlOT+451gJJOIYiUUG7tVh6qxP6qxUVsdYYH3ip         4PMksqHBKYYmluevkOt2VyCSfxA+DEpHEu+Rt5+2UO17IsYDlm02M4zEOtq5y+Eo66MJ         OulA==;        dara=google.com'}, {'name': 'ARC-Authentication-Results', 'value': 'i=1; mx.google.com;       dkim=pass header.i=@tldrnewsletter.com header.s=sioo5ufy44q7kswoxqlcbgcwkczxbk64 header.b=\"qy/zR2PB\";       dkim=pass header.i=@amazonses.com header.s=ug7nbtf4gccmlpwj322ax3p6ow6yfsug header.b=RurMGhpu;       spf=pass (google.com: domain of 010001939c5432f3-253edc16-66c5-4821-8ddd-612684e9b5cd-000000@dailyupdate.tldrnewsletter.com designates 54.240.123.113 as permitted sender) smtp.mailfrom=010001939c5432f3-253edc16-66c5-4821-8ddd-612684e9b5cd-000000@dailyupdate.tldrnewsletter.com;       dmarc=pass (p=REJECT sp=REJECT dis=NONE) header.from=tldrnewsletter.com'}, {'name': 'Return-Path', 'value': '<010001939c5432f3-253edc16-66c5-4821-8ddd-612684e9b5cd-000000@dailyupdate.tldrnewsletter.com>'}, {'name': 'Received', 'value': 'from a123-113.smtp-out.amazonses.com (a123-113.smtp-out.amazonses.com. [54.240.123.113])        by mx.google.com with ESMTPS id af79cd13be357-7b6b5a48109si419243985a.92.2024.12.06.06.16.24        for <automatic.newsletters@gmail.com>        (version=TLS1_3 cipher=TLS_AES_128_GCM_SHA256 bits=128/128);        Fri, 06 Dec 2024 06:16:24 -0800 (PST)'}, {'name': 'Received-SPF', 'value': 'pass (google.com: domain of 010001939c5432f3-253edc16-66c5-4821-8ddd-612684e9b5cd-000000@dailyupdate.tldrnewsletter.com designates 54.240.123.113 as permitted sender) client-ip=54.240.123.113;'}, {'name': 'Authentication-Results', 'value': 'mx.google.com;       dkim=pass header.i=@tldrnewsletter.com header.s=sioo5ufy44q7kswoxqlcbgcwkczxbk64 header.b=\"qy/zR2PB\";       dkim=pass header.i=@amazonses.com header.s=ug7nbtf4gccmlpwj322ax3p6ow6yfsug header.b=RurMGhpu;       spf=pass (google.com: domain of 010001939c5432f3-253edc16-66c5-4821-8ddd-612684e9b5cd-000000@dailyupdate.tldrnewsletter.com designates 54.240.123.113 as permitted sender) smtp.mailfrom=010001939c5432f3-253edc16-66c5-4821-8ddd-612684e9b5cd-000000@dailyupdate.tldrnewsletter.com;       dmarc=pass (p=REJECT sp=REJECT dis=NONE) header.from=tldrnewsletter.com'}, {'name': 'DKIM-Signature', 'value': 'v=1; a=rsa-sha256; q=dns/txt; c=relaxed/simple; s=sioo5ufy44q7kswoxqlcbgcwkczxbk64; d=tldrnewsletter.com; t=1733494584; h=From:To:Subject:List-Unsubscribe:List-Unsubscribe-Post:MIME-Version:Date:Message-ID:Content-Type; bh=H3REsk+9LmpkWolOd9OZ3SliT9YUFi45j5GS1UnA6gA=; b=qy/zR2PBWyrgnDp/vmdYeE22Gs//gfHDua8byJVm1uzCQoEPNQ0rKXYofDoZBoLx HCKb9JxKAbrVtl1CQUpyLN+2+Y4ngptTF/mOoLvy5ORieS0EYQJoX2ics49u6cLylJf SAFVsx+hwuvi3pNNTcY5x7KCNlpoKPCf97vyGvco='}, {'name': 'DKIM-Signature', 'value': 'v=1; a=rsa-sha256; q=dns/txt; c=relaxed/simple; s=ug7nbtf4gccmlpwj322ax3p6ow6yfsug; d=amazonses.com; t=1733494584; h=From:To:Subject:List-Unsubscribe:List-Unsubscribe-Post:MIME-Version:Date:Message-ID:Content-Type:Feedback-ID; bh=H3REsk+9LmpkWolOd9OZ3SliT9YUFi45j5GS1UnA6gA=; b=RurMGhpuqKmq6kMBiWG4yxBSwqvby7C2e/9HCJuLpdmh1NToyM4gmjEozkQhHq+p b623/baUaf0yKX2JtoEcPickdMcynLiWbg6rBjvZiiFSBL3ToKqePDma2qRCh4T6aY7 P/eReH3dCgProXpvbKHly1XTjKji+v+l4Vb36ZFg='}, {'name': 'From', 'value': 'TLDR AI <dan@tldrnewsletter.com>'}, {'name': 'To', 'value': 'automatic.newsletters@gmail.com'}, {'name': 'Subject', 'value': \"OpenAI o1 System Card 📇, Perplexity Publisher Program 🔍, DeepMind's Genie 2 🧞\"}, {'name': 'X-Entity-Ref-Id', 'value': 'a05da648-e089-48f3-83d0-5756087246a8'}, {'name': 'X-EmailOctopus-Parent-Id', 'value': '68d03084-b3c7-11ef-928d-09d27092d252'}, {'name': 'X-EmailOctopus-Parent-Type-Id', 'value': 'campaign'}, {'name': 'X-EmailOctopus-List-Id', 'value': 'eedf6b14-3de3-11ed-9a32-0241b9615763'}, {'name': 'X-EmailOctopus-List-Contact-Id', 'value': '57aff87c-ae02-11ef-9074-4b7e3c69f0c6'}, {'name': 'X-EmailOctopus-Started-Preparing-At', 'value': '2024-12-06T14:01:09+00:00'}, {'name': 'X-EmailOctopus-Sent-At', 'value': '2024-12-06T14:16:24+00:00'}, {'name': 'X-EmailOctopus-Team-Id', 'value': '66987ef2-4f4c-11e9-a3c9-06b79b628af2'}, {'name': 'X-EmailOctopus-Version', 'value': '4'}, {'name': 'List-Unsubscribe', 'value': '<https://a.tldrnewsletter.com/unsubscribe?ep=1&l=eedf6b14-3de3-11ed-9a32-0241b9615763&lc=57aff87c-ae02-11ef-9074-4b7e3c69f0c6&p=68d03084-b3c7-11ef-928d-09d27092d252&pt=campaign&pv=4&spa=1733493669&t=1733494584&s=ea38715a39323501a5e9b28f17e7c39f0df3e5d14a1e4155a2a433bd6fecc396>'}, {'name': 'List-Unsubscribe-Post', 'value': 'List-Unsubscribe=One-Click'}, {'name': 'X-EmailOctopus-Ses-Configuration-Set-Name', 'value': 'emailoctopus-a9f7b12f74f3c968d9408897fb35539c'}, {'name': 'MIME-Version', 'value': '1.0'}, {'name': 'Date', 'value': 'Fri, 6 Dec 2024 14:16:24 +0000'}, {'name': 'Message-ID', 'value': '<010001939c5432f3-253edc16-66c5-4821-8ddd-612684e9b5cd-000000@email.amazonses.com>'}, {'name': 'Content-Type', 'value': 'multipart/alternative; boundary=3eU8_G2z'}, {'name': 'Feedback-ID', 'value': '::1.us-east-1.Dj5/7DYmgk+n1sSGGXSQSLIthSjNQ0MGtV5Dro1Tr8U=:AmazonSES'}, {'name': 'X-SES-Outgoing', 'value': '2024.12.06-54.240.123.113'}], 'body': {'size': 0}, 'parts': [{'partId': '0', 'mimeType': 'text/plain', 'filename': '', 'headers': [{'name': 'Content-Type', 'value': 'text/plain; charset=utf-8'}, {'name': 'Content-Transfer-Encoding', 'value': 'quoted-printable'}], 'body': {'size': 8582, 'data': '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'}}, {'partId': '1', 'mimeType': 'text/html', 'filename': '', 'headers': [{'name': 'Content-Type', 'value': 'text/html; charset=utf-8'}, {'name': 'Content-Transfer-Encoding', 'value': 'quoted-printable'}], 'body': {'size': 36741, 'data': 'PCFET0NUWVBFIGh0bWw-PGh0bWwgbGFuZz0iZW4iPjxoZWFkPjxtZXRhIGh0dHAtZXF1aXY9IkNvbnRlbnQtVHlwZSIgY29udGVudD0idGV4dC9odG1sIGNoYXJzZXQ9VVRGLTgiPjxtZXRhIGNoYXJzZXQ9IlVURi04Ij48bWV0YSBuYW1lPSJ2aWV3cG9ydCIgY29udGVudD0id2lkdGg9ZGV2aWNlLXdpZHRoIj48bWV0YSBuYW1lPSJ4LWFwcGxlLWRpc2FibGUtbWVzc2FnZS1yZWZvcm1hdHRpbmciPjx0aXRsZT5UTERSIEFJPC90aXRsZT48bWV0YSBuYW1lPSJjb2xvci1zY2hlbWUiIGNvbnRlbnQ9ImxpZ2h0IGRhcmsiPjxtZXRhIG5hbWU9InN1cHBvcnRlZC1jb2xvci1zY2hlbWVzIiBjb250ZW50PSJsaWdodCBkYXJrIj48c3R5bGUgdHlwZT0idGV4dC9jc3MiPg0KCQkJOnJvb3Qgew0KCQkJCWNvbG9yLXNjaGVtZTogbGlnaHQgZGFyazsgc3VwcG9ydGVkLWNvbG9yLXNjaGVtZXM6IGxpZ2h0IGRhcms7DQoJCQl9DQoJCQkNCgkJCSosDQoJCQkqOmFmdGVyLA0KCQkJKjpiZWZvcmUgew0KCQkJCS13ZWJraXQtYm94LXNpemluZzogYm9yZGVyLWJveDsgLW1vei1ib3gtc2l6aW5nOiBib3JkZXItYm94OyBib3gtc2l6aW5nOiBib3JkZXItYm94Ow0KCQkJfQ0KCQkJDQoJCQkqIHsNCgkJCQktbXMtdGV4dC1zaXplLWFkanVzdDogMTAwJTsgLXdlYmtpdC10ZXh0LXNpemUtYWRqdXN0OiAxMDAlOw0KCQkJfQ0KCQkJDQoJCQlodG1sLA0KCQkJYm9keSwNCgkJCS5kb2N1bWVudCB7DQoJCQkJd2lkdGg6IDEwMCUgIWltcG9ydGFudDsgaGVpZ2h0OiAxMDAlICFpbXBvcnRhbnQ7IG1hcmdpbjogMDsgcGFkZGluZzogMDsNCgkJCX0NCgkJCQ0KCQkJYm9keSB7DQoJCQkJLXdlYmtpdC1mb250LXNtb290aGluZzogYW50aWFsaWFzZWQ7IC1tb3otb3N4LWZvbnQtc21vb3RoaW5nOiBncmF5c2NhbGU7IHRleHQtcmVuZGVyaW5nOiBvcHRpbWl6ZUxlZ2liaWxpdHk7DQoJCQl9DQoJCQkNCgkJCWRpdltzdHlsZSo9Im1hcmdpbjogMTZweCAwIl0gew0KCQkJCW1hcmdpbjogMCAhaW1wb3J0YW50Ow0KCQkJfQ0KCQkJDQoJCQl0YWJsZSwNCgkJCXRkIHsNCgkJCQltc28tdGFibGUtbHNwYWNlOiAwcHQ7IG1zby10YWJsZS1yc3BhY2U6IDBwdDsNCgkJCX0NCgkJCQ0KCQkJdGFibGUgew0KCQkJCWJvcmRlci1zcGFjaW5nOiAwOyBib3JkZXItY29sbGFwc2U6IGNvbGxhcHNlOyB0YWJsZS1sYXlvdXQ6IGZpeGVkOyBtYXJnaW46IDAgYXV0bzsNCgkJCX0NCgkJCQ0KCQkJaW1nIHsNCgkJCQktbXMtaW50ZXJwb2xhdGlvbi1tb2RlOiBiaWN1YmljOyBtYXgtd2lkdGg6IDEwMCU7IGJvcmRlcjogMDsNCgkJCX0NCgkJCQ0KCQkJKlt4LWFwcGxlLWRhdGEtZGV0ZWN0b3JzXSB7DQoJCQkJY29sb3I6IGluaGVyaXQgIWltcG9ydGFudDsgdGV4dC1kZWNvcmF0aW9uOiBub25lICFpbXBvcnRhbnQ7DQoJCQl9DQoJCQkNCgkJCS54LWdtYWlsLWRhdGEtZGV0ZWN0b3JzLA0KCQkJLngtZ21haWwtZGF0YS1kZXRlY3RvcnMgKiwNCgkJCS5hQm4gew0KCQkJCWJvcmRlci1ib3R0b206IDAgIWltcG9ydGFudDsgY3Vyc29yOiBkZWZhdWx0ICFpbXBvcnRhbnQ7DQoJCQl9DQoJCQkNCgkJCS5idG4gew0KCQkJCS13ZWJraXQtdHJhbnNpdGlvbjogYWxsIDIwMG1zIGVhc2U7IHRyYW5zaXRpb246IGFsbCAyMDBtcyBlYXNlOw0KCQkJfQ0KCQkJDQoJCQkuYnRuOmhvdmVyIHsNCgkJCQliYWNrZ3JvdW5kLWNvbG9yOiAjZjY3NTc1OyBib3JkZXItY29sb3I6ICNmNjc1NzU7DQoJCQl9DQoJCQkNCgkJCSogew0KCQkJCWZvbnQtZmFtaWx5OiBBcmlhbCwgSGVsdmV0aWNhLCBzYW5zLXNlcmlmOyBmb250LXNpemU6IDE4cHg7DQoJCQl9DQoJCQkNCgkJCUBtZWRpYSBzY3JlZW4gYW5kIChtYXgtd2lkdGg6IDYwMHB4KSB7DQoJCQkJLmNvbnRhaW5lciB7DQoJCQkJCXdpZHRoOiAxMDAlOyBtYXJnaW46IGF1dG87DQoJCQkJfQ0KCQkJCS5zdGFjayB7DQoJCQkJCWRpc3BsYXk6IGJsb2NrIWltcG9ydGFudDsgd2lkdGg6IDEwMCUhaW1wb3J0YW50OyBtYXgtd2lkdGg6IDEwMCUhaW1wb3J0YW50Ow0KCQkJCX0NCgkJCQkuYnRuIHsNCgkJCQkJZGlzcGxheTogYmxvY2s7IHdpZHRoOiAxMDAlOyB0ZXh0LWFsaWduOiBjZW50ZXI7DQoJCQkJfQ0KCQkJfQ0KCQkJDQoJCQlib2R5LA0KCQkJcCwNCgkJCXRkLA0KCQkJdHIsDQoJCQkuYm9keSwNCgkJCXRhYmxlLA0KCQkJaDEsDQoJCQloMiwNCgkJCWgzLA0KCQkJaDQsDQoJCQloNSwNCgkJCWg2LA0KCQkJZGl2LA0KCQkJc3BhbiB7DQoJCQkJYmFja2dyb3VuZC1jb2xvcjogI0ZFRkVGRSAhaW1wb3J0YW50OyBjb2xvcjogIzAxMDEwMSAhaW1wb3J0YW50Ow0KCQkJfQ0KCQkJDQoJCQlAbWVkaWEgKHByZWZlcnMtY29sb3Itc2NoZW1lOiBkYXJrKSB7DQoJCQkJYm9keSwNCgkJCQlwLA0KCQkJCXRkLA0KCQkJCXRyLA0KCQkJCS5ib2R5LA0KCQkJCXRhYmxlLA0KCQkJCWgxLA0KCQkJCWgyLA0KCQkJCWgzLA0KCQkJCWg0LA0KCQkJCWg1LA0KCQkJCWg2LA0KCQkJCWRpdiwNCgkJCQlzcGFuIHsNCgkJCQkJYmFja2dyb3VuZC1jb2xvcjogIzI3MjkyRCAhaW1wb3J0YW50OyBjb2xvcjogI0ZFRkVGRSAhaW1wb3J0YW50Ow0KCQkJCX0NCgkJCX0NCgkJCQ0KCQkJYSB7DQoJCQkJY29sb3I6IGluaGVyaXQgIWltcG9ydGFudDsgdGV4dC1kZWNvcmF0aW9uOiB1bmRlcmxpbmUgIWltcG9ydGFudDsNCgkJCX0NCg0KCQk8L3N0eWxlPjwhLS1baWYgbXNvIHwgaWVdPg0KCQk8c3R5bGUgdHlwZT0idGV4dC9jc3MiPg0KCQkJYSB7DQoJCQkJYmFja2dyb3VuZC1jb2xvcjogI0ZFRkVGRSAhaW1wb3J0YW50OyBjb2xvcjogIzAxMDEwMSAhaW1wb3J0YW50Ow0KCQkJfQ0KCQkJQG1lZGlhIChwcmVmZXJzLWNvbG9yLXNjaGVtZTogZGFyaykgew0KCQkJCWEgew0KCQkJCQliYWNrZ3JvdW5kLWNvbG9yOiAjMjcyOTJEICFpbXBvcnRhbnQ7IGNvbG9yOiAjRkVGRUZFICFpbXBvcnRhbnQ7DQoJCQkJfQ0KCQkJfQ0KCSA8L3N0eWxlPg0KCQkJPCFbZW5kaWZdLS0-PC9oZWFkPjxib2R5IGNsYXNzPSIiPg0KDQoNCg0KPGRpdiBzdHlsZT0iZGlzcGxheTogbm9uZTsgbWF4LWhlaWdodDogMHB4OyBvdmVyZmxvdzogaGlkZGVuOyI-VGhpcyByZXBvcnQgb3V0bGluZXMgdGhlIHNhZmV0eSB3b3JrIGNhcnJpZWQgb3V0IHByaW9yIHRvIHJlbGVhc2luZyBPcGVuQUkgbzEgYW5kIG8xLW1pbmksIGluY2x1ZGluZyBleHRlcm5hbCByZWQgdGVhbWluZyBhbmQgZnJvbnRpZXIgcmlzayBldmFsdWF0aW9uJm5ic3A74oCMJm5ic3A74oCMJm5ic3A74oCMJm5ic3A74oCMJm5ic3A74oCMJm5ic3A74oCMJm5ic3A74oCMJm5ic3A74oCMJm5ic3A74oCMJm5ic3A74oCMJm5ic3A74oCMJm5ic3A74oCMJm5ic3A74oCMJm5ic3A74oCMJm5ic3A74oCMJm5ic3A74oCMJm5ic3A74oCMJm5ic3A74oCMJm5ic3A74oCMJm5ic3A74oCMJm5ic3A74oCMJm5ic3A74oCMJm5ic3A74oCMJm5ic3A74oCMJm5ic3A74oCMJm5ic3A74oCMJm5ic3A7Jm5ic3A74oCMJm5ic3A74oCMJm5ic3A74oCMJm5ic3A74oCMJm5ic3A74oCMJm5ic3A74oCMJm5ic3A74oCMJm5ic3A74oCMJm5ic3A74oCMJm5ic3A74oCMJm5ic3A74oCMJm5ic3A74oCMJm5ic3A74oCMJm5ic3A74oCMJm5ic3A74oCMJm5ic3A74oCMJm5ic3A74oCMJm5ic3A74oCMJm5ic3A74oCMJm5ic3A74oCMJm5ic3A74oCMJm5ic3A74oCMJm5ic3A74oCMJm5ic3A74oCMJm5ic3A74oCMJm5ic3A74oCMJm5ic3A7PC9kaXY-DQoNCg0KDQo8ZGl2IHN0eWxlPSJkaXNwbGF5OiBub25lOyBtYXgtaGVpZ2h0OiAwcHg7IG92ZXJmbG93OiBoaWRkZW47Ij4NCjxicj4NCjwvZGl2Pg0KDQo8dGFibGUgYWxpZ249ImNlbnRlciIgY2xhc3M9ImRvY3VtZW50Ij48dGJvZHk-PHRyPjx0ZCB2YWxpZ249InRvcCI-DQoNCjx0YWJsZSBhbGlnbj0iY2VudGVyIiBib3JkZXI9IjAiIGNlbGxwYWRkaW5nPSIwIiBjZWxsc3BhY2luZz0iMCIgY2xhc3M9ImNvbnRhaW5lciIgd2lkdGg9IjYwMCI-PHRib2R5Pjx0ciBjbGFzcz0iaW5uZXItYm9keSI-PHRkPg0KDQo8dGFibGUgYWxpZ249ImNlbnRlciIgYm9yZGVyPSIwIiBjZWxscGFkZGluZz0iMCIgY2VsbHNwYWNpbmc9IjAiIHdpZHRoPSIxMDAlIj48dGJvZHk-PHRyIGNsYXNzPSJoZWFkZXIiPjx0ZCBiZ2NvbG9yPSIiIGNsYXNzPSJjb250YWluZXIiPg0KDQo8dGFibGUgd2lkdGg9IjEwMCUiPjx0Ym9keT48dHI-PHRkIGNsYXNzPSJjb250YWluZXIiPg0KDQo8dGFibGUgYWxpZ249ImNlbnRlciIgYmdjb2xvcj0iIiBib3JkZXI9IjAiIGNlbGxwYWRkaW5nPSIwIiBjZWxsc3BhY2luZz0iMCIgc3R5bGU9Im1hcmdpbi10b3A6IDBweDsiIHdpZHRoPSIxMDAlIj48dGJvZHk-PHRyPjx0ZCBzdHlsZT0icGFkZGluZzogMHB4OyI-DQoNCjx0YWJsZSBhbGlnbj0iY2VudGVyIiBiZ2NvbG9yPSIiIGJvcmRlcj0iMCIgY2VsbHBhZGRpbmc9IjAiIGNlbGxzcGFjaW5nPSIwIiB3aWR0aD0iMTAwJSI-PHRib2R5Pjx0cj48dGQgY2xhc3M9ImNvbnRhaW5lciIgc3R5bGU9InBhZGRpbmc6IDE1cHggMTVweDsiPg0KPGRpdiBzdHlsZT0idGV4dC1hbGlnbjogY2VudGVyOyI-DQo8c3BhbiBzdHlsZT0ibWFyZ2luLXJpZ2h0OiAwcHg7Ij48YSBocmVmPSJodHRwczovL3RyYWNraW5nLnRsZHJuZXdzbGV0dGVyLmNvbS9DTDAvaHR0cHM6JTJGJTJGdGxkci50ZWNoJTJGYWklM0Z1dG1fc291cmNlPXRsZHJhaS8xLzAxMDAwMTkzOWM1NDMyZjMtMjUzZWRjMTYtNjZjNS00ODIxLThkZGQtNjEyNjg0ZTliNWNkLTAwMDAwMC8wYjlZNV85THNpWkpJN0VpY0YydzdocFl1cVBWa1pkdFZGUXdnX2lVTnZzPTM4MiIgcmVsPSJub29wZW5lciBub3JlZmVycmVyIiB0YXJnZXQ9Il9ibGFuayI-PHNwYW4-U2lnbiBVcDwvc3Bhbj48L2E-DQp8PHNwYW4gc3R5bGU9Im1hcmdpbi1yaWdodDogMnB4OyBtYXJnaW4tbGVmdDogMnB4OyI-PGEgaHJlZj0iaHR0cHM6Ly90cmFja2luZy50bGRybmV3c2xldHRlci5jb20vQ0wwL2h0dHBzOiUyRiUyRmFkdmVydGlzZS50bGRyLnRlY2glMkYlM0Z1dG1fc291cmNlPXRsZHJhaSUyNnV0bV9tZWRpdW09bmV3c2xldHRlciUyNnV0bV9jYW1wYWlnbj1hZHZlcnRpc2V0b3BuYXYvMS8wMTAwMDE5MzljNTQzMmYzLTI1M2VkYzE2LTY2YzUtNDgyMS04ZGRkLTYxMjY4NGU5YjVjZC0wMDAwMDAvTENJWDNjWVVQSXczSHk1dTg4endYUDhGMjBadnNMUmdZM2VaUWlISFV0az0zODIiIHJlbD0ibm9vcGVuZXIgbm9yZWZlcnJlciIgdGFyZ2V0PSJfYmxhbmsiPjxzcGFuPkFkdmVydGlzZTwvc3Bhbj48L2E-PC9zcGFuPnw8c3BhbiBzdHlsZT0ibWFyZ2luLWxlZnQ6IDJweDsiPjxhIGhyZWY9Imh0dHBzOi8vdHJhY2tpbmcudGxkcm5ld3NsZXR0ZXIuY29tL0NMMC9odHRwczolMkYlMkZhLnRsZHJuZXdzbGV0dGVyLmNvbSUyRndlYi12ZXJzaW9uJTNGZXA9MSUyNmxjPTU3YWZmODdjLWFlMDItMTFlZi05MDc0LTRiN2UzYzY5ZjBjNiUyNnA9NjhkMDMwODQtYjNjNy0xMWVmLTkyOGQtMDlkMjcwOTJkMjUyJTI2cHQ9Y2FtcGFpZ24lMjZ0PTE3MzM0OTQ1ODQlMjZzPWE5NGViYjM3MjY3MmY3ODQ0ZjhkMTFmY2FkMzAyOWM2ODc5MWIxM2ZhZjgzMWQyOTZjYTNjOGY2MzkyNTYzMjAvMS8wMTAwMDE5MzljNTQzMmYzLTI1M2VkYzE2LTY2YzUtNDgyMS04ZGRkLTYxMjY4NGU5YjVjZC0wMDAwMDAvUEFkdzJ1ZS1obXV1WURaMm9FQ3VkUVQtYWRReXRWakwxRFZRV3c1NUl4bz0zODIiPjxzcGFuPlZpZXcgT25saW5lPC9zcGFuPjwvYT48L3NwYW4-DQo8YnI-DQo8L3NwYW4-PC9kaXY-DQo8L3RkPjwvdHI-PC90Ym9keT48L3RhYmxlPg0KDQo8dGFibGUgYWxpZ249ImNlbnRlciIgYmdjb2xvcj0iIiBib3JkZXI9IjAiIGNlbGxwYWRkaW5nPSIwIiBjZWxsc3BhY2luZz0iMCIgd2lkdGg9IjEwMCUiPjx0Ym9keT48dHI-PHRkIGNsYXNzPSJjb250YWluZXIiIHN0eWxlPSJ0ZXh0LWFsaWduOiBjZW50ZXI7Ij48c3BhbiBkYXRhLWRhcmtyZWFkZXItaW5saW5lLWNvbG9yPSIiIHN0eWxlPSItLWRhcmtyZWFkZXItaW5saW5lLWNvbG9yOiMzZGIzZmY7IGNvbG9yOiByZ2IoNTEsIDE3NSwgMjU1KSAhaW1wb3J0YW50OyBmb250LXNpemU6IDMwcHg7Ij5UPC9zcGFuPjxzcGFuIHN0eWxlPSJmb250LXNpemU6IDMwcHg7Ij48c3BhbiBkYXRhLWRhcmtyZWFkZXItaW5saW5lLWNvbG9yPSIiIHN0eWxlPSJjb2xvcjogcmdiKDIzMiwgMTkyLCA5NikgIWltcG9ydGFudDsgLS1kYXJrcmVhZGVyLWlubGluZS1jb2xvcjojZThjMTYzOyBmb250LXNpemU6MzBweDsiPkw8L3NwYW4-PHNwYW4gZGF0YS1kYXJrcmVhZGVyLWlubGluZS1jb2xvcj0iIiBzdHlsZT0iY29sb3I6IHJnYigxMDEsIDE5NSwgMTczKSAhaW1wb3J0YW50OyAtLWRhcmtyZWFkZXItaW5saW5lLWNvbG9yOiM2ZWM3YjI7IGZvbnQtc2l6ZTozMHB4OyI-RDwvc3Bhbj48L3NwYW4-PHNwYW4gZGF0YS1kYXJrcmVhZGVyLWlubGluZS1jb2xvcj0iIiBzdHlsZT0iLS1kYXJrcmVhZGVyLWlubGluZS1jb2xvcjojZGQ2ZTZlOyBjb2xvcjogcmdiKDIyMCwgMTA3LCAxMDcpICFpbXBvcnRhbnQ7IGZvbnQtc2l6ZTogMzBweDsiPlI8L3NwYW4-DQo8YnI-DQo8L3RkPjwvdHI-PC90Ym9keT48L3RhYmxlPg0KDQo8YnI-DQoNCjx0YWJsZSBhbGlnbj0iY2VudGVyIiBiZ2NvbG9yPSIiIGJvcmRlcj0iMCIgY2VsbHBhZGRpbmc9IjAiIGNlbGxzcGFjaW5nPSIwIiB3aWR0aD0iMTAwJSI-PHRib2R5Pjx0ciBpZD0idG9nZXRoZXItd2l0aCI-PHRkIGFsaWduPSJjZW50ZXIiIGhlaWdodD0iMjAiIHN0eWxlPSJ2ZXJ0aWNhbC1hbGlnbjptaWRkbGUgIWltcG9ydGFudDsiIHZhbGlnbj0ibWlkZGxlIiB3aWR0aD0iMTAwJSI-PHN0cm9uZyBzdHlsZT0idmVydGljYWwtYWxpZ246bWlkZGxlICFpbXBvcnRhbnQ7IGhlaWdodDogMTAwJTsiPlRvZ2V0aGVyIFdpdGggPC9zdHJvbmc-DQo8YSBocmVmPSJodHRwczovL3RyYWNraW5nLnRsZHJuZXdzbGV0dGVyLmNvbS9DTDAvaHR0cHM6JTJGJTJGd3JpdGVyLmNvbSUyRnByb2R1Y3QlMkZhaS1zdHVkaW8lMkYlM0Z1dG1fc291cmNlPXRsZHIlMjZ1dG1fbWVkaXVtPW5ld3NsZXR0ZXIlMjZ1dG1fY2FtcGFpZ249YWlfc3R1ZGlvLzEvMDEwMDAxOTM5YzU0MzJmMy0yNTNlZGMxNi02NmM1LTQ4MjEtOGRkZC02MTI2ODRlOWI1Y2QtMDAwMDAwL1dlSjB5Vkw4QlA3XzJudU5fZWI2VU1oNTBmcVlNZmJCV0JaZkxaSHM1aUk9MzgyIj48aW1nIHNyYz0iaHR0cHM6Ly9pbWFnZXMudGxkci50ZWNoL3dyaXRlcjUwLnBuZyIgdmFsaWduPSJtaWRkbGUiIHN0eWxlPSJ2ZXJ0aWNhbC1hbGlnbjogbWlkZGxlICFpbXBvcnRhbnQ7IGhlaWdodDogMTAwJTsiIGFsdD0iV3JpdGVyIj48L2E-PC90ZD48L3RyPjwvdGJvZHk-PC90YWJsZT4NCg0KDQo8dGFibGUgc3R5bGU9InRhYmxlLWxheW91dDogZml4ZWQ7IHdpZHRoOjEwMCU7IiB3aWR0aD0iMTAwJSI-PHRib2R5Pjx0cj48dGQgc3R5bGU9InBhZGRpbmc6MDtib3JkZXItY29sbGFwc2U6Y29sbGFwc2U7Ym9yZGVyLXNwYWNpbmc6MDttYXJnaW46MDsiPg0KPGRpdiBzdHlsZT0idGV4dC1hbGlnbjogY2VudGVyOyI-DQoNCjxoMT48c3Ryb25nPlRMRFIgQUkgPHNwYW4gaWQ9ImRhdGUiPjIwMjQtMTItMDY8L3NwYW4-PC9zdHJvbmc-PC9oMT4NCjwvZGl2Pg0KPC90ZD48L3RyPg0KPHRyIGlkPSJzcG9uc3ktY29weSI-PHRkIGNsYXNzPSJjb250YWluZXIiIHN0eWxlPSJwYWRkaW5nOiAxNXB4IDE1cHg7Ij4NCjxkaXYgY2xhc3M9InRleHQtYmxvY2siPg0KPHNwYW4-DQogICAgICAgICAgICAgICAgICAgICAgICAgICAgICAgIDxhIGhyZWY9Imh0dHBzOi8vdHJhY2tpbmcudGxkcm5ld3NsZXR0ZXIuY29tL0NMMC9odHRwczolMkYlMkZ3cml0ZXIuY29tJTJGcHJvZHVjdCUyRmFpLXN0dWRpbyUyRiUzRnV0bV9zb3VyY2U9dGxkciUyNnV0bV9tZWRpdW09bmV3c2xldHRlciUyNnV0bV9jYW1wYWlnbj1haV9zdHVkaW8vMi8wMTAwMDE5MzljNTQzMmYzLTI1M2VkYzE2LTY2YzUtNDgyMS04ZGRkLTYxMjY4NGU5YjVjZC0wMDAwMDAvLVFvYVN4Z1F0QUlkSXl2OF84OVYxNDlZR2FjMjU1cWt2UFJ4RTlEZ0U0Yz0zODIiPg0KICAgICAgICAgICAgICAgICAgICAgICAgICAgICAgICAgICAgPHNwYW4-DQogICAgICAgICAgICAgICAgICAgICAgICAgICAgICAgICAgICAgICAgPHN0cm9uZz5UaGUgZmFzdGVzdCB3YXkgdG8gYnVpbGQgQUkgYXBwcyAoU3BvbnNvcik8L3N0cm9uZz4NCiAgICAgICAgICAgICAgICAgICAgICAgICAgICAgICAgICAgIDwvc3Bhbj4NCjwvYT4NCjxicj4NCjxicj4NCjxzcGFuIHN0eWxlPSJmb250LWZhbWlseTogJnF1b3Q7SGVsdmV0aWNhIE5ldWUmcXVvdDssIEhlbHZldGljYSwgQXJpYWwsIFZlcmRhbmEsIHNhbnMtc2VyaWY7Ij4NCiAgICAgICAgICAgICAgICAgICAgICAgICAgICAgICAgICAgIFdyaXRlciBpcyBleGNpdGVkIHRvIGludHJvZHVjZSA8YSBocmVmPSJodHRwczovL3RyYWNraW5nLnRsZHJuZXdzbGV0dGVyLmNvbS9DTDAvaHR0cHM6JTJGJTJGd3JpdGVyLmNvbSUyRnByb2R1Y3QlMkZhaS1zdHVkaW8lMkYlM0Z1dG1fc291cmNlPXRsZHIlMjZ1dG1fbWVkaXVtPW5ld3NsZXR0ZXIlMjZ1dG1fY2FtcGFpZ249YWlfc3R1ZGlvLzMvMDEwMDAxOTM5YzU0MzJmMy0yNTNlZGMxNi02NmM1LTQ4MjEtOGRkZC02MTI2ODRlOWI1Y2QtMDAwMDAwLzlFV1g3MHl6NDFVUU4tU0FQTko1MXhNODlNZk5GUUt4QzREcXU5aFowZEE9MzgyIiByZWw9Im5vb3BlbmVyIG5vcmVmZXJyZXIgbm9mb2xsb3ciIHRhcmdldD0iX2JsYW5rIj48c3Bhbj5Xcml0ZXIgQUkgU3R1ZGlvPC9zcGFuPjwvYT4sIHRoZSBmYXN0ZXN0IHdheSB0byBidWlsZCBBSSBhcHBzLCBwcm9kdWN0cywgYW5kIGZlYXR1cmVzLiBXcml0ZXIncyB1bmlxdWUgZnVsbC1zdGFjayBkZXNpZ24gbWFrZXMgaXQgZWFzeSB0byA8YSBocmVmPSJodHRwczovL3RyYWNraW5nLnRsZHJuZXdzbGV0dGVyLmNvbS9DTDAvaHR0cHM6JTJGJTJGd3JpdGVyLmNvbSUyRnByb2R1Y3QlMkZhaS1zdHVkaW8lMkYlM0Z1dG1fc291cmNlPXRsZHIlMjZ1dG1fbWVkaXVtPW5ld3NsZXR0ZXIlMjZ1dG1fY2FtcGFpZ249YWlfc3R1ZGlvLzQvMDEwMDAxOTM5YzU0MzJmMy0yNTNlZGMxNi02NmM1LTQ4MjEtOGRkZC02MTI2ODRlOWI1Y2QtMDAwMDAwL1JFVEp0dVpfbEYtTl9LUjJyY3g0X25aR3F3djJSMTV3TFdMWUNGWDFWVTA9MzgyIiByZWw9Im5vb3BlbmVyIG5vcmVmZXJyZXIgbm9mb2xsb3ciIHRhcmdldD0iX2JsYW5rIj48c3Bhbj5wcm90b3R5cGUsIGRlcGxveSwgYW5kIHRlc3QgQUkgYXBwczwvc3Bhbj48L2E-IOKAkyBhbGxvd2luZyBkZXZlbG9wZXJzIHRvIGJ1aWxkIHdpdGggQVBJcywgYSBkcmFnLWFuZC1kcm9wIG9wZW4tc291cmNlIFB5dGhvbiBmcmFtZXdvcmssIG9yIGEgbm8tY29kZSBidWlsZGVyLCBzbyB5b3UgaGF2ZSBmbGV4aWJpbGl0eSB0byBidWlsZCB0aGUgd2F5IHlvdSB3YW50Lg0KDQo8cD48L3A-DQoNCjxwPldyaXRlciBjb21lcyB3aXRoIGEgc3VpdGUgb2YgdG9wLXJhbmtpbmcgTExNcyBhbmQgaGFzIGJ1aWx0LWluIFJBRyBmb3IgZWFzeSBpbnRlZ3JhdGlvbiB3aXRoIHlvdXIgZGF0YS4gQ2hlY2sgaXQgb3V0IGlmIHlvdSdyZSBsb29raW5nIHRvIHN0cmVhbWxpbmUgaG93IHlvdSBidWlsZCBhbmQgaW50ZWdyYXRlIEFJIGFwcHMuPC9wPg0KDQo8cD5TdGFydCBidWlsZGluZyB3aXRoIDxhIGhyZWY9Imh0dHBzOi8vdHJhY2tpbmcudGxkcm5ld3NsZXR0ZXIuY29tL0NMMC9odHRwczolMkYlMkZ3cml0ZXIuY29tJTJGcHJvZHVjdCUyRmFpLXN0dWRpbyUyRiUzRnV0bV9zb3VyY2U9dGxkciUyNnV0bV9tZWRpdW09bmV3c2xldHRlciUyNnV0bV9jYW1wYWlnbj1haV9zdHVkaW8vNS8wMTAwMDE5MzljNTQzMmYzLTI1M2VkYzE2LTY2YzUtNDgyMS04ZGRkLTYxMjY4NGU5YjVjZC0wMDAwMDAvenB1S0tWaDR6aW1BaEhHcHctTmZwczRja3FnOFNILXpkazNZWjQxYlBkOD0zODIiIHJlbD0ibm9vcGVuZXIgbm9yZWZlcnJlciBub2ZvbGxvdyIgdGFyZ2V0PSJfYmxhbmsiPjxzcGFuPldyaXRlciA8c3Ryb25nPkFJIFN0dWRpby48L3N0cm9uZz48L3NwYW4-PC9hPg0KDQoNCjwvcD4NCjwvc3Bhbj48L3NwYW4-PC9kaXY-DQo8L3RkPjwvdHI-PC90Ym9keT48L3RhYmxlPg0KPC90ZD48L3RyPjwvdGJvZHk-PC90YWJsZT4NCjwvdGQ-PC90cj48L3Rib2R5PjwvdGFibGU-DQo8L3RkPjwvdHI-DQo8dHIgYmdjb2xvcj0iIj48dGQgY2xhc3M9ImNvbnRhaW5lciI-DQoNCjx0YWJsZSBhbGlnbj0iY2VudGVyIiBiZ2NvbG9yPSIiIGJvcmRlcj0iMCIgY2VsbHBhZGRpbmc9IjAiIGNlbGxzcGFjaW5nPSIwIiB3aWR0aD0iMTAwJSI-PHRib2R5Pjx0cj48dGQgc3R5bGU9InBhZGRpbmc6IDBweDsiPg0KDQo8dGFibGUgYWxpZ249ImNlbnRlciIgYmdjb2xvcj0iIiBib3JkZXI9IjAiIGNlbGxwYWRkaW5nPSIwIiBjZWxsc3BhY2luZz0iMCIgd2lkdGg9IjEwMCUiPjx0Ym9keT48dHI-PHRkIGNsYXNzPSJjb250YWluZXIiIHN0eWxlPSJwYWRkaW5nLXRvcDogMHB4OyBwYWRkaW5nLWJvdHRvbTogMHB4OyI-DQo8ZGl2IGNsYXNzPSJ0ZXh0LWJsb2NrIj4NCjxkaXYgc3R5bGU9InRleHQtYWxpZ246IGNlbnRlcjsiPjxzcGFuIHN0eWxlPSJmb250LXNpemU6IDM2cHg7Ij48c3BhbiBzdHlsZT0iZm9udC1zaXplOjM2cHg7Ij7wn5qAPC9zcGFuPjwvc3Bhbj48L2Rpdj48L2Rpdj4NCjwvdGQ-PC90cj48L3Rib2R5PjwvdGFibGU-DQoNCjx0YWJsZSBhbGlnbj0iY2VudGVyIiBiZ2NvbG9yPSIiIGJvcmRlcj0iMCIgY2VsbHBhZGRpbmc9IjAiIGNlbGxzcGFjaW5nPSIwIiB3aWR0aD0iMTAwJSI-PHRib2R5Pjx0cj48dGQgY2xhc3M9ImNvbnRhaW5lciIgc3R5bGU9InBhZGRpbmctdG9wOiAwcHg7IHBhZGRpbmctYm90dG9tOiAwcHg7Ij4NCjxkaXYgY2xhc3M9InRleHQtYmxvY2siPg0KPGRpdiBzdHlsZT0idGV4dC1hbGlnbjogY2VudGVyOyI-DQoNCjxoMT48c3Ryb25nPkhlYWRsaW5lcyAmYW1wOyBMYXVuY2hlczwvc3Ryb25nPjwvaDE-DQo8L2Rpdj4NCjwvZGl2Pg0KPC90ZD48L3RyPjwvdGJvZHk-PC90YWJsZT4NCg0KPHRhYmxlIHN0eWxlPSJ0YWJsZS1sYXlvdXQ6IGZpeGVkOyB3aWR0aDogMTAwJTsiIHdpZHRoPSIxMDAlIj48dGJvZHk-PHRyPjx0ZCBzdHlsZT0icGFkZGluZzowO2JvcmRlci1jb2xsYXBzZTpjb2xsYXBzZTtib3JkZXItc3BhY2luZzowO21hcmdpbjowOyIgdmFsaWduPSJ0b3AiPg0KDQo8dGFibGUgYWxpZ249ImNlbnRlciIgYm9yZGVyPSIwIiBjZWxscGFkZGluZz0iMCIgY2VsbHNwYWNpbmc9IjAiIHdpZHRoPSIxMDAlIj48dGJvZHk-PHRyPjx0ZCBjbGFzcz0iY29udGFpbmVyIiBzdHlsZT0icGFkZGluZzogMTVweCAxNXB4OyI-DQo8ZGl2IGNsYXNzPSJ0ZXh0LWJsb2NrIj4NCjxzcGFuPg0KICAgICAgICAgICAgICAgICAgICAgICAgICAgICAgICA8YSBocmVmPSJodHRwczovL3RyYWNraW5nLnRsZHJuZXdzbGV0dGVyLmNvbS9DTDAvaHR0cHM6JTJGJTJGbGlua3MudGxkcm5ld3NsZXR0ZXIuY29tJTJGeFM0cHdvLzEvMDEwMDAxOTM5YzU0MzJmMy0yNTNlZGMxNi02NmM1LTQ4MjEtOGRkZC02MTI2ODRlOWI1Y2QtMDAwMDAwL2ZQcEItQk9sYUJNVnFZQm03SUFSTy03X3BsT3ZGLUpKTW1qWkg4STZGVnc9MzgyIj4NCiAgICAgICAgICAgICAgICAgICAgICAgICAgICAgICAgICAgIDxzcGFuPg0KICAgICAgICAgICAgICAgICAgICAgICAgICAgICAgICAgICAgICAgIDxzdHJvbmc-T3BlbkFJIG8xIFN5c3RlbSBDYXJkICgzIG1pbnV0ZSByZWFkKTwvc3Ryb25nPg0KICAgICAgICAgICAgICAgICAgICAgICAgICAgICAgICAgICAgPC9zcGFuPg0KPC9hPg0KPGJyPg0KPGJyPg0KPHNwYW4gc3R5bGU9ImZvbnQtZmFtaWx5OiAmcXVvdDtIZWx2ZXRpY2EgTmV1ZSZxdW90OywgSGVsdmV0aWNhLCBBcmlhbCwgVmVyZGFuYSwgc2Fucy1zZXJpZjsiPg0KICAgICAgICAgICAgICAgICAgICAgICAgICAgICAgICAgICAgVGhpcyByZXBvcnQgb3V0bGluZXMgdGhlIHNhZmV0eSB3b3JrIGNhcnJpZWQgb3V0IHByaW9yIHRvIHJlbGVhc2luZyBPcGVuQUkgbzEgYW5kIG8xLW1pbmksIGluY2x1ZGluZyBleHRlcm5hbCByZWQgdGVhbWluZyBhbmQgZnJvbnRpZXIgcmlzayBldmFsdWF0aW9ucyBhY2NvcmRpbmcgdG8gT3BlbkFJJ3MgUHJlcGFyZWRuZXNzIEZyYW1ld29yay4NCiAgICAgICAgICAgICAgICAgICAgICAgICAgICAgICAgPC9zcGFuPg0KPC9zcGFuPg0KPC9kaXY-DQo8L3RkPjwvdHI-PC90Ym9keT48L3RhYmxlPg0KDQo8dGFibGUgYWxpZ249ImNlbnRlciIgYm9yZGVyPSIwIiBjZWxscGFkZGluZz0iMCIgY2VsbHNwYWNpbmc9IjAiIHdpZHRoPSIxMDAlIj48dGJvZHk-PHRyPjx0ZCBjbGFzcz0iY29udGFpbmVyIiBzdHlsZT0icGFkZGluZzogMTVweCAxNXB4OyI-DQo8ZGl2IGNsYXNzPSJ0ZXh0LWJsb2NrIj4NCjxzcGFuPg0KICAgICAgICAgICAgICAgICAgICAgICAgICAgICAgICA8YSBocmVmPSJodHRwczovL3RyYWNraW5nLnRsZHJuZXdzbGV0dGVyLmNvbS9DTDAvaHR0cHM6JTJGJTJGbGlua3MudGxkcm5ld3NsZXR0ZXIuY29tJTJGVVVrcHdZLzEvMDEwMDAxOTM5YzU0MzJmMy0yNTNlZGMxNi02NmM1LTQ4MjEtOGRkZC02MTI2ODRlOWI1Y2QtMDAwMDAwLzlLcUplVUxZbUwtVXNzVVBqcnNNRGlaWGx5T2ZqVFFkNFhsMHZnY21xdFk9MzgyIj4NCiAgICAgICAgICAgICAgICAgICAgICAgICAgICAgICAgICAgIDxzcGFuPg0KICAgICAgICAgICAgICAgICAgICAgICAgICAgICAgICAgICAgICAgIDxzdHJvbmc-UGVycGxleGl0eSBFeHBhbmRpbmcgSXQncyBQdWJsaXNoZXIncyBQcm9ncmFtICg0IG1pbnV0ZSByZWFkKTwvc3Ryb25nPg0KICAgICAgICAgICAgICAgICAgICAgICAgICAgICAgICAgICAgPC9zcGFuPg0KPC9hPg0KPGJyPg0KPGJyPg0KPHNwYW4gc3R5bGU9ImZvbnQtZmFtaWx5OiAmcXVvdDtIZWx2ZXRpY2EgTmV1ZSZxdW90OywgSGVsdmV0aWNhLCBBcmlhbCwgVmVyZGFuYSwgc2Fucy1zZXJpZjsiPg0KICAgICAgICAgICAgICAgICAgICAgICAgICAgICAgICAgICAgUGVycGxleGl0eSBoYXMgYWRkZWQgb3ZlciBhIGRvemVuIGludGVybmF0aW9uYWwgbmV3cyBvcmdhbml6YXRpb25zIHRvIGl0cyBQdWJsaXNoZXJzJyBQcm9ncmFtLCBvZmZlcmluZyB0b29scywgcmV2ZW51ZSBzaGFyaW5nLCBhbmQgc3VwcG9ydCB0byBzdHJlbmd0aGVuIGNvbGxhYm9yYXRpb24gd2l0aCBnbG9iYWwgbWVkaWEuDQogICAgICAgICAgICAgICAgICAgICAgICAgICAgICAgIDwvc3Bhbj4NCjwvc3Bhbj4NCjwvZGl2Pg0KPC90ZD48L3RyPjwvdGJvZHk-PC90YWJsZT4NCg0KPHRhYmxlIGFsaWduPSJjZW50ZXIiIGJvcmRlcj0iMCIgY2VsbHBhZGRpbmc9IjAiIGNlbGxzcGFjaW5nPSIwIiB3aWR0aD0iMTAwJSI-PHRib2R5Pjx0cj48dGQgY2xhc3M9ImNvbnRhaW5lciIgc3R5bGU9InBhZGRpbmc6IDE1cHggMTVweDsiPg0KPGRpdiBjbGFzcz0idGV4dC1ibG9jayI-DQo8c3Bhbj4NCiAgICAgICAgICAgICAgICAgICAgICAgICAgICAgICAgPGEgaHJlZj0iaHR0cHM6Ly90cmFja2luZy50bGRybmV3c2xldHRlci5jb20vQ0wwL2h0dHBzOiUyRiUyRnRlY2hjcnVuY2guY29tJTJGMjAyNCUyRjEyJTJGMDQlMkZkZWVwbWluZHMtZ2VuaWUtMi1jYW4tZ2VuZXJhdGUtaW50ZXJhY3RpdmUtd29ybGRzLXRoYXQtbG9vay1saWtlLXZpZGVvLWdhbWVzJTJGJTNGdXRtX3NvdXJjZT10bGRyYWkvMS8wMTAwMDE5MzljNTQzMmYzLTI1M2VkYzE2LTY2YzUtNDgyMS04ZGRkLTYxMjY4NGU5YjVjZC0wMDAwMDAvbDNJOFcxbkg5X2JEQ1JYU2FBd0gxOGo2LTNFUWkwNUg3TjB0OU1ZVEIxRT0zODIiPg0KICAgICAgICAgICAgICAgICAgICAgICAgICAgICAgICAgICAgPHNwYW4-DQogICAgICAgICAgICAgICAgICAgICAgICAgICAgICAgICAgICAgICAgPHN0cm9uZz5EZWVwTWluZCdzIEdlbmllIDIgY2FuIGdlbmVyYXRlIGludGVyYWN0aXZlIHdvcmxkcyB0aGF0IGxvb2sgbGlrZSB2aWRlbyBnYW1lcyAoNCBtaW51dGUgcmVhZCk8L3N0cm9uZz4NCiAgICAgICAgICAgICAgICAgICAgICAgICAgICAgICAgICAgIDwvc3Bhbj4NCjwvYT4NCjxicj4NCjxicj4NCjxzcGFuIHN0eWxlPSJmb250LWZhbWlseTogJnF1b3Q7SGVsdmV0aWNhIE5ldWUmcXVvdDssIEhlbHZldGljYSwgQXJpYWwsIFZlcmRhbmEsIHNhbnMtc2VyaWY7Ij4NCiAgICAgICAgICAgICAgICAgICAgICAgICAgICAgICAgICAgIERlZXBNaW5kJ3MgR2VuaWUgMiBpcyBhbiBhZHZhbmNlZCBBSSBtb2RlbCB0aGF0IGdlbmVyYXRlcyBkaXZlcnNlLCBpbnRlcmFjdGl2ZSAzRCB3b3JsZHMgZnJvbSBpbWFnZXMgYW5kIHRleHQgZGVzY3JpcHRpb25zLiBUaGUgbW9kZWwgaXMgcGFydGljdWxhcmx5IGFkZXB0IGF0IHNpbXVsYXRpbmcgY29tcGxleCBlbGVtZW50cyBsaWtlIHBoeXNpY3MgYW5kIE5QQyBiZWhhdmlvciwgc2V0dGluZyBpdCBhcGFydCBmcm9tIHNpbWlsYXIgbW9kZWxzIGJ5IG1haW50YWluaW5nIHNjZW5lIGNvbnNpc3RlbmN5LiBQb3NpdGlvbmVkIGFzIGEgcmVzZWFyY2ggdG9vbCwgR2VuaWUgMiBpcyBkZXNpZ25lZCBmb3IgcHJvdG90eXBpbmcgaW50ZXJhY3RpdmUgZXhwZXJpZW5jZXMgYW5kIGV2YWx1YXRpbmcgQUkgYWdlbnRzLg0KICAgICAgICAgICAgICAgICAgICAgICAgICAgICAgICA8L3NwYW4-DQo8L3NwYW4-DQo8L2Rpdj4NCjwvdGQ-PC90cj48L3Rib2R5PjwvdGFibGU-DQoNCjwvdGQ-PC90cj48L3Rib2R5PjwvdGFibGU-DQoNCg0KPHRhYmxlIGFsaWduPSJjZW50ZXIiIGJnY29sb3I9IiIgYm9yZGVyPSIwIiBjZWxscGFkZGluZz0iMCIgY2VsbHNwYWNpbmc9IjAiIHdpZHRoPSIxMDAlIj48dGJvZHk-PHRyPjx0ZCBjbGFzcz0iY29udGFpbmVyIiBzdHlsZT0icGFkZGluZy10b3A6IDBweDsgcGFkZGluZy1ib3R0b206IDBweDsiPg0KPGRpdiBjbGFzcz0idGV4dC1ibG9jayI-DQo8ZGl2IHN0eWxlPSJ0ZXh0LWFsaWduOiBjZW50ZXI7Ij48c3BhbiBzdHlsZT0iZm9udC1zaXplOiAzNnB4OyI-8J-noDwvc3Bhbj48L2Rpdj4NCjwvZGl2Pg0KPC90ZD48L3RyPjwvdGJvZHk-PC90YWJsZT4NCg0KPHRhYmxlIGFsaWduPSJjZW50ZXIiIGJnY29sb3I9IiIgYm9yZGVyPSIwIiBjZWxscGFkZGluZz0iMCIgY2VsbHNwYWNpbmc9IjAiIHdpZHRoPSIxMDAlIj48dGJvZHk-PHRyPjx0ZCBjbGFzcz0iY29udGFpbmVyIiBzdHlsZT0icGFkZGluZy10b3A6IDBweDsgcGFkZGluZy1ib3R0b206IDBweDsiPg0KPGRpdiBjbGFzcz0idGV4dC1ibG9jayI-DQo8ZGl2IHN0eWxlPSJ0ZXh0LWFsaWduOiBjZW50ZXI7Ij4NCg0KPGgxPjxzdHJvbmc-UmVzZWFyY2ggJmFtcDsgSW5ub3ZhdGlvbjwvc3Ryb25nPjwvaDE-DQo8L2Rpdj4NCjwvZGl2Pg0KPC90ZD48L3RyPjwvdGJvZHk-PC90YWJsZT4NCg0KDQo8dGFibGUgc3R5bGU9InRhYmxlLWxheW91dDogZml4ZWQ7IHdpZHRoOiAxMDAlOyIgd2lkdGg9IjEwMCUiPjx0Ym9keT48dHI-PHRkIHN0eWxlPSJwYWRkaW5nOjA7Ym9yZGVyLWNvbGxhcHNlOmNvbGxhcHNlO2JvcmRlci1zcGFjaW5nOjA7bWFyZ2luOjA7IiB2YWxpZ249InRvcCI-DQoNCjx0YWJsZSBhbGlnbj0iY2VudGVyIiBib3JkZXI9IjAiIGNlbGxwYWRkaW5nPSIwIiBjZWxsc3BhY2luZz0iMCIgd2lkdGg9IjEwMCUiPjx0Ym9keT48dHI-PHRkIGNsYXNzPSJjb250YWluZXIiIHN0eWxlPSJwYWRkaW5nOiAxNXB4IDE1cHg7Ij4NCjxkaXYgY2xhc3M9InRleHQtYmxvY2siPg0KPHNwYW4-DQogICAgICAgICAgICAgICAgICAgICAgICAgICAgICAgIDxhIGhyZWY9Imh0dHBzOi8vdHJhY2tpbmcudGxkcm5ld3NsZXR0ZXIuY29tL0NMMC9odHRwczolMkYlMkZhcnhpdi5vcmclMkZhYnMlMkYyNDEyLjAzNTU1JTNGdXRtX3NvdXJjZT10bGRyYWkvMS8wMTAwMDE5MzljNTQzMmYzLTI1M2VkYzE2LTY2YzUtNDgyMS04ZGRkLTYxMjY4NGU5YjVjZC0wMDAwMDAvd3N6NkswblBEVDlWNHhHSTNITmtzS1l2VDlZZHRfbDdYdTBDbllncThqTT0zODIiPg0KICAgICAgICAgICAgICAgICAgICAgICAgICAgICAgICAgICAgPHNwYW4-DQogICAgICAgICAgICAgICAgICAgICAgICAgICAgICAgICAgICAgICAgPHN0cm9uZz5QYWxpZ2VtbWEgMiAoMjMgbWludXRlIHJlYWQpPC9zdHJvbmc-DQogICAgICAgICAgICAgICAgICAgICAgICAgICAgICAgICAgICA8L3NwYW4-DQo8L2E-DQo8YnI-DQo8YnI-DQo8c3BhbiBzdHlsZT0iZm9udC1mYW1pbHk6ICZxdW90O0hlbHZldGljYSBOZXVlJnF1b3Q7LCBIZWx2ZXRpY2EsIEFyaWFsLCBWZXJkYW5hLCBzYW5zLXNlcmlmOyI-DQogICAgICAgICAgICAgICAgICAgICAgICAgICAgICAgICAgICBQYWxpZ2VtbWEgMiBpcyBvbmUgb2YgdGhlIGJlc3QgVkxNcyBvbiB0aGUgbWFya2V0IHRvZGF5LiBJdCB1c2VzIFNpZ0xJUCBhbmQgR2VtbWEuDQogICAgICAgICAgICAgICAgICAgICAgICAgICAgICAgIDwvc3Bhbj4NCjwvc3Bhbj4NCjwvZGl2Pg0KPC90ZD48L3RyPjwvdGJvZHk-PC90YWJsZT4NCg0KPHRhYmxlIGFsaWduPSJjZW50ZXIiIGJvcmRlcj0iMCIgY2VsbHBhZGRpbmc9IjAiIGNlbGxzcGFjaW5nPSIwIiB3aWR0aD0iMTAwJSI-PHRib2R5Pjx0cj48dGQgY2xhc3M9ImNvbnRhaW5lciIgc3R5bGU9InBhZGRpbmc6IDE1cHggMTVweDsiPg0KPGRpdiBjbGFzcz0idGV4dC1ibG9jayI-DQo8c3Bhbj4NCiAgICAgICAgICAgICAgICAgICAgICAgICAgICAgICAgPGEgaHJlZj0iaHR0cHM6Ly90cmFja2luZy50bGRybmV3c2xldHRlci5jb20vQ0wwL2h0dHBzOiUyRiUyRmFyeGl2Lm9yZyUyRmFicyUyRjI0MTIuMDIwNDR2MSUzRnV0bV9zb3VyY2U9dGxkcmFpLzEvMDEwMDAxOTM5YzU0MzJmMy0yNTNlZGMxNi02NmM1LTQ4MjEtOGRkZC02MTI2ODRlOWI1Y2QtMDAwMDAwLzBITndlSFBLSF9BNlh3YV9HVUNnSWRPVXJFREs1SnVqNW5BWmZ3a2J2U2M9MzgyIj4NCiAgICAgICAgICAgICAgICAgICAgICAgICAgICAgICAgICAgIDxzcGFuPg0KICAgICAgICAgICAgICAgICAgICAgICAgICAgICAgICAgICAgICAgIDxzdHJvbmc-TGFuZCBDb3ZlciBNYXBwaW5nIHdpdGggQVNBTmV0ICgyOSBtaW51dGUgcmVhZCk8L3N0cm9uZz4NCiAgICAgICAgICAgICAgICAgICAgICAgICAgICAgICAgICAgIDwvc3Bhbj4NCjwvYT4NCjxicj4NCjxicj4NCjxzcGFuIHN0eWxlPSJmb250LWZhbWlseTogJnF1b3Q7SGVsdmV0aWNhIE5ldWUmcXVvdDssIEhlbHZldGljYSwgQXJpYWwsIFZlcmRhbmEsIHNhbnMtc2VyaWY7Ij4NCiAgICAgICAgICAgICAgICAgICAgICAgICAgICAgICAgICAgIFRoZSBBc3ltbWV0cmljIFNlbWFudGljIEFsaWduaW5nIE5ldHdvcmsgKEFTQU5ldCkgaW1wcm92ZXMgbGFuZCBjb3ZlciBjbGFzc2lmaWNhdGlvbiB1c2luZyBib3RoIFNBUiBhbmQgUkdCIGltYWdlcy4NCiAgICAgICAgICAgICAgICAgICAgICAgICAgICAgICAgPC9zcGFuPg0KPC9zcGFuPg0KPC9kaXY-DQo8L3RkPjwvdHI-PC90Ym9keT48L3RhYmxlPg0KDQo8dGFibGUgYWxpZ249ImNlbnRlciIgYm9yZGVyPSIwIiBjZWxscGFkZGluZz0iMCIgY2VsbHNwYWNpbmc9IjAiIHdpZHRoPSIxMDAlIj48dGJvZHk-PHRyPjx0ZCBjbGFzcz0iY29udGFpbmVyIiBzdHlsZT0icGFkZGluZzogMTVweCAxNXB4OyI-DQo8ZGl2IGNsYXNzPSJ0ZXh0LWJsb2NrIj4NCjxzcGFuPg0KICAgICAgICAgICAgICAgICAgICAgICAgICAgICAgICA8YSBocmVmPSJodHRwczovL3RyYWNraW5nLnRsZHJuZXdzbGV0dGVyLmNvbS9DTDAvaHR0cHM6JTJGJTJGYXJ4aXYub3JnJTJGYWJzJTJGMjQxMi4wMzI0OHYxJTNGdXRtX3NvdXJjZT10bGRyYWkvMS8wMTAwMDE5MzljNTQzMmYzLTI1M2VkYzE2LTY2YzUtNDgyMS04ZGRkLTYxMjY4NGU5YjVjZC0wMDAwMDAvM0RwRC1hb3pvT2M4SzN2WXB3M2VRLU5takthSTVLcmFiVHUyMzdPSTlROD0zODIiPg0KICAgICAgICAgICAgICAgICAgICAgICAgICAgICAgICAgICAgPHNwYW4-DQogICAgICAgICAgICAgICAgICAgICAgICAgICAgICAgICAgICAgICAgPHN0cm9uZz5GYXN0ZXIgTXVsdGktTW9kYWwgTW9kZWxzIHdpdGggVG9rZW4gTWVyZ2luZyAoMTQgbWludXRlIHJlYWQpPC9zdHJvbmc-DQogICAgICAgICAgICAgICAgICAgICAgICAgICAgICAgICAgICA8L3NwYW4-DQo8L2E-DQo8YnI-DQo8YnI-DQo8c3BhbiBzdHlsZT0iZm9udC1mYW1pbHk6ICZxdW90O0hlbHZldGljYSBOZXVlJnF1b3Q7LCBIZWx2ZXRpY2EsIEFyaWFsLCBWZXJkYW5hLCBzYW5zLXNlcmlmOyI-DQogICAgICAgICAgICAgICAgICAgICAgICAgICAgICAgICAgICBSZXNlYXJjaGVycyBoYXZlIGRldmVsb3BlZCBhIHRyYWluaW5nLWZyZWUgbWV0aG9kIHRvIG1ha2UgbXVsdGktbW9kYWwgbGFuZ3VhZ2UgbW9kZWxzIChMTE1zKSBtb3JlIGVmZmljaWVudCB3aXRob3V0IHNhY3JpZmljaW5nIG11Y2ggcGVyZm9ybWFuY2UuIFRoZWlyIGFwcHJvYWNoIHJlZHVjZXMgY29tcHV0YXRpb25hbCBkZW1hbmRzIGJ5IHVwIHRvIDcgdGltZXMgYnkgc21hcnRseSBtZXJnaW5nIGFuZCBwcnVuaW5nIHZpc3VhbCBkYXRhIHRva2Vucy4NCiAgICAgICAgICAgICAgICAgICAgICAgICAgICAgICAgPC9zcGFuPg0KPC9zcGFuPg0KPC9kaXY-DQo8L3RkPjwvdHI-PC90Ym9keT48L3RhYmxlPg0KDQo8L3RkPjwvdHI-PC90Ym9keT48L3RhYmxlPg0KDQo8dGFibGUgYWxpZ249ImNlbnRlciIgYmdjb2xvcj0iIiBib3JkZXI9IjAiIGNlbGxwYWRkaW5nPSIwIiBjZWxsc3BhY2luZz0iMCIgd2lkdGg9IjEwMCUiPjx0Ym9keT48dHI-PHRkIGNsYXNzPSJjb250YWluZXIiIHN0eWxlPSJwYWRkaW5nLXRvcDogMHB4OyBwYWRkaW5nLWJvdHRvbTogMHB4OyI-DQo8ZGl2IGNsYXNzPSJ0ZXh0LWJsb2NrIj4NCjxkaXYgc3R5bGU9InRleHQtYWxpZ246IGNlbnRlcjsiPjxzcGFuIHN0eWxlPSJmb250LXNpemU6IDM2cHg7Ij7wn6eR4oCN8J-Suzwvc3Bhbj48L2Rpdj4NCjwvZGl2Pg0KPC90ZD48L3RyPjwvdGJvZHk-PC90YWJsZT4NCg0KPHRhYmxlIGFsaWduPSJjZW50ZXIiIGJnY29sb3I9IiIgYm9yZGVyPSIwIiBjZWxscGFkZGluZz0iMCIgY2VsbHNwYWNpbmc9IjAiIHdpZHRoPSIxMDAlIj48dGJvZHk-PHRyPjx0ZCBjbGFzcz0iY29udGFpbmVyIiBzdHlsZT0icGFkZGluZy10b3A6IDBweDsgcGFkZGluZy1ib3R0b206IDBweDsiPg0KPGRpdiBjbGFzcz0idGV4dC1ibG9jayI-DQo8ZGl2IHN0eWxlPSJ0ZXh0LWFsaWduOiBjZW50ZXI7Ij4NCg0KPGgxPjxzdHJvbmc-RW5naW5lZXJpbmcgJmFtcDsgUmVzb3VyY2VzPC9zdHJvbmc-PC9oMT4NCjwvZGl2Pg0KPC9kaXY-DQo8L3RkPjwvdHI-PC90Ym9keT48L3RhYmxlPg0KDQo8dGFibGUgc3R5bGU9InRhYmxlLWxheW91dDogZml4ZWQ7IHdpZHRoOiAxMDAlOyIgd2lkdGg9IjEwMCUiPjx0Ym9keT48dHI-PHRkIHN0eWxlPSJwYWRkaW5nOjA7Ym9yZGVyLWNvbGxhcHNlOmNvbGxhcHNlO2JvcmRlci1zcGFjaW5nOjA7bWFyZ2luOjA7IiB2YWxpZ249InRvcCI-DQoNCjx0YWJsZSBhbGlnbj0iY2VudGVyIiBib3JkZXI9IjAiIGNlbGxwYWRkaW5nPSIwIiBjZWxsc3BhY2luZz0iMCIgd2lkdGg9IjEwMCUiPjx0Ym9keT48dHI-PHRkIGNsYXNzPSJjb250YWluZXIiIHN0eWxlPSJwYWRkaW5nOiAxNXB4IDE1cHg7Ij4NCjxkaXYgY2xhc3M9InRleHQtYmxvY2siPg0KPHNwYW4-DQogICAgICAgICAgICAgICAgICAgICAgICAgICAgICAgIDxhIGhyZWY9Imh0dHBzOi8vdHJhY2tpbmcudGxkcm5ld3NsZXR0ZXIuY29tL0NMMC9odHRwczolMkYlMkZwYWdlLmNhbXVuZGEuY29tJTJGd3AtcmV0aGlua2luZy1jaGFuZ2UtbWFuYWdlbWVudCUzRnV0bV9tZWRpdW09cGFpZF9sZWFkZ2VuJTI2dXRtX3NvdXJjZT10bGRyJTI2dXRtX2NhbXBhaWduPUd1aWRlLlJldGhpbmtpbmdDaGFuZ2VNYW5hZ2VtZW50LjI0UTQuRU4lMjZ1dG1fY29udGVudD1RNHByb2dyYW0vMS8wMTAwMDE5MzljNTQzMmYzLTI1M2VkYzE2LTY2YzUtNDgyMS04ZGRkLTYxMjY4NGU5YjVjZC0wMDAwMDAvaERIajhWY1c0alBjbTVEcnlDUk5DNFJINWVpbWxtdEJZam9wSE5sbGU0az0zODIiPg0KICAgICAgICAgICAgICAgICAgICAgICAgICAgICAgICAgICAgPHNwYW4-DQogICAgICAgICAgICAgICAgICAgICAgICAgICAgICAgICAgICAgICAgPHN0cm9uZz5SZXRoaW5raW5nIENoYW5nZSBNYW5hZ2VtZW50IGluIHRoZSBBZ2Ugb2YgQUkgKFNwb25zb3IpPC9zdHJvbmc-DQogICAgICAgICAgICAgICAgICAgICAgICAgICAgICAgICAgICA8L3NwYW4-DQo8L2E-DQo8YnI-DQo8YnI-DQo8c3BhbiBzdHlsZT0iZm9udC1mYW1pbHk6ICZxdW90O0hlbHZldGljYSBOZXVlJnF1b3Q7LCBIZWx2ZXRpY2EsIEFyaWFsLCBWZXJkYW5hLCBzYW5zLXNlcmlmOyI-DQogICAgICAgICAgICAgICAgICAgICAgICAgICAgICAgICAgICBXaXRoIHRoZSByaXNlIG9mIEFJIGFuZCBldm9sdmluZyBjdXN0b21lciBleHBlY3RhdGlvbnMsIGJ1c2luZXNzZXMgaGF2ZSB0byBtb3ZlIGJleW9uZCB0ZW1wb3JhcnkgZml4ZXMgYW5kIGFkb3B0IGEgY3VsdHVyZSBvZiBjb250aW51b3VzIHRyYW5zZm9ybWF0aW9uLiA8YSBocmVmPSJodHRwczovL3RyYWNraW5nLnRsZHJuZXdzbGV0dGVyLmNvbS9DTDAvaHR0cHM6JTJGJTJGcGFnZS5jYW11bmRhLmNvbSUyRndwLXJldGhpbmtpbmctY2hhbmdlLW1hbmFnZW1lbnQlM0Z1dG1fbWVkaXVtPXBhaWRfbGVhZGdlbiUyNnV0bV9zb3VyY2U9dGxkciUyNnV0bV9jYW1wYWlnbj1HdWlkZS5SZXRoaW5raW5nQ2hhbmdlTWFuYWdlbWVudC4yNFE0LkVOJTI2dXRtX2NvbnRlbnQ9UTRwcm9ncmFtLzIvMDEwMDAxOTM5YzU0MzJmMy0yNTNlZGMxNi02NmM1LTQ4MjEtOGRkZC02MTI2ODRlOWI1Y2QtMDAwMDAwL0hDVFQtcEdiNmdtLXRXSm1XOXk1MFZzcHhrcWUyWXFjN0R4VUg0T01sZkU9MzgyIiByZWw9Im5vb3BlbmVyIG5vcmVmZXJyZXIgbm9mb2xsb3ciIHRhcmdldD0iX2JsYW5rIj48c3Bhbj5HZXQgdGhlIGd1aWRlIGJ5IENhbXVuZGE8L3NwYW4-PC9hPiB0byBmaW5kIG91dCBob3cgdG8gYWxpZ24gc3Rha2Vob2xkZXJzLCBsZXZlcmFnZSB0ZWNobm9sb2d5IGFuZCBkYXRhLCBhbmQgZW1iZWQgYSBtaW5kc2V0IG9mIGNvbnRpbnVvdXMgY2hhbmdlLiA8YSBocmVmPSJodHRwczovL3RyYWNraW5nLnRsZHJuZXdzbGV0dGVyLmNvbS9DTDAvaHR0cHM6JTJGJTJGcGFnZS5jYW11bmRhLmNvbSUyRndwLXJldGhpbmtpbmctY2hhbmdlLW1hbmFnZW1lbnQlM0Z1dG1fbWVkaXVtPXBhaWRfbGVhZGdlbiUyNnV0bV9zb3VyY2U9dGxkciUyNnV0bV9jYW1wYWlnbj1HdWlkZS5SZXRoaW5raW5nQ2hhbmdlTWFuYWdlbWVudC4yNFE0LkVOJTI2dXRtX2NvbnRlbnQ9UTRwcm9ncmFtLzMvMDEwMDAxOTM5YzU0MzJmMy0yNTNlZGMxNi02NmM1LTQ4MjEtOGRkZC02MTI2ODRlOWI1Y2QtMDAwMDAwL0RQVkhvcFdmTEJ1T3cwVDFncFo3Q1lrM3R0UEpDVjhHdWlJT3JGYlY2TDA9MzgyIiByZWw9Im5vb3BlbmVyIG5vcmVmZXJyZXIgbm9mb2xsb3ciIHRhcmdldD0iX2JsYW5rIj48c3Bhbj5SZWFkIHRoZSBndWlkZTwvc3Bhbj48L2E-DQo8L3NwYW4-DQo8L3NwYW4-DQo8L2Rpdj4NCjwvdGQ-PC90cj48L3Rib2R5PjwvdGFibGU-DQoNCjx0YWJsZSBhbGlnbj0iY2VudGVyIiBib3JkZXI9IjAiIGNlbGxwYWRkaW5nPSIwIiBjZWxsc3BhY2luZz0iMCIgd2lkdGg9IjEwMCUiPjx0Ym9keT48dHI-PHRkIGNsYXNzPSJjb250YWluZXIiIHN0eWxlPSJwYWRkaW5nOiAxNXB4IDE1cHg7Ij4NCjxkaXYgY2xhc3M9InRleHQtYmxvY2siPg0KPHNwYW4-DQogICAgICAgICAgICAgICAgICAgICAgICAgICAgICAgIDxhIGhyZWY9Imh0dHBzOi8vdHJhY2tpbmcudGxkcm5ld3NsZXR0ZXIuY29tL0NMMC9odHRwczolMkYlMkZnaXRodWIuY29tJTJGZ29vZ2xlLWRlZXBtaW5kJTJGZ3JhcGhjYXN0JTNGdXRtX3NvdXJjZT10bGRyYWkvMS8wMTAwMDE5MzljNTQzMmYzLTI1M2VkYzE2LTY2YzUtNDgyMS04ZGRkLTYxMjY4NGU5YjVjZC0wMDAwMDAvX3VSNlhVcy1ITmZhaHkwdVpQTTZRV2JPWWRMNXRzLWJuMURfNm9ucU5YOD0zODIiPg0KICAgICAgICAgICAgICAgICAgICAgICAgICAgICAgICAgICAgPHNwYW4-DQogICAgICAgICAgICAgICAgICAgICAgICAgICAgICAgICAgICAgICAgPHN0cm9uZz5HcmFwaENhc3QgKEdpdEh1YiBSZXBvKTwvc3Ryb25nPg0KICAgICAgICAgICAgICAgICAgICAgICAgICAgICAgICAgICAgPC9zcGFuPg0KPC9hPg0KPGJyPg0KPGJyPg0KPHNwYW4gc3R5bGU9ImZvbnQtZmFtaWx5OiAmcXVvdDtIZWx2ZXRpY2EgTmV1ZSZxdW90OywgSGVsdmV0aWNhLCBBcmlhbCwgVmVyZGFuYSwgc2Fucy1zZXJpZjsiPg0KICAgICAgICAgICAgICAgICAgICAgICAgICAgICAgICAgICAgRGVlcE1pbmQgaGFzIG9wZW4gc291cmNlZCBpdHMgR3JhcGhDYXN0IGFsZ29yaXRobSwgd2hpY2ggaXMgc3Vic3RhbnRpYWxseSBiZXR0ZXIgYW5kIGZhc3RlciBhdCBsb2NhbGl6ZWQgd2VhdGhlciBwcmVkaWN0aW9uIGF0IDM2IGhvdXJzLiBJdCBhbHNvIHJ1bnMgaW4gYSBmcmFjdGlvbiBvZiB0aGUgdGltZS4NCiAgICAgICAgICAgICAgICAgICAgICAgICAgICAgICAgPC9zcGFuPg0KPC9zcGFuPg0KPC9kaXY-DQo8L3RkPjwvdHI-PC90Ym9keT48L3RhYmxlPg0KDQo8dGFibGUgYWxpZ249ImNlbnRlciIgYm9yZGVyPSIwIiBjZWxscGFkZGluZz0iMCIgY2VsbHNwYWNpbmc9IjAiIHdpZHRoPSIxMDAlIj48dGJvZHk-PHRyPjx0ZCBjbGFzcz0iY29udGFpbmVyIiBzdHlsZT0icGFkZGluZzogMTVweCAxNXB4OyI-DQo8ZGl2IGNsYXNzPSJ0ZXh0LWJsb2NrIj4NCjxzcGFuPg0KICAgICAgICAgICAgICAgICAgICAgICAgICAgICAgICA8YSBocmVmPSJodHRwczovL3RyYWNraW5nLnRsZHJuZXdzbGV0dGVyLmNvbS9DTDAvaHR0cHM6JTJGJTJGZ2l0aHViLmNvbSUyRnBpeHRlbGxhJTJGYW5hZ3JhbS1tdGwlM0Z1dG1fc291cmNlPXRsZHJhaS8xLzAxMDAwMTkzOWM1NDMyZjMtMjUzZWRjMTYtNjZjNS00ODIxLThkZGQtNjEyNjg0ZTliNWNkLTAwMDAwMC9KTUJJTGpCY3BpbTQ1cUFwNDgzZkNMSWhvLXhHYzNRaXVETlZrcW54dnFrPTM4MiI-DQogICAgICAgICAgICAgICAgICAgICAgICAgICAgICAgICAgICA8c3Bhbj4NCiAgICAgICAgICAgICAgICAgICAgICAgICAgICAgICAgICAgICAgICA8c3Ryb25nPkNyZWF0aW5nIE9wdGljYWwgSWxsdXNpb25zIChHaXRIdWIgUmVwbyk8L3N0cm9uZz4NCiAgICAgICAgICAgICAgICAgICAgICAgICAgICAgICAgICAgIDwvc3Bhbj4NCjwvYT4NCjxicj4NCjxicj4NCjxzcGFuIHN0eWxlPSJmb250LWZhbWlseTogJnF1b3Q7SGVsdmV0aWNhIE5ldWUmcXVvdDssIEhlbHZldGljYSwgQXJpYWwsIFZlcmRhbmEsIHNhbnMtc2VyaWY7Ij4NCiAgICAgICAgICAgICAgICAgICAgICAgICAgICAgICAgICAgIFRoaXMgcHJvamVjdCBhZHZhbmNlcyB2aXN1YWwgYW5hZ3JhbSBnZW5lcmF0aW9uIC0gaW1hZ2VzIHRoYXQgY2hhbmdlIGFwcGVhcmFuY2Ugd2hlbiBmbGlwcGVkIG9yIHJvdGF0ZWQgLSBieSByZWZpbmluZyBob3cgZGlmZnVzaW9uIG1vZGVscyBoYW5kbGUgbXVsdGlwbGUgdmlld3BvaW50cy4NCiAgICAgICAgICAgICAgICAgICAgICAgICAgICAgICAgPC9zcGFuPg0KPC9zcGFuPg0KPC9kaXY-DQo8L3RkPjwvdHI-PC90Ym9keT48L3RhYmxlPg0KDQo8dGFibGUgYWxpZ249ImNlbnRlciIgYm9yZGVyPSIwIiBjZWxscGFkZGluZz0iMCIgY2VsbHNwYWNpbmc9IjAiIHdpZHRoPSIxMDAlIj48dGJvZHk-PHRyPjx0ZCBjbGFzcz0iY29udGFpbmVyIiBzdHlsZT0icGFkZGluZzogMTVweCAxNXB4OyI-DQo8ZGl2IGNsYXNzPSJ0ZXh0LWJsb2NrIj4NCjxzcGFuPg0KICAgICAgICAgICAgICAgICAgICAgICAgICAgICAgICA8YSBocmVmPSJodHRwczovL3RyYWNraW5nLnRsZHJuZXdzbGV0dGVyLmNvbS9DTDAvaHR0cHM6JTJGJTJGZ2l0aHViLmNvbSUyRmhhcHB5dzFuZCUyRnNjb3JlbGlkYXIlM0Z1dG1fc291cmNlPXRsZHJhaS8xLzAxMDAwMTkzOWM1NDMyZjMtMjUzZWRjMTYtNjZjNS00ODIxLThkZGQtNjEyNjg0ZTliNWNkLTAwMDAwMC9NNUtZQmdsSzhEcndyU1llSnVfbnM3ckk0TXdINUktdEtCWUQtT1JtME1NPTM4MiI-DQogICAgICAgICAgICAgICAgICAgICAgICAgICAgICAgICAgICA8c3Bhbj4NCiAgICAgICAgICAgICAgICAgICAgICAgICAgICAgICAgICAgICAgICA8c3Ryb25nPjNEIFNjZW5lIENvbXBsZXRpb24gZm9yIEF1dG9ub21vdXMgVmVoaWNsZXMgKEdpdEh1YiBSZXBvKTwvc3Ryb25nPg0KICAgICAgICAgICAgICAgICAgICAgICAgICAgICAgICAgICAgPC9zcGFuPg0KPC9hPg0KPGJyPg0KPGJyPg0KPHNwYW4gc3R5bGU9ImZvbnQtZmFtaWx5OiAmcXVvdDtIZWx2ZXRpY2EgTmV1ZSZxdW90OywgSGVsdmV0aWNhLCBBcmlhbCwgVmVyZGFuYSwgc2Fucy1zZXJpZjsiPg0KICAgICAgICAgICAgICAgICAgICAgICAgICAgICAgICAgICAgU2NvcmVMaURBUiBpcyBhIG5ldyBtZXRob2QgdGhhdCBzcGVlZHMgdXAgM0QgTGlEQVIgc2NlbmUgY29tcGxldGlvbiBmb3IgYXV0b25vbW91cyB2ZWhpY2xlcy4NCiAgICAgICAgICAgICAgICAgICAgICAgICAgICAgICAgPC9zcGFuPg0KPC9zcGFuPg0KPC9kaXY-DQo8L3RkPjwvdHI-PC90Ym9keT48L3RhYmxlPg0KDQo8L3RkPjwvdHI-PC90Ym9keT48L3RhYmxlPg0KDQo8dGFibGUgYWxpZ249ImNlbnRlciIgYmdjb2xvcj0iIiBib3JkZXI9IjAiIGNlbGxwYWRkaW5nPSIwIiBjZWxsc3BhY2luZz0iMCIgd2lkdGg9IjEwMCUiPjx0Ym9keT48dHI-PHRkIGNsYXNzPSJjb250YWluZXIiIHN0eWxlPSJwYWRkaW5nLXRvcDogMHB4OyBwYWRkaW5nLWJvdHRvbTogMHB4OyI-DQo8ZGl2IGNsYXNzPSJ0ZXh0LWJsb2NrIj4NCjxkaXYgc3R5bGU9InRleHQtYWxpZ246IGNlbnRlcjsiPjxzcGFuIHN0eWxlPSJmb250LXNpemU6IDM2cHg7Ij7wn46BPC9zcGFuPjwvZGl2PjwvZGl2Pg0KPC90ZD48L3RyPjwvdGJvZHk-PC90YWJsZT4NCg0KPHRhYmxlIGFsaWduPSJjZW50ZXIiIGJnY29sb3I9IiIgYm9yZGVyPSIwIiBjZWxscGFkZGluZz0iMCIgY2VsbHNwYWNpbmc9IjAiIHdpZHRoPSIxMDAlIj48dGJvZHk-PHRyPjx0ZCBjbGFzcz0iY29udGFpbmVyIiBzdHlsZT0icGFkZGluZy10b3A6IDBweDsgcGFkZGluZy1ib3R0b206IDBweDsiPg0KPGRpdiBjbGFzcz0idGV4dC1ibG9jayI-DQo8ZGl2IHN0eWxlPSJ0ZXh0LWFsaWduOiBjZW50ZXI7Ij48c3Ryb25nPjxoMT5NaXNjZWxsYW5lb3VzPC9oMT48L3N0cm9uZz48L2Rpdj4NCjwvZGl2Pg0KPC90ZD48L3RyPjwvdGJvZHk-PC90YWJsZT4NCg0KPHRhYmxlIGJnY29sb3I9IiIgc3R5bGU9InRhYmxlLWxheW91dDogZml4ZWQ7IHdpZHRoOiAxMDAlOyIgd2lkdGg9IjEwMCUiPjx0Ym9keT48dHI-PHRkIHN0eWxlPSJwYWRkaW5nOjA7Ym9yZGVyLWNvbGxhcHNlOmNvbGxhcHNlO2JvcmRlci1zcGFjaW5nOjA7bWFyZ2luOjA7IiB2YWxpZ249InRvcCI-DQoNCjx0YWJsZSBhbGlnbj0iY2VudGVyIiBib3JkZXI9IjAiIGNlbGxwYWRkaW5nPSIwIiBjZWxsc3BhY2luZz0iMCIgd2lkdGg9IjEwMCUiPjx0Ym9keT48dHI-PHRkIGNsYXNzPSJjb250YWluZXIiIHN0eWxlPSJwYWRkaW5nOiAxNXB4IDE1cHg7Ij4NCjxkaXYgY2xhc3M9InRleHQtYmxvY2siPg0KPHNwYW4-DQogICAgICAgICAgICAgICAgICAgICAgICAgICAgICAgIDxhIGhyZWY9Imh0dHBzOi8vdHJhY2tpbmcudGxkcm5ld3NsZXR0ZXIuY29tL0NMMC9odHRwczolMkYlMkZ0aHJlYWRyZWFkZXJhcHAuY29tJTJGdGhyZWFkJTJGMTg2NDM3MDkzMzQ5NjIwNTcyOC5odG1sJTNGdXRtX3NvdXJjZT10bGRyYWkvMS8wMTAwMDE5MzljNTQzMmYzLTI1M2VkYzE2LTY2YzUtNDgyMS04ZGRkLTYxMjY4NGU5YjVjZC0wMDAwMDAvVHdSUzBvRmZzYk4xVjdVbm1DeFZ1WmRRSC00Y1ZsNUNVald0STVGUFhqYz0zODIiPg0KICAgICAgICAgICAgICAgICAgICAgICAgICAgICAgICAgICAgPHNwYW4-DQogICAgICAgICAgICAgICAgICAgICAgICAgICAgICAgICAgICAgICAgPHN0cm9uZz5OZXcgRmlzaCBBdWRpbyBNb2RlbCAoMyBtaW51dGUgcmVhZCk8L3N0cm9uZz4NCiAgICAgICAgICAgICAgICAgICAgICAgICAgICAgICAgICAgIDwvc3Bhbj4NCjwvYT4NCjxicj4NCjxicj4NCjxzcGFuIHN0eWxlPSJmb250LWZhbWlseTogJnF1b3Q7SGVsdmV0aWNhIE5ldWUmcXVvdDssIEhlbHZldGljYSwgQXJpYWwsIFZlcmRhbmEsIHNhbnMtc2VyaWY7Ij4NCiAgICAgICAgICAgICAgICAgICAgICAgICAgICAgICAgICAgIFRoZSBuZXdlc3QgRmlzaCBBdWRpbyAxLjUgaXMgY3VycmVudGx5ICMyIG9uIFRleHQgVG8gU3BlZWNoIExlYWRlcmJvYXJkcyBiZWhpbmQgRWxldmVuTGFicy4gSXQgc3VwcG9ydHMgdm9pY2UgY2xvbmluZyBhbmQgaXMgZmFzdCB0byBydW4sIGFsdGhvdWdoIHRoZSBvdXRwdXQgcXVhbGl0eSBzZWVtcyBoaXQgb3IgbWlzcy4NCiAgICAgICAgICAgICAgICAgICAgICAgICAgICAgICAgPC9zcGFuPg0KPC9zcGFuPg0KPC9kaXY-DQo8L3RkPjwvdHI-PC90Ym9keT48L3RhYmxlPg0KDQo8dGFibGUgYWxpZ249ImNlbnRlciIgYm9yZGVyPSIwIiBjZWxscGFkZGluZz0iMCIgY2VsbHNwYWNpbmc9IjAiIHdpZHRoPSIxMDAlIj48dGJvZHk-PHRyPjx0ZCBjbGFzcz0iY29udGFpbmVyIiBzdHlsZT0icGFkZGluZzogMTVweCAxNXB4OyI-DQo8ZGl2IGNsYXNzPSJ0ZXh0LWJsb2NrIj4NCjxzcGFuPg0KICAgICAgICAgICAgICAgICAgICAgICAgICAgICAgICA8YSBocmVmPSJodHRwczovL3RyYWNraW5nLnRsZHJuZXdzbGV0dGVyLmNvbS9DTDAvaHR0cHM6JTJGJTJGd3d3LmNuYmMuY29tJTJGMjAyNCUyRjEyJTJGMDQlMkZvcGVuYWktcGFydG5lcnMtd2l0aC1kZWZlbnNlLWNvbXBhbnktYW5kdXJpbC5odG1sJTNGdXRtX3NvdXJjZT10bGRyYWkvMS8wMTAwMDE5MzljNTQzMmYzLTI1M2VkYzE2LTY2YzUtNDgyMS04ZGRkLTYxMjY4NGU5YjVjZC0wMDAwMDAveTd1OHVHZFpYZzFqbl9vSno1NG12RmJQQ2UyUXBZWXJmakNkYXZoZ3lOOD0zODIiPg0KICAgICAgICAgICAgICAgICAgICAgICAgICAgICAgICAgICAgPHNwYW4-DQogICAgICAgICAgICAgICAgICAgICAgICAgICAgICAgICAgICAgICAgPHN0cm9uZz5PcGVuQUkgcGFydG5lcnMgd2l0aCBBbmR1cmlsICg1IG1pbnV0ZSByZWFkKTwvc3Ryb25nPg0KICAgICAgICAgICAgICAgICAgICAgICAgICAgICAgICAgICAgPC9zcGFuPg0KPC9hPg0KPGJyPg0KPGJyPg0KPHNwYW4gc3R5bGU9ImZvbnQtZmFtaWx5OiAmcXVvdDtIZWx2ZXRpY2EgTmV1ZSZxdW90OywgSGVsdmV0aWNhLCBBcmlhbCwgVmVyZGFuYSwgc2Fucy1zZXJpZjsiPg0KICAgICAgICAgICAgICAgICAgICAgICAgICAgICAgICAgICAgT3BlbkFJIGFuZCBkZWZlbnNlIGNvbXBhbnkgQW5kdXJpbCBoYXZlIHBhcnRuZXJlZCB0byBjcmVhdGUgYSBuYXRpb25hbCBzZWN1cml0eS1iYXNlZCBBSS4NCiAgICAgICAgICAgICAgICAgICAgICAgICAgICAgICAgPC9zcGFuPg0KPC9zcGFuPg0KPC9kaXY-DQo8L3RkPjwvdHI-PC90Ym9keT48L3RhYmxlPg0KDQo8dGFibGUgYWxpZ249ImNlbnRlciIgYm9yZGVyPSIwIiBjZWxscGFkZGluZz0iMCIgY2VsbHNwYWNpbmc9IjAiIHdpZHRoPSIxMDAlIj48dGJvZHk-PHRyPjx0ZCBjbGFzcz0iY29udGFpbmVyIiBzdHlsZT0icGFkZGluZzogMTVweCAxNXB4OyI-DQo8ZGl2IGNsYXNzPSJ0ZXh0LWJsb2NrIj4NCjxzcGFuPg0KICAgICAgICAgICAgICAgICAgICAgICAgICAgICAgICA8YSBocmVmPSJodHRwczovL3RyYWNraW5nLnRsZHJuZXdzbGV0dGVyLmNvbS9DTDAvaHR0cHM6JTJGJTJGdGVjaGNydW5jaC5jb20lMkYyMDI0JTJGMTIlMkYwNCUyRmtleS1sZWFkZXJzLWJlaGluZC1nb29nbGVzLXZpcmFsLW5vdGVib29rbG0tYXJlLWxlYXZpbmctdG8tY3JlYXRlLXRoZWlyLW93bi1zdGFydHVwJTJGJTNGdXRtX3NvdXJjZT10bGRyYWkvMS8wMTAwMDE5MzljNTQzMmYzLTI1M2VkYzE2LTY2YzUtNDgyMS04ZGRkLTYxMjY4NGU5YjVjZC0wMDAwMDAvSWk2TGlELTRjOU8yWXNaSFRSSk1ObUN6SS1pbFY1NUdKZ1RtazF5WThTOD0zODIiPg0KICAgICAgICAgICAgICAgICAgICAgICAgICAgICAgICAgICAgPHNwYW4-DQogICAgICAgICAgICAgICAgICAgICAgICAgICAgICAgICAgICAgICAgPHN0cm9uZz5LZXkgbGVhZGVycyBiZWhpbmQgR29vZ2xlJ3MgdmlyYWwgTm90ZWJvb2tMTSBhcmUgbGVhdmluZyB0byBjcmVhdGUgdGhlaXIgb3duIHN0YXJ0dXAgKDIgbWludXRlIHJlYWQpPC9zdHJvbmc-DQogICAgICAgICAgICAgICAgICAgICAgICAgICAgICAgICAgICA8L3NwYW4-DQo8L2E-DQo8YnI-DQo8YnI-DQo8c3BhbiBzdHlsZT0iZm9udC1mYW1pbHk6ICZxdW90O0hlbHZldGljYSBOZXVlJnF1b3Q7LCBIZWx2ZXRpY2EsIEFyaWFsLCBWZXJkYW5hLCBzYW5zLXNlcmlmOyI-DQogICAgICAgICAgICAgICAgICAgICAgICAgICAgICAgICAgICBUaHJlZSBrZXkgR29vZ2xlIE5vdGVib29rTE0gbWVtYmVycyBoYXZlIGxlZnQgdG8gc3RhcnQgYSBuZXcgc3RlYWx0aCBBSSB2ZW50dXJlLiBUaGUgc3RhcnR1cCBhaW1zIHRvIGxldmVyYWdlIHRoZSBsYXRlc3QgQUkgbW9kZWxzIHRvIGNyZWF0ZSBjb25zdW1lci1mYWNpbmcsIHVzZXItZmlyc3QgQUkgcHJvZHVjdHMuIEl0IHJlbWFpbnMgaW4gaXRzIGVhcmx5IHN0YWdlcyB3aXRob3V0IGEgY2xlYXIgZm9jdXMgb3IgYW5ub3VuY2VkIGZ1bmRpbmcuDQogICAgICAgICAgICAgICAgICAgICAgICAgICAgICAgIDwvc3Bhbj4NCjwvc3Bhbj4NCjwvZGl2Pg0KPC90ZD48L3RyPjwvdGJvZHk-PC90YWJsZT4NCg0KPC90ZD48L3RyPjwvdGJvZHk-PC90YWJsZT4NCg0KDQo8dGFibGUgYWxpZ249ImNlbnRlciIgYmdjb2xvcj0iIiBib3JkZXI9IjAiIGNlbGxwYWRkaW5nPSIwIiBjZWxsc3BhY2luZz0iMCIgd2lkdGg9IjEwMCUiPjx0Ym9keT48dHI-PHRkIGNsYXNzPSJjb250YWluZXIiIHN0eWxlPSJwYWRkaW5nLXRvcDogMHB4OyBwYWRkaW5nLWJvdHRvbTogMHB4OyI-DQo8ZGl2IGNsYXNzPSJ0ZXh0LWJsb2NrIj4NCjxkaXYgc3R5bGU9InRleHQtYWxpZ246IGNlbnRlcjsiPjxzcGFuIHN0eWxlPSJmb250LXNpemU6IDM2cHg7Ij7imqE8L3NwYW4-PC9kaXY-PC9kaXY-DQo8L3RkPjwvdHI-PC90Ym9keT48L3RhYmxlPg0KDQo8dGFibGUgYWxpZ249ImNlbnRlciIgYmdjb2xvcj0iIiBib3JkZXI9IjAiIGNlbGxwYWRkaW5nPSIwIiBjZWxsc3BhY2luZz0iMCIgd2lkdGg9IjEwMCUiPjx0Ym9keT48dHI-PHRkIGNsYXNzPSJjb250YWluZXIiIHN0eWxlPSJwYWRkaW5nLXRvcDogMHB4OyBwYWRkaW5nLWJvdHRvbTogMHB4OyI-DQo8ZGl2IGNsYXNzPSJ0ZXh0LWJsb2NrIj4NCjxkaXYgc3R5bGU9InRleHQtYWxpZ246IGNlbnRlcjsiPg0KDQo8aDE-PHN0cm9uZz5RdWljayBMaW5rczwvc3Ryb25nPjwvaDE-DQo8L2Rpdj4NCjwvZGl2Pg0KPC90ZD48L3RyPjwvdGJvZHk-PC90YWJsZT4NCg0KPHRhYmxlIGJnY29sb3I9IiIgc3R5bGU9InRhYmxlLWxheW91dDogZml4ZWQ7IHdpZHRoOiAxMDAlOyIgd2lkdGg9IjEwMCUiPjx0Ym9keT48dHI-PHRkIHN0eWxlPSJwYWRkaW5nOjA7Ym9yZGVyLWNvbGxhcHNlOmNvbGxhcHNlO2JvcmRlci1zcGFjaW5nOjA7bWFyZ2luOjA7IiB2YWxpZ249InRvcCI-DQoNCjx0YWJsZSBhbGlnbj0iY2VudGVyIiBib3JkZXI9IjAiIGNlbGxwYWRkaW5nPSIwIiBjZWxsc3BhY2luZz0iMCIgd2lkdGg9IjEwMCUiPjx0Ym9keT48dHI-PHRkIGNsYXNzPSJjb250YWluZXIiIHN0eWxlPSJwYWRkaW5nOiAxNXB4IDE1cHg7Ij4NCjxkaXYgY2xhc3M9InRleHQtYmxvY2siPg0KPHNwYW4-DQogICAgICAgICAgICAgICAgICAgICAgICAgICAgICAgIDxhIGhyZWY9Imh0dHBzOi8vdHJhY2tpbmcudGxkcm5ld3NsZXR0ZXIuY29tL0NMMC9odHRwczolMkYlMkZ3d3cuY2xvdWRmYWN0b3J5LmNvbSUyRndlYmluYXIlMkZhaS1pcmwlM0Z1dG1fY2FtcGFpZ249Q29yZV9BUF9FRyUyNnV0bV9zb3VyY2U9dGxkciUyNnV0bV9tZWRpdW09bWVkaWFwYXJ0bmVyJTI2dXRtX2NvbnRlbnQ9ZW1haWxfcXVpY2tsaW5rcy8xLzAxMDAwMTkzOWM1NDMyZjMtMjUzZWRjMTYtNjZjNS00ODIxLThkZGQtNjEyNjg0ZTliNWNkLTAwMDAwMC9aWlMyZ0QtMURhamx1ZXN3MnhNRGNVOU80S0RkQ0tPVlRJOWstV1hmNGVNPTM4MiI-DQogICAgICAgICAgICAgICAgICAgICAgICAgICAgICAgICAgICA8c3Bhbj4NCiAgICAgICAgICAgICAgICAgICAgICAgICAgICAgICAgICAgICAgICA8c3Ryb25nPkhvdyBDaXRpLCBSaXBqYXIsIGFuZCBDbG91ZEZhY3RvcnkgYXJlIHVzaW5nIEFJIElSTCAoU3BvbnNvcik8L3N0cm9uZz4NCiAgICAgICAgICAgICAgICAgICAgICAgICAgICAgICAgICAgIDwvc3Bhbj4NCjwvYT4NCjxicj4NCjxicj4NCjxzcGFuIHN0eWxlPSJmb250LWZhbWlseTogJnF1b3Q7SGVsdmV0aWNhIE5ldWUmcXVvdDssIEhlbHZldGljYSwgQXJpYWwsIFZlcmRhbmEsIHNhbnMtc2VyaWY7Ij4NCiAgICAgICAgICAgICAgICAgICAgICAgICAgICAgICAgICAgIEFJIGluIHRoZSByZWFsIHdvcmxkIGlzbid0IGp1c3QgQ2hhdEdQVC4gSXQncyBidWlsZGluZyByb2J1c3Qgc3lzdGVtcyB3aXRoIGZpcm0gZ3VhcmRyYWlscyBhbmQgc29sdmluZyBwcmFjdGljYWwgY2hhbGxlbmdlcyBhcm91bmQgaW5mZXJlbmNlLCBkYXRhLCBhbmQgbW9kZWxzLiA8YSBocmVmPSJodHRwczovL3RyYWNraW5nLnRsZHJuZXdzbGV0dGVyLmNvbS9DTDAvaHR0cHM6JTJGJTJGd3d3LmNsb3VkZmFjdG9yeS5jb20lMkZ3ZWJpbmFyJTJGYWktaXJsJTNGdXRtX2NhbXBhaWduPUNvcmVfQVBfRUclMjZ1dG1fc291cmNlPXRsZHIlMjZ1dG1fbWVkaXVtPW1lZGlhcGFydG5lciUyNnV0bV9jb250ZW50PWVtYWlsX3F1aWNrbGlua3MvMi8wMTAwMDE5MzljNTQzMmYzLTI1M2VkYzE2LTY2YzUtNDgyMS04ZGRkLTYxMjY4NGU5YjVjZC0wMDAwMDAvV3l4LTVjOVE1OFhrWHBCOGFhaE5MU0R5bWR5eGRZRUNjc3hWNDRNOG4tRT0zODIiIHJlbD0ibm9vcGVuZXIgbm9yZWZlcnJlciBub2ZvbGxvdyIgdGFyZ2V0PSJfYmxhbmsiPjxzcGFuPldhdGNoIHRoZSByZWNvcmRlZCBwcmVzZW50YXRpb24gZnJvbSBBSV9JUkwgTG9uZG9uLjwvc3Bhbj48L2E-DQo8L3NwYW4-DQo8L3NwYW4-DQo8L2Rpdj4NCjwvdGQ-PC90cj48L3Rib2R5PjwvdGFibGU-DQoNCjx0YWJsZSBhbGlnbj0iY2VudGVyIiBib3JkZXI9IjAiIGNlbGxwYWRkaW5nPSIwIiBjZWxsc3BhY2luZz0iMCIgd2lkdGg9IjEwMCUiPjx0Ym9keT48dHI-PHRkIGNsYXNzPSJjb250YWluZXIiIHN0eWxlPSJwYWRkaW5nOiAxNXB4IDE1cHg7Ij4NCjxkaXYgY2xhc3M9InRleHQtYmxvY2siPg0KPHNwYW4-DQogICAgICAgICAgICAgICAgICAgICAgICAgICAgICAgIDxhIGhyZWY9Imh0dHBzOi8vdHJhY2tpbmcudGxkcm5ld3NsZXR0ZXIuY29tL0NMMC9odHRwczolMkYlMkZodWdnaW5nZmFjZS5jbyUyRnJ1bGlhZCUyRmRlZXB0aG91Z2h0LThiLWxsYW1hLXYwLjAxLWFscGhhJTNGdXRtX3NvdXJjZT10bGRyYWkvMS8wMTAwMDE5MzljNTQzMmYzLTI1M2VkYzE2LTY2YzUtNDgyMS04ZGRkLTYxMjY4NGU5YjVjZC0wMDAwMDAvaWxmRnZqSklSX2xqeXJPR1hsMVRqRlBwMDN0OVl1bVlXVngwLVNWWXdrND0zODIiPg0KICAgICAgICAgICAgICAgICAgICAgICAgICAgICAgICAgICAgPHNwYW4-DQogICAgICAgICAgICAgICAgICAgICAgICAgICAgICAgICAgICAgICAgPHN0cm9uZz5EZWVwVGhvdWdodCA4QiBSZWFzb25pbmcgTW9kZWwgKEh1Z2dpbmcgRmFjZSBIdWIpPC9zdHJvbmc-DQogICAgICAgICAgICAgICAgICAgICAgICAgICAgICAgICAgICA8L3NwYW4-DQo8L2E-DQo8YnI-DQo8YnI-DQo8c3BhbiBzdHlsZT0iZm9udC1mYW1pbHk6ICZxdW90O0hlbHZldGljYSBOZXVlJnF1b3Q7LCBIZWx2ZXRpY2EsIEFyaWFsLCBWZXJkYW5hLCBzYW5zLXNlcmlmOyI-DQogICAgICAgICAgICAgICAgICAgICAgICAgICAgICAgICAgICBSdWxpYWQgaGFzIHJlbGVhc2VkIGEgc21hbGwgcmVhc29uaW5nIG1vZGVsIHRoYXQgdGFrZXMgZXh0cmEgdGltZSB0byB0aGluayB0aHJvdWdoIHByb2JsZW1zLg0KICAgICAgICAgICAgICAgICAgICAgICAgICAgICAgICA8L3NwYW4-DQo8L3NwYW4-DQo8L2Rpdj4NCjwvdGQ-PC90cj48L3Rib2R5PjwvdGFibGU-DQoNCjx0YWJsZSBhbGlnbj0iY2VudGVyIiBib3JkZXI9IjAiIGNlbGxwYWRkaW5nPSIwIiBjZWxsc3BhY2luZz0iMCIgd2lkdGg9IjEwMCUiPjx0Ym9keT48dHI-PHRkIGNsYXNzPSJjb250YWluZXIiIHN0eWxlPSJwYWRkaW5nOiAxNXB4IDE1cHg7Ij4NCjxkaXYgY2xhc3M9InRleHQtYmxvY2siPg0KPHNwYW4-DQogICAgICAgICAgICAgICAgICAgICAgICAgICAgICAgIDxhIGhyZWY9Imh0dHBzOi8vdHJhY2tpbmcudGxkcm5ld3NsZXR0ZXIuY29tL0NMMC9odHRwczolMkYlMkZ2eW9ra3kuZ2l0aHViLmlvJTJGTExNLUJyYWluZWQtR1VJLUFnZW50cy1TdXJ2ZXklMkYlM0Z1dG1fc291cmNlPXRsZHJhaS8xLzAxMDAwMTkzOWM1NDMyZjMtMjUzZWRjMTYtNjZjNS00ODIxLThkZGQtNjEyNjg0ZTliNWNkLTAwMDAwMC9sU0RaT3Z0cy0tVEpqdVJtM1RCdTN4dUJKS28zdURXeTlCZDBBUEhqM3ZnPTM4MiI-DQogICAgICAgICAgICAgICAgICAgICAgICAgICAgICAgICAgICA8c3Bhbj4NCiAgICAgICAgICAgICAgICAgICAgICAgICAgICAgICAgICAgICAgICA8c3Ryb25nPkdVSSBBZ2VudHMgKDIgbWludXRlIHJlYWQpPC9zdHJvbmc-DQogICAgICAgICAgICAgICAgICAgICAgICAgICAgICAgICAgICA8L3NwYW4-DQo8L2E-DQo8YnI-DQo8YnI-DQo8c3BhbiBzdHlsZT0iZm9udC1mYW1pbHk6ICZxdW90O0hlbHZldGljYSBOZXVlJnF1b3Q7LCBIZWx2ZXRpY2EsIEFyaWFsLCBWZXJkYW5hLCBzYW5zLXNlcmlmOyI-DQogICAgICAgICAgICAgICAgICAgICAgICAgICAgICAgICAgICBBIGNvbGxlY3Rpb24gb2YgcmVzZWFyY2ggcGFwZXJzIGFuZCBwcm9qZWN0cyBvbiBsYXJnZSBsYW5ndWFnZSBtb2RlbC1icmFpbmVkIEdVSSBhZ2VudHMuDQogICAgICAgICAgICAgICAgICAgICAgICAgICAgICAgIDwvc3Bhbj4NCjwvc3Bhbj4NCjwvZGl2Pg0KPC90ZD48L3RyPjwvdGJvZHk-PC90YWJsZT4NCg0KPHRhYmxlIGFsaWduPSJjZW50ZXIiIGJvcmRlcj0iMCIgY2VsbHBhZGRpbmc9IjAiIGNlbGxzcGFjaW5nPSIwIiB3aWR0aD0iMTAwJSI-PHRib2R5Pjx0cj48dGQgY2xhc3M9ImNvbnRhaW5lciIgc3R5bGU9InBhZGRpbmc6IDE1cHggMTVweDsiPg0KPGRpdiBjbGFzcz0idGV4dC1ibG9jayI-DQo8c3Bhbj4NCiAgICAgICAgICAgICAgICAgICAgICAgICAgICAgICAgPGEgaHJlZj0iaHR0cHM6Ly90cmFja2luZy50bGRybmV3c2xldHRlci5jb20vQ0wwL2h0dHBzOiUyRiUyRnd3dy5ueXRpbWVzLmNvbSUyRnZpZGVvJTJGYnVzaW5lc3MlMkYxMDAwMDAwMDk4NTg1ODAlMkZzYW0tYWx0bWFuLW9wZW5haS1kZWFsYm9vay5odG1sJTNGdXRtX3NvdXJjZT10bGRyYWkvMS8wMTAwMDE5MzljNTQzMmYzLTI1M2VkYzE2LTY2YzUtNDgyMS04ZGRkLTYxMjY4NGU5YjVjZC0wMDAwMDAvdURKem9tQTFLM1pvbGFuX193RWp0X2k3dm5yT1hSeU1wS3doeTRsSFFVcz0zODIiPg0KICAgICAgICAgICAgICAgICAgICAgICAgICAgICAgICAgICAgPHNwYW4-DQogICAgICAgICAgICAgICAgICAgICAgICAgICAgICAgICAgICAgICAgPHN0cm9uZz5TYW0gQWx0bWFuIFNheXMgQXJ0aWZpY2lhbCBHZW5lcmFsIEludGVsbGlnZW5jZSBJcyBvbiB0aGUgSG9yaXpvbiAoMSBtaW51dGUgcmVhZCk8L3N0cm9uZz4NCiAgICAgICAgICAgICAgICAgICAgICAgICAgICAgICAgICAgIDwvc3Bhbj4NCjwvYT4NCjxicj4NCjxicj4NCjxzcGFuIHN0eWxlPSJmb250LWZhbWlseTogJnF1b3Q7SGVsdmV0aWNhIE5ldWUmcXVvdDssIEhlbHZldGljYSwgQXJpYWwsIFZlcmRhbmEsIHNhbnMtc2VyaWY7Ij4NCiAgICAgICAgICAgICAgICAgICAgICAgICAgICAgICAgICAgIFNhbSBBbHRtYW4sIENFTyBvZiBPcGVuQUksIHN0YXRlZCBhdCB0aGUgRGVhbEJvb2sgU3VtbWl0IHRoYXQgQXJ0aWZpY2lhbCBHZW5lcmFsIEludGVsbGlnZW5jZSBtaWdodCBpbXBhY3QgZXZlcnlkYXkgbGlmZSBsZXNzIHNpZ25pZmljYW50bHkgdGhhbiBleHBlY3RlZC4NCiAgICAgICAgICAgICAgICAgICAgICAgICAgICAgICAgPC9zcGFuPg0KPC9zcGFuPg0KPC9kaXY-DQo8L3RkPjwvdHI-PC90Ym9keT48L3RhYmxlPg0KDQo8L3RkPjwvdHI-PC90Ym9keT48L3RhYmxlPg0KDQoNCg0KDQoNCjx0YWJsZSBhbGlnbj0iY2VudGVyIiBiZ2NvbG9yPSIiIGJvcmRlcj0iMCIgY2VsbHBhZGRpbmc9IjAiIGNlbGxzcGFjaW5nPSIwIiB3aWR0aD0iMTAwJSI-PHRib2R5Pjx0cj48dGQgYWxpZ249ImxlZnQiIHN0eWxlPSJ3b3JkLWJyZWFrOiBicmVhay13b3JkOyB2ZXJ0aWNhbC1hbGlnbjogdG9wOyBwYWRkaW5nOiA1cHggMTBweDsiPg0KDQo8cCBzdHlsZT0icGFkZGluZzogMDsgbWFyZ2luOiAwOyBmb250LXNpemU6IDIycHg7IGNvbG9yOiAjMDAwMDAwOyBsaW5lLWhlaWdodDogMS42OyBmb250LXdlaWdodDogYm9sZDsiPg0KV2FudCB0byBhZHZlcnRpc2UgaW4gVExEUj8g8J-TsA0KPC9wPg0KPC90ZD48L3RyPg0KPHRyPjx0ZCBjbGFzcz0iY29udGFpbmVyIiBzdHlsZT0icGFkZGluZzogMHB4IDEwcHggMTVweDsiPg0KPGRpdiBjbGFzcz0idGV4dC1ibG9jayI-DQpJZiB5b3VyIGNvbXBhbnkgaXMgaW50ZXJlc3RlZCBpbiByZWFjaGluZyBhbiBhdWRpZW5jZSBvZiBBSSBwcm9mZXNzaW9uYWxzIGFuZCBkZWNpc2lvbiBtYWtlcnMsIHlvdSBtYXkgd2FudCB0byA8YSBocmVmPSJodHRwczovL3RyYWNraW5nLnRsZHJuZXdzbGV0dGVyLmNvbS9DTDAvaHR0cHM6JTJGJTJGYWR2ZXJ0aXNlLnRsZHIudGVjaCUyRiUzRnV0bV9zb3VyY2U9dGxkcmFpJTI2dXRtX21lZGl1bT1uZXdzbGV0dGVyJTI2dXRtX2NhbXBhaWduPWFkdmVydGlzZWN0YS8xLzAxMDAwMTkzOWM1NDMyZjMtMjUzZWRjMTYtNjZjNS00ODIxLThkZGQtNjEyNjg0ZTliNWNkLTAwMDAwMC9BXzlFQWU4TmNIUlFhMGJXZmNZM2hnMjgzZkFUQzhOblB2T2FNUnFLQUVFPTM4MiI-PHN0cm9uZz48c3Bhbj5hZHZlcnRpc2Ugd2l0aCB1czwvc3Bhbj48L3N0cm9uZz48L2E-Lg0KPC9kaXY-DQo8YnI-DQo8ZGl2IGNsYXNzPSJ0ZXh0LWJsb2NrIj4NCklmIHlvdSBoYXZlIGFueSBjb21tZW50cyBvciBmZWVkYmFjaywganVzdCByZXNwb25kIHRvIHRoaXMgZW1haWwhDQo8YnI-DQo8YnI-IFRoYW5rcyBmb3IgcmVhZGluZywNCjxicj4NCjxzcGFuPkFuZHJldyBUYW48L3NwYW4-ICZhbXA7IDxzcGFuPkFuZHJldyBDYXJyPC9zcGFuPg0KPGJyPg0KPGJyPg0KPC9kaXY-DQo8YnI-DQo8L3RkPjwvdHI-PC90Ym9keT48L3RhYmxlPg0KDQo8dGFibGUgYWxpZ249ImNlbnRlciIgYmdjb2xvcj0iIiBib3JkZXI9IjAiIGNlbGxwYWRkaW5nPSIwIiBjZWxsc3BhY2luZz0iMCIgd2lkdGg9IjEwMCUiPjx0Ym9keT48dHI-PHRkIGNsYXNzPSJjb250YWluZXIiIHN0eWxlPSJwYWRkaW5nOiAxNXB4IDE1cHg7Ij4NCjxkaXYgY2xhc3M9InRleHQtYmxvY2siIGlkPSJ0ZXN0aW5nLWlkIj5JZiB5b3UgZG9uJ3Qgd2FudCB0byByZWNlaXZlIGZ1dHVyZSBlZGl0aW9ucyBvZiBUTERSIEFJLCBwbGVhc2UgPGEgaHJlZj0iaHR0cHM6Ly90cmFja2luZy50bGRybmV3c2xldHRlci5jb20vQ0wwL2h0dHBzOiUyRiUyRmEudGxkcm5ld3NsZXR0ZXIuY29tJTJGdW5zdWJzY3JpYmUlM0ZlcD0xJTI2bD1lZWRmNmIxNC0zZGUzLTExZWQtOWEzMi0wMjQxYjk2MTU3NjMlMjZsYz01N2FmZjg3Yy1hZTAyLTExZWYtOTA3NC00YjdlM2M2OWYwYzYlMjZwPTY4ZDAzMDg0LWIzYzctMTFlZi05MjhkLTA5ZDI3MDkyZDI1MiUyNnB0PWNhbXBhaWduJTI2cHY9NCUyNnNwYT0xNzMzNDkzNjY5JTI2dD0xNzMzNDk0NTg0JTI2cz1lYTM4NzE1YTM5MzIzNTAxYTVlOWIyOGYxN2U3YzM5ZjBkZjNlNWQxNGExZTQxNTVhMmE0MzNiZDZmZWNjMzk2LzEvMDEwMDAxOTM5YzU0MzJmMy0yNTNlZGMxNi02NmM1LTQ4MjEtOGRkZC02MTI2ODRlOWI1Y2QtMDAwMDAwL2x1cl9BY3BVaVVyM0lrd2NvUEo4TXR3TzY1VU9sWUlza3BCNWl3UGJDOWc9MzgyIj51bnN1YnNjcmliZSBmcm9tIFRMRFIgQUk8L2E-IG9yIDxhIGhyZWY9Imh0dHBzOi8vdHJhY2tpbmcudGxkcm5ld3NsZXR0ZXIuY29tL0NMMC9odHRwczolMkYlMkZ0bGRyLnRlY2glMkZhaSUyRm1hbmFnZSUzRmVtYWlsPWF1dG9tYXRpYy5uZXdzbGV0dGVycyUyNTQwZ21haWwuY29tLzEvMDEwMDAxOTM5YzU0MzJmMy0yNTNlZGMxNi02NmM1LTQ4MjEtOGRkZC02MTI2ODRlOWI1Y2QtMDAwMDAwLzdfcWNEZVR6SEQzYzhvQmZBY2M3UzY2bzh0WE1IUnFPWXUtaHBjNzNIbkE9MzgyIj5tYW5hZ2UgYWxsIG9mIHlvdXIgVExEUiBuZXdzbGV0dGVyIHN1YnNjcmlwdGlvbnM8L2E-Lg0KPGJyPg0KPC9kaXY-DQo8L3RkPjwvdHI-PC90Ym9keT48L3RhYmxlPg0KPC90ZD48L3RyPjwvdGJvZHk-PC90YWJsZT4NCjwvdGQ-PC90cj48L3Rib2R5PjwvdGFibGU-DQo8L3RkPjwvdHI-PC90Ym9keT48L3RhYmxlPg0KPC90ZD48L3RyPjwvdGJvZHk-PC90YWJsZT4NCg0KDQoNCjxpbWcgYWx0PSIiIHNyYz0iaHR0cDovL3RyYWNraW5nLnRsZHJuZXdzbGV0dGVyLmNvbS9DSTAvMDEwMDAxOTM5YzU0MzJmMy0yNTNlZGMxNi02NmM1LTQ4MjEtOGRkZC02MTI2ODRlOWI1Y2QtMDAwMDAwLzRUTHpIdWNIOEtCQkZaRXVrdlJMOENDdDlCX0VpZHluN28wWFN0XzFiT1U9MzgyIiBzdHlsZT0iZGlzcGxheTogbm9uZTsgd2lkdGg6IDFweDsgaGVpZ2h0OiAxcHg7Ij4NCjwvYm9keT48L2h0bWw-'}}]}, 'sizeEstimate': 56245, 'historyId': '4751', 'internalDate': '1733494584000'}}\n"
     ]
    }
   ],
   "source": [
    "print(emails[0])"
   ]
  },
  {
   "cell_type": "code",
   "execution_count": 16,
   "id": "307c5c9b-b998-49d7-9d07-e626f16174c6",
   "metadata": {
    "execution": {
     "iopub.execute_input": "2025-03-27T21:33:28.696231Z",
     "iopub.status.busy": "2025-03-27T21:33:28.695985Z",
     "iopub.status.idle": "2025-03-27T21:33:32.902755Z",
     "shell.execute_reply": "2025-03-27T21:33:32.901767Z",
     "shell.execute_reply.started": "2025-03-27T21:33:28.696213Z"
    }
   },
   "outputs": [],
   "source": [
    "news_sources = tldr_parser(emails[0])"
   ]
  },
  {
   "cell_type": "code",
   "execution_count": 7,
   "id": "71e839c4-5710-4f8b-86f0-910533d57a28",
   "metadata": {
    "execution": {
     "iopub.execute_input": "2024-12-18T03:57:26.543033Z",
     "iopub.status.busy": "2024-12-18T03:57:26.542764Z",
     "iopub.status.idle": "2024-12-18T03:57:26.553985Z",
     "shell.execute_reply": "2024-12-18T03:57:26.552249Z",
     "shell.execute_reply.started": "2024-12-18T03:57:26.543011Z"
    },
    "scrolled": true
   },
   "outputs": [
    {
     "data": {
      "text/plain": [
       "[{'title': 'OPENAI O1 SYSTEM CARD',\n",
       "  'url': 'https://openai.com/index/openai-o1-system-card/',\n",
       "  'source_of_the_news': 'TLDR AI <dan@tldrnewsletter.com>',\n",
       "  'news_summary': \"This report outlines the safety work carried out prior to releasing OpenAI o1 and o1-mini, including external red teaming and frontier risk evaluations according to OpenAI's Preparedness Framework.\",\n",
       "  'date_source': 'Fri, 6 Dec 2024 14:16:24 +0000',\n",
       "  'new_provider': 'openai.com'},\n",
       " {'title': \"PERPLEXITY EXPANDING IT'S PUBLISHER'S PROGRAM\",\n",
       "  'url': 'https://www.perplexity.ai/hub/blog/perplexity-expands-publisher-program-with-15-new-media-partners',\n",
       "  'source_of_the_news': 'TLDR AI <dan@tldrnewsletter.com>',\n",
       "  'news_summary': \"Perplexity has added over a dozen international news organizations to its Publishers' Program, offering tools, revenue sharing, and support to strengthen collaboration with global media.\",\n",
       "  'date_source': 'Fri, 6 Dec 2024 14:16:24 +0000',\n",
       "  'new_provider': 'www.perplexity.ai'},\n",
       " {'title': \"DEEPMIND'S GENIE 2 CAN GENERATE INTERACTIVE WORLDS THAT LOOK LIKE\\r\\nVIDEO GAMES\",\n",
       "  'url': 'https://techcrunch.com/2024/12/04/deepminds-genie-2-can-generate-interactive-worlds-that-look-like-video-games/',\n",
       "  'source_of_the_news': 'TLDR AI <dan@tldrnewsletter.com>',\n",
       "  'news_summary': \"DeepMind's Genie 2 is an advanced AI model that generates diverse, interactive 3D worlds from images and text descriptions. The model is particularly adept at simulating complex elements like physics and NPC behavior, setting it apart from similar models by maintaining scene consistency. Positioned as a research tool, Genie 2 is designed for prototyping interactive experiences and evaluating AI agents.\",\n",
       "  'date_source': 'Fri, 6 Dec 2024 14:16:24 +0000',\n",
       "  'new_provider': 'techcrunch.com'},\n",
       " {'title': 'PALIGEMMA 2',\n",
       "  'url': 'https://arxiv.org/abs/2412.03555',\n",
       "  'source_of_the_news': 'TLDR AI <dan@tldrnewsletter.com>',\n",
       "  'news_summary': 'Paligemma 2 is one of the best VLMs on the market today. It uses SigLIP and Gemma.',\n",
       "  'date_source': 'Fri, 6 Dec 2024 14:16:24 +0000',\n",
       "  'new_provider': 'arxiv.org'},\n",
       " {'title': 'LAND COVER MAPPING WITH ASANET',\n",
       "  'url': 'https://arxiv.org/abs/2412.02044v1',\n",
       "  'source_of_the_news': 'TLDR AI <dan@tldrnewsletter.com>',\n",
       "  'news_summary': 'The Asymmetric Semantic Aligning Network (ASANet) improves land cover classification using both SAR and RGB images.',\n",
       "  'date_source': 'Fri, 6 Dec 2024 14:16:24 +0000',\n",
       "  'new_provider': 'arxiv.org'},\n",
       " {'title': 'FASTER MULTI-MODAL MODELS WITH TOKEN MERGING',\n",
       "  'url': 'https://arxiv.org/abs/2412.03248v1',\n",
       "  'source_of_the_news': 'TLDR AI <dan@tldrnewsletter.com>',\n",
       "  'news_summary': 'Researchers have developed a training-free method to make multi-modal language models (LLMs) more efficient without sacrificing much performance. Their approach reduces computational demands by up to 7 times by smartly merging and pruning visual data tokens.',\n",
       "  'date_source': 'Fri, 6 Dec 2024 14:16:24 +0000',\n",
       "  'new_provider': 'arxiv.org'},\n",
       " {'title': 'NEW FISH AUDIO MODEL',\n",
       "  'url': 'https://threadreaderapp.com/thread/1864370933496205728.html',\n",
       "  'source_of_the_news': 'TLDR AI <dan@tldrnewsletter.com>',\n",
       "  'news_summary': 'The newest Fish Audio 1.5 is currently #2 on Text To Speech Leaderboards behind ElevenLabs. It supports voice cloning and is fast to run, although the output quality seems hit or miss.',\n",
       "  'date_source': 'Fri, 6 Dec 2024 14:16:24 +0000',\n",
       "  'new_provider': 'threadreaderapp.com'},\n",
       " {'title': 'OPENAI PARTNERS WITH ANDURIL',\n",
       "  'url': 'https://www.cnbc.com/2024/12/04/openai-partners-with-defense-company-anduril.html',\n",
       "  'source_of_the_news': 'TLDR AI <dan@tldrnewsletter.com>',\n",
       "  'news_summary': 'OpenAI and defense company Anduril have partnered to create a national security-based AI.',\n",
       "  'date_source': 'Fri, 6 Dec 2024 14:16:24 +0000',\n",
       "  'new_provider': 'www.cnbc.com'},\n",
       " {'title': \"KEY LEADERS BEHIND GOOGLE'S VIRAL NOTEBOOKLM ARE LEAVING TO CREATE\\r\\nTHEIR OWN STARTUP\",\n",
       "  'url': 'https://techcrunch.com/2024/12/04/key-leaders-behind-googles-viral-notebooklm-are-leaving-to-create-their-own-startup/',\n",
       "  'source_of_the_news': 'TLDR AI <dan@tldrnewsletter.com>',\n",
       "  'news_summary': 'Three key Google NotebookLM members have left to start a new stealth AI venture. The startup aims to leverage the latest AI models to create consumer-facing, user-first AI products. It remains in its early stages without a clear focus or announced funding.',\n",
       "  'date_source': 'Fri, 6 Dec 2024 14:16:24 +0000',\n",
       "  'new_provider': 'techcrunch.com'},\n",
       " {'title': 'GUI AGENTS',\n",
       "  'url': 'https://vyokky.github.io/LLM-Brained-GUI-Agents-Survey/',\n",
       "  'source_of_the_news': 'TLDR AI <dan@tldrnewsletter.com>',\n",
       "  'news_summary': 'A collection of research papers and projects on large language model-brained GUI agents.',\n",
       "  'date_source': 'Fri, 6 Dec 2024 14:16:24 +0000',\n",
       "  'new_provider': 'vyokky.github.io'},\n",
       " {'title': 'SAM ALTMAN SAYS ARTIFICIAL GENERAL INTELLIGENCE IS ON THE HORIZON',\n",
       "  'url': 'https://www.nytimes.com/video/business/100000009858580/sam-altman-openai-dealbook.html',\n",
       "  'source_of_the_news': 'TLDR AI <dan@tldrnewsletter.com>',\n",
       "  'news_summary': 'Sam Altman, CEO of OpenAI, stated at the DealBook Summit that Artificial General Intelligence might impact everyday life less significantly than expected.',\n",
       "  'date_source': 'Fri, 6 Dec 2024 14:16:24 +0000',\n",
       "  'new_provider': 'www.nytimes.com'}]"
      ]
     },
     "execution_count": 7,
     "metadata": {},
     "output_type": "execute_result"
    }
   ],
   "source": [
    "news_sources"
   ]
  },
  {
   "cell_type": "code",
   "execution_count": 8,
   "id": "5d525e49-4da2-45e1-9464-9534da083d2c",
   "metadata": {
    "execution": {
     "iopub.execute_input": "2024-12-18T03:57:26.556760Z",
     "iopub.status.busy": "2024-12-18T03:57:26.556125Z",
     "iopub.status.idle": "2024-12-18T03:57:26.569026Z",
     "shell.execute_reply": "2024-12-18T03:57:26.567518Z",
     "shell.execute_reply.started": "2024-12-18T03:57:26.556731Z"
    },
    "scrolled": true
   },
   "outputs": [
    {
     "data": {
      "text/plain": [
       "['Links:',\n",
       " '------',\n",
       " '[1] https://tldr.tech/ai?utm_source=tldrai',\n",
       " '[2] https://advertise.tldr.tech/?utm_source=tldrai&utm_medium=newsletter&utm_campaign=advertisetopnav',\n",
       " '[3] https://a.tldrnewsletter.com/web-version?ep=1&lc=57aff87c-ae02-11ef-9074-4b7e3c69f0c6&p=68d03084-b3c7-11ef-928d-09d27092d252&pt=campaign&t=1733494584&s=a94ebb372672f7844f8d11fcad3029c68791b13faf831d296ca3c8f639256320',\n",
       " '[4] https://writer.com/product/ai-studio/?utm_source=tldr&utm_medium=newsletter&utm_campaign=ai_studio',\n",
       " '[5] https://links.tldrnewsletter.com/xS4pwo',\n",
       " '[6] https://links.tldrnewsletter.com/UUkpwY',\n",
       " '[7] https://techcrunch.com/2024/12/04/deepminds-genie-2-can-generate-interactive-worlds-that-look-like-video-games/?utm_source=tldrai',\n",
       " '[8] https://arxiv.org/abs/2412.03555?utm_source=tldrai',\n",
       " '[9] https://arxiv.org/abs/2412.02044v1?utm_source=tldrai',\n",
       " '[10] https://arxiv.org/abs/2412.03248v1?utm_source=tldrai',\n",
       " '[11] https://page.camunda.com/wp-rethinking-change-management?utm_medium=paid_leadgen&utm_source=tldr&utm_campaign=Guide.RethinkingChangeManagement.24Q4.EN&utm_content=Q4program',\n",
       " '[12] https://github.com/google-deepmind/graphcast?utm_source=tldrai',\n",
       " '[13] https://github.com/pixtella/anagram-mtl?utm_source=tldrai',\n",
       " '[14] https://github.com/happyw1nd/scorelidar?utm_source=tldrai',\n",
       " '[15] https://threadreaderapp.com/thread/1864370933496205728.html?utm_source=tldrai',\n",
       " '[16] https://www.cnbc.com/2024/12/04/openai-partners-with-defense-company-anduril.html?utm_source=tldrai',\n",
       " '[17] https://techcrunch.com/2024/12/04/key-leaders-behind-googles-viral-notebooklm-are-leaving-to-create-their-own-startup/?utm_source=tldrai',\n",
       " '[18] https://www.cloudfactory.com/webinar/ai-irl?utm_campaign=Core_AP_EG&utm_source=tldr&utm_medium=mediapartner&utm_content=email_quicklinks',\n",
       " '[19] https://huggingface.co/ruliad/deepthought-8b-llama-v0.01-alpha?utm_source=tldrai',\n",
       " '[20] https://vyokky.github.io/LLM-Brained-GUI-Agents-Survey/?utm_source=tldrai',\n",
       " '[21] https://www.nytimes.com/video/business/100000009858580/sam-altman-openai-dealbook.html?utm_source=tldrai',\n",
       " '[22] https://advertise.tldr.tech/?utm_source=tldrai&utm_medium=newsletter&utm_campaign=advertisecta',\n",
       " '[23] https://a.tldrnewsletter.com/unsubscribe?ep=1&l=eedf6b14-3de3-11ed-9a32-0241b9615763&lc=57aff87c-ae02-11ef-9074-4b7e3c69f0c6&p=68d03084-b3c7-11ef-928d-09d27092d252&pt=campaign&pv=4&spa=1733493669&t=1733494584&s=ea38715a39323501a5e9b28f17e7c39f0df3e5d14a1e4155a2a433bd6fecc396',\n",
       " '[24] https://tldr.tech/ai/manage?email=automatic.newsletters%40gmail.com']"
      ]
     },
     "execution_count": 8,
     "metadata": {},
     "output_type": "execute_result"
    }
   ],
   "source": [
    "links = emails[0]['text'].split(\"\\r\\n\\r\\n\")[-1].split('\\r\\n')\n",
    "links"
   ]
  },
  {
   "cell_type": "code",
   "execution_count": 14,
   "id": "080e2f7e-682d-4d52-9777-b78f90bc6dbf",
   "metadata": {
    "execution": {
     "iopub.execute_input": "2024-12-18T04:10:17.868124Z",
     "iopub.status.busy": "2024-12-18T04:10:17.867091Z",
     "iopub.status.idle": "2024-12-18T04:10:17.883057Z",
     "shell.execute_reply": "2024-12-18T04:10:17.881271Z",
     "shell.execute_reply.started": "2024-12-18T04:10:17.868092Z"
    }
   },
   "outputs": [
    {
     "data": {
      "text/plain": [
       "True"
      ]
     },
     "execution_count": 14,
     "metadata": {},
     "output_type": "execute_result"
    }
   ],
   "source": [
    "\"tldr\" in links[6]"
   ]
  },
  {
   "cell_type": "code",
   "execution_count": 9,
   "id": "5d795687-19b3-476c-bd8a-545f6079d5ff",
   "metadata": {
    "execution": {
     "iopub.execute_input": "2024-12-18T03:57:26.571641Z",
     "iopub.status.busy": "2024-12-18T03:57:26.571060Z",
     "iopub.status.idle": "2024-12-18T03:57:26.591964Z",
     "shell.execute_reply": "2024-12-18T03:57:26.589583Z",
     "shell.execute_reply.started": "2024-12-18T03:57:26.571606Z"
    }
   },
   "outputs": [
    {
     "data": {
      "text/plain": [
       "['[9', 'https://arxiv.org/abs/2412.02044v1?utm_source=tldrai']"
      ]
     },
     "execution_count": 9,
     "metadata": {},
     "output_type": "execute_result"
    }
   ],
   "source": [
    "links[10].split('] ')"
   ]
  },
  {
   "cell_type": "code",
   "execution_count": 10,
   "id": "dcaa5ebe-e59f-4538-b4d4-7245bc06d41c",
   "metadata": {
    "execution": {
     "iopub.execute_input": "2024-12-18T03:58:17.160985Z",
     "iopub.status.busy": "2024-12-18T03:58:17.159327Z",
     "iopub.status.idle": "2024-12-18T03:58:17.170409Z",
     "shell.execute_reply": "2024-12-18T03:58:17.168798Z",
     "shell.execute_reply.started": "2024-12-18T03:58:17.160949Z"
    }
   },
   "outputs": [
    {
     "data": {
      "text/plain": [
       "(str, 'https://openai.com/index/openai-o1-system-card/')"
      ]
     },
     "execution_count": 10,
     "metadata": {},
     "output_type": "execute_result"
    }
   ],
   "source": [
    "type(news_sources[0]['url']), news_sources[0]['url']"
   ]
  },
  {
   "cell_type": "code",
   "execution_count": null,
   "id": "28bb4e07-652d-45d2-978b-97d4d61a6f9c",
   "metadata": {},
   "outputs": [],
   "source": []
  }
 ],
 "metadata": {
  "kernelspec": {
   "display_name": "Python 3 (ipykernel)",
   "language": "python",
   "name": "python3"
  },
  "language_info": {
   "codemirror_mode": {
    "name": "ipython",
    "version": 3
   },
   "file_extension": ".py",
   "mimetype": "text/x-python",
   "name": "python",
   "nbconvert_exporter": "python",
   "pygments_lexer": "ipython3",
   "version": "3.11.11"
  }
 },
 "nbformat": 4,
 "nbformat_minor": 5
}
