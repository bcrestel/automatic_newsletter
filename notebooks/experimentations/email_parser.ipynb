{
 "cells": [
  {
   "cell_type": "code",
   "execution_count": 1,
   "id": "7a70f2a9-719c-45a8-9df9-043eb3cf9cb3",
   "metadata": {
    "execution": {
     "iopub.execute_input": "2024-12-18T03:57:20.044733Z",
     "iopub.status.busy": "2024-12-18T03:57:20.044148Z",
     "iopub.status.idle": "2024-12-18T03:57:20.466971Z",
     "shell.execute_reply": "2024-12-18T03:57:20.466336Z",
     "shell.execute_reply.started": "2024-12-18T03:57:20.044570Z"
    }
   },
   "outputs": [],
   "source": [
    "from src.newsletters.gmail import Gmail\n",
    "from src.newsletters.config import NEWSLETTER_AND_PARSER\n",
    "from src.newsletters.parser.tldr import tldr_parser\n",
    "from src.config import SCOPES"
   ]
  },
  {
   "cell_type": "code",
   "execution_count": 2,
   "id": "d6024b25-c28e-480f-8297-0c6f43361e99",
   "metadata": {
    "execution": {
     "iopub.execute_input": "2024-12-18T03:57:20.881337Z",
     "iopub.status.busy": "2024-12-18T03:57:20.880801Z",
     "iopub.status.idle": "2024-12-18T03:57:20.891807Z",
     "shell.execute_reply": "2024-12-18T03:57:20.890592Z",
     "shell.execute_reply.started": "2024-12-18T03:57:20.881310Z"
    }
   },
   "outputs": [
    {
     "data": {
      "text/plain": [
       "dict_keys(['TLDR AI <dan@tldrnewsletter.com>'])"
      ]
     },
     "execution_count": 2,
     "metadata": {},
     "output_type": "execute_result"
    }
   ],
   "source": [
    "NEWSLETTER_AND_PARSER.keys()"
   ]
  },
  {
   "cell_type": "code",
   "execution_count": 3,
   "id": "93ef2c90-9422-44da-840d-f51dc7522f28",
   "metadata": {
    "execution": {
     "iopub.execute_input": "2024-12-18T03:57:21.306610Z",
     "iopub.status.busy": "2024-12-18T03:57:21.305991Z",
     "iopub.status.idle": "2024-12-18T03:57:21.320869Z",
     "shell.execute_reply": "2024-12-18T03:57:21.319202Z",
     "shell.execute_reply.started": "2024-12-18T03:57:21.306584Z"
    }
   },
   "outputs": [],
   "source": [
    "gmail = Gmail(\n",
    "    path_to_token=\"../../secrets_vault/token.json\",\n",
    "    path_to_credentials=\"../../secrets_vault/credentials.json\",\n",
    "    scopes=SCOPES\n",
    ")"
   ]
  },
  {
   "cell_type": "code",
   "execution_count": 4,
   "id": "4dd4c716-ed21-4261-9701-b5149468e47b",
   "metadata": {
    "execution": {
     "iopub.execute_input": "2024-12-18T03:57:21.654149Z",
     "iopub.status.busy": "2024-12-18T03:57:21.653821Z",
     "iopub.status.idle": "2024-12-18T03:57:23.507015Z",
     "shell.execute_reply": "2024-12-18T03:57:23.505769Z",
     "shell.execute_reply.started": "2024-12-18T03:57:21.654111Z"
    }
   },
   "outputs": [
    {
     "data": {
      "text/plain": [
       "5"
      ]
     },
     "execution_count": 4,
     "metadata": {},
     "output_type": "execute_result"
    }
   ],
   "source": [
    "emails = gmail.fetch_emails(sender='TLDR AI <dan@tldrnewsletter.com>', after='2024-12-01', before='2024-12-07')\n",
    "len(emails)"
   ]
  },
  {
   "cell_type": "code",
   "execution_count": 5,
   "id": "2bb76247-7448-4993-8188-ae5bf9c96c0b",
   "metadata": {
    "execution": {
     "iopub.execute_input": "2024-12-18T03:57:23.509191Z",
     "iopub.status.busy": "2024-12-18T03:57:23.508722Z",
     "iopub.status.idle": "2024-12-18T03:57:23.516883Z",
     "shell.execute_reply": "2024-12-18T03:57:23.515611Z",
     "shell.execute_reply.started": "2024-12-18T03:57:23.509162Z"
    },
    "scrolled": true
   },
   "outputs": [
    {
     "name": "stdout",
     "output_type": "stream",
     "text": [
      "{'sender': 'TLDR AI <dan@tldrnewsletter.com>', 'subject': \"OpenAI o1 System Card 📇, Perplexity Publisher Program 🔍, DeepMind's Genie 2 🧞\", 'date_utc': 'Fri, 6 Dec 2024 14:16:24 +0000', 'id': '1939c5434a9f7fd8', 'text': \"This report outlines the safety work carried out prior to releasing\\r\\nOpenAI o1 and o1-mini, including external red teaming and frontier\\r\\nrisk\\r\\nevaluation\\xa0\\u200c\\xa0\\u200c\\xa0\\u200c\\xa0\\u200c\\xa0\\u200c\\xa0\\u200c\\xa0\\u200c\\xa0\\u200c\\xa0\\u200c\\xa0\\u200c\\xa0\\u200c\\xa0\\u200c\\xa0\\u200c\\xa0\\u200c\\xa0\\u200c\\xa0\\u200c\\xa0\\u200c\\xa0\\u200c\\xa0\\u200c\\xa0\\u200c\\xa0\\u200c\\xa0\\u200c\\xa0\\u200c\\xa0\\u200c\\xa0\\u200c\\xa0\\u200c\\xa0\\xa0\\u200c\\xa0\\u200c\\xa0\\u200c\\xa0\\u200c\\xa0\\u200c\\xa0\\u200c\\xa0\\u200c\\xa0\\u200c\\xa0\\u200c\\xa0\\u200c\\xa0\\u200c\\xa0\\u200c\\xa0\\u200c\\xa0\\u200c\\xa0\\u200c\\xa0\\u200c\\xa0\\u200c\\xa0\\u200c\\xa0\\u200c\\xa0\\u200c\\xa0\\u200c\\xa0\\u200c\\xa0\\u200c\\xa0\\u200c\\xa0\\u200c\\xa0\\u200c\\xa0\\r\\n\\r\\n\\r\\n Sign Up [1] |Advertise [2]|View Online [3] \\r\\n\\r\\n\\t\\tTLDR \\r\\n\\r\\n\\t\\tTOGETHER WITH [Writer] [4]\\r\\n\\r\\nTLDR AI 2024-12-06\\r\\n\\r\\n THE FASTEST WAY TO BUILD AI APPS (SPONSOR) [4] \\r\\n\\r\\n Writer is excited to introduce Writer AI Studio [4], the fastest way\\r\\nto build AI apps, products, and features. Writer's unique full-stack\\r\\ndesign makes it easy to prototype, deploy, and test AI apps [4] –\\r\\nallowing developers to build with APIs, a drag-and-drop open-source\\r\\nPython framework, or a no-code builder, so you have flexibility to\\r\\nbuild the way you want.\\r\\n\\r\\nWriter comes with a suite of top-ranking LLMs and has built-in RAG for\\r\\neasy integration with your data. Check it out if you're looking to\\r\\nstreamline how you build and integrate AI apps.\\r\\n\\r\\nStart building with Writer AI STUDIO. [4]\\r\\n\\r\\n🚀 \\r\\n\\r\\nHEADLINES & LAUNCHES\\r\\n\\r\\n OPENAI O1 SYSTEM CARD (3 MINUTE READ) [5] \\r\\n\\r\\n This report outlines the safety work carried out prior to releasing\\r\\nOpenAI o1 and o1-mini, including external red teaming and frontier\\r\\nrisk evaluations according to OpenAI's Preparedness Framework. \\r\\n\\r\\n PERPLEXITY EXPANDING IT'S PUBLISHER'S PROGRAM (4 MINUTE READ) [6] \\r\\n\\r\\n Perplexity has added over a dozen international news organizations to\\r\\nits Publishers' Program, offering tools, revenue sharing, and support\\r\\nto strengthen collaboration with global media. \\r\\n\\r\\n DEEPMIND'S GENIE 2 CAN GENERATE INTERACTIVE WORLDS THAT LOOK LIKE\\r\\nVIDEO GAMES (4 MINUTE READ) [7] \\r\\n\\r\\n DeepMind's Genie 2 is an advanced AI model that generates diverse,\\r\\ninteractive 3D worlds from images and text descriptions. The model is\\r\\nparticularly adept at simulating complex elements like physics and NPC\\r\\nbehavior, setting it apart from similar models by maintaining scene\\r\\nconsistency. Positioned as a research tool, Genie 2 is designed for\\r\\nprototyping interactive experiences and evaluating AI agents. \\r\\n\\r\\n🧠 \\r\\n\\r\\nRESEARCH & INNOVATION\\r\\n\\r\\n PALIGEMMA 2 (23 MINUTE READ) [8] \\r\\n\\r\\n Paligemma 2 is one of the best VLMs on the market today. It uses\\r\\nSigLIP and Gemma. \\r\\n\\r\\n LAND COVER MAPPING WITH ASANET (29 MINUTE READ) [9] \\r\\n\\r\\n The Asymmetric Semantic Aligning Network (ASANet) improves land cover\\r\\nclassification using both SAR and RGB images. \\r\\n\\r\\n FASTER MULTI-MODAL MODELS WITH TOKEN MERGING (14 MINUTE READ) [10] \\r\\n\\r\\n Researchers have developed a training-free method to make multi-modal\\r\\nlanguage models (LLMs) more efficient without sacrificing much\\r\\nperformance. Their approach reduces computational demands by up to 7\\r\\ntimes by smartly merging and pruning visual data tokens. \\r\\n\\r\\n🧑\\u200d💻 \\r\\n\\r\\nENGINEERING & RESOURCES\\r\\n\\r\\n RETHINKING CHANGE MANAGEMENT IN THE AGE OF AI (SPONSOR) [11] \\r\\n\\r\\n With the rise of AI and evolving customer expectations, businesses\\r\\nhave to move beyond temporary fixes and adopt a culture of continuous\\r\\ntransformation. Get the guide by Camunda [11] to find out how to align\\r\\nstakeholders, leverage technology and data, and embed a mindset of\\r\\ncontinuous change. Read the guide [11] \\r\\n\\r\\n GRAPHCAST (GITHUB REPO) [12] \\r\\n\\r\\n DeepMind has open sourced its GraphCast algorithm, which is\\r\\nsubstantially better and faster at localized weather prediction at 36\\r\\nhours. It also runs in a fraction of the time. \\r\\n\\r\\n CREATING OPTICAL ILLUSIONS (GITHUB REPO) [13] \\r\\n\\r\\n This project advances visual anagram generation - images that change\\r\\nappearance when flipped or rotated - by refining how diffusion models\\r\\nhandle multiple viewpoints. \\r\\n\\r\\n 3D SCENE COMPLETION FOR AUTONOMOUS VEHICLES (GITHUB REPO) [14] \\r\\n\\r\\n ScoreLiDAR is a new method that speeds up 3D LiDAR scene completion\\r\\nfor autonomous vehicles. \\r\\n\\r\\n🎁 \\r\\n\\r\\nMISCELLANEOUS\\r\\n\\r\\n NEW FISH AUDIO MODEL (3 MINUTE READ) [15] \\r\\n\\r\\n The newest Fish Audio 1.5 is currently #2 on Text To Speech\\r\\nLeaderboards behind ElevenLabs. It supports voice cloning and is fast\\r\\nto run, although the output quality seems hit or miss. \\r\\n\\r\\n OPENAI PARTNERS WITH ANDURIL (5 MINUTE READ) [16] \\r\\n\\r\\n OpenAI and defense company Anduril have partnered to create a\\r\\nnational security-based AI. \\r\\n\\r\\n KEY LEADERS BEHIND GOOGLE'S VIRAL NOTEBOOKLM ARE LEAVING TO CREATE\\r\\nTHEIR OWN STARTUP (2 MINUTE READ) [17] \\r\\n\\r\\n Three key Google NotebookLM members have left to start a new stealth\\r\\nAI venture. The startup aims to leverage the latest AI models to\\r\\ncreate consumer-facing, user-first AI products. It remains in its\\r\\nearly stages without a clear focus or announced funding. \\r\\n\\r\\n⚡ \\r\\n\\r\\nQUICK LINKS\\r\\n\\r\\n HOW CITI, RIPJAR, AND CLOUDFACTORY ARE USING AI IRL (SPONSOR) [18] \\r\\n\\r\\n AI in the real world isn't just ChatGPT. It's building robust systems\\r\\nwith firm guardrails and solving practical challenges around\\r\\ninference, data, and models. Watch the recorded presentation from\\r\\nAI_IRL London. [18] \\r\\n\\r\\n DEEPTHOUGHT 8B REASONING MODEL (HUGGING FACE HUB) [19] \\r\\n\\r\\n Ruliad has released a small reasoning model that takes extra time to\\r\\nthink through problems. \\r\\n\\r\\n GUI AGENTS (2 MINUTE READ) [20] \\r\\n\\r\\n A collection of research papers and projects on large language\\r\\nmodel-brained GUI agents. \\r\\n\\r\\n SAM ALTMAN SAYS ARTIFICIAL GENERAL INTELLIGENCE IS ON THE HORIZON (1\\r\\nMINUTE READ) [21] \\r\\n\\r\\n Sam Altman, CEO of OpenAI, stated at the DealBook Summit that\\r\\nArtificial General Intelligence might impact everyday life less\\r\\nsignificantly than expected. \\r\\n\\r\\nWant to advertise in TLDR? 📰\\r\\n\\r\\n If your company is interested in reaching an audience of AI\\r\\nprofessionals and decision makers, you may want to ADVERTISE WITH US\\r\\n[22]. \\r\\n\\r\\n If you have any comments or feedback, just respond to this email! \\r\\n\\r\\nThanks for reading, \\r\\nAndrew Tan & Andrew Carr \\r\\n\\r\\nIf you don't want to receive future editions of TLDR AI, please\\r\\nunsubscribe from TLDR AI [23] or manage all of your TLDR newsletter\\r\\nsubscriptions [24]. \\r\\n\\r\\n \\r\\n\\r\\nLinks:\\r\\n------\\r\\n[1] https://tldr.tech/ai?utm_source=tldrai\\r\\n[2] https://advertise.tldr.tech/?utm_source=tldrai&utm_medium=newsletter&utm_campaign=advertisetopnav\\r\\n[3] https://a.tldrnewsletter.com/web-version?ep=1&lc=57aff87c-ae02-11ef-9074-4b7e3c69f0c6&p=68d03084-b3c7-11ef-928d-09d27092d252&pt=campaign&t=1733494584&s=a94ebb372672f7844f8d11fcad3029c68791b13faf831d296ca3c8f639256320\\r\\n[4] https://writer.com/product/ai-studio/?utm_source=tldr&utm_medium=newsletter&utm_campaign=ai_studio\\r\\n[5] https://links.tldrnewsletter.com/xS4pwo\\r\\n[6] https://links.tldrnewsletter.com/UUkpwY\\r\\n[7] https://techcrunch.com/2024/12/04/deepminds-genie-2-can-generate-interactive-worlds-that-look-like-video-games/?utm_source=tldrai\\r\\n[8] https://arxiv.org/abs/2412.03555?utm_source=tldrai\\r\\n[9] https://arxiv.org/abs/2412.02044v1?utm_source=tldrai\\r\\n[10] https://arxiv.org/abs/2412.03248v1?utm_source=tldrai\\r\\n[11] https://page.camunda.com/wp-rethinking-change-management?utm_medium=paid_leadgen&utm_source=tldr&utm_campaign=Guide.RethinkingChangeManagement.24Q4.EN&utm_content=Q4program\\r\\n[12] https://github.com/google-deepmind/graphcast?utm_source=tldrai\\r\\n[13] https://github.com/pixtella/anagram-mtl?utm_source=tldrai\\r\\n[14] https://github.com/happyw1nd/scorelidar?utm_source=tldrai\\r\\n[15] https://threadreaderapp.com/thread/1864370933496205728.html?utm_source=tldrai\\r\\n[16] https://www.cnbc.com/2024/12/04/openai-partners-with-defense-company-anduril.html?utm_source=tldrai\\r\\n[17] https://techcrunch.com/2024/12/04/key-leaders-behind-googles-viral-notebooklm-are-leaving-to-create-their-own-startup/?utm_source=tldrai\\r\\n[18] https://www.cloudfactory.com/webinar/ai-irl?utm_campaign=Core_AP_EG&utm_source=tldr&utm_medium=mediapartner&utm_content=email_quicklinks\\r\\n[19] https://huggingface.co/ruliad/deepthought-8b-llama-v0.01-alpha?utm_source=tldrai\\r\\n[20] https://vyokky.github.io/LLM-Brained-GUI-Agents-Survey/?utm_source=tldrai\\r\\n[21] https://www.nytimes.com/video/business/100000009858580/sam-altman-openai-dealbook.html?utm_source=tldrai\\r\\n[22] https://advertise.tldr.tech/?utm_source=tldrai&utm_medium=newsletter&utm_campaign=advertisecta\\r\\n[23] https://a.tldrnewsletter.com/unsubscribe?ep=1&l=eedf6b14-3de3-11ed-9a32-0241b9615763&lc=57aff87c-ae02-11ef-9074-4b7e3c69f0c6&p=68d03084-b3c7-11ef-928d-09d27092d252&pt=campaign&pv=4&spa=1733493669&t=1733494584&s=ea38715a39323501a5e9b28f17e7c39f0df3e5d14a1e4155a2a433bd6fecc396\\r\\n[24] https://tldr.tech/ai/manage?email=automatic.newsletters%40gmail.com\"}\n"
     ]
    }
   ],
   "source": [
    "print(emails[0])"
   ]
  },
  {
   "cell_type": "code",
   "execution_count": 6,
   "id": "307c5c9b-b998-49d7-9d07-e626f16174c6",
   "metadata": {
    "execution": {
     "iopub.execute_input": "2024-12-18T03:57:23.518900Z",
     "iopub.status.busy": "2024-12-18T03:57:23.518363Z",
     "iopub.status.idle": "2024-12-18T03:57:26.538013Z",
     "shell.execute_reply": "2024-12-18T03:57:26.537032Z",
     "shell.execute_reply.started": "2024-12-18T03:57:23.518837Z"
    }
   },
   "outputs": [],
   "source": [
    "news_sources = tldr_parser(emails[0])"
   ]
  },
  {
   "cell_type": "code",
   "execution_count": 7,
   "id": "71e839c4-5710-4f8b-86f0-910533d57a28",
   "metadata": {
    "execution": {
     "iopub.execute_input": "2024-12-18T03:57:26.543033Z",
     "iopub.status.busy": "2024-12-18T03:57:26.542764Z",
     "iopub.status.idle": "2024-12-18T03:57:26.553985Z",
     "shell.execute_reply": "2024-12-18T03:57:26.552249Z",
     "shell.execute_reply.started": "2024-12-18T03:57:26.543011Z"
    }
   },
   "outputs": [
    {
     "data": {
      "text/plain": [
       "[{'title': 'OPENAI O1 SYSTEM CARD',\n",
       "  'url': 'https://openai.com/index/openai-o1-system-card/',\n",
       "  'source_of_the_news': 'TLDR AI <dan@tldrnewsletter.com>',\n",
       "  'news_summary': \"This report outlines the safety work carried out prior to releasing OpenAI o1 and o1-mini, including external red teaming and frontier risk evaluations according to OpenAI's Preparedness Framework.\",\n",
       "  'date_source': 'Fri, 6 Dec 2024 14:16:24 +0000',\n",
       "  'new_provider': 'openai.com'},\n",
       " {'title': \"PERPLEXITY EXPANDING IT'S PUBLISHER'S PROGRAM\",\n",
       "  'url': 'https://www.perplexity.ai/hub/blog/perplexity-expands-publisher-program-with-15-new-media-partners',\n",
       "  'source_of_the_news': 'TLDR AI <dan@tldrnewsletter.com>',\n",
       "  'news_summary': \"Perplexity has added over a dozen international news organizations to its Publishers' Program, offering tools, revenue sharing, and support to strengthen collaboration with global media.\",\n",
       "  'date_source': 'Fri, 6 Dec 2024 14:16:24 +0000',\n",
       "  'new_provider': 'www.perplexity.ai'},\n",
       " {'title': \"DEEPMIND'S GENIE 2 CAN GENERATE INTERACTIVE WORLDS THAT LOOK LIKE\\r\\nVIDEO GAMES\",\n",
       "  'url': 'https://techcrunch.com/2024/12/04/deepminds-genie-2-can-generate-interactive-worlds-that-look-like-video-games/',\n",
       "  'source_of_the_news': 'TLDR AI <dan@tldrnewsletter.com>',\n",
       "  'news_summary': \"DeepMind's Genie 2 is an advanced AI model that generates diverse, interactive 3D worlds from images and text descriptions. The model is particularly adept at simulating complex elements like physics and NPC behavior, setting it apart from similar models by maintaining scene consistency. Positioned as a research tool, Genie 2 is designed for prototyping interactive experiences and evaluating AI agents.\",\n",
       "  'date_source': 'Fri, 6 Dec 2024 14:16:24 +0000',\n",
       "  'new_provider': 'techcrunch.com'},\n",
       " {'title': 'PALIGEMMA 2',\n",
       "  'url': 'https://arxiv.org/abs/2412.03555',\n",
       "  'source_of_the_news': 'TLDR AI <dan@tldrnewsletter.com>',\n",
       "  'news_summary': 'Paligemma 2 is one of the best VLMs on the market today. It uses SigLIP and Gemma.',\n",
       "  'date_source': 'Fri, 6 Dec 2024 14:16:24 +0000',\n",
       "  'new_provider': 'arxiv.org'},\n",
       " {'title': 'LAND COVER MAPPING WITH ASANET',\n",
       "  'url': 'https://arxiv.org/abs/2412.02044v1',\n",
       "  'source_of_the_news': 'TLDR AI <dan@tldrnewsletter.com>',\n",
       "  'news_summary': 'The Asymmetric Semantic Aligning Network (ASANet) improves land cover classification using both SAR and RGB images.',\n",
       "  'date_source': 'Fri, 6 Dec 2024 14:16:24 +0000',\n",
       "  'new_provider': 'arxiv.org'},\n",
       " {'title': 'FASTER MULTI-MODAL MODELS WITH TOKEN MERGING',\n",
       "  'url': 'https://arxiv.org/abs/2412.03248v1',\n",
       "  'source_of_the_news': 'TLDR AI <dan@tldrnewsletter.com>',\n",
       "  'news_summary': 'Researchers have developed a training-free method to make multi-modal language models (LLMs) more efficient without sacrificing much performance. Their approach reduces computational demands by up to 7 times by smartly merging and pruning visual data tokens.',\n",
       "  'date_source': 'Fri, 6 Dec 2024 14:16:24 +0000',\n",
       "  'new_provider': 'arxiv.org'},\n",
       " {'title': 'NEW FISH AUDIO MODEL',\n",
       "  'url': 'https://threadreaderapp.com/thread/1864370933496205728.html',\n",
       "  'source_of_the_news': 'TLDR AI <dan@tldrnewsletter.com>',\n",
       "  'news_summary': 'The newest Fish Audio 1.5 is currently #2 on Text To Speech Leaderboards behind ElevenLabs. It supports voice cloning and is fast to run, although the output quality seems hit or miss.',\n",
       "  'date_source': 'Fri, 6 Dec 2024 14:16:24 +0000',\n",
       "  'new_provider': 'threadreaderapp.com'},\n",
       " {'title': 'OPENAI PARTNERS WITH ANDURIL',\n",
       "  'url': 'https://www.cnbc.com/2024/12/04/openai-partners-with-defense-company-anduril.html',\n",
       "  'source_of_the_news': 'TLDR AI <dan@tldrnewsletter.com>',\n",
       "  'news_summary': 'OpenAI and defense company Anduril have partnered to create a national security-based AI.',\n",
       "  'date_source': 'Fri, 6 Dec 2024 14:16:24 +0000',\n",
       "  'new_provider': 'www.cnbc.com'},\n",
       " {'title': \"KEY LEADERS BEHIND GOOGLE'S VIRAL NOTEBOOKLM ARE LEAVING TO CREATE\\r\\nTHEIR OWN STARTUP\",\n",
       "  'url': 'https://techcrunch.com/2024/12/04/key-leaders-behind-googles-viral-notebooklm-are-leaving-to-create-their-own-startup/',\n",
       "  'source_of_the_news': 'TLDR AI <dan@tldrnewsletter.com>',\n",
       "  'news_summary': 'Three key Google NotebookLM members have left to start a new stealth AI venture. The startup aims to leverage the latest AI models to create consumer-facing, user-first AI products. It remains in its early stages without a clear focus or announced funding.',\n",
       "  'date_source': 'Fri, 6 Dec 2024 14:16:24 +0000',\n",
       "  'new_provider': 'techcrunch.com'},\n",
       " {'title': 'GUI AGENTS',\n",
       "  'url': 'https://vyokky.github.io/LLM-Brained-GUI-Agents-Survey/',\n",
       "  'source_of_the_news': 'TLDR AI <dan@tldrnewsletter.com>',\n",
       "  'news_summary': 'A collection of research papers and projects on large language model-brained GUI agents.',\n",
       "  'date_source': 'Fri, 6 Dec 2024 14:16:24 +0000',\n",
       "  'new_provider': 'vyokky.github.io'},\n",
       " {'title': 'SAM ALTMAN SAYS ARTIFICIAL GENERAL INTELLIGENCE IS ON THE HORIZON',\n",
       "  'url': 'https://www.nytimes.com/video/business/100000009858580/sam-altman-openai-dealbook.html',\n",
       "  'source_of_the_news': 'TLDR AI <dan@tldrnewsletter.com>',\n",
       "  'news_summary': 'Sam Altman, CEO of OpenAI, stated at the DealBook Summit that Artificial General Intelligence might impact everyday life less significantly than expected.',\n",
       "  'date_source': 'Fri, 6 Dec 2024 14:16:24 +0000',\n",
       "  'new_provider': 'www.nytimes.com'}]"
      ]
     },
     "execution_count": 7,
     "metadata": {},
     "output_type": "execute_result"
    }
   ],
   "source": [
    "news_sources"
   ]
  },
  {
   "cell_type": "code",
   "execution_count": 8,
   "id": "5d525e49-4da2-45e1-9464-9534da083d2c",
   "metadata": {
    "execution": {
     "iopub.execute_input": "2024-12-18T03:57:26.556760Z",
     "iopub.status.busy": "2024-12-18T03:57:26.556125Z",
     "iopub.status.idle": "2024-12-18T03:57:26.569026Z",
     "shell.execute_reply": "2024-12-18T03:57:26.567518Z",
     "shell.execute_reply.started": "2024-12-18T03:57:26.556731Z"
    }
   },
   "outputs": [
    {
     "data": {
      "text/plain": [
       "['Links:',\n",
       " '------',\n",
       " '[1] https://tldr.tech/ai?utm_source=tldrai',\n",
       " '[2] https://advertise.tldr.tech/?utm_source=tldrai&utm_medium=newsletter&utm_campaign=advertisetopnav',\n",
       " '[3] https://a.tldrnewsletter.com/web-version?ep=1&lc=57aff87c-ae02-11ef-9074-4b7e3c69f0c6&p=68d03084-b3c7-11ef-928d-09d27092d252&pt=campaign&t=1733494584&s=a94ebb372672f7844f8d11fcad3029c68791b13faf831d296ca3c8f639256320',\n",
       " '[4] https://writer.com/product/ai-studio/?utm_source=tldr&utm_medium=newsletter&utm_campaign=ai_studio',\n",
       " '[5] https://links.tldrnewsletter.com/xS4pwo',\n",
       " '[6] https://links.tldrnewsletter.com/UUkpwY',\n",
       " '[7] https://techcrunch.com/2024/12/04/deepminds-genie-2-can-generate-interactive-worlds-that-look-like-video-games/?utm_source=tldrai',\n",
       " '[8] https://arxiv.org/abs/2412.03555?utm_source=tldrai',\n",
       " '[9] https://arxiv.org/abs/2412.02044v1?utm_source=tldrai',\n",
       " '[10] https://arxiv.org/abs/2412.03248v1?utm_source=tldrai',\n",
       " '[11] https://page.camunda.com/wp-rethinking-change-management?utm_medium=paid_leadgen&utm_source=tldr&utm_campaign=Guide.RethinkingChangeManagement.24Q4.EN&utm_content=Q4program',\n",
       " '[12] https://github.com/google-deepmind/graphcast?utm_source=tldrai',\n",
       " '[13] https://github.com/pixtella/anagram-mtl?utm_source=tldrai',\n",
       " '[14] https://github.com/happyw1nd/scorelidar?utm_source=tldrai',\n",
       " '[15] https://threadreaderapp.com/thread/1864370933496205728.html?utm_source=tldrai',\n",
       " '[16] https://www.cnbc.com/2024/12/04/openai-partners-with-defense-company-anduril.html?utm_source=tldrai',\n",
       " '[17] https://techcrunch.com/2024/12/04/key-leaders-behind-googles-viral-notebooklm-are-leaving-to-create-their-own-startup/?utm_source=tldrai',\n",
       " '[18] https://www.cloudfactory.com/webinar/ai-irl?utm_campaign=Core_AP_EG&utm_source=tldr&utm_medium=mediapartner&utm_content=email_quicklinks',\n",
       " '[19] https://huggingface.co/ruliad/deepthought-8b-llama-v0.01-alpha?utm_source=tldrai',\n",
       " '[20] https://vyokky.github.io/LLM-Brained-GUI-Agents-Survey/?utm_source=tldrai',\n",
       " '[21] https://www.nytimes.com/video/business/100000009858580/sam-altman-openai-dealbook.html?utm_source=tldrai',\n",
       " '[22] https://advertise.tldr.tech/?utm_source=tldrai&utm_medium=newsletter&utm_campaign=advertisecta',\n",
       " '[23] https://a.tldrnewsletter.com/unsubscribe?ep=1&l=eedf6b14-3de3-11ed-9a32-0241b9615763&lc=57aff87c-ae02-11ef-9074-4b7e3c69f0c6&p=68d03084-b3c7-11ef-928d-09d27092d252&pt=campaign&pv=4&spa=1733493669&t=1733494584&s=ea38715a39323501a5e9b28f17e7c39f0df3e5d14a1e4155a2a433bd6fecc396',\n",
       " '[24] https://tldr.tech/ai/manage?email=automatic.newsletters%40gmail.com']"
      ]
     },
     "execution_count": 8,
     "metadata": {},
     "output_type": "execute_result"
    }
   ],
   "source": [
    "links = emails[0]['text'].split(\"\\r\\n\\r\\n\")[-1].split('\\r\\n')\n",
    "links"
   ]
  },
  {
   "cell_type": "code",
   "execution_count": 14,
   "id": "080e2f7e-682d-4d52-9777-b78f90bc6dbf",
   "metadata": {
    "execution": {
     "iopub.execute_input": "2024-12-18T04:10:17.868124Z",
     "iopub.status.busy": "2024-12-18T04:10:17.867091Z",
     "iopub.status.idle": "2024-12-18T04:10:17.883057Z",
     "shell.execute_reply": "2024-12-18T04:10:17.881271Z",
     "shell.execute_reply.started": "2024-12-18T04:10:17.868092Z"
    }
   },
   "outputs": [
    {
     "data": {
      "text/plain": [
       "True"
      ]
     },
     "execution_count": 14,
     "metadata": {},
     "output_type": "execute_result"
    }
   ],
   "source": [
    "\"tldr\" in links[6]"
   ]
  },
  {
   "cell_type": "code",
   "execution_count": 9,
   "id": "5d795687-19b3-476c-bd8a-545f6079d5ff",
   "metadata": {
    "execution": {
     "iopub.execute_input": "2024-12-18T03:57:26.571641Z",
     "iopub.status.busy": "2024-12-18T03:57:26.571060Z",
     "iopub.status.idle": "2024-12-18T03:57:26.591964Z",
     "shell.execute_reply": "2024-12-18T03:57:26.589583Z",
     "shell.execute_reply.started": "2024-12-18T03:57:26.571606Z"
    }
   },
   "outputs": [
    {
     "data": {
      "text/plain": [
       "['[9', 'https://arxiv.org/abs/2412.02044v1?utm_source=tldrai']"
      ]
     },
     "execution_count": 9,
     "metadata": {},
     "output_type": "execute_result"
    }
   ],
   "source": [
    "links[10].split('] ')"
   ]
  },
  {
   "cell_type": "code",
   "execution_count": 10,
   "id": "dcaa5ebe-e59f-4538-b4d4-7245bc06d41c",
   "metadata": {
    "execution": {
     "iopub.execute_input": "2024-12-18T03:58:17.160985Z",
     "iopub.status.busy": "2024-12-18T03:58:17.159327Z",
     "iopub.status.idle": "2024-12-18T03:58:17.170409Z",
     "shell.execute_reply": "2024-12-18T03:58:17.168798Z",
     "shell.execute_reply.started": "2024-12-18T03:58:17.160949Z"
    }
   },
   "outputs": [
    {
     "data": {
      "text/plain": [
       "(str, 'https://openai.com/index/openai-o1-system-card/')"
      ]
     },
     "execution_count": 10,
     "metadata": {},
     "output_type": "execute_result"
    }
   ],
   "source": [
    "type(news_sources[0]['url']), news_sources[0]['url']"
   ]
  },
  {
   "cell_type": "code",
   "execution_count": null,
   "id": "28bb4e07-652d-45d2-978b-97d4d61a6f9c",
   "metadata": {},
   "outputs": [],
   "source": []
  }
 ],
 "metadata": {
  "kernelspec": {
   "display_name": "Python 3 (ipykernel)",
   "language": "python",
   "name": "python3"
  },
  "language_info": {
   "codemirror_mode": {
    "name": "ipython",
    "version": 3
   },
   "file_extension": ".py",
   "mimetype": "text/x-python",
   "name": "python",
   "nbconvert_exporter": "python",
   "pygments_lexer": "ipython3",
   "version": "3.11.9"
  }
 },
 "nbformat": 4,
 "nbformat_minor": 5
}
