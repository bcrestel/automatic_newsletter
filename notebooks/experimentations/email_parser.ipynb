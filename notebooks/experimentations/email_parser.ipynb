{
 "cells": [
  {
   "cell_type": "code",
   "execution_count": 4,
   "id": "7a70f2a9-719c-45a8-9df9-043eb3cf9cb3",
   "metadata": {
    "execution": {
     "iopub.execute_input": "2024-12-04T04:25:15.213954Z",
     "iopub.status.busy": "2024-12-04T04:25:15.212045Z",
     "iopub.status.idle": "2024-12-04T04:25:15.226057Z",
     "shell.execute_reply": "2024-12-04T04:25:15.222971Z",
     "shell.execute_reply.started": "2024-12-04T04:25:15.213827Z"
    }
   },
   "outputs": [],
   "source": [
    "from src.newsletters.gmail import Gmail\n",
    "from src.newsletters.config import NEWSLETTER_AND_PARSER"
   ]
  },
  {
   "cell_type": "code",
   "execution_count": 9,
   "id": "d6024b25-c28e-480f-8297-0c6f43361e99",
   "metadata": {
    "execution": {
     "iopub.execute_input": "2024-12-04T04:25:38.160676Z",
     "iopub.status.busy": "2024-12-04T04:25:38.160033Z",
     "iopub.status.idle": "2024-12-04T04:25:38.172543Z",
     "shell.execute_reply": "2024-12-04T04:25:38.171029Z",
     "shell.execute_reply.started": "2024-12-04T04:25:38.160645Z"
    }
   },
   "outputs": [
    {
     "data": {
      "text/plain": [
       "dict_keys(['TLDR AI <dan@tldrnewsletter.com>'])"
      ]
     },
     "execution_count": 9,
     "metadata": {},
     "output_type": "execute_result"
    }
   ],
   "source": [
    "NEWSLETTER_AND_PARSER.keys()"
   ]
  },
  {
   "cell_type": "code",
   "execution_count": 5,
   "id": "93ef2c90-9422-44da-840d-f51dc7522f28",
   "metadata": {
    "execution": {
     "iopub.execute_input": "2024-12-04T04:25:17.450041Z",
     "iopub.status.busy": "2024-12-04T04:25:17.449044Z",
     "iopub.status.idle": "2024-12-04T04:25:17.463391Z",
     "shell.execute_reply": "2024-12-04T04:25:17.461859Z",
     "shell.execute_reply.started": "2024-12-04T04:25:17.450013Z"
    }
   },
   "outputs": [],
   "source": [
    "gmail = Gmail()"
   ]
  },
  {
   "cell_type": "code",
   "execution_count": 10,
   "id": "4dd4c716-ed21-4261-9701-b5149468e47b",
   "metadata": {
    "execution": {
     "iopub.execute_input": "2024-12-04T04:25:48.942984Z",
     "iopub.status.busy": "2024-12-04T04:25:48.941935Z",
     "iopub.status.idle": "2024-12-04T04:25:50.651265Z",
     "shell.execute_reply": "2024-12-04T04:25:50.650006Z",
     "shell.execute_reply.started": "2024-12-04T04:25:48.942946Z"
    }
   },
   "outputs": [],
   "source": [
    "emails = gmail.fetch_emails(sender='TLDR AI <dan@tldrnewsletter.com>')"
   ]
  },
  {
   "cell_type": "code",
   "execution_count": 12,
   "id": "307c5c9b-b998-49d7-9d07-e626f16174c6",
   "metadata": {
    "execution": {
     "iopub.execute_input": "2024-12-04T04:25:59.674671Z",
     "iopub.status.busy": "2024-12-04T04:25:59.674056Z",
     "iopub.status.idle": "2024-12-04T04:25:59.685273Z",
     "shell.execute_reply": "2024-12-04T04:25:59.682180Z",
     "shell.execute_reply.started": "2024-12-04T04:25:59.674637Z"
    }
   },
   "outputs": [
    {
     "data": {
      "text/plain": [
       "3"
      ]
     },
     "execution_count": 12,
     "metadata": {},
     "output_type": "execute_result"
    }
   ],
   "source": [
    "len(emails)"
   ]
  },
  {
   "cell_type": "code",
   "execution_count": 13,
   "id": "ff90e13c-4bb8-4a2a-ab8f-501dff593112",
   "metadata": {
    "execution": {
     "iopub.execute_input": "2024-12-04T04:26:11.181887Z",
     "iopub.status.busy": "2024-12-04T04:26:11.181484Z",
     "iopub.status.idle": "2024-12-04T04:26:11.189420Z",
     "shell.execute_reply": "2024-12-04T04:26:11.187907Z",
     "shell.execute_reply.started": "2024-12-04T04:26:11.181859Z"
    }
   },
   "outputs": [],
   "source": [
    "email = emails[0]"
   ]
  },
  {
   "cell_type": "code",
   "execution_count": 14,
   "id": "9ce30927-0068-43c4-9b39-8ff784291944",
   "metadata": {
    "execution": {
     "iopub.execute_input": "2024-12-04T04:26:15.261257Z",
     "iopub.status.busy": "2024-12-04T04:26:15.260149Z",
     "iopub.status.idle": "2024-12-04T04:26:15.300826Z",
     "shell.execute_reply": "2024-12-04T04:26:15.295862Z",
     "shell.execute_reply.started": "2024-12-04T04:26:15.261207Z"
    }
   },
   "outputs": [
    {
     "data": {
      "text/plain": [
       "dict_keys(['sender', 'subject', 'date_utc', 'id', 'text'])"
      ]
     },
     "execution_count": 14,
     "metadata": {},
     "output_type": "execute_result"
    }
   ],
   "source": [
    "email.keys()"
   ]
  },
  {
   "cell_type": "code",
   "execution_count": 56,
   "id": "a18fd710-0e1f-40b6-924a-d470d79f2ced",
   "metadata": {
    "execution": {
     "iopub.execute_input": "2024-12-04T05:24:49.714516Z",
     "iopub.status.busy": "2024-12-04T05:24:49.714200Z",
     "iopub.status.idle": "2024-12-04T05:24:49.720156Z",
     "shell.execute_reply": "2024-12-04T05:24:49.718528Z",
     "shell.execute_reply.started": "2024-12-04T05:24:49.714492Z"
    }
   },
   "outputs": [],
   "source": [
    "import re"
   ]
  },
  {
   "cell_type": "code",
   "execution_count": 57,
   "id": "e35d48c0-c71a-4c1a-b58f-eb0d26ebdb5b",
   "metadata": {
    "execution": {
     "iopub.execute_input": "2024-12-04T05:24:50.560058Z",
     "iopub.status.busy": "2024-12-04T05:24:50.559479Z",
     "iopub.status.idle": "2024-12-04T05:24:50.573165Z",
     "shell.execute_reply": "2024-12-04T05:24:50.570165Z",
     "shell.execute_reply.started": "2024-12-04T05:24:50.559981Z"
    }
   },
   "outputs": [
    {
     "name": "stdout",
     "output_type": "stream",
     "text": [
      " ADS MIGHT BE COMING TO CHATGPT (1 MINUTE READ) [6] \n",
      " OpenAI is considering an advertising business model to help support\n",
      "its costly AI tool development. Despite no current active plans for\n",
      "ads, the idea remains on the table as a potential revenue source. CEO\n",
      "Sam Altman considers ads a last resort and has expressed discomfort at\n",
      "the possibility of combining ads and AI. \n",
      " THE RACE IS ON TO MAKE AI AGENTS DO YOUR ONLINE SHOPPING FOR YOU (8\n",
      "MINUTE READ) [7] \n",
      " Tech companies are developing AI shopping agents to automate online\n",
      "purchases, potentially reshaping the retail industry. Perplexity's\n",
      "current model faces operational challenges. Companies like OpenAI,\n",
      "Google, and Amazon are also exploring AI purchasing capabilities.\n",
      "These developments aim to streamline shopping but raise questions\n",
      "about privacy, retailer interactions, and the evolving online shopping\n",
      "experience. \n",
      " SALESFORCE CEO MARC BENIOFF HAS THOUGHTS ON AI AGENTS, AUTOMATION,\n",
      "AND THE FUTURE OF YOUR JOB (28 MINUTE READ) [8] \n",
      " Salesforce CEO Marc Benioff envisions companies creating AI agents to\n",
      "handle customer service and sales tasks by leveraging their existing\n",
      "data and policies, positioning Salesforce as the key enabler of this\n",
      "transformation. He argues that AI-driven automation will enhance\n",
      "productivity rather than eliminate jobs, allowing businesses to\n",
      "operate more efficiently and expand without increasing human labor.\n",
      "Benioff highlights this shift as a critical moment in business\n",
      "evolution, providing a competitive edge against rivals and reshaping\n",
      "traditional workflows. \n",
      " DEMO: DECOUPLED MOMENTUM OPTIMIZATION (15 MINUTE READ) [9] \n",
      " 2.5x faster, 100x less communication volume, and written by the\n",
      "original Adam author. This new optimizer boasts impressive performance\n",
      "for language model training with some strong improvements over the\n",
      "current dominant optimization schemes. \n",
      " REWARD HACKING (35 MINUTE READ) [11] \n",
      " Lilian Weng has another great blog post discussing the challenge of\n",
      "Reward Hacking within language model alignment. It is one of the major\n",
      "challenges preventing models from being deployed into production\n",
      "scenarios. \n",
      " OPENAI TARGETS 1BN USERS IN NEXT PHASE OF GROWTH (6 MINUTE READ) [15]\n",
      "\n",
      " OpenAI aims to reach 1 billion users by launching new AI agents,\n",
      "building AI infrastructure, and integrating ChatGPT with Apple\n",
      "devices. The company is investing heavily in AI development and\n",
      "infrastructure to maintain a competitive edge against rivals like\n",
      "Google and Microsoft. OpenAI is navigating political complexities\n",
      "while pushing for US-led AI advancements over China's influence. \n",
      " GOOGLE'S PLAN TO KEEP AI OUT OF SEARCH TRIAL REMEDIES ISN'T GOING\n",
      "VERY WELL (7 MINUTE READ) [17] \n",
      " US District Judge Amit Mehta suggests AI could play a significant\n",
      "role in developing remedies following the government's win in the\n",
      "Google search monopoly trial, potentially affecting Google's AI\n",
      "products. The DOJ has proposed remedies to prevent Google from using\n",
      "AI to maintain its market dominance, including restrictions on\n",
      "exclusive agreements and investments in AI. Microsoft is resisting\n",
      "Google's demands for confidential AI deal details, arguing relevance.\n",
      "OpenAI may be compelled to share data amidst these considerations. \n",
      " UV GUIDE TO PYTORCH (6 MINUTE READ) [20] \n",
      " Documentation on how to use the new package manager UV to install\n",
      "PyTorch. \n",
      " AI COMPANY MISTRAL IS LATEST EUROPEAN STARTUP TO EYE EXPANSION IN\n",
      "SILICON VALLEY (1 MINUTE READ) [21] \n",
      " European AI startup Mistral, known for open-weight LLMs, is expanding\n",
      "to Palo Alto to access Silicon Valley talent and resources. \n",
      " OPENAI GETS NEW $1.5 BILLION INVESTMENT FROM SOFTBANK, ALLOWING\n",
      "EMPLOYEES TO SELL SHARES IN A TENDER OFFER (4 MINUTE READ) [22] \n",
      " OpenAI is allowing employees to sell $1.5 billion worth of shares to\n",
      "SoftBank, reflecting growing investor interest in AI. \n"
     ]
    }
   ],
   "source": [
    "list_text = email['text'].split('\\r\\n\\r\\n')\n",
    "ii = 0\n",
    "pattern = r\"READ\\) \\[\\d+\\]\"\n",
    "while ii < len(list_text):\n",
    "    matches = re.findall(pattern, list_text[ii])\n",
    "    if len(matches) > 0:\n",
    "        print(list_text[ii])\n",
    "        print(list_text[ii+1])\n",
    "        ii = ii + 2\n",
    "    else:\n",
    "        ii = ii + 1"
   ]
  },
  {
   "cell_type": "code",
   "execution_count": 65,
   "id": "155d2388-31ef-4257-b8dc-901188ad5272",
   "metadata": {
    "execution": {
     "iopub.execute_input": "2024-12-04T05:27:05.946024Z",
     "iopub.status.busy": "2024-12-04T05:27:05.944228Z",
     "iopub.status.idle": "2024-12-04T05:27:05.954580Z",
     "shell.execute_reply": "2024-12-04T05:27:05.953710Z",
     "shell.execute_reply.started": "2024-12-04T05:27:05.945986Z"
    }
   },
   "outputs": [
    {
     "data": {
      "text/plain": [
       "[<re.Match object; span=(7233, 7241), match='[1] http'>,\n",
       " <re.Match object; span=(7277, 7285), match='[2] http'>,\n",
       " <re.Match object; span=(7380, 7388), match='[3] http'>,\n",
       " <re.Match object; span=(7602, 7610), match='[4] http'>,\n",
       " <re.Match object; span=(7674, 7682), match='[5] http'>,\n",
       " <re.Match object; span=(7782, 7790), match='[6] http'>,\n",
       " <re.Match object; span=(7906, 7914), match='[7] http'>,\n",
       " <re.Match object; span=(8029, 8037), match='[8] http'>,\n",
       " <re.Match object; span=(8125, 8133), match='[9] http'>,\n",
       " <re.Match object; span=(8181, 8190), match='[10] http'>,\n",
       " <re.Match object; span=(8238, 8247), match='[11] http'>,\n",
       " <re.Match object; span=(8324, 8333), match='[12] http'>,\n",
       " <re.Match object; span=(8489, 8498), match='[13] http'>,\n",
       " <re.Match object; span=(8556, 8565), match='[14] http'>,\n",
       " <re.Match object; span=(8613, 8622), match='[15] http'>,\n",
       " <re.Match object; span=(8659, 8668), match='[16] http'>,\n",
       " <re.Match object; span=(8736, 8745), match='[17] http'>,\n",
       " <re.Match object; span=(8878, 8887), match='[18] http'>,\n",
       " <re.Match object; span=(8929, 8938), match='[19] http'>,\n",
       " <re.Match object; span=(8962, 8971), match='[20] http'>,\n",
       " <re.Match object; span=(9040, 9049), match='[21] http'>,\n",
       " <re.Match object; span=(9188, 9197), match='[22] http'>,\n",
       " <re.Match object; span=(9318, 9327), match='[23] http'>,\n",
       " <re.Match object; span=(9419, 9428), match='[24] http'>,\n",
       " <re.Match object; span=(9701, 9710), match='[25] http'>]"
      ]
     },
     "execution_count": 65,
     "metadata": {},
     "output_type": "execute_result"
    }
   ],
   "source": [
    "links = re.finditer(r\"\\[\\d+\\] http\", email['text'])\n",
    "list(links)"
   ]
  },
  {
   "cell_type": "code",
   "execution_count": 62,
   "id": "54d072bb-6f66-45e1-94e8-48587c5411f7",
   "metadata": {
    "execution": {
     "iopub.execute_input": "2024-12-04T05:25:55.650490Z",
     "iopub.status.busy": "2024-12-04T05:25:55.650129Z",
     "iopub.status.idle": "2024-12-04T05:25:55.661779Z",
     "shell.execute_reply": "2024-12-04T05:25:55.659857Z",
     "shell.execute_reply.started": "2024-12-04T05:25:55.650452Z"
    }
   },
   "outputs": [
    {
     "data": {
      "text/plain": [
       "\"OpenAI is considering an advertising business model to help support\\r\\nits costly AI tool development. CEO Sam Altman considers ads a last\\r\\nresort\\xa0\\u200c\\xa0\\u200c\\xa0\\u200c\\xa0\\u200c\\xa0\\u200c\\xa0\\u200c\\xa0\\u200c\\xa0\\u200c\\xa0\\u200c\\xa0\\u200c\\xa0\\u200c\\xa0\\u200c\\xa0\\u200c\\xa0\\u200c\\xa0\\u200c\\xa0\\u200c\\xa0\\u200c\\xa0\\u200c\\xa0\\u200c\\xa0\\u200c\\xa0\\u200c\\xa0\\u200c\\xa0\\u200c\\xa0\\u200c\\xa0\\u200c\\xa0\\u200c\\xa0\\xa0\\u200c\\xa0\\u200c\\xa0\\u200c\\xa0\\u200c\\xa0\\u200c\\xa0\\u200c\\xa0\\u200c\\xa0\\u200c\\xa0\\u200c\\xa0\\u200c\\xa0\\u200c\\xa0\\u200c\\xa0\\u200c\\xa0\\u200c\\xa0\\u200c\\xa0\\u200c\\xa0\\u200c\\xa0\\u200c\\xa0\\u200c\\xa0\\u200c\\xa0\\u200c\\xa0\\u200c\\xa0\\u200c\\xa0\\u200c\\xa0\\u200c\\xa0\\u200c\\xa0\\r\\n\\r\\n\\r\\n Sign Up [1] |Advertise [2]|View Online [3] \\r\\n\\r\\n\\t\\tTLDR \\r\\n\\r\\n\\t\\tTOGETHER WITH [Augment Code] [4]\\r\\n\\r\\nTLDR AI 2024-12-03\\r\\n\\r\\n AUGMENT CODE: DEVELOPER AI THAT THINKS IN SYSTEMS, NOT CODE SNIPPETS\\r\\n(SPONSOR) [4] \\r\\n\\r\\n Most AI coding copilots spit out generic code with no context of your\\r\\ncomplex codebase. Instead of the productivity boost you want, you get\\r\\nmore spaghetti-untangling work to do.\\r\\n\\r\\nAugment Code [4] — backed by Eric Schmidt and with $270M raised —\\r\\nis different:\\r\\n\\r\\n> Augment is the first developer AI platform that deeply understands\\r\\nentire software systems: components, APIs, and more.\\r\\n\\r\\n> Augment learns from your entire codebase and related dev ecosystem\\r\\n(docs, dependencies)\\r\\n\\r\\n> Augment scales to handle even the largest codebases (10M+ line\\r\\nmonolith? no problem)\\r\\n\\r\\nCustomers like Webflow, Lemonade, and Kong have said that working with\\r\\nAugment is like pairing with a principal engineer on your team, 24/7.\\r\\n\\r\\n>> To see Augment in action, get a free trial [4] or join the upcoming\\r\\nlive demo [5]\\r\\n\\r\\n🚀 \\r\\n\\r\\nHEADLINES & LAUNCHES\\r\\n\\r\\n ADS MIGHT BE COMING TO CHATGPT (1 MINUTE READ) [6] \\r\\n\\r\\n OpenAI is considering an advertising business model to help support\\r\\nits costly AI tool development. Despite no current active plans for\\r\\nads, the idea remains on the table as a potential revenue source. CEO\\r\\nSam Altman considers ads a last resort and has expressed discomfort at\\r\\nthe possibility of combining ads and AI. \\r\\n\\r\\n THE RACE IS ON TO MAKE AI AGENTS DO YOUR ONLINE SHOPPING FOR YOU (8\\r\\nMINUTE READ) [7] \\r\\n\\r\\n Tech companies are developing AI shopping agents to automate online\\r\\npurchases, potentially reshaping the retail industry. Perplexity's\\r\\ncurrent model faces operational challenges. Companies like OpenAI,\\r\\nGoogle, and Amazon are also exploring AI purchasing capabilities.\\r\\nThese developments aim to streamline shopping but raise questions\\r\\nabout privacy, retailer interactions, and the evolving online shopping\\r\\nexperience. \\r\\n\\r\\n SALESFORCE CEO MARC BENIOFF HAS THOUGHTS ON AI AGENTS, AUTOMATION,\\r\\nAND THE FUTURE OF YOUR JOB (28 MINUTE READ) [8] \\r\\n\\r\\n Salesforce CEO Marc Benioff envisions companies creating AI agents to\\r\\nhandle customer service and sales tasks by leveraging their existing\\r\\ndata and policies, positioning Salesforce as the key enabler of this\\r\\ntransformation. He argues that AI-driven automation will enhance\\r\\nproductivity rather than eliminate jobs, allowing businesses to\\r\\noperate more efficiently and expand without increasing human labor.\\r\\nBenioff highlights this shift as a critical moment in business\\r\\nevolution, providing a competitive edge against rivals and reshaping\\r\\ntraditional workflows. \\r\\n\\r\\n🧠 \\r\\n\\r\\nRESEARCH & INNOVATION\\r\\n\\r\\n DEMO: DECOUPLED MOMENTUM OPTIMIZATION (15 MINUTE READ) [9] \\r\\n\\r\\n 2.5x faster, 100x less communication volume, and written by the\\r\\noriginal Adam author. This new optimizer boasts impressive performance\\r\\nfor language model training with some strong improvements over the\\r\\ncurrent dominant optimization schemes. \\r\\n\\r\\n DEMO TRAINING RUN (LIVE DASHBOARD) [10] \\r\\n\\r\\n Nous is training a 15B distributed model using the DeMo optimizer.\\r\\nAll of the training can be followed live at this link. \\r\\n\\r\\n REWARD HACKING (35 MINUTE READ) [11] \\r\\n\\r\\n Lilian Weng has another great blog post discussing the challenge of\\r\\nReward Hacking within language model alignment. It is one of the major\\r\\nchallenges preventing models from being deployed into production\\r\\nscenarios. \\r\\n\\r\\n🧑\\u200d💻 \\r\\n\\r\\nENGINEERING & RESOURCES\\r\\n\\r\\n HOW ENTERPRISES CAN GET PAST THE ‘DIPPING THEIR TOES IN THE WATER'\\r\\nSTAGE WITH GENERATIVE AI (SPONSOR) [12] \\r\\n\\r\\n Too many GenAI implementations are stuck in the pilot / experiment /\\r\\nslide deck stage. Use this proven step-by-step\\xa0_Generative AI\\r\\nImplementation Guide_ [12] and roadmap to help you go from an\\r\\nexperimental start to a successful launch. Download the guide from\\r\\nKore.ai [12] \\r\\n\\r\\n FINE-TUNE MODELS WITH LORA-SB (GITHUB REPO) [13] \\r\\n\\r\\n LoRA-SB is a new method that brings full fine-tuning performance to\\r\\nlow-rank adapters for large language models. \\r\\n\\r\\n MAKING AI DATASETS MORE DIVERSE (GITHUB REPO) [14] \\r\\n\\r\\n Researchers introduced a new method called Diversity-driven EarlyLate\\r\\nTraining (DELT) to improve dataset distillation for large-scale tasks.\\r\\n\\r\\n\\r\\n🎁 \\r\\n\\r\\nMISCELLANEOUS\\r\\n\\r\\n OPENAI TARGETS 1BN USERS IN NEXT PHASE OF GROWTH (6 MINUTE READ) [15]\\r\\n\\r\\n\\r\\n OpenAI aims to reach 1 billion users by launching new AI agents,\\r\\nbuilding AI infrastructure, and integrating ChatGPT with Apple\\r\\ndevices. The company is investing heavily in AI development and\\r\\ninfrastructure to maintain a competitive edge against rivals like\\r\\nGoogle and Microsoft. OpenAI is navigating political complexities\\r\\nwhile pushing for US-led AI advancements over China's influence. \\r\\n\\r\\n CREATE JSONL DATASET FROM API CHAT LOGS (GITHUB REPO) [16] \\r\\n\\r\\n A nice simple utility that allows you to create a JSONL dataset based\\r\\non the messages sent back and forth between user and API. \\r\\n\\r\\n GOOGLE'S PLAN TO KEEP AI OUT OF SEARCH TRIAL REMEDIES ISN'T GOING\\r\\nVERY WELL (7 MINUTE READ) [17] \\r\\n\\r\\n US District Judge Amit Mehta suggests AI could play a significant\\r\\nrole in developing remedies following the government's win in the\\r\\nGoogle search monopoly trial, potentially affecting Google's AI\\r\\nproducts. The DOJ has proposed remedies to prevent Google from using\\r\\nAI to maintain its market dominance, including restrictions on\\r\\nexclusive agreements and investments in AI. Microsoft is resisting\\r\\nGoogle's demands for confidential AI deal details, arguing relevance.\\r\\nOpenAI may be compelled to share data amidst these considerations. \\r\\n\\r\\n⚡ \\r\\n\\r\\nQUICK LINKS\\r\\n\\r\\n ML AT JANE STREET: CAN YOU CRACK THE PUZZLE AT NEURIPS? (SPONSOR)\\r\\n[18] \\r\\n\\r\\n If you're at NeurIPS in Vancouver next week (Dec 10-15), stop by the\\r\\nJane Street booth. It's a giant interactive puzzle - crack it to win\\r\\nswag! Learn more about ML at Jane Street [19] \\r\\n\\r\\n UV GUIDE TO PYTORCH (6 MINUTE READ) [20] \\r\\n\\r\\n Documentation on how to use the new package manager UV to install\\r\\nPyTorch. \\r\\n\\r\\n AI COMPANY MISTRAL IS LATEST EUROPEAN STARTUP TO EYE EXPANSION IN\\r\\nSILICON VALLEY (1 MINUTE READ) [21] \\r\\n\\r\\n European AI startup Mistral, known for open-weight LLMs, is expanding\\r\\nto Palo Alto to access Silicon Valley talent and resources. \\r\\n\\r\\n OPENAI GETS NEW $1.5 BILLION INVESTMENT FROM SOFTBANK, ALLOWING\\r\\nEMPLOYEES TO SELL SHARES IN A TENDER OFFER (4 MINUTE READ) [22] \\r\\n\\r\\n OpenAI is allowing employees to sell $1.5 billion worth of shares to\\r\\nSoftBank, reflecting growing investor interest in AI. \\r\\n\\r\\nWant to advertise in TLDR? 📰\\r\\n\\r\\n If your company is interested in reaching an audience of AI\\r\\nprofessionals and decision makers, you may want to ADVERTISE WITH US\\r\\n[23]. \\r\\n\\r\\n If you have any comments or feedback, just respond to this email! \\r\\n\\r\\nThanks for reading, \\r\\nAndrew Tan & Andrew Carr \\r\\n\\r\\nIf you don't want to receive future editions of TLDR AI, please\\r\\nunsubscribe from TLDR AI [24] or manage all of your TLDR newsletter\\r\\nsubscriptions [25]. \\r\\n\\r\\n \\r\\n\\r\\nLinks:\\r\\n------\\r\\n[1] https://tldr.tech/ai?utm_source=tldrai\\r\\n[2] https://advertise.tldr.tech/?utm_source=tldrai&utm_medium=newsletter&utm_campaign=advertisetopnav\\r\\n[3] https://a.tldrnewsletter.com/web-version?ep=1&lc=57aff87c-ae02-11ef-9074-4b7e3c69f0c6&p=b213ab92-b163-11ef-84e0-d5e62a760f16&pt=campaign&t=1733235190&s=60908ac65d69ebe9a4f8f386349fc4b672c9403755cb84a003f02d071846f8ad\\r\\n[4] https://www.augmentcode.com/?utm_source=tldr&utm_medium=newsletter\\r\\n[5] https://get.augmentcode.com/augment-code-in-action-webinar-dec11?utm_source=tldr&utm_medium=newsletter\\r\\n[6] https://techcrunch.com/2024/12/02/ads-might-be-coming-to-chatgpt-despite-sam-altman-not-being-a-fan/?utm_source=tldrai\\r\\n[7] https://techcrunch.com/2024/12/02/the-race-is-on-to-make-ai-agents-do-your-online-shopping-for-you/?utm_source=tldrai\\r\\n[8] https://www.bigtechnology.com/p/salesforce-ceo-marc-benioff-has-thoughts?utm_source=tldrai\\r\\n[9] https://arxiv.org/abs/2411.19870?utm_source=tldrai\\r\\n[10] https://distro.nousresearch.com/?utm_source=tldrai\\r\\n[11] https://lilianweng.github.io/posts/2024-11-28-reward-hacking/?utm_source=tldrai\\r\\n[12] https://info.kore.ai/gale-for-enterprise-tldr-1?utm_source=3rdpartyads&utm_medium=nurture_email&utm_campaign=fy25_galelaunch_na&utm_term=tldr&utm_content=site\\r\\n[13] https://github.com/raghavsinghal10/lora-sb?utm_source=tldrai\\r\\n[14] https://github.com/vila-lab/delt?utm_source=tldrai\\r\\n[15] https://links.tldrnewsletter.com/SMcvfH\\r\\n[16] https://github.com/cognitivecomputations/chat-logger?utm_source=tldrai\\r\\n[17] https://arstechnica.com/tech-policy/2024/11/google-drags-ai-rivals-into-search-trial-as-judge-entertains-ai-remedies/?utm_source=tldrai\\r\\n[18] https://jane-st.co/tldr-ml?utm_source=tldrai\\r\\n[19] https://jane-st.co/tldr-ml\\r\\n[20] https://docs.astral.sh/uv/guides/integration/pytorch/?utm_source=tldrai\\r\\n[21] https://www.semafor.com/article/11/27/2024/ai-company-mistral-is-latest-european-startup-to-eye-expansion-in-silicon-valley?utm_source=tldrai\\r\\n[22] https://www.cnbc.com/2024/11/26/openai-gets-1point5-billion-investment-from-softbank-in-tender-offer.html?utm_source=tldrai\\r\\n[23] https://advertise.tldr.tech/?utm_source=tldrai&utm_medium=newsletter&utm_campaign=advertisecta\\r\\n[24] https://a.tldrnewsletter.com/unsubscribe?ep=1&l=eedf6b14-3de3-11ed-9a32-0241b9615763&lc=57aff87c-ae02-11ef-9074-4b7e3c69f0c6&p=b213ab92-b163-11ef-84e0-d5e62a760f16&pt=campaign&pv=4&spa=1733234488&t=1733235190&s=5f5aa318cbf63f22084efb45dd8e65bfd726118de91533fdb0106737d82770eb\\r\\n[25] https://tldr.tech/ai/manage?email=automatic.newsletters%40gmail.com\""
      ]
     },
     "execution_count": 62,
     "metadata": {},
     "output_type": "execute_result"
    }
   ],
   "source": [
    "email['text']"
   ]
  },
  {
   "cell_type": "code",
   "execution_count": null,
   "id": "5d795687-19b3-476c-bd8a-545f6079d5ff",
   "metadata": {},
   "outputs": [],
   "source": []
  }
 ],
 "metadata": {
  "kernelspec": {
   "display_name": "Python 3 (ipykernel)",
   "language": "python",
   "name": "python3"
  },
  "language_info": {
   "codemirror_mode": {
    "name": "ipython",
    "version": 3
   },
   "file_extension": ".py",
   "mimetype": "text/x-python",
   "name": "python",
   "nbconvert_exporter": "python",
   "pygments_lexer": "ipython3",
   "version": "3.11.9"
  }
 },
 "nbformat": 4,
 "nbformat_minor": 5
}
