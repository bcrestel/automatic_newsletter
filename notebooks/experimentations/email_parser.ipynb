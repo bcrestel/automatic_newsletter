{
 "cells": [
  {
   "cell_type": "code",
   "execution_count": 1,
   "id": "7a70f2a9-719c-45a8-9df9-043eb3cf9cb3",
   "metadata": {
    "execution": {
     "iopub.execute_input": "2025-02-11T05:54:09.666243Z",
     "iopub.status.busy": "2025-02-11T05:54:09.665920Z",
     "iopub.status.idle": "2025-02-11T05:54:11.737644Z",
     "shell.execute_reply": "2025-02-11T05:54:11.736832Z",
     "shell.execute_reply.started": "2025-02-11T05:54:09.666219Z"
    }
   },
   "outputs": [],
   "source": [
    "from src.gmail import Gmail\n",
    "from src.newsletters.config import NEWSLETTER_AND_PARSER\n",
    "from src.newsletters.parser.tldr import tldr_parser\n",
    "from src.newsletters.parser.alpha_signal import alpha_signal_parser\n",
    "from src.newsletters.parser.bloomberg_tech import bloomberg_tech_parser\n",
    "from src.config import SCOPES"
   ]
  },
  {
   "cell_type": "code",
   "execution_count": 2,
   "id": "348555ad-1e0e-4b8e-8e34-e3054add7402",
   "metadata": {
    "execution": {
     "iopub.execute_input": "2025-02-11T05:54:11.739417Z",
     "iopub.status.busy": "2025-02-11T05:54:11.738978Z",
     "iopub.status.idle": "2025-02-11T05:54:11.745053Z",
     "shell.execute_reply": "2025-02-11T05:54:11.743803Z",
     "shell.execute_reply.started": "2025-02-11T05:54:11.739394Z"
    }
   },
   "outputs": [],
   "source": [
    "import logging\n",
    "logging.basicConfig(\n",
    "    level=logging.ERROR,\n",
    "    format=\"%(asctime)s - %(name)s - %(levelname)s -- l.%(lineno)d: %(message)s\",\n",
    ")"
   ]
  },
  {
   "cell_type": "code",
   "execution_count": 3,
   "id": "d6024b25-c28e-480f-8297-0c6f43361e99",
   "metadata": {
    "execution": {
     "iopub.execute_input": "2025-02-11T05:54:11.746207Z",
     "iopub.status.busy": "2025-02-11T05:54:11.745965Z",
     "iopub.status.idle": "2025-02-11T05:54:11.756532Z",
     "shell.execute_reply": "2025-02-11T05:54:11.755434Z",
     "shell.execute_reply.started": "2025-02-11T05:54:11.746155Z"
    }
   },
   "outputs": [
    {
     "data": {
      "text/plain": [
       "dict_keys(['TLDR AI <dan@tldrnewsletter.com>', 'AlphaSignal <news@alphasignal.ai>', 'TLDR <dan@tldrnewsletter.com>', 'TLDR Product <dan@tldrnewsletter.com>'])"
      ]
     },
     "execution_count": 3,
     "metadata": {},
     "output_type": "execute_result"
    }
   ],
   "source": [
    "NEWSLETTER_AND_PARSER.keys()"
   ]
  },
  {
   "cell_type": "code",
   "execution_count": 4,
   "id": "93ef2c90-9422-44da-840d-f51dc7522f28",
   "metadata": {
    "execution": {
     "iopub.execute_input": "2025-02-11T05:54:11.758419Z",
     "iopub.status.busy": "2025-02-11T05:54:11.758060Z",
     "iopub.status.idle": "2025-02-11T05:54:11.775032Z",
     "shell.execute_reply": "2025-02-11T05:54:11.772863Z",
     "shell.execute_reply.started": "2025-02-11T05:54:11.758392Z"
    }
   },
   "outputs": [],
   "source": [
    "gmail = Gmail(\n",
    "    path_to_token=\"/home/secrets_vault/token.json\",\n",
    "    path_to_credentials=\"/home/secrets_vault/credentials.json\",\n",
    "    scopes=SCOPES\n",
    ")"
   ]
  },
  {
   "cell_type": "markdown",
   "id": "291e51f3-9cd4-4ed0-aba2-74ff4f5774bd",
   "metadata": {},
   "source": [
    "# Bloomberg Technology"
   ]
  },
  {
   "cell_type": "code",
   "execution_count": 8,
   "id": "769ae406-cf99-4cab-a97a-1a7873618dce",
   "metadata": {
    "execution": {
     "iopub.execute_input": "2025-02-11T05:55:18.302896Z",
     "iopub.status.busy": "2025-02-11T05:55:18.302442Z",
     "iopub.status.idle": "2025-02-11T05:55:18.614369Z",
     "shell.execute_reply": "2025-02-11T05:55:18.613278Z",
     "shell.execute_reply.started": "2025-02-11T05:55:18.302863Z"
    }
   },
   "outputs": [
    {
     "data": {
      "text/plain": [
       "1"
      ]
     },
     "execution_count": 8,
     "metadata": {},
     "output_type": "execute_result"
    }
   ],
   "source": [
    "emails = gmail.fetch_emails(sender='Bloomberg Technology <noreply@news.bloomberg.com>', after='2025-02-07', before='2025-02-07')\n",
    "len(emails)"
   ]
  },
  {
   "cell_type": "code",
   "execution_count": 9,
   "id": "b64e31ac-df89-4477-a322-4f8146b8efed",
   "metadata": {
    "execution": {
     "iopub.execute_input": "2025-02-11T05:55:19.224642Z",
     "iopub.status.busy": "2025-02-11T05:55:19.224171Z",
     "iopub.status.idle": "2025-02-11T05:55:21.275738Z",
     "shell.execute_reply": "2025-02-11T05:55:21.274539Z",
     "shell.execute_reply.started": "2025-02-11T05:55:19.224611Z"
    }
   },
   "outputs": [],
   "source": [
    "news_sources = bloomberg_tech_parser(emails[0])"
   ]
  },
  {
   "cell_type": "code",
   "execution_count": 10,
   "id": "a8ab1d76-8066-4720-826b-ac9011e28364",
   "metadata": {
    "execution": {
     "iopub.execute_input": "2025-02-11T05:55:21.277650Z",
     "iopub.status.busy": "2025-02-11T05:55:21.277215Z",
     "iopub.status.idle": "2025-02-11T05:55:21.288131Z",
     "shell.execute_reply": "2025-02-11T05:55:21.286036Z",
     "shell.execute_reply.started": "2025-02-11T05:55:21.277560Z"
    },
    "scrolled": true
   },
   "outputs": [
    {
     "data": {
      "text/plain": [
       "[{'title': 'The next DeepSeek',\n",
       "  'url': 'https://www.bloomberg.com/news/articles/2025-02-05/what-s-the-next-deepseek-best-ai-alternatives-in-china-to-watch?cmpid=tech-in-brief',\n",
       "  'source_of_the_news': 'Bloomberg Technology <noreply@news.bloomberg.com>',\n",
       "  'text': '',\n",
       "  'news_summary': 'China has several promising artificial intelligence startups  that could emerge as the next companies to disrupt the industry.',\n",
       "  'date_source': 'Fri, 07 Feb 2025 12:08:09 +0000',\n",
       "  'date_source_time_zone': 'utc',\n",
       "  'news_provider': 'www.bloomberg.com'},\n",
       " {'title': 'Apple’s low-cost phone',\n",
       "  'url': 'https://www.bloomberg.com/news/articles/2025-02-06/apple-s-long-awaited-overhaul-of-budget-iphone-nears-release?cmpid=tech-in-brief',\n",
       "  'source_of_the_news': 'Bloomberg Technology <noreply@news.bloomberg.com>',\n",
       "  'text': '',\n",
       "  'news_summary': 'The latest version to Apple’s iPhone SE, its cheapest handset, is expected to beunveiled soon . The new model is the first since 2022 and will replace the home button while adding Face ID and Apple Intelligence features.',\n",
       "  'date_source': 'Fri, 07 Feb 2025 12:08:09 +0000',\n",
       "  'date_source_time_zone': 'utc',\n",
       "  'news_provider': 'www.bloomberg.com'},\n",
       " {'title': 'Creator competition',\n",
       "  'url': 'https://www.bloomberg.com/news/articles/2025-02-06/youtube-is-buying-tiktok-ads-to-lure-creators-before-us-ban?cmpid=tech-in-brief',\n",
       "  'source_of_the_news': 'Bloomberg Technology <noreply@news.bloomberg.com>',\n",
       "  'text': '',\n",
       "  'news_summary': 'Google’s YouTube is running ads  on TikTok, trying to lure creators away from the popular video app as its future in the US remains uncertain.',\n",
       "  'date_source': 'Fri, 07 Feb 2025 12:08:09 +0000',\n",
       "  'date_source_time_zone': 'utc',\n",
       "  'news_provider': 'www.bloomberg.com'},\n",
       " {'title': \"Sequoia Capital's Evergreen Fund Grows to $19.6 Billion\",\n",
       "  'url': 'https://www.bloomberg.com/news/articles/2025-02-06/sequoia-capital-s-evergreen-fund-grows-to-almost-20-billion?cmpid=tech-in-brief',\n",
       "  'source_of_the_news': 'Bloomberg Technology <noreply@news.bloomberg.com>',\n",
       "  'text': '',\n",
       "  'news_summary': 'Sequoia Capital’s evergreen fund  has grown to $19.6 billion from $13.6 billion in early 2023. The major investment vehicle, known as the Sequoia Capital Fund, was created by the venture capital firm in 2021 and can hold publicly traded stocks and other types of assets for an indefinite time frame.',\n",
       "  'date_source': 'Fri, 07 Feb 2025 12:08:09 +0000',\n",
       "  'date_source_time_zone': 'utc',\n",
       "  'news_provider': 'www.bloomberg.com'}]"
      ]
     },
     "execution_count": 10,
     "metadata": {},
     "output_type": "execute_result"
    }
   ],
   "source": [
    "news_sources"
   ]
  },
  {
   "cell_type": "markdown",
   "id": "dc11a670-6b8b-48a5-927e-5911fcf00860",
   "metadata": {
    "jp-MarkdownHeadingCollapsed": true
   },
   "source": [
    "## Experimentation"
   ]
  },
  {
   "cell_type": "code",
   "execution_count": 31,
   "id": "58cc8805-2947-4455-9d96-1ad2f138f6ca",
   "metadata": {
    "execution": {
     "iopub.execute_input": "2025-02-11T05:46:50.849605Z",
     "iopub.status.busy": "2025-02-11T05:46:50.849232Z",
     "iopub.status.idle": "2025-02-11T05:46:51.155818Z",
     "shell.execute_reply": "2025-02-11T05:46:51.154646Z",
     "shell.execute_reply.started": "2025-02-11T05:46:50.849575Z"
    }
   },
   "outputs": [],
   "source": [
    "messages = gmail._fetch_messages(sender='Bloomberg Technology <noreply@news.bloomberg.com>', after='2025-02-10', before='2025-02-10')"
   ]
  },
  {
   "cell_type": "code",
   "execution_count": 32,
   "id": "c5d99b44-a6f5-4370-b088-68325ec59427",
   "metadata": {
    "execution": {
     "iopub.execute_input": "2025-02-11T05:46:51.598022Z",
     "iopub.status.busy": "2025-02-11T05:46:51.597607Z",
     "iopub.status.idle": "2025-02-11T05:46:51.727168Z",
     "shell.execute_reply": "2025-02-11T05:46:51.726140Z",
     "shell.execute_reply.started": "2025-02-11T05:46:51.597990Z"
    }
   },
   "outputs": [],
   "source": [
    "message = gmail._get_message(email_id=messages[0]['id'])"
   ]
  },
  {
   "cell_type": "code",
   "execution_count": 33,
   "id": "56cfec6e-7cb0-4cf0-8fea-5d73d02831e2",
   "metadata": {
    "execution": {
     "iopub.execute_input": "2025-02-11T05:46:56.844783Z",
     "iopub.status.busy": "2025-02-11T05:46:56.844409Z",
     "iopub.status.idle": "2025-02-11T05:46:56.853445Z",
     "shell.execute_reply": "2025-02-11T05:46:56.852270Z",
     "shell.execute_reply.started": "2025-02-11T05:46:56.844750Z"
    }
   },
   "outputs": [
    {
     "data": {
      "text/plain": [
       "dict"
      ]
     },
     "execution_count": 33,
     "metadata": {},
     "output_type": "execute_result"
    }
   ],
   "source": [
    "type(message)"
   ]
  },
  {
   "cell_type": "code",
   "execution_count": 12,
   "id": "6b113a60-c536-4d05-97ba-07df9370ed94",
   "metadata": {
    "execution": {
     "iopub.execute_input": "2025-02-11T05:31:50.966960Z",
     "iopub.status.busy": "2025-02-11T05:31:50.966508Z",
     "iopub.status.idle": "2025-02-11T05:31:50.972685Z",
     "shell.execute_reply": "2025-02-11T05:31:50.971013Z",
     "shell.execute_reply.started": "2025-02-11T05:31:50.966930Z"
    }
   },
   "outputs": [],
   "source": [
    "import base64\n",
    "from bs4 import BeautifulSoup"
   ]
  },
  {
   "cell_type": "code",
   "execution_count": 13,
   "id": "63a98055-0072-416d-8d95-89636d86e04c",
   "metadata": {
    "execution": {
     "iopub.execute_input": "2025-02-11T05:31:51.185754Z",
     "iopub.status.busy": "2025-02-11T05:31:51.185386Z",
     "iopub.status.idle": "2025-02-11T05:31:51.211502Z",
     "shell.execute_reply": "2025-02-11T05:31:51.209748Z",
     "shell.execute_reply.started": "2025-02-11T05:31:51.185722Z"
    }
   },
   "outputs": [],
   "source": [
    "for pp in message['payload'][\"parts\"]:\n",
    "    if pp[\"mimeType\"] == \"text/html\":\n",
    "        body_data = pp[\"body\"][\"data\"]\n",
    "        text_html = base64.urlsafe_b64decode(body_data).decode()\n",
    "        txt = BeautifulSoup(text_html, \"html.parser\").get_text()"
   ]
  },
  {
   "cell_type": "code",
   "execution_count": 20,
   "id": "efe99aca-4094-4a03-87e4-ce1100fcb30b",
   "metadata": {
    "execution": {
     "iopub.execute_input": "2025-02-11T05:33:49.215823Z",
     "iopub.status.busy": "2025-02-11T05:33:49.214658Z",
     "iopub.status.idle": "2025-02-11T05:33:49.222588Z",
     "shell.execute_reply": "2025-02-11T05:33:49.221155Z",
     "shell.execute_reply.started": "2025-02-11T05:33:49.215786Z"
    },
    "scrolled": true
   },
   "outputs": [],
   "source": [
    "def html_to_text_with_links(html):\n",
    "    soup = BeautifulSoup(html, \"html.parser\")\n",
    "\n",
    "    # Process <a> tags to keep text + URL\n",
    "    for a in soup.find_all(\"a\"):\n",
    "        link_text = a.get_text()\n",
    "        link_href = a.get(\"href\")\n",
    "        if link_href:\n",
    "            a.replace_with(f\"{link_text} ({link_href})\")  # Replace with text + URL\n",
    "\n",
    "    return soup.get_text()  # Get cleaned text"
   ]
  },
  {
   "cell_type": "code",
   "execution_count": 30,
   "id": "b1cb6491-25d6-401a-a744-bbbcbec95bc6",
   "metadata": {
    "execution": {
     "iopub.execute_input": "2025-02-11T05:37:36.496591Z",
     "iopub.status.busy": "2025-02-11T05:37:36.495603Z",
     "iopub.status.idle": "2025-02-11T05:37:36.521373Z",
     "shell.execute_reply": "2025-02-11T05:37:36.520704Z",
     "shell.execute_reply.started": "2025-02-11T05:37:36.496557Z"
    },
    "scrolled": true
   },
   "outputs": [
    {
     "data": {
      "text/plain": [
       "['(https://links.message.bloomberg.com/s/c/h0vO07j4nVYAiNfAnUa99Gn4EGYMHLBzLyFZ6MRNWXj2h0P45rFGWSHUqujhOvD4_v1kdne5qRs1Gum8W5ITXUoKeblJpLW5JugcBS8IoGH6C2gIa5wgt2dH8GXV9NUUnwtYoSwnWNctN4WSZdJJ9U_LBisQ4JX9FKaKmu0TEbBtasP-X8Zqio917UmWi_v81yxsHmlOCMgrUPUi1113hx5_PNs1Sefa984CFjqQF8VFvHG4ejvweUtZSfPrqH7cuBpF4fMy3eus7Bol3ERfeE_kQP4ord4EF-kCQ5SltfH-m2zr8el7d2Z_2H7mu1LUQ1ekKjzfHrwZCbtGpKMsv4wHWtBSKi3361AYArBtoa2I6fZ0Ufp8Gtrz0w/TAcFi9Epdlg0pnhqeA__6wq8cw2NQwOM/5)',\n",
       " '(https://links.message.bloomberg.com/s/c/7-WVLVP8op58AN0wD2Rb_pijMADTnqMay6HAB65RKsRuef0gQDJuYHuq-jxAsG_DXmWTvouSRvOADrHnjB_l6rAkAMNHJohw66ME88gQZOIq3AsCtuqPlHwF3qwpMoTtNdyF7dbXmQseDHjihxgpboBKKbmGMCA7taS4P0OiwkWBAeS4JAjBjEje0bJ1Q6-E3lyOHEkPy5qcm3Yld_oONurpUpkUC5jQA3LMtXgP-wszrKQe-PVY-TN8OZxUu5toiwV8csLr3EQbyWJ0PE_cuzww4GHmvPXAdzS68Lg4N4h1RUizLX-lsFkjIh0SzlK8SE4rtSXv0zbSG6F1MEWgKWfx3yPzVqbPflj_mWKKeB_9MO28GhpgbUc7zw/LpEPyIZmuOrNNA-ugJhnWKjVvc98FMEM/5)',\n",
       " '(https://links.message.bloomberg.com/s/c/rqOmiJ-IO6vmrhgFVRH4kQgtWlXeZ5_Jqx5DsMIMnUPTf3TBaYN9VnlPG4vadhQ-piPdRWhuoM9t3Bi77ZXmXdJn0mKAEm6A-NWK3bT92KVu31i2k0ZEcAFt4zoHcSMf1OvHKydcfcU6nOCWR4df4nN4N-eKuILbj3wM01iukLGEMz-17FcT8t-AVKGVpT5u4CXKmFp2qSPAw4G_8IpbNNuOri_ri8q7CB-xm6YloP2UPnyKEw1k40SS-STLDSeqKNI-XV2APyvbUqzO1A3SM6fzC-Kp8-f4UT5cLzWMeO8rRbrxYB2YWiZzAwuPjCYvo9KpyuxDKZjtTic1xg1qdYCQenCk06R06MKIxPOdDe4vAg8iK9qkvOoazQ/lTJOFcEy0CkEIJKP1Bxg0-vgwq856nSL/5)',\n",
       " '(https://links.message.bloomberg.com/s/c/8NafcvJsGmEuZc6jezvHSTZilLqRdvORheLVvOfnU-yE7K48xnFyGRaG71AZ7obIWjkZJQOOogc75bBpKhabuLxXHdmrlj6LoNaSn7Um2ZvppT4rI78Z4utTF6MGswVHoBgXXVAsarouejUXeZLfb8HT6V2jCbcXZNTHaoEHWxm6bJEKrVIoce5JtGtvcwbE5CYQ-4q4vu6kqYC02AANSf-IqeZSc5u6k5mvGvoDMlQO94bTF-OEoWaOHGktVhygDCuO4rhaIDmA76h6NL4LcNQOKLKnArf1HQyMOYJrBtGSzqyczAGHSHs0ZH7phTiFIGlkcdepE2Nf0d8fTTDf0SL3x5NlFmvAOOHzoh8R7iExloe6YeTSbVTuAw/xyqlcZCEDVF0gAQ2QL-lhRluSLBAXa2J/5)']"
      ]
     },
     "execution_count": 30,
     "metadata": {},
     "output_type": "execute_result"
    }
   ],
   "source": [
    "import re\n",
    "re.findall(r\"\\(https://[^\\)]+\\)\", html_to_text_with_links(text_html).split(\"Tech Across the Globe\")[1].split(\"Must read\")[0])"
   ]
  },
  {
   "cell_type": "code",
   "execution_count": 19,
   "id": "f3198871-a449-4080-833f-d2ef1554893e",
   "metadata": {
    "execution": {
     "iopub.execute_input": "2025-02-11T04:39:57.152866Z",
     "iopub.status.busy": "2025-02-11T04:39:57.151576Z",
     "iopub.status.idle": "2025-02-11T04:39:57.408594Z",
     "shell.execute_reply": "2025-02-11T04:39:57.407289Z",
     "shell.execute_reply.started": "2025-02-11T04:39:57.152833Z"
    }
   },
   "outputs": [
    {
     "name": "stderr",
     "output_type": "stream",
     "text": [
      "2025-02-10 23:39:57,157 - googleapiclient.discovery - DEBUG -- l.1258: URL being requested: GET https://gmail.googleapis.com/gmail/v1/users/me/messages/194efc5ce97c38fd?format=full&alt=json\n"
     ]
    }
   ],
   "source": [
    "message = gmail.service.users().messages().get(userId=\"me\", id=messages[0]['id'], format=\"full\").execute()\n",
    "for part in message[\"payload\"][\"parts\"]:\n",
    "    if part[\"mimeType\"] == \"text/html\":  \n",
    "        body = base64.urlsafe_b64decode(part[\"body\"][\"data\"]).decode(\"utf-8\")"
   ]
  },
  {
   "cell_type": "code",
   "execution_count": 20,
   "id": "c2018343-a3a2-492b-b2cf-f4c49ecbd9a1",
   "metadata": {
    "execution": {
     "iopub.execute_input": "2025-02-11T04:39:59.840929Z",
     "iopub.status.busy": "2025-02-11T04:39:59.839238Z",
     "iopub.status.idle": "2025-02-11T04:39:59.852323Z",
     "shell.execute_reply": "2025-02-11T04:39:59.851018Z",
     "shell.execute_reply.started": "2025-02-11T04:39:59.840886Z"
    },
    "scrolled": true
   },
   "outputs": [
    {
     "data": {
      "text/plain": [
       "'<!DOCTYPE html PUBLIC \"-//W3C//DTD XHTML 1.0 Strict//EN\" \"http://www.w3.org/TR/xhtml1/DTD/xhtml1-strict.dtd\"> <html xmlns=\"http://www.w3.org/1999/xhtml\" xmlns=\"http://www.w3.org/1999/xhtml\" style=\"width: 100%;\"> <head> <meta http-equiv=\"Content-Type\" content=\"text/html; charset=utf-8\"/> <meta name=\"viewport\" content=\"initial-scale=1\"/> <title>Tech In Brief</title> <style>body{width:100%;-webkit-font-smoothing:antialiased;font-family:Georgia,serif;font-size:16px;line-height:24px;margin:0;padding:0}img{max-width:550px}@media only screen and (max-width:480px){.lihide{display:none!important}.lishow{display:block!important;width:auto!important;overflow:visible!important;float:none!important;max-height:inherit!important;line-height:inherit!important}.email-ssl-image{width:100%!important;height:auto!important}.body-image img{width:100%!important}.logo-image{width:100%!important}}@media screen and (max-width:525px){.editorial-tout__inner{font-size:15px!important;line-height:23px!important;padding:15px 0!important}}</style></head> <body style=\"width: 100%; -webkit-font-smoothing: antialiased; font-family: Georgia, serif; font-size: 16px; line-height: 24px; margin: 0; padding: 0;\">\\r\\n<div style=\"color:transparent;visibility:hidden;opacity:0;font-size:0px;border:0;max-height:1px;width:1px;margin:0px;padding:0px;border-width:0px!important;display:none!important;line-height:0px!important;\"><img border=\"0\" width=\"1\" height=\"1\" src=\"https://post.spmailtechnolo.com/q/9NAJpZvkelzoFszUaDcFzw~~/AARGbBA~/tJhzf2oJuxYomIB7UoEiPaLmX9fNMaE0gCvfLPhgyhtZ41tuPrCkGuMt8WHUWipqOf36AAByQMNYE0_boUDw4Q~~\" alt=\"\"/></div>\\r\\n<span style=\"color:transparent;visibility:hidden;display:none;opacity:0;height:0;width:0;font-size:0;\"></span><img src=\"https://links.message.bloomberg.com/s/eo/otO5vHds-GBysitt4GNl5bHoSUKNIftsnwQar5Fhq4ALzj1CuNVtsK4z22fvoC9iJn6ANADhgc73-SONL2fbgbbxpcpfWhTYF19A8iZW1iKG_t874k_eMewHnbCREj-T4-pbOH6PTx0zA28mJ7r2ADi-G3zO0ZCT43Pemgf0sKBq_Wzt0lfjn0y1xy05aDfjs_ho8ypelQLR4EdIMMNoDbDElptKBe4n_i4p/GOsMCCIwjnIfnlkgpj7-T3TXgEHJzlO9/5\" style=\"border:0;width:1px;height:1px;border-width:0px!important;display:none!important;line-height:0!important;\" width=\"1\" height=\"1\"/> <table id=\"wrapper\" width=\"100%\" align=\"center\" border=\"0\" cellpadding=\"0\" cellspacing=\"0\" style=\"-webkit-font-smoothing: antialiased; font-family: Georgia, serif; font-size: 16px; max-width: 550px; width: 100% !important;\"> <!--[if mso]><center> <tr><td> <table border=\"0\" cellpadding=\"0\" cellspacing=\"0\" width=\"550\"><![endif]--> <tr> <td style=\"border-collapse: collapse; mso-table-lspace: 0pt; mso-table-rspace: 0pt;\"> <div style=\"display: none; max-height: 0px; overflow: hidden;\"> Hi, you’re receiving our new free Tech In Brief newsletter because you had been getting one of Bloomberg’s technology newsletters that are n </div> </td> </tr> <tr> <td style=\"border-collapse: collapse; mso-table-lspace: 0pt; mso-table-rspace: 0pt; padding-bottom: 15px;\"> <table width=\"100%\" border=\"0\" cellspacing=\"0\" cellpadding=\"0\"> <tr> <td align=\"center\" style=\"border-collapse: collapse; mso-table-lspace: 0pt; mso-table-rspace: 0pt; padding: 20px 0px 10px;\"> </td> </tr> <tr> <td align=\"center\" style=\"border-collapse: collapse; mso-table-lspace: 0pt; mso-table-rspace: 0pt; padding-bottom: 5px;\"> <a href=\"https://links.message.bloomberg.com/s/c/TMBMYT3gR5AGVUYpa5VPf6L8YaG-h6oLrEcqh-YbWhrhe2uhH4CBMyjyRXNxx19fA9moD04hgztq1np0F1ci3DMTcMIvGRCJvKao87ODfXI6PC1164Zw92dbNBMZ9WxMNLOPMfPBswWstDUF-rOPvaOSnmc5Svjb9MHzqdU-egyPsc6sRJSxYhNbZ6NeDzWYtG8-EM0gE3Bnf-YjYvmHNQXNEnZtkY2uH4r_RqU07xUxtV0e6odchBuzI07Y4_6J_Vmpy6McPOmxGYjbMkfSVuN9x6WoXBPJ4WAeUGtR4IpaMdvZkEAwnG2FNem4uAU4N485mVPq38RU1F6KIQLSYWMEAc4e_QeqAWku3G3DoLjAPhTB6BHrAyVFcQ/fnRHYRKZa0oa9hMI8-docdUODqh3Y2kN/5\"> <!--[if mso]><table width=\"550\"><tr><td><img alt=\"Bloomberg\" src=\"https://assets.bwbx.io/images/users/iqjWHBFdfxIU/iWLKAg6Rketw/v0/-1x-1.png\" width=\"550\"/></td></tr></table> <div style=\"display:none\"><![endif]--><img class=\"logo-image\" src=\"https://assets.bwbx.io/images/users/iqjWHBFdfxIU/iWLKAg6Rketw/v0/-1x-1.png\" border=\"0\" alt=\"Bloomberg\" style=\"max-width: 550px; width: 530px; display: block;\"/><!--[if mso]></div><![endif]--> </a> </td> </tr> </table><table border=\"0\" cellpadding=\"0\" cellspacing=\"0\" align=\"center\"> <tr> <td colspan=\"2\"> <a href=\"https://links.message.bloomberg.com/s/c/81rM9x8KE43sFcxkdU0KTJoNylEX9g-DpNH2j3oF-59denXe7edGxbK-BJqXmAgrlld4zx-lE398kpq1J19hXphdTyel6VYulc6pJq-dFXqvm7ZTALioAg-yPp3hbdvmZyeObX4OyfCTiCuc8acd4jgDkMmSSco1WvjVfQOmm-VK8Vhv_WFtqyBA6jRaaglaZUXCmZe46wsDQ1I5h6d27FguwBWQ2WukDG8kID3oQUWAg4EUA4RwsSh_2H9emAxVDtlsR4r1Mm75-5jPacW_XPz5DZpqTDbB43zFN-NCvumQ5Ij-bcJSsGw3t2naynrn5H6LU_LTVWNCwqnt6CfLsw85fwXjmJd3S6E6igfhGYsUJpK7aeGhN7Lb8jqsEmoWIjXoodGoHc4kYxC1cQ/o0qx3kePnjzM7lwFK4sM5l5BtfJfuDqa/5\" rel=\"nofollow\"> <img src=\"https://sli.bloomberg.com/imp?s=1105649&stpe=default&li=12565881&m=412ded93419b0667798b58cd796b87cf&p=02102025\" border=\"0\" width=\"108\" style=\"width: 108px !important; display:block\"/> </a> </td> </tr> </table> </td> </tr> <tr> <td style=\"border-collapse: collapse; mso-table-lspace: 0pt; mso-table-rspace: 0pt;\"> <table width=\"100%\" border=\"0\" cellspacing=\"0\" cellpadding=\"0\" style=\"font-size: 16px; line-height: 24px;\"> <tr> <td style=\"border-collapse: collapse; mso-table-lspace: 0pt; mso-table-rspace: 0pt; padding: 0px 10px;\"> <p style=\"font-family: Georgia, serif; margin: 16px 0;\"> </p> <table width=\"100%\" border=\"0\" cellpadding=\"0\" cellspacing=\"0\" style=\"border-radius: 8px; margin: 16px 0px; padding: 6px 16px; border: 1pt solid #CCC;\"> <tr> <td valign=\"top\" style=\"border-collapse: collapse; mso-table-lspace: 0pt; mso-table-rspace: 0pt; font-family: &quot;Helvetica Neue&quot;, Helvetica, Arial, sans-serif; font-style: normal; font-size: 16px; font-weight: 400; line-height: 22px; padding: 6px 0px;\"> Get exclusive scoops, insights and analysis from Bloomberg technology reporters with the Tech Newsletter Bundle subscription. Includes the subscriber-only newsletters Tech In Depth, Power On, Q&amp;AI, Game On and Soundbite and paywall-free access to the links in them. </td><td style=\"border-collapse: collapse; mso-table-lspace: 0pt; mso-table-rspace: 0pt;\"> </td></tr> <tr> <td valign=\"top\" style=\"border-collapse: collapse; mso-table-lspace: 0pt; mso-table-rspace: 0pt;\"> <div style=\"text-align: center; border-radius: 8px; font-family: &quot;Helvetica Neue&quot;, Helvetica, Arial, sans-serif; font-weight: bold; font-size: 16px; font-style: normal; line-height: 16px; margin: 6px 0px; padding: 12px 0px; border: 1pt solid #CCC;\"> <a href=\"https://links.message.bloomberg.com/s/c/bazYtIaKrWRoCn4c9Rda6i_LiIogrm-S_ZFq-l3ebSf7Gk3bWm9e8rU2D2_TLwhWwHm4tRuoEjL7Hs__N0RbhYbolzJxMp4taDMLWq01kBBa9a5V7qANYk3ZUh7IBbK_pTcBkRRbFTkEW4jOYeUmKurLV0E7hkBJmszE4yy0LFP4-Qn8tlAXVCzAAMUL-PnGrhg4XtQP6zGeB1eXhmFTog_LoLlB_em5lOQefgwSM55Q6K7okXMo8cnk8rWZLeSPj2NB2s1X4l1p2D8DGSIJBZG1PpeGTGUBZtWzcro49V2ufVTtuXKN3s2DEd_2vFICBrdhSefhlGL0eOt6MF3Mr-MsXsu5TRPNvLQHtVUiMVLGQIIHuP4t_eWLTg/NvNGx6A4LN47sVd_BOOQFn9TmOE_9gPp/5\" target=\"_blank\" rel=\"nofollow\" style=\"text-decoration: none !important; background-color: none !important; color: black !important; display: block !important; border: 0px;\"> Subscribe now </a> </div> </td><td style=\"border-collapse: collapse; mso-table-lspace: 0pt; mso-table-rspace: 0pt;\"> </td></tr> </table> <p style=\"font-family: Georgia, serif; margin: 16px 0;\"> </p> </td> </tr> </table> </td> </tr> <tr> <td style=\"border-collapse: collapse; mso-table-lspace: 0pt; mso-table-rspace: 0pt;\"> <table width=\"100%\" border=\"0\" cellspacing=\"0\" cellpadding=\"0\" style=\"font-size: 16px; line-height: 24px;\"> <tr> <td style=\"border-collapse: collapse; mso-table-lspace: 0pt; mso-table-rspace: 0pt; padding: 0px 10px;\"> <p style=\"font-family: Georgia, serif; margin: 16px 0;\"><em>Hi, you’re receiving our new free Tech In Brief newsletter because you had been getting one of Bloomberg’s technology newsletters that are now subscriber-only. You can manage\\xa0your newsletter subscriptions\\xa0<a href=\"https://links.message.bloomberg.com/s/c/XQUh78tLYenJcx7yGCsqn7UmggW5o-_f8LB5QM4q_6yZ2qwZOVnLG3UMcWsC--D7AwAKNQ2SB7j9iPyoNh1UattPylX54gz9FBjF_DPFW6FXXBoxKDkATJMo6quJZYUHueeWaKMiC-it1MOiqhBwRzuos7UY27KqeivGB_pjPTLCRueny-UijAKev79klTICIg0sSDFkeEA71Wpm8FnRwkCKaraJqJfAEIHtVotFCq84df3JUjtqAIFqb4GicIO2hU3uRKbSzM67n9DBTsSM4ozpkWxtXugRFA2sDEOooYc6ilW7w_KM4FmxrU17HZ6U_518N-9rSKsC8aLYuW1L-oMWt8SeZEx4B_av3fbJE4DfXXqdff1Ir6f96w/hrx6ZnzXHK2iej6WB0-KJthiPFvv5f64/5\" itemprop=\"StoryLink\" itemscope=\"itemscope\" target=\"_blank\" title=\"Link to Web page\">here</a>.</em></p> </td> </tr> </table> </td> </tr> <tr> <td style=\"border-collapse: collapse; mso-table-lspace: 0pt; mso-table-rspace: 0pt; padding: 0px 10px;\"> <table width=\"100%\" border=\"0\" cellpadding=\"0\" cellspacing=\"0\"> <tr> <td style=\"border-collapse: collapse; mso-table-lspace: 0pt; mso-table-rspace: 0pt;\"> <h2 style=\"font-family: Helvetica, Arial, sans-serif; letter-spacing: -1px; font-size: 26px; line-height: 28px; font-weight: normal; border-top-width: 1px; border-top-style: solid; padding-top: 12px; margin: 20px 0px 0px;\"> Tech Across the Globe </h2> </td> </tr> </table> </td> </tr> <tr> <td style=\"border-collapse: collapse; mso-table-lspace: 0pt; mso-table-rspace: 0pt;\"> <table width=\"100%\" border=\"0\" cellspacing=\"0\" cellpadding=\"0\" style=\"font-size: 16px; line-height: 24px;\"> <tr> <td style=\"border-collapse: collapse; mso-table-lspace: 0pt; mso-table-rspace: 0pt; padding: 0px 10px;\"> <p style=\"font-family: Georgia, serif; margin: 16px 0;\"><strong style=\"font-family: Helvetica, Arial, sans-serif;\">AI investment for Europe:</strong>\\xa0OpenAI\\xa0Chief Executive Officer\\xa0Sam Altman\\xa0said he’d “love” to help build an <a href=\"https://links.message.bloomberg.com/s/c/h0vO07j4nVYAiNfAnUa99Gn4EGYMHLBzLyFZ6MRNWXj2h0P45rFGWSHUqujhOvD4_v1kdne5qRs1Gum8W5ITXUoKeblJpLW5JugcBS8IoGH6C2gIa5wgt2dH8GXV9NUUnwtYoSwnWNctN4WSZdJJ9U_LBisQ4JX9FKaKmu0TEbBtasP-X8Zqio917UmWi_v81yxsHmlOCMgrUPUi1113hx5_PNs1Sefa984CFjqQF8VFvHG4ejvweUtZSfPrqH7cuBpF4fMy3eus7Bol3ERfeE_kQP4ord4EF-kCQ5SltfH-m2zr8el7d2Z_2H7mu1LUQ1ekKjzfHrwZCbtGpKMsv4wHWtBSKi3361AYArBtoa2I6fZ0Ufp8Gtrz0w/TAcFi9Epdlg0pnhqeA__6wq8cw2NQwOM/5\" itemprop=\"StoryLink\" itemscope=\"itemscope\" target=\"_blank\" title=\"Link to Story\">AI project in Europe</a> on the scale of\\xa0Stargate, the proposed $500 billion US development from OpenAI, SoftBank and Oracle for artificial intelligence services.</p><p style=\"font-family: Georgia, serif; margin: 16px 0;\"><strong style=\"font-family: Helvetica, Arial, sans-serif;\">Defense tech booms:</strong> Anduril Industries is in talks to double its valuation to more than <a href=\"https://links.message.bloomberg.com/s/c/7-WVLVP8op58AN0wD2Rb_pijMADTnqMay6HAB65RKsRuef0gQDJuYHuq-jxAsG_DXmWTvouSRvOADrHnjB_l6rAkAMNHJohw66ME88gQZOIq3AsCtuqPlHwF3qwpMoTtNdyF7dbXmQseDHjihxgpboBKKbmGMCA7taS4P0OiwkWBAeS4JAjBjEje0bJ1Q6-E3lyOHEkPy5qcm3Yld_oONurpUpkUC5jQA3LMtXgP-wszrKQe-PVY-TN8OZxUu5toiwV8csLr3EQbyWJ0PE_cuzww4GHmvPXAdzS68Lg4N4h1RUizLX-lsFkjIh0SzlK8SE4rtSXv0zbSG6F1MEWgKWfx3yPzVqbPflj_mWKKeB_9MO28GhpgbUc7zw/LpEPyIZmuOrNNA-ugJhnWKjVvc98FMEM/5\" itemprop=\"StoryLink\" itemscope=\"itemscope\" target=\"_blank\" title=\"Link to Story\">$28 billion</a> with a new funding round that would raise $2.5 billion. The California-based defense technology startup is planning to invest $1 billion in an Ohio factory to build its autonomous weapons systems.</p><p style=\"font-family: Georgia, serif; margin: 16px 0;\"><strong style=\"font-family: Helvetica, Arial, sans-serif;\">Spreading the wealth:</strong> The rise of Chinese AI startup DeepSeek is forcing investors to re-evaluate the nation’s <a href=\"https://links.message.bloomberg.com/s/c/rqOmiJ-IO6vmrhgFVRH4kQgtWlXeZ5_Jqx5DsMIMnUPTf3TBaYN9VnlPG4vadhQ-piPdRWhuoM9t3Bi77ZXmXdJn0mKAEm6A-NWK3bT92KVu31i2k0ZEcAFt4zoHcSMf1OvHKydcfcU6nOCWR4df4nN4N-eKuILbj3wM01iukLGEMz-17FcT8t-AVKGVpT5u4CXKmFp2qSPAw4G_8IpbNNuOri_ri8q7CB-xm6YloP2UPnyKEw1k40SS-STLDSeqKNI-XV2APyvbUqzO1A3SM6fzC-Kp8-f4UT5cLzWMeO8rRbrxYB2YWiZzAwuPjCYvo9KpyuxDKZjtTic1xg1qdYCQenCk06R06MKIxPOdDe4vAg8iK9qkvOoazQ/lTJOFcEy0CkEIJKP1Bxg0-vgwq856nSL/5\" itemprop=\"StoryLink\" itemscope=\"itemscope\" target=\"_blank\" title=\"Link to Story\">leading internet companies</a>, such as Alibaba and Tencent, for\\xa0their potential to capitalize on the demand for AI\\xa0that has boosted global peers.</p> </td> </tr> </table> </td> </tr> <tr> <td style=\"border-collapse: collapse; mso-table-lspace: 0pt; mso-table-rspace: 0pt; padding: 0px 10px;\"> <table width=\"100%\" border=\"0\" cellpadding=\"0\" cellspacing=\"0\"> <tr> <td style=\"border-collapse: collapse; mso-table-lspace: 0pt; mso-table-rspace: 0pt;\"> <h2 style=\"font-family: Helvetica, Arial, sans-serif; letter-spacing: -1px; font-size: 26px; line-height: 28px; font-weight: normal; border-top-width: 1px; border-top-style: solid; padding-top: 12px; margin: 20px 0px 0px;\"> Revalued </h2> </td> </tr> </table> </td> </tr> <tr> <td style=\"border-collapse: collapse; mso-table-lspace: 0pt; mso-table-rspace: 0pt;\"> <table width=\"100%\" border=\"0\" cellspacing=\"0\" cellpadding=\"0\" style=\"font-size: 16px; line-height: 24px;\"> <tr> <td style=\"border-collapse: collapse; mso-table-lspace: 0pt; mso-table-rspace: 0pt; padding: 0px 10px;\"> <p style=\"font-family: Georgia, serif; margin: 16px 0;\"><a href=\"bbg://securities/1948493D%20LN%20Equity\" itemprop=\"StoryLink\" itemscope=\"itemscope\" target=\"_blank\">Rapyd Financial Network</a> is in fundraising talks that <a href=\"https://links.message.bloomberg.com/s/c/8NafcvJsGmEuZc6jezvHSTZilLqRdvORheLVvOfnU-yE7K48xnFyGRaG71AZ7obIWjkZJQOOogc75bBpKhabuLxXHdmrlj6LoNaSn7Um2ZvppT4rI78Z4utTF6MGswVHoBgXXVAsarouejUXeZLfb8HT6V2jCbcXZNTHaoEHWxm6bJEKrVIoce5JtGtvcwbE5CYQ-4q4vu6kqYC02AANSf-IqeZSc5u6k5mvGvoDMlQO94bTF-OEoWaOHGktVhygDCuO4rhaIDmA76h6NL4LcNQOKLKnArf1HQyMOYJrBtGSzqyczAGHSHs0ZH7phTiFIGlkcdepE2Nf0d8fTTDf0SL3x5NlFmvAOOHzoh8R7iExloe6YeTSbVTuAw/xyqlcZCEDVF0gAQ2QL-lhRluSLBAXa2J/5\" itemprop=\"StoryLink\" itemscope=\"itemscope\" target=\"_blank\" title=\"Link to Story\">may cut its valuation</a> to $3.5 billion from around $9 billion in 2021. The company, which has offices in London, Tel Aviv and elsewhere, is looking to raise $300 million from investors, according to people familiar with the talks.</p> </td> </tr> </table> </td> </tr> <tr> <td style=\"border-collapse: collapse; mso-table-lspace: 0pt; mso-table-rspace: 0pt; padding: 0px 10px;\"> <table width=\"100%\" border=\"0\" cellpadding=\"0\" cellspacing=\"0\"> <tr> <td style=\"border-collapse: collapse; mso-table-lspace: 0pt; mso-table-rspace: 0pt;\"> <h2 style=\"font-family: Helvetica, Arial, sans-serif; letter-spacing: -1px; font-size: 26px; line-height: 28px; font-weight: normal; border-top-width: 1px; border-top-style: solid; padding-top: 12px; margin: 20px 0px 0px;\"> Must read </h2> </td> </tr> </table> </td> </tr> <tr> <td style=\"border-collapse: collapse; mso-table-lspace: 0pt; mso-table-rspace: 0pt;\"> <table width=\"100%\" border=\"0\" cellspacing=\"0\" cellpadding=\"0\" style=\"font-size: 16px; line-height: 24px;\"> <tr> <td style=\"border-collapse: collapse; mso-table-lspace: 0pt; mso-table-rspace: 0pt; padding: 0px 10px;\"> <p style=\"font-family: Georgia, serif; margin: 16px 0;\">In today’s <a href=\"https://links.message.bloomberg.com/s/c/owbzFZApn99zSdby7P29eDbiMWkVSYRKw8md1AjeNUKfmREXdWWH9-slpBVzaSkKoozI7dZKk6sFAqjGsC0vPga1YjMW9xEtnuFHdNNsyRd5y_8EX-WyuzxD85P6G0NysY9YiEcIwlvwQZwluNRfOyuJ1wADKhlwytFd4MbnonOoqVM9NOCqJ8Q8jsgoeR91bCYKEg-bfwXVCtLGjCHOKqU7zY9pxFLq9vy6MONoU-DdlbNqLko636x18JYUZjsjb3YSa0v5JGbav1WBDUjGd-KKQsbuKxEXiFqNY8MDeV2sJVp-1qlMePRVSMuFFLCn0r9X-lrX69Xj5NWfR-CqDWWDoOl5RuaK41LhxvUOnLyayaLNv8l-ZwanSLQ/C7Lv9mvqQohu7c2q_xd6xLkZ5q6Yq8Zp/5\" itemprop=\"StoryLink\" itemscope=\"itemscope\" target=\"_blank\" title=\"Link to Web page\">Tech In Depth</a>, Austin Carr looks at the multiple AI search products\\xa0OpenAI, Google and others are offering consumers and wonders why the companies are making it so complicated. For more of Bloomberg’s coverage of the technology industry, subscribe <a href=\"https://links.message.bloomberg.com/s/c/AdnihG-PpLlApgpSuWg3okgHpJM3fu-oxUdL8cGYMTcq60fSSkj0WEavc33ukIEgWbJXs6nqZUtqKtTtvsGb-jQ51YFROLx0RquTFkQhbooFkAEbjI9kjFvz7ZcwF4CR7EEE85DNq-ULkGnRM-GgQC8W8nsR5_xQWXgk2b31nrHhsvqMSRHU7geTBXRdCYURVFXik0xtntlRAgDCsXzLm0YV7jxPcRljVi_PNZ6AUcyOgN6bozLTQXJKqfcTugNIwqWgfPsAu5oT1tjMlpXx2MFfWEtxsA0UcJxx3Lo4Q0BGh1CO3FYzWqH0LnsvFNZXczNQwmpXB_zbny4X7HsTI8LDo8zQqMr0xG-wdXnh8uLPFgDzMFJAguOBEhg/LSZ7ndcnVWjsNgAd15SRpPYgfHfSOIjc/5\" itemprop=\"StoryLink\" itemscope=\"itemscope\" target=\"_blank\">here</a>.</p> </td> </tr> </table> </td> </tr> <tr> <td style=\"border-collapse: collapse; mso-table-lspace: 0pt; mso-table-rspace: 0pt; padding: 0px 10px;\"> <table width=\"auto\" cellpadding=\"0\" cellspacing=\"0\" align=\"center\"> <tr> <td colspan=\"2\" align=\"center\" valign=\"top\" style=\"padding:0 0px\"> <a href=\"https://links.message.bloomberg.com/s/c/fKf27oupg565JkIWxEZ58npXla9OMKBNxGbme8OfJ_IXjR8xiTztMbwB9HPQVex-EdeIjyQjbJLjyHgORE-GoV6GQM9i35PUGMzOD5ceFwXDrFTKcCK115gotsTrgArAfXMaRi8g4c_Ev-6cdMc--YOBGXVgFztQzOmp0t7BD4n74RRke4qpbGATFXMxE2H6VOSdaC0kf4LG9Lw_V8Ul6-nN94_Fc5UmYB6cdjd9vjQ0fp-vjnirgpL-a4X7v2rbHTcjzOkYyxIWCeDmC5EZ6cB5un04LHfCSXilNo_P4oz5SnPcf4Uimu5jFKECWtFXxikRcVVEcBkcjHjbS0GhyArBYST8FonQm2yhs13WsXQ-EDoLlEglaHQwtu_PuTLs2WOgJP7VnMxcCGAolQ/SZapyOn7Cqmu8migZV17O6rn2s3sau8v/5\" target=\"_blank\"> <img src=\"https://sli.bloomberg.com/imp?s=1105644&stpe=default&li_coord=desktop&collapse_width=550&li=12565881&m=412ded93419b0667798b58cd796b87cf&p=02102025\" width=\"550\" border=\"0\" style=\"display:block;height:auto;width:100%;max-width:550px;\" alt=\"\" class=\"lihide\"/> </a> </td> </tr> <tr> <td colspan=\"2\" align=\"center\" valign=\"top\"> <!--[if !mso]><!--> <div style=\"display:none; overflow:hidden; width:0; max-height:0; line-height:0;\" class=\"lishow\"> <table width=\"auto\" cellpadding=\"0\" cellspacing=\"0\" align=\"center\"> <tr> <td align=\"center\" valign=\"top\" style=\"padding:0 0px\"> <a href=\"https://links.message.bloomberg.com/s/c/sIRhAfj7p13icRAX0fUJkzjztHQi_n1rIR53UFtx2afUumc0YJ6BOCoSiKM7WH8t_6Hn-x-_MiPtSzUj9R_SxLLnm5CC2TZg0ffJsrBO8Or7Twu_ic0YEeYZSyWfjRJqoC-1zZv46EpVB2_cB4YiuLOuN89qMpc4j4MXBpT9HPE6XHO49Tj4AumXQ962QOGm5PnAj-_j39nY-edGSHGQq0aXKHIg7StvZuk_UYfmUZ9ESCMFD2nT2g2EvTOZ_BXZeoyEg5fNlRL_qigfV2oY-e80a_lAcvTLJ134SPYzrh6hwtemSU6xylmWPMR3jBFrE3O2GTCBG3-a8JqIVnLEmjGnJohPX4MrBsvZzx-cDVRtlY3LvuXNOx1Ei3bCHbx-uSpmkwP2xAbSitWQoA/_zYNFQPUFHvXI8IZd3_u8M4Oj0A-7r2e/5\" target=\"_blank\"> <img src=\"https://sli.bloomberg.com/imp?s=1105644&stpe=default&li_coord=mobile&collapse_width=550&li=12565881&m=412ded93419b0667798b58cd796b87cf&p=02102025\" width=\"100%\" border=\"0\" style=\"display:block;height:auto;\" alt=\"\"/> </a> </td> </tr> </table> </div> <!--<![endif]--> </td> </tr> </table> <table width=\"100%\" border=\"0\" cellpadding=\"0\" cellspacing=\"0\"> <tr> <td style=\"border-collapse: collapse; mso-table-lspace: 0pt; mso-table-rspace: 0pt;\"> <h2 style=\"font-family: Helvetica, Arial, sans-serif; letter-spacing: -1px; font-size: 26px; line-height: 28px; font-weight: normal; border-top-width: 1px; border-top-style: solid; padding-top: 12px; margin: 20px 0px 0px;\"> This week in Game On </h2> </td> </tr> </table> </td> </tr> <tr> <td style=\"border-collapse: collapse; mso-table-lspace: 0pt; mso-table-rspace: 0pt;\"> <table width=\"100%\" border=\"0\" cellspacing=\"0\" cellpadding=\"0\" style=\"font-size: 16px; line-height: 24px;\"> <tr> <td style=\"border-collapse: collapse; mso-table-lspace: 0pt; mso-table-rspace: 0pt; padding: 0px 10px;\"> <p style=\"font-family: Georgia, serif; margin: 16px 0;\">Jason Schreier interviews\\xa0LocalThunk, the creator of the hit game\\xa0<em>Balatro</em>, in this week’s <a href=\"https://links.message.bloomberg.com/s/c/GSC_2llTae5jVI3XLZhHSKaoCcCO8a0_zOCtU8zUAwU-DYUB1_qdcbWstBMntzirMoOpZ7WWfBly8iKenOVJFf2qKRM9zGaBa70caqFmHW29HJMjnDWkj4SVGGM5e2JZ1GctDOWFsBuZArURiwcYOmswL4ryVV6FzhGeleygjc_rDwmujM342wXjmAI5r5ks7lKCYGA1o7pCvfoQyp9CYeSopIwTnN-pAkvkPm6MCABecCc-PJm6LJGR2OvpzLZbApnPFV7MY4raZGyIkajy_GmfIyOg9wCY9E9ZdmwJJngrh5Z0sHJTRYBkvJ1OJL7JxAMPs2YD2Qqx7FP0AMYC_Tt02e6cv0STXzSGk9mhmJwwdWjbImTN33ASySQ/xx1BPWr-sAIW7RatyJXMho9N_j2TAca6/5\" itemprop=\"StoryLink\" itemscope=\"itemscope\" target=\"_blank\" title=\"Link to story\">Game On</a>. The developer tells Jason that the addictive card game, which racked up critical and commercial success in 2024, started out as a hobby. For more from Jason on the video game industry, subscribe <a href=\"https://links.message.bloomberg.com/s/c/8ADl_Ub7aaDT8aTwZZZOVcxJuxoQoJqfc_QBY9k3BT-qJhs0xhWoqGcnhmxzZ3MSQv9AWiVICE9WotV-V87IBDDPZItABjoPMzQkk0qcdBq7K2B_kKwlmNRq5RaK_dc4TaC-rq8LEBul3A62bKRFjZoj7VkigGryIR6kyMmivpOG28Qgo3WoL4ex0lkG3CKpwtbVtSEY7-AH5npSwQOiqNosVkFzVWq3aztmceQ65Dnju0nUTMhgKspK5UTiw9vPfSUbAlKwjL0YE-2wSeqpYsUSvaW1RvM4babSIv6oTXY-clHBeLetrXDQAwGC5UdVrzCe0D_5jly1PAjpgffg-nT7KGmlbMldRWDMgoOFr-aExWttqENoGVbfkpc/AjhbkZkNoGlF98l5_p-l2GilRTbyE2qG/5\" itemprop=\"StoryLink\" itemscope=\"itemscope\" target=\"_blank\" title=\"Link to Web page\">here</a>.</p> </td> </tr> </table> </td> </tr> <tr> <td style=\"border-collapse: collapse; mso-table-lspace: 0pt; mso-table-rspace: 0pt;\"> <table width=\"100%\" border=\"0\" cellspacing=\"0\" cellpadding=\"0\" style=\"font-size: 16px; line-height: 24px;\"> <tr> <td style=\"border-collapse: collapse; mso-table-lspace: 0pt; mso-table-rspace: 0pt; padding: 0px 10px;\"> <table width=\"100%\" border=\"0\" cellspacing=\"0\" cellpadding=\"0\"> <tr> <td style=\"border-collapse: collapse; mso-table-lspace: 0pt; mso-table-rspace: 0pt;\"> <h2 style=\"font-family: Helvetica, Arial, sans-serif; letter-spacing: -1px; font-size: 26px; line-height: 28px; font-weight: normal; border-top-width: 1px; border-top-style: solid; padding-top: 12px; margin: 20px 0px 0px;\">More from Bloomberg</h2> </td> </tr> </table> <p style=\"font-family: Georgia, serif; margin: 16px 0;\"><a href=\"https://links.message.bloomberg.com/s/c/h_0Tn6mmP1PGGd4hwooNyQGuKTiI4P-8rPnU_zStYE4_1t0Cg9mxKqq0p3RzjBiF2jIortsUAk0ieQje6Xpykf5imvRTWlS4nKtyWeL8mVHY3C9Z0eX1NlcUOn_XJjpbxRGuHZm3k1ioEbrlxz_sco_g2mQbUI7vxP_rv4fmZCeL4eq7Joa5HqaoHIIUx7tMLwqXtDZSRe3qwKaK7ITVZeC6ime2WCf3ubm_d-s1bs74jwMi6gip1bd3s6t_6d_67tLlz8ciet6-KswYimM2soaYU7yVz5Pf-IvcSrtsEx6Znfx46kMSvH6cWfhC09xgBXx0H_okuix4CH-OPsN3s0eUBLmZdgTSyl8aWU8d-wcnMGHS_OlEidzpuw0/eRMm4aMkR_RN1mXdBljGZYIaZo_QHGK4/5\">Get Tech In Depth</a> and more Bloomberg Tech newsletters in your inbox:</p><ul style=\"list-style-type: disc; padding-left: 10px; margin: 16px 0;\"> <li style=\"font-family: Georgia, serif;\"><a href=\"https://links.message.bloomberg.com/s/c/b8WIwo5I1n8rqLi8vlvYu91Qfa_zC0XQwBlpb_4ySWsK6IWMW1jxbH0EMOkm1wmlhIyW6WJ5FVQVPruNr-qYJ0eGVqCBfswWT69WKhwz4v2i2BdvgrWwqK-NV0IBjZW1LibWkR_chKnXnMc4MJlr3_JBsoBpSUPOCP-9JzNs6iLiWQzVrwpSGQhfzUCyfbMVu3yGMLYSvzibXyERMB1xSlBu5MCq7bCRcgqDv4ytIa_SwbxZp59RQmdPWZIGpFHfoAQrIzixuHZ6B0kwAqFzNa8N3VW7DHPiXt-7wOnhSQHI6o5ef_oDSaxWxPGALfYNczKFiiNQzdH6ds98QZdhqyPT2i5nbu6N1XXvWfVu9vykPk2x-SfFdh5LYpc/yHnEL1d74AhDPMrMe9AGEPdPsLydz88L/5\">Cyber Bulletin</a> for coverage of the shadow world of hackers and cyber-espionage</li> <li style=\"font-family: Georgia, serif;\"><a href=\"https://links.message.bloomberg.com/s/c/Z7d0E8FP7v2RI35-zB991slzjF6yomsnOFefvBgkXtPKQEOZYWUzhNy0KKOTn-P-SicPLucRILhZiTnJ1qwKH9FpsPL19uDWkmdxATxDs9Iu0i-4Zfs909jTcq598Ij7EsGvqXfo1TDheAv16xn5BgK7DXNuMoWWVG7IzHMEdBqTw9div1lv-BT28OArSRQnFzLdSMosLK7zExR82tu_3ZF056c34DN0kEi0Kvi-Mn5-A96hN0HTPpE7vSPK--XFcK7AeYRkL0fPP6VLsB0bPdWkrZqQjMXZwoIxwsiWzP0KMbOogsNNUU-5-knOXXfGNrqVUot1Q0a0A9d-HMdyvE1lRbbAwKUjnhNEEPPLUa5lcVEMBlD-N34m6us/dIX_zz8d-DmvR_3bp9j_TI32QKIRDMej/5\">Game On</a> for diving deep inside the video game business</li> <li style=\"font-family: Georgia, serif;\"><a href=\"https://links.message.bloomberg.com/s/c/QA2u7zrbfkujMaPcruO15KGJ4chUfTxFhDF-5aNcTDE-WYiMmUaZO2KXCq3InEZHpq2EMyWgRLVmfic8tUloI4zOBlEWQILVTxWIL7Rc7QEHnD-41w849zQKc_wXcaKBAq197jeTw7JbCt_vmZuTQHE9U_zCAcS9UyaVLY25a6IB9ayk4ftk_mgR58cQ4MtWquwk9Tez4Ajy5gpmhHgIzu5uVSUvLqV1R0hDDtMXy2crGDU2j8GQReMQnqU94dQOU2sE1neq3UP0VGqghaqQATRTLw36rB7Joa9lz6VkphcFD8JUYiGx1eWGeFnhWicDaPJNRPjPBIXaXJ6G2w_Dh5ce4Zl6LGy2fBtFYtpmbgQ7T06S_AkYQedsF8Q/yI1l0Z0OahCkRzDFikxQZkxUsdbjbqUD/5\">Power On</a> for Apple scoops, consumer tech news and more</li> <li style=\"font-family: Georgia, serif;\"><a href=\"https://links.message.bloomberg.com/s/c/9PWjPxtGk0efqYrYEeY63-fCr1ypI0THgp3HRexyXDxbM9LYBE10_uR5k9JBLRAavNKdlcdm-33AAXJQ8cUTWxAS-GpHSQUpUmQbMwB-9JnDyrhfn7IsP-wjgDXlVRX0ygUhtn8lJyGPudMHTF4vjD2ZMjiLURQApaoLOKZJ4KJQ0eKQpfMMuxwZLWYcaRJw0qHjR-tXpsiaEa9MvpQpZuGk6L3M0nJLxe4ZNXfpYOetVS4ExpnxGZcz-HjPTL6fCzQrKXGNDDRQkyVo7H-KoF1dfCr7oDvocaVm8XbzhHnPL1qzr38CIz2uqhPq6q9oqodafmFkMfbHd4mLdhyVqVERpxtXU3EtG_D2xKTyUXUU4ktaZtyXgd61Wh8/P3_CNL_u3wt3eG5yZ_5CnpaU9bd6yjTE/5\">Screentime</a> for a front-row seat to the collision of Hollywood and Silicon Valley</li> <li style=\"font-family: Georgia, serif;\"><a href=\"https://links.message.bloomberg.com/s/c/VfwnWAI-5-FW-fDCLmXBM7oB6heQmFwZZdqkWjiVrLUTYfBd4XaLVFPjrVdAc6nxxLWIYQ3KzoVIRkq_-R3lfNAixbFN74jNJN3pCzW1_aQRgz_xQvZfLCuNNastcNbgbAX6iwSYlZUEYhamF1P8UIQOlY5V9lN5VSDjx-BLkSkcyrW000ARMrXGSeTmk2pK6TMVULz7yOcYWWOB0ij_4UlDO6GGlt7KlBHKXvoC-d84cbdqN1jHIQwgHK7S-I4J8-U8-WYGxw3iNvGo6sc6eNpdD0a0adEpLT_TAoiarND6YzgG7_ePHuT5dP38tEr6NqDfhW9vSpFMmPp-dX-YVIWK1vA2A7AwF5UbsUHfxnmAP-K9VO50J_2rLzI/bgTr88RhKz-gqYtekdWMU30IzoRO-c_t/5\">Soundbite</a> for reporting on podcasting, the music industry and audio trends</li> <li style=\"font-family: Georgia, serif;\"><a href=\"https://links.message.bloomberg.com/s/c/x43VORvhHiMA0RWa8joXM9HqkwAI3UNEzL_ZzmKeZa7MSBwEo5R6Obn4ascSk58fooat6N0HKJTGVpZO5NU30DOHeLScrrpSzfTbedtI68q0QOZ27fT69RrvkKufe7n2kcL1vrgCQo_A3cnRtrktciAWYHOrLFoTXjXUAtykXEYk839iDmjvy1BCWCcAecO3Tlyq1GvcS0dkmKHmLxtjnYBkdlR-u-3sBZiBHAkScBYJotytaqttqF2bS9ntLhML2hZOVskFsnssNmBnj5CT2nVenzszQcMi465m1pV2_GRjZpHkD7Ea3LNTKBW8FoWJvHQ2NurFqjs9aiPM8zGwRDYcHAdbbD2qzryv2Mg2U5tMjbUZuCcxU1Rq6P4/8ihdIwFFaO7nto4aF72MHGyLrSIe3nL4/5\">Q&AI</a> for answers to all your questions about AI</li></ul> </td> </tr> </table> </td> </tr> <tr> <td style=\"border-collapse: collapse; mso-table-lspace: 0pt; mso-table-rspace: 0pt; padding: 20px 10px;\"> <table width=\"100%\" border=\"0\" cellspacing=\"0\" cellpadding=\"0\"> <tr> <td align=\"center\" style=\"border-collapse: collapse; mso-table-lspace: 0pt; mso-table-rspace: 0pt; padding-bottom: 10px;\"> <strong style=\"font-family: Helvetica, Arial, sans-serif;\">Follow Us</strong> </td> </tr> <tr> <td align=\"center\" style=\"border-collapse: collapse; mso-table-lspace: 0pt; mso-table-rspace: 0pt;\"> <table border=\"0\" cellspacing=\"0\" cellpadding=\"0\"> <tr> <td style=\"border-collapse: collapse; mso-table-lspace: 0pt; mso-table-rspace: 0pt; padding: 0px 10px;\"> <a href=\"https://links.message.bloomberg.com/s/c/5abJ6pfdjJ-yftWPG9ZnT67G3NbEbLWv2ji00E5yaGktPy-z5YIVAL9bv6g7LdAqmDVL5dnoB0M0Y1Zty2PMhoDYRjUmmp19wJ3scW2bhkQpZUmh91itfwiF09F93nlBDe7vo0XRS-FTU39GSwfaskiProUmI0OlnbZT3Py5cwoPa54OAj-BhqnzVTfToeQOclaTPySwcUDb8ypIMtlRB3OAPIJpMtrd8A0gsCwEEHf3DcNUCQFVicKA7PiBmrlYIUJSDgsaclJ_MYl-f0Ohwnhv2ol_RJMhpp5jdyGxLFb_HFe9XejGBFRgeo9AjP29IpLKrCgEgEwiAdvlmMvix1QPaYih7s11M-m6LlGZG_sg6Vh3bFN26NuAj3JAHykA0So6GhOfi_nGqXfbBGITKfGW5gC80GC3bmxv4Q7WAXe5rvp4/ztAyuZv5-hUsnpcvEE3j4fV2HaYZOLgg/5\"> <img src=\"https://assets.bwbx.io/images/users/iqjWHBFdfxIU/i74qcvoJlmqM/v0/-1x-1.png\" width=\"39\" height=\"39\" style=\"max-width: 550px; vertical-align: middle; width: 39px !important; height: 39px !important;\"/> </a> </td> <td style=\"border-collapse: collapse; mso-table-lspace: 0pt; mso-table-rspace: 0pt; padding: 0px 10px;\"> <a href=\"https://links.message.bloomberg.com/s/c/N75by-sBK8wTAMZ_ZK8e4QteZNDiaRoabx5sBGJH-Rkgr9_IYumQ7xLElpb-T9-T46Bdh2Ue8CWuzAZRfKDSw1CwlGvV0_mg7sco0A3Hc5n9y6lYM2tSoCXr40HbgncDad-yqy66inA1wf3ARKYH-Q7oErT681Epa8s_qv7_NT5kRiq5uVJwN1xwpHQ0VoULrHIxgmpaJV1MQmgv7B6sHGvpMcYcUpiUxz0pM89WSAZHUGxMOaLzmELAOJRuz2enbAL6COkGjPim6nEF4-vXFICL3i96qCZHW-Ti64kF9wDpmM9m6uDbdEfJ8pYxKY841QBQMPBRorkhIUX5Hm4doZFPP1iQ5mkXCXmNZMd2GsWtp3FuZQcbGccuumHl9Yra1XV09pITluBJg-MQE34ZG_lgk8P8V1-uKWpyQBl0n9UdkWDq8JUW5Q/fA696KddfoUe3tJjgDM6cJYtlArPzxhl/5\"> <img src=\"https://assets.bwbx.io/images/users/iqjWHBFdfxIU/iJGFAUI9aUUg/v0/-1x-1.png\" width=\"39\" height=\"39\" style=\"max-width: 550px; vertical-align: middle; width: 39px !important; height: 39px !important;\"/> </a> </td> <td style=\"border-collapse: collapse; mso-table-lspace: 0pt; mso-table-rspace: 0pt; padding: 0px 10px;\"> <a href=\"https://links.message.bloomberg.com/s/c/zYqzzBTFeDMNuVqvflCwm1IUBjwcN7k6YYbnh303RMJ6nBRZoAFr9JgfX6Ov7rIsbgptNrlgzOrfzVOT24OKRGzs2xv67sN04StoNzvu8C7fZsZSMgAZhoT01qmBF5BSgjZwdHvJbH5RXO2wNIk1dW_ON1N2z9HGEus3foIZnEqC_pHJfCRj6bWZCC7FFMvjUccT4UFvFbIN4LxgaAGOBA7Ml4d6MnbUxAYcsUlkQ9kxXYMlBt8sVaqXxYcn5CrZH8V65hug0Z1wVIpl8nsHCP-nyoXwVCy_6KXAnkaLlPUz3WLJAPL6l1hOndL7HcPT3ru6XvVzss3cygcNolqKTqvi-MPkqVmT1fmBqYA1k1ID4K-52gjULuGdV_NatLn-ybuu3W2KCvk/u2RThgdxdeFIc0KPniY3bn7ikEdYldyh/5\"> <img src=\"https://assets.bwbx.io/images/users/iqjWHBFdfxIU/ijPrci.tuuHU/v0/-1x-1.png\" width=\"39\" height=\"39\" style=\"max-width: 550px; vertical-align: middle; width: 39px !important; height: 39px !important;\"/> </a> </td> <td style=\"border-collapse: collapse; mso-table-lspace: 0pt; mso-table-rspace: 0pt; padding: 0px 10px;\"> <a href=\"https://links.message.bloomberg.com/s/c/EuNjd0RMRTFZPPPAHYdB7FY5tZZYnYmwxbNbjxS12eIuF-KsSt0HloO-7-Z3b5RbOSbNFftdO1sFfIGMc34AlsT2FvjdHkfZy233W2mr5buq2rgEPsc3bQC1rd7BaHx6ZPjdvDZqFWzK6_uI90K4pb3NYZ_KWiaKf27bqxCx8djbScYzUCy-apR8zq6uoGpIwNdDmH5n7y5W3ok9Mnfx-66FBvH0R2cDR7cUrkWeRiEHUVK1wQfNFerJQpU0S74DeWF6s21FCpeMtsVeV-t3xo4JmBGxwUwQA6Gfh5sTTvANaXqxTQibIm56dMwb-phXGJg2Dba7Xq3W9WadFMkxHAcw0oUL6er-m17pY1tPzpskGCMpU0GiRS9NhFomXoI_tA7NZocrXCTc-LNL8gEGOfCJxlEbpThkCmt9AU0EqOrMs2NsF2DGkjz2q1D0K_yB/ua1-MSwskm5lAUZOLS2bWBDgi7_tS2v_/5\"> <img src=\"https://assets.bwbx.io/images/users/iqjWHBFdfxIU/iSmM0dmg0BSE/v0/-1x-1.png\" width=\"39\" height=\"39\" style=\"max-width: 550px; vertical-align: middle; width: 39px !important; height: 39px !important;\"/> </a> </td> </tr> </table> </td> </tr> </table> </td> </tr> <tr> <td style=\"border-collapse: collapse; mso-table-lspace: 0pt; mso-table-rspace: 0pt; padding: 0px 10px;\"> <table align=\"center\" width=\"100%\" border=\"0\" cellpadding=\"0\" cellspacing=\"0\"> <tr> <td style=\"padding-top: 20px; padding-bottom: 20px;\"> <table align=\"center\" width=\"100%\" border=\"0\" cellpadding=\"0\" cellspacing=\"0\"> <tr> <td class=\"editorial-tout__inner\" style=\"font-family: Helvetica, Arial, sans-serif; font-size: 16px; line-height: 24px; text-align: center; border-top-width: 1px; border-top-style: solid; border-bottom-width: 1px; border-bottom-style: solid; padding: 16px 0px;\"> <div style=\"font-weight: bold;\"></div> <div> <p style=\"margin: 0px;\"><em><strong>Like getting this newsletter? </strong><a href=\"https://links.message.bloomberg.com/s/c/XG8SL-TW2hSIhDU5F4bxK7FTR-jl9NwndMtbWnuojCevftzvMCSoyY7C8SlJu5x03IpffXZImYu_WX5sW0e2lLjSmAPn7yNlXpyLCHKGUAyQyidk24c08oAWV0uUyPFMgwgSfc1L8fySNJBCPu7zb6YaGNZ6LG4gnkTNHzXk4AT7GA0X259XDhqVT_XlMKn1SDBj7CHiyHcn184_1Z2law3a5vgAEv7PlvFZ6fvn2UcXMcIGnngdNcDEHQHNiBcsKDlRtWTRsVOOsL_w_6MMT6hNhJdbxX42erygOQtChPh50kZOl9CsNI04TLWDjHNTUUYstu3V8eZpLjs2qvFjxX0VE8NrlJsJnjl4w8qdUZC6KQ2vvfKyMtk5plwfZhK9Wqm9VSyVBzgi5r5VBKVoJUD67JllpMZdz-8fKqO77oZSudd0yB6lG34yfDoU8ZUMJvz31Nt8wbTT9SKMRqjw1P2Lf2AvoEyVoU9q_2KPZYzYbFCLRFRbGVhDFxjFFI6WTL3S5tGcvKg1PMAMhbkLXkPweEQ5UvahvGxWd5D61cnBgDbaTLVk3mvJtlyGs3ej_vIxvZCoxDVsZdPJaFaNWcAb/0s3-DHU14T4pl8IOYTEySBGseEW11P6C/5\" itemprop=\"StoryLink\" itemscope=\"itemscope\" target=\"_blank\"> Subscribe to Bloomberg.com</a> for unlimited access to trusted, data-driven journalism and subscriber-only insights.</em></p> <p style=\"margin: 0px;\"><em><strong>Before it’s here, it’s on the Bloomberg Terminal. </strong>Find out more about how the Terminal delivers information and analysis that financial professionals can’t find anywhere else. <a href=\"https://links.message.bloomberg.com/s/c/keW7bk1klDVlstVeB6qBDVsDzQ2V3JWFhuRAQNMHGmXqntd9_reVCNRtAdFt4agNE0qJM-Rh3lbQVgY4G_v83gpxfV9V6NbMWzPPfSg3ZqbObiARGdB6Rvr3u34-U5TQ_Icg3tbXv-9aIqb_x1t10ruWudRy9WDPIhqL4ekL4o64SUvJx-LhLtGGo-5jEjt5TV0Dx7yklh6cWd7LtNs0vBZOSVoldX2illXX9EMQcC91yzem_C3MnTqYJ2Sdg9FVgdhuZk11T44_kCnyOGuOeEvO9kY6Hd3wX0uQQRUY3nICSTeGsFntJrlYyxQBAqvhUjsUmTJF2nku8LXhqJU34jqcaHYqD9EWY0viWQ6id40Gzblgqk3wbixaO50kzzZ_odonHeDpBQ0jdpBTDnmu3vMxWM4LGnNlKzrptF71zfvbd4z0Ig9UHBgS3bRgDHdgrTz2S2BJgXcpdZujuFC-yF5qW8EYzQyD1ZrsvZ6lrM-g_Ofx2OEQTXkBu5Q1WqOhShTwvpFGPjk-WgajJJMv9WDfleesL6dXggtTl3qPuGddedr_dQKebiAjgAePfLuzYdDS9JiQbalYAiZ9nvLPN8VtI96afBPifWz6b__CL6G8yBRgzZfqTO7V0azlr2kECvaWb357eZzxiWtpqCHgVl8mmdvbl50LOgA/o7N8eGdUypwXkEvbUyZqTocGS2lsFkMj/5\" itemprop=\"StoryLink\" itemscope=\"itemscope\" target=\"_blank\"> Learn more</a>.</em></p> <p style=\"margin: 0px;\"><em><strong>Want to sponsor this newsletter?\\xa0</strong><a href=\"https://links.message.bloomberg.com/s/c/OsDkd35byJlMLiQ9oEZLo73reqss6WXxUywFRMmxc9GLGGRdy4kLqMS4TqMIG85D0G2M4wlL90yXe4OGNZokhyqnHj7GC6UwM7-a-eDfURV9pKGcCBLyz_3slRwtWiae1OqvkZke-gDkJtVYsnuUWzYAJV3TI3yDLJEfgBaqJo45eLPNnx4t50Dbn9jYm1Cz1h5BMhvHa-iJsyTHXVzUBUtZ33feRwNjJuao2bOHCBoFjLwGsYirG4_qHkkpnW-ZUmuyBQTobfexZ6gZ2mUIbftwKUUn1ri346OtvJsPqRBDNHO-aehzmlXcmI9aqYF9623EAVrvYOMGQ-OZITkAJfaFeNmpnFoOS-ufiAObAoe4-c9hMvEAcdX8iofMOpZLm1NfRN4rt7thI5ks_J8Pev6Z6sZzvOQceFcncliG44p7velbxk0VcKF3c-l3rd_Xxz7PF0D9aaBPpe76fk2Ot0dCLTFYKKfqzc9sEZgwaCmaAJvWXuWcRV71k2s33dJ97aMLyNzAjH5TVwdgShEAGawturHGRwJ1_EA3Pfb9KO82k9Hl7wSiOEFG4kRqU8kSd_io4NBsmSY1JZbL9i5g5STZ/rArtw4RqnpowR8c-pc6nUWBBdGvyjFqB/5\" itemprop=\"StoryLink\" itemscope=\"itemscope\" target=\"_blank\"> Get in touch here</a>.</em></p> </div> </td> </tr> </table> </td> </tr> </table> <table width=\"100%\" align=\"center\" border=\"0\" cellpadding=\"0\" cellspacing=\"0\"> <tr> <td style=\"border-collapse: collapse; mso-table-lspace: 0pt; mso-table-rspace: 0pt; padding: 20px 0px;\"> <table width=\"100%\" align=\"center\" border=\"0\" cellpadding=\"0\" cellspacing=\"0\" style=\"font-family: Helvetica, Arial, sans-serif; font-size: 14px; line-height: 150%;\"> <tr> <td style=\"border-collapse: collapse; mso-table-lspace: 0pt; mso-table-rspace: 0pt; padding-bottom: 10px;\"> You received this message because you are subscribed to Bloomberg\\'s Tech In Brief newsletter. If a friend forwarded you this message, <a href=\"https://links.message.bloomberg.com/s/c/07sONcMBMs5PdXtM4m3AFf6A4N4I9OoPQklPtCpf4-xonQImMU9mQ6xT5ucBUQywmfS1Hlmu5fAF2kFwdy2JwYLvAO_EaEFcIR0lQKJOaEPlvnuqaCWj1k5xIC-C-UvLkFbkRduM5mPCDHGgeMhwvAvyqvXNDiohua4HnAKPjqyHoaNo1JuFInGrrkjQaq8G4xGUyKQvqoEULlhqJqxjBXj7iEMgMU0YFqgWhO0VxLe-I4D_ZKWH74ndF8w2lAINlg-F_z5Gru-TZr19TVx-HyuP7eA4UC2FW0Nn2JNOBPhfsFiOU5hDkb1zl9MOj3FbwtPuE6kUVLA3N-6qwj5mJpaRnc0JtaLEqeKugsOnhKnDAg8ppnBSgLOtyvM/x--yUYLwvz0MXQ4VKYfslaB_tsIZe9dq/5\">sign up here</a> to get it in your inbox. </td> </tr> </table> <table width=\"100%\" align=\"center\" border=\"0\" cellpadding=\"0\" cellspacing=\"0\" style=\"font-family: Helvetica, Arial, sans-serif; font-size: 14px; line-height: 150%;\"> <tr> <td style=\"border-collapse: collapse; mso-table-lspace: 0pt; mso-table-rspace: 0pt; padding-bottom: 10px;\"> <a href=\"https://links.message.bloomberg.com/s/c/rfKx0JOptl673kM32mqSPx9dLljq7IRdmnSO3NwbJPV7qrG9Ek56iCqcVgdqIU3K9Sh16PjsCcW5W9CGGXZ3-NpKahRdQzz4bmiepFf938pRva0dWeqP6cycGpd1ttx3WsoslgIhXU4NLYggrnHHpuL4DY9Cu0sMSX7-ujLZgQKqzOP9ki25yNSoO2ERL_jXYMN2dOpKYZjiW6YxfnGAJmNiIWxIAce4Qu1P3S65NWQCTxer5bwkFxZZMkjQp2fCJXlq09_HJmaV5UUcZZy3TDqCD1nvs_kTxDM53JtygT1bB-ZudQIdSa2bH1PfIevHflPlYCciVA5sifwacWJT1Nswar4zzMfkdHuv07N_i7p68QNQe_2Fw5Mc7Ewb7-eIK82x1yZx4R9-Ed5pRApOy5xr6XOhg7gpRNDYnrZcUfu73LlSYltez1GAKoYQ3CW1KSC6nu729l1C_mTZ0mcFDHIYb_Zk4OPqsAz0xNKMbgO71QqHNhvtLKLR_Ngcomgn4nqxF6IcZZAsrX0VB4R-DphgYP4J3-W3HpozpUKK054jhfQqlQP9VXwO2aeN0OV_kvanumIg-W29G7erH1rXJG6tS9Z-QpH0B5bvBU83aauNCavNMfsZzrwZud6PcCO_dvWPG_zbsr5qqhcAaRDDSFHNateGprvJM0gogIctBuqKrTKp0gEVBuEd1lDxV6QbCCGo6cVVqX8/wqrDglRGe0iaTvbLp9jgGxc0cmU8_s81/5\" alias=\"Unsubscribe\" style=\"text-decoration: none !important;\">Unsubscribe</a> <br/> <a href=\"https://links.message.bloomberg.com/s/c/hTedKLYWUuSxtPWBE5S3qK4ixUbP31FC_CrPc7Vy8qOZcLpPUhAHLWMZeM7wUt8EEAn0CVxa80zD7KGNBFFqwEOYJyJVMU7pVp90e-iQHAXjd1vuiaw5uKuZRqGIclL8halvHumeckL5AKeSXlObNIzqF1XZmsxxZtjEi73WNq4PyOhxzdSmmE_TxFLFVsMoc4TyPEfBH-3iTGeVuqjWYZ3eOfzvBLRw7UH_Pk6gUFFgu32fuqVmyShYDqchdfx_bfNjMMa8ggxayY1lzA3iSHLkSpn-JgNbDPh2hW3il3MYQRXfj3S8xDeS_EKUWz3nFGtAt1HRWe43LOGac8KYOeBun3slq51Zu2I57ItaKhGM1o88/8r2nSTD5rdhso34GCc4Nqb_evI8SeeIN/5\" target=\"_blank\" style=\"text-decoration: none !important;\">Bloomberg.com</a> <br/> <a href=\"https://links.message.bloomberg.com/s/c/RuZxOTdZayymOXBcAEvMibF2q1jllLG_3WKBnMPkYkwLIzT02em8jYmM6fvNg9ntPEGbNvrO_FUcljFVQNVuTsS0aEhXCGw0zBDyJWG83wXichCJi7NGDhDJ2KBW5m-fjUjrP4yN02jZ3zzdvUOlylB38hqA47EZM-fboggXr1W46lWdLQ-oCk1viqi4FIqaYkyjBXpIVRKkuuUJduTjP29UoAMxYx7o3Am7G5ThNqwRqCCGS8PXoZDEr8kbvIHOLINO6lTHnJWuiAJ4pgy2pJc7rFB7jqIOhbI5oZ-uPvvB1yroT3x_bGUVatZksSI1DV8FjQqGDihlguaP6cOJrRWBJKXzuLAWkuF3wP8lbMsHWyEt4Sz_q5pMQbU/3R9oSuxf2tweF8vBGeBYO9MlqkhkFzCz/5\" target=\"_blank\" style=\"text-decoration: none !important;\">Contact Us</a> </td> <td style=\"border-collapse: collapse; mso-table-lspace: 0pt; mso-table-rspace: 0pt;\"> Bloomberg L.P.<br/>731 Lexington Avenue,<br/>New York, NY 10022 </td> </tr> </table> <table width=\"100%\" align=\"center\" border=\"0\" cellpadding=\"0\" cellspacing=\"0\"> <tr> <td align=\"left\" style=\"border-collapse: collapse; mso-table-lspace: 0pt; mso-table-rspace: 0pt;\"> <table border=\"0\" cellpadding=\"0\" cellspacing=\"0\"> <tr> <td style=\"border-collapse: collapse; mso-table-lspace: 0pt; mso-table-rspace: 0pt;\"> <a href=\"https://links.message.bloomberg.com/s/c/00YwIX93EzBR34c4jEEmu58HWCTOyxKgIu8a0JiZniYHs2jdx4XjT80ha4ee98Y7EkYkI8ga9Sfy0s5ndMBBFHojQ3JFSWnEmXWr3kPe5XbbF-o5ekBLtTgUb09fbL5VBDs4flkqj4DotOPYC_DZnVeXKkwkE9dLRQ9jayvpmttAUOBzQpDW4pUG24Rc3991I5Gb0zS8F6OiXYN2t3ErtMSfF_Ntx-_USQFey35bLdJkhL-riU0fUSp4Edw0rsO3owelCvZLO6z0Mq58-XKJkJ2P-BfxhjQ2Wsj-SvuYOlFLXn4d1_MRWFZb3MtIicr-gA5qsicqjDepkUvGUVPYI4zRmt9P22PBU1lVVqu1zWzpi393eDb7ZHA5wuqpzES8veXJVXeUVlf0pn1O7xNGaY0CHo17vvGb7V8/0EZxLd2x5zlQpdN1y10cKt1y5PhKdv5A/5\" target=\"_blank\"> <img height=\"18\" src=\"https://assets.bwbx.io/images/users/iqjWHBFdfxIU/i7ESRvr8wb2g/v0/-1x-1.png\" border=\"0\" alt=\"Ads Powered By Liveintent\" style=\"max-width: 550px; height: 18px !important;\"/> </a> </td> <td style=\"border-collapse: collapse; mso-table-lspace: 0pt; mso-table-rspace: 0pt;\"> <a> <img height=\"18\" src=\"https://assets.bwbx.io/images/users/iqjWHBFdfxIU/i84ASdYMF2Xk/v0/-1x-1.png\" border=\"0\" style=\"max-width: 550px; font-family: Helvetica, Arial, sans-serif; font-size: 14px; line-height: 150%; height: 18px !important;\"/> </a> </td> <td style=\"border-collapse: collapse; mso-table-lspace: 0pt; mso-table-rspace: 0pt;\"> <a href=\"https://links.message.bloomberg.com/s/c/Xafea7TFupvjwSTT53Np_iVUyFA1kqx_ZOrdzAf832VuH_UY2ySdq-2u-KS1_GvPkbEd5btOcYBlsZfzyQ_UpU1BujwyBKCVx9sFr42zsbP-d-0dGwG-8lwCpLm7KSkq68fTJOPfTfioKK0gvpDR99qb9jAuGItaL_OS1v73W-drHevkGZzWWHo0pylIqe-ECFEtEm38VAOSJzFfS7BZVFW3pyZ7vU-W8H5Q6bhvXUcwPQgOl0FJFc79OGeUf-3EFMGTI7Xq2gdgI9yskPlYUwMsnhWg7bPPSa09thOMYn9dGZ5Tjrc_0JxFnnjv9cQPVua0ft9ZRi5N9uM2dWtY1FUj6NHXD_bJIpNV4KtIHE1DlYF6P-ea4lSwU63-a8y4rfukKekVu381q1tt-WebqrwEfJ-7vqP61Hs/U4ft8RD1BkFnwUJMgcpIrANEvAbRcrS1/5\" target=\"_blank\"> <img height=\"18\" src=\"https://assets.bwbx.io/images/users/iqjWHBFdfxIU/iHu0LhjyABMM/v0/-1x-1.png\" border=\"0\" alt=\"Ad Choices\" style=\"max-width: 550px; height: 18px !important;\"/> </a> </td> </tr> </table> </td> </tr> </table> </td> </tr> </table> </td> </tr> <!--[if mso]></td></tr> </table> </center><![endif]--> </table> </body> </html> <a style=\"display: none\" href=\"https://links.message.bloomberg.com/s/eh/OyGHdcXmKsSiYMe3U0uZJPVt-STn9jy_UHT7epbtPrSDMOqRW6BxF5eP5irmJAGTEpWA_HM8S-TvYARNqxYZQTHNVT9EIRzNMwfl2CjZ1QU03DECGTsV7RGCXVZdfdLTztT_kB2Kb1Hxvi4PTbmjHPNfq-WGHW4Dm_PR55QLR_Bp2_oeY6lJubzl7XbkAoEv0fXwxVKhM8-iWFk9nnJjPV5mi-vzRjRLfL9JaSqOOBu8RuHR4Jh_cJGPpdED_8yNm7G7HUHqSq0sH5hOKj5JR3GQiwy1GXfNyFSpTb5T-p1FBnkU7CRD4w0cgLiJ6geEcokhGTUFt-EAGBwLL1qQy7sfwPMV3jS1uR9C4ACwDr5gJQ/jtnBrnajKuASGkpfadcJhmVq1ICTpZqC/5\"/>\\r\\n<img border=\"0\" width=\"1\" height=\"1\" alt=\"\" src=\"https://post.spmailtechnolo.com/q/MKOseqvJu2yZqmo2EBYMjw~~/AARGbBA~/KkmOkT4C1RXqpkidacrGM5VAkfNen8DHajdb_qGhsSwMS839Sul5P7aAltIZ2EzsbqXEZZU1c1MY-4umwVyWSg~~\">\\r\\n'"
      ]
     },
     "execution_count": 20,
     "metadata": {},
     "output_type": "execute_result"
    }
   ],
   "source": [
    "body"
   ]
  },
  {
   "cell_type": "code",
   "execution_count": null,
   "id": "384f6361-2dd0-4f37-b289-caf5e25ea386",
   "metadata": {},
   "outputs": [],
   "source": []
  },
  {
   "cell_type": "code",
   "execution_count": 30,
   "id": "2777d7d7-c9f6-4aae-8957-9eba743cbfc1",
   "metadata": {
    "execution": {
     "iopub.execute_input": "2025-02-11T04:53:56.458458Z",
     "iopub.status.busy": "2025-02-11T04:53:56.458003Z",
     "iopub.status.idle": "2025-02-11T04:53:56.467643Z",
     "shell.execute_reply": "2025-02-11T04:53:56.466328Z",
     "shell.execute_reply.started": "2025-02-11T04:53:56.458428Z"
    }
   },
   "outputs": [
    {
     "data": {
      "text/plain": [
       "'194efc5ce97c38fd'"
      ]
     },
     "execution_count": 30,
     "metadata": {},
     "output_type": "execute_result"
    }
   ],
   "source": [
    "messages[0]['id']"
   ]
  },
  {
   "cell_type": "code",
   "execution_count": 41,
   "id": "2241003e-218a-4d87-9d2c-8a2ce3e23afc",
   "metadata": {
    "execution": {
     "iopub.execute_input": "2025-02-11T04:58:53.392240Z",
     "iopub.status.busy": "2025-02-11T04:58:53.391745Z",
     "iopub.status.idle": "2025-02-11T04:58:53.399666Z",
     "shell.execute_reply": "2025-02-11T04:58:53.397680Z",
     "shell.execute_reply.started": "2025-02-11T04:58:53.392202Z"
    }
   },
   "outputs": [],
   "source": [
    "txt = (emails[0][\"text\"].split(\"Tech Across the Globe\")[1].split(\"Revalued\")[0].strip())\n",
    "all_articles = txt.split(\"\\n\\n\")\n",
    "title, text = all_articles[0].split(\":\")"
   ]
  },
  {
   "cell_type": "code",
   "execution_count": 42,
   "id": "f94bb629-75bb-4756-a566-da5f3d8b3282",
   "metadata": {
    "execution": {
     "iopub.execute_input": "2025-02-11T04:58:55.229274Z",
     "iopub.status.busy": "2025-02-11T04:58:55.228918Z",
     "iopub.status.idle": "2025-02-11T04:58:55.238472Z",
     "shell.execute_reply": "2025-02-11T04:58:55.237270Z",
     "shell.execute_reply.started": "2025-02-11T04:58:55.229247Z"
    }
   },
   "outputs": [
    {
     "data": {
      "text/plain": [
       "'AI investment for Europe'"
      ]
     },
     "execution_count": 42,
     "metadata": {},
     "output_type": "execute_result"
    }
   ],
   "source": [
    "title"
   ]
  },
  {
   "cell_type": "code",
   "execution_count": 45,
   "id": "8b8cafa7-304b-45a6-b5f5-d84e6c687192",
   "metadata": {
    "execution": {
     "iopub.execute_input": "2025-02-11T04:59:18.497875Z",
     "iopub.status.busy": "2025-02-11T04:59:18.497510Z",
     "iopub.status.idle": "2025-02-11T04:59:18.506788Z",
     "shell.execute_reply": "2025-02-11T04:59:18.505253Z",
     "shell.execute_reply.started": "2025-02-11T04:59:18.497847Z"
    }
   },
   "outputs": [
    {
     "data": {
      "text/plain": [
       "'OpenAI Chief Executive Officer Sam Altman said he’d “love” to help build anAI project in Europe  on the scale of Stargate, the proposed $500 billion US development from OpenAI, SoftBank and Oracle for artificial intelligence services.'"
      ]
     },
     "execution_count": 45,
     "metadata": {},
     "output_type": "execute_result"
    }
   ],
   "source": [
    "text.strip().replace(\"\\n\", \"\").replace(\"<>\", \"\")"
   ]
  },
  {
   "cell_type": "code",
   "execution_count": 46,
   "id": "fad8a6bf-b761-4165-9167-44c985171b6d",
   "metadata": {
    "execution": {
     "iopub.execute_input": "2025-02-11T05:00:14.606322Z",
     "iopub.status.busy": "2025-02-11T05:00:14.605291Z",
     "iopub.status.idle": "2025-02-11T05:00:14.614062Z",
     "shell.execute_reply": "2025-02-11T05:00:14.612955Z",
     "shell.execute_reply.started": "2025-02-11T05:00:14.606280Z"
    },
    "scrolled": true
   },
   "outputs": [],
   "source": [
    "txt = (emails[0][\"text\"].split(\"Tech Across the Globe\")[1].split(\"Revalued\")[1].split(\"Must read\")[0].strip())"
   ]
  },
  {
   "cell_type": "code",
   "execution_count": 48,
   "id": "808c2890-553f-4401-88f3-021ca78a5fc9",
   "metadata": {
    "execution": {
     "iopub.execute_input": "2025-02-11T05:01:30.440580Z",
     "iopub.status.busy": "2025-02-11T05:01:30.439930Z",
     "iopub.status.idle": "2025-02-11T05:01:30.448881Z",
     "shell.execute_reply": "2025-02-11T05:01:30.447658Z",
     "shell.execute_reply.started": "2025-02-11T05:01:30.440548Z"
    }
   },
   "outputs": [
    {
     "data": {
      "text/plain": [
       "['Rapyd Financial Network <> is in fundraising talks that may cut its valuation \\n<> to $3.5 billion from around $9 billion in 2021. The company, which has \\noffices in London, Tel Aviv and elsewhere, is looking to raise $300 million \\nfrom investors, according to people familiar with the talks.']"
      ]
     },
     "execution_count": 48,
     "metadata": {},
     "output_type": "execute_result"
    }
   ],
   "source": [
    "txt.split(\"\\n\\n\")"
   ]
  },
  {
   "cell_type": "code",
   "execution_count": null,
   "id": "d0c9fd03-626a-4d31-bf77-b4e203f8f50b",
   "metadata": {},
   "outputs": [],
   "source": []
  },
  {
   "cell_type": "code",
   "execution_count": null,
   "id": "92625363-b0b4-4132-a63e-696831a8e893",
   "metadata": {},
   "outputs": [],
   "source": []
  },
  {
   "cell_type": "code",
   "execution_count": null,
   "id": "3249af54-d014-4665-8ee9-0ecf02c8d6c4",
   "metadata": {},
   "outputs": [],
   "source": []
  },
  {
   "cell_type": "markdown",
   "id": "3a26028d-0127-4144-a086-3e6ffafe6ea9",
   "metadata": {},
   "source": [
    "# ALPHA SIGNAL"
   ]
  },
  {
   "cell_type": "code",
   "execution_count": 11,
   "id": "c39b7a28-6382-4560-84f4-3a0dfec15627",
   "metadata": {
    "execution": {
     "iopub.execute_input": "2025-02-11T05:57:18.948715Z",
     "iopub.status.busy": "2025-02-11T05:57:18.948278Z",
     "iopub.status.idle": "2025-02-11T05:57:19.223913Z",
     "shell.execute_reply": "2025-02-11T05:57:19.222880Z",
     "shell.execute_reply.started": "2025-02-11T05:57:18.948675Z"
    }
   },
   "outputs": [
    {
     "data": {
      "text/plain": [
       "(1, list)"
      ]
     },
     "execution_count": 11,
     "metadata": {},
     "output_type": "execute_result"
    }
   ],
   "source": [
    "emails = gmail.fetch_emails(sender='AlphaSignal <news@alphasignal.ai>', after='2025-02-07', before='2025-02-07')\n",
    "len(emails), type(emails)"
   ]
  },
  {
   "cell_type": "code",
   "execution_count": 12,
   "id": "6eaec6a7-d237-4d53-82ca-b67e016eb887",
   "metadata": {
    "execution": {
     "iopub.execute_input": "2025-02-11T05:57:22.086167Z",
     "iopub.status.busy": "2025-02-11T05:57:22.085892Z",
     "iopub.status.idle": "2025-02-11T05:57:28.378156Z",
     "shell.execute_reply": "2025-02-11T05:57:28.376515Z",
     "shell.execute_reply.started": "2025-02-11T05:57:22.086147Z"
    },
    "scrolled": true
   },
   "outputs": [],
   "source": [
    "news_sources = alpha_signal_parser(emails[0])"
   ]
  },
  {
   "cell_type": "code",
   "execution_count": 13,
   "id": "906b8a68-bc87-46e8-ae62-92b7da5c7938",
   "metadata": {
    "execution": {
     "iopub.execute_input": "2025-02-11T05:57:31.769221Z",
     "iopub.status.busy": "2025-02-11T05:57:31.768804Z",
     "iopub.status.idle": "2025-02-11T05:57:31.779428Z",
     "shell.execute_reply": "2025-02-11T05:57:31.778340Z",
     "shell.execute_reply.started": "2025-02-11T05:57:31.769195Z"
    },
    "scrolled": true
   },
   "outputs": [
    {
     "data": {
      "text/plain": [
       "[{'title': 'Mistral AI brings Le Chat to iOS, Android, and enterprise',\n",
       "  'url': 'https://mistral.ai/en/news/all-new-le-chat',\n",
       "  'source_of_the_news': 'AlphaSignal <news@alphasignal.ai>',\n",
       "  'text': 'French AI lab, Mistral AI updates its chatbot\\xa0LE CHAT and makes it\\r\\navailable on iOS, Android, and enterprise infrastructure. It\\r\\nintroduces FLASH ANSWERS, A BUILT-IN CODE INTERPRETER, and REAL-TIME\\r\\nSEARCH, competing with ChatGPT, Claude, and DeepSeek.\\r\\n\\r\\nCORE FUNCTIONALITIES\\r\\n\\r\\nLe Chat provides tools for both general use and technical\\r\\napplications, offering:\\r\\n\\r\\n \\t* OCR ENGINE: Processes PDFs, spreadsheets, and complex or\\r\\nlow-quality files.\\r\\n\\r\\n \\t* CODE INTERPRETER: Runs scripts, handles data analysis, and creates\\r\\nvisualizations.\\r\\n\\r\\n \\t* IMAGE GENERATION: Uses BLACK FOREST LABS’ FLUX ULTRA to generate\\r\\nphotorealistic visuals.\\r\\n\\r\\n \\t* REAL-TIME INFORMATION RETRIEVAL: Combines static pre-trained\\r\\nknowledge with updated data from web searches and news outlets.\\r\\n\\r\\n \\t* Its MULTI-STEP AGENT FRAMEWORK lets you AUTOMATE WORKFLOWS by\\r\\nintegrating with messaging systems and databases.\\r\\n\\r\\nPERFORMANCE\\r\\n\\r\\nLe Chat runs on Mistral’s latest models and introduces FLASH\\r\\nANSWERS, a feature enabling RESPONSE SPEEDS OF UP TO 1,000 WORDS PER\\r\\nSECOND. It supports real-time web search with data from journalism\\r\\nsources and social platforms. The assistant processes text, images,\\r\\nand structured data files without external dependencies.\\r\\n\\r\\nCOMPARISON WITH OTHER CHATBOTS\\r\\n\\r\\n \\t* Faster than ChatGPT and Claude in response generation.\\r\\n\\r\\n \\t* Stronger OCR and document parsing than Claude.\\r\\n\\r\\n \\t* Code execution similar to ChatGPT Plus.\\r\\n\\r\\n \\t* Web search supports social media and journalism sources.\\r\\n\\r\\n \\t* Claude is known\\xa0\\xa0for token efficiency, but Le Chat provides\\r\\ncustom enterprise deployments and flexible infrastructure setups.\\r\\n\\r\\n \\t* Le Chat adheres to EU privacy standards (GDPR).\\r\\n\\r\\nENTERPRISE DEPLOYMENTS AND CUSTOMIZATION\\r\\nLe Chat targets enterprises with options for SAAS, ON-PREMISE, and VPC\\r\\nDEPLOYMENT. Teams can customize models and ensure on-site data\\r\\nsecurity, making it a viable alternative to U.S. and Chinese\\r\\nproviders.\\r\\n\\r\\nACCESS AND AVAILABILITY\\r\\n\\r\\nYou can find Le Chat available on web, iOS, and Android. It offers\\r\\nthree tiers:\\r\\n\\r\\n \\t* FREE PLAN: Limited usage with access to core features.\\r\\n\\r\\n \\t* PRO PLAN: Faster responses, priority access, and extended usage\\r\\nlimits.\\r\\n\\r\\n \\t* ENTERPRISE: Custom deployment on ON-PREMISE OR VPC INFRASTRUCTURE,\\r\\nmodel fine-tuning, and API rate customization.',\n",
       "  'news_summary': \"Mistral AI, a French company, has released an updated version of its chatbot, Le Chat, now available on iOS, Android, and enterprise infrastructure.  Le Chat features a built-in code interpreter (Flash Answers), real-time search, and a powerful OCR engine for processing documents.  Key functionalities include image generation (using Black Forest Labs' Flux Ultra),  real-time information retrieval, and an agent framework for automating workflows.  Le Chat boasts impressive response speeds (up to 1000 words per second) and excels at processing various data types (text, images, structured data) without external dependencies.  It outperforms competitors like ChatGPT and Claude in response time and OCR/document parsing, while offering similar code execution capabilities to ChatGPT Plus.  Le Chat supports EU privacy standards (GDPR) and caters to enterprises with options for SaaS, on-premise, and VPC deployments, allowing for model customization and on-site data security.  The chatbot is available in free, pro, and enterprise tiers.\",\n",
       "  'date_source': 'Fri, 7 Feb 2025 19:20:06 +0000',\n",
       "  'date_source_time_zone': 'utc',\n",
       "  'news_provider': 'mistral.ai'},\n",
       " {'title': 'Andrew Ng presents Agentic Object Detection',\n",
       "  'url': 'https://landing.ai/agentic-object-detection',\n",
       "  'source_of_the_news': 'AlphaSignal <news@alphasignal.ai>',\n",
       "  'text': '',\n",
       "  'news_summary': 'human-like object recognition via text-driven reasoning.',\n",
       "  'date_source': 'Fri, 7 Feb 2025 19:20:06 +0000',\n",
       "  'date_source_time_zone': 'utc',\n",
       "  'news_provider': 'landing.ai'},\n",
       " {'title': 'GitHub upgrades Copilot with agent mode',\n",
       "  'url': 'https://github.blog/news-insights/product-news/github-copilot-the-agent-awakens/',\n",
       "  'source_of_the_news': 'AlphaSignal <news@alphasignal.ai>',\n",
       "  'text': '',\n",
       "  'news_summary': 'GitHub upgrades Copilot with agent mode , multi-file edits, and an upcoming autonomous coding agent.',\n",
       "  'date_source': 'Fri, 7 Feb 2025 19:20:06 +0000',\n",
       "  'date_source_time_zone': 'utc',\n",
       "  'news_provider': 'github.blog'},\n",
       " {'title': 'Google releases Imagen 3 in Gemini API',\n",
       "  'url': 'https://developers.googleblog.com/en/imagen-3-arrives-in-the-gemini-api/',\n",
       "  'source_of_the_news': 'AlphaSignal <news@alphasignal.ai>',\n",
       "  'text': '',\n",
       "  'news_summary': 'high quality, watermarked image generation with improved prompt adherence.',\n",
       "  'date_source': 'Fri, 7 Feb 2025 19:20:06 +0000',\n",
       "  'date_source_time_zone': 'utc',\n",
       "  'news_provider': 'developers.googleblog.com'},\n",
       " {'title': 'OpenAI refines CoT reasoning in O3-Mini',\n",
       "  'url': 'https://x.com/OpenAI/status/1887616278661112259',\n",
       "  'source_of_the_news': 'AlphaSignal <news@alphasignal.ai>',\n",
       "  'text': '',\n",
       "  'news_summary': 'OpenAI refines CoT reasoning in O3-Mini  models, expanding visibility.',\n",
       "  'date_source': 'Fri, 7 Feb 2025 19:20:06 +0000',\n",
       "  'date_source_time_zone': 'utc',\n",
       "  'news_provider': 'x.com'},\n",
       " {'title': 'Pika Labs launches Pikadditions',\n",
       "  'url': 'https://pikadditions.org/',\n",
       "  'source_of_the_news': 'AlphaSignal <news@alphasignal.ai>',\n",
       "  'text': '',\n",
       "  'news_summary': 'add any object or person to any video with ease.',\n",
       "  'date_source': 'Fri, 7 Feb 2025 19:20:06 +0000',\n",
       "  'date_source_time_zone': 'utc',\n",
       "  'news_provider': 'pikadditions.org'},\n",
       " {'title': \"Google AI's AlphaGeometry2 surpasses gold medalists\",\n",
       "  'url': 'https://arxiv.org/abs/2502.03544',\n",
       "  'source_of_the_news': 'AlphaSignal <news@alphasignal.ai>',\n",
       "  'text': '',\n",
       "  'news_summary': \"Google AI's AlphaGeometry2 surpasses gold medalists  in Olympiad geometry, improving problem coverage and solving rates.\",\n",
       "  'date_source': 'Fri, 7 Feb 2025 19:20:06 +0000',\n",
       "  'date_source_time_zone': 'utc',\n",
       "  'news_provider': 'arxiv.org'},\n",
       " {'title': 's1-32B improves test-time scaling',\n",
       "  'url': 'https://arxiv.org/abs/2501.19393',\n",
       "  'source_of_the_news': 'AlphaSignal <news@alphasignal.ai>',\n",
       "  'text': '',\n",
       "  'news_summary': 's1-32B improves test-time scaling  with budget forcing, boosting math reasoning and competition scores.',\n",
       "  'date_source': 'Fri, 7 Feb 2025 19:20:06 +0000',\n",
       "  'date_source_time_zone': 'utc',\n",
       "  'news_provider': 'arxiv.org'},\n",
       " {'title': 'Multi-agent system reduces AI hallucinations',\n",
       "  'url': 'https://arxiv.org/html/2501.13946v1',\n",
       "  'source_of_the_news': 'AlphaSignal <news@alphasignal.ai>',\n",
       "  'text': '',\n",
       "  'news_summary': 'Multi-agent system reduces AI hallucinations using structured reviews, NLP-based coordination, and new KPIs.',\n",
       "  'date_source': 'Fri, 7 Feb 2025 19:20:06 +0000',\n",
       "  'date_source_time_zone': 'utc',\n",
       "  'news_provider': 'arxiv.org'}]"
      ]
     },
     "execution_count": 13,
     "metadata": {},
     "output_type": "execute_result"
    }
   ],
   "source": [
    "news_sources"
   ]
  },
  {
   "cell_type": "code",
   "execution_count": 23,
   "id": "6c073d77-4142-40f2-9957-dc305924db2e",
   "metadata": {
    "execution": {
     "iopub.execute_input": "2025-02-10T04:25:45.010385Z",
     "iopub.status.busy": "2025-02-10T04:25:45.010073Z",
     "iopub.status.idle": "2025-02-10T04:25:45.018545Z",
     "shell.execute_reply": "2025-02-10T04:25:45.016868Z",
     "shell.execute_reply.started": "2025-02-10T04:25:45.010360Z"
    }
   },
   "outputs": [
    {
     "data": {
      "text/plain": [
       "'https://mistral.ai/en/news/all-new-le-chat'"
      ]
     },
     "execution_count": 23,
     "metadata": {},
     "output_type": "execute_result"
    }
   ],
   "source": [
    "news_sources[0]['url']"
   ]
  },
  {
   "cell_type": "code",
   "execution_count": 32,
   "id": "f8692d99-73cf-4713-abe3-f5d2a96ad75d",
   "metadata": {
    "execution": {
     "iopub.execute_input": "2025-02-10T04:30:24.500697Z",
     "iopub.status.busy": "2025-02-10T04:30:24.500362Z",
     "iopub.status.idle": "2025-02-10T04:30:24.514072Z",
     "shell.execute_reply": "2025-02-10T04:30:24.512512Z",
     "shell.execute_reply.started": "2025-02-10T04:30:24.500671Z"
    }
   },
   "outputs": [],
   "source": [
    "import pandas as pd\n",
    "df = pd.read_parquet(\"/home/logs/database_news_stories.parquet\")"
   ]
  },
  {
   "cell_type": "code",
   "execution_count": 33,
   "id": "1a69b588-4a99-4223-8e39-f390e8f521ca",
   "metadata": {
    "execution": {
     "iopub.execute_input": "2025-02-10T04:30:30.741393Z",
     "iopub.status.busy": "2025-02-10T04:30:30.740718Z",
     "iopub.status.idle": "2025-02-10T04:30:30.756780Z",
     "shell.execute_reply": "2025-02-10T04:30:30.755370Z",
     "shell.execute_reply.started": "2025-02-10T04:30:30.741355Z"
    }
   },
   "outputs": [
    {
     "data": {
      "text/plain": [
       "title                                           object\n",
       "url                                             object\n",
       "news_provider                                   object\n",
       "source_of_the_news                              object\n",
       "text                                            object\n",
       "news_summary                                    object\n",
       "date_source                 datetime64[ns, US/Eastern]\n",
       "date_source_time_zone                           object\n",
       "version                                         object\n",
       "competitive_intelligence                        object\n",
       "themes                                          object\n",
       "market_intelligence                             object\n",
       "personalities                                   object\n",
       "score_category_count                             int64\n",
       "unique_id                                        int64\n",
       "dtype: object"
      ]
     },
     "execution_count": 33,
     "metadata": {},
     "output_type": "execute_result"
    }
   ],
   "source": [
    "df.dtypes"
   ]
  },
  {
   "cell_type": "markdown",
   "id": "98e6160c-4398-428d-9f43-46a7be72f5ba",
   "metadata": {},
   "source": [
    "## Experimentation"
   ]
  },
  {
   "cell_type": "code",
   "execution_count": 6,
   "id": "30f5c812-5117-4fc2-b493-dcaa44f68ea9",
   "metadata": {
    "execution": {
     "iopub.execute_input": "2025-02-10T04:04:43.807732Z",
     "iopub.status.busy": "2025-02-10T04:04:43.807317Z",
     "iopub.status.idle": "2025-02-10T04:04:43.815582Z",
     "shell.execute_reply": "2025-02-10T04:04:43.814523Z",
     "shell.execute_reply.started": "2025-02-10T04:04:43.807703Z"
    }
   },
   "outputs": [
    {
     "data": {
      "text/plain": [
       "dict_keys(['sender', 'subject', 'date_utc', 'id', 'text'])"
      ]
     },
     "execution_count": 6,
     "metadata": {},
     "output_type": "execute_result"
    }
   ],
   "source": [
    "emails[0].keys()"
   ]
  },
  {
   "cell_type": "code",
   "execution_count": 7,
   "id": "57cac741-6738-4c4c-9040-7314a49c9d83",
   "metadata": {
    "execution": {
     "iopub.execute_input": "2025-02-10T04:04:44.681899Z",
     "iopub.status.busy": "2025-02-10T04:04:44.681539Z",
     "iopub.status.idle": "2025-02-10T04:04:44.689669Z",
     "shell.execute_reply": "2025-02-10T04:04:44.688543Z",
     "shell.execute_reply.started": "2025-02-10T04:04:44.681874Z"
    },
    "scrolled": true
   },
   "outputs": [
    {
     "data": {
      "text/plain": [
       "'AlphaSignal <news@alphasignal.ai>'"
      ]
     },
     "execution_count": 7,
     "metadata": {},
     "output_type": "execute_result"
    }
   ],
   "source": [
    "emails[0]['sender']"
   ]
  },
  {
   "cell_type": "code",
   "execution_count": 8,
   "id": "bc5974f5-df32-4855-8701-ddbd2c5a71c8",
   "metadata": {
    "execution": {
     "iopub.execute_input": "2025-02-10T04:04:45.832275Z",
     "iopub.status.busy": "2025-02-10T04:04:45.831911Z",
     "iopub.status.idle": "2025-02-10T04:04:45.839727Z",
     "shell.execute_reply": "2025-02-10T04:04:45.838438Z",
     "shell.execute_reply.started": "2025-02-10T04:04:45.832244Z"
    }
   },
   "outputs": [
    {
     "data": {
      "text/plain": [
       "'🔥Mistral AI updates Chatbot, Faster than ChatGPT & Claude'"
      ]
     },
     "execution_count": 8,
     "metadata": {},
     "output_type": "execute_result"
    }
   ],
   "source": [
    "emails[0]['subject']"
   ]
  },
  {
   "cell_type": "code",
   "execution_count": 9,
   "id": "d360ca96-2773-48a9-aa82-5fd0ccfefc0c",
   "metadata": {
    "execution": {
     "iopub.execute_input": "2025-02-10T04:04:49.355081Z",
     "iopub.status.busy": "2025-02-10T04:04:49.354752Z",
     "iopub.status.idle": "2025-02-10T04:04:49.362633Z",
     "shell.execute_reply": "2025-02-10T04:04:49.361411Z",
     "shell.execute_reply.started": "2025-02-10T04:04:49.355057Z"
    },
    "scrolled": true
   },
   "outputs": [
    {
     "name": "stdout",
     "output_type": "stream",
     "text": [
      "On Andrew Ng's agentic object detection, GitHub Copilot's agent mode,\n",
      "Google's Imagen 3 on Gemini API,... \n",
      "\n",
      "SIGNUP [1]  |  WORK WITH US [2]  |  FOLLOW ON X\n",
      "[3]  |  READ ON WEB [4]\n",
      "\n",
      " . \n",
      "\n",
      "HEY ,\n",
      "\n",
      "Welcome to AlphaSignal – the most read newsletter by AI\n",
      "developers. \n",
      "\n",
      "We bring you the top 1% of news, papers, models, and repos, all\n",
      "summarized to keep you updated on the latest in AI.\n",
      "\n",
      "IN TODAY'S SIGNAL\n",
      "\n",
      "_Read time: 5 min 41 sec_\n",
      "\n",
      "🎖️ TOP NEWS\n",
      "\n",
      " \t*\n",
      "Mistral AI brings Le Chat to iOS, Android, and enterprise [5] with web\n",
      "search and automation tools.\n",
      "\n",
      "⚡️ TRENDING SIGNALS\n",
      "\n",
      " \t*\n",
      "Andrew Ng presents Agentic Object Detection [6]: human-like object\n",
      "recognition via text-driven reasoning.\n",
      "\n",
      " \t*\n",
      "GitHub upgrades Copilot with agent mode [7], multi-file edits, and an\n",
      "upcoming autonomous coding agent.\n",
      "\n",
      " \t*\n",
      "Google releases Imagen 3 in Gemini API [8]: high quality, watermarked\n",
      "image generation with improved prompt adherence.\n",
      "\n",
      " \t*\n",
      "OpenAI refines CoT reasoning in O3-Mini [9] models, expanding\n",
      "visibility.\n",
      "\n",
      " \t*\n",
      "Pika Labs launches Pikadditions [10]: add any object or person to any\n",
      "video with ease.\n",
      "\n",
      "💻TOP PAPERS\n",
      "\n",
      " \t*\n",
      "Google AI's AlphaGeometry2 surpasses gold medalists [11] in Olympiad\n",
      "geometry, improving problem coverage and solving rates.\n",
      "\n",
      " \t*\n",
      "s1-32B improves test-time scaling [12] with budget forcing, boosting\n",
      "math reasoning and competition scores.\n",
      "\n",
      " \t*\n",
      "Multi-agent system reduces AI hallucinations [13]using structured\n",
      "reviews, NLP-based coordination, and new KPIs.\n",
      "\n",
      "🧠 PYTHON TIP\n",
      "\n",
      " \t*\n",
      "How to generate high-quality images with Imagen 3 using the Gemini\n",
      "API.\n",
      "\n",
      "IF YOU'RE ENJOYING ALPHASIGNAL PLEASE FORWARD THIS EMAIL TO A\n",
      "COLLEAGUE. \n",
      "\n",
      "It helps us keep this content free.\n",
      "\n",
      "TOP NEWS\n",
      "\n",
      "AI Assistant\n",
      "\n",
      "MISTRAL AI UPGRADES ITS CHATBOT WITH FASTER RESPONSES, CODE EXECUTION\n",
      "FOR MOBILE AND ENTERPRISE DEPLOYMENT\n",
      "\n",
      "⇧ 13,532 Likes\n",
      "\n",
      "\t\t [5] \n",
      "\n",
      "WHAT'S NEW\n",
      "\n",
      "French AI lab, Mistral AI updates its chatbot LE CHAT and makes it\n",
      "available on iOS, Android, and enterprise infrastructure. It\n",
      "introduces FLASH ANSWERS, A BUILT-IN CODE INTERPRETER, and REAL-TIME\n",
      "SEARCH, competing with ChatGPT, Claude, and DeepSeek.\n",
      "\n",
      "CORE FUNCTIONALITIES\n",
      "\n",
      "Le Chat provides tools for both general use and technical\n",
      "applications, offering:\n",
      "\n",
      " \t* OCR ENGINE: Processes PDFs, spreadsheets, and complex or\n",
      "low-quality files.\n",
      "\n",
      " \t* CODE INTERPRETER: Runs scripts, handles data analysis, and creates\n",
      "visualizations.\n",
      "\n",
      " \t* IMAGE GENERATION: Uses BLACK FOREST LABS’ FLUX ULTRA to generate\n",
      "photorealistic visuals.\n",
      "\n",
      " \t* REAL-TIME INFORMATION RETRIEVAL: Combines static pre-trained\n",
      "knowledge with updated data from web searches and news outlets.\n",
      "\n",
      " \t* Its MULTI-STEP AGENT FRAMEWORK lets you AUTOMATE WORKFLOWS by\n",
      "integrating with messaging systems and databases.\n",
      "\n",
      "PERFORMANCE\n",
      "\n",
      "Le Chat runs on Mistral’s latest models and introduces FLASH\n",
      "ANSWERS, a feature enabling RESPONSE SPEEDS OF UP TO 1,000 WORDS PER\n",
      "SECOND. It supports real-time web search with data from journalism\n",
      "sources and social platforms. The assistant processes text, images,\n",
      "and structured data files without external dependencies.\n",
      "\n",
      "COMPARISON WITH OTHER CHATBOTS\n",
      "\n",
      " \t* Faster than ChatGPT and Claude in response generation.\n",
      "\n",
      " \t* Stronger OCR and document parsing than Claude.\n",
      "\n",
      " \t* Code execution similar to ChatGPT Plus.\n",
      "\n",
      " \t* Web search supports social media and journalism sources.\n",
      "\n",
      " \t* Claude is known  for token efficiency, but Le Chat provides\n",
      "custom enterprise deployments and flexible infrastructure setups.\n",
      "\n",
      " \t* Le Chat adheres to EU privacy standards (GDPR).\n",
      "\n",
      "ENTERPRISE DEPLOYMENTS AND CUSTOMIZATION\n",
      "Le Chat targets enterprises with options for SAAS, ON-PREMISE, and VPC\n",
      "DEPLOYMENT. Teams can customize models and ensure on-site data\n",
      "security, making it a viable alternative to U.S. and Chinese\n",
      "providers.\n",
      "\n",
      "ACCESS AND AVAILABILITY\n",
      "\n",
      "You can find Le Chat available on web, iOS, and Android. It offers\n",
      "three tiers:\n",
      "\n",
      " \t* FREE PLAN: Limited usage with access to core features.\n",
      "\n",
      " \t* PRO PLAN: Faster responses, priority access, and extended usage\n",
      "limits.\n",
      "\n",
      " \t* ENTERPRISE: Custom deployment on ON-PREMISE OR VPC INFRASTRUCTURE,\n",
      "model fine-tuning, and API rate customization.\n",
      "\n",
      "\t\tTRY NOW [5] \n",
      "\n",
      "TRENDING SIGNALS\n",
      "\n",
      "Computer Vision\n",
      "\n",
      "ANDREW NG INTRODUCES A REASONING DRIVEN APPROACH TO OBJECT DETECTION,\n",
      "USES AGENTIC WORKFLOWS TO ANALYZE AND IDENTIFY OBJECTS [6]\n",
      "\n",
      "⇧ 3,285 Likes\n",
      "\n",
      "Coding Assistant\n",
      "\n",
      "GITHUB UNVEILS COPILOT AGENT MODE: SELF-ITERATING CODE, TERMINAL\n",
      "GUIDANCE, AND AUTOMATED ERROR FIXING IN VS CODE [7]\n",
      "\n",
      "⇧ 6,385 Likes\n",
      "\n",
      "Image Generation\n",
      "\n",
      "GOOGLE LAUNCHES IMAGEN 3 ON GEMINI API WITH IMPROVED PROMPT ACCURACY,\n",
      "MULTI-STYLE SUPPORT, AND AI CONTENT VERIFICATION [8]\n",
      "\n",
      "⇧ 1,024 Likes\n",
      "\n",
      "LLM\n",
      "\n",
      "OPENAI UPDATES O3-MINI WITH IMPROVED CHAIN-OF-THOUGHT REASONING FOR\n",
      "FREE AND PAID USERS [9]\n",
      "\n",
      "⇧ 4,283 Likes\n",
      "\n",
      "AI Video Editing\n",
      "\n",
      "PIKA LABS RELEASES VIDEO TO VIDEO PLATFORM THAT ALLOWS ADDITION OF ANY\n",
      "OBJECT OR PERSON INTO EXISTING VIDEOS WITH 15 FREE GENERATIONS [10]\n",
      "\n",
      "⇧ 1,384 Likes\n",
      "\n",
      "TOP PAPERS\n",
      "\n",
      "Mathematical Reasoning\n",
      "\n",
      "GOLD-MEDALIST PERFORMANCE IN SOLVING OLYMPIAD GEOMETRY WITH\n",
      "ALPHAGEOMETRY2 [11]\n",
      "\n",
      "⇧ 6,128 Likes\n",
      "\n",
      "PROBLEM\n",
      "\n",
      "Google AI's AlphaGeometry struggled with solving complex Olympiad\n",
      "geometry problems, especially those involving object movements and\n",
      "linear equations of angles, ratios, and distances. Its coverage of\n",
      "International Math Olympiad (IMO) geometry problems was limited.\n",
      "\n",
      "SOLUTION\n",
      "AlphaGeometry2 extends the problem-solving language, improves search\n",
      "with the Gemini architecture, and introduces a novel knowledge-sharing\n",
      "mechanism to combine multiple search trees. Enhancements in the\n",
      "symbolic engine and synthetic data generation further refine its\n",
      "accuracy.\n",
      "\n",
      "RESULTS\n",
      "AlphaGeometry2 boosts IMO geometry problem coverage from 66% to 88%\n",
      "and increases the solving rate from 54% to 84%, surpassing average\n",
      "gold medalists and contributing to a silver-medal performance at IMO\n",
      "2024.\n",
      "\n",
      "LLM Reasoning\n",
      "\n",
      "S1: SIMPLE TEST-TIME SCALING [12]\n",
      "\n",
      "⇧ 4,593 Likes\n",
      "\n",
      "PROBLEM\n",
      "\n",
      "Test-time scaling helps language models perform better by using extra\n",
      "compute, but OpenAI’s O1 model showed this without sharing details.\n",
      "A simple way to achieve this and improve reasoning was needed.\n",
      "\n",
      "SOLUTION\n",
      "The s1-32B model is trained on a small dataset (s1K) of 1,000\n",
      "reasoning questions. It uses budget forcing, a method that controls\n",
      "how long the model thinks by adding or stopping “Wait” signals,\n",
      "helping it fix mistakes.\n",
      "\n",
      "RESULTS\n",
      "s1-32B outperforms O1-preview, improving math competition scores by up\n",
      "to 27% (MATH, AIME24). Budget forcing boosts AIME24 accuracy from 50%\n",
      "to 57%. The model, data, and code are open-source.\n",
      "\n",
      "AI Safety and Reliability\n",
      "\n",
      "HALLUCINATION MITIGATION USING AGENTIC AI NATURAL LANGUAGE-BASED\n",
      "FRAMEWORKS [13]\n",
      "\n",
      "⇧ 2,493 Likes\n",
      "\n",
      "PROBLEM\n",
      "\n",
      "Generative AI models often produce hallucinations, making them less\n",
      "reliable and reducing trust in AI systems. A better approach was\n",
      "needed to detect and refine misleading content while maintaining clear\n",
      "and factual responses.\n",
      "\n",
      "SOLUTION\n",
      "A multi-agent system is designed using over 300 prompts to induce\n",
      "hallucinations. AI agents at different levels review and refine\n",
      "outputs using distinct language models, structured JSON communication,\n",
      "and the OVON framework for seamless interaction. New KPIs are\n",
      "introduced to measure hallucination levels.\n",
      "\n",
      "RESULTS\n",
      "The multi-agent approach lowers hallucination scores, improves\n",
      "clarity, and makes speculative content more transparent. Structured\n",
      "meta-information exchange enhances AI explainability, boosting trust\n",
      "in AI-generated responses.\n",
      "\n",
      "PYTHON TIP\n",
      "\n",
      "GENERATE AN IMAGE WITH IMAGEN 3 USING GEMINI API\n",
      "\n",
      "Google's IMAGEN 3 is now available via the GEMINI API, allowing you to\n",
      "generate high-quality images with improved prompt adherence. It\n",
      "supports various styles, from hyperrealism to anime, and includes a\n",
      "SYNTHID WATERMARK for AI attribution.\n",
      "\n",
      "APPLICATION\n",
      "\n",
      "This API is ideal for design, advertising, content creation, and\n",
      "prototyping. It offers customizable aspect ratios and prompt-based\n",
      "generation, making it a powerful tool for creative and commercial\n",
      "applications.\n",
      "\n",
      "This Python code snippet demonstrates how to generate an image with\n",
      "Imagen 3 using the Gemini API.\n",
      "\n",
      "from google import genai\n",
      "from google.genai import types\n",
      "from PIL import Image\n",
      "from io import BytesIO\n",
      "\n",
      "client = genai.Client(api_key='GEMINI_API_KEY')\n",
      "\n",
      "response = client.models.generate_images(\n",
      "    model='imagen-3.0-generate-002',\n",
      "    prompt='a portrait of a sheepadoodle wearing cape',\n",
      "    config=types.GenerateImagesConfig(\n",
      "        number_of_images=1,\n",
      "    )\n",
      ")\n",
      "for generated_image in response.generated_images:\n",
      "  image = Image.open(BytesIO(generated_image.image.image_bytes))\n",
      "  image.show()\n",
      "\n",
      "HOW WAS TODAY’S EMAIL?\n",
      "\n",
      "AWESOME    DECENT     NOT GREAT\n",
      "\n",
      "At Alpha Signal, our mission is to build a sharp, engaged community\n",
      "focused on AI, machine learning, and cutting-edge language models,\n",
      "helping over 200,000 developers stay informed and ahead. We’re\n",
      "passionate about curating the best in AI, from top research and\n",
      "trending technical blogs to expert insights and tailored job\n",
      "opportunities. We keep you connected to the breakthroughs and\n",
      "discussions that matter, so you can stay in the loop without endless\n",
      "searching. We also work closely with partners who value the future of\n",
      "AI, including employers and advertisers who want to reach an audience\n",
      "as passionate about AI as we are.\n",
      "\n",
      "Our partnerships are based on shared values of ethics, responsibility,\n",
      "and a commitment to building a better world through technology.Privacy\n",
      "is a priority at Alpha Signal. Our Privacy Policy clearly explains how\n",
      "we collect, store, and use your personal and non-personal information.\n",
      "By using our website, you accept these terms, which you can review on\n",
      "our website. This policy applies across all Alpha Signal pages,\n",
      "outlining your rights and how to contact us if you want to adjust the\n",
      "use of your information. We’re based in the United States. By using\n",
      "our site, you agree to be governed by U.S. laws.\n",
      "\n",
      "Looking to promote your company, product, service, or event to\n",
      "200,000+ AI developers? Let's work together.\n",
      "\n",
      "\t\tWORK WITH US [2] \n",
      "\n",
      "Stop receiving emails here [14]\n",
      "\n",
      "214 Barton Springs Rd, Austin, Texas, 78704, United States of America\n",
      "\n",
      " \n",
      "\n",
      "Links:\n",
      "------\n",
      "[1] https://link.alphasignal.ai/HWyWVm\n",
      "[2] https://link.alphasignal.ai/qBDJtP\n",
      "[3] https://link.alphasignal.ai/uIKFtp\n",
      "[4] https://araneoides.eomail1.com/web-version?ep=1&lc=0833873c-e381-11ef-a3f9-cbdf36f97402&p=686320f2-e586-11ef-8073-e1d644c8c090&pt=campaign&t=1738956006&s=500545ddc16f1bef398809bb750062650fa2e232d79ebc54d415c0bb5f955c45\n",
      "[5] https://link.alphasignal.ai/Z6dVYR\n",
      "[6] https://link.alphasignal.ai/Yrwvxf\n",
      "[7] https://link.alphasignal.ai/UF6bj7\n",
      "[8] https://link.alphasignal.ai/pE0RTm\n",
      "[9] https://link.alphasignal.ai/stKaZF\n",
      "[10] https://link.alphasignal.ai/qcV4LG\n",
      "[11] https://link.alphasignal.ai/5hUes6\n",
      "[12] https://link.alphasignal.ai/lKJLbL\n",
      "[13] https://link.alphasignal.ai/KDRgwL\n",
      "[14] https://araneoides.eomail1.com/unsubscribe?ep=1&l=9a4eb768-071d-11ef-b70b-19296a53e269&lc=0833873c-e381-11ef-a3f9-cbdf36f97402&p=686320f2-e586-11ef-8073-e1d644c8c090&pt=campaign&pv=4&spa=1738955841&t=1738956006&s=71a80f6481a811dc78ce58d6c2076abf8e33df42a7d6160853a52c1cf5863528\n"
     ]
    }
   ],
   "source": [
    "print(emails[0]['text'])"
   ]
  },
  {
   "cell_type": "code",
   "execution_count": 13,
   "id": "72da0416-f1d2-41a5-ac2e-2bf15d89aaf8",
   "metadata": {
    "execution": {
     "iopub.execute_input": "2025-02-08T05:24:38.849861Z",
     "iopub.status.busy": "2025-02-08T05:24:38.849294Z",
     "iopub.status.idle": "2025-02-08T05:24:38.859555Z",
     "shell.execute_reply": "2025-02-08T05:24:38.857627Z",
     "shell.execute_reply.started": "2025-02-08T05:24:38.849828Z"
    }
   },
   "outputs": [],
   "source": [
    "SECTIONS = [\n",
    "    \"TOP NEWS\",\n",
    "    \"TRENDING SIGNALS\",\n",
    "    \"TOP PAPERS\",\n",
    "    \"PYTHON TIP\",\n",
    "]\n",
    "txt = emails[0]['text']\n",
    "sections = []\n",
    "for sec in SECTIONS:\n",
    "    _tmp = txt.split(sec)\n",
    "    sections.append(_tmp[0])\n",
    "    txt = _tmp[1]"
   ]
  },
  {
   "cell_type": "code",
   "execution_count": 15,
   "id": "dd8cf410-2094-4a7e-8273-1580098ce960",
   "metadata": {
    "execution": {
     "iopub.execute_input": "2025-02-08T05:24:58.473927Z",
     "iopub.status.busy": "2025-02-08T05:24:58.473586Z",
     "iopub.status.idle": "2025-02-08T05:24:58.481545Z",
     "shell.execute_reply": "2025-02-08T05:24:58.480464Z",
     "shell.execute_reply.started": "2025-02-08T05:24:58.473886Z"
    },
    "scrolled": true
   },
   "outputs": [
    {
     "name": "stdout",
     "output_type": "stream",
     "text": [
      "\n",
      "\n",
      " \t*\n",
      "Mistral AI brings Le Chat to iOS, Android, and enterprise [5] with web\n",
      "search and automation tools.\n",
      "\n",
      "⚡️ \n",
      "\n",
      "\n",
      " \t*\n",
      "Andrew Ng presents Agentic Object Detection [6]: human-like object\n",
      "recognition via text-driven reasoning.\n",
      "\n",
      " \t*\n",
      "GitHub upgrades Copilot with agent mode [7], multi-file edits, and an\n",
      "upcoming autonomous coding agent.\n",
      "\n",
      " \t*\n",
      "Google releases Imagen 3 in Gemini API [8]: high quality, watermarked\n",
      "image generation with improved prompt adherence.\n",
      "\n",
      " \t*\n",
      "OpenAI refines CoT reasoning in O3-Mini [9] models, expanding\n",
      "visibility.\n",
      "\n",
      " \t*\n",
      "Pika Labs launches Pikadditions [10]: add any object or person to any\n",
      "video with ease.\n",
      "\n",
      "💻\n",
      "\n",
      "\n",
      " \t*\n",
      "Google AI's AlphaGeometry2 surpasses gold medalists [11] in Olympiad\n",
      "geometry, improving problem coverage and solving rates.\n",
      "\n",
      " \t*\n",
      "s1-32B improves test-time scaling [12] with budget forcing, boosting\n",
      "math reasoning and competition scores.\n",
      "\n",
      " \t*\n",
      "Multi-agent system reduces AI hallucinations [13]using structured\n",
      "reviews, NLP-based coordination, and new KPIs.\n",
      "\n",
      "🧠 \n"
     ]
    }
   ],
   "source": [
    "for pp in sections[1:]:\n",
    "    print(pp)"
   ]
  },
  {
   "cell_type": "code",
   "execution_count": 19,
   "id": "c7d5f887-6faa-4f38-bd85-6f0236e509c8",
   "metadata": {
    "execution": {
     "iopub.execute_input": "2025-02-10T04:20:40.868554Z",
     "iopub.status.busy": "2025-02-10T04:20:40.868139Z",
     "iopub.status.idle": "2025-02-10T04:20:40.875727Z",
     "shell.execute_reply": "2025-02-10T04:20:40.874566Z",
     "shell.execute_reply.started": "2025-02-10T04:20:40.868523Z"
    },
    "scrolled": true
   },
   "outputs": [
    {
     "name": "stdout",
     "output_type": "stream",
     "text": [
      "\n",
      "\n",
      "French AI lab, Mistral AI updates its chatbot LE CHAT and makes it\n",
      "available on iOS, Android, and enterprise infrastructure. It\n",
      "introduces FLASH ANSWERS, A BUILT-IN CODE INTERPRETER, and REAL-TIME\n",
      "SEARCH, competing with ChatGPT, Claude, and DeepSeek.\n",
      "\n",
      "CORE FUNCTIONALITIES\n",
      "\n",
      "Le Chat provides tools for both general use and technical\n",
      "applications, offering:\n",
      "\n",
      " \t* OCR ENGINE: Processes PDFs, spreadsheets, and complex or\n",
      "low-quality files.\n",
      "\n",
      " \t* CODE INTERPRETER: Runs scripts, handles data analysis, and creates\n",
      "visualizations.\n",
      "\n",
      " \t* IMAGE GENERATION: Uses BLACK FOREST LABS’ FLUX ULTRA to generate\n",
      "photorealistic visuals.\n",
      "\n",
      " \t* REAL-TIME INFORMATION RETRIEVAL: Combines static pre-trained\n",
      "knowledge with updated data from web searches and news outlets.\n",
      "\n",
      " \t* Its MULTI-STEP AGENT FRAMEWORK lets you AUTOMATE WORKFLOWS by\n",
      "integrating with messaging systems and databases.\n",
      "\n",
      "PERFORMANCE\n",
      "\n",
      "Le Chat runs on Mistral’s latest models and introduces FLASH\n",
      "ANSWERS, a feature enabling RESPONSE SPEEDS OF UP TO 1,000 WORDS PER\n",
      "SECOND. It supports real-time web search with data from journalism\n",
      "sources and social platforms. The assistant processes text, images,\n",
      "and structured data files without external dependencies.\n",
      "\n",
      "COMPARISON WITH OTHER CHATBOTS\n",
      "\n",
      " \t* Faster than ChatGPT and Claude in response generation.\n",
      "\n",
      " \t* Stronger OCR and document parsing than Claude.\n",
      "\n",
      " \t* Code execution similar to ChatGPT Plus.\n",
      "\n",
      " \t* Web search supports social media and journalism sources.\n",
      "\n",
      " \t* Claude is known  for token efficiency, but Le Chat provides\n",
      "custom enterprise deployments and flexible infrastructure setups.\n",
      "\n",
      " \t* Le Chat adheres to EU privacy standards (GDPR).\n",
      "\n",
      "ENTERPRISE DEPLOYMENTS AND CUSTOMIZATION\n",
      "Le Chat targets enterprises with options for SAAS, ON-PREMISE, and VPC\n",
      "DEPLOYMENT. Teams can customize models and ensure on-site data\n",
      "security, making it a viable alternative to U.S. and Chinese\n",
      "providers.\n",
      "\n",
      "ACCESS AND AVAILABILITY\n",
      "\n",
      "You can find Le Chat available on web, iOS, and Android. It offers\n",
      "three tiers:\n",
      "\n",
      " \t* FREE PLAN: Limited usage with access to core features.\n",
      "\n",
      " \t* PRO PLAN: Faster responses, priority access, and extended usage\n",
      "limits.\n",
      "\n",
      " \t* ENTERPRISE: Custom deployment on ON-PREMISE OR VPC INFRASTRUCTURE,\n",
      "model fine-tuning, and API rate customization.\n",
      "\n",
      "\t\t\n"
     ]
    }
   ],
   "source": [
    "print(emails[0]['text'].split(\"TOP NEWS\")[2].split(\"WHAT'S NEW\")[1].split(\"TRENDING SIGNALS\")[0].split(\"TRY NOW\")[0])"
   ]
  },
  {
   "cell_type": "code",
   "execution_count": null,
   "id": "d9b57101-0670-47c7-81d3-4821cb3fdcbe",
   "metadata": {},
   "outputs": [],
   "source": []
  },
  {
   "cell_type": "code",
   "execution_count": null,
   "id": "51f8a341-81e6-49c1-82ba-f1c99ad8626c",
   "metadata": {},
   "outputs": [],
   "source": []
  },
  {
   "cell_type": "code",
   "execution_count": null,
   "id": "c37ea2b2-62e5-41a2-a626-66d55cb73efc",
   "metadata": {},
   "outputs": [],
   "source": []
  },
  {
   "cell_type": "markdown",
   "id": "6b627033-16dd-4f5e-b91a-9175fe4ba95b",
   "metadata": {
    "jp-MarkdownHeadingCollapsed": true
   },
   "source": [
    "# TLDR"
   ]
  },
  {
   "cell_type": "code",
   "execution_count": 4,
   "id": "4dd4c716-ed21-4261-9701-b5149468e47b",
   "metadata": {
    "execution": {
     "iopub.execute_input": "2024-12-18T03:57:21.654149Z",
     "iopub.status.busy": "2024-12-18T03:57:21.653821Z",
     "iopub.status.idle": "2024-12-18T03:57:23.507015Z",
     "shell.execute_reply": "2024-12-18T03:57:23.505769Z",
     "shell.execute_reply.started": "2024-12-18T03:57:21.654111Z"
    }
   },
   "outputs": [
    {
     "data": {
      "text/plain": [
       "5"
      ]
     },
     "execution_count": 4,
     "metadata": {},
     "output_type": "execute_result"
    }
   ],
   "source": [
    "emails = gmail.fetch_emails(sender='TLDR AI <dan@tldrnewsletter.com>', after='2024-12-01', before='2024-12-07')\n",
    "len(emails)"
   ]
  },
  {
   "cell_type": "code",
   "execution_count": 5,
   "id": "2bb76247-7448-4993-8188-ae5bf9c96c0b",
   "metadata": {
    "execution": {
     "iopub.execute_input": "2024-12-18T03:57:23.509191Z",
     "iopub.status.busy": "2024-12-18T03:57:23.508722Z",
     "iopub.status.idle": "2024-12-18T03:57:23.516883Z",
     "shell.execute_reply": "2024-12-18T03:57:23.515611Z",
     "shell.execute_reply.started": "2024-12-18T03:57:23.509162Z"
    },
    "scrolled": true
   },
   "outputs": [
    {
     "name": "stdout",
     "output_type": "stream",
     "text": [
      "{'sender': 'TLDR AI <dan@tldrnewsletter.com>', 'subject': \"OpenAI o1 System Card 📇, Perplexity Publisher Program 🔍, DeepMind's Genie 2 🧞\", 'date_utc': 'Fri, 6 Dec 2024 14:16:24 +0000', 'id': '1939c5434a9f7fd8', 'text': \"This report outlines the safety work carried out prior to releasing\\r\\nOpenAI o1 and o1-mini, including external red teaming and frontier\\r\\nrisk\\r\\nevaluation\\xa0\\u200c\\xa0\\u200c\\xa0\\u200c\\xa0\\u200c\\xa0\\u200c\\xa0\\u200c\\xa0\\u200c\\xa0\\u200c\\xa0\\u200c\\xa0\\u200c\\xa0\\u200c\\xa0\\u200c\\xa0\\u200c\\xa0\\u200c\\xa0\\u200c\\xa0\\u200c\\xa0\\u200c\\xa0\\u200c\\xa0\\u200c\\xa0\\u200c\\xa0\\u200c\\xa0\\u200c\\xa0\\u200c\\xa0\\u200c\\xa0\\u200c\\xa0\\u200c\\xa0\\xa0\\u200c\\xa0\\u200c\\xa0\\u200c\\xa0\\u200c\\xa0\\u200c\\xa0\\u200c\\xa0\\u200c\\xa0\\u200c\\xa0\\u200c\\xa0\\u200c\\xa0\\u200c\\xa0\\u200c\\xa0\\u200c\\xa0\\u200c\\xa0\\u200c\\xa0\\u200c\\xa0\\u200c\\xa0\\u200c\\xa0\\u200c\\xa0\\u200c\\xa0\\u200c\\xa0\\u200c\\xa0\\u200c\\xa0\\u200c\\xa0\\u200c\\xa0\\u200c\\xa0\\r\\n\\r\\n\\r\\n Sign Up [1] |Advertise [2]|View Online [3] \\r\\n\\r\\n\\t\\tTLDR \\r\\n\\r\\n\\t\\tTOGETHER WITH [Writer] [4]\\r\\n\\r\\nTLDR AI 2024-12-06\\r\\n\\r\\n THE FASTEST WAY TO BUILD AI APPS (SPONSOR) [4] \\r\\n\\r\\n Writer is excited to introduce Writer AI Studio [4], the fastest way\\r\\nto build AI apps, products, and features. Writer's unique full-stack\\r\\ndesign makes it easy to prototype, deploy, and test AI apps [4] –\\r\\nallowing developers to build with APIs, a drag-and-drop open-source\\r\\nPython framework, or a no-code builder, so you have flexibility to\\r\\nbuild the way you want.\\r\\n\\r\\nWriter comes with a suite of top-ranking LLMs and has built-in RAG for\\r\\neasy integration with your data. Check it out if you're looking to\\r\\nstreamline how you build and integrate AI apps.\\r\\n\\r\\nStart building with Writer AI STUDIO. [4]\\r\\n\\r\\n🚀 \\r\\n\\r\\nHEADLINES & LAUNCHES\\r\\n\\r\\n OPENAI O1 SYSTEM CARD (3 MINUTE READ) [5] \\r\\n\\r\\n This report outlines the safety work carried out prior to releasing\\r\\nOpenAI o1 and o1-mini, including external red teaming and frontier\\r\\nrisk evaluations according to OpenAI's Preparedness Framework. \\r\\n\\r\\n PERPLEXITY EXPANDING IT'S PUBLISHER'S PROGRAM (4 MINUTE READ) [6] \\r\\n\\r\\n Perplexity has added over a dozen international news organizations to\\r\\nits Publishers' Program, offering tools, revenue sharing, and support\\r\\nto strengthen collaboration with global media. \\r\\n\\r\\n DEEPMIND'S GENIE 2 CAN GENERATE INTERACTIVE WORLDS THAT LOOK LIKE\\r\\nVIDEO GAMES (4 MINUTE READ) [7] \\r\\n\\r\\n DeepMind's Genie 2 is an advanced AI model that generates diverse,\\r\\ninteractive 3D worlds from images and text descriptions. The model is\\r\\nparticularly adept at simulating complex elements like physics and NPC\\r\\nbehavior, setting it apart from similar models by maintaining scene\\r\\nconsistency. Positioned as a research tool, Genie 2 is designed for\\r\\nprototyping interactive experiences and evaluating AI agents. \\r\\n\\r\\n🧠 \\r\\n\\r\\nRESEARCH & INNOVATION\\r\\n\\r\\n PALIGEMMA 2 (23 MINUTE READ) [8] \\r\\n\\r\\n Paligemma 2 is one of the best VLMs on the market today. It uses\\r\\nSigLIP and Gemma. \\r\\n\\r\\n LAND COVER MAPPING WITH ASANET (29 MINUTE READ) [9] \\r\\n\\r\\n The Asymmetric Semantic Aligning Network (ASANet) improves land cover\\r\\nclassification using both SAR and RGB images. \\r\\n\\r\\n FASTER MULTI-MODAL MODELS WITH TOKEN MERGING (14 MINUTE READ) [10] \\r\\n\\r\\n Researchers have developed a training-free method to make multi-modal\\r\\nlanguage models (LLMs) more efficient without sacrificing much\\r\\nperformance. Their approach reduces computational demands by up to 7\\r\\ntimes by smartly merging and pruning visual data tokens. \\r\\n\\r\\n🧑\\u200d💻 \\r\\n\\r\\nENGINEERING & RESOURCES\\r\\n\\r\\n RETHINKING CHANGE MANAGEMENT IN THE AGE OF AI (SPONSOR) [11] \\r\\n\\r\\n With the rise of AI and evolving customer expectations, businesses\\r\\nhave to move beyond temporary fixes and adopt a culture of continuous\\r\\ntransformation. Get the guide by Camunda [11] to find out how to align\\r\\nstakeholders, leverage technology and data, and embed a mindset of\\r\\ncontinuous change. Read the guide [11] \\r\\n\\r\\n GRAPHCAST (GITHUB REPO) [12] \\r\\n\\r\\n DeepMind has open sourced its GraphCast algorithm, which is\\r\\nsubstantially better and faster at localized weather prediction at 36\\r\\nhours. It also runs in a fraction of the time. \\r\\n\\r\\n CREATING OPTICAL ILLUSIONS (GITHUB REPO) [13] \\r\\n\\r\\n This project advances visual anagram generation - images that change\\r\\nappearance when flipped or rotated - by refining how diffusion models\\r\\nhandle multiple viewpoints. \\r\\n\\r\\n 3D SCENE COMPLETION FOR AUTONOMOUS VEHICLES (GITHUB REPO) [14] \\r\\n\\r\\n ScoreLiDAR is a new method that speeds up 3D LiDAR scene completion\\r\\nfor autonomous vehicles. \\r\\n\\r\\n🎁 \\r\\n\\r\\nMISCELLANEOUS\\r\\n\\r\\n NEW FISH AUDIO MODEL (3 MINUTE READ) [15] \\r\\n\\r\\n The newest Fish Audio 1.5 is currently #2 on Text To Speech\\r\\nLeaderboards behind ElevenLabs. It supports voice cloning and is fast\\r\\nto run, although the output quality seems hit or miss. \\r\\n\\r\\n OPENAI PARTNERS WITH ANDURIL (5 MINUTE READ) [16] \\r\\n\\r\\n OpenAI and defense company Anduril have partnered to create a\\r\\nnational security-based AI. \\r\\n\\r\\n KEY LEADERS BEHIND GOOGLE'S VIRAL NOTEBOOKLM ARE LEAVING TO CREATE\\r\\nTHEIR OWN STARTUP (2 MINUTE READ) [17] \\r\\n\\r\\n Three key Google NotebookLM members have left to start a new stealth\\r\\nAI venture. The startup aims to leverage the latest AI models to\\r\\ncreate consumer-facing, user-first AI products. It remains in its\\r\\nearly stages without a clear focus or announced funding. \\r\\n\\r\\n⚡ \\r\\n\\r\\nQUICK LINKS\\r\\n\\r\\n HOW CITI, RIPJAR, AND CLOUDFACTORY ARE USING AI IRL (SPONSOR) [18] \\r\\n\\r\\n AI in the real world isn't just ChatGPT. It's building robust systems\\r\\nwith firm guardrails and solving practical challenges around\\r\\ninference, data, and models. Watch the recorded presentation from\\r\\nAI_IRL London. [18] \\r\\n\\r\\n DEEPTHOUGHT 8B REASONING MODEL (HUGGING FACE HUB) [19] \\r\\n\\r\\n Ruliad has released a small reasoning model that takes extra time to\\r\\nthink through problems. \\r\\n\\r\\n GUI AGENTS (2 MINUTE READ) [20] \\r\\n\\r\\n A collection of research papers and projects on large language\\r\\nmodel-brained GUI agents. \\r\\n\\r\\n SAM ALTMAN SAYS ARTIFICIAL GENERAL INTELLIGENCE IS ON THE HORIZON (1\\r\\nMINUTE READ) [21] \\r\\n\\r\\n Sam Altman, CEO of OpenAI, stated at the DealBook Summit that\\r\\nArtificial General Intelligence might impact everyday life less\\r\\nsignificantly than expected. \\r\\n\\r\\nWant to advertise in TLDR? 📰\\r\\n\\r\\n If your company is interested in reaching an audience of AI\\r\\nprofessionals and decision makers, you may want to ADVERTISE WITH US\\r\\n[22]. \\r\\n\\r\\n If you have any comments or feedback, just respond to this email! \\r\\n\\r\\nThanks for reading, \\r\\nAndrew Tan & Andrew Carr \\r\\n\\r\\nIf you don't want to receive future editions of TLDR AI, please\\r\\nunsubscribe from TLDR AI [23] or manage all of your TLDR newsletter\\r\\nsubscriptions [24]. \\r\\n\\r\\n \\r\\n\\r\\nLinks:\\r\\n------\\r\\n[1] https://tldr.tech/ai?utm_source=tldrai\\r\\n[2] https://advertise.tldr.tech/?utm_source=tldrai&utm_medium=newsletter&utm_campaign=advertisetopnav\\r\\n[3] https://a.tldrnewsletter.com/web-version?ep=1&lc=57aff87c-ae02-11ef-9074-4b7e3c69f0c6&p=68d03084-b3c7-11ef-928d-09d27092d252&pt=campaign&t=1733494584&s=a94ebb372672f7844f8d11fcad3029c68791b13faf831d296ca3c8f639256320\\r\\n[4] https://writer.com/product/ai-studio/?utm_source=tldr&utm_medium=newsletter&utm_campaign=ai_studio\\r\\n[5] https://links.tldrnewsletter.com/xS4pwo\\r\\n[6] https://links.tldrnewsletter.com/UUkpwY\\r\\n[7] https://techcrunch.com/2024/12/04/deepminds-genie-2-can-generate-interactive-worlds-that-look-like-video-games/?utm_source=tldrai\\r\\n[8] https://arxiv.org/abs/2412.03555?utm_source=tldrai\\r\\n[9] https://arxiv.org/abs/2412.02044v1?utm_source=tldrai\\r\\n[10] https://arxiv.org/abs/2412.03248v1?utm_source=tldrai\\r\\n[11] https://page.camunda.com/wp-rethinking-change-management?utm_medium=paid_leadgen&utm_source=tldr&utm_campaign=Guide.RethinkingChangeManagement.24Q4.EN&utm_content=Q4program\\r\\n[12] https://github.com/google-deepmind/graphcast?utm_source=tldrai\\r\\n[13] https://github.com/pixtella/anagram-mtl?utm_source=tldrai\\r\\n[14] https://github.com/happyw1nd/scorelidar?utm_source=tldrai\\r\\n[15] https://threadreaderapp.com/thread/1864370933496205728.html?utm_source=tldrai\\r\\n[16] https://www.cnbc.com/2024/12/04/openai-partners-with-defense-company-anduril.html?utm_source=tldrai\\r\\n[17] https://techcrunch.com/2024/12/04/key-leaders-behind-googles-viral-notebooklm-are-leaving-to-create-their-own-startup/?utm_source=tldrai\\r\\n[18] https://www.cloudfactory.com/webinar/ai-irl?utm_campaign=Core_AP_EG&utm_source=tldr&utm_medium=mediapartner&utm_content=email_quicklinks\\r\\n[19] https://huggingface.co/ruliad/deepthought-8b-llama-v0.01-alpha?utm_source=tldrai\\r\\n[20] https://vyokky.github.io/LLM-Brained-GUI-Agents-Survey/?utm_source=tldrai\\r\\n[21] https://www.nytimes.com/video/business/100000009858580/sam-altman-openai-dealbook.html?utm_source=tldrai\\r\\n[22] https://advertise.tldr.tech/?utm_source=tldrai&utm_medium=newsletter&utm_campaign=advertisecta\\r\\n[23] https://a.tldrnewsletter.com/unsubscribe?ep=1&l=eedf6b14-3de3-11ed-9a32-0241b9615763&lc=57aff87c-ae02-11ef-9074-4b7e3c69f0c6&p=68d03084-b3c7-11ef-928d-09d27092d252&pt=campaign&pv=4&spa=1733493669&t=1733494584&s=ea38715a39323501a5e9b28f17e7c39f0df3e5d14a1e4155a2a433bd6fecc396\\r\\n[24] https://tldr.tech/ai/manage?email=automatic.newsletters%40gmail.com\"}\n"
     ]
    }
   ],
   "source": [
    "print(emails[0])"
   ]
  },
  {
   "cell_type": "code",
   "execution_count": 6,
   "id": "307c5c9b-b998-49d7-9d07-e626f16174c6",
   "metadata": {
    "execution": {
     "iopub.execute_input": "2024-12-18T03:57:23.518900Z",
     "iopub.status.busy": "2024-12-18T03:57:23.518363Z",
     "iopub.status.idle": "2024-12-18T03:57:26.538013Z",
     "shell.execute_reply": "2024-12-18T03:57:26.537032Z",
     "shell.execute_reply.started": "2024-12-18T03:57:23.518837Z"
    }
   },
   "outputs": [],
   "source": [
    "news_sources = tldr_parser(emails[0])"
   ]
  },
  {
   "cell_type": "code",
   "execution_count": 7,
   "id": "71e839c4-5710-4f8b-86f0-910533d57a28",
   "metadata": {
    "execution": {
     "iopub.execute_input": "2024-12-18T03:57:26.543033Z",
     "iopub.status.busy": "2024-12-18T03:57:26.542764Z",
     "iopub.status.idle": "2024-12-18T03:57:26.553985Z",
     "shell.execute_reply": "2024-12-18T03:57:26.552249Z",
     "shell.execute_reply.started": "2024-12-18T03:57:26.543011Z"
    },
    "scrolled": true
   },
   "outputs": [
    {
     "data": {
      "text/plain": [
       "[{'title': 'OPENAI O1 SYSTEM CARD',\n",
       "  'url': 'https://openai.com/index/openai-o1-system-card/',\n",
       "  'source_of_the_news': 'TLDR AI <dan@tldrnewsletter.com>',\n",
       "  'news_summary': \"This report outlines the safety work carried out prior to releasing OpenAI o1 and o1-mini, including external red teaming and frontier risk evaluations according to OpenAI's Preparedness Framework.\",\n",
       "  'date_source': 'Fri, 6 Dec 2024 14:16:24 +0000',\n",
       "  'new_provider': 'openai.com'},\n",
       " {'title': \"PERPLEXITY EXPANDING IT'S PUBLISHER'S PROGRAM\",\n",
       "  'url': 'https://www.perplexity.ai/hub/blog/perplexity-expands-publisher-program-with-15-new-media-partners',\n",
       "  'source_of_the_news': 'TLDR AI <dan@tldrnewsletter.com>',\n",
       "  'news_summary': \"Perplexity has added over a dozen international news organizations to its Publishers' Program, offering tools, revenue sharing, and support to strengthen collaboration with global media.\",\n",
       "  'date_source': 'Fri, 6 Dec 2024 14:16:24 +0000',\n",
       "  'new_provider': 'www.perplexity.ai'},\n",
       " {'title': \"DEEPMIND'S GENIE 2 CAN GENERATE INTERACTIVE WORLDS THAT LOOK LIKE\\r\\nVIDEO GAMES\",\n",
       "  'url': 'https://techcrunch.com/2024/12/04/deepminds-genie-2-can-generate-interactive-worlds-that-look-like-video-games/',\n",
       "  'source_of_the_news': 'TLDR AI <dan@tldrnewsletter.com>',\n",
       "  'news_summary': \"DeepMind's Genie 2 is an advanced AI model that generates diverse, interactive 3D worlds from images and text descriptions. The model is particularly adept at simulating complex elements like physics and NPC behavior, setting it apart from similar models by maintaining scene consistency. Positioned as a research tool, Genie 2 is designed for prototyping interactive experiences and evaluating AI agents.\",\n",
       "  'date_source': 'Fri, 6 Dec 2024 14:16:24 +0000',\n",
       "  'new_provider': 'techcrunch.com'},\n",
       " {'title': 'PALIGEMMA 2',\n",
       "  'url': 'https://arxiv.org/abs/2412.03555',\n",
       "  'source_of_the_news': 'TLDR AI <dan@tldrnewsletter.com>',\n",
       "  'news_summary': 'Paligemma 2 is one of the best VLMs on the market today. It uses SigLIP and Gemma.',\n",
       "  'date_source': 'Fri, 6 Dec 2024 14:16:24 +0000',\n",
       "  'new_provider': 'arxiv.org'},\n",
       " {'title': 'LAND COVER MAPPING WITH ASANET',\n",
       "  'url': 'https://arxiv.org/abs/2412.02044v1',\n",
       "  'source_of_the_news': 'TLDR AI <dan@tldrnewsletter.com>',\n",
       "  'news_summary': 'The Asymmetric Semantic Aligning Network (ASANet) improves land cover classification using both SAR and RGB images.',\n",
       "  'date_source': 'Fri, 6 Dec 2024 14:16:24 +0000',\n",
       "  'new_provider': 'arxiv.org'},\n",
       " {'title': 'FASTER MULTI-MODAL MODELS WITH TOKEN MERGING',\n",
       "  'url': 'https://arxiv.org/abs/2412.03248v1',\n",
       "  'source_of_the_news': 'TLDR AI <dan@tldrnewsletter.com>',\n",
       "  'news_summary': 'Researchers have developed a training-free method to make multi-modal language models (LLMs) more efficient without sacrificing much performance. Their approach reduces computational demands by up to 7 times by smartly merging and pruning visual data tokens.',\n",
       "  'date_source': 'Fri, 6 Dec 2024 14:16:24 +0000',\n",
       "  'new_provider': 'arxiv.org'},\n",
       " {'title': 'NEW FISH AUDIO MODEL',\n",
       "  'url': 'https://threadreaderapp.com/thread/1864370933496205728.html',\n",
       "  'source_of_the_news': 'TLDR AI <dan@tldrnewsletter.com>',\n",
       "  'news_summary': 'The newest Fish Audio 1.5 is currently #2 on Text To Speech Leaderboards behind ElevenLabs. It supports voice cloning and is fast to run, although the output quality seems hit or miss.',\n",
       "  'date_source': 'Fri, 6 Dec 2024 14:16:24 +0000',\n",
       "  'new_provider': 'threadreaderapp.com'},\n",
       " {'title': 'OPENAI PARTNERS WITH ANDURIL',\n",
       "  'url': 'https://www.cnbc.com/2024/12/04/openai-partners-with-defense-company-anduril.html',\n",
       "  'source_of_the_news': 'TLDR AI <dan@tldrnewsletter.com>',\n",
       "  'news_summary': 'OpenAI and defense company Anduril have partnered to create a national security-based AI.',\n",
       "  'date_source': 'Fri, 6 Dec 2024 14:16:24 +0000',\n",
       "  'new_provider': 'www.cnbc.com'},\n",
       " {'title': \"KEY LEADERS BEHIND GOOGLE'S VIRAL NOTEBOOKLM ARE LEAVING TO CREATE\\r\\nTHEIR OWN STARTUP\",\n",
       "  'url': 'https://techcrunch.com/2024/12/04/key-leaders-behind-googles-viral-notebooklm-are-leaving-to-create-their-own-startup/',\n",
       "  'source_of_the_news': 'TLDR AI <dan@tldrnewsletter.com>',\n",
       "  'news_summary': 'Three key Google NotebookLM members have left to start a new stealth AI venture. The startup aims to leverage the latest AI models to create consumer-facing, user-first AI products. It remains in its early stages without a clear focus or announced funding.',\n",
       "  'date_source': 'Fri, 6 Dec 2024 14:16:24 +0000',\n",
       "  'new_provider': 'techcrunch.com'},\n",
       " {'title': 'GUI AGENTS',\n",
       "  'url': 'https://vyokky.github.io/LLM-Brained-GUI-Agents-Survey/',\n",
       "  'source_of_the_news': 'TLDR AI <dan@tldrnewsletter.com>',\n",
       "  'news_summary': 'A collection of research papers and projects on large language model-brained GUI agents.',\n",
       "  'date_source': 'Fri, 6 Dec 2024 14:16:24 +0000',\n",
       "  'new_provider': 'vyokky.github.io'},\n",
       " {'title': 'SAM ALTMAN SAYS ARTIFICIAL GENERAL INTELLIGENCE IS ON THE HORIZON',\n",
       "  'url': 'https://www.nytimes.com/video/business/100000009858580/sam-altman-openai-dealbook.html',\n",
       "  'source_of_the_news': 'TLDR AI <dan@tldrnewsletter.com>',\n",
       "  'news_summary': 'Sam Altman, CEO of OpenAI, stated at the DealBook Summit that Artificial General Intelligence might impact everyday life less significantly than expected.',\n",
       "  'date_source': 'Fri, 6 Dec 2024 14:16:24 +0000',\n",
       "  'new_provider': 'www.nytimes.com'}]"
      ]
     },
     "execution_count": 7,
     "metadata": {},
     "output_type": "execute_result"
    }
   ],
   "source": [
    "news_sources"
   ]
  },
  {
   "cell_type": "code",
   "execution_count": 8,
   "id": "5d525e49-4da2-45e1-9464-9534da083d2c",
   "metadata": {
    "execution": {
     "iopub.execute_input": "2024-12-18T03:57:26.556760Z",
     "iopub.status.busy": "2024-12-18T03:57:26.556125Z",
     "iopub.status.idle": "2024-12-18T03:57:26.569026Z",
     "shell.execute_reply": "2024-12-18T03:57:26.567518Z",
     "shell.execute_reply.started": "2024-12-18T03:57:26.556731Z"
    },
    "scrolled": true
   },
   "outputs": [
    {
     "data": {
      "text/plain": [
       "['Links:',\n",
       " '------',\n",
       " '[1] https://tldr.tech/ai?utm_source=tldrai',\n",
       " '[2] https://advertise.tldr.tech/?utm_source=tldrai&utm_medium=newsletter&utm_campaign=advertisetopnav',\n",
       " '[3] https://a.tldrnewsletter.com/web-version?ep=1&lc=57aff87c-ae02-11ef-9074-4b7e3c69f0c6&p=68d03084-b3c7-11ef-928d-09d27092d252&pt=campaign&t=1733494584&s=a94ebb372672f7844f8d11fcad3029c68791b13faf831d296ca3c8f639256320',\n",
       " '[4] https://writer.com/product/ai-studio/?utm_source=tldr&utm_medium=newsletter&utm_campaign=ai_studio',\n",
       " '[5] https://links.tldrnewsletter.com/xS4pwo',\n",
       " '[6] https://links.tldrnewsletter.com/UUkpwY',\n",
       " '[7] https://techcrunch.com/2024/12/04/deepminds-genie-2-can-generate-interactive-worlds-that-look-like-video-games/?utm_source=tldrai',\n",
       " '[8] https://arxiv.org/abs/2412.03555?utm_source=tldrai',\n",
       " '[9] https://arxiv.org/abs/2412.02044v1?utm_source=tldrai',\n",
       " '[10] https://arxiv.org/abs/2412.03248v1?utm_source=tldrai',\n",
       " '[11] https://page.camunda.com/wp-rethinking-change-management?utm_medium=paid_leadgen&utm_source=tldr&utm_campaign=Guide.RethinkingChangeManagement.24Q4.EN&utm_content=Q4program',\n",
       " '[12] https://github.com/google-deepmind/graphcast?utm_source=tldrai',\n",
       " '[13] https://github.com/pixtella/anagram-mtl?utm_source=tldrai',\n",
       " '[14] https://github.com/happyw1nd/scorelidar?utm_source=tldrai',\n",
       " '[15] https://threadreaderapp.com/thread/1864370933496205728.html?utm_source=tldrai',\n",
       " '[16] https://www.cnbc.com/2024/12/04/openai-partners-with-defense-company-anduril.html?utm_source=tldrai',\n",
       " '[17] https://techcrunch.com/2024/12/04/key-leaders-behind-googles-viral-notebooklm-are-leaving-to-create-their-own-startup/?utm_source=tldrai',\n",
       " '[18] https://www.cloudfactory.com/webinar/ai-irl?utm_campaign=Core_AP_EG&utm_source=tldr&utm_medium=mediapartner&utm_content=email_quicklinks',\n",
       " '[19] https://huggingface.co/ruliad/deepthought-8b-llama-v0.01-alpha?utm_source=tldrai',\n",
       " '[20] https://vyokky.github.io/LLM-Brained-GUI-Agents-Survey/?utm_source=tldrai',\n",
       " '[21] https://www.nytimes.com/video/business/100000009858580/sam-altman-openai-dealbook.html?utm_source=tldrai',\n",
       " '[22] https://advertise.tldr.tech/?utm_source=tldrai&utm_medium=newsletter&utm_campaign=advertisecta',\n",
       " '[23] https://a.tldrnewsletter.com/unsubscribe?ep=1&l=eedf6b14-3de3-11ed-9a32-0241b9615763&lc=57aff87c-ae02-11ef-9074-4b7e3c69f0c6&p=68d03084-b3c7-11ef-928d-09d27092d252&pt=campaign&pv=4&spa=1733493669&t=1733494584&s=ea38715a39323501a5e9b28f17e7c39f0df3e5d14a1e4155a2a433bd6fecc396',\n",
       " '[24] https://tldr.tech/ai/manage?email=automatic.newsletters%40gmail.com']"
      ]
     },
     "execution_count": 8,
     "metadata": {},
     "output_type": "execute_result"
    }
   ],
   "source": [
    "links = emails[0]['text'].split(\"\\r\\n\\r\\n\")[-1].split('\\r\\n')\n",
    "links"
   ]
  },
  {
   "cell_type": "code",
   "execution_count": 14,
   "id": "080e2f7e-682d-4d52-9777-b78f90bc6dbf",
   "metadata": {
    "execution": {
     "iopub.execute_input": "2024-12-18T04:10:17.868124Z",
     "iopub.status.busy": "2024-12-18T04:10:17.867091Z",
     "iopub.status.idle": "2024-12-18T04:10:17.883057Z",
     "shell.execute_reply": "2024-12-18T04:10:17.881271Z",
     "shell.execute_reply.started": "2024-12-18T04:10:17.868092Z"
    }
   },
   "outputs": [
    {
     "data": {
      "text/plain": [
       "True"
      ]
     },
     "execution_count": 14,
     "metadata": {},
     "output_type": "execute_result"
    }
   ],
   "source": [
    "\"tldr\" in links[6]"
   ]
  },
  {
   "cell_type": "code",
   "execution_count": 9,
   "id": "5d795687-19b3-476c-bd8a-545f6079d5ff",
   "metadata": {
    "execution": {
     "iopub.execute_input": "2024-12-18T03:57:26.571641Z",
     "iopub.status.busy": "2024-12-18T03:57:26.571060Z",
     "iopub.status.idle": "2024-12-18T03:57:26.591964Z",
     "shell.execute_reply": "2024-12-18T03:57:26.589583Z",
     "shell.execute_reply.started": "2024-12-18T03:57:26.571606Z"
    }
   },
   "outputs": [
    {
     "data": {
      "text/plain": [
       "['[9', 'https://arxiv.org/abs/2412.02044v1?utm_source=tldrai']"
      ]
     },
     "execution_count": 9,
     "metadata": {},
     "output_type": "execute_result"
    }
   ],
   "source": [
    "links[10].split('] ')"
   ]
  },
  {
   "cell_type": "code",
   "execution_count": 10,
   "id": "dcaa5ebe-e59f-4538-b4d4-7245bc06d41c",
   "metadata": {
    "execution": {
     "iopub.execute_input": "2024-12-18T03:58:17.160985Z",
     "iopub.status.busy": "2024-12-18T03:58:17.159327Z",
     "iopub.status.idle": "2024-12-18T03:58:17.170409Z",
     "shell.execute_reply": "2024-12-18T03:58:17.168798Z",
     "shell.execute_reply.started": "2024-12-18T03:58:17.160949Z"
    }
   },
   "outputs": [
    {
     "data": {
      "text/plain": [
       "(str, 'https://openai.com/index/openai-o1-system-card/')"
      ]
     },
     "execution_count": 10,
     "metadata": {},
     "output_type": "execute_result"
    }
   ],
   "source": [
    "type(news_sources[0]['url']), news_sources[0]['url']"
   ]
  },
  {
   "cell_type": "code",
   "execution_count": null,
   "id": "28bb4e07-652d-45d2-978b-97d4d61a6f9c",
   "metadata": {},
   "outputs": [],
   "source": []
  }
 ],
 "metadata": {
  "kernelspec": {
   "display_name": "Python 3 (ipykernel)",
   "language": "python",
   "name": "python3"
  },
  "language_info": {
   "codemirror_mode": {
    "name": "ipython",
    "version": 3
   },
   "file_extension": ".py",
   "mimetype": "text/x-python",
   "name": "python",
   "nbconvert_exporter": "python",
   "pygments_lexer": "ipython3",
   "version": "3.11.11"
  }
 },
 "nbformat": 4,
 "nbformat_minor": 5
}
