{
 "cells": [
  {
   "cell_type": "code",
   "execution_count": 1,
   "id": "7a70f2a9-719c-45a8-9df9-043eb3cf9cb3",
   "metadata": {
    "execution": {
     "iopub.execute_input": "2025-02-08T16:43:59.601594Z",
     "iopub.status.busy": "2025-02-08T16:43:59.601307Z",
     "iopub.status.idle": "2025-02-08T16:44:00.026035Z",
     "shell.execute_reply": "2025-02-08T16:44:00.024891Z",
     "shell.execute_reply.started": "2025-02-08T16:43:59.601568Z"
    }
   },
   "outputs": [],
   "source": [
    "from src.gmail import Gmail\n",
    "from src.newsletters.config import NEWSLETTER_AND_PARSER\n",
    "from src.newsletters.parser.tldr import tldr_parser\n",
    "from src.newsletters.parser.alpha_signal import alpha_signal_parser\n",
    "from src.config import SCOPES"
   ]
  },
  {
   "cell_type": "code",
   "execution_count": 2,
   "id": "348555ad-1e0e-4b8e-8e34-e3054add7402",
   "metadata": {
    "execution": {
     "iopub.execute_input": "2025-02-08T16:44:00.027542Z",
     "iopub.status.busy": "2025-02-08T16:44:00.027055Z",
     "iopub.status.idle": "2025-02-08T16:44:00.033275Z",
     "shell.execute_reply": "2025-02-08T16:44:00.032085Z",
     "shell.execute_reply.started": "2025-02-08T16:44:00.027514Z"
    }
   },
   "outputs": [],
   "source": [
    "import logging\n",
    "logging.basicConfig(\n",
    "    level=logging.DEBUG,\n",
    "    format=\"%(asctime)s - %(name)s - %(levelname)s -- l.%(lineno)d: %(message)s\",\n",
    ")"
   ]
  },
  {
   "cell_type": "code",
   "execution_count": 3,
   "id": "d6024b25-c28e-480f-8297-0c6f43361e99",
   "metadata": {
    "execution": {
     "iopub.execute_input": "2025-02-08T16:44:00.034589Z",
     "iopub.status.busy": "2025-02-08T16:44:00.034253Z",
     "iopub.status.idle": "2025-02-08T16:44:00.046866Z",
     "shell.execute_reply": "2025-02-08T16:44:00.044675Z",
     "shell.execute_reply.started": "2025-02-08T16:44:00.034559Z"
    }
   },
   "outputs": [
    {
     "data": {
      "text/plain": [
       "dict_keys(['TLDR AI <dan@tldrnewsletter.com>'])"
      ]
     },
     "execution_count": 3,
     "metadata": {},
     "output_type": "execute_result"
    }
   ],
   "source": [
    "NEWSLETTER_AND_PARSER.keys()"
   ]
  },
  {
   "cell_type": "code",
   "execution_count": 4,
   "id": "93ef2c90-9422-44da-840d-f51dc7522f28",
   "metadata": {
    "execution": {
     "iopub.execute_input": "2025-02-08T16:44:00.048845Z",
     "iopub.status.busy": "2025-02-08T16:44:00.048325Z",
     "iopub.status.idle": "2025-02-08T16:44:00.064930Z",
     "shell.execute_reply": "2025-02-08T16:44:00.063536Z",
     "shell.execute_reply.started": "2025-02-08T16:44:00.048811Z"
    }
   },
   "outputs": [
    {
     "name": "stderr",
     "output_type": "stream",
     "text": [
      "2025-02-08 11:44:00,058 - googleapiclient.discovery_cache - INFO -- l.49: file_cache is only supported with oauth2client<4.0.0\n"
     ]
    }
   ],
   "source": [
    "gmail = Gmail(\n",
    "    path_to_token=\"/home/secrets_vault/token.json\",\n",
    "    path_to_credentials=\"/home/secrets_vault/credentials.json\",\n",
    "    scopes=SCOPES\n",
    ")"
   ]
  },
  {
   "cell_type": "markdown",
   "id": "3a26028d-0127-4144-a086-3e6ffafe6ea9",
   "metadata": {},
   "source": [
    "# ALPHA SIGNAL"
   ]
  },
  {
   "cell_type": "code",
   "execution_count": 5,
   "id": "c39b7a28-6382-4560-84f4-3a0dfec15627",
   "metadata": {
    "execution": {
     "iopub.execute_input": "2025-02-08T16:44:00.068188Z",
     "iopub.status.busy": "2025-02-08T16:44:00.067562Z",
     "iopub.status.idle": "2025-02-08T16:44:00.665008Z",
     "shell.execute_reply": "2025-02-08T16:44:00.663906Z",
     "shell.execute_reply.started": "2025-02-08T16:44:00.068143Z"
    }
   },
   "outputs": [
    {
     "name": "stderr",
     "output_type": "stream",
     "text": [
      "2025-02-08 11:44:00,070 - src.gmail - DEBUG -- l.44: Fetch email for sender AlphaSignal <news@alphasignal.ai> from 2025-02-07 until 2025-02-07.\n",
      "2025-02-08 11:44:00,081 - googleapiclient.discovery - DEBUG -- l.1258: URL being requested: GET https://gmail.googleapis.com/gmail/v1/users/me/messages?q=after%3A1738904400+before%3A1738990799+from%3AAlphaSignal+%3Cnews%40alphasignal.ai%3E&alt=json\n",
      "2025-02-08 11:44:00,083 - google_auth_httplib2 - DEBUG -- l.118: Making request: POST https://oauth2.googleapis.com/token\n",
      "2025-02-08 11:44:00,521 - googleapiclient.discovery - DEBUG -- l.1258: URL being requested: GET https://gmail.googleapis.com/gmail/v1/users/me/messages/194e1dae7e6bbcc6?alt=json\n"
     ]
    },
    {
     "data": {
      "text/plain": [
       "(1, list)"
      ]
     },
     "execution_count": 5,
     "metadata": {},
     "output_type": "execute_result"
    }
   ],
   "source": [
    "emails = gmail.fetch_emails(sender='AlphaSignal <news@alphasignal.ai>', after='2025-02-07', before='2025-02-07')\n",
    "len(emails), type(emails)"
   ]
  },
  {
   "cell_type": "code",
   "execution_count": 6,
   "id": "6eaec6a7-d237-4d53-82ca-b67e016eb887",
   "metadata": {
    "execution": {
     "iopub.execute_input": "2025-02-08T16:44:00.667981Z",
     "iopub.status.busy": "2025-02-08T16:44:00.667647Z",
     "iopub.status.idle": "2025-02-08T16:44:04.991303Z",
     "shell.execute_reply": "2025-02-08T16:44:04.989732Z",
     "shell.execute_reply.started": "2025-02-08T16:44:00.667956Z"
    },
    "scrolled": true
   },
   "outputs": [
    {
     "name": "stderr",
     "output_type": "stream",
     "text": [
      "2025-02-08 11:44:00,683 - src.newsletters.parser.process_links - DEBUG -- l.14: ['[1] https://link.alphasignal.ai/HWyWVm', '[2] https://link.alphasignal.ai/qBDJtP', '[3] https://link.alphasignal.ai/uIKFtp', '[4] https://araneoides.eomail1.com/web-version?ep=1&lc=0833873c-e381-11ef-a3f9-cbdf36f97402&p=686320f2-e586-11ef-8073-e1d644c8c090&pt=campaign&t=1738956006&s=500545ddc16f1bef398809bb750062650fa2e232d79ebc54d415c0bb5f955c45', '[5] https://link.alphasignal.ai/Z6dVYR', '[6] https://link.alphasignal.ai/Yrwvxf', '[7] https://link.alphasignal.ai/UF6bj7', '[8] https://link.alphasignal.ai/pE0RTm', '[9] https://link.alphasignal.ai/stKaZF', '[10] https://link.alphasignal.ai/qcV4LG', '[11] https://link.alphasignal.ai/5hUes6', '[12] https://link.alphasignal.ai/lKJLbL', '[13] https://link.alphasignal.ai/KDRgwL', '[14] https://araneoides.eomail1.com/unsubscribe?ep=1&l=9a4eb768-071d-11ef-b70b-19296a53e269&lc=0833873c-e381-11ef-a3f9-cbdf36f97402&p=686320f2-e586-11ef-8073-e1d644c8c090&pt=campaign&pv=4&spa=1738955841&t=1738956006&s=71a80f6481a811dc78ce58d6c2076abf8e33df42a7d6160853a52c1cf5863528']\n",
      "2025-02-08 11:44:00,685 - src.newsletters.parser.process_links - DEBUG -- l.20: {'1': 'https://link.alphasignal.ai/HWyWVm', '2': 'https://link.alphasignal.ai/qBDJtP', '3': 'https://link.alphasignal.ai/uIKFtp', '4': 'https://araneoides.eomail1.com/web-version?ep=1&lc=0833873c-e381-11ef-a3f9-cbdf36f97402&p=686320f2-e586-11ef-8073-e1d644c8c090&pt=campaign&t=1738956006&s=500545ddc16f1bef398809bb750062650fa2e232d79ebc54d415c0bb5f955c45', '5': 'https://link.alphasignal.ai/Z6dVYR', '6': 'https://link.alphasignal.ai/Yrwvxf', '7': 'https://link.alphasignal.ai/UF6bj7', '8': 'https://link.alphasignal.ai/pE0RTm', '9': 'https://link.alphasignal.ai/stKaZF', '10': 'https://link.alphasignal.ai/qcV4LG', '11': 'https://link.alphasignal.ai/5hUes6', '12': 'https://link.alphasignal.ai/lKJLbL', '13': 'https://link.alphasignal.ai/KDRgwL', '14': 'https://araneoides.eomail1.com/unsubscribe?ep=1&l=9a4eb768-071d-11ef-b70b-19296a53e269&lc=0833873c-e381-11ef-a3f9-cbdf36f97402&p=686320f2-e586-11ef-8073-e1d644c8c090&pt=campaign&pv=4&spa=1738955841&t=1738956006&s=71a80f6481a811dc78ce58d6c2076abf8e33df42a7d6160853a52c1cf5863528'}\n",
      "2025-02-08 11:44:00,698 - urllib3.connectionpool - DEBUG -- l.1049: Starting new HTTPS connection (1): link.alphasignal.ai:443\n",
      "2025-02-08 11:44:00,933 - urllib3.connectionpool - DEBUG -- l.544: https://link.alphasignal.ai:443 \"HEAD /Z6dVYR HTTP/1.1\" 302 0\n",
      "2025-02-08 11:44:00,936 - urllib3.connectionpool - DEBUG -- l.1049: Starting new HTTPS connection (1): mistral.ai:443\n",
      "2025-02-08 11:44:01,889 - urllib3.connectionpool - DEBUG -- l.544: https://mistral.ai:443 \"HEAD /en/news/all-new-le-chat HTTP/1.1\" 200 0\n",
      "2025-02-08 11:44:01,895 - urllib3.connectionpool - DEBUG -- l.1049: Starting new HTTPS connection (1): link.alphasignal.ai:443\n",
      "2025-02-08 11:44:02,020 - urllib3.connectionpool - DEBUG -- l.544: https://link.alphasignal.ai:443 \"HEAD /Yrwvxf HTTP/1.1\" 302 0\n",
      "2025-02-08 11:44:02,023 - urllib3.connectionpool - DEBUG -- l.1049: Starting new HTTPS connection (1): landing.ai:443\n",
      "2025-02-08 11:44:02,446 - urllib3.connectionpool - DEBUG -- l.544: https://landing.ai:443 \"HEAD /agentic-object-detection HTTP/1.1\" 403 0\n",
      "2025-02-08 11:44:02,451 - urllib3.connectionpool - DEBUG -- l.1049: Starting new HTTPS connection (1): link.alphasignal.ai:443\n",
      "2025-02-08 11:44:02,565 - urllib3.connectionpool - DEBUG -- l.544: https://link.alphasignal.ai:443 \"HEAD /UF6bj7 HTTP/1.1\" 302 0\n",
      "2025-02-08 11:44:02,568 - urllib3.connectionpool - DEBUG -- l.1049: Starting new HTTPS connection (1): github.blog:443\n",
      "2025-02-08 11:44:02,719 - urllib3.connectionpool - DEBUG -- l.544: https://github.blog:443 \"HEAD /news-insights/product-news/github-copilot-the-agent-awakens/ HTTP/1.1\" 200 0\n",
      "2025-02-08 11:44:02,724 - urllib3.connectionpool - DEBUG -- l.1049: Starting new HTTPS connection (1): link.alphasignal.ai:443\n",
      "2025-02-08 11:44:02,842 - urllib3.connectionpool - DEBUG -- l.544: https://link.alphasignal.ai:443 \"HEAD /pE0RTm HTTP/1.1\" 302 0\n",
      "2025-02-08 11:44:02,844 - urllib3.connectionpool - DEBUG -- l.1049: Starting new HTTPS connection (1): developers.googleblog.com:443\n",
      "2025-02-08 11:44:03,408 - urllib3.connectionpool - DEBUG -- l.544: https://developers.googleblog.com:443 \"HEAD /en/imagen-3-arrives-in-the-gemini-api/ HTTP/1.1\" 200 0\n",
      "2025-02-08 11:44:03,411 - urllib3.connectionpool - DEBUG -- l.1049: Starting new HTTPS connection (1): link.alphasignal.ai:443\n",
      "2025-02-08 11:44:03,527 - urllib3.connectionpool - DEBUG -- l.544: https://link.alphasignal.ai:443 \"HEAD /stKaZF HTTP/1.1\" 302 0\n",
      "2025-02-08 11:44:03,529 - urllib3.connectionpool - DEBUG -- l.1049: Starting new HTTPS connection (1): x.com:443\n",
      "2025-02-08 11:44:03,761 - urllib3.connectionpool - DEBUG -- l.544: https://x.com:443 \"HEAD /OpenAI/status/1887616278661112259 HTTP/1.1\" 403 0\n",
      "2025-02-08 11:44:03,766 - urllib3.connectionpool - DEBUG -- l.1049: Starting new HTTPS connection (1): link.alphasignal.ai:443\n",
      "2025-02-08 11:44:03,873 - urllib3.connectionpool - DEBUG -- l.544: https://link.alphasignal.ai:443 \"HEAD /qcV4LG HTTP/1.1\" 302 0\n",
      "2025-02-08 11:44:03,875 - urllib3.connectionpool - DEBUG -- l.1049: Starting new HTTPS connection (1): pikadditions.org:443\n",
      "2025-02-08 11:44:04,306 - urllib3.connectionpool - DEBUG -- l.544: https://pikadditions.org:443 \"HEAD / HTTP/1.1\" 200 0\n",
      "2025-02-08 11:44:04,309 - urllib3.connectionpool - DEBUG -- l.1049: Starting new HTTPS connection (1): link.alphasignal.ai:443\n",
      "2025-02-08 11:44:04,425 - urllib3.connectionpool - DEBUG -- l.544: https://link.alphasignal.ai:443 \"HEAD /5hUes6 HTTP/1.1\" 302 0\n",
      "2025-02-08 11:44:04,427 - urllib3.connectionpool - DEBUG -- l.1049: Starting new HTTPS connection (1): arxiv.org:443\n",
      "2025-02-08 11:44:04,597 - urllib3.connectionpool - DEBUG -- l.544: https://arxiv.org:443 \"HEAD /abs/2502.03544 HTTP/1.1\" 200 0\n",
      "2025-02-08 11:44:04,600 - urllib3.connectionpool - DEBUG -- l.1049: Starting new HTTPS connection (1): link.alphasignal.ai:443\n",
      "2025-02-08 11:44:04,713 - urllib3.connectionpool - DEBUG -- l.544: https://link.alphasignal.ai:443 \"HEAD /lKJLbL HTTP/1.1\" 302 0\n",
      "2025-02-08 11:44:04,715 - urllib3.connectionpool - DEBUG -- l.1049: Starting new HTTPS connection (1): arxiv.org:443\n",
      "2025-02-08 11:44:04,790 - urllib3.connectionpool - DEBUG -- l.544: https://arxiv.org:443 \"HEAD /abs/2501.19393 HTTP/1.1\" 200 0\n",
      "2025-02-08 11:44:04,795 - urllib3.connectionpool - DEBUG -- l.1049: Starting new HTTPS connection (1): link.alphasignal.ai:443\n",
      "2025-02-08 11:44:04,903 - urllib3.connectionpool - DEBUG -- l.544: https://link.alphasignal.ai:443 \"HEAD /KDRgwL HTTP/1.1\" 302 0\n",
      "2025-02-08 11:44:04,906 - urllib3.connectionpool - DEBUG -- l.1049: Starting new HTTPS connection (1): arxiv.org:443\n",
      "2025-02-08 11:44:04,984 - urllib3.connectionpool - DEBUG -- l.544: https://arxiv.org:443 \"HEAD /html/2501.13946v1 HTTP/1.1\" 200 0\n"
     ]
    }
   ],
   "source": [
    "news_sources = alpha_signal_parser(emails[0])"
   ]
  },
  {
   "cell_type": "code",
   "execution_count": 7,
   "id": "906b8a68-bc87-46e8-ae62-92b7da5c7938",
   "metadata": {
    "execution": {
     "iopub.execute_input": "2025-02-08T16:44:14.065033Z",
     "iopub.status.busy": "2025-02-08T16:44:14.064525Z",
     "iopub.status.idle": "2025-02-08T16:44:14.078294Z",
     "shell.execute_reply": "2025-02-08T16:44:14.077165Z",
     "shell.execute_reply.started": "2025-02-08T16:44:14.064998Z"
    },
    "scrolled": true
   },
   "outputs": [
    {
     "data": {
      "text/plain": [
       "[{'title': 'Mistral AI brings Le Chat to iOS, Android, and enterprise',\n",
       "  'url': 'https://mistral.ai/en/news/all-new-le-chat',\n",
       "  'source_of_the_news': 'AlphaSignal <news@alphasignal.ai>',\n",
       "  'news_summary': 'Mistral AI brings Le Chat to iOS, Android, and enterprise  with web search and automation tools.',\n",
       "  'date_source': 'Fri, 7 Feb 2025 19:20:06 +0000',\n",
       "  'date_source_time_zone': 'utc',\n",
       "  'news_provider': 'mistral.ai'},\n",
       " {'title': 'Andrew Ng presents Agentic Object Detection',\n",
       "  'url': 'https://landing.ai/agentic-object-detection',\n",
       "  'source_of_the_news': 'AlphaSignal <news@alphasignal.ai>',\n",
       "  'news_summary': 'human-like object recognition via text-driven reasoning.',\n",
       "  'date_source': 'Fri, 7 Feb 2025 19:20:06 +0000',\n",
       "  'date_source_time_zone': 'utc',\n",
       "  'news_provider': 'landing.ai'},\n",
       " {'title': 'GitHub upgrades Copilot with agent mode',\n",
       "  'url': 'https://github.blog/news-insights/product-news/github-copilot-the-agent-awakens/',\n",
       "  'source_of_the_news': 'AlphaSignal <news@alphasignal.ai>',\n",
       "  'news_summary': 'GitHub upgrades Copilot with agent mode , multi-file edits, and an upcoming autonomous coding agent.',\n",
       "  'date_source': 'Fri, 7 Feb 2025 19:20:06 +0000',\n",
       "  'date_source_time_zone': 'utc',\n",
       "  'news_provider': 'github.blog'},\n",
       " {'title': 'Google releases Imagen 3 in Gemini API',\n",
       "  'url': 'https://developers.googleblog.com/en/imagen-3-arrives-in-the-gemini-api/',\n",
       "  'source_of_the_news': 'AlphaSignal <news@alphasignal.ai>',\n",
       "  'news_summary': 'high quality, watermarked image generation with improved prompt adherence.',\n",
       "  'date_source': 'Fri, 7 Feb 2025 19:20:06 +0000',\n",
       "  'date_source_time_zone': 'utc',\n",
       "  'news_provider': 'developers.googleblog.com'},\n",
       " {'title': 'OpenAI refines CoT reasoning in O3-Mini',\n",
       "  'url': 'https://x.com/OpenAI/status/1887616278661112259',\n",
       "  'source_of_the_news': 'AlphaSignal <news@alphasignal.ai>',\n",
       "  'news_summary': 'OpenAI refines CoT reasoning in O3-Mini  models, expanding visibility.',\n",
       "  'date_source': 'Fri, 7 Feb 2025 19:20:06 +0000',\n",
       "  'date_source_time_zone': 'utc',\n",
       "  'news_provider': 'x.com'},\n",
       " {'title': 'Pika Labs launches Pikadditions',\n",
       "  'url': 'https://pikadditions.org/',\n",
       "  'source_of_the_news': 'AlphaSignal <news@alphasignal.ai>',\n",
       "  'news_summary': 'add any object or person to any video with ease.',\n",
       "  'date_source': 'Fri, 7 Feb 2025 19:20:06 +0000',\n",
       "  'date_source_time_zone': 'utc',\n",
       "  'news_provider': 'pikadditions.org'},\n",
       " {'title': \"Google AI's AlphaGeometry2 surpasses gold medalists\",\n",
       "  'url': 'https://arxiv.org/abs/2502.03544',\n",
       "  'source_of_the_news': 'AlphaSignal <news@alphasignal.ai>',\n",
       "  'news_summary': \"Google AI's AlphaGeometry2 surpasses gold medalists  in Olympiad geometry, improving problem coverage and solving rates.\",\n",
       "  'date_source': 'Fri, 7 Feb 2025 19:20:06 +0000',\n",
       "  'date_source_time_zone': 'utc',\n",
       "  'news_provider': 'arxiv.org'},\n",
       " {'title': 's1-32B improves test-time scaling',\n",
       "  'url': 'https://arxiv.org/abs/2501.19393',\n",
       "  'source_of_the_news': 'AlphaSignal <news@alphasignal.ai>',\n",
       "  'news_summary': 's1-32B improves test-time scaling  with budget forcing, boosting math reasoning and competition scores.',\n",
       "  'date_source': 'Fri, 7 Feb 2025 19:20:06 +0000',\n",
       "  'date_source_time_zone': 'utc',\n",
       "  'news_provider': 'arxiv.org'},\n",
       " {'title': 'Multi-agent system reduces AI hallucinations',\n",
       "  'url': 'https://arxiv.org/html/2501.13946v1',\n",
       "  'source_of_the_news': 'AlphaSignal <news@alphasignal.ai>',\n",
       "  'news_summary': 'Multi-agent system reduces AI hallucinations using structured reviews, NLP-based coordination, and new KPIs.',\n",
       "  'date_source': 'Fri, 7 Feb 2025 19:20:06 +0000',\n",
       "  'date_source_time_zone': 'utc',\n",
       "  'news_provider': 'arxiv.org'}]"
      ]
     },
     "execution_count": 7,
     "metadata": {},
     "output_type": "execute_result"
    }
   ],
   "source": [
    "news_sources"
   ]
  },
  {
   "cell_type": "markdown",
   "id": "98e6160c-4398-428d-9f43-46a7be72f5ba",
   "metadata": {},
   "source": [
    "## Experimentation"
   ]
  },
  {
   "cell_type": "code",
   "execution_count": 46,
   "id": "3cae6338-4406-4895-9ba6-9af53cc3a91d",
   "metadata": {
    "execution": {
     "iopub.execute_input": "2025-02-08T05:41:26.931297Z",
     "iopub.status.busy": "2025-02-08T05:41:26.930807Z",
     "iopub.status.idle": "2025-02-08T05:41:26.941374Z",
     "shell.execute_reply": "2025-02-08T05:41:26.940256Z",
     "shell.execute_reply.started": "2025-02-08T05:41:26.931267Z"
    }
   },
   "outputs": [
    {
     "data": {
      "text/plain": [
       "dict"
      ]
     },
     "execution_count": 46,
     "metadata": {},
     "output_type": "execute_result"
    }
   ],
   "source": [
    "type(emails[0])"
   ]
  },
  {
   "cell_type": "code",
   "execution_count": 8,
   "id": "30f5c812-5117-4fc2-b493-dcaa44f68ea9",
   "metadata": {
    "execution": {
     "iopub.execute_input": "2025-02-08T04:22:06.923573Z",
     "iopub.status.busy": "2025-02-08T04:22:06.923251Z",
     "iopub.status.idle": "2025-02-08T04:22:06.931656Z",
     "shell.execute_reply": "2025-02-08T04:22:06.930973Z",
     "shell.execute_reply.started": "2025-02-08T04:22:06.923547Z"
    }
   },
   "outputs": [
    {
     "data": {
      "text/plain": [
       "dict_keys(['sender', 'subject', 'date_utc', 'id', 'text'])"
      ]
     },
     "execution_count": 8,
     "metadata": {},
     "output_type": "execute_result"
    }
   ],
   "source": [
    "emails[0].keys()"
   ]
  },
  {
   "cell_type": "code",
   "execution_count": 11,
   "id": "57cac741-6738-4c4c-9040-7314a49c9d83",
   "metadata": {
    "execution": {
     "iopub.execute_input": "2025-02-08T04:29:04.146569Z",
     "iopub.status.busy": "2025-02-08T04:29:04.146119Z",
     "iopub.status.idle": "2025-02-08T04:29:04.154535Z",
     "shell.execute_reply": "2025-02-08T04:29:04.152843Z",
     "shell.execute_reply.started": "2025-02-08T04:29:04.146539Z"
    }
   },
   "outputs": [
    {
     "data": {
      "text/plain": [
       "'AlphaSignal <news@alphasignal.ai>'"
      ]
     },
     "execution_count": 11,
     "metadata": {},
     "output_type": "execute_result"
    }
   ],
   "source": [
    "emails[0]['sender']"
   ]
  },
  {
   "cell_type": "code",
   "execution_count": 10,
   "id": "bc5974f5-df32-4855-8701-ddbd2c5a71c8",
   "metadata": {
    "execution": {
     "iopub.execute_input": "2025-02-08T04:28:25.697204Z",
     "iopub.status.busy": "2025-02-08T04:28:25.696522Z",
     "iopub.status.idle": "2025-02-08T04:28:25.708178Z",
     "shell.execute_reply": "2025-02-08T04:28:25.706250Z",
     "shell.execute_reply.started": "2025-02-08T04:28:25.697176Z"
    }
   },
   "outputs": [
    {
     "data": {
      "text/plain": [
       "'🔥Mistral AI updates Chatbot, Faster than ChatGPT & Claude'"
      ]
     },
     "execution_count": 10,
     "metadata": {},
     "output_type": "execute_result"
    }
   ],
   "source": [
    "emails[0]['subject']"
   ]
  },
  {
   "cell_type": "code",
   "execution_count": 12,
   "id": "d360ca96-2773-48a9-aa82-5fd0ccfefc0c",
   "metadata": {
    "execution": {
     "iopub.execute_input": "2025-02-08T04:30:08.602265Z",
     "iopub.status.busy": "2025-02-08T04:30:08.601924Z",
     "iopub.status.idle": "2025-02-08T04:30:08.608698Z",
     "shell.execute_reply": "2025-02-08T04:30:08.607189Z",
     "shell.execute_reply.started": "2025-02-08T04:30:08.602197Z"
    },
    "scrolled": true
   },
   "outputs": [
    {
     "name": "stdout",
     "output_type": "stream",
     "text": [
      "On Andrew Ng's agentic object detection, GitHub Copilot's agent mode,\n",
      "Google's Imagen 3 on Gemini API,... \n",
      "\n",
      "SIGNUP [1]  |  WORK WITH US [2]  |  FOLLOW ON X\n",
      "[3]  |  READ ON WEB [4]\n",
      "\n",
      " . \n",
      "\n",
      "HEY ,\n",
      "\n",
      "Welcome to AlphaSignal – the most read newsletter by AI\n",
      "developers. \n",
      "\n",
      "We bring you the top 1% of news, papers, models, and repos, all\n",
      "summarized to keep you updated on the latest in AI.\n",
      "\n",
      "IN TODAY'S SIGNAL\n",
      "\n",
      "_Read time: 5 min 41 sec_\n",
      "\n",
      "🎖️ TOP NEWS\n",
      "\n",
      " \t*\n",
      "Mistral AI brings Le Chat to iOS, Android, and enterprise [5] with web\n",
      "search and automation tools.\n",
      "\n",
      "⚡️ TRENDING SIGNALS\n",
      "\n",
      " \t*\n",
      "Andrew Ng presents Agentic Object Detection [6]: human-like object\n",
      "recognition via text-driven reasoning.\n",
      "\n",
      " \t*\n",
      "GitHub upgrades Copilot with agent mode [7], multi-file edits, and an\n",
      "upcoming autonomous coding agent.\n",
      "\n",
      " \t*\n",
      "Google releases Imagen 3 in Gemini API [8]: high quality, watermarked\n",
      "image generation with improved prompt adherence.\n",
      "\n",
      " \t*\n",
      "OpenAI refines CoT reasoning in O3-Mini [9] models, expanding\n",
      "visibility.\n",
      "\n",
      " \t*\n",
      "Pika Labs launches Pikadditions [10]: add any object or person to any\n",
      "video with ease.\n",
      "\n",
      "💻TOP PAPERS\n",
      "\n",
      " \t*\n",
      "Google AI's AlphaGeometry2 surpasses gold medalists [11] in Olympiad\n",
      "geometry, improving problem coverage and solving rates.\n",
      "\n",
      " \t*\n",
      "s1-32B improves test-time scaling [12] with budget forcing, boosting\n",
      "math reasoning and competition scores.\n",
      "\n",
      " \t*\n",
      "Multi-agent system reduces AI hallucinations [13]using structured\n",
      "reviews, NLP-based coordination, and new KPIs.\n",
      "\n",
      "🧠 PYTHON TIP\n",
      "\n",
      " \t*\n",
      "How to generate high-quality images with Imagen 3 using the Gemini\n",
      "API.\n",
      "\n",
      "IF YOU'RE ENJOYING ALPHASIGNAL PLEASE FORWARD THIS EMAIL TO A\n",
      "COLLEAGUE. \n",
      "\n",
      "It helps us keep this content free.\n",
      "\n",
      "TOP NEWS\n",
      "\n",
      "AI Assistant\n",
      "\n",
      "MISTRAL AI UPGRADES ITS CHATBOT WITH FASTER RESPONSES, CODE EXECUTION\n",
      "FOR MOBILE AND ENTERPRISE DEPLOYMENT\n",
      "\n",
      "⇧ 13,532 Likes\n",
      "\n",
      "\t\t [5] \n",
      "\n",
      "WHAT'S NEW\n",
      "\n",
      "French AI lab, Mistral AI updates its chatbot LE CHAT and makes it\n",
      "available on iOS, Android, and enterprise infrastructure. It\n",
      "introduces FLASH ANSWERS, A BUILT-IN CODE INTERPRETER, and REAL-TIME\n",
      "SEARCH, competing with ChatGPT, Claude, and DeepSeek.\n",
      "\n",
      "CORE FUNCTIONALITIES\n",
      "\n",
      "Le Chat provides tools for both general use and technical\n",
      "applications, offering:\n",
      "\n",
      " \t* OCR ENGINE: Processes PDFs, spreadsheets, and complex or\n",
      "low-quality files.\n",
      "\n",
      " \t* CODE INTERPRETER: Runs scripts, handles data analysis, and creates\n",
      "visualizations.\n",
      "\n",
      " \t* IMAGE GENERATION: Uses BLACK FOREST LABS’ FLUX ULTRA to generate\n",
      "photorealistic visuals.\n",
      "\n",
      " \t* REAL-TIME INFORMATION RETRIEVAL: Combines static pre-trained\n",
      "knowledge with updated data from web searches and news outlets.\n",
      "\n",
      " \t* Its MULTI-STEP AGENT FRAMEWORK lets you AUTOMATE WORKFLOWS by\n",
      "integrating with messaging systems and databases.\n",
      "\n",
      "PERFORMANCE\n",
      "\n",
      "Le Chat runs on Mistral’s latest models and introduces FLASH\n",
      "ANSWERS, a feature enabling RESPONSE SPEEDS OF UP TO 1,000 WORDS PER\n",
      "SECOND. It supports real-time web search with data from journalism\n",
      "sources and social platforms. The assistant processes text, images,\n",
      "and structured data files without external dependencies.\n",
      "\n",
      "COMPARISON WITH OTHER CHATBOTS\n",
      "\n",
      " \t* Faster than ChatGPT and Claude in response generation.\n",
      "\n",
      " \t* Stronger OCR and document parsing than Claude.\n",
      "\n",
      " \t* Code execution similar to ChatGPT Plus.\n",
      "\n",
      " \t* Web search supports social media and journalism sources.\n",
      "\n",
      " \t* Claude is known  for token efficiency, but Le Chat provides\n",
      "custom enterprise deployments and flexible infrastructure setups.\n",
      "\n",
      " \t* Le Chat adheres to EU privacy standards (GDPR).\n",
      "\n",
      "ENTERPRISE DEPLOYMENTS AND CUSTOMIZATION\n",
      "Le Chat targets enterprises with options for SAAS, ON-PREMISE, and VPC\n",
      "DEPLOYMENT. Teams can customize models and ensure on-site data\n",
      "security, making it a viable alternative to U.S. and Chinese\n",
      "providers.\n",
      "\n",
      "ACCESS AND AVAILABILITY\n",
      "\n",
      "You can find Le Chat available on web, iOS, and Android. It offers\n",
      "three tiers:\n",
      "\n",
      " \t* FREE PLAN: Limited usage with access to core features.\n",
      "\n",
      " \t* PRO PLAN: Faster responses, priority access, and extended usage\n",
      "limits.\n",
      "\n",
      " \t* ENTERPRISE: Custom deployment on ON-PREMISE OR VPC INFRASTRUCTURE,\n",
      "model fine-tuning, and API rate customization.\n",
      "\n",
      "\t\tTRY NOW [5] \n",
      "\n",
      "TRENDING SIGNALS\n",
      "\n",
      "Computer Vision\n",
      "\n",
      "ANDREW NG INTRODUCES A REASONING DRIVEN APPROACH TO OBJECT DETECTION,\n",
      "USES AGENTIC WORKFLOWS TO ANALYZE AND IDENTIFY OBJECTS [6]\n",
      "\n",
      "⇧ 3,285 Likes\n",
      "\n",
      "Coding Assistant\n",
      "\n",
      "GITHUB UNVEILS COPILOT AGENT MODE: SELF-ITERATING CODE, TERMINAL\n",
      "GUIDANCE, AND AUTOMATED ERROR FIXING IN VS CODE [7]\n",
      "\n",
      "⇧ 6,385 Likes\n",
      "\n",
      "Image Generation\n",
      "\n",
      "GOOGLE LAUNCHES IMAGEN 3 ON GEMINI API WITH IMPROVED PROMPT ACCURACY,\n",
      "MULTI-STYLE SUPPORT, AND AI CONTENT VERIFICATION [8]\n",
      "\n",
      "⇧ 1,024 Likes\n",
      "\n",
      "LLM\n",
      "\n",
      "OPENAI UPDATES O3-MINI WITH IMPROVED CHAIN-OF-THOUGHT REASONING FOR\n",
      "FREE AND PAID USERS [9]\n",
      "\n",
      "⇧ 4,283 Likes\n",
      "\n",
      "AI Video Editing\n",
      "\n",
      "PIKA LABS RELEASES VIDEO TO VIDEO PLATFORM THAT ALLOWS ADDITION OF ANY\n",
      "OBJECT OR PERSON INTO EXISTING VIDEOS WITH 15 FREE GENERATIONS [10]\n",
      "\n",
      "⇧ 1,384 Likes\n",
      "\n",
      "TOP PAPERS\n",
      "\n",
      "Mathematical Reasoning\n",
      "\n",
      "GOLD-MEDALIST PERFORMANCE IN SOLVING OLYMPIAD GEOMETRY WITH\n",
      "ALPHAGEOMETRY2 [11]\n",
      "\n",
      "⇧ 6,128 Likes\n",
      "\n",
      "PROBLEM\n",
      "\n",
      "Google AI's AlphaGeometry struggled with solving complex Olympiad\n",
      "geometry problems, especially those involving object movements and\n",
      "linear equations of angles, ratios, and distances. Its coverage of\n",
      "International Math Olympiad (IMO) geometry problems was limited.\n",
      "\n",
      "SOLUTION\n",
      "AlphaGeometry2 extends the problem-solving language, improves search\n",
      "with the Gemini architecture, and introduces a novel knowledge-sharing\n",
      "mechanism to combine multiple search trees. Enhancements in the\n",
      "symbolic engine and synthetic data generation further refine its\n",
      "accuracy.\n",
      "\n",
      "RESULTS\n",
      "AlphaGeometry2 boosts IMO geometry problem coverage from 66% to 88%\n",
      "and increases the solving rate from 54% to 84%, surpassing average\n",
      "gold medalists and contributing to a silver-medal performance at IMO\n",
      "2024.\n",
      "\n",
      "LLM Reasoning\n",
      "\n",
      "S1: SIMPLE TEST-TIME SCALING [12]\n",
      "\n",
      "⇧ 4,593 Likes\n",
      "\n",
      "PROBLEM\n",
      "\n",
      "Test-time scaling helps language models perform better by using extra\n",
      "compute, but OpenAI’s O1 model showed this without sharing details.\n",
      "A simple way to achieve this and improve reasoning was needed.\n",
      "\n",
      "SOLUTION\n",
      "The s1-32B model is trained on a small dataset (s1K) of 1,000\n",
      "reasoning questions. It uses budget forcing, a method that controls\n",
      "how long the model thinks by adding or stopping “Wait” signals,\n",
      "helping it fix mistakes.\n",
      "\n",
      "RESULTS\n",
      "s1-32B outperforms O1-preview, improving math competition scores by up\n",
      "to 27% (MATH, AIME24). Budget forcing boosts AIME24 accuracy from 50%\n",
      "to 57%. The model, data, and code are open-source.\n",
      "\n",
      "AI Safety and Reliability\n",
      "\n",
      "HALLUCINATION MITIGATION USING AGENTIC AI NATURAL LANGUAGE-BASED\n",
      "FRAMEWORKS [13]\n",
      "\n",
      "⇧ 2,493 Likes\n",
      "\n",
      "PROBLEM\n",
      "\n",
      "Generative AI models often produce hallucinations, making them less\n",
      "reliable and reducing trust in AI systems. A better approach was\n",
      "needed to detect and refine misleading content while maintaining clear\n",
      "and factual responses.\n",
      "\n",
      "SOLUTION\n",
      "A multi-agent system is designed using over 300 prompts to induce\n",
      "hallucinations. AI agents at different levels review and refine\n",
      "outputs using distinct language models, structured JSON communication,\n",
      "and the OVON framework for seamless interaction. New KPIs are\n",
      "introduced to measure hallucination levels.\n",
      "\n",
      "RESULTS\n",
      "The multi-agent approach lowers hallucination scores, improves\n",
      "clarity, and makes speculative content more transparent. Structured\n",
      "meta-information exchange enhances AI explainability, boosting trust\n",
      "in AI-generated responses.\n",
      "\n",
      "PYTHON TIP\n",
      "\n",
      "GENERATE AN IMAGE WITH IMAGEN 3 USING GEMINI API\n",
      "\n",
      "Google's IMAGEN 3 is now available via the GEMINI API, allowing you to\n",
      "generate high-quality images with improved prompt adherence. It\n",
      "supports various styles, from hyperrealism to anime, and includes a\n",
      "SYNTHID WATERMARK for AI attribution.\n",
      "\n",
      "APPLICATION\n",
      "\n",
      "This API is ideal for design, advertising, content creation, and\n",
      "prototyping. It offers customizable aspect ratios and prompt-based\n",
      "generation, making it a powerful tool for creative and commercial\n",
      "applications.\n",
      "\n",
      "This Python code snippet demonstrates how to generate an image with\n",
      "Imagen 3 using the Gemini API.\n",
      "\n",
      "from google import genai\n",
      "from google.genai import types\n",
      "from PIL import Image\n",
      "from io import BytesIO\n",
      "\n",
      "client = genai.Client(api_key='GEMINI_API_KEY')\n",
      "\n",
      "response = client.models.generate_images(\n",
      "    model='imagen-3.0-generate-002',\n",
      "    prompt='a portrait of a sheepadoodle wearing cape',\n",
      "    config=types.GenerateImagesConfig(\n",
      "        number_of_images=1,\n",
      "    )\n",
      ")\n",
      "for generated_image in response.generated_images:\n",
      "  image = Image.open(BytesIO(generated_image.image.image_bytes))\n",
      "  image.show()\n",
      "\n",
      "HOW WAS TODAY’S EMAIL?\n",
      "\n",
      "AWESOME    DECENT     NOT GREAT\n",
      "\n",
      "At Alpha Signal, our mission is to build a sharp, engaged community\n",
      "focused on AI, machine learning, and cutting-edge language models,\n",
      "helping over 200,000 developers stay informed and ahead. We’re\n",
      "passionate about curating the best in AI, from top research and\n",
      "trending technical blogs to expert insights and tailored job\n",
      "opportunities. We keep you connected to the breakthroughs and\n",
      "discussions that matter, so you can stay in the loop without endless\n",
      "searching. We also work closely with partners who value the future of\n",
      "AI, including employers and advertisers who want to reach an audience\n",
      "as passionate about AI as we are.\n",
      "\n",
      "Our partnerships are based on shared values of ethics, responsibility,\n",
      "and a commitment to building a better world through technology.Privacy\n",
      "is a priority at Alpha Signal. Our Privacy Policy clearly explains how\n",
      "we collect, store, and use your personal and non-personal information.\n",
      "By using our website, you accept these terms, which you can review on\n",
      "our website. This policy applies across all Alpha Signal pages,\n",
      "outlining your rights and how to contact us if you want to adjust the\n",
      "use of your information. We’re based in the United States. By using\n",
      "our site, you agree to be governed by U.S. laws.\n",
      "\n",
      "Looking to promote your company, product, service, or event to\n",
      "200,000+ AI developers? Let's work together.\n",
      "\n",
      "\t\tWORK WITH US [2] \n",
      "\n",
      "Stop receiving emails here [14]\n",
      "\n",
      "214 Barton Springs Rd, Austin, Texas, 78704, United States of America\n",
      "\n",
      " \n",
      "\n",
      "Links:\n",
      "------\n",
      "[1] https://link.alphasignal.ai/HWyWVm\n",
      "[2] https://link.alphasignal.ai/qBDJtP\n",
      "[3] https://link.alphasignal.ai/uIKFtp\n",
      "[4] https://araneoides.eomail1.com/web-version?ep=1&lc=0833873c-e381-11ef-a3f9-cbdf36f97402&p=686320f2-e586-11ef-8073-e1d644c8c090&pt=campaign&t=1738956006&s=500545ddc16f1bef398809bb750062650fa2e232d79ebc54d415c0bb5f955c45\n",
      "[5] https://link.alphasignal.ai/Z6dVYR\n",
      "[6] https://link.alphasignal.ai/Yrwvxf\n",
      "[7] https://link.alphasignal.ai/UF6bj7\n",
      "[8] https://link.alphasignal.ai/pE0RTm\n",
      "[9] https://link.alphasignal.ai/stKaZF\n",
      "[10] https://link.alphasignal.ai/qcV4LG\n",
      "[11] https://link.alphasignal.ai/5hUes6\n",
      "[12] https://link.alphasignal.ai/lKJLbL\n",
      "[13] https://link.alphasignal.ai/KDRgwL\n",
      "[14] https://araneoides.eomail1.com/unsubscribe?ep=1&l=9a4eb768-071d-11ef-b70b-19296a53e269&lc=0833873c-e381-11ef-a3f9-cbdf36f97402&p=686320f2-e586-11ef-8073-e1d644c8c090&pt=campaign&pv=4&spa=1738955841&t=1738956006&s=71a80f6481a811dc78ce58d6c2076abf8e33df42a7d6160853a52c1cf5863528\n"
     ]
    }
   ],
   "source": [
    "print(emails[0]['text'])"
   ]
  },
  {
   "cell_type": "code",
   "execution_count": 13,
   "id": "72da0416-f1d2-41a5-ac2e-2bf15d89aaf8",
   "metadata": {
    "execution": {
     "iopub.execute_input": "2025-02-08T05:24:38.849861Z",
     "iopub.status.busy": "2025-02-08T05:24:38.849294Z",
     "iopub.status.idle": "2025-02-08T05:24:38.859555Z",
     "shell.execute_reply": "2025-02-08T05:24:38.857627Z",
     "shell.execute_reply.started": "2025-02-08T05:24:38.849828Z"
    }
   },
   "outputs": [],
   "source": [
    "SECTIONS = [\n",
    "    \"TOP NEWS\",\n",
    "    \"TRENDING SIGNALS\",\n",
    "    \"TOP PAPERS\",\n",
    "    \"PYTHON TIP\",\n",
    "]\n",
    "txt = emails[0]['text']\n",
    "sections = []\n",
    "for sec in SECTIONS:\n",
    "    _tmp = txt.split(sec)\n",
    "    sections.append(_tmp[0])\n",
    "    txt = _tmp[1]"
   ]
  },
  {
   "cell_type": "code",
   "execution_count": 15,
   "id": "dd8cf410-2094-4a7e-8273-1580098ce960",
   "metadata": {
    "execution": {
     "iopub.execute_input": "2025-02-08T05:24:58.473927Z",
     "iopub.status.busy": "2025-02-08T05:24:58.473586Z",
     "iopub.status.idle": "2025-02-08T05:24:58.481545Z",
     "shell.execute_reply": "2025-02-08T05:24:58.480464Z",
     "shell.execute_reply.started": "2025-02-08T05:24:58.473886Z"
    },
    "scrolled": true
   },
   "outputs": [
    {
     "name": "stdout",
     "output_type": "stream",
     "text": [
      "\n",
      "\n",
      " \t*\n",
      "Mistral AI brings Le Chat to iOS, Android, and enterprise [5] with web\n",
      "search and automation tools.\n",
      "\n",
      "⚡️ \n",
      "\n",
      "\n",
      " \t*\n",
      "Andrew Ng presents Agentic Object Detection [6]: human-like object\n",
      "recognition via text-driven reasoning.\n",
      "\n",
      " \t*\n",
      "GitHub upgrades Copilot with agent mode [7], multi-file edits, and an\n",
      "upcoming autonomous coding agent.\n",
      "\n",
      " \t*\n",
      "Google releases Imagen 3 in Gemini API [8]: high quality, watermarked\n",
      "image generation with improved prompt adherence.\n",
      "\n",
      " \t*\n",
      "OpenAI refines CoT reasoning in O3-Mini [9] models, expanding\n",
      "visibility.\n",
      "\n",
      " \t*\n",
      "Pika Labs launches Pikadditions [10]: add any object or person to any\n",
      "video with ease.\n",
      "\n",
      "💻\n",
      "\n",
      "\n",
      " \t*\n",
      "Google AI's AlphaGeometry2 surpasses gold medalists [11] in Olympiad\n",
      "geometry, improving problem coverage and solving rates.\n",
      "\n",
      " \t*\n",
      "s1-32B improves test-time scaling [12] with budget forcing, boosting\n",
      "math reasoning and competition scores.\n",
      "\n",
      " \t*\n",
      "Multi-agent system reduces AI hallucinations [13]using structured\n",
      "reviews, NLP-based coordination, and new KPIs.\n",
      "\n",
      "🧠 \n"
     ]
    }
   ],
   "source": [
    "for pp in sections[1:]:\n",
    "    print(pp)"
   ]
  },
  {
   "cell_type": "code",
   "execution_count": 27,
   "id": "14bbdb91-f685-47b7-9d2b-2ff5b4206ba3",
   "metadata": {
    "execution": {
     "iopub.execute_input": "2025-02-08T05:29:52.307118Z",
     "iopub.status.busy": "2025-02-08T05:29:52.306771Z",
     "iopub.status.idle": "2025-02-08T05:29:52.314624Z",
     "shell.execute_reply": "2025-02-08T05:29:52.313549Z",
     "shell.execute_reply.started": "2025-02-08T05:29:52.307092Z"
    }
   },
   "outputs": [
    {
     "data": {
      "text/plain": [
       "['',\n",
       " 'Mistral AI brings Le Chat to iOS, Android, and enterprise [5] with web\\r\\nsearch and automation tools.\\r\\n\\r\\n⚡️ ']"
      ]
     },
     "execution_count": 27,
     "metadata": {},
     "output_type": "execute_result"
    }
   ],
   "source": [
    "sections[1].split('\\r\\n\\r\\n \\t*\\r\\n')"
   ]
  },
  {
   "cell_type": "code",
   "execution_count": 26,
   "id": "e43223ca-dc65-4d8c-8bb5-4f1d312f3749",
   "metadata": {
    "execution": {
     "iopub.execute_input": "2025-02-08T05:28:46.762926Z",
     "iopub.status.busy": "2025-02-08T05:28:46.761292Z",
     "iopub.status.idle": "2025-02-08T05:28:46.770341Z",
     "shell.execute_reply": "2025-02-08T05:28:46.768808Z",
     "shell.execute_reply.started": "2025-02-08T05:28:46.762893Z"
    }
   },
   "outputs": [
    {
     "data": {
      "text/plain": [
       "['',\n",
       " 'Andrew Ng presents Agentic Object Detection [6]: human-like object\\r\\nrecognition via text-driven reasoning.',\n",
       " 'GitHub upgrades Copilot with agent mode [7], multi-file edits, and an\\r\\nupcoming autonomous coding agent.',\n",
       " 'Google releases Imagen 3 in Gemini API [8]: high quality, watermarked\\r\\nimage generation with improved prompt adherence.',\n",
       " 'OpenAI refines CoT reasoning in O3-Mini [9] models, expanding\\r\\nvisibility.',\n",
       " 'Pika Labs launches Pikadditions [10]: add any object or person to any\\r\\nvideo with ease.\\r\\n\\r\\n💻']"
      ]
     },
     "execution_count": 26,
     "metadata": {},
     "output_type": "execute_result"
    }
   ],
   "source": [
    "sections[2].split('\\r\\n\\r\\n \\t*\\r\\n')"
   ]
  },
  {
   "cell_type": "code",
   "execution_count": 28,
   "id": "819f2391-670a-4528-a600-f4513e2ad4df",
   "metadata": {
    "execution": {
     "iopub.execute_input": "2025-02-08T05:30:02.582197Z",
     "iopub.status.busy": "2025-02-08T05:30:02.581935Z",
     "iopub.status.idle": "2025-02-08T05:30:02.591288Z",
     "shell.execute_reply": "2025-02-08T05:30:02.589495Z",
     "shell.execute_reply.started": "2025-02-08T05:30:02.582174Z"
    }
   },
   "outputs": [
    {
     "data": {
      "text/plain": [
       "['',\n",
       " \"Google AI's AlphaGeometry2 surpasses gold medalists [11] in Olympiad\\r\\ngeometry, improving problem coverage and solving rates.\",\n",
       " 's1-32B improves test-time scaling [12] with budget forcing, boosting\\r\\nmath reasoning and competition scores.',\n",
       " 'Multi-agent system reduces AI hallucinations [13]using structured\\r\\nreviews, NLP-based coordination, and new KPIs.\\r\\n\\r\\n🧠 ']"
      ]
     },
     "execution_count": 28,
     "metadata": {},
     "output_type": "execute_result"
    }
   ],
   "source": [
    "sections[3].split('\\r\\n\\r\\n \\t*\\r\\n')"
   ]
  },
  {
   "cell_type": "code",
   "execution_count": 61,
   "id": "58636e65-1cc0-4551-a18a-4b6673a3010c",
   "metadata": {
    "execution": {
     "iopub.execute_input": "2025-02-08T05:58:37.766024Z",
     "iopub.status.busy": "2025-02-08T05:58:37.765631Z",
     "iopub.status.idle": "2025-02-08T05:58:37.775191Z",
     "shell.execute_reply": "2025-02-08T05:58:37.774168Z",
     "shell.execute_reply.started": "2025-02-08T05:58:37.765997Z"
    }
   },
   "outputs": [
    {
     "data": {
      "text/plain": [
       "\"Google AI's AlphaGeometry2 surpasses gold medalists [11] in Olympiad geometry, improving problem coverage and solving rates.\""
      ]
     },
     "execution_count": 61,
     "metadata": {},
     "output_type": "execute_result"
    }
   ],
   "source": [
    "txt = sections[3].split('\\r\\n\\r\\n \\t*\\r\\n')[1]\n",
    "txt.replace('\\r\\n', ' ')"
   ]
  },
  {
   "cell_type": "code",
   "execution_count": 62,
   "id": "a4ee7976-a0e2-488e-9d74-dfd18aded5c3",
   "metadata": {
    "execution": {
     "iopub.execute_input": "2025-02-08T05:58:41.854084Z",
     "iopub.status.busy": "2025-02-08T05:58:41.853754Z",
     "iopub.status.idle": "2025-02-08T05:58:41.861024Z",
     "shell.execute_reply": "2025-02-08T05:58:41.859665Z",
     "shell.execute_reply.started": "2025-02-08T05:58:41.854061Z"
    }
   },
   "outputs": [],
   "source": [
    "import emoji\n",
    "text = emoji.replace_emoji(txt, replace=\"\").replace('\\r\\n', ' ').strip()"
   ]
  },
  {
   "cell_type": "code",
   "execution_count": 63,
   "id": "e47912ee-db94-4da9-9bc3-bd5e23b0ee82",
   "metadata": {
    "execution": {
     "iopub.execute_input": "2025-02-08T05:58:42.412517Z",
     "iopub.status.busy": "2025-02-08T05:58:42.411398Z",
     "iopub.status.idle": "2025-02-08T05:58:42.419807Z",
     "shell.execute_reply": "2025-02-08T05:58:42.418559Z",
     "shell.execute_reply.started": "2025-02-08T05:58:42.412486Z"
    }
   },
   "outputs": [
    {
     "data": {
      "text/plain": [
       "\"Google AI's AlphaGeometry2 surpasses gold medalists\""
      ]
     },
     "execution_count": 63,
     "metadata": {},
     "output_type": "execute_result"
    }
   ],
   "source": [
    "text.split('[')[0].strip()"
   ]
  },
  {
   "cell_type": "code",
   "execution_count": 64,
   "id": "f023191a-33dc-4ba3-952f-9dcd3959080a",
   "metadata": {
    "execution": {
     "iopub.execute_input": "2025-02-08T05:58:47.220781Z",
     "iopub.status.busy": "2025-02-08T05:58:47.220455Z",
     "iopub.status.idle": "2025-02-08T05:58:47.229510Z",
     "shell.execute_reply": "2025-02-08T05:58:47.228378Z",
     "shell.execute_reply.started": "2025-02-08T05:58:47.220759Z"
    }
   },
   "outputs": [
    {
     "data": {
      "text/plain": [
       "'11'"
      ]
     },
     "execution_count": 64,
     "metadata": {},
     "output_type": "execute_result"
    }
   ],
   "source": [
    "text.split('[')[1].split(']')[0]"
   ]
  },
  {
   "cell_type": "code",
   "execution_count": 68,
   "id": "51e9eb41-9d97-4ac5-ba63-1796e6bc3b42",
   "metadata": {
    "execution": {
     "iopub.execute_input": "2025-02-08T06:01:21.624813Z",
     "iopub.status.busy": "2025-02-08T06:01:21.624334Z",
     "iopub.status.idle": "2025-02-08T06:01:21.635194Z",
     "shell.execute_reply": "2025-02-08T06:01:21.633967Z",
     "shell.execute_reply.started": "2025-02-08T06:01:21.624778Z"
    }
   },
   "outputs": [
    {
     "data": {
      "text/plain": [
       "\"Google AI's AlphaGeometry2 surpasses gold medalists  in Olympiad geometry, improving problem coverage and solving rates.\""
      ]
     },
     "execution_count": 68,
     "metadata": {},
     "output_type": "execute_result"
    }
   ],
   "source": [
    "import re\n",
    "re.sub(r\"\\[(\\d+)\\]\", \"\", text.split(\":\")[-1].strip())"
   ]
  },
  {
   "cell_type": "code",
   "execution_count": 7,
   "id": "b86188da-122e-4e54-b7f8-b49444919dc3",
   "metadata": {
    "execution": {
     "iopub.execute_input": "2025-02-08T16:43:22.483703Z",
     "iopub.status.busy": "2025-02-08T16:43:22.483298Z",
     "iopub.status.idle": "2025-02-08T16:43:22.492804Z",
     "shell.execute_reply": "2025-02-08T16:43:22.490895Z",
     "shell.execute_reply.started": "2025-02-08T16:43:22.483671Z"
    },
    "scrolled": true
   },
   "outputs": [
    {
     "data": {
      "text/plain": [
       "['[1] https://link.alphasignal.ai/HWyWVm',\n",
       " '[2] https://link.alphasignal.ai/qBDJtP',\n",
       " '[3] https://link.alphasignal.ai/uIKFtp',\n",
       " '[4] https://araneoides.eomail1.com/web-version?ep=1&lc=0833873c-e381-11ef-a3f9-cbdf36f97402&p=686320f2-e586-11ef-8073-e1d644c8c090&pt=campaign&t=1738956006&s=500545ddc16f1bef398809bb750062650fa2e232d79ebc54d415c0bb5f955c45',\n",
       " '[5] https://link.alphasignal.ai/Z6dVYR',\n",
       " '[6] https://link.alphasignal.ai/Yrwvxf',\n",
       " '[7] https://link.alphasignal.ai/UF6bj7',\n",
       " '[8] https://link.alphasignal.ai/pE0RTm',\n",
       " '[9] https://link.alphasignal.ai/stKaZF',\n",
       " '[10] https://link.alphasignal.ai/qcV4LG',\n",
       " '[11] https://link.alphasignal.ai/5hUes6',\n",
       " '[12] https://link.alphasignal.ai/lKJLbL',\n",
       " '[13] https://link.alphasignal.ai/KDRgwL',\n",
       " '[14] https://araneoides.eomail1.com/unsubscribe?ep=1&l=9a4eb768-071d-11ef-b70b-19296a53e269&lc=0833873c-e381-11ef-a3f9-cbdf36f97402&p=686320f2-e586-11ef-8073-e1d644c8c090&pt=campaign&pv=4&spa=1738955841&t=1738956006&s=71a80f6481a811dc78ce58d6c2076abf8e33df42a7d6160853a52c1cf5863528']"
      ]
     },
     "execution_count": 7,
     "metadata": {},
     "output_type": "execute_result"
    }
   ],
   "source": [
    "(emails[0]['text'].split(\"Links:\\r\\n------\\r\\n\")[-1]).split('\\r\\n')"
   ]
  },
  {
   "cell_type": "code",
   "execution_count": null,
   "id": "c7d5f887-6faa-4f38-bd85-6f0236e509c8",
   "metadata": {},
   "outputs": [],
   "source": []
  },
  {
   "cell_type": "markdown",
   "id": "6b627033-16dd-4f5e-b91a-9175fe4ba95b",
   "metadata": {
    "jp-MarkdownHeadingCollapsed": true
   },
   "source": [
    "# TLDR"
   ]
  },
  {
   "cell_type": "code",
   "execution_count": 4,
   "id": "4dd4c716-ed21-4261-9701-b5149468e47b",
   "metadata": {
    "execution": {
     "iopub.execute_input": "2024-12-18T03:57:21.654149Z",
     "iopub.status.busy": "2024-12-18T03:57:21.653821Z",
     "iopub.status.idle": "2024-12-18T03:57:23.507015Z",
     "shell.execute_reply": "2024-12-18T03:57:23.505769Z",
     "shell.execute_reply.started": "2024-12-18T03:57:21.654111Z"
    }
   },
   "outputs": [
    {
     "data": {
      "text/plain": [
       "5"
      ]
     },
     "execution_count": 4,
     "metadata": {},
     "output_type": "execute_result"
    }
   ],
   "source": [
    "emails = gmail.fetch_emails(sender='TLDR AI <dan@tldrnewsletter.com>', after='2024-12-01', before='2024-12-07')\n",
    "len(emails)"
   ]
  },
  {
   "cell_type": "code",
   "execution_count": 5,
   "id": "2bb76247-7448-4993-8188-ae5bf9c96c0b",
   "metadata": {
    "execution": {
     "iopub.execute_input": "2024-12-18T03:57:23.509191Z",
     "iopub.status.busy": "2024-12-18T03:57:23.508722Z",
     "iopub.status.idle": "2024-12-18T03:57:23.516883Z",
     "shell.execute_reply": "2024-12-18T03:57:23.515611Z",
     "shell.execute_reply.started": "2024-12-18T03:57:23.509162Z"
    },
    "scrolled": true
   },
   "outputs": [
    {
     "name": "stdout",
     "output_type": "stream",
     "text": [
      "{'sender': 'TLDR AI <dan@tldrnewsletter.com>', 'subject': \"OpenAI o1 System Card 📇, Perplexity Publisher Program 🔍, DeepMind's Genie 2 🧞\", 'date_utc': 'Fri, 6 Dec 2024 14:16:24 +0000', 'id': '1939c5434a9f7fd8', 'text': \"This report outlines the safety work carried out prior to releasing\\r\\nOpenAI o1 and o1-mini, including external red teaming and frontier\\r\\nrisk\\r\\nevaluation\\xa0\\u200c\\xa0\\u200c\\xa0\\u200c\\xa0\\u200c\\xa0\\u200c\\xa0\\u200c\\xa0\\u200c\\xa0\\u200c\\xa0\\u200c\\xa0\\u200c\\xa0\\u200c\\xa0\\u200c\\xa0\\u200c\\xa0\\u200c\\xa0\\u200c\\xa0\\u200c\\xa0\\u200c\\xa0\\u200c\\xa0\\u200c\\xa0\\u200c\\xa0\\u200c\\xa0\\u200c\\xa0\\u200c\\xa0\\u200c\\xa0\\u200c\\xa0\\u200c\\xa0\\xa0\\u200c\\xa0\\u200c\\xa0\\u200c\\xa0\\u200c\\xa0\\u200c\\xa0\\u200c\\xa0\\u200c\\xa0\\u200c\\xa0\\u200c\\xa0\\u200c\\xa0\\u200c\\xa0\\u200c\\xa0\\u200c\\xa0\\u200c\\xa0\\u200c\\xa0\\u200c\\xa0\\u200c\\xa0\\u200c\\xa0\\u200c\\xa0\\u200c\\xa0\\u200c\\xa0\\u200c\\xa0\\u200c\\xa0\\u200c\\xa0\\u200c\\xa0\\u200c\\xa0\\r\\n\\r\\n\\r\\n Sign Up [1] |Advertise [2]|View Online [3] \\r\\n\\r\\n\\t\\tTLDR \\r\\n\\r\\n\\t\\tTOGETHER WITH [Writer] [4]\\r\\n\\r\\nTLDR AI 2024-12-06\\r\\n\\r\\n THE FASTEST WAY TO BUILD AI APPS (SPONSOR) [4] \\r\\n\\r\\n Writer is excited to introduce Writer AI Studio [4], the fastest way\\r\\nto build AI apps, products, and features. Writer's unique full-stack\\r\\ndesign makes it easy to prototype, deploy, and test AI apps [4] –\\r\\nallowing developers to build with APIs, a drag-and-drop open-source\\r\\nPython framework, or a no-code builder, so you have flexibility to\\r\\nbuild the way you want.\\r\\n\\r\\nWriter comes with a suite of top-ranking LLMs and has built-in RAG for\\r\\neasy integration with your data. Check it out if you're looking to\\r\\nstreamline how you build and integrate AI apps.\\r\\n\\r\\nStart building with Writer AI STUDIO. [4]\\r\\n\\r\\n🚀 \\r\\n\\r\\nHEADLINES & LAUNCHES\\r\\n\\r\\n OPENAI O1 SYSTEM CARD (3 MINUTE READ) [5] \\r\\n\\r\\n This report outlines the safety work carried out prior to releasing\\r\\nOpenAI o1 and o1-mini, including external red teaming and frontier\\r\\nrisk evaluations according to OpenAI's Preparedness Framework. \\r\\n\\r\\n PERPLEXITY EXPANDING IT'S PUBLISHER'S PROGRAM (4 MINUTE READ) [6] \\r\\n\\r\\n Perplexity has added over a dozen international news organizations to\\r\\nits Publishers' Program, offering tools, revenue sharing, and support\\r\\nto strengthen collaboration with global media. \\r\\n\\r\\n DEEPMIND'S GENIE 2 CAN GENERATE INTERACTIVE WORLDS THAT LOOK LIKE\\r\\nVIDEO GAMES (4 MINUTE READ) [7] \\r\\n\\r\\n DeepMind's Genie 2 is an advanced AI model that generates diverse,\\r\\ninteractive 3D worlds from images and text descriptions. The model is\\r\\nparticularly adept at simulating complex elements like physics and NPC\\r\\nbehavior, setting it apart from similar models by maintaining scene\\r\\nconsistency. Positioned as a research tool, Genie 2 is designed for\\r\\nprototyping interactive experiences and evaluating AI agents. \\r\\n\\r\\n🧠 \\r\\n\\r\\nRESEARCH & INNOVATION\\r\\n\\r\\n PALIGEMMA 2 (23 MINUTE READ) [8] \\r\\n\\r\\n Paligemma 2 is one of the best VLMs on the market today. It uses\\r\\nSigLIP and Gemma. \\r\\n\\r\\n LAND COVER MAPPING WITH ASANET (29 MINUTE READ) [9] \\r\\n\\r\\n The Asymmetric Semantic Aligning Network (ASANet) improves land cover\\r\\nclassification using both SAR and RGB images. \\r\\n\\r\\n FASTER MULTI-MODAL MODELS WITH TOKEN MERGING (14 MINUTE READ) [10] \\r\\n\\r\\n Researchers have developed a training-free method to make multi-modal\\r\\nlanguage models (LLMs) more efficient without sacrificing much\\r\\nperformance. Their approach reduces computational demands by up to 7\\r\\ntimes by smartly merging and pruning visual data tokens. \\r\\n\\r\\n🧑\\u200d💻 \\r\\n\\r\\nENGINEERING & RESOURCES\\r\\n\\r\\n RETHINKING CHANGE MANAGEMENT IN THE AGE OF AI (SPONSOR) [11] \\r\\n\\r\\n With the rise of AI and evolving customer expectations, businesses\\r\\nhave to move beyond temporary fixes and adopt a culture of continuous\\r\\ntransformation. Get the guide by Camunda [11] to find out how to align\\r\\nstakeholders, leverage technology and data, and embed a mindset of\\r\\ncontinuous change. Read the guide [11] \\r\\n\\r\\n GRAPHCAST (GITHUB REPO) [12] \\r\\n\\r\\n DeepMind has open sourced its GraphCast algorithm, which is\\r\\nsubstantially better and faster at localized weather prediction at 36\\r\\nhours. It also runs in a fraction of the time. \\r\\n\\r\\n CREATING OPTICAL ILLUSIONS (GITHUB REPO) [13] \\r\\n\\r\\n This project advances visual anagram generation - images that change\\r\\nappearance when flipped or rotated - by refining how diffusion models\\r\\nhandle multiple viewpoints. \\r\\n\\r\\n 3D SCENE COMPLETION FOR AUTONOMOUS VEHICLES (GITHUB REPO) [14] \\r\\n\\r\\n ScoreLiDAR is a new method that speeds up 3D LiDAR scene completion\\r\\nfor autonomous vehicles. \\r\\n\\r\\n🎁 \\r\\n\\r\\nMISCELLANEOUS\\r\\n\\r\\n NEW FISH AUDIO MODEL (3 MINUTE READ) [15] \\r\\n\\r\\n The newest Fish Audio 1.5 is currently #2 on Text To Speech\\r\\nLeaderboards behind ElevenLabs. It supports voice cloning and is fast\\r\\nto run, although the output quality seems hit or miss. \\r\\n\\r\\n OPENAI PARTNERS WITH ANDURIL (5 MINUTE READ) [16] \\r\\n\\r\\n OpenAI and defense company Anduril have partnered to create a\\r\\nnational security-based AI. \\r\\n\\r\\n KEY LEADERS BEHIND GOOGLE'S VIRAL NOTEBOOKLM ARE LEAVING TO CREATE\\r\\nTHEIR OWN STARTUP (2 MINUTE READ) [17] \\r\\n\\r\\n Three key Google NotebookLM members have left to start a new stealth\\r\\nAI venture. The startup aims to leverage the latest AI models to\\r\\ncreate consumer-facing, user-first AI products. It remains in its\\r\\nearly stages without a clear focus or announced funding. \\r\\n\\r\\n⚡ \\r\\n\\r\\nQUICK LINKS\\r\\n\\r\\n HOW CITI, RIPJAR, AND CLOUDFACTORY ARE USING AI IRL (SPONSOR) [18] \\r\\n\\r\\n AI in the real world isn't just ChatGPT. It's building robust systems\\r\\nwith firm guardrails and solving practical challenges around\\r\\ninference, data, and models. Watch the recorded presentation from\\r\\nAI_IRL London. [18] \\r\\n\\r\\n DEEPTHOUGHT 8B REASONING MODEL (HUGGING FACE HUB) [19] \\r\\n\\r\\n Ruliad has released a small reasoning model that takes extra time to\\r\\nthink through problems. \\r\\n\\r\\n GUI AGENTS (2 MINUTE READ) [20] \\r\\n\\r\\n A collection of research papers and projects on large language\\r\\nmodel-brained GUI agents. \\r\\n\\r\\n SAM ALTMAN SAYS ARTIFICIAL GENERAL INTELLIGENCE IS ON THE HORIZON (1\\r\\nMINUTE READ) [21] \\r\\n\\r\\n Sam Altman, CEO of OpenAI, stated at the DealBook Summit that\\r\\nArtificial General Intelligence might impact everyday life less\\r\\nsignificantly than expected. \\r\\n\\r\\nWant to advertise in TLDR? 📰\\r\\n\\r\\n If your company is interested in reaching an audience of AI\\r\\nprofessionals and decision makers, you may want to ADVERTISE WITH US\\r\\n[22]. \\r\\n\\r\\n If you have any comments or feedback, just respond to this email! \\r\\n\\r\\nThanks for reading, \\r\\nAndrew Tan & Andrew Carr \\r\\n\\r\\nIf you don't want to receive future editions of TLDR AI, please\\r\\nunsubscribe from TLDR AI [23] or manage all of your TLDR newsletter\\r\\nsubscriptions [24]. \\r\\n\\r\\n \\r\\n\\r\\nLinks:\\r\\n------\\r\\n[1] https://tldr.tech/ai?utm_source=tldrai\\r\\n[2] https://advertise.tldr.tech/?utm_source=tldrai&utm_medium=newsletter&utm_campaign=advertisetopnav\\r\\n[3] https://a.tldrnewsletter.com/web-version?ep=1&lc=57aff87c-ae02-11ef-9074-4b7e3c69f0c6&p=68d03084-b3c7-11ef-928d-09d27092d252&pt=campaign&t=1733494584&s=a94ebb372672f7844f8d11fcad3029c68791b13faf831d296ca3c8f639256320\\r\\n[4] https://writer.com/product/ai-studio/?utm_source=tldr&utm_medium=newsletter&utm_campaign=ai_studio\\r\\n[5] https://links.tldrnewsletter.com/xS4pwo\\r\\n[6] https://links.tldrnewsletter.com/UUkpwY\\r\\n[7] https://techcrunch.com/2024/12/04/deepminds-genie-2-can-generate-interactive-worlds-that-look-like-video-games/?utm_source=tldrai\\r\\n[8] https://arxiv.org/abs/2412.03555?utm_source=tldrai\\r\\n[9] https://arxiv.org/abs/2412.02044v1?utm_source=tldrai\\r\\n[10] https://arxiv.org/abs/2412.03248v1?utm_source=tldrai\\r\\n[11] https://page.camunda.com/wp-rethinking-change-management?utm_medium=paid_leadgen&utm_source=tldr&utm_campaign=Guide.RethinkingChangeManagement.24Q4.EN&utm_content=Q4program\\r\\n[12] https://github.com/google-deepmind/graphcast?utm_source=tldrai\\r\\n[13] https://github.com/pixtella/anagram-mtl?utm_source=tldrai\\r\\n[14] https://github.com/happyw1nd/scorelidar?utm_source=tldrai\\r\\n[15] https://threadreaderapp.com/thread/1864370933496205728.html?utm_source=tldrai\\r\\n[16] https://www.cnbc.com/2024/12/04/openai-partners-with-defense-company-anduril.html?utm_source=tldrai\\r\\n[17] https://techcrunch.com/2024/12/04/key-leaders-behind-googles-viral-notebooklm-are-leaving-to-create-their-own-startup/?utm_source=tldrai\\r\\n[18] https://www.cloudfactory.com/webinar/ai-irl?utm_campaign=Core_AP_EG&utm_source=tldr&utm_medium=mediapartner&utm_content=email_quicklinks\\r\\n[19] https://huggingface.co/ruliad/deepthought-8b-llama-v0.01-alpha?utm_source=tldrai\\r\\n[20] https://vyokky.github.io/LLM-Brained-GUI-Agents-Survey/?utm_source=tldrai\\r\\n[21] https://www.nytimes.com/video/business/100000009858580/sam-altman-openai-dealbook.html?utm_source=tldrai\\r\\n[22] https://advertise.tldr.tech/?utm_source=tldrai&utm_medium=newsletter&utm_campaign=advertisecta\\r\\n[23] https://a.tldrnewsletter.com/unsubscribe?ep=1&l=eedf6b14-3de3-11ed-9a32-0241b9615763&lc=57aff87c-ae02-11ef-9074-4b7e3c69f0c6&p=68d03084-b3c7-11ef-928d-09d27092d252&pt=campaign&pv=4&spa=1733493669&t=1733494584&s=ea38715a39323501a5e9b28f17e7c39f0df3e5d14a1e4155a2a433bd6fecc396\\r\\n[24] https://tldr.tech/ai/manage?email=automatic.newsletters%40gmail.com\"}\n"
     ]
    }
   ],
   "source": [
    "print(emails[0])"
   ]
  },
  {
   "cell_type": "code",
   "execution_count": 6,
   "id": "307c5c9b-b998-49d7-9d07-e626f16174c6",
   "metadata": {
    "execution": {
     "iopub.execute_input": "2024-12-18T03:57:23.518900Z",
     "iopub.status.busy": "2024-12-18T03:57:23.518363Z",
     "iopub.status.idle": "2024-12-18T03:57:26.538013Z",
     "shell.execute_reply": "2024-12-18T03:57:26.537032Z",
     "shell.execute_reply.started": "2024-12-18T03:57:23.518837Z"
    }
   },
   "outputs": [],
   "source": [
    "news_sources = tldr_parser(emails[0])"
   ]
  },
  {
   "cell_type": "code",
   "execution_count": 7,
   "id": "71e839c4-5710-4f8b-86f0-910533d57a28",
   "metadata": {
    "execution": {
     "iopub.execute_input": "2024-12-18T03:57:26.543033Z",
     "iopub.status.busy": "2024-12-18T03:57:26.542764Z",
     "iopub.status.idle": "2024-12-18T03:57:26.553985Z",
     "shell.execute_reply": "2024-12-18T03:57:26.552249Z",
     "shell.execute_reply.started": "2024-12-18T03:57:26.543011Z"
    },
    "scrolled": true
   },
   "outputs": [
    {
     "data": {
      "text/plain": [
       "[{'title': 'OPENAI O1 SYSTEM CARD',\n",
       "  'url': 'https://openai.com/index/openai-o1-system-card/',\n",
       "  'source_of_the_news': 'TLDR AI <dan@tldrnewsletter.com>',\n",
       "  'news_summary': \"This report outlines the safety work carried out prior to releasing OpenAI o1 and o1-mini, including external red teaming and frontier risk evaluations according to OpenAI's Preparedness Framework.\",\n",
       "  'date_source': 'Fri, 6 Dec 2024 14:16:24 +0000',\n",
       "  'new_provider': 'openai.com'},\n",
       " {'title': \"PERPLEXITY EXPANDING IT'S PUBLISHER'S PROGRAM\",\n",
       "  'url': 'https://www.perplexity.ai/hub/blog/perplexity-expands-publisher-program-with-15-new-media-partners',\n",
       "  'source_of_the_news': 'TLDR AI <dan@tldrnewsletter.com>',\n",
       "  'news_summary': \"Perplexity has added over a dozen international news organizations to its Publishers' Program, offering tools, revenue sharing, and support to strengthen collaboration with global media.\",\n",
       "  'date_source': 'Fri, 6 Dec 2024 14:16:24 +0000',\n",
       "  'new_provider': 'www.perplexity.ai'},\n",
       " {'title': \"DEEPMIND'S GENIE 2 CAN GENERATE INTERACTIVE WORLDS THAT LOOK LIKE\\r\\nVIDEO GAMES\",\n",
       "  'url': 'https://techcrunch.com/2024/12/04/deepminds-genie-2-can-generate-interactive-worlds-that-look-like-video-games/',\n",
       "  'source_of_the_news': 'TLDR AI <dan@tldrnewsletter.com>',\n",
       "  'news_summary': \"DeepMind's Genie 2 is an advanced AI model that generates diverse, interactive 3D worlds from images and text descriptions. The model is particularly adept at simulating complex elements like physics and NPC behavior, setting it apart from similar models by maintaining scene consistency. Positioned as a research tool, Genie 2 is designed for prototyping interactive experiences and evaluating AI agents.\",\n",
       "  'date_source': 'Fri, 6 Dec 2024 14:16:24 +0000',\n",
       "  'new_provider': 'techcrunch.com'},\n",
       " {'title': 'PALIGEMMA 2',\n",
       "  'url': 'https://arxiv.org/abs/2412.03555',\n",
       "  'source_of_the_news': 'TLDR AI <dan@tldrnewsletter.com>',\n",
       "  'news_summary': 'Paligemma 2 is one of the best VLMs on the market today. It uses SigLIP and Gemma.',\n",
       "  'date_source': 'Fri, 6 Dec 2024 14:16:24 +0000',\n",
       "  'new_provider': 'arxiv.org'},\n",
       " {'title': 'LAND COVER MAPPING WITH ASANET',\n",
       "  'url': 'https://arxiv.org/abs/2412.02044v1',\n",
       "  'source_of_the_news': 'TLDR AI <dan@tldrnewsletter.com>',\n",
       "  'news_summary': 'The Asymmetric Semantic Aligning Network (ASANet) improves land cover classification using both SAR and RGB images.',\n",
       "  'date_source': 'Fri, 6 Dec 2024 14:16:24 +0000',\n",
       "  'new_provider': 'arxiv.org'},\n",
       " {'title': 'FASTER MULTI-MODAL MODELS WITH TOKEN MERGING',\n",
       "  'url': 'https://arxiv.org/abs/2412.03248v1',\n",
       "  'source_of_the_news': 'TLDR AI <dan@tldrnewsletter.com>',\n",
       "  'news_summary': 'Researchers have developed a training-free method to make multi-modal language models (LLMs) more efficient without sacrificing much performance. Their approach reduces computational demands by up to 7 times by smartly merging and pruning visual data tokens.',\n",
       "  'date_source': 'Fri, 6 Dec 2024 14:16:24 +0000',\n",
       "  'new_provider': 'arxiv.org'},\n",
       " {'title': 'NEW FISH AUDIO MODEL',\n",
       "  'url': 'https://threadreaderapp.com/thread/1864370933496205728.html',\n",
       "  'source_of_the_news': 'TLDR AI <dan@tldrnewsletter.com>',\n",
       "  'news_summary': 'The newest Fish Audio 1.5 is currently #2 on Text To Speech Leaderboards behind ElevenLabs. It supports voice cloning and is fast to run, although the output quality seems hit or miss.',\n",
       "  'date_source': 'Fri, 6 Dec 2024 14:16:24 +0000',\n",
       "  'new_provider': 'threadreaderapp.com'},\n",
       " {'title': 'OPENAI PARTNERS WITH ANDURIL',\n",
       "  'url': 'https://www.cnbc.com/2024/12/04/openai-partners-with-defense-company-anduril.html',\n",
       "  'source_of_the_news': 'TLDR AI <dan@tldrnewsletter.com>',\n",
       "  'news_summary': 'OpenAI and defense company Anduril have partnered to create a national security-based AI.',\n",
       "  'date_source': 'Fri, 6 Dec 2024 14:16:24 +0000',\n",
       "  'new_provider': 'www.cnbc.com'},\n",
       " {'title': \"KEY LEADERS BEHIND GOOGLE'S VIRAL NOTEBOOKLM ARE LEAVING TO CREATE\\r\\nTHEIR OWN STARTUP\",\n",
       "  'url': 'https://techcrunch.com/2024/12/04/key-leaders-behind-googles-viral-notebooklm-are-leaving-to-create-their-own-startup/',\n",
       "  'source_of_the_news': 'TLDR AI <dan@tldrnewsletter.com>',\n",
       "  'news_summary': 'Three key Google NotebookLM members have left to start a new stealth AI venture. The startup aims to leverage the latest AI models to create consumer-facing, user-first AI products. It remains in its early stages without a clear focus or announced funding.',\n",
       "  'date_source': 'Fri, 6 Dec 2024 14:16:24 +0000',\n",
       "  'new_provider': 'techcrunch.com'},\n",
       " {'title': 'GUI AGENTS',\n",
       "  'url': 'https://vyokky.github.io/LLM-Brained-GUI-Agents-Survey/',\n",
       "  'source_of_the_news': 'TLDR AI <dan@tldrnewsletter.com>',\n",
       "  'news_summary': 'A collection of research papers and projects on large language model-brained GUI agents.',\n",
       "  'date_source': 'Fri, 6 Dec 2024 14:16:24 +0000',\n",
       "  'new_provider': 'vyokky.github.io'},\n",
       " {'title': 'SAM ALTMAN SAYS ARTIFICIAL GENERAL INTELLIGENCE IS ON THE HORIZON',\n",
       "  'url': 'https://www.nytimes.com/video/business/100000009858580/sam-altman-openai-dealbook.html',\n",
       "  'source_of_the_news': 'TLDR AI <dan@tldrnewsletter.com>',\n",
       "  'news_summary': 'Sam Altman, CEO of OpenAI, stated at the DealBook Summit that Artificial General Intelligence might impact everyday life less significantly than expected.',\n",
       "  'date_source': 'Fri, 6 Dec 2024 14:16:24 +0000',\n",
       "  'new_provider': 'www.nytimes.com'}]"
      ]
     },
     "execution_count": 7,
     "metadata": {},
     "output_type": "execute_result"
    }
   ],
   "source": [
    "news_sources"
   ]
  },
  {
   "cell_type": "code",
   "execution_count": 8,
   "id": "5d525e49-4da2-45e1-9464-9534da083d2c",
   "metadata": {
    "execution": {
     "iopub.execute_input": "2024-12-18T03:57:26.556760Z",
     "iopub.status.busy": "2024-12-18T03:57:26.556125Z",
     "iopub.status.idle": "2024-12-18T03:57:26.569026Z",
     "shell.execute_reply": "2024-12-18T03:57:26.567518Z",
     "shell.execute_reply.started": "2024-12-18T03:57:26.556731Z"
    },
    "scrolled": true
   },
   "outputs": [
    {
     "data": {
      "text/plain": [
       "['Links:',\n",
       " '------',\n",
       " '[1] https://tldr.tech/ai?utm_source=tldrai',\n",
       " '[2] https://advertise.tldr.tech/?utm_source=tldrai&utm_medium=newsletter&utm_campaign=advertisetopnav',\n",
       " '[3] https://a.tldrnewsletter.com/web-version?ep=1&lc=57aff87c-ae02-11ef-9074-4b7e3c69f0c6&p=68d03084-b3c7-11ef-928d-09d27092d252&pt=campaign&t=1733494584&s=a94ebb372672f7844f8d11fcad3029c68791b13faf831d296ca3c8f639256320',\n",
       " '[4] https://writer.com/product/ai-studio/?utm_source=tldr&utm_medium=newsletter&utm_campaign=ai_studio',\n",
       " '[5] https://links.tldrnewsletter.com/xS4pwo',\n",
       " '[6] https://links.tldrnewsletter.com/UUkpwY',\n",
       " '[7] https://techcrunch.com/2024/12/04/deepminds-genie-2-can-generate-interactive-worlds-that-look-like-video-games/?utm_source=tldrai',\n",
       " '[8] https://arxiv.org/abs/2412.03555?utm_source=tldrai',\n",
       " '[9] https://arxiv.org/abs/2412.02044v1?utm_source=tldrai',\n",
       " '[10] https://arxiv.org/abs/2412.03248v1?utm_source=tldrai',\n",
       " '[11] https://page.camunda.com/wp-rethinking-change-management?utm_medium=paid_leadgen&utm_source=tldr&utm_campaign=Guide.RethinkingChangeManagement.24Q4.EN&utm_content=Q4program',\n",
       " '[12] https://github.com/google-deepmind/graphcast?utm_source=tldrai',\n",
       " '[13] https://github.com/pixtella/anagram-mtl?utm_source=tldrai',\n",
       " '[14] https://github.com/happyw1nd/scorelidar?utm_source=tldrai',\n",
       " '[15] https://threadreaderapp.com/thread/1864370933496205728.html?utm_source=tldrai',\n",
       " '[16] https://www.cnbc.com/2024/12/04/openai-partners-with-defense-company-anduril.html?utm_source=tldrai',\n",
       " '[17] https://techcrunch.com/2024/12/04/key-leaders-behind-googles-viral-notebooklm-are-leaving-to-create-their-own-startup/?utm_source=tldrai',\n",
       " '[18] https://www.cloudfactory.com/webinar/ai-irl?utm_campaign=Core_AP_EG&utm_source=tldr&utm_medium=mediapartner&utm_content=email_quicklinks',\n",
       " '[19] https://huggingface.co/ruliad/deepthought-8b-llama-v0.01-alpha?utm_source=tldrai',\n",
       " '[20] https://vyokky.github.io/LLM-Brained-GUI-Agents-Survey/?utm_source=tldrai',\n",
       " '[21] https://www.nytimes.com/video/business/100000009858580/sam-altman-openai-dealbook.html?utm_source=tldrai',\n",
       " '[22] https://advertise.tldr.tech/?utm_source=tldrai&utm_medium=newsletter&utm_campaign=advertisecta',\n",
       " '[23] https://a.tldrnewsletter.com/unsubscribe?ep=1&l=eedf6b14-3de3-11ed-9a32-0241b9615763&lc=57aff87c-ae02-11ef-9074-4b7e3c69f0c6&p=68d03084-b3c7-11ef-928d-09d27092d252&pt=campaign&pv=4&spa=1733493669&t=1733494584&s=ea38715a39323501a5e9b28f17e7c39f0df3e5d14a1e4155a2a433bd6fecc396',\n",
       " '[24] https://tldr.tech/ai/manage?email=automatic.newsletters%40gmail.com']"
      ]
     },
     "execution_count": 8,
     "metadata": {},
     "output_type": "execute_result"
    }
   ],
   "source": [
    "links = emails[0]['text'].split(\"\\r\\n\\r\\n\")[-1].split('\\r\\n')\n",
    "links"
   ]
  },
  {
   "cell_type": "code",
   "execution_count": 14,
   "id": "080e2f7e-682d-4d52-9777-b78f90bc6dbf",
   "metadata": {
    "execution": {
     "iopub.execute_input": "2024-12-18T04:10:17.868124Z",
     "iopub.status.busy": "2024-12-18T04:10:17.867091Z",
     "iopub.status.idle": "2024-12-18T04:10:17.883057Z",
     "shell.execute_reply": "2024-12-18T04:10:17.881271Z",
     "shell.execute_reply.started": "2024-12-18T04:10:17.868092Z"
    }
   },
   "outputs": [
    {
     "data": {
      "text/plain": [
       "True"
      ]
     },
     "execution_count": 14,
     "metadata": {},
     "output_type": "execute_result"
    }
   ],
   "source": [
    "\"tldr\" in links[6]"
   ]
  },
  {
   "cell_type": "code",
   "execution_count": 9,
   "id": "5d795687-19b3-476c-bd8a-545f6079d5ff",
   "metadata": {
    "execution": {
     "iopub.execute_input": "2024-12-18T03:57:26.571641Z",
     "iopub.status.busy": "2024-12-18T03:57:26.571060Z",
     "iopub.status.idle": "2024-12-18T03:57:26.591964Z",
     "shell.execute_reply": "2024-12-18T03:57:26.589583Z",
     "shell.execute_reply.started": "2024-12-18T03:57:26.571606Z"
    }
   },
   "outputs": [
    {
     "data": {
      "text/plain": [
       "['[9', 'https://arxiv.org/abs/2412.02044v1?utm_source=tldrai']"
      ]
     },
     "execution_count": 9,
     "metadata": {},
     "output_type": "execute_result"
    }
   ],
   "source": [
    "links[10].split('] ')"
   ]
  },
  {
   "cell_type": "code",
   "execution_count": 10,
   "id": "dcaa5ebe-e59f-4538-b4d4-7245bc06d41c",
   "metadata": {
    "execution": {
     "iopub.execute_input": "2024-12-18T03:58:17.160985Z",
     "iopub.status.busy": "2024-12-18T03:58:17.159327Z",
     "iopub.status.idle": "2024-12-18T03:58:17.170409Z",
     "shell.execute_reply": "2024-12-18T03:58:17.168798Z",
     "shell.execute_reply.started": "2024-12-18T03:58:17.160949Z"
    }
   },
   "outputs": [
    {
     "data": {
      "text/plain": [
       "(str, 'https://openai.com/index/openai-o1-system-card/')"
      ]
     },
     "execution_count": 10,
     "metadata": {},
     "output_type": "execute_result"
    }
   ],
   "source": [
    "type(news_sources[0]['url']), news_sources[0]['url']"
   ]
  },
  {
   "cell_type": "code",
   "execution_count": null,
   "id": "28bb4e07-652d-45d2-978b-97d4d61a6f9c",
   "metadata": {},
   "outputs": [],
   "source": []
  }
 ],
 "metadata": {
  "kernelspec": {
   "display_name": "Python 3 (ipykernel)",
   "language": "python",
   "name": "python3"
  },
  "language_info": {
   "codemirror_mode": {
    "name": "ipython",
    "version": 3
   },
   "file_extension": ".py",
   "mimetype": "text/x-python",
   "name": "python",
   "nbconvert_exporter": "python",
   "pygments_lexer": "ipython3",
   "version": "3.11.11"
  }
 },
 "nbformat": 4,
 "nbformat_minor": 5
}
