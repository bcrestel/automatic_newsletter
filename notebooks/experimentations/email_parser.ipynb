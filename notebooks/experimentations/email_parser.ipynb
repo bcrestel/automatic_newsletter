{
 "cells": [
  {
   "cell_type": "code",
   "execution_count": 1,
   "id": "7a70f2a9-719c-45a8-9df9-043eb3cf9cb3",
   "metadata": {
    "execution": {
     "iopub.execute_input": "2024-12-05T04:25:24.319417Z",
     "iopub.status.busy": "2024-12-05T04:25:24.318416Z",
     "iopub.status.idle": "2024-12-05T04:25:24.625105Z",
     "shell.execute_reply": "2024-12-05T04:25:24.624015Z",
     "shell.execute_reply.started": "2024-12-05T04:25:24.319376Z"
    }
   },
   "outputs": [],
   "source": [
    "from src.newsletters.gmail import Gmail\n",
    "from src.newsletters.config import NEWSLETTER_AND_PARSER\n",
    "from src.newsletters.parser.tldr import tldr_parser"
   ]
  },
  {
   "cell_type": "code",
   "execution_count": 2,
   "id": "d6024b25-c28e-480f-8297-0c6f43361e99",
   "metadata": {
    "execution": {
     "iopub.execute_input": "2024-12-05T04:25:24.767975Z",
     "iopub.status.busy": "2024-12-05T04:25:24.766537Z",
     "iopub.status.idle": "2024-12-05T04:25:24.778777Z",
     "shell.execute_reply": "2024-12-05T04:25:24.777247Z",
     "shell.execute_reply.started": "2024-12-05T04:25:24.767936Z"
    }
   },
   "outputs": [
    {
     "data": {
      "text/plain": [
       "dict_keys(['TLDR AI <dan@tldrnewsletter.com>'])"
      ]
     },
     "execution_count": 2,
     "metadata": {},
     "output_type": "execute_result"
    }
   ],
   "source": [
    "NEWSLETTER_AND_PARSER.keys()"
   ]
  },
  {
   "cell_type": "code",
   "execution_count": 3,
   "id": "93ef2c90-9422-44da-840d-f51dc7522f28",
   "metadata": {
    "execution": {
     "iopub.execute_input": "2024-12-05T04:25:25.154529Z",
     "iopub.status.busy": "2024-12-05T04:25:25.154015Z",
     "iopub.status.idle": "2024-12-05T04:25:25.173629Z",
     "shell.execute_reply": "2024-12-05T04:25:25.171909Z",
     "shell.execute_reply.started": "2024-12-05T04:25:25.154496Z"
    }
   },
   "outputs": [],
   "source": [
    "gmail = Gmail()"
   ]
  },
  {
   "cell_type": "code",
   "execution_count": 4,
   "id": "4dd4c716-ed21-4261-9701-b5149468e47b",
   "metadata": {
    "execution": {
     "iopub.execute_input": "2024-12-05T04:25:25.512979Z",
     "iopub.status.busy": "2024-12-05T04:25:25.512558Z",
     "iopub.status.idle": "2024-12-05T04:25:27.137672Z",
     "shell.execute_reply": "2024-12-05T04:25:27.136393Z",
     "shell.execute_reply.started": "2024-12-05T04:25:25.512924Z"
    }
   },
   "outputs": [
    {
     "data": {
      "text/plain": [
       "4"
      ]
     },
     "execution_count": 4,
     "metadata": {},
     "output_type": "execute_result"
    }
   ],
   "source": [
    "emails = gmail.fetch_emails(sender='TLDR AI <dan@tldrnewsletter.com>')\n",
    "len(emails)"
   ]
  },
  {
   "cell_type": "code",
   "execution_count": 5,
   "id": "2bb76247-7448-4993-8188-ae5bf9c96c0b",
   "metadata": {
    "execution": {
     "iopub.execute_input": "2024-12-05T04:25:27.141103Z",
     "iopub.status.busy": "2024-12-05T04:25:27.139281Z",
     "iopub.status.idle": "2024-12-05T04:25:27.159196Z",
     "shell.execute_reply": "2024-12-05T04:25:27.154600Z",
     "shell.execute_reply.started": "2024-12-05T04:25:27.141064Z"
    },
    "scrolled": true
   },
   "outputs": [
    {
     "data": {
      "text/plain": [
       "{'sender': 'TLDR AI <dan@tldrnewsletter.com>',\n",
       " 'subject': 'Eleven Labs Conversational AI 🤖, Amazon Nova 🌐, Claude on AWS 💻',\n",
       " 'date_utc': 'Wed, 4 Dec 2024 14:15:46 +0000',\n",
       " 'id': '1939206ea98a7077',\n",
       " 'text': \"Eleven Labs has launched a new conversational AI service that is more\\r\\nof an end-to-end product for building conversational\\r\\nagents.\\xa0\\u200c\\xa0\\u200c\\xa0\\u200c\\xa0\\u200c\\xa0\\u200c\\xa0\\u200c\\xa0\\u200c\\xa0\\u200c\\xa0\\u200c\\xa0\\u200c\\xa0\\u200c\\xa0\\u200c\\xa0\\u200c\\xa0\\u200c\\xa0\\u200c\\xa0\\u200c\\xa0\\u200c\\xa0\\u200c\\xa0\\u200c\\xa0\\u200c\\xa0\\u200c\\xa0\\u200c\\xa0\\u200c\\xa0\\u200c\\xa0\\u200c\\xa0\\u200c\\xa0\\xa0\\u200c\\xa0\\u200c\\xa0\\u200c\\xa0\\u200c\\xa0\\u200c\\xa0\\u200c\\xa0\\u200c\\xa0\\u200c\\xa0\\u200c\\xa0\\u200c\\xa0\\u200c\\xa0\\u200c\\xa0\\u200c\\xa0\\u200c\\xa0\\u200c\\xa0\\u200c\\xa0\\u200c\\xa0\\u200c\\xa0\\u200c\\xa0\\u200c\\xa0\\u200c\\xa0\\u200c\\xa0\\u200c\\xa0\\u200c\\xa0\\u200c\\xa0\\u200c\\xa0\\r\\n\\r\\n\\r\\n Sign Up [1] |Advertise [2]|View Online [3] \\r\\n\\r\\n\\t\\tTLDR \\r\\n\\r\\n\\t\\tTOGETHER WITH [Nylas] [4]\\r\\n\\r\\nTLDR AI 2024-12-04\\r\\n\\r\\n BUILD AI-POWERED EMAIL ✉️ AND SCHEDULING 🗓️ CAPABILITIES FOR\\r\\nFREE WITH NYLAS (SPONSOR) [4] \\r\\n\\r\\n Nylas [5] lets you sync data and automate tasks from users' inboxes,\\r\\ncalendars, and address books — using the same embedded email +\\r\\ncalendar APIs that power Compass, Crunchbase, and Wix.\\r\\n\\r\\n>> Start building with a free Nylas account [5]. No credit card\\r\\nrequired.\\r\\n\\r\\n>> Bookmark the on-demand technical demo [4]. Personalized and\\r\\ninteractive demo, actually helpful docs, SDKs (Node, Python, Ruby,\\r\\nJava), and much more.\\r\\n\\r\\n>> Explore ExtractAI [6]. Sync, filter, and extract email data for\\r\\nonline orders, travel reservations, shipping tracking, custom models,\\r\\nand more.\\r\\n\\r\\n🚀 \\r\\n\\r\\nHEADLINES & LAUNCHES\\r\\n\\r\\n ELEVEN LABS CONVERSATIONAL AI (5 MINUTE READ) [7] \\r\\n\\r\\n Eleven Labs has launched a new conversational AI service that is more\\r\\nof an end-to-end product for building conversational agents. It uses a\\r\\nvariety of LLMs on the backend while integrating seamlessly to a wide\\r\\nvariety of specialized voices. \\r\\n\\r\\n CLAUDE MODELS NOW FASTER AND SMARTER ON AWS TRAINIUM2 (4 MINUTE READ)\\r\\n[8] \\r\\n\\r\\n Claude models are being optimized for AWS' advanced Trainium2 AI\\r\\nchips. This will enable faster and more efficient performance. Claude\\r\\n3.5 Haiku is now available on AWS Trainium2 and model distillation in\\r\\nAmazon Bedrock. \\r\\n\\r\\n AMAZON LAUNCHES NOVA (12 MINUTE READ) [9] \\r\\n\\r\\n Amazon Nova introduces a suite of multimodal models designed for\\r\\ntasks like document analysis, visual understanding, and creative\\r\\ncontent generation. With a focus on customization and efficiency, Nova\\r\\nmodels cater to diverse enterprise needs while excelling in tasks that\\r\\ncombine text, image, and video inputs. \\r\\n\\r\\n🧠 \\r\\n\\r\\nRESEARCH & INNOVATION\\r\\n\\r\\n DIFFUSION MEETS FLOW MATCHING: TWO SIDES OF THE SAME COIN (21 MINUTE\\r\\nREAD) [10] \\r\\n\\r\\n This post talks through some of the literature and shows that,\\r\\nmathematically, both flow matching and diffusion models are the same.\\r\\nInterestingly, flow matching still seems to scale better practically. \\r\\n\\r\\n RESTRUCTURING VECTOR QUANTIZATION WITH THE ROTATION TRICK (18 MINUTE\\r\\nREAD) [11] \\r\\n\\r\\n Vector Quantization relies on gradient estimation through what's\\r\\nknown as the Straight Through Gradient estimator. However, its\\r\\ndirection is sometimes incorrect. This paper suggests rotation as a\\r\\nway to fix the gradients and improve code book utilization. \\r\\n\\r\\n LAYOUT GENERATION WITH DIFFUSION GANS (9 MINUTE READ) [12] \\r\\n\\r\\n DogLayout is a hybrid model that combines GANs and diffusion\\r\\nprocesses to overcome challenges in layout generation. \\r\\n\\r\\n🧑\\u200d💻 \\r\\n\\r\\nENGINEERING & RESOURCES\\r\\n\\r\\n TAKE THE STATE OF AI DEVELOPMENT SURVEY FOR A CHANCE TO WIN A NEW\\r\\nMACBOOK M4 (SPONSOR) [13] \\r\\n\\r\\n Ever wonder how other companies are developing, shipping, and\\r\\nmonitoring AI? Vellum is running the ultimate AI-in-production survey\\r\\n[13], and they're looking for insider knowledge from folks like you.\\r\\nIt takes 4 minutes and you'll get early access to the report once it\\r\\ndrops PLUS a chance to win a MacBook M4. No brainer! [13] \\r\\n\\r\\n HUNYUAN VIDEO MODEL (GITHUB REPO) [14] \\r\\n\\r\\n This state-of-the-art open video model from Tencent is particularly\\r\\ncompelling due to its realistic motion and dual training as an image\\r\\ngeneration model. This dual training means the aesthetics of the\\r\\noutput are higher quality, akin to image generation models like Flux. \\r\\n\\r\\n SCENE TEXT RECOGNITION (GITHUB REPO) [15] \\r\\n\\r\\n TextSSR is a framework that uses diffusion-based methods to generate\\r\\naccurate and realistic synthetic text images for scene text\\r\\nrecognition. \\r\\n\\r\\n VIDEO UNDERSTANDING WITH MULTIMODAL LANGUAGE MODELS (GITHUB REPO)\\r\\n[16] \\r\\n\\r\\n T2Vid is a new method to enhance video understanding in Multimodal\\r\\nLarge Language Models (MLLMs). It generates video-like samples to\\r\\ndiversify training instructions. \\r\\n\\r\\n🎁 \\r\\n\\r\\nMISCELLANEOUS\\r\\n\\r\\n A SYSTEM OF AGENTS BRINGS SERVICE-AS-SOFTWARE TO LIFE (13 MINUTE\\r\\nREAD) [17] \\r\\n\\r\\n AI is transitioning software from a tool to autonomous agents capable\\r\\nof executing tasks traditionally performed by humans, with a projected\\r\\n$4.6 trillion market opportunity. Innovations such as LLMs and agents\\r\\nenable AI systems to process unstructured data, make decisions, and\\r\\nact autonomously across sectors like sales and healthcare. The future\\r\\nof AI involves Systems of Agents that collaborate and learn from each\\r\\nother, functioning like a highly skilled team to deliver services. \\r\\n\\r\\n AI MUSIC IS MORE REALISTIC THAN EVER: MEET SUNO'S NEW MODEL (5 MINUTE\\r\\nREAD) [18] \\r\\n\\r\\n Suno has become the fifth most-used generative AI service with its\\r\\nrealistic AI music model V4, despite facing a copyright lawsuit. The\\r\\nmodel improves user experience by focusing on human preferences,\\r\\noffering enhanced sound quality and advanced composition skills. Suno\\r\\naims to advance AI-human music collaboration while addressing\\r\\ncopyright concerns with the recording industry. \\r\\n\\r\\n BLUESKY'S OPEN API MEANS ANYONE CAN SCRAPE YOUR DATA FOR AI TRAINING\\r\\n(2 MINUTE READ) [19] \\r\\n\\r\\n Bluesky isn't using user content to train AI, but third parties like\\r\\nHugging Face have accessed posts for machine learning research. This\\r\\nhighlights the public nature of user posts and the challenges in\\r\\ncontrolling third-party use. Bluesky is exploring ways for users to\\r\\nconvey consent, but enforcement outside its platform remains a\\r\\nchallenge. \\r\\n\\r\\n⚡ \\r\\n\\r\\nQUICK LINKS\\r\\n\\r\\n AISUITE (3 MINUTE READ) [20] \\r\\n\\r\\n aisuite provides a unified interface for seamless interaction with\\r\\nmultiple LLM providers, aiding developers in testing and comparing\\r\\noutputs without altering code. \\r\\n\\r\\n OVER ½ OF LONG POSTS ON LINKEDIN ARE LIKELY AI-GENERATED SINCE\\r\\nCHATGPT LAUNCHED (4 MINUTE READ) [21] \\r\\n\\r\\n Since ChatGPT's launch, LinkedIn has seen an 189% surge in\\r\\nAI-generated content, with over half of long-form posts now likely\\r\\nAI-driven. \\r\\n\\r\\n GOOGLE LAUNCHES THE LONDON AI CAMPUS (3 MINUTE READ) [22] \\r\\n\\r\\n The AI Campus is an educational pilot to support and diversify the\\r\\nnext generation of local AI talent. \\r\\n\\r\\nWant to advertise in TLDR? 📰\\r\\n\\r\\n If your company is interested in reaching an audience of AI\\r\\nprofessionals and decision makers, you may want to ADVERTISE WITH US\\r\\n[23]. \\r\\n\\r\\n If you have any comments or feedback, just respond to this email! \\r\\n\\r\\nThanks for reading, \\r\\nAndrew Tan & Andrew Carr \\r\\n\\r\\nIf you don't want to receive future editions of TLDR AI, please\\r\\nunsubscribe from TLDR AI [24] or manage all of your TLDR newsletter\\r\\nsubscriptions [25]. \\r\\n\\r\\n \\r\\n\\r\\nLinks:\\r\\n------\\r\\n[1] https://tldr.tech/ai?utm_source=tldrai\\r\\n[2] https://advertise.tldr.tech/?utm_source=tldrai&utm_medium=newsletter&utm_campaign=advertisetopnav\\r\\n[3] https://a.tldrnewsletter.com/web-version?ep=1&lc=57aff87c-ae02-11ef-9074-4b7e3c69f0c6&p=0960528c-b232-11ef-b011-f332b2138605&pt=campaign&t=1733321746&s=45b08133287cac9b57c47e1df74765afa60ecccdcecfe4fc9e076407ee6463d4\\r\\n[4] https://www.nylas.com/personalized-demo/?utm_source=tldr&utm_medium=sponsoredemail&utm_campaign=FY23Q3-TLDR-Developer&utm_content=2023-09-21-issue-demo\\r\\n[5] https://dashboard-v3.nylas.com/register?utm_source=tldr&utm_medium=sponsoredemail&utm_campaign=FY23Q3-TLDR-Developer&utm_content=2023-09-21-issue-DSU\\r\\n[6] https://www.nylas.com/products/extractai/?utm_source=tldr&utm_medium=sponsoredemail&utm_campaign=FY23Q3-TLDR-Developer&utm_content=2023-09-21-issue-demo\\r\\n[7] https://elevenlabs.io/conversational-ai?utm_source=tldrai\\r\\n[8] https://www.anthropic.com/news/trainium2-and-distillation?utm_source=tldrai\\r\\n[9] https://aws.amazon.com/blogs/aws/introducing-amazon-nova-frontier-intelligence-and-industry-leading-price-performance/?utm_source=tldrai\\r\\n[10] https://diffusionflow.github.io/?utm_source=tldrai\\r\\n[11] https://arxiv.org/abs/2410.06424?utm_source=tldrai\\r\\n[12] https://arxiv.org/abs/2412.00381v1?utm_source=tldrai\\r\\n[13] https://www.vellum.ai/landing-pages/state-of-ai-survey?utm_source=TLDR&utm_medium=email&utm_campaign=survey\\r\\n[14] https://github.com/Tencent/HunyuanVideo?utm_source=tldrai\\r\\n[15] https://github.com/YesianRohn/TextSSR?utm_source=tldrai\\r\\n[16] https://github.com/xjtupanda/t2vid?utm_source=tldrai\\r\\n[17] https://foundationcapital.com/system-of-agents/?utm_source=tldrai\\r\\n[18] https://www.rollingstone.com/music/music-features/ai-music-generator-new-model-suno-1235172581/?utm_source=tldrai\\r\\n[19] https://techcrunch.com/2024/11/27/blueskys-open-api-means-anyone-can-scrape-your-data-for-ai-training/?utm_source=tldrai\\r\\n[20] https://github.com/andrewyng/aisuite?utm_source=tldrai\\r\\n[21] https://originality.ai/blog/ai-content-published-linkedin?utm_source=tldrai\\r\\n[22] https://blog.google/around-the-globe/google-europe/united-kingdom/google-launches-ai-campus-london/?utm_source=tldrai\\r\\n[23] https://advertise.tldr.tech/?utm_source=tldrai&utm_medium=newsletter&utm_campaign=advertisecta\\r\\n[24] https://a.tldrnewsletter.com/unsubscribe?ep=1&l=eedf6b14-3de3-11ed-9a32-0241b9615763&lc=57aff87c-ae02-11ef-9074-4b7e3c69f0c6&p=0960528c-b232-11ef-b011-f332b2138605&pt=campaign&pv=4&spa=1733320861&t=1733321746&s=07371eaeee517ce8a3a489fd55ada196b2822e8c0bb2d6a52b114a5f21ecacef\\r\\n[25] https://tldr.tech/ai/manage?email=automatic.newsletters%40gmail.com\"}"
      ]
     },
     "execution_count": 5,
     "metadata": {},
     "output_type": "execute_result"
    }
   ],
   "source": [
    "emails[0]"
   ]
  },
  {
   "cell_type": "code",
   "execution_count": 6,
   "id": "307c5c9b-b998-49d7-9d07-e626f16174c6",
   "metadata": {
    "execution": {
     "iopub.execute_input": "2024-12-05T04:25:27.161918Z",
     "iopub.status.busy": "2024-12-05T04:25:27.161157Z",
     "iopub.status.idle": "2024-12-05T04:25:27.175880Z",
     "shell.execute_reply": "2024-12-05T04:25:27.173725Z",
     "shell.execute_reply.started": "2024-12-05T04:25:27.161814Z"
    }
   },
   "outputs": [],
   "source": [
    "news_sources = tldr_parser(emails[0])"
   ]
  },
  {
   "cell_type": "code",
   "execution_count": 7,
   "id": "71e839c4-5710-4f8b-86f0-910533d57a28",
   "metadata": {
    "execution": {
     "iopub.execute_input": "2024-12-05T04:25:27.186083Z",
     "iopub.status.busy": "2024-12-05T04:25:27.182661Z",
     "iopub.status.idle": "2024-12-05T04:25:27.207465Z",
     "shell.execute_reply": "2024-12-05T04:25:27.203115Z",
     "shell.execute_reply.started": "2024-12-05T04:25:27.185889Z"
    }
   },
   "outputs": [
    {
     "data": {
      "text/plain": [
       "[{'title': 'ELEVEN LABS CONVERSATIONAL AI',\n",
       "  'url': 'https://elevenlabs.io/conversational-ai?utm_source=tldrai',\n",
       "  'source_of_the_news': 'TLDR AI <dan@tldrnewsletter.com>',\n",
       "  'news_summary': 'Eleven Labs has launched a new conversational AI service that is more of an end-to-end product for building conversational agents. It uses a variety of LLMs on the backend while integrating seamlessly to a wide variety of specialized voices.',\n",
       "  'date_source': 'Wed, 4 Dec 2024 14:15:46 +0000'},\n",
       " {'title': 'CLAUDE MODELS NOW FASTER AND SMARTER ON AWS TRAINIUM2',\n",
       "  'url': 'https://www.anthropic.com/news/trainium2-and-distillation?utm_source=tldrai',\n",
       "  'source_of_the_news': 'TLDR AI <dan@tldrnewsletter.com>',\n",
       "  'news_summary': \"Claude models are being optimized for AWS' advanced Trainium2 AI chips. This will enable faster and more efficient performance. Claude 3.5 Haiku is now available on AWS Trainium2 and model distillation in Amazon Bedrock.\",\n",
       "  'date_source': 'Wed, 4 Dec 2024 14:15:46 +0000'},\n",
       " {'title': 'AMAZON LAUNCHES NOVA',\n",
       "  'url': 'https://aws.amazon.com/blogs/aws/introducing-amazon-nova-frontier-intelligence-and-industry-leading-price-performance/?utm_source=tldrai',\n",
       "  'source_of_the_news': 'TLDR AI <dan@tldrnewsletter.com>',\n",
       "  'news_summary': 'Amazon Nova introduces a suite of multimodal models designed for tasks like document analysis, visual understanding, and creative content generation. With a focus on customization and efficiency, Nova models cater to diverse enterprise needs while excelling in tasks that combine text, image, and video inputs.',\n",
       "  'date_source': 'Wed, 4 Dec 2024 14:15:46 +0000'},\n",
       " {'title': 'DIFFUSION MEETS FLOW MATCHING: TWO SIDES OF THE SAME COIN',\n",
       "  'url': 'https://diffusionflow.github.io/?utm_source=tldrai',\n",
       "  'source_of_the_news': 'TLDR AI <dan@tldrnewsletter.com>',\n",
       "  'news_summary': 'This post talks through some of the literature and shows that, mathematically, both flow matching and diffusion models are the same. Interestingly, flow matching still seems to scale better practically.',\n",
       "  'date_source': 'Wed, 4 Dec 2024 14:15:46 +0000'},\n",
       " {'title': 'RESTRUCTURING VECTOR QUANTIZATION WITH THE ROTATION TRICK',\n",
       "  'url': 'https://arxiv.org/abs/2410.06424?utm_source=tldrai',\n",
       "  'source_of_the_news': 'TLDR AI <dan@tldrnewsletter.com>',\n",
       "  'news_summary': \"Vector Quantization relies on gradient estimation through what's known as the Straight Through Gradient estimator. However, its direction is sometimes incorrect. This paper suggests rotation as a way to fix the gradients and improve code book utilization.\",\n",
       "  'date_source': 'Wed, 4 Dec 2024 14:15:46 +0000'},\n",
       " {'title': 'LAYOUT GENERATION WITH DIFFUSION GANS',\n",
       "  'url': 'https://arxiv.org/abs/2412.00381v1?utm_source=tldrai',\n",
       "  'source_of_the_news': 'TLDR AI <dan@tldrnewsletter.com>',\n",
       "  'news_summary': 'DogLayout is a hybrid model that combines GANs and diffusion processes to overcome challenges in layout generation.',\n",
       "  'date_source': 'Wed, 4 Dec 2024 14:15:46 +0000'},\n",
       " {'title': 'A SYSTEM OF AGENTS BRINGS SERVICE-AS-SOFTWARE TO LIFE',\n",
       "  'url': 'https://foundationcapital.com/system-of-agents/?utm_source=tldrai',\n",
       "  'source_of_the_news': 'TLDR AI <dan@tldrnewsletter.com>',\n",
       "  'news_summary': 'AI is transitioning software from a tool to autonomous agents capable of executing tasks traditionally performed by humans, with a projected $4.6 trillion market opportunity. Innovations such as LLMs and agents enable AI systems to process unstructured data, make decisions, and act autonomously across sectors like sales and healthcare. The future of AI involves Systems of Agents that collaborate and learn from each other, functioning like a highly skilled team to deliver services.',\n",
       "  'date_source': 'Wed, 4 Dec 2024 14:15:46 +0000'},\n",
       " {'title': \"AI MUSIC IS MORE REALISTIC THAN EVER: MEET SUNO'S NEW MODEL\",\n",
       "  'url': 'https://www.rollingstone.com/music/music-features/ai-music-generator-new-model-suno-1235172581/?utm_source=tldrai',\n",
       "  'source_of_the_news': 'TLDR AI <dan@tldrnewsletter.com>',\n",
       "  'news_summary': 'Suno has become the fifth most-used generative AI service with its realistic AI music model V4, despite facing a copyright lawsuit. The model improves user experience by focusing on human preferences, offering enhanced sound quality and advanced composition skills. Suno aims to advance AI-human music collaboration while addressing copyright concerns with the recording industry.',\n",
       "  'date_source': 'Wed, 4 Dec 2024 14:15:46 +0000'},\n",
       " {'title': \"BLUESKY'S OPEN API MEANS ANYONE CAN SCRAPE YOUR DATA FOR AI TRAINING\",\n",
       "  'url': 'https://techcrunch.com/2024/11/27/blueskys-open-api-means-anyone-can-scrape-your-data-for-ai-training/?utm_source=tldrai',\n",
       "  'source_of_the_news': 'TLDR AI <dan@tldrnewsletter.com>',\n",
       "  'news_summary': \"Bluesky isn't using user content to train AI, but third parties like Hugging Face have accessed posts for machine learning research. This highlights the public nature of user posts and the challenges in controlling third-party use. Bluesky is exploring ways for users to convey consent, but enforcement outside its platform remains a challenge.\",\n",
       "  'date_source': 'Wed, 4 Dec 2024 14:15:46 +0000'},\n",
       " {'title': 'AISUITE',\n",
       "  'url': 'https://github.com/andrewyng/aisuite?utm_source=tldrai',\n",
       "  'source_of_the_news': 'TLDR AI <dan@tldrnewsletter.com>',\n",
       "  'news_summary': 'aisuite provides a unified interface for seamless interaction with multiple LLM providers, aiding developers in testing and comparing outputs without altering code.',\n",
       "  'date_source': 'Wed, 4 Dec 2024 14:15:46 +0000'},\n",
       " {'title': 'OVER ½ OF LONG POSTS ON LINKEDIN ARE LIKELY AI-GENERATED SINCE\\r\\nCHATGPT LAUNCHED',\n",
       "  'url': 'https://originality.ai/blog/ai-content-published-linkedin?utm_source=tldrai',\n",
       "  'source_of_the_news': 'TLDR AI <dan@tldrnewsletter.com>',\n",
       "  'news_summary': \"Since ChatGPT's launch, LinkedIn has seen an 189% surge in AI-generated content, with over half of long-form posts now likely AI-driven.\",\n",
       "  'date_source': 'Wed, 4 Dec 2024 14:15:46 +0000'},\n",
       " {'title': 'GOOGLE LAUNCHES THE LONDON AI CAMPUS',\n",
       "  'url': 'https://blog.google/around-the-globe/google-europe/united-kingdom/google-launches-ai-campus-london/?utm_source=tldrai',\n",
       "  'source_of_the_news': 'TLDR AI <dan@tldrnewsletter.com>',\n",
       "  'news_summary': 'The AI Campus is an educational pilot to support and diversify the next generation of local AI talent.',\n",
       "  'date_source': 'Wed, 4 Dec 2024 14:15:46 +0000'}]"
      ]
     },
     "execution_count": 7,
     "metadata": {},
     "output_type": "execute_result"
    }
   ],
   "source": [
    "news_sources"
   ]
  },
  {
   "cell_type": "code",
   "execution_count": 17,
   "id": "5d525e49-4da2-45e1-9464-9534da083d2c",
   "metadata": {
    "execution": {
     "iopub.execute_input": "2024-12-05T04:20:15.941502Z",
     "iopub.status.busy": "2024-12-05T04:20:15.940532Z",
     "iopub.status.idle": "2024-12-05T04:20:15.952734Z",
     "shell.execute_reply": "2024-12-05T04:20:15.950933Z",
     "shell.execute_reply.started": "2024-12-05T04:20:15.941466Z"
    }
   },
   "outputs": [
    {
     "data": {
      "text/plain": [
       "['Links:',\n",
       " '------',\n",
       " '[1] https://tldr.tech/ai?utm_source=tldrai',\n",
       " '[2] https://advertise.tldr.tech/?utm_source=tldrai&utm_medium=newsletter&utm_campaign=advertisetopnav',\n",
       " '[3] https://a.tldrnewsletter.com/web-version?ep=1&lc=57aff87c-ae02-11ef-9074-4b7e3c69f0c6&p=0960528c-b232-11ef-b011-f332b2138605&pt=campaign&t=1733321746&s=45b08133287cac9b57c47e1df74765afa60ecccdcecfe4fc9e076407ee6463d4',\n",
       " '[4] https://www.nylas.com/personalized-demo/?utm_source=tldr&utm_medium=sponsoredemail&utm_campaign=FY23Q3-TLDR-Developer&utm_content=2023-09-21-issue-demo',\n",
       " '[5] https://dashboard-v3.nylas.com/register?utm_source=tldr&utm_medium=sponsoredemail&utm_campaign=FY23Q3-TLDR-Developer&utm_content=2023-09-21-issue-DSU',\n",
       " '[6] https://www.nylas.com/products/extractai/?utm_source=tldr&utm_medium=sponsoredemail&utm_campaign=FY23Q3-TLDR-Developer&utm_content=2023-09-21-issue-demo',\n",
       " '[7] https://elevenlabs.io/conversational-ai?utm_source=tldrai',\n",
       " '[8] https://www.anthropic.com/news/trainium2-and-distillation?utm_source=tldrai',\n",
       " '[9] https://aws.amazon.com/blogs/aws/introducing-amazon-nova-frontier-intelligence-and-industry-leading-price-performance/?utm_source=tldrai',\n",
       " '[10] https://diffusionflow.github.io/?utm_source=tldrai',\n",
       " '[11] https://arxiv.org/abs/2410.06424?utm_source=tldrai',\n",
       " '[12] https://arxiv.org/abs/2412.00381v1?utm_source=tldrai',\n",
       " '[13] https://www.vellum.ai/landing-pages/state-of-ai-survey?utm_source=TLDR&utm_medium=email&utm_campaign=survey',\n",
       " '[14] https://github.com/Tencent/HunyuanVideo?utm_source=tldrai',\n",
       " '[15] https://github.com/YesianRohn/TextSSR?utm_source=tldrai',\n",
       " '[16] https://github.com/xjtupanda/t2vid?utm_source=tldrai',\n",
       " '[17] https://foundationcapital.com/system-of-agents/?utm_source=tldrai',\n",
       " '[18] https://www.rollingstone.com/music/music-features/ai-music-generator-new-model-suno-1235172581/?utm_source=tldrai',\n",
       " '[19] https://techcrunch.com/2024/11/27/blueskys-open-api-means-anyone-can-scrape-your-data-for-ai-training/?utm_source=tldrai',\n",
       " '[20] https://github.com/andrewyng/aisuite?utm_source=tldrai',\n",
       " '[21] https://originality.ai/blog/ai-content-published-linkedin?utm_source=tldrai',\n",
       " '[22] https://blog.google/around-the-globe/google-europe/united-kingdom/google-launches-ai-campus-london/?utm_source=tldrai',\n",
       " '[23] https://advertise.tldr.tech/?utm_source=tldrai&utm_medium=newsletter&utm_campaign=advertisecta',\n",
       " '[24] https://a.tldrnewsletter.com/unsubscribe?ep=1&l=eedf6b14-3de3-11ed-9a32-0241b9615763&lc=57aff87c-ae02-11ef-9074-4b7e3c69f0c6&p=0960528c-b232-11ef-b011-f332b2138605&pt=campaign&pv=4&spa=1733320861&t=1733321746&s=07371eaeee517ce8a3a489fd55ada196b2822e8c0bb2d6a52b114a5f21ecacef',\n",
       " '[25] https://tldr.tech/ai/manage?email=automatic.newsletters%40gmail.com']"
      ]
     },
     "execution_count": 17,
     "metadata": {},
     "output_type": "execute_result"
    }
   ],
   "source": [
    "links = emails[0]['text'].split(\"\\r\\n\\r\\n\")[-1].split('\\r\\n')\n",
    "links"
   ]
  },
  {
   "cell_type": "code",
   "execution_count": 19,
   "id": "5d795687-19b3-476c-bd8a-545f6079d5ff",
   "metadata": {
    "execution": {
     "iopub.execute_input": "2024-12-05T04:20:30.789213Z",
     "iopub.status.busy": "2024-12-05T04:20:30.788082Z",
     "iopub.status.idle": "2024-12-05T04:20:30.799225Z",
     "shell.execute_reply": "2024-12-05T04:20:30.797090Z",
     "shell.execute_reply.started": "2024-12-05T04:20:30.789138Z"
    }
   },
   "outputs": [
    {
     "data": {
      "text/plain": [
       "['[9',\n",
       " 'https://aws.amazon.com/blogs/aws/introducing-amazon-nova-frontier-intelligence-and-industry-leading-price-performance/?utm_source=tldrai']"
      ]
     },
     "execution_count": 19,
     "metadata": {},
     "output_type": "execute_result"
    }
   ],
   "source": [
    "links[10].split('] ')"
   ]
  },
  {
   "cell_type": "code",
   "execution_count": null,
   "id": "ed7c801d-25a6-48bf-bfc7-3c8e774ceae2",
   "metadata": {},
   "outputs": [],
   "source": []
  }
 ],
 "metadata": {
  "kernelspec": {
   "display_name": "Python 3 (ipykernel)",
   "language": "python",
   "name": "python3"
  },
  "language_info": {
   "codemirror_mode": {
    "name": "ipython",
    "version": 3
   },
   "file_extension": ".py",
   "mimetype": "text/x-python",
   "name": "python",
   "nbconvert_exporter": "python",
   "pygments_lexer": "ipython3",
   "version": "3.11.9"
  }
 },
 "nbformat": 4,
 "nbformat_minor": 5
}
