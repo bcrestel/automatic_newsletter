{
 "cells": [
  {
   "cell_type": "code",
   "execution_count": 1,
   "id": "6ee8e0bc-dd69-4d7d-aebb-e49985a6a5d1",
   "metadata": {
    "execution": {
     "iopub.execute_input": "2025-03-22T22:15:11.721962Z",
     "iopub.status.busy": "2025-03-22T22:15:11.721638Z",
     "iopub.status.idle": "2025-03-22T22:15:18.852484Z",
     "shell.execute_reply": "2025-03-22T22:15:18.850394Z",
     "shell.execute_reply.started": "2025-03-22T22:15:11.721937Z"
    },
    "scrolled": true
   },
   "outputs": [
    {
     "name": "stdout",
     "output_type": "stream",
     "text": [
      "Collecting langfuse\n",
      "  Downloading langfuse-2.60.1-py3-none-any.whl.metadata (3.2 kB)\n",
      "Requirement already satisfied: anyio<5.0.0,>=4.4.0 in /usr/local/lib/python3.11/site-packages (from langfuse) (4.8.0)\n",
      "Collecting backoff>=1.10.0 (from langfuse)\n",
      "  Downloading backoff-2.2.1-py3-none-any.whl.metadata (14 kB)\n",
      "Requirement already satisfied: httpx<1.0,>=0.15.4 in /usr/local/lib/python3.11/site-packages (from langfuse) (0.28.1)\n",
      "Requirement already satisfied: idna<4.0,>=3.7 in /usr/local/lib/python3.11/site-packages (from langfuse) (3.10)\n",
      "Requirement already satisfied: packaging<25.0,>=23.2 in /usr/local/lib/python3.11/site-packages (from langfuse) (24.2)\n",
      "Requirement already satisfied: pydantic<3.0,>=1.10.7 in /usr/local/lib/python3.11/site-packages (from langfuse) (2.10.6)\n",
      "Requirement already satisfied: requests<3,>=2 in /usr/local/lib/python3.11/site-packages (from langfuse) (2.32.3)\n",
      "Requirement already satisfied: wrapt<2.0,>=1.14 in /usr/local/lib/python3.11/site-packages (from langfuse) (1.17.2)\n",
      "Requirement already satisfied: sniffio>=1.1 in /usr/local/lib/python3.11/site-packages (from anyio<5.0.0,>=4.4.0->langfuse) (1.3.1)\n",
      "Requirement already satisfied: typing_extensions>=4.5 in /usr/local/lib/python3.11/site-packages (from anyio<5.0.0,>=4.4.0->langfuse) (4.12.2)\n",
      "Requirement already satisfied: certifi in /usr/local/lib/python3.11/site-packages (from httpx<1.0,>=0.15.4->langfuse) (2025.1.31)\n",
      "Requirement already satisfied: httpcore==1.* in /usr/local/lib/python3.11/site-packages (from httpx<1.0,>=0.15.4->langfuse) (1.0.7)\n",
      "Requirement already satisfied: h11<0.15,>=0.13 in /usr/local/lib/python3.11/site-packages (from httpcore==1.*->httpx<1.0,>=0.15.4->langfuse) (0.14.0)\n",
      "Requirement already satisfied: annotated-types>=0.6.0 in /usr/local/lib/python3.11/site-packages (from pydantic<3.0,>=1.10.7->langfuse) (0.7.0)\n",
      "Requirement already satisfied: pydantic-core==2.27.2 in /usr/local/lib/python3.11/site-packages (from pydantic<3.0,>=1.10.7->langfuse) (2.27.2)\n",
      "Requirement already satisfied: charset-normalizer<4,>=2 in /usr/local/lib/python3.11/site-packages (from requests<3,>=2->langfuse) (3.4.1)\n",
      "Requirement already satisfied: urllib3<3,>=1.21.1 in /usr/local/lib/python3.11/site-packages (from requests<3,>=2->langfuse) (2.3.0)\n",
      "Downloading langfuse-2.60.1-py3-none-any.whl (264 kB)\n",
      "\u001b[2K   \u001b[90m━━━━━━━━━━━━━━━━━━━━━━━━━━━━━━━━━━━━━━━━\u001b[0m \u001b[32m264.3/264.3 kB\u001b[0m \u001b[31m2.2 MB/s\u001b[0m eta \u001b[36m0:00:00\u001b[0ma \u001b[36m0:00:01\u001b[0m\n",
      "Downloading backoff-2.2.1-py3-none-any.whl (15 kB)\n",
      "Installing collected packages: backoff, langfuse\n",
      "Successfully installed backoff-2.2.1 langfuse-2.60.1\n",
      "\u001b[33mWARNING: Running pip as the 'root' user can result in broken permissions and conflicting behaviour with the system package manager. It is recommended to use a virtual environment instead: https://pip.pypa.io/warnings/venv\u001b[0m\u001b[33m\n",
      "\u001b[0m\n",
      "\u001b[1m[\u001b[0m\u001b[34;49mnotice\u001b[0m\u001b[1;39;49m]\u001b[0m\u001b[39;49m A new release of pip is available: \u001b[0m\u001b[31;49m24.0\u001b[0m\u001b[39;49m -> \u001b[0m\u001b[32;49m25.0.1\u001b[0m\n",
      "\u001b[1m[\u001b[0m\u001b[34;49mnotice\u001b[0m\u001b[1;39;49m]\u001b[0m\u001b[39;49m To update, run: \u001b[0m\u001b[32;49mpip install --upgrade pip\u001b[0m\n"
     ]
    }
   ],
   "source": [
    "!pip install langfuse"
   ]
  },
  {
   "cell_type": "code",
   "execution_count": 2,
   "id": "1233e742-4523-48de-a321-a4dca984ef47",
   "metadata": {
    "execution": {
     "iopub.execute_input": "2025-03-22T22:15:18.855320Z",
     "iopub.status.busy": "2025-03-22T22:15:18.854968Z",
     "iopub.status.idle": "2025-03-22T22:15:20.200851Z",
     "shell.execute_reply": "2025-03-22T22:15:20.200272Z",
     "shell.execute_reply.started": "2025-03-22T22:15:18.855294Z"
    }
   },
   "outputs": [],
   "source": [
    "import langfuse"
   ]
  },
  {
   "cell_type": "code",
   "execution_count": 3,
   "id": "3b1e8d76-3da1-4e08-ad49-0fbc8e58b1a5",
   "metadata": {
    "execution": {
     "iopub.execute_input": "2025-03-22T22:15:20.202120Z",
     "iopub.status.busy": "2025-03-22T22:15:20.201598Z",
     "iopub.status.idle": "2025-03-22T22:15:24.511361Z",
     "shell.execute_reply": "2025-03-22T22:15:24.510410Z",
     "shell.execute_reply.started": "2025-03-22T22:15:20.202101Z"
    }
   },
   "outputs": [],
   "source": [
    "import litellm"
   ]
  },
  {
   "cell_type": "code",
   "execution_count": 4,
   "id": "7c11d8af-a3ae-4997-b402-e706a2c00d23",
   "metadata": {
    "execution": {
     "iopub.execute_input": "2025-03-22T22:15:24.513300Z",
     "iopub.status.busy": "2025-03-22T22:15:24.512935Z",
     "iopub.status.idle": "2025-03-22T22:15:24.518283Z",
     "shell.execute_reply": "2025-03-22T22:15:24.517159Z",
     "shell.execute_reply.started": "2025-03-22T22:15:24.513278Z"
    }
   },
   "outputs": [],
   "source": [
    "litellm.success_callback = [\"langfuse\"]\n",
    "litellm.failure_callback = [\"langfuse\"]"
   ]
  },
  {
   "cell_type": "markdown",
   "id": "056b5a71-1166-4907-873f-5804e3fcedf7",
   "metadata": {},
   "source": [
    "# LiteLLM\n",
    "\n",
    "Reference: https://docs.litellm.ai/docs/observability/langfuse_integration"
   ]
  },
  {
   "cell_type": "code",
   "execution_count": 6,
   "id": "7bef87c1-2474-4f9c-8ab4-c62f779003a2",
   "metadata": {
    "execution": {
     "iopub.execute_input": "2025-03-22T22:28:35.432434Z",
     "iopub.status.busy": "2025-03-22T22:28:35.430346Z",
     "iopub.status.idle": "2025-03-22T22:28:35.896363Z",
     "shell.execute_reply": "2025-03-22T22:28:35.895075Z",
     "shell.execute_reply.started": "2025-03-22T22:28:35.432406Z"
    }
   },
   "outputs": [
    {
     "name": "stdout",
     "output_type": "stream",
     "text": [
      "ModelResponse(id='chatcmpl-bd157b71-c842-431a-90de-a20e12457c62', created=1742682515, model='gemini-1.5-flash-8b-latest', object='chat.completion', system_fingerprint=None, choices=[Choices(finish_reason='stop', index=0, message=Message(content='Beijing\\n', role='assistant', tool_calls=None, function_call=None, provider_specific_fields=None))], usage=Usage(completion_tokens=2, prompt_tokens=8, total_tokens=10, completion_tokens_details=None, prompt_tokens_details=None), vertex_ai_grounding_metadata=[], vertex_ai_safety_results=[[{'category': 'HARM_CATEGORY_HATE_SPEECH', 'probability': 'NEGLIGIBLE'}, {'category': 'HARM_CATEGORY_DANGEROUS_CONTENT', 'probability': 'NEGLIGIBLE'}, {'category': 'HARM_CATEGORY_HARASSMENT', 'probability': 'NEGLIGIBLE'}, {'category': 'HARM_CATEGORY_SEXUALLY_EXPLICIT', 'probability': 'NEGLIGIBLE'}]], vertex_ai_citation_metadata=[])\n"
     ]
    }
   ],
   "source": [
    "completion_response = litellm.completion(model=\"gemini/gemini-1.5-flash-8b-latest\",\n",
    "                                         messages=[{\"content\": \"What's the capital of China?\", \"role\": \"user\"}],\n",
    "                                         metadata={\n",
    "                                             \"trace_user_id\": \"ben\",\n",
    "                                             \"session_id\": \"test_session\",\n",
    "                                         }\n",
    "                                        )\n",
    "print(completion_response)"
   ]
  },
  {
   "cell_type": "code",
   "execution_count": null,
   "id": "9180501d-9da2-48b7-8bfe-ecb586d9672a",
   "metadata": {},
   "outputs": [],
   "source": []
  }
 ],
 "metadata": {
  "kernelspec": {
   "display_name": "Python 3 (ipykernel)",
   "language": "python",
   "name": "python3"
  },
  "language_info": {
   "codemirror_mode": {
    "name": "ipython",
    "version": 3
   },
   "file_extension": ".py",
   "mimetype": "text/x-python",
   "name": "python",
   "nbconvert_exporter": "python",
   "pygments_lexer": "ipython3",
   "version": "3.11.11"
  }
 },
 "nbformat": 4,
 "nbformat_minor": 5
}
