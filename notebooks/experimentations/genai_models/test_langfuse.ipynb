{
 "cells": [
  {
   "cell_type": "code",
   "execution_count": 1,
   "id": "6ee8e0bc-dd69-4d7d-aebb-e49985a6a5d1",
   "metadata": {
    "execution": {
     "iopub.execute_input": "2025-03-16T04:06:22.349182Z",
     "iopub.status.busy": "2025-03-16T04:06:22.348841Z",
     "iopub.status.idle": "2025-03-16T04:06:25.986494Z",
     "shell.execute_reply": "2025-03-16T04:06:25.984546Z",
     "shell.execute_reply.started": "2025-03-16T04:06:22.349157Z"
    },
    "scrolled": true
   },
   "outputs": [
    {
     "name": "stdout",
     "output_type": "stream",
     "text": [
      "Collecting langfuse\n",
      "  Downloading langfuse-2.59.7-py3-none-any.whl.metadata (3.2 kB)\n",
      "Requirement already satisfied: anyio<5.0.0,>=4.4.0 in /usr/local/lib/python3.11/site-packages (from langfuse) (4.8.0)\n",
      "Collecting backoff>=1.10.0 (from langfuse)\n",
      "  Downloading backoff-2.2.1-py3-none-any.whl.metadata (14 kB)\n",
      "Requirement already satisfied: httpx<1.0,>=0.15.4 in /usr/local/lib/python3.11/site-packages (from langfuse) (0.28.1)\n",
      "Requirement already satisfied: idna<4.0,>=3.7 in /usr/local/lib/python3.11/site-packages (from langfuse) (3.10)\n",
      "Requirement already satisfied: packaging<25.0,>=23.2 in /usr/local/lib/python3.11/site-packages (from langfuse) (24.2)\n",
      "Requirement already satisfied: pydantic<3.0,>=1.10.7 in /usr/local/lib/python3.11/site-packages (from langfuse) (2.10.6)\n",
      "Requirement already satisfied: requests<3,>=2 in /usr/local/lib/python3.11/site-packages (from langfuse) (2.32.3)\n",
      "Requirement already satisfied: wrapt<2.0,>=1.14 in /usr/local/lib/python3.11/site-packages (from langfuse) (1.17.2)\n",
      "Requirement already satisfied: sniffio>=1.1 in /usr/local/lib/python3.11/site-packages (from anyio<5.0.0,>=4.4.0->langfuse) (1.3.1)\n",
      "Requirement already satisfied: typing_extensions>=4.5 in /usr/local/lib/python3.11/site-packages (from anyio<5.0.0,>=4.4.0->langfuse) (4.12.2)\n",
      "Requirement already satisfied: certifi in /usr/local/lib/python3.11/site-packages (from httpx<1.0,>=0.15.4->langfuse) (2025.1.31)\n",
      "Requirement already satisfied: httpcore==1.* in /usr/local/lib/python3.11/site-packages (from httpx<1.0,>=0.15.4->langfuse) (1.0.7)\n",
      "Requirement already satisfied: h11<0.15,>=0.13 in /usr/local/lib/python3.11/site-packages (from httpcore==1.*->httpx<1.0,>=0.15.4->langfuse) (0.14.0)\n",
      "Requirement already satisfied: annotated-types>=0.6.0 in /usr/local/lib/python3.11/site-packages (from pydantic<3.0,>=1.10.7->langfuse) (0.7.0)\n",
      "Requirement already satisfied: pydantic-core==2.27.2 in /usr/local/lib/python3.11/site-packages (from pydantic<3.0,>=1.10.7->langfuse) (2.27.2)\n",
      "Requirement already satisfied: charset-normalizer<4,>=2 in /usr/local/lib/python3.11/site-packages (from requests<3,>=2->langfuse) (3.4.1)\n",
      "Requirement already satisfied: urllib3<3,>=1.21.1 in /usr/local/lib/python3.11/site-packages (from requests<3,>=2->langfuse) (2.3.0)\n",
      "Downloading langfuse-2.59.7-py3-none-any.whl (260 kB)\n",
      "\u001b[2K   \u001b[90m━━━━━━━━━━━━━━━━━━━━━━━━━━━━━━━━━━━━━━━━\u001b[0m \u001b[32m260.5/260.5 kB\u001b[0m \u001b[31m4.4 MB/s\u001b[0m eta \u001b[36m0:00:00\u001b[0m \u001b[36m0:00:01\u001b[0m\n",
      "\u001b[?25hDownloading backoff-2.2.1-py3-none-any.whl (15 kB)\n",
      "Installing collected packages: backoff, langfuse\n",
      "Successfully installed backoff-2.2.1 langfuse-2.59.7\n",
      "\u001b[33mWARNING: Running pip as the 'root' user can result in broken permissions and conflicting behaviour with the system package manager. It is recommended to use a virtual environment instead: https://pip.pypa.io/warnings/venv\u001b[0m\u001b[33m\n",
      "\u001b[0m\n",
      "\u001b[1m[\u001b[0m\u001b[34;49mnotice\u001b[0m\u001b[1;39;49m]\u001b[0m\u001b[39;49m A new release of pip is available: \u001b[0m\u001b[31;49m24.0\u001b[0m\u001b[39;49m -> \u001b[0m\u001b[32;49m25.0.1\u001b[0m\n",
      "\u001b[1m[\u001b[0m\u001b[34;49mnotice\u001b[0m\u001b[1;39;49m]\u001b[0m\u001b[39;49m To update, run: \u001b[0m\u001b[32;49mpip install --upgrade pip\u001b[0m\n"
     ]
    }
   ],
   "source": [
    "!pip install langfuse"
   ]
  },
  {
   "cell_type": "code",
   "execution_count": 3,
   "id": "1233e742-4523-48de-a321-a4dca984ef47",
   "metadata": {
    "execution": {
     "iopub.execute_input": "2025-03-16T04:07:30.478040Z",
     "iopub.status.busy": "2025-03-16T04:07:30.477600Z",
     "iopub.status.idle": "2025-03-16T04:07:31.212516Z",
     "shell.execute_reply": "2025-03-16T04:07:31.211474Z",
     "shell.execute_reply.started": "2025-03-16T04:07:30.478014Z"
    }
   },
   "outputs": [],
   "source": [
    "import langfuse"
   ]
  },
  {
   "cell_type": "code",
   "execution_count": 4,
   "id": "3b1e8d76-3da1-4e08-ad49-0fbc8e58b1a5",
   "metadata": {
    "execution": {
     "iopub.execute_input": "2025-03-16T04:07:35.084444Z",
     "iopub.status.busy": "2025-03-16T04:07:35.082769Z",
     "iopub.status.idle": "2025-03-16T04:07:36.892386Z",
     "shell.execute_reply": "2025-03-16T04:07:36.891174Z",
     "shell.execute_reply.started": "2025-03-16T04:07:35.084317Z"
    }
   },
   "outputs": [],
   "source": [
    "import litellm"
   ]
  },
  {
   "cell_type": "code",
   "execution_count": 5,
   "id": "7c11d8af-a3ae-4997-b402-e706a2c00d23",
   "metadata": {
    "execution": {
     "iopub.execute_input": "2025-03-16T04:07:37.130208Z",
     "iopub.status.busy": "2025-03-16T04:07:37.129690Z",
     "iopub.status.idle": "2025-03-16T04:07:37.136861Z",
     "shell.execute_reply": "2025-03-16T04:07:37.135031Z",
     "shell.execute_reply.started": "2025-03-16T04:07:37.130180Z"
    }
   },
   "outputs": [],
   "source": [
    "litellm.success_callback = [\"langfuse\"]\n",
    "litellm.failure_callback = [\"langfuse\"]"
   ]
  },
  {
   "cell_type": "markdown",
   "id": "056b5a71-1166-4907-873f-5804e3fcedf7",
   "metadata": {},
   "source": [
    "# LiteLLM"
   ]
  },
  {
   "cell_type": "code",
   "execution_count": 6,
   "id": "7bef87c1-2474-4f9c-8ab4-c62f779003a2",
   "metadata": {
    "execution": {
     "iopub.execute_input": "2025-03-16T04:08:08.071769Z",
     "iopub.status.busy": "2025-03-16T04:08:08.071328Z",
     "iopub.status.idle": "2025-03-16T04:08:09.232580Z",
     "shell.execute_reply": "2025-03-16T04:08:09.231439Z",
     "shell.execute_reply.started": "2025-03-16T04:08:08.071744Z"
    }
   },
   "outputs": [
    {
     "name": "stdout",
     "output_type": "stream",
     "text": [
      "ModelResponse(id='chatcmpl-bea0087a-76b3-4c51-815a-b51f1422a42c', created=1742098088, model='gemini-1.5-flash-8b-latest', object='chat.completion', system_fingerprint=None, choices=[Choices(finish_reason='stop', index=0, message=Message(content='Beijing\\n', role='assistant', tool_calls=None, function_call=None, provider_specific_fields=None))], usage=Usage(completion_tokens=2, prompt_tokens=8, total_tokens=10, completion_tokens_details=None, prompt_tokens_details=None), vertex_ai_grounding_metadata=[], vertex_ai_safety_results=[[{'category': 'HARM_CATEGORY_HATE_SPEECH', 'probability': 'NEGLIGIBLE'}, {'category': 'HARM_CATEGORY_DANGEROUS_CONTENT', 'probability': 'NEGLIGIBLE'}, {'category': 'HARM_CATEGORY_HARASSMENT', 'probability': 'NEGLIGIBLE'}, {'category': 'HARM_CATEGORY_SEXUALLY_EXPLICIT', 'probability': 'NEGLIGIBLE'}]], vertex_ai_citation_metadata=[])\n"
     ]
    }
   ],
   "source": [
    "import litellm\n",
    "completion_response = litellm.completion(model=\"gemini/gemini-1.5-flash-8b-latest\",\n",
    "                   messages=[{\"content\": \"What's the capital of China?\", \"role\": \"user\"}])\n",
    "print(completion_response)"
   ]
  },
  {
   "cell_type": "code",
   "execution_count": null,
   "id": "9180501d-9da2-48b7-8bfe-ecb586d9672a",
   "metadata": {},
   "outputs": [],
   "source": []
  }
 ],
 "metadata": {
  "kernelspec": {
   "display_name": "Python 3 (ipykernel)",
   "language": "python",
   "name": "python3"
  },
  "language_info": {
   "codemirror_mode": {
    "name": "ipython",
    "version": 3
   },
   "file_extension": ".py",
   "mimetype": "text/x-python",
   "name": "python",
   "nbconvert_exporter": "python",
   "pygments_lexer": "ipython3",
   "version": "3.11.11"
  }
 },
 "nbformat": 4,
 "nbformat_minor": 5
}
