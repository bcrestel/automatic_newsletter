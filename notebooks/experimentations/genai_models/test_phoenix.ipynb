{
 "cells": [
  {
   "cell_type": "code",
   "execution_count": 1,
   "id": "23857294-2da5-481e-bc85-15ebe09421bb",
   "metadata": {
    "execution": {
     "iopub.execute_input": "2025-03-16T03:32:26.814220Z",
     "iopub.status.busy": "2025-03-16T03:32:26.813892Z",
     "iopub.status.idle": "2025-03-16T03:32:29.954116Z",
     "shell.execute_reply": "2025-03-16T03:32:29.952386Z",
     "shell.execute_reply.started": "2025-03-16T03:32:26.814195Z"
    },
    "scrolled": true
   },
   "outputs": [
    {
     "name": "stdout",
     "output_type": "stream",
     "text": [
      "Requirement already satisfied: arize-phoenix-otel in /usr/local/lib/python3.11/site-packages (0.8.0)\n",
      "Requirement already satisfied: openinference-instrumentation>=0.1.21 in /usr/local/lib/python3.11/site-packages (from arize-phoenix-otel) (0.1.24)\n",
      "Requirement already satisfied: openinference-semantic-conventions>=0.1.9 in /usr/local/lib/python3.11/site-packages (from arize-phoenix-otel) (0.1.15)\n",
      "Requirement already satisfied: opentelemetry-exporter-otlp in /usr/local/lib/python3.11/site-packages (from arize-phoenix-otel) (1.31.0)\n",
      "Requirement already satisfied: opentelemetry-proto>=1.12.0 in /usr/local/lib/python3.11/site-packages (from arize-phoenix-otel) (1.31.0)\n",
      "Requirement already satisfied: opentelemetry-sdk in /usr/local/lib/python3.11/site-packages (from arize-phoenix-otel) (1.31.0)\n",
      "Requirement already satisfied: opentelemetry-semantic-conventions in /usr/local/lib/python3.11/site-packages (from arize-phoenix-otel) (0.52b0)\n",
      "Requirement already satisfied: typing-extensions<5,>=4.5 in /usr/local/lib/python3.11/site-packages (from arize-phoenix-otel) (4.12.2)\n",
      "Requirement already satisfied: opentelemetry-api in /usr/local/lib/python3.11/site-packages (from openinference-instrumentation>=0.1.21->arize-phoenix-otel) (1.31.0)\n",
      "Requirement already satisfied: protobuf<6.0,>=5.0 in /usr/local/lib/python3.11/site-packages (from opentelemetry-proto>=1.12.0->arize-phoenix-otel) (5.29.3)\n",
      "Requirement already satisfied: opentelemetry-exporter-otlp-proto-grpc==1.31.0 in /usr/local/lib/python3.11/site-packages (from opentelemetry-exporter-otlp->arize-phoenix-otel) (1.31.0)\n",
      "Requirement already satisfied: opentelemetry-exporter-otlp-proto-http==1.31.0 in /usr/local/lib/python3.11/site-packages (from opentelemetry-exporter-otlp->arize-phoenix-otel) (1.31.0)\n",
      "Requirement already satisfied: deprecated>=1.2.6 in /usr/local/lib/python3.11/site-packages (from opentelemetry-exporter-otlp-proto-grpc==1.31.0->opentelemetry-exporter-otlp->arize-phoenix-otel) (1.2.18)\n",
      "Requirement already satisfied: googleapis-common-protos~=1.52 in /usr/local/lib/python3.11/site-packages (from opentelemetry-exporter-otlp-proto-grpc==1.31.0->opentelemetry-exporter-otlp->arize-phoenix-otel) (1.66.0)\n",
      "Requirement already satisfied: grpcio<2.0.0,>=1.63.2 in /usr/local/lib/python3.11/site-packages (from opentelemetry-exporter-otlp-proto-grpc==1.31.0->opentelemetry-exporter-otlp->arize-phoenix-otel) (1.70.0)\n",
      "Requirement already satisfied: opentelemetry-exporter-otlp-proto-common==1.31.0 in /usr/local/lib/python3.11/site-packages (from opentelemetry-exporter-otlp-proto-grpc==1.31.0->opentelemetry-exporter-otlp->arize-phoenix-otel) (1.31.0)\n",
      "Requirement already satisfied: requests~=2.7 in /usr/local/lib/python3.11/site-packages (from opentelemetry-exporter-otlp-proto-http==1.31.0->opentelemetry-exporter-otlp->arize-phoenix-otel) (2.32.3)\n",
      "Requirement already satisfied: importlib-metadata<8.7.0,>=6.0 in /usr/local/lib/python3.11/site-packages (from opentelemetry-api->openinference-instrumentation>=0.1.21->arize-phoenix-otel) (8.6.1)\n",
      "Requirement already satisfied: wrapt<2,>=1.10 in /usr/local/lib/python3.11/site-packages (from deprecated>=1.2.6->opentelemetry-exporter-otlp-proto-grpc==1.31.0->opentelemetry-exporter-otlp->arize-phoenix-otel) (1.17.2)\n",
      "Requirement already satisfied: zipp>=3.20 in /usr/local/lib/python3.11/site-packages (from importlib-metadata<8.7.0,>=6.0->opentelemetry-api->openinference-instrumentation>=0.1.21->arize-phoenix-otel) (3.21.0)\n",
      "Requirement already satisfied: charset-normalizer<4,>=2 in /usr/local/lib/python3.11/site-packages (from requests~=2.7->opentelemetry-exporter-otlp-proto-http==1.31.0->opentelemetry-exporter-otlp->arize-phoenix-otel) (3.4.1)\n",
      "Requirement already satisfied: idna<4,>=2.5 in /usr/local/lib/python3.11/site-packages (from requests~=2.7->opentelemetry-exporter-otlp-proto-http==1.31.0->opentelemetry-exporter-otlp->arize-phoenix-otel) (3.10)\n",
      "Requirement already satisfied: urllib3<3,>=1.21.1 in /usr/local/lib/python3.11/site-packages (from requests~=2.7->opentelemetry-exporter-otlp-proto-http==1.31.0->opentelemetry-exporter-otlp->arize-phoenix-otel) (2.3.0)\n",
      "Requirement already satisfied: certifi>=2017.4.17 in /usr/local/lib/python3.11/site-packages (from requests~=2.7->opentelemetry-exporter-otlp-proto-http==1.31.0->opentelemetry-exporter-otlp->arize-phoenix-otel) (2025.1.31)\n",
      "\u001b[33mWARNING: Running pip as the 'root' user can result in broken permissions and conflicting behaviour with the system package manager. It is recommended to use a virtual environment instead: https://pip.pypa.io/warnings/venv\u001b[0m\u001b[33m\n",
      "\u001b[0m\n",
      "\u001b[1m[\u001b[0m\u001b[34;49mnotice\u001b[0m\u001b[1;39;49m]\u001b[0m\u001b[39;49m A new release of pip is available: \u001b[0m\u001b[31;49m24.0\u001b[0m\u001b[39;49m -> \u001b[0m\u001b[32;49m25.0.1\u001b[0m\n",
      "\u001b[1m[\u001b[0m\u001b[34;49mnotice\u001b[0m\u001b[1;39;49m]\u001b[0m\u001b[39;49m To update, run: \u001b[0m\u001b[32;49mpip install --upgrade pip\u001b[0m\n"
     ]
    }
   ],
   "source": [
    "!pip install arize-phoenix-otel"
   ]
  },
  {
   "cell_type": "code",
   "execution_count": 2,
   "id": "13183c24-b164-4c5f-a826-c2feb5f3fcd2",
   "metadata": {
    "execution": {
     "iopub.execute_input": "2025-03-16T03:33:08.113794Z",
     "iopub.status.busy": "2025-03-16T03:33:08.113426Z",
     "iopub.status.idle": "2025-03-16T03:33:08.121653Z",
     "shell.execute_reply": "2025-03-16T03:33:08.119519Z",
     "shell.execute_reply.started": "2025-03-16T03:33:08.113765Z"
    }
   },
   "outputs": [],
   "source": [
    "import os\n",
    "\n",
    "# Add Phoenix API Key for tracing\n",
    "PHOENIX_API_KEY = os.environ[\"PHOENIX_API_KEY\"]\n",
    "os.environ[\"PHOENIX_CLIENT_HEADERS\"] = f\"api_key={PHOENIX_API_KEY}\"\n",
    "os.environ[\"PHOENIX_COLLECTOR_ENDPOINT\"] = \"https://app.phoenix.arize.com\""
   ]
  },
  {
   "cell_type": "code",
   "execution_count": 3,
   "id": "07f455b8-ab8a-4e10-92e3-02f3d59d406e",
   "metadata": {
    "execution": {
     "iopub.execute_input": "2025-03-16T03:33:19.320145Z",
     "iopub.status.busy": "2025-03-16T03:33:19.319129Z",
     "iopub.status.idle": "2025-03-16T03:33:22.988888Z",
     "shell.execute_reply": "2025-03-16T03:33:22.987360Z",
     "shell.execute_reply.started": "2025-03-16T03:33:19.320111Z"
    },
    "scrolled": true
   },
   "outputs": [
    {
     "name": "stdout",
     "output_type": "stream",
     "text": [
      "Collecting openinference-instrumentation-litellm\n",
      "  Downloading openinference_instrumentation_litellm-0.1.12-py3-none-any.whl.metadata (5.4 kB)\n",
      "Requirement already satisfied: openinference-instrumentation>=0.1.17 in /usr/local/lib/python3.11/site-packages (from openinference-instrumentation-litellm) (0.1.24)\n",
      "Requirement already satisfied: openinference-semantic-conventions>=0.1.9 in /usr/local/lib/python3.11/site-packages (from openinference-instrumentation-litellm) (0.1.15)\n",
      "Requirement already satisfied: opentelemetry-api in /usr/local/lib/python3.11/site-packages (from openinference-instrumentation-litellm) (1.31.0)\n",
      "Collecting opentelemetry-instrumentation (from openinference-instrumentation-litellm)\n",
      "  Downloading opentelemetry_instrumentation-0.52b0-py3-none-any.whl.metadata (6.8 kB)\n",
      "Requirement already satisfied: opentelemetry-sdk in /usr/local/lib/python3.11/site-packages (from openinference-instrumentation-litellm) (1.31.0)\n",
      "Requirement already satisfied: setuptools in /usr/local/lib/python3.11/site-packages (from openinference-instrumentation-litellm) (65.5.1)\n",
      "Requirement already satisfied: wrapt in /usr/local/lib/python3.11/site-packages (from openinference-instrumentation-litellm) (1.17.2)\n",
      "Requirement already satisfied: deprecated>=1.2.6 in /usr/local/lib/python3.11/site-packages (from opentelemetry-api->openinference-instrumentation-litellm) (1.2.18)\n",
      "Requirement already satisfied: importlib-metadata<8.7.0,>=6.0 in /usr/local/lib/python3.11/site-packages (from opentelemetry-api->openinference-instrumentation-litellm) (8.6.1)\n",
      "Requirement already satisfied: opentelemetry-semantic-conventions==0.52b0 in /usr/local/lib/python3.11/site-packages (from opentelemetry-instrumentation->openinference-instrumentation-litellm) (0.52b0)\n",
      "Requirement already satisfied: packaging>=18.0 in /usr/local/lib/python3.11/site-packages (from opentelemetry-instrumentation->openinference-instrumentation-litellm) (24.2)\n",
      "Requirement already satisfied: typing-extensions>=3.7.4 in /usr/local/lib/python3.11/site-packages (from opentelemetry-sdk->openinference-instrumentation-litellm) (4.12.2)\n",
      "Requirement already satisfied: zipp>=3.20 in /usr/local/lib/python3.11/site-packages (from importlib-metadata<8.7.0,>=6.0->opentelemetry-api->openinference-instrumentation-litellm) (3.21.0)\n",
      "Downloading openinference_instrumentation_litellm-0.1.12-py3-none-any.whl (11 kB)\n",
      "Downloading opentelemetry_instrumentation-0.52b0-py3-none-any.whl (31 kB)\n",
      "Installing collected packages: opentelemetry-instrumentation, openinference-instrumentation-litellm\n",
      "Successfully installed openinference-instrumentation-litellm-0.1.12 opentelemetry-instrumentation-0.52b0\n",
      "\u001b[33mWARNING: Running pip as the 'root' user can result in broken permissions and conflicting behaviour with the system package manager. It is recommended to use a virtual environment instead: https://pip.pypa.io/warnings/venv\u001b[0m\u001b[33m\n",
      "\u001b[0m\n",
      "\u001b[1m[\u001b[0m\u001b[34;49mnotice\u001b[0m\u001b[1;39;49m]\u001b[0m\u001b[39;49m A new release of pip is available: \u001b[0m\u001b[31;49m24.0\u001b[0m\u001b[39;49m -> \u001b[0m\u001b[32;49m25.0.1\u001b[0m\n",
      "\u001b[1m[\u001b[0m\u001b[34;49mnotice\u001b[0m\u001b[1;39;49m]\u001b[0m\u001b[39;49m To update, run: \u001b[0m\u001b[32;49mpip install --upgrade pip\u001b[0m\n"
     ]
    }
   ],
   "source": [
    "!pip install openinference-instrumentation-litellm"
   ]
  },
  {
   "cell_type": "code",
   "execution_count": 4,
   "id": "1ab711f2-ffd4-4bae-81a1-1733305f57f9",
   "metadata": {
    "execution": {
     "iopub.execute_input": "2025-03-16T03:33:36.055485Z",
     "iopub.status.busy": "2025-03-16T03:33:36.055045Z",
     "iopub.status.idle": "2025-03-16T03:33:41.789970Z",
     "shell.execute_reply": "2025-03-16T03:33:41.788873Z",
     "shell.execute_reply.started": "2025-03-16T03:33:36.055451Z"
    }
   },
   "outputs": [
    {
     "name": "stdout",
     "output_type": "stream",
     "text": [
      "🔭 OpenTelemetry Tracing Details 🔭\n",
      "|  Phoenix Project: my-llm-app\n",
      "|  Span Processor: SimpleSpanProcessor\n",
      "|  Collector Endpoint: https://app.phoenix.arize.com/v1/traces\n",
      "|  Transport: HTTP + protobuf\n",
      "|  Transport Headers: {'api_key': '****', 'authorization': '****'}\n",
      "|  \n",
      "|  Using a default SpanProcessor. `add_span_processor` will overwrite this default.\n",
      "|  \n",
      "|  `register` has set this TracerProvider as the global OpenTelemetry default.\n",
      "|  To disable this behavior, call `register` with `set_global_tracer_provider=False`.\n",
      "\n"
     ]
    }
   ],
   "source": [
    "from phoenix.otel import register\n",
    "\n",
    "# configure the Phoenix tracer\n",
    "tracer_provider = register(\n",
    "  project_name=\"my-llm-app\", # Default is 'default'\n",
    "  auto_instrument=True # Auto-instrument your app based on installed OI dependencies\n",
    ")"
   ]
  },
  {
   "cell_type": "markdown",
   "id": "1cf0f573-500b-4dc6-8f23-8a444939bb47",
   "metadata": {},
   "source": [
    "# LiteLLM"
   ]
  },
  {
   "cell_type": "code",
   "execution_count": 5,
   "id": "7808714b-c4fa-43e0-a10c-38a6984a2745",
   "metadata": {
    "execution": {
     "iopub.execute_input": "2025-03-16T03:34:32.586315Z",
     "iopub.status.busy": "2025-03-16T03:34:32.584807Z",
     "iopub.status.idle": "2025-03-16T03:34:33.489739Z",
     "shell.execute_reply": "2025-03-16T03:34:33.488936Z",
     "shell.execute_reply.started": "2025-03-16T03:34:32.586257Z"
    }
   },
   "outputs": [
    {
     "name": "stdout",
     "output_type": "stream",
     "text": [
      "ModelResponse(id='chatcmpl-4ca57505-5c6d-4c54-9351-03e7808c4827', created=1742096072, model='gemini-1.5-flash-8b-latest', object='chat.completion', system_fingerprint=None, choices=[Choices(finish_reason='stop', index=0, message=Message(content='Beijing\\n', role='assistant', tool_calls=None, function_call=None, provider_specific_fields=None))], usage=Usage(completion_tokens=2, prompt_tokens=8, total_tokens=10, completion_tokens_details=None, prompt_tokens_details=None), vertex_ai_grounding_metadata=[], vertex_ai_safety_results=[[{'category': 'HARM_CATEGORY_HATE_SPEECH', 'probability': 'NEGLIGIBLE'}, {'category': 'HARM_CATEGORY_DANGEROUS_CONTENT', 'probability': 'NEGLIGIBLE'}, {'category': 'HARM_CATEGORY_HARASSMENT', 'probability': 'NEGLIGIBLE'}, {'category': 'HARM_CATEGORY_SEXUALLY_EXPLICIT', 'probability': 'NEGLIGIBLE'}]], vertex_ai_citation_metadata=[])\n"
     ]
    }
   ],
   "source": [
    "import litellm\n",
    "completion_response = litellm.completion(model=\"gemini/gemini-1.5-flash-8b-latest\",\n",
    "                   messages=[{\"content\": \"What's the capital of China?\", \"role\": \"user\"}])\n",
    "print(completion_response)"
   ]
  },
  {
   "cell_type": "markdown",
   "id": "54a277fc-7ce7-4827-86d3-2ef641172c00",
   "metadata": {},
   "source": [
    "# test"
   ]
  },
  {
   "cell_type": "code",
   "execution_count": 9,
   "id": "eb75b372-94bc-4343-8cfa-a9caf9282a23",
   "metadata": {
    "execution": {
     "iopub.execute_input": "2025-03-16T03:38:56.700191Z",
     "iopub.status.busy": "2025-03-16T03:38:56.699739Z",
     "iopub.status.idle": "2025-03-16T03:38:56.710863Z",
     "shell.execute_reply": "2025-03-16T03:38:56.709170Z",
     "shell.execute_reply.started": "2025-03-16T03:38:56.700157Z"
    }
   },
   "outputs": [
    {
     "data": {
      "text/plain": [
       "['gemini/gemini-1.5-flash-8b-latest',\n",
       " 'gemini/gemini-1.5-flash-8b-001',\n",
       " 'gemini/gemini-1.5-flash-8b-exp-0924',\n",
       " 'gemini/gemini-1.5-flash-8b-exp-0827',\n",
       " 'openrouter/google/gemini-flash-1.5-8b-exp',\n",
       " 'groq/gemma2-9b-it',\n",
       " 'openrouter/google/gemma-2-9b-it:free',\n",
       " 'mistal/ministral-8b-2410',\n",
       " 'groq/llama-3.1-8b-instant',\n",
       " 'openrouter/meta-llama/llama-3.1-8b-instruct:free',\n",
       " 'groq/llama-3-8b-8192',\n",
       " 'openrouter/meta-llama/llama-3-8b-instruct:free']"
      ]
     },
     "execution_count": 9,
     "metadata": {},
     "output_type": "execute_result"
    }
   ],
   "source": [
    "from src.genai_model.genai_model import GenAIModel\n",
    "models_small = GenAIModel(model_type=\"small\")\n",
    "models_small.list_of_models"
   ]
  },
  {
   "cell_type": "code",
   "execution_count": 12,
   "id": "576749c3-ea04-4698-9914-ac641100ea38",
   "metadata": {
    "execution": {
     "iopub.execute_input": "2025-03-16T03:40:06.212049Z",
     "iopub.status.busy": "2025-03-16T03:40:06.211731Z",
     "iopub.status.idle": "2025-03-16T03:40:06.842397Z",
     "shell.execute_reply": "2025-03-16T03:40:06.841154Z",
     "shell.execute_reply.started": "2025-03-16T03:40:06.212025Z"
    }
   },
   "outputs": [
    {
     "data": {
      "text/plain": [
       "'Beijing\\n'"
      ]
     },
     "execution_count": 12,
     "metadata": {},
     "output_type": "execute_result"
    }
   ],
   "source": [
    "models_small.completion_str(\n",
    "    user_prompt = \"What's the capital of China?\",\n",
    "    parameters = {\"temperature\": 0.2, \"top_p\": 0.5}\n",
    ")"
   ]
  },
  {
   "cell_type": "code",
   "execution_count": null,
   "id": "c5e09a02-ffb8-4b01-9457-28b3b1ef51a6",
   "metadata": {},
   "outputs": [],
   "source": []
  }
 ],
 "metadata": {
  "kernelspec": {
   "display_name": "Python 3 (ipykernel)",
   "language": "python",
   "name": "python3"
  },
  "language_info": {
   "codemirror_mode": {
    "name": "ipython",
    "version": 3
   },
   "file_extension": ".py",
   "mimetype": "text/x-python",
   "name": "python",
   "nbconvert_exporter": "python",
   "pygments_lexer": "ipython3",
   "version": "3.11.11"
  }
 },
 "nbformat": 4,
 "nbformat_minor": 5
}
