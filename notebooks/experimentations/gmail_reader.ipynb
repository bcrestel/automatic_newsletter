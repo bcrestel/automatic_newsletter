{
 "cells": [
  {
   "cell_type": "markdown",
   "id": "441e0228-9605-449a-8b84-96d323894c0e",
   "metadata": {},
   "source": [
    "Test for gmail API reader\n",
    "Following instructions on that page: https://developers.google.com/gmail/api/quickstart/python"
   ]
  },
  {
   "cell_type": "code",
   "execution_count": 1,
   "id": "158eab49-32c3-442b-82ad-5c64dab04ede",
   "metadata": {
    "execution": {
     "iopub.execute_input": "2024-12-01T03:54:21.316043Z",
     "iopub.status.busy": "2024-12-01T03:54:21.314279Z",
     "iopub.status.idle": "2024-12-01T03:54:21.621631Z",
     "shell.execute_reply": "2024-12-01T03:54:21.620933Z",
     "shell.execute_reply.started": "2024-12-01T03:54:21.316004Z"
    }
   },
   "outputs": [],
   "source": [
    "import os.path\n",
    "\n",
    "from google.auth.transport.requests import Request\n",
    "from google.oauth2.credentials import Credentials\n",
    "from google_auth_oauthlib.flow import InstalledAppFlow\n",
    "from googleapiclient.discovery import build\n",
    "from googleapiclient.errors import HttpError"
   ]
  },
  {
   "cell_type": "code",
   "execution_count": 2,
   "id": "905dd37f-2809-43d9-8240-bb9588e7b404",
   "metadata": {
    "execution": {
     "iopub.execute_input": "2024-12-01T03:54:22.075277Z",
     "iopub.status.busy": "2024-12-01T03:54:22.074211Z",
     "iopub.status.idle": "2024-12-01T03:54:22.082548Z",
     "shell.execute_reply": "2024-12-01T03:54:22.081160Z",
     "shell.execute_reply.started": "2024-12-01T03:54:22.075246Z"
    }
   },
   "outputs": [],
   "source": [
    "SCOPES = [\"https://www.googleapis.com/auth/gmail.readonly\"]"
   ]
  },
  {
   "cell_type": "code",
   "execution_count": 3,
   "id": "f818a2d3-c1a0-4d08-a505-567fbd9e0efe",
   "metadata": {
    "execution": {
     "iopub.execute_input": "2024-12-01T03:54:22.460173Z",
     "iopub.status.busy": "2024-12-01T03:54:22.459687Z",
     "iopub.status.idle": "2024-12-01T03:54:22.479060Z",
     "shell.execute_reply": "2024-12-01T03:54:22.477306Z",
     "shell.execute_reply.started": "2024-12-01T03:54:22.460147Z"
    }
   },
   "outputs": [],
   "source": [
    "creds = None\n",
    "json_file = \"../../secrets_vault/token.json\"\n",
    "if os.path.exists(json_file):\n",
    "    creds = Credentials.from_authorized_user_file(json_file, SCOPES)"
   ]
  },
  {
   "cell_type": "markdown",
   "id": "bd82b2b2-9c25-4c68-a7ed-8ec7ba48ff90",
   "metadata": {},
   "source": [
    "# Create my credentials (token.json) if needed"
   ]
  },
  {
   "cell_type": "code",
   "execution_count": 5,
   "id": "0183eec5-c220-4152-9f72-1359ff5d2e9d",
   "metadata": {
    "execution": {
     "iopub.execute_input": "2024-11-29T03:25:01.942456Z",
     "iopub.status.busy": "2024-11-29T03:25:01.941466Z",
     "iopub.status.idle": "2024-11-29T03:25:24.221898Z",
     "shell.execute_reply": "2024-11-29T03:25:24.221005Z",
     "shell.execute_reply.started": "2024-11-29T03:25:01.942423Z"
    }
   },
   "outputs": [
    {
     "name": "stdout",
     "output_type": "stream",
     "text": [
      "\u001b[?1l\u001b>Please visit this URL to authorize this application: https://accounts.google.com/o/oauth2/auth?response_type=code&client_id=1085373024194-n8rtj5ob0b8a6r96am65f846r0m1m6je.apps.googleusercontent.com&redirect_uri=http%3A%2F%2Flocalhost%3A8080%2F&scope=https%3A%2F%2Fwww.googleapis.com%2Fauth%2Fgmail.readonly&state=urFUzAv4jK8VyBBsHX27XY0KEEq9h9&access_type=offline                      \u001b[5;1H                                                                                \u001b[6;1H                                                                                \u001b[7;1H                                                                                \u001b[8;1H                                                                                \u001b[9;1H                                                                                \u001b[10;1H                                                                                \u001b[11;1H                                                                                \u001b[12;1H                                                                                \u001b[13;1H                                                                                \u001b[14;1H                                                                                \u001b[15;1H                                                                                \u001b[16;1H                                                                                \u001b[17;1H                                                                                \u001b[18;1H                                                                                \u001b[19;1H                                                                                \u001b[20;1H                                                                                \u001b[21;1H                                                                                \u001b[22;1H                                                                                \u001b[23;1H                                                                                \u001b[24;1H                                                                              \u001b[4h\u001b[37m\u001b[40m \u001b[4l\u001b[H\u001b[m\u001b[m\u001b[37m\u001b[40m\u001b[m\u001b[m\u001b[21B\u001b[33m\u001b[44m\u001b[1mGetting https://accounts.google.com/o/oauth2/auth?response_type=code&client_id= \u001b[22;80H\u001b[m\u001b[m\n"
     ]
    }
   ],
   "source": [
    "if creds is None:\n",
    "    flow = InstalledAppFlow.from_client_secrets_file(\"credentials.json\", SCOPES)\n",
    "    creds = flow.run_local_server(port=8080, bind_addr='0.0.0.0')\n",
    "    with open(\"token.json\", \"w\") as token:\n",
    "        token.write(creds.to_json())"
   ]
  },
  {
   "cell_type": "markdown",
   "id": "1a04637d-4f32-4249-940f-be464963cdad",
   "metadata": {},
   "source": [
    "# Test the Gmail API"
   ]
  },
  {
   "cell_type": "code",
   "execution_count": 4,
   "id": "57bd05db-93cd-43e6-98ae-236d2c7d4aab",
   "metadata": {
    "execution": {
     "iopub.execute_input": "2024-12-01T03:54:27.273797Z",
     "iopub.status.busy": "2024-12-01T03:54:27.273441Z",
     "iopub.status.idle": "2024-12-01T03:54:27.291429Z",
     "shell.execute_reply": "2024-12-01T03:54:27.289367Z",
     "shell.execute_reply.started": "2024-12-01T03:54:27.273770Z"
    }
   },
   "outputs": [],
   "source": [
    "from googleapiclient.discovery import build\n",
    "\n",
    "# Build the Gmail API service\n",
    "service = build('gmail', 'v1', credentials=creds)"
   ]
  },
  {
   "cell_type": "code",
   "execution_count": 89,
   "id": "ca0b44c5-7bb5-490f-b522-5043e802dd04",
   "metadata": {
    "execution": {
     "iopub.execute_input": "2024-11-30T04:02:19.228388Z",
     "iopub.status.busy": "2024-11-30T04:02:19.228042Z",
     "iopub.status.idle": "2024-11-30T04:02:19.485972Z",
     "shell.execute_reply": "2024-11-30T04:02:19.483780Z",
     "shell.execute_reply.started": "2024-11-30T04:02:19.228364Z"
    }
   },
   "outputs": [
    {
     "name": "stdout",
     "output_type": "stream",
     "text": [
      "By default, you only receive 7 messages.\n"
     ]
    }
   ],
   "source": [
    "results = service.users().messages().list(userId='me').execute()\n",
    "messages = results.get('messages', [])\n",
    "print(f\"By default, you only receive {len(messages)} messages.\")"
   ]
  },
  {
   "cell_type": "code",
   "execution_count": 90,
   "id": "5e7d100d-4039-4173-8a3b-73538071aa38",
   "metadata": {
    "execution": {
     "iopub.execute_input": "2024-11-30T04:02:19.577129Z",
     "iopub.status.busy": "2024-11-30T04:02:19.576644Z",
     "iopub.status.idle": "2024-11-30T04:02:19.718126Z",
     "shell.execute_reply": "2024-11-30T04:02:19.717284Z",
     "shell.execute_reply.started": "2024-11-30T04:02:19.577103Z"
    }
   },
   "outputs": [
    {
     "name": "stdout",
     "output_type": "stream",
     "text": [
      "Now we have received 5 messages.\n"
     ]
    }
   ],
   "source": [
    "results = service.users().messages().list(userId='me', maxResults=5).execute()\n",
    "messages = results.get('messages', [])\n",
    "print(f\"Now we have received {len(messages)} messages.\")"
   ]
  },
  {
   "cell_type": "code",
   "execution_count": 92,
   "id": "a5ae0be1-c547-4d5c-93e4-25bd22b9cf2d",
   "metadata": {
    "execution": {
     "iopub.execute_input": "2024-11-30T04:03:00.344226Z",
     "iopub.status.busy": "2024-11-30T04:03:00.343698Z",
     "iopub.status.idle": "2024-11-30T04:03:00.356922Z",
     "shell.execute_reply": "2024-11-30T04:03:00.354782Z",
     "shell.execute_reply.started": "2024-11-30T04:03:00.344197Z"
    }
   },
   "outputs": [
    {
     "data": {
      "text/plain": [
       "{'id': '19378a89533c25da', 'threadId': '19378a89533c25da'}"
      ]
     },
     "execution_count": 92,
     "metadata": {},
     "output_type": "execute_result"
    }
   ],
   "source": [
    "messages[0]"
   ]
  },
  {
   "cell_type": "code",
   "execution_count": 94,
   "id": "47c22be2-5877-447e-bc68-05a43101f463",
   "metadata": {
    "execution": {
     "iopub.execute_input": "2024-11-30T04:03:52.540746Z",
     "iopub.status.busy": "2024-11-30T04:03:52.540344Z",
     "iopub.status.idle": "2024-11-30T04:03:52.705841Z",
     "shell.execute_reply": "2024-11-30T04:03:52.703863Z",
     "shell.execute_reply.started": "2024-11-30T04:03:52.540719Z"
    }
   },
   "outputs": [
    {
     "name": "stdout",
     "output_type": "stream",
     "text": [
      "Delivered-To\n",
      "Received\n",
      "X-Google-Smtp-Source\n",
      "X-Received\n",
      "ARC-Seal\n",
      "ARC-Message-Signature\n",
      "ARC-Authentication-Results\n",
      "Return-Path\n",
      "Received\n",
      "Received-SPF\n",
      "Authentication-Results\n",
      "Received\n",
      "DKIM-Signature\n",
      "DKIM-Signature\n",
      "Return-Path\n",
      "X-HS-Cid\n",
      "List-Unsubscribe\n",
      "Date\n",
      "From\n",
      "Reply-To\n",
      "To\n",
      "Message-ID\n",
      "Subject\n",
      "MIME-Version\n",
      "Content-Type\n",
      "Precedence\n",
      "X-Report-Abuse-To\n",
      "List-Unsubscribe-Post\n",
      "Feedback-ID\n"
     ]
    }
   ],
   "source": [
    "# Check the list of possible headers in the email\n",
    "message = service.users().messages().get(userId='me', id=messages[0]['id']).execute()\n",
    "for hd in message['payload']['headers']:\n",
    "    print(hd['name'])"
   ]
  },
  {
   "cell_type": "code",
   "execution_count": 5,
   "id": "53d56187-ad53-4df0-9e19-50f52295ef32",
   "metadata": {
    "execution": {
     "iopub.execute_input": "2024-12-01T03:54:36.180625Z",
     "iopub.status.busy": "2024-12-01T03:54:36.179136Z",
     "iopub.status.idle": "2024-12-01T03:54:37.476283Z",
     "shell.execute_reply": "2024-12-01T03:54:37.474820Z",
     "shell.execute_reply.started": "2024-12-01T03:54:36.180581Z"
    }
   },
   "outputs": [
    {
     "name": "stdout",
     "output_type": "stream",
     "text": [
      "==========\n",
      "Subject: Alibaba new model 🌐, Allen AI Open Instruct 🧑‍🏫, xAI app 📱\n",
      "From: TLDR AI <dan@tldrnewsletter.com>\n",
      "Date: Fri, 29 Nov 2024 14:16:46 +0000\n",
      "ID: 19378480b1d8b929\n",
      "==========\n",
      "Subject: Bluesky called out by the EU 📢, Gold-based cancer drug ⭐️, Buying Chrome 🤝\n",
      "From: TLDR <dan@tldrnewsletter.com>\n",
      "Date: Fri, 29 Nov 2024 11:28:59 +0000\n",
      "ID: 19377ae6d00bdb0c\n",
      "==========\n",
      "Subject: Misunderstood PMs 🤔, being data-informed not data-driven 📊, defining an active user 🚴‍♀️\n",
      "From: TLDR Product <dan@tldrnewsletter.com>\n",
      "Date: Fri, 29 Nov 2024 11:06:34 +0000\n",
      "ID: 1937799e4ca5f9fc\n",
      "==========\n",
      "Subject: TLDR AI - Confirm your signup\n",
      "From: TLDR <dan@tldrnewsletter.com>\n",
      "Date: Fri, 29 Nov 2024 03:30:55 +0000\n",
      "ID: 19375f8c0ee524ef\n"
     ]
    }
   ],
   "source": [
    "#query = 'after:2024/11/29 before:2023/12/31 from:dan@tldrnewsletter.com'\n",
    "query = 'after:2024/11/27 from:dan@tldrnewsletter.com'\n",
    "results = service.users().messages().list(userId='me', q=query).execute()\n",
    "messages = results.get('messages', [])\n",
    "for msg in messages:\n",
    "    print('='*10)\n",
    "    msg_id = msg['id']\n",
    "    message = service.users().messages().get(userId='me', id=msg_id).execute()\n",
    "\n",
    "    # Extract headers\n",
    "    headers = message['payload']['headers']\n",
    "    subject = next(header['value'] for header in headers if header['name'] == 'Subject')\n",
    "    sender = next(header['value'] for header in headers if header['name'] == 'From')\n",
    "    date = next(header['value'] for header in headers if header['name'] == 'Date')\n",
    "    email_id = msg['id']\n",
    "    \n",
    "\n",
    "    print(f\"Subject: {subject}\")\n",
    "    print(f\"From: {sender}\")\n",
    "    print(f\"Date: {date}\")\n",
    "    print(f\"ID: {email_id}\")"
   ]
  },
  {
   "cell_type": "markdown",
   "id": "cd0d32e9-6c9f-4c13-a0d0-5b75b2978bc8",
   "metadata": {
    "jp-MarkdownHeadingCollapsed": true
   },
   "source": [
    "# Parse a message with simple mimeType"
   ]
  },
  {
   "cell_type": "code",
   "execution_count": 116,
   "id": "4e2b48bd-646d-40c5-a048-64430ba3b766",
   "metadata": {
    "execution": {
     "iopub.execute_input": "2024-11-30T04:05:57.540093Z",
     "iopub.status.busy": "2024-11-30T04:05:57.538368Z",
     "iopub.status.idle": "2024-11-30T04:05:57.671143Z",
     "shell.execute_reply": "2024-11-30T04:05:57.670399Z",
     "shell.execute_reply.started": "2024-11-30T04:05:57.539713Z"
    }
   },
   "outputs": [],
   "source": [
    "# Get a single message\n",
    "email_id = '19375f8c0ee524ef'\n",
    "message = service.users().messages().get(userId='me', id=email_id).execute()"
   ]
  },
  {
   "cell_type": "markdown",
   "id": "8de6db87-021a-421e-81fb-dfb77b70e3f1",
   "metadata": {},
   "source": [
    "## message"
   ]
  },
  {
   "cell_type": "code",
   "execution_count": 117,
   "id": "7ef60506-28d3-4b80-b37b-0565770a215f",
   "metadata": {
    "execution": {
     "iopub.execute_input": "2024-11-30T04:05:57.672616Z",
     "iopub.status.busy": "2024-11-30T04:05:57.672316Z",
     "iopub.status.idle": "2024-11-30T04:05:57.682916Z",
     "shell.execute_reply": "2024-11-30T04:05:57.681412Z",
     "shell.execute_reply.started": "2024-11-30T04:05:57.672572Z"
    }
   },
   "outputs": [
    {
     "data": {
      "text/plain": [
       "dict"
      ]
     },
     "execution_count": 117,
     "metadata": {},
     "output_type": "execute_result"
    }
   ],
   "source": [
    "type(message)"
   ]
  },
  {
   "cell_type": "code",
   "execution_count": 118,
   "id": "9a53c474-d08b-4a97-83ec-7ba79df73e54",
   "metadata": {
    "execution": {
     "iopub.execute_input": "2024-11-30T04:05:57.685934Z",
     "iopub.status.busy": "2024-11-30T04:05:57.685505Z",
     "iopub.status.idle": "2024-11-30T04:05:57.704577Z",
     "shell.execute_reply": "2024-11-30T04:05:57.701272Z",
     "shell.execute_reply.started": "2024-11-30T04:05:57.685906Z"
    }
   },
   "outputs": [
    {
     "data": {
      "text/plain": [
       "dict_keys(['id', 'threadId', 'labelIds', 'snippet', 'payload', 'sizeEstimate', 'historyId', 'internalDate'])"
      ]
     },
     "execution_count": 118,
     "metadata": {},
     "output_type": "execute_result"
    }
   ],
   "source": [
    "message.keys()"
   ]
  },
  {
   "cell_type": "code",
   "execution_count": 119,
   "id": "00902304-8091-42f3-84b0-6b684bb261d2",
   "metadata": {
    "execution": {
     "iopub.execute_input": "2024-11-30T04:05:57.710974Z",
     "iopub.status.busy": "2024-11-30T04:05:57.710520Z",
     "iopub.status.idle": "2024-11-30T04:05:57.728081Z",
     "shell.execute_reply": "2024-11-30T04:05:57.720894Z",
     "shell.execute_reply.started": "2024-11-30T04:05:57.710945Z"
    }
   },
   "outputs": [
    {
     "data": {
      "text/plain": [
       "'19375f8c0ee524ef'"
      ]
     },
     "execution_count": 119,
     "metadata": {},
     "output_type": "execute_result"
    }
   ],
   "source": [
    "message['id']"
   ]
  },
  {
   "cell_type": "code",
   "execution_count": 120,
   "id": "84c7d95c-c7ed-4ab8-949d-57c1575ceed0",
   "metadata": {
    "execution": {
     "iopub.execute_input": "2024-11-30T04:05:57.732150Z",
     "iopub.status.busy": "2024-11-30T04:05:57.731697Z",
     "iopub.status.idle": "2024-11-30T04:05:57.748390Z",
     "shell.execute_reply": "2024-11-30T04:05:57.745173Z",
     "shell.execute_reply.started": "2024-11-30T04:05:57.732115Z"
    }
   },
   "outputs": [
    {
     "data": {
      "text/plain": [
       "'19375f8c0ee524ef'"
      ]
     },
     "execution_count": 120,
     "metadata": {},
     "output_type": "execute_result"
    }
   ],
   "source": [
    "message['threadId']"
   ]
  },
  {
   "cell_type": "code",
   "execution_count": 121,
   "id": "b5a105ca-fde2-4b0b-a452-10543790bf76",
   "metadata": {
    "execution": {
     "iopub.execute_input": "2024-11-30T04:05:57.750805Z",
     "iopub.status.busy": "2024-11-30T04:05:57.750206Z",
     "iopub.status.idle": "2024-11-30T04:05:57.764579Z",
     "shell.execute_reply": "2024-11-30T04:05:57.762258Z",
     "shell.execute_reply.started": "2024-11-30T04:05:57.750705Z"
    }
   },
   "outputs": [
    {
     "data": {
      "text/plain": [
       "['CATEGORY_UPDATES', 'INBOX']"
      ]
     },
     "execution_count": 121,
     "metadata": {},
     "output_type": "execute_result"
    }
   ],
   "source": [
    "message['labelIds']"
   ]
  },
  {
   "cell_type": "code",
   "execution_count": 122,
   "id": "34943f11-3bf7-40cd-8594-f9e5c1e1a632",
   "metadata": {
    "execution": {
     "iopub.execute_input": "2024-11-30T04:05:57.767750Z",
     "iopub.status.busy": "2024-11-30T04:05:57.766935Z",
     "iopub.status.idle": "2024-11-30T04:05:57.783700Z",
     "shell.execute_reply": "2024-11-30T04:05:57.781086Z",
     "shell.execute_reply.started": "2024-11-30T04:05:57.767721Z"
    }
   },
   "outputs": [
    {
     "data": {
      "text/plain": [
       "9445"
      ]
     },
     "execution_count": 122,
     "metadata": {},
     "output_type": "execute_result"
    }
   ],
   "source": [
    "message['sizeEstimate']"
   ]
  },
  {
   "cell_type": "code",
   "execution_count": 123,
   "id": "8e2189e7-f8b8-43a5-94ca-2e5d620155d0",
   "metadata": {
    "execution": {
     "iopub.execute_input": "2024-11-30T04:05:57.785482Z",
     "iopub.status.busy": "2024-11-30T04:05:57.785162Z",
     "iopub.status.idle": "2024-11-30T04:05:57.800879Z",
     "shell.execute_reply": "2024-11-30T04:05:57.797677Z",
     "shell.execute_reply.started": "2024-11-30T04:05:57.785448Z"
    }
   },
   "outputs": [
    {
     "data": {
      "text/plain": [
       "'2710'"
      ]
     },
     "execution_count": 123,
     "metadata": {},
     "output_type": "execute_result"
    }
   ],
   "source": [
    "message['historyId']"
   ]
  },
  {
   "cell_type": "code",
   "execution_count": 124,
   "id": "70d31644-f851-4f1f-9220-db9ab17ef135",
   "metadata": {
    "execution": {
     "iopub.execute_input": "2024-11-30T04:05:57.807515Z",
     "iopub.status.busy": "2024-11-30T04:05:57.806868Z",
     "iopub.status.idle": "2024-11-30T04:05:57.822208Z",
     "shell.execute_reply": "2024-11-30T04:05:57.818960Z",
     "shell.execute_reply.started": "2024-11-30T04:05:57.807483Z"
    }
   },
   "outputs": [
    {
     "data": {
      "text/plain": [
       "'1732851055000'"
      ]
     },
     "execution_count": 124,
     "metadata": {},
     "output_type": "execute_result"
    }
   ],
   "source": [
    "message['internalDate']"
   ]
  },
  {
   "cell_type": "markdown",
   "id": "98b80dac-ca86-408d-acec-e1ec82e66ec7",
   "metadata": {
    "execution": {
     "iopub.execute_input": "2024-11-30T03:39:17.542674Z",
     "iopub.status.busy": "2024-11-30T03:39:17.542130Z",
     "iopub.status.idle": "2024-11-30T03:39:17.551595Z",
     "shell.execute_reply": "2024-11-30T03:39:17.548653Z",
     "shell.execute_reply.started": "2024-11-30T03:39:17.542647Z"
    }
   },
   "source": [
    "## payload"
   ]
  },
  {
   "cell_type": "code",
   "execution_count": 125,
   "id": "256236b9-56c2-4a8d-8f9b-6861efd32e75",
   "metadata": {
    "execution": {
     "iopub.execute_input": "2024-11-30T04:05:57.831412Z",
     "iopub.status.busy": "2024-11-30T04:05:57.829844Z",
     "iopub.status.idle": "2024-11-30T04:05:57.843687Z",
     "shell.execute_reply": "2024-11-30T04:05:57.839187Z",
     "shell.execute_reply.started": "2024-11-30T04:05:57.831123Z"
    }
   },
   "outputs": [],
   "source": [
    "payload = message['payload']"
   ]
  },
  {
   "cell_type": "code",
   "execution_count": 126,
   "id": "32fc358e-d677-47a2-8623-8d003de182c6",
   "metadata": {
    "execution": {
     "iopub.execute_input": "2024-11-30T04:05:57.847596Z",
     "iopub.status.busy": "2024-11-30T04:05:57.845521Z",
     "iopub.status.idle": "2024-11-30T04:05:57.863269Z",
     "shell.execute_reply": "2024-11-30T04:05:57.860447Z",
     "shell.execute_reply.started": "2024-11-30T04:05:57.847547Z"
    }
   },
   "outputs": [
    {
     "name": "stdout",
     "output_type": "stream",
     "text": [
      "<class 'dict'>\n",
      "dict_keys(['partId', 'mimeType', 'filename', 'headers', 'body'])\n"
     ]
    },
    {
     "data": {
      "text/plain": [
       "(None, None)"
      ]
     },
     "execution_count": 126,
     "metadata": {},
     "output_type": "execute_result"
    }
   ],
   "source": [
    "print(type(payload)), print(payload.keys())"
   ]
  },
  {
   "cell_type": "code",
   "execution_count": 127,
   "id": "1ab09934-2959-410b-bef4-31132cde2f9f",
   "metadata": {
    "execution": {
     "iopub.execute_input": "2024-11-30T04:05:57.865956Z",
     "iopub.status.busy": "2024-11-30T04:05:57.864811Z",
     "iopub.status.idle": "2024-11-30T04:05:57.880368Z",
     "shell.execute_reply": "2024-11-30T04:05:57.876943Z",
     "shell.execute_reply.started": "2024-11-30T04:05:57.865926Z"
    }
   },
   "outputs": [
    {
     "data": {
      "text/plain": [
       "''"
      ]
     },
     "execution_count": 127,
     "metadata": {},
     "output_type": "execute_result"
    }
   ],
   "source": [
    "payload['partId']"
   ]
  },
  {
   "cell_type": "code",
   "execution_count": 133,
   "id": "66ad4d9f-1103-48b8-828c-0dd2754a6c78",
   "metadata": {
    "execution": {
     "iopub.execute_input": "2024-11-30T04:07:56.711596Z",
     "iopub.status.busy": "2024-11-30T04:07:56.711164Z",
     "iopub.status.idle": "2024-11-30T04:07:56.728453Z",
     "shell.execute_reply": "2024-11-30T04:07:56.726345Z",
     "shell.execute_reply.started": "2024-11-30T04:07:56.711562Z"
    }
   },
   "outputs": [
    {
     "data": {
      "text/plain": [
       "'text/html'"
      ]
     },
     "execution_count": 133,
     "metadata": {},
     "output_type": "execute_result"
    }
   ],
   "source": [
    "# Give the format of the email. Here it should be text/html. So a single part, we'll be able to parse that easily\n",
    "payload['mimeType']"
   ]
  },
  {
   "cell_type": "code",
   "execution_count": 129,
   "id": "a20d9c49-009d-473e-9a4d-062001c8cca9",
   "metadata": {
    "execution": {
     "iopub.execute_input": "2024-11-30T04:05:57.914155Z",
     "iopub.status.busy": "2024-11-30T04:05:57.911702Z",
     "iopub.status.idle": "2024-11-30T04:05:57.946676Z",
     "shell.execute_reply": "2024-11-30T04:05:57.942529Z",
     "shell.execute_reply.started": "2024-11-30T04:05:57.913985Z"
    }
   },
   "outputs": [
    {
     "data": {
      "text/plain": [
       "''"
      ]
     },
     "execution_count": 129,
     "metadata": {},
     "output_type": "execute_result"
    }
   ],
   "source": [
    "payload['filename']"
   ]
  },
  {
   "cell_type": "code",
   "execution_count": 130,
   "id": "5bbbc3d0-5ef7-484f-9cec-31384f7059d8",
   "metadata": {
    "execution": {
     "iopub.execute_input": "2024-11-30T04:05:57.951258Z",
     "iopub.status.busy": "2024-11-30T04:05:57.950670Z",
     "iopub.status.idle": "2024-11-30T04:05:57.978843Z",
     "shell.execute_reply": "2024-11-30T04:05:57.973472Z",
     "shell.execute_reply.started": "2024-11-30T04:05:57.951223Z"
    }
   },
   "outputs": [
    {
     "data": {
      "text/plain": [
       "dict_keys(['size', 'data'])"
      ]
     },
     "execution_count": 130,
     "metadata": {},
     "output_type": "execute_result"
    }
   ],
   "source": [
    "payload['body'].keys()"
   ]
  },
  {
   "cell_type": "code",
   "execution_count": 131,
   "id": "8b0b24c2-6931-4688-a0ca-2d3f3ec6587e",
   "metadata": {
    "execution": {
     "iopub.execute_input": "2024-11-30T04:05:57.983608Z",
     "iopub.status.busy": "2024-11-30T04:05:57.982453Z",
     "iopub.status.idle": "2024-11-30T04:05:58.009445Z",
     "shell.execute_reply": "2024-11-30T04:05:58.000664Z",
     "shell.execute_reply.started": "2024-11-30T04:05:57.983463Z"
    }
   },
   "outputs": [
    {
     "data": {
      "text/plain": [
       "'\\r\\n  <!DOCTYPE html PUBLIC \"-//W3C//DTD XHTML 1.0 Transitional//EN\" \"http://www.w3.org/TR/xhtml1/DTD/xhtml1-transitional.dtd\">\\r\\n    <html>\\r\\n    <head>\\r\\n        <title>Thanks for subscribing!</title>\\r\\n    </head>\\r\\n    <body>\\r\\n    <table width=\"100%\" cellspacing=\"0\" cellpadding=\"0\" style=\"font-family: Arial, Helvetica, sans-serif; max-width: 700px; margin: 0 auto; padding: 15px;\">\\r\\n        <tr>\\r\\n            <td>\\r\\n                <p style=\"font-size: 16px;\"><b>Welcome to TLDR AI! Before we get into what to expect, one quick thing:</b></p>\\r\\n                <p style=\"font-size: 16px;\">1) <b>Reply \\'OK\\' to this email.</b> (You can skip this step if you\\'re signing up an RSS reader, Google Group, or Slack Group you are automatically verified).</p>\\r\\n                <p style=\"font-size: 16px;\">2) If this email is in the spam or promotions folder make sure to <b>move it to your primary inbox.</b> Here\\'s how to do it:</p>\\r\\n                <p><b>For Gmail on your phone:</b> Hit the 3 dots at top right corner, click \"Move to\" then \"Primary.\"</p>\\r\\n                <p><b>For Gmail on your computer:</b> Back out of this email then drag and drop this email into the \"Primary\" tab near the top left of your screen.</p>\\r\\n                <p><b>For Apple mail users:</b> Tap on our email address at the top of this email (next to \"From:\" on mobile) and click \"Add to VIPs.\"</p>\\r\\n                <p><b>For everyone else:</b> <a href=\"https://click.pstmrk.it/3s/help.aweber.com%2Fhc%2Fen-us%2Farticles%2F204029246/pEGE/86y5AQ/AQ/8f5373ee-a7c1-44d5-b2e9-39fd3c820ec0/1/wT7FM61jZt\">Please follow these instructions</a>.</p>\\r\\n                <p style=\"font-size: 16px;\">3) When you’re done with steps 1 and 2, click the button below to finalize your signup!</p>\\r\\n            </td>\\r\\n        </tr>\\r\\n        <tr>\\r\\n            <td align=\"center\">\\r\\n                <table cellspacing=\"0\" cellpadding=\"0\">\\r\\n                    <tr>\\r\\n                        <td align=\"center\" style=\"border-radius: 5px;\">\\r\\n                            <a href=\"https://click.pstmrk.it/3s/tldr.tech%2Fconfirmed%3Femail%3Dautomatic.newsletters%2540gmail.com%26newsletter%3Dai/pEGE/86y5AQ/AQ/8f5373ee-a7c1-44d5-b2e9-39fd3c820ec0/2/EA5M_uvhG8\" style=\"background-color: #5a19ff; background: linear-gradient(-225deg, #ac32e4 0%, #7918f2 48%, #5a19ff 100%); color: white; font-size: 16px; font-family: Arial, sans-serif; text-decoration: none; padding: 10px 20px; display: block;\">Confirm Signup</a>\\r\\n                        </td>\\r\\n                    </tr>\\r\\n                </table>\\r\\n            </td>\\r\\n        </tr>\\r\\n        <tr>\\r\\n            <td>\\r\\n                <br>\\r\\n                <p style=\"font-size: 16px;\">PS: If you did not subscribe to TLDR AI, please <a href=\"https://click.pstmrk.it/3s/tldr.tech%2Fapi%2Funsubscribe%2Fai%3Femail%3Dautomatic.newsletters%2540gmail.com/pEGE/86y5AQ/AQ/8f5373ee-a7c1-44d5-b2e9-39fd3c820ec0/3/pIHw5eKZm9\">click here</a> to unsubscribe.</p>\\r\\n            </td>\\r\\n        </tr>\\r\\n      </table>\\r\\n      <img src=\"https://ea.pstmrk.it/open?m=v3_1.L8oEOih9MvM7q7pOlosPFw.9KtiWEGFP4i2ybZ1bs5IHV7yDbzXpo8x5HlbXL3JSic6I1y5-mVdSVM83-9lnCu-764n7_YWtpRwgmzOSaxX4aDekRnCsSVD5FBfoIPwjzPYk7q9mAF9cGfxIyATDcTm0a4ZE8gxx1gKu97paf2wrplaauizhONSi7lpKAHRIrqaWtnSGnRJaj-qJUbdGoT8mQbQEjHRP_0Hz65GADaEoiShq4yddeBNnl14cdQ0M6-VzVRmDvotDLWO74BG68LZ6Fi8-qTn0xjvNRkKuvJNMOtYq3_cRrOB79Xwn60e_ts3NLLDIzl9HyuhrQM3AHOaNPzmonWZid4gBCWb8mNlNsstKo1WJ3ze1nfrAdTyxuQ5XMxcFzl3bllhAcbc2obexLRforIeUsxoa-uh4fQdl3LDX_r8DhD4sAPUk0HaTaM30av04r9MGeYT0vdNQBDRz07t8I8jMT6y0kQSjvm3dH_S0z70IE1sdNQiKN0oeO2KT_mD7B-SVcRGQNOAo-dQa8miei-phsg-ZXgnLV6cmw\" width=\"1\" height=\"1\" border=\"0\" alt=\"\" /></body>\\r\\n    </html>\\r\\n    '"
      ]
     },
     "execution_count": 131,
     "metadata": {},
     "output_type": "execute_result"
    }
   ],
   "source": [
    "import base64\n",
    "\n",
    "body_data = message['payload']['body']['data']\n",
    "decoded_body = base64.urlsafe_b64decode(body_data).decode()\n",
    "decoded_body"
   ]
  },
  {
   "cell_type": "code",
   "execution_count": 132,
   "id": "dcfd107e-b5f6-4a17-8e0f-c01d9ee4b82b",
   "metadata": {
    "execution": {
     "iopub.execute_input": "2024-11-30T04:05:58.014555Z",
     "iopub.status.busy": "2024-11-30T04:05:58.012104Z",
     "iopub.status.idle": "2024-11-30T04:05:58.052624Z",
     "shell.execute_reply": "2024-11-30T04:05:58.040723Z",
     "shell.execute_reply.started": "2024-11-30T04:05:58.014515Z"
    }
   },
   "outputs": [
    {
     "name": "stdout",
     "output_type": "stream",
     "text": [
      "\n",
      "\n",
      "\n",
      "\n",
      "Thanks for subscribing!\n",
      "\n",
      "\n",
      "\n",
      "\n",
      "\n",
      "Welcome to TLDR AI! Before we get into what to expect, one quick thing:\n",
      "1) Reply 'OK' to this email. (You can skip this step if you're signing up an RSS reader, Google Group, or Slack Group you are automatically verified).\n",
      "2) If this email is in the spam or promotions folder make sure to move it to your primary inbox. Here's how to do it:\n",
      "For Gmail on your phone: Hit the 3 dots at top right corner, click \"Move to\" then \"Primary.\"\n",
      "For Gmail on your computer: Back out of this email then drag and drop this email into the \"Primary\" tab near the top left of your screen.\n",
      "For Apple mail users: Tap on our email address at the top of this email (next to \"From:\" on mobile) and click \"Add to VIPs.\"\n",
      "For everyone else: Please follow these instructions.\n",
      "3) When you’re done with steps 1 and 2, click the button below to finalize your signup!\n",
      "\n",
      "\n",
      "\n",
      "\n",
      "\n",
      "\n",
      "\n",
      "Confirm Signup\n",
      "\n",
      "\n",
      "\n",
      "\n",
      "\n",
      "\n",
      "\n",
      "\n",
      "PS: If you did not subscribe to TLDR AI, please click here to unsubscribe.\n",
      "\n",
      "\n",
      "\n",
      "\n",
      "\n",
      "\n"
     ]
    }
   ],
   "source": [
    "from bs4 import BeautifulSoup\n",
    "\n",
    "plain_text = BeautifulSoup(decoded_body, 'html.parser').get_text()\n",
    "print(plain_text)  # Prints the plain text content of the HTML"
   ]
  },
  {
   "cell_type": "markdown",
   "id": "db035c3f-ff6a-4d87-b24d-c159a9ce39e4",
   "metadata": {},
   "source": [
    "# Parse an email with multiple parts"
   ]
  },
  {
   "cell_type": "code",
   "execution_count": 6,
   "id": "7e141e16-a00b-4598-95f8-9ff6b4c8aa0e",
   "metadata": {
    "execution": {
     "iopub.execute_input": "2024-12-01T03:54:57.683394Z",
     "iopub.status.busy": "2024-12-01T03:54:57.683070Z",
     "iopub.status.idle": "2024-12-01T03:54:57.805491Z",
     "shell.execute_reply": "2024-12-01T03:54:57.804822Z",
     "shell.execute_reply.started": "2024-12-01T03:54:57.683370Z"
    }
   },
   "outputs": [],
   "source": [
    "# Get a single message\n",
    "email_id = '19378480b1d8b929'\n",
    "message = service.users().messages().get(userId='me', id=email_id).execute()"
   ]
  },
  {
   "cell_type": "code",
   "execution_count": 7,
   "id": "9c2d26fa-72b0-421f-8589-dbc9faabb298",
   "metadata": {
    "execution": {
     "iopub.execute_input": "2024-12-01T03:54:58.811147Z",
     "iopub.status.busy": "2024-12-01T03:54:58.810129Z",
     "iopub.status.idle": "2024-12-01T03:54:58.821142Z",
     "shell.execute_reply": "2024-12-01T03:54:58.820330Z",
     "shell.execute_reply.started": "2024-12-01T03:54:58.811115Z"
    }
   },
   "outputs": [
    {
     "data": {
      "text/plain": [
       "'multipart/alternative'"
      ]
     },
     "execution_count": 7,
     "metadata": {},
     "output_type": "execute_result"
    }
   ],
   "source": [
    "# Give the format of the email. \n",
    "# Multipart (HTML and Plain Text): Use the parts array to select the desired format.\n",
    "message['payload']['mimeType']"
   ]
  },
  {
   "cell_type": "code",
   "execution_count": 8,
   "id": "41b21028-7716-4204-aaaf-9650a823bf1f",
   "metadata": {
    "execution": {
     "iopub.execute_input": "2024-12-01T03:54:59.422461Z",
     "iopub.status.busy": "2024-12-01T03:54:59.421340Z",
     "iopub.status.idle": "2024-12-01T03:54:59.430752Z",
     "shell.execute_reply": "2024-12-01T03:54:59.430004Z",
     "shell.execute_reply.started": "2024-12-01T03:54:59.422413Z"
    }
   },
   "outputs": [
    {
     "data": {
      "text/plain": [
       "dict_keys(['partId', 'mimeType', 'filename', 'headers', 'body', 'parts'])"
      ]
     },
     "execution_count": 8,
     "metadata": {},
     "output_type": "execute_result"
    }
   ],
   "source": [
    "message['payload'].keys()"
   ]
  },
  {
   "cell_type": "code",
   "execution_count": 9,
   "id": "6d336611-8756-42ba-9d35-f212c6c70a4f",
   "metadata": {
    "execution": {
     "iopub.execute_input": "2024-12-01T03:55:00.943351Z",
     "iopub.status.busy": "2024-12-01T03:55:00.942475Z",
     "iopub.status.idle": "2024-12-01T03:55:00.951627Z",
     "shell.execute_reply": "2024-12-01T03:55:00.950370Z",
     "shell.execute_reply.started": "2024-12-01T03:55:00.943305Z"
    }
   },
   "outputs": [
    {
     "data": {
      "text/plain": [
       "{'size': 0}"
      ]
     },
     "execution_count": 9,
     "metadata": {},
     "output_type": "execute_result"
    }
   ],
   "source": [
    "# In the case of a multiparts email, there is nothing in the body\n",
    "message['payload']['body']"
   ]
  },
  {
   "cell_type": "code",
   "execution_count": 10,
   "id": "6f0a8093-c8bf-4bef-b640-e308df4df585",
   "metadata": {
    "execution": {
     "iopub.execute_input": "2024-12-01T03:55:02.740567Z",
     "iopub.status.busy": "2024-12-01T03:55:02.739560Z",
     "iopub.status.idle": "2024-12-01T03:55:02.746731Z",
     "shell.execute_reply": "2024-12-01T03:55:02.745702Z",
     "shell.execute_reply.started": "2024-12-01T03:55:02.740540Z"
    }
   },
   "outputs": [
    {
     "data": {
      "text/plain": [
       "2"
      ]
     },
     "execution_count": 10,
     "metadata": {},
     "output_type": "execute_result"
    }
   ],
   "source": [
    "# And 'payload' has a new key, 'parts'\n",
    "len(message['payload']['parts'])"
   ]
  },
  {
   "cell_type": "code",
   "execution_count": 12,
   "id": "388137d3-3b1a-4373-95b6-1661d154beba",
   "metadata": {
    "execution": {
     "iopub.execute_input": "2024-12-01T03:55:26.732160Z",
     "iopub.status.busy": "2024-12-01T03:55:26.731009Z",
     "iopub.status.idle": "2024-12-01T03:55:26.742455Z",
     "shell.execute_reply": "2024-12-01T03:55:26.741019Z",
     "shell.execute_reply.started": "2024-12-01T03:55:26.732127Z"
    }
   },
   "outputs": [
    {
     "name": "stdout",
     "output_type": "stream",
     "text": [
      "Elon Musk's xAI plans to launch a standalone app for its Grok chatbot\n",
      "by December, competing directly with OpenAI's\n",
      "ChatGPT. ‌ ‌ ‌ ‌ ‌ ‌ ‌ ‌ ‌ ‌ ‌ ‌ ‌ ‌ ‌ ‌ ‌ ‌ ‌ ‌ ‌ ‌ ‌ ‌ ‌ ‌  ‌ ‌ ‌ ‌ ‌ ‌ ‌ ‌ ‌ ‌ ‌ ‌ ‌ ‌ ‌ ‌ ‌ ‌ ‌ ‌ ‌ ‌ ‌ ‌ ‌ ‌ \n",
      "\n",
      "\n",
      " Sign Up [1] |Advertise [2]|View Online [3] \n",
      "\n",
      "\t\tTLDR\n",
      "\n",
      "\t\tTOGETHER WITH [Incogni] [4]\n",
      "\n",
      "TLDR AI 2024-11-29\n",
      "\n",
      " 🎁 THIS HOLIDAY SEASON, PROTECT YOUR PRIVACY: DATA BROKERS ARE\n",
      "SELLING THEM LEGALLY (SPONSOR) [4] \n",
      "\n",
      " This holiday season, you deserve peace of mind—especially when it\n",
      "comes to your personal data.\n",
      "\n",
      "Check out Incogni [4] — it's the hassle-free way to protect your\n",
      "data privacy:\n",
      "\n",
      " \t* Incogni scans people search sites for your personal information\n",
      "and sends removal requests on your behalf.\n",
      " \t* Within ±14 days, your records are off the dark corners of the\n",
      "internet.\n",
      " \t* Every 10 days, Incogni does it all over again.\n",
      " \t* You stay in the loop with regular privacy reports.\n",
      "\n",
      "Take back control. Reduce spam, scam, and cyber risk.\n",
      "\n",
      "🎄 SPECIAL HOLIDAY OFFER: Get 58% off Incogni with code TLDRAI [4]\n",
      "(30 day money back guarantee)\n",
      "\n",
      "🚀 \n",
      "\n",
      "HEADLINES & LAUNCHES\n",
      "\n",
      " ALIBABA CHALLENGING OPENAI'S O1 WITH A NEW MODEL (2 MINUTE READ) [5] \n",
      "\n",
      " Alibaba has released QwQ-32B-Preview, an ‘open' challenger to\n",
      "OpenAI's o1 reasoning model. \n",
      "\n",
      " AI2 RELEASES NEW LANGUAGE MODELS COMPETITIVE WITH META'S LLAMA (3\n",
      "MINUTE READ) [6] \n",
      "\n",
      " Ai2 has released OLMo 2, an open-source language model series with\n",
      "models containing 7 and 13 billion parameters. OLMo 2 is developed\n",
      "with publicly accessible training data and code. Aiming to boost\n",
      "open-source AI innovation, Ai2 claims these models outperform similar\n",
      "open models like Meta's Llama 3.1. The models are available under the\n",
      "Apache 2.0 license for commercial use. \n",
      "\n",
      " XAI COULD SOON HAVE ITS OWN APP (1 MINUTE READ) [7] \n",
      "\n",
      " Elon Musk's xAI plans to launch a standalone app for its Grok chatbot\n",
      "by December, competing directly with OpenAI's ChatGPT. Grok is\n",
      "currently accessible through X for subscribers only. This move\n",
      "positions xAI to more directly challenge established chatbot apps from\n",
      "OpenAI, Google, and Anthropic. \n",
      "\n",
      "🧠 \n",
      "\n",
      "RESEARCH & INNOVATION\n",
      "\n",
      " THUNDERKITTENS FOR APPLE SILICON (15 MINUTE READ) [8] \n",
      "\n",
      " Hazy Research has been critical in improving hardware utilization for\n",
      "AI workloads. It has extended its amazing ThunderKittens Kernel\n",
      "writing framework to work on Apple Silicon. \n",
      "\n",
      " DIFFUSIONDRIVE: TRUNCATED DIFFUSION MODEL FOR END-TO-END AUTONOMOUS\n",
      "DRIVING (21 MINUTE READ) [9] \n",
      "\n",
      " Diffusion models for End-to-End driving of autonomous vehicles which\n",
      "can operate at 45 FPS on a 4090 chip. \n",
      "\n",
      " SUPER-RESOLUTION WITH LOW-BIT QUANTIZATION (16 MINUTE READ) [10] \n",
      "\n",
      " PassionSR introduces an approach that makes diffusion-based image\n",
      "super-resolution (SR) models more hardware-friendly. \n",
      "\n",
      "🧑‍💻 \n",
      "\n",
      "ENGINEERING & RESOURCES\n",
      "\n",
      " OPEN INSTRUCT (GITHUB REPO) [11] \n",
      "\n",
      " The Allen AI Institute has released extremely useful post training\n",
      "code for instruction tuning. \n",
      "\n",
      " STAR ATTENTION (GITHUB REPO) [12] \n",
      "\n",
      " Up to 11x speed improvement for long context token processing and\n",
      "generation. It is slightly better than ring attention, but still worse\n",
      "than full attention. \n",
      "\n",
      " FINE-GRAINED IMAGE QUALITY ASSESSMENT (2 MINUTE READ) [13] \n",
      "\n",
      " Grounding-IQA is a new approach to image quality assessment (IQA)\n",
      "that integrates precise location-based grounding and multimodal\n",
      "descriptions. \n",
      "\n",
      "🎁 \n",
      "\n",
      "MISCELLANEOUS\n",
      "\n",
      " IT'S SURPRISINGLY EASY TO JAILBREAK LLM-DRIVEN ROBOTS (6 MINUTE READ)\n",
      "[14] \n",
      "\n",
      " RoboPAIR is an algorithm that successfully jailbreaks robots powered\n",
      "by LLMs, bypassing all safety guardrails. Experiments showed a 100%\n",
      "success rate in hacking systems like Go2, a self-driving simulator,\n",
      "and robot dogs. These findings reveal significant security\n",
      "vulnerabilities, stressing the need for better defenses against\n",
      "LLM-based robot hacking. \n",
      "\n",
      " WORLD'S MOST FLEXIBLE SOUND MACHINE DEBUTS (6 MINUTE READ) [15] \n",
      "\n",
      " Fugatto, a new generative AI model, allows users to control audio\n",
      "creation and transformation using text prompts. It can generate music,\n",
      "modify voices, and create unique sounds, showcasing capabilities\n",
      "through tasks like music production and video game development.\n",
      "Developed by NVIDIA researchers, Fugatto uses 2.5 billion parameters\n",
      "and was trained on a vast dataset to handle multilingual audio tasks\n",
      "and unsupervised learning. \n",
      "\n",
      " THE NEW AI SCALING LAW SHELL GAME (4 MINUTE READ) [16] \n",
      "\n",
      " Recent shifts in AI scaling laws reveal limitations in predictability\n",
      "and effectiveness, with new models not meeting earlier expectations.\n",
      "Microsoft CEO Satya Nadella highlights \"inference time compute\" as a\n",
      "potential area of focus, but concerns about cost and reliability\n",
      "persist. Innovation beyond scaling is needed. LLMs should be part of a\n",
      "broader AI strategy. \n",
      "\n",
      "⚡ \n",
      "\n",
      "QUICK LINKS\n",
      "\n",
      " STEEL BROWSER API FOR AI AGENTS (GITHUB REPO) [17] \n",
      "\n",
      " Controlling web browsers for AI agents is a useful thing for\n",
      "accessing information. \n",
      "\n",
      " PIXMO DATASET (HUGGING FACE HUB) [18] \n",
      "\n",
      " Allen AI has released several datasets that were used to train its\n",
      "visual language models. \n",
      "\n",
      " HUMAN IMAGE ANIMATION (4 MINUTE READ) [19] \n",
      "\n",
      " StableAnimator introduces a breakthrough in human image animation by\n",
      "ensuring identity consistency in generated videos. \n",
      "\n",
      "Want to advertise in TLDR? 📰\n",
      "\n",
      " If your company is interested in reaching an audience of AI\n",
      "professionals and decision makers, you may want to ADVERTISE WITH US\n",
      "[20]. \n",
      "\n",
      " If you have any comments or feedback, just respond to this email! \n",
      "\n",
      "Thanks for reading, \n",
      "Andrew Tan & Andrew Carr \n",
      "\n",
      "If you don't want to receive future editions of TLDR AI, please\n",
      "unsubscribe from TLDR AI [21] or manage all of your TLDR newsletter\n",
      "subscriptions [22]. \n",
      "\n",
      " \n",
      "\n",
      "Links:\n",
      "------\n",
      "[1] https://tldr.tech/ai?utm_source=tldrai\n",
      "[2] https://advertise.tldr.tech/?utm_source=tldrai&utm_medium=newsletter&utm_campaign=advertisetopnav\n",
      "[3] https://berenice.eomail3.com/web-version?ep=1&lc=57aff87c-ae02-11ef-9074-4b7e3c69f0c6&p=653f03b2-ae2e-11ef-9ca7-599d6925aaf7&pt=campaign&t=1732889806&s=a86afca5bc6659a16c42e8f1ded5def350013b51a6b38cbd207e073ac786456d\n",
      "[4] https://get.incogni.io/aff_c?offer_id=1151&aff_id=16286&url_id=1880\n",
      "[5] https://oodaloop.com/briefs/technology/alibaba-releases-an-open-challenger-to-openais-o1-reasoning-model/?utm_source=tldrai\n",
      "[6] https://techcrunch.com/2024/11/26/ai2-releases-new-language-models-competitive-with-metas-llama/?utm_source=tldrai\n",
      "[7] https://www.theverge.com/2024/11/27/24307571/xai-consumer-app-planned-report?utm_source=tldrai\n",
      "[8] https://hazyresearch.stanford.edu/blog/2024-11-28-tk-mlx?utm_source=tldrai\n",
      "[9] https://arxiv.org/abs/2411.15139?utm_source=tldrai\n",
      "[10] https://arxiv.org/abs/2411.17106v1?utm_source=tldrai\n",
      "[11] https://github.com/allenai/open-instruct?utm_source=tldrai\n",
      "[12] https://github.com/NVIDIA/Star-Attention?utm_source=tldrai\n",
      "[13] https://zhengchen1999.github.io/Grounding-IQA-Web/?utm_source=tldrai\n",
      "[14] https://spectrum.ieee.org/jailbreak-llm?utm_source=tldrai\n",
      "[15] https://blogs.nvidia.com/blog/fugatto-gen-ai-sound-model/?utm_source=tldrai\n",
      "[16] https://garymarcus.substack.com/p/a-new-ai-scaling-law-shell-game?utm_source=tldrai\n",
      "[17] https://github.com/steel-dev/steel-browser?utm_source=tldrai\n",
      "[18] https://huggingface.co/collections/allenai/pixmo-674746ea613028006285687b?utm_source=tldrai\n",
      "[19] https://francis-rings.github.io/StableAnimator/?utm_source=tldrai\n",
      "[20] https://advertise.tldr.tech/?utm_source=tldrai&utm_medium=newsletter&utm_campaign=advertisecta\n",
      "[21] https://berenice.eomail3.com/unsubscribe?ep=1&l=eedf6b14-3de3-11ed-9a32-0241b9615763&lc=57aff87c-ae02-11ef-9074-4b7e3c69f0c6&p=653f03b2-ae2e-11ef-9ca7-599d6925aaf7&pt=campaign&pv=4&spa=1732888916&t=1732889806&s=ccd1438bd9dba7bf9c67dc6af08164027cca3f608e6d765b5520ef83776d7639\n",
      "[22] https://tldr.tech/ai/manage?email=automatic.newsletters%40gmail.com\n"
     ]
    }
   ],
   "source": [
    "import base64\n",
    "\n",
    "for pp in message['payload']['parts']:\n",
    "    if pp['mimeType'] == 'text/plain':\n",
    "        body_data = pp['body']['data']\n",
    "        decoded_body = base64.urlsafe_b64decode(body_data).decode()\n",
    "        print(decoded_body)"
   ]
  },
  {
   "cell_type": "code",
   "execution_count": 150,
   "id": "eb620e40-c1c5-4027-8f8d-c03955782c37",
   "metadata": {
    "execution": {
     "iopub.execute_input": "2024-11-30T04:22:08.757634Z",
     "iopub.status.busy": "2024-11-30T04:22:08.756700Z",
     "iopub.status.idle": "2024-11-30T04:22:08.940391Z",
     "shell.execute_reply": "2024-11-30T04:22:08.937335Z",
     "shell.execute_reply.started": "2024-11-30T04:22:08.757590Z"
    },
    "scrolled": true
   },
   "outputs": [
    {
     "name": "stdout",
     "output_type": "stream",
     "text": [
      "TLDR AI\n",
      "Elon Musk's xAI plans to launch a standalone app for its Grok chatbot by December, competing directly with OpenAI's ChatGPT. ‌ ‌ ‌ ‌ ‌ ‌ ‌ ‌ ‌ ‌ ‌ ‌ ‌ ‌ ‌ ‌ ‌ ‌ ‌ ‌ ‌ ‌ ‌ ‌ ‌ ‌  ‌ ‌ ‌ ‌ ‌ ‌ ‌ ‌ ‌ ‌ ‌ ‌ ‌ ‌ ‌ ‌ ‌ ‌ ‌ ‌ ‌ ‌ ‌ ‌ ‌ ‌ \n",
      "\n",
      "\n",
      "\n",
      "\n",
      "\n",
      "\n",
      "\n",
      "\n",
      "\n",
      "\n",
      "Sign Up\n",
      "|Advertise|View Online\n",
      "\n",
      "\n",
      "\n",
      "TLDR\n",
      "\n",
      "Together With \n",
      "\n",
      "\n",
      "\n",
      "TLDR AI 2024-11-29\n",
      "\n",
      "\n",
      "\n",
      "\n",
      "\n",
      "\n",
      "\n",
      "🎁 This Holiday Season, Protect Your Privacy: Data Brokers Are Selling Them Legally (Sponsor)\n",
      "\n",
      "\n",
      "\n",
      "\n",
      "\n",
      "                                    This holiday season, you deserve peace of mind—especially when it comes to your personal data.Check out Incogni — it's the hassle-free way to protect your data privacy:\n",
      "\n",
      "Incogni scans people search sites for your personal information and sends removal requests on your behalf.\n",
      "Within ±14 days, your records are off the dark corners of the internet.\n",
      "Every 10 days, Incogni does it all over again.\n",
      "You stay in the loop with regular privacy reports.\n",
      "\n",
      "Take back control. Reduce spam, scam, and cyber risk.\n",
      "🎄 Special Holiday Offer: Get 58% off Incogni with code TLDRAI (30 day money back guarantee)\n",
      "\n",
      "\n",
      "\n",
      "\n",
      "\n",
      "\n",
      "\n",
      "\n",
      "\n",
      "\n",
      "\n",
      "\n",
      "🚀\n",
      "\n",
      "\n",
      "\n",
      "\n",
      "Headlines & Launches\n",
      "\n",
      "\n",
      "\n",
      "\n",
      "\n",
      "\n",
      "\n",
      "\n",
      "\n",
      "Alibaba Challenging OpenAI's o1 with a New Model (2 minute read)\n",
      "\n",
      "\n",
      "\n",
      "\n",
      "\n",
      "                                    Alibaba has released QwQ-32B-Preview, an ‘open' challenger to OpenAI's o1 reasoning model.\n",
      "                                \n",
      "\n",
      "\n",
      "\n",
      "\n",
      "\n",
      "\n",
      "\n",
      "\n",
      "Ai2 releases new language models competitive with Meta's Llama (3 minute read)\n",
      "\n",
      "\n",
      "\n",
      "\n",
      "\n",
      "                                    Ai2 has released OLMo 2, an open-source language model series with models containing 7 and 13 billion parameters. OLMo 2 is developed with publicly accessible training data and code. Aiming to boost open-source AI innovation, Ai2 claims these models outperform similar open models like Meta's Llama 3.1. The models are available under the Apache 2.0 license for commercial use.\n",
      "                                \n",
      "\n",
      "\n",
      "\n",
      "\n",
      "\n",
      "\n",
      "\n",
      "\n",
      "xAI could soon have its own app (1 minute read)\n",
      "\n",
      "\n",
      "\n",
      "\n",
      "\n",
      "                                    Elon Musk's xAI plans to launch a standalone app for its Grok chatbot by December, competing directly with OpenAI's ChatGPT. Grok is currently accessible through X for subscribers only. This move positions xAI to more directly challenge established chatbot apps from OpenAI, Google, and Anthropic.\n",
      "                                \n",
      "\n",
      "\n",
      "\n",
      "\n",
      "\n",
      "\n",
      "🧠\n",
      "\n",
      "\n",
      "\n",
      "\n",
      "\n",
      "Research & Innovation\n",
      "\n",
      "\n",
      "\n",
      "\n",
      "\n",
      "\n",
      "\n",
      "\n",
      "\n",
      "ThunderKittens for Apple Silicon (15 minute read)\n",
      "\n",
      "\n",
      "\n",
      "\n",
      "\n",
      "                                    Hazy Research has been critical in improving hardware utilization for AI workloads. It has extended its amazing ThunderKittens Kernel writing framework to work on Apple Silicon.\n",
      "                                \n",
      "\n",
      "\n",
      "\n",
      "\n",
      "\n",
      "\n",
      "\n",
      "\n",
      "DiffusionDrive: Truncated Diffusion Model for End-to-End Autonomous Driving (21 minute read)\n",
      "\n",
      "\n",
      "\n",
      "\n",
      "\n",
      "                                    Diffusion models for End-to-End driving of autonomous vehicles which can operate at 45 FPS on a 4090 chip.\n",
      "                                \n",
      "\n",
      "\n",
      "\n",
      "\n",
      "\n",
      "\n",
      "\n",
      "\n",
      "Super-Resolution with Low-Bit Quantization (16 minute read)\n",
      "\n",
      "\n",
      "\n",
      "\n",
      "\n",
      "                                    PassionSR introduces an approach that makes diffusion-based image super-resolution (SR) models more hardware-friendly.\n",
      "                                \n",
      "\n",
      "\n",
      "\n",
      "\n",
      "\n",
      "\n",
      "🧑‍💻\n",
      "\n",
      "\n",
      "\n",
      "\n",
      "\n",
      "Engineering & Resources\n",
      "\n",
      "\n",
      "\n",
      "\n",
      "\n",
      "\n",
      "\n",
      "\n",
      "\n",
      "Open Instruct (GitHub Repo)\n",
      "\n",
      "\n",
      "\n",
      "\n",
      "\n",
      "                                    The Allen AI Institute has released extremely useful post training code for instruction tuning.\n",
      "                                \n",
      "\n",
      "\n",
      "\n",
      "\n",
      "\n",
      "\n",
      "\n",
      "\n",
      "Star Attention (GitHub Repo)\n",
      "\n",
      "\n",
      "\n",
      "\n",
      "\n",
      "                                    Up to 11x speed improvement for long context token processing and generation. It is slightly better than ring attention, but still worse than full attention.\n",
      "                                \n",
      "\n",
      "\n",
      "\n",
      "\n",
      "\n",
      "\n",
      "\n",
      "\n",
      "Fine-Grained Image Quality Assessment (2 minute read)\n",
      "\n",
      "\n",
      "\n",
      "\n",
      "\n",
      "                                    Grounding-IQA is a new approach to image quality assessment (IQA) that integrates precise location-based grounding and multimodal descriptions.\n",
      "                                \n",
      "\n",
      "\n",
      "\n",
      "\n",
      "\n",
      "\n",
      "🎁\n",
      "\n",
      "\n",
      "\n",
      "Miscellaneous\n",
      "\n",
      "\n",
      "\n",
      "\n",
      "\n",
      "\n",
      "\n",
      "\n",
      "It's Surprisingly Easy to Jailbreak LLM-Driven Robots (6 minute read)\n",
      "\n",
      "\n",
      "\n",
      "\n",
      "\n",
      "                                    RoboPAIR is an algorithm that successfully jailbreaks robots powered by LLMs, bypassing all safety guardrails. Experiments showed a 100% success rate in hacking systems like Go2, a self-driving simulator, and robot dogs. These findings reveal significant security vulnerabilities, stressing the need for better defenses against LLM-based robot hacking.\n",
      "                                \n",
      "\n",
      "\n",
      "\n",
      "\n",
      "\n",
      "\n",
      "\n",
      "\n",
      "World's Most Flexible Sound Machine Debuts (6 minute read)\n",
      "\n",
      "\n",
      "\n",
      "\n",
      "\n",
      "                                    Fugatto, a new generative AI model, allows users to control audio creation and transformation using text prompts. It can generate music, modify voices, and create unique sounds, showcasing capabilities through tasks like music production and video game development. Developed by NVIDIA researchers, Fugatto uses 2.5 billion parameters and was trained on a vast dataset to handle multilingual audio tasks and unsupervised learning.\n",
      "                                \n",
      "\n",
      "\n",
      "\n",
      "\n",
      "\n",
      "\n",
      "\n",
      "\n",
      "The new AI scaling law shell game (4 minute read)\n",
      "\n",
      "\n",
      "\n",
      "\n",
      "\n",
      "                                    Recent shifts in AI scaling laws reveal limitations in predictability and effectiveness, with new models not meeting earlier expectations. Microsoft CEO Satya Nadella highlights \"inference time compute\" as a potential area of focus, but concerns about cost and reliability persist. Innovation beyond scaling is needed. LLMs should be part of a broader AI strategy.\n",
      "                                \n",
      "\n",
      "\n",
      "\n",
      "\n",
      "\n",
      "\n",
      "⚡\n",
      "\n",
      "\n",
      "\n",
      "\n",
      "Quick Links\n",
      "\n",
      "\n",
      "\n",
      "\n",
      "\n",
      "\n",
      "\n",
      "\n",
      "\n",
      "Steel Browser API for AI Agents (GitHub Repo)\n",
      "\n",
      "\n",
      "\n",
      "\n",
      "\n",
      "                                    Controlling web browsers for AI agents is a useful thing for accessing information.\n",
      "                                \n",
      "\n",
      "\n",
      "\n",
      "\n",
      "\n",
      "\n",
      "\n",
      "\n",
      "PixMo dataset (Hugging Face Hub)\n",
      "\n",
      "\n",
      "\n",
      "\n",
      "\n",
      "                                    Allen AI has released several datasets that were used to train its visual language models.\n",
      "                                \n",
      "\n",
      "\n",
      "\n",
      "\n",
      "\n",
      "\n",
      "\n",
      "\n",
      "Human Image Animation (4 minute read)\n",
      "\n",
      "\n",
      "\n",
      "\n",
      "\n",
      "                                    StableAnimator introduces a breakthrough in human image animation by ensuring identity consistency in generated videos.\n",
      "                                \n",
      "\n",
      "\n",
      "\n",
      "\n",
      "\n",
      "\n",
      "Want to advertise in TLDR? 📰\n",
      "\n",
      "\n",
      "\n",
      "\n",
      "If your company is interested in reaching an audience of AI professionals and decision makers, you may want to advertise with us.\n",
      "\n",
      "\n",
      "\n",
      "If you have any comments or feedback, just respond to this email!\n",
      "\n",
      " Thanks for reading,\n",
      "\n",
      "Andrew Tan & Andrew Carr\n",
      "\n",
      "\n",
      "\n",
      "\n",
      "\n",
      "\n",
      "If you don't want to receive future editions of TLDR AI, please unsubscribe from TLDR AI or manage all of your TLDR newsletter subscriptions.\n",
      "\n",
      "\n",
      "\n",
      "\n",
      "\n",
      "\n",
      "\n",
      "\n",
      "\n"
     ]
    }
   ],
   "source": [
    "for pp in message['payload']['parts']:\n",
    "    if pp['mimeType'] == 'text/html':\n",
    "        body_data = pp['body']['data']\n",
    "        decoded_body = base64.urlsafe_b64decode(body_data).decode()\n",
    "        plain_text = BeautifulSoup(decoded_body, 'html.parser').get_text()\n",
    "        print(plain_text)  # Prints the plain text content of the HTML"
   ]
  },
  {
   "cell_type": "code",
   "execution_count": null,
   "id": "bb0a8762-28e6-46b8-94bb-230d021c4b36",
   "metadata": {},
   "outputs": [],
   "source": []
  }
 ],
 "metadata": {
  "kernelspec": {
   "display_name": "Python 3 (ipykernel)",
   "language": "python",
   "name": "python3"
  },
  "language_info": {
   "codemirror_mode": {
    "name": "ipython",
    "version": 3
   },
   "file_extension": ".py",
   "mimetype": "text/x-python",
   "name": "python",
   "nbconvert_exporter": "python",
   "pygments_lexer": "ipython3",
   "version": "3.11.9"
  }
 },
 "nbformat": 4,
 "nbformat_minor": 5
}
