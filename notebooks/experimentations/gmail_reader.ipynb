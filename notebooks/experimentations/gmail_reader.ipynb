{
 "cells": [
  {
   "cell_type": "markdown",
   "id": "441e0228-9605-449a-8b84-96d323894c0e",
   "metadata": {},
   "source": [
    "Test for gmail API reader\n",
    "Following instructions on that page: https://developers.google.com/gmail/api/quickstart/python"
   ]
  },
  {
   "cell_type": "code",
   "execution_count": 1,
   "id": "54df72f6-e58d-4278-8a57-c256e9336baa",
   "metadata": {
    "execution": {
     "iopub.execute_input": "2024-11-29T03:24:58.795194Z",
     "iopub.status.busy": "2024-11-29T03:24:58.793538Z",
     "iopub.status.idle": "2024-11-29T03:25:01.596829Z",
     "shell.execute_reply": "2024-11-29T03:25:01.595820Z",
     "shell.execute_reply.started": "2024-11-29T03:24:58.795161Z"
    },
    "scrolled": true
   },
   "outputs": [
    {
     "name": "stdout",
     "output_type": "stream",
     "text": [
      "Requirement already satisfied: google-api-python-client in /usr/local/lib/python3.11/site-packages (2.154.0)\n",
      "Requirement already satisfied: google-auth-httplib2 in /usr/local/lib/python3.11/site-packages (0.2.0)\n",
      "Requirement already satisfied: google-auth-oauthlib in /usr/local/lib/python3.11/site-packages (1.2.1)\n",
      "Requirement already satisfied: httplib2<1.dev0,>=0.19.0 in /usr/local/lib/python3.11/site-packages (from google-api-python-client) (0.22.0)\n",
      "Requirement already satisfied: google-auth!=2.24.0,!=2.25.0,<3.0.0.dev0,>=1.32.0 in /usr/local/lib/python3.11/site-packages (from google-api-python-client) (2.36.0)\n",
      "Requirement already satisfied: google-api-core!=2.0.*,!=2.1.*,!=2.2.*,!=2.3.0,<3.0.0.dev0,>=1.31.5 in /usr/local/lib/python3.11/site-packages (from google-api-python-client) (2.23.0)\n",
      "Requirement already satisfied: uritemplate<5,>=3.0.1 in /usr/local/lib/python3.11/site-packages (from google-api-python-client) (4.1.1)\n",
      "Requirement already satisfied: requests-oauthlib>=0.7.0 in /usr/local/lib/python3.11/site-packages (from google-auth-oauthlib) (2.0.0)\n",
      "Requirement already satisfied: googleapis-common-protos<2.0.dev0,>=1.56.2 in /usr/local/lib/python3.11/site-packages (from google-api-core!=2.0.*,!=2.1.*,!=2.2.*,!=2.3.0,<3.0.0.dev0,>=1.31.5->google-api-python-client) (1.66.0)\n",
      "Requirement already satisfied: protobuf!=3.20.0,!=3.20.1,!=4.21.0,!=4.21.1,!=4.21.2,!=4.21.3,!=4.21.4,!=4.21.5,<6.0.0.dev0,>=3.19.5 in /usr/local/lib/python3.11/site-packages (from google-api-core!=2.0.*,!=2.1.*,!=2.2.*,!=2.3.0,<3.0.0.dev0,>=1.31.5->google-api-python-client) (5.29.0)\n",
      "Requirement already satisfied: proto-plus<2.0.0dev,>=1.22.3 in /usr/local/lib/python3.11/site-packages (from google-api-core!=2.0.*,!=2.1.*,!=2.2.*,!=2.3.0,<3.0.0.dev0,>=1.31.5->google-api-python-client) (1.25.0)\n",
      "Requirement already satisfied: requests<3.0.0.dev0,>=2.18.0 in /usr/local/lib/python3.11/site-packages (from google-api-core!=2.0.*,!=2.1.*,!=2.2.*,!=2.3.0,<3.0.0.dev0,>=1.31.5->google-api-python-client) (2.32.3)\n",
      "Requirement already satisfied: cachetools<6.0,>=2.0.0 in /usr/local/lib/python3.11/site-packages (from google-auth!=2.24.0,!=2.25.0,<3.0.0.dev0,>=1.32.0->google-api-python-client) (5.5.0)\n",
      "Requirement already satisfied: pyasn1-modules>=0.2.1 in /usr/local/lib/python3.11/site-packages (from google-auth!=2.24.0,!=2.25.0,<3.0.0.dev0,>=1.32.0->google-api-python-client) (0.4.1)\n",
      "Requirement already satisfied: rsa<5,>=3.1.4 in /usr/local/lib/python3.11/site-packages (from google-auth!=2.24.0,!=2.25.0,<3.0.0.dev0,>=1.32.0->google-api-python-client) (4.9)\n",
      "Requirement already satisfied: pyparsing!=3.0.0,!=3.0.1,!=3.0.2,!=3.0.3,<4,>=2.4.2 in /usr/local/lib/python3.11/site-packages (from httplib2<1.dev0,>=0.19.0->google-api-python-client) (3.2.0)\n",
      "Requirement already satisfied: oauthlib>=3.0.0 in /usr/local/lib/python3.11/site-packages (from requests-oauthlib>=0.7.0->google-auth-oauthlib) (3.2.2)\n",
      "Requirement already satisfied: pyasn1<0.7.0,>=0.4.6 in /usr/local/lib/python3.11/site-packages (from pyasn1-modules>=0.2.1->google-auth!=2.24.0,!=2.25.0,<3.0.0.dev0,>=1.32.0->google-api-python-client) (0.6.1)\n",
      "Requirement already satisfied: charset-normalizer<4,>=2 in /usr/local/lib/python3.11/site-packages (from requests<3.0.0.dev0,>=2.18.0->google-api-core!=2.0.*,!=2.1.*,!=2.2.*,!=2.3.0,<3.0.0.dev0,>=1.31.5->google-api-python-client) (3.4.0)\n",
      "Requirement already satisfied: idna<4,>=2.5 in /usr/local/lib/python3.11/site-packages (from requests<3.0.0.dev0,>=2.18.0->google-api-core!=2.0.*,!=2.1.*,!=2.2.*,!=2.3.0,<3.0.0.dev0,>=1.31.5->google-api-python-client) (3.10)\n",
      "Requirement already satisfied: urllib3<3,>=1.21.1 in /usr/local/lib/python3.11/site-packages (from requests<3.0.0.dev0,>=2.18.0->google-api-core!=2.0.*,!=2.1.*,!=2.2.*,!=2.3.0,<3.0.0.dev0,>=1.31.5->google-api-python-client) (2.2.3)\n",
      "Requirement already satisfied: certifi>=2017.4.17 in /usr/local/lib/python3.11/site-packages (from requests<3.0.0.dev0,>=2.18.0->google-api-core!=2.0.*,!=2.1.*,!=2.2.*,!=2.3.0,<3.0.0.dev0,>=1.31.5->google-api-python-client) (2024.8.30)\n",
      "\u001b[33mWARNING: Running pip as the 'root' user can result in broken permissions and conflicting behaviour with the system package manager. It is recommended to use a virtual environment instead: https://pip.pypa.io/warnings/venv\u001b[0m\u001b[33m\n",
      "\u001b[0m\n",
      "\u001b[1m[\u001b[0m\u001b[34;49mnotice\u001b[0m\u001b[1;39;49m]\u001b[0m\u001b[39;49m A new release of pip is available: \u001b[0m\u001b[31;49m24.0\u001b[0m\u001b[39;49m -> \u001b[0m\u001b[32;49m24.3.1\u001b[0m\n",
      "\u001b[1m[\u001b[0m\u001b[34;49mnotice\u001b[0m\u001b[1;39;49m]\u001b[0m\u001b[39;49m To update, run: \u001b[0m\u001b[32;49mpip install --upgrade pip\u001b[0m\n"
     ]
    }
   ],
   "source": [
    "!pip install --upgrade google-api-python-client google-auth-httplib2 google-auth-oauthlib"
   ]
  },
  {
   "cell_type": "code",
   "execution_count": 2,
   "id": "158eab49-32c3-442b-82ad-5c64dab04ede",
   "metadata": {
    "execution": {
     "iopub.execute_input": "2024-11-29T03:25:01.601876Z",
     "iopub.status.busy": "2024-11-29T03:25:01.601465Z",
     "iopub.status.idle": "2024-11-29T03:25:01.903350Z",
     "shell.execute_reply": "2024-11-29T03:25:01.901184Z",
     "shell.execute_reply.started": "2024-11-29T03:25:01.601847Z"
    }
   },
   "outputs": [],
   "source": [
    "import os.path\n",
    "\n",
    "from google.auth.transport.requests import Request\n",
    "from google.oauth2.credentials import Credentials\n",
    "from google_auth_oauthlib.flow import InstalledAppFlow\n",
    "from googleapiclient.discovery import build\n",
    "from googleapiclient.errors import HttpError"
   ]
  },
  {
   "cell_type": "code",
   "execution_count": 3,
   "id": "905dd37f-2809-43d9-8240-bb9588e7b404",
   "metadata": {
    "execution": {
     "iopub.execute_input": "2024-11-29T03:25:01.904910Z",
     "iopub.status.busy": "2024-11-29T03:25:01.904429Z",
     "iopub.status.idle": "2024-11-29T03:25:01.911694Z",
     "shell.execute_reply": "2024-11-29T03:25:01.909996Z",
     "shell.execute_reply.started": "2024-11-29T03:25:01.904883Z"
    }
   },
   "outputs": [],
   "source": [
    "SCOPES = [\"https://www.googleapis.com/auth/gmail.readonly\"]"
   ]
  },
  {
   "cell_type": "code",
   "execution_count": 4,
   "id": "f818a2d3-c1a0-4d08-a505-567fbd9e0efe",
   "metadata": {
    "execution": {
     "iopub.execute_input": "2024-11-29T03:25:01.919485Z",
     "iopub.status.busy": "2024-11-29T03:25:01.918477Z",
     "iopub.status.idle": "2024-11-29T03:25:01.937106Z",
     "shell.execute_reply": "2024-11-29T03:25:01.932057Z",
     "shell.execute_reply.started": "2024-11-29T03:25:01.919433Z"
    }
   },
   "outputs": [],
   "source": [
    "creds = None\n",
    "json_file = \"token.json\"\n",
    "if os.path.exists(json_file):\n",
    "    creds = Credentials.from_authorized_user_file(json_file, SCOPES)"
   ]
  },
  {
   "cell_type": "markdown",
   "id": "bd82b2b2-9c25-4c68-a7ed-8ec7ba48ff90",
   "metadata": {},
   "source": [
    "# Create my credentials (token.json) if needed"
   ]
  },
  {
   "cell_type": "code",
   "execution_count": 5,
   "id": "0183eec5-c220-4152-9f72-1359ff5d2e9d",
   "metadata": {
    "execution": {
     "iopub.execute_input": "2024-11-29T03:25:01.942456Z",
     "iopub.status.busy": "2024-11-29T03:25:01.941466Z",
     "iopub.status.idle": "2024-11-29T03:25:24.221898Z",
     "shell.execute_reply": "2024-11-29T03:25:24.221005Z",
     "shell.execute_reply.started": "2024-11-29T03:25:01.942423Z"
    }
   },
   "outputs": [
    {
     "name": "stdout",
     "output_type": "stream",
     "text": [
      "\u001b[?1l\u001b>Please visit this URL to authorize this application: https://accounts.google.com/o/oauth2/auth?response_type=code&client_id=1085373024194-n8rtj5ob0b8a6r96am65f846r0m1m6je.apps.googleusercontent.com&redirect_uri=http%3A%2F%2Flocalhost%3A8080%2F&scope=https%3A%2F%2Fwww.googleapis.com%2Fauth%2Fgmail.readonly&state=urFUzAv4jK8VyBBsHX27XY0KEEq9h9&access_type=offline                      \u001b[5;1H                                                                                \u001b[6;1H                                                                                \u001b[7;1H                                                                                \u001b[8;1H                                                                                \u001b[9;1H                                                                                \u001b[10;1H                                                                                \u001b[11;1H                                                                                \u001b[12;1H                                                                                \u001b[13;1H                                                                                \u001b[14;1H                                                                                \u001b[15;1H                                                                                \u001b[16;1H                                                                                \u001b[17;1H                                                                                \u001b[18;1H                                                                                \u001b[19;1H                                                                                \u001b[20;1H                                                                                \u001b[21;1H                                                                                \u001b[22;1H                                                                                \u001b[23;1H                                                                                \u001b[24;1H                                                                              \u001b[4h\u001b[37m\u001b[40m \u001b[4l\u001b[H\u001b[m\u001b[m\u001b[37m\u001b[40m\u001b[m\u001b[m\u001b[21B\u001b[33m\u001b[44m\u001b[1mGetting https://accounts.google.com/o/oauth2/auth?response_type=code&client_id= \u001b[22;80H\u001b[m\u001b[m\n"
     ]
    }
   ],
   "source": [
    "if creds is None:\n",
    "    flow = InstalledAppFlow.from_client_secrets_file(\"credentials.json\", SCOPES)\n",
    "    creds = flow.run_local_server(port=8080, bind_addr='0.0.0.0')\n",
    "    with open(\"token.json\", \"w\") as token:\n",
    "        token.write(creds.to_json())"
   ]
  },
  {
   "cell_type": "markdown",
   "id": "1a04637d-4f32-4249-940f-be464963cdad",
   "metadata": {},
   "source": [
    "# Test the Gmail API"
   ]
  },
  {
   "cell_type": "code",
   "execution_count": 6,
   "id": "57bd05db-93cd-43e6-98ae-236d2c7d4aab",
   "metadata": {
    "execution": {
     "iopub.execute_input": "2024-11-29T03:25:38.334449Z",
     "iopub.status.busy": "2024-11-29T03:25:38.333035Z",
     "iopub.status.idle": "2024-11-29T03:25:38.350443Z",
     "shell.execute_reply": "2024-11-29T03:25:38.348565Z",
     "shell.execute_reply.started": "2024-11-29T03:25:38.334400Z"
    }
   },
   "outputs": [],
   "source": [
    "from googleapiclient.discovery import build\n",
    "\n",
    "# Build the Gmail API service\n",
    "service = build('gmail', 'v1', credentials=creds)"
   ]
  },
  {
   "cell_type": "code",
   "execution_count": 7,
   "id": "ca0b44c5-7bb5-490f-b522-5043e802dd04",
   "metadata": {
    "execution": {
     "iopub.execute_input": "2024-11-29T03:25:39.470005Z",
     "iopub.status.busy": "2024-11-29T03:25:39.468846Z",
     "iopub.status.idle": "2024-11-29T03:25:39.718472Z",
     "shell.execute_reply": "2024-11-29T03:25:39.716340Z",
     "shell.execute_reply.started": "2024-11-29T03:25:39.469976Z"
    }
   },
   "outputs": [
    {
     "name": "stdout",
     "output_type": "stream",
     "text": [
      "By default, you only receive 1 messages.\n"
     ]
    }
   ],
   "source": [
    "results = service.users().messages().list(userId='me').execute()\n",
    "messages = results.get('messages', [])\n",
    "print(f\"By default, you only receive {len(messages)} messages.\")"
   ]
  },
  {
   "cell_type": "code",
   "execution_count": 8,
   "id": "5e7d100d-4039-4173-8a3b-73538071aa38",
   "metadata": {
    "execution": {
     "iopub.execute_input": "2024-11-29T03:25:39.930729Z",
     "iopub.status.busy": "2024-11-29T03:25:39.929312Z",
     "iopub.status.idle": "2024-11-29T03:25:40.043507Z",
     "shell.execute_reply": "2024-11-29T03:25:40.041909Z",
     "shell.execute_reply.started": "2024-11-29T03:25:39.930647Z"
    }
   },
   "outputs": [
    {
     "name": "stdout",
     "output_type": "stream",
     "text": [
      "Now we have received 1 messages.\n"
     ]
    }
   ],
   "source": [
    "results = service.users().messages().list(userId='me', maxResults=120).execute()\n",
    "messages = results.get('messages', [])\n",
    "print(f\"Now we have received {len(messages)} messages.\")"
   ]
  },
  {
   "cell_type": "code",
   "execution_count": 12,
   "id": "ed6bc25f-64d4-4d66-bded-6da12e29c5af",
   "metadata": {
    "execution": {
     "iopub.execute_input": "2024-11-29T03:33:40.119617Z",
     "iopub.status.busy": "2024-11-29T03:33:40.118481Z",
     "iopub.status.idle": "2024-11-29T03:33:40.561782Z",
     "shell.execute_reply": "2024-11-29T03:33:40.560810Z",
     "shell.execute_reply.started": "2024-11-29T03:33:40.119584Z"
    }
   },
   "outputs": [
    {
     "name": "stdout",
     "output_type": "stream",
     "text": [
      "==========\n",
      "Subject: Re: TLDR AI - Confirm your signup\n",
      "From: Ben <automatic.newsletters@gmail.com>\n",
      "Date: Thu, 28 Nov 2024 22:32:57 -0500\n",
      "==========\n",
      "Subject: TLDR AI - Confirm your signup\n",
      "From: TLDR <dan@tldrnewsletter.com>\n",
      "Date: Fri, 29 Nov 2024 03:30:55 +0000\n",
      "==========\n",
      "Subject: Ben, finish setting up your new Google Account\n",
      "From: Google <no-reply@google.com>\n",
      "Date: Thu, 28 Nov 2024 19:07:52 -0800\n"
     ]
    }
   ],
   "source": [
    "results = service.users().messages().list(userId='me', maxResults=4).execute()\n",
    "messages = results.get('messages', [])\n",
    "for msg in messages:\n",
    "    print('='*10)\n",
    "    msg_id = msg['id']\n",
    "    message = service.users().messages().get(userId='me', id=msg_id).execute()\n",
    "\n",
    "    # Extract headers\n",
    "    headers = message['payload']['headers']\n",
    "    subject = next(header['value'] for header in headers if header['name'] == 'Subject')\n",
    "    sender = next(header['value'] for header in headers if header['name'] == 'From')\n",
    "    date = next(header['value'] for header in headers if header['name'] == 'Date')\n",
    "\n",
    "    print(f\"Subject: {subject}\")\n",
    "    print(f\"From: {sender}\")\n",
    "    print(f\"Date: {date}\")"
   ]
  },
  {
   "cell_type": "code",
   "execution_count": 15,
   "id": "53d56187-ad53-4df0-9e19-50f52295ef32",
   "metadata": {
    "execution": {
     "iopub.execute_input": "2024-11-29T03:39:13.761251Z",
     "iopub.status.busy": "2024-11-29T03:39:13.760853Z",
     "iopub.status.idle": "2024-11-29T03:39:13.989237Z",
     "shell.execute_reply": "2024-11-29T03:39:13.987026Z",
     "shell.execute_reply.started": "2024-11-29T03:39:13.761226Z"
    }
   },
   "outputs": [
    {
     "name": "stdout",
     "output_type": "stream",
     "text": [
      "==========\n",
      "Subject: TLDR AI - Confirm your signup\n",
      "From: TLDR <dan@tldrnewsletter.com>\n",
      "Date: Fri, 29 Nov 2024 03:30:55 +0000\n",
      "ID: 19375f8c0ee524ef\n"
     ]
    }
   ],
   "source": [
    "#query = 'after:2023/01/01 before:2023/12/31 from:example@example.com'\n",
    "query = 'from:dan@tldrnewsletter.com'\n",
    "results = service.users().messages().list(userId='me', q=query, maxResults=4).execute()\n",
    "messages = results.get('messages', [])\n",
    "for msg in messages:\n",
    "    print('='*10)\n",
    "    msg_id = msg['id']\n",
    "    message = service.users().messages().get(userId='me', id=msg_id).execute()\n",
    "\n",
    "    # Extract headers\n",
    "    headers = message['payload']['headers']\n",
    "    subject = next(header['value'] for header in headers if header['name'] == 'Subject')\n",
    "    sender = next(header['value'] for header in headers if header['name'] == 'From')\n",
    "    date = next(header['value'] for header in headers if header['name'] == 'Date')\n",
    "    email_id = msg['id']\n",
    "    \n",
    "\n",
    "    print(f\"Subject: {subject}\")\n",
    "    print(f\"From: {sender}\")\n",
    "    print(f\"Date: {date}\")\n",
    "    print(f\"ID: {email_id}\")"
   ]
  },
  {
   "cell_type": "code",
   "execution_count": 16,
   "id": "4e2b48bd-646d-40c5-a048-64430ba3b766",
   "metadata": {
    "execution": {
     "iopub.execute_input": "2024-11-29T03:39:36.075068Z",
     "iopub.status.busy": "2024-11-29T03:39:36.073884Z",
     "iopub.status.idle": "2024-11-29T03:39:36.178451Z",
     "shell.execute_reply": "2024-11-29T03:39:36.177355Z",
     "shell.execute_reply.started": "2024-11-29T03:39:36.075035Z"
    }
   },
   "outputs": [],
   "source": [
    "# Get a single message\n",
    "message = service.users().messages().get(userId='me', id=email_id).execute()"
   ]
  },
  {
   "cell_type": "code",
   "execution_count": 17,
   "id": "7ef60506-28d3-4b80-b37b-0565770a215f",
   "metadata": {
    "execution": {
     "iopub.execute_input": "2024-11-29T03:39:39.786834Z",
     "iopub.status.busy": "2024-11-29T03:39:39.784642Z",
     "iopub.status.idle": "2024-11-29T03:39:39.807888Z",
     "shell.execute_reply": "2024-11-29T03:39:39.806010Z",
     "shell.execute_reply.started": "2024-11-29T03:39:39.786738Z"
    }
   },
   "outputs": [
    {
     "data": {
      "text/plain": [
       "{'id': '19375f8c0ee524ef',\n",
       " 'threadId': '19375f8c0ee524ef',\n",
       " 'labelIds': ['CATEGORY_UPDATES', 'INBOX'],\n",
       " 'snippet': 'Welcome to TLDR AI! Before we get into what to expect, one quick thing: 1) Reply &#39;OK&#39; to this email. (You can skip this step if you&#39;re signing up an RSS reader, Google Group, or Slack Group',\n",
       " 'payload': {'partId': '',\n",
       "  'mimeType': 'text/html',\n",
       "  'filename': '',\n",
       "  'headers': [{'name': 'Delivered-To',\n",
       "    'value': 'automatic.newsletters@gmail.com'},\n",
       "   {'name': 'Received',\n",
       "    'value': 'by 2002:a9d:76d9:0:b0:71d:4839:1192 with SMTP id p25csp245947otl;        Thu, 28 Nov 2024 19:30:56 -0800 (PST)'},\n",
       "   {'name': 'X-Google-Smtp-Source',\n",
       "    'value': 'AGHT+IEbgze93xowy6tjqkwAt2lqcYGNJN0rE8gDbKkOo7vK3XcxJp3VMxD3DTq3+zp2PU9smQJI'},\n",
       "   {'name': 'X-Received',\n",
       "    'value': 'by 2002:a05:690c:6c0c:b0:6ef:53bb:a83c with SMTP id 00721157ae682-6ef53bbaac1mr40057687b3.20.1732851056656;        Thu, 28 Nov 2024 19:30:56 -0800 (PST)'},\n",
       "   {'name': 'ARC-Seal',\n",
       "    'value': 'i=1; a=rsa-sha256; t=1732851056; cv=none;        d=google.com; s=arc-20240605;        b=XVVerfBYy/V4aCJ2MuHyXYngJBwoJOuJG02vqiHay4T8KiwxGqVM91IYbJ1hkF6Tgg         RFZmNcgt8GMeLqjlvPMDrwtg2T0tKGN8yBA1MvQ3Wu3DjfRrUcb0P6eY7jfCSAsire47         XOwcnqz7HRd3N6qE3QjlcX5H0eh9hyrGSX7ssvI1M4DX+/eFg4SQcTg0edAlBq4QAyWH         tO6lapnOEEivhXtNQ3L4bzmLls8/w5HuaKI1qAohu2yAbnteh+jp0vKGF5iiTcUlrogu         H97x8sfPx28Hu3RaSrrGI6sChE/dSYwuC2c6kan3Fws48Hu0ueL3yHTdgXg4bcGfQB1N         9lmQ=='},\n",
       "   {'name': 'ARC-Message-Signature',\n",
       "    'value': 'i=1; a=rsa-sha256; c=relaxed/relaxed; d=google.com; s=arc-20240605;        h=content-transfer-encoding:mime-version:feedback-id:to:message-id         :subject:date:from:dkim-signature:dkim-signature;        bh=QON907E7lmaPKODz1gR+oz1/23yH0Z6Wa1jc76aSz+4=;        fh=VnhNYpUDAK7h/fb2MJhpyBMA59Jx2JgnfiwqFtc1/Y0=;        b=LPWHVzzvvE3uHfcIQcXKdWWOH/WDPPy/ruhwkNN1+IZJfSM8reLLCanYL4oqf4jEj2         zUM6wgRUi4BnySPBJHmyl4dcsipFJ6pap4YI88WGrprQ/IFrf/rooJk2fvoA9LCpLNLa         kEgjYMBsND+lx4TIwVFPQdf1v8yuSv7YnwXxUzmerzEHchg6khU1ysJ5QiIThYAshwbN         NLSx9Qzkg9LFrrxK+yyHNvHS7qB/4vEOiqUA1aKAaYgS2r8enhKcpVDSKeHkf310wpQh         +M5Whk3rd9xq4YbE0yY1RdRJctDBYIstNSSJnk6+ptaQWrg5ei/Bm5yB+CPir6PORVzz         GkJw==;        dara=google.com'},\n",
       "   {'name': 'ARC-Authentication-Results',\n",
       "    'value': 'i=1; mx.google.com;       dkim=pass header.i=@pm.mtasv.net header.s=pm20241021 header.b=ooZsUcSW;       dkim=pass header.i=@tldrnewsletter.com header.s=20220225222136pm header.b=Ev9s60Hs;       spf=pass (google.com: domain of pm_bounces@pm-bounces.tldrnewsletter.com designates 104.245.209.211 as permitted sender) smtp.mailfrom=pm_bounces@pm-bounces.tldrnewsletter.com;       dmarc=pass (p=REJECT sp=REJECT dis=NONE) header.from=tldrnewsletter.com'},\n",
       "   {'name': 'Return-Path',\n",
       "    'value': '<pm_bounces@pm-bounces.tldrnewsletter.com>'},\n",
       "   {'name': 'Received',\n",
       "    'value': 'from mta211a-ord.mtasv.net (mta211a-ord.mtasv.net. [104.245.209.211])        by mx.google.com with ESMTPS id 00721157ae682-6ef4dd7e352si22002927b3.306.2024.11.28.19.30.56        for <automatic.newsletters@gmail.com>        (version=TLS1_3 cipher=TLS_AES_256_GCM_SHA384 bits=256/256);        Thu, 28 Nov 2024 19:30:56 -0800 (PST)'},\n",
       "   {'name': 'Received-SPF',\n",
       "    'value': 'pass (google.com: domain of pm_bounces@pm-bounces.tldrnewsletter.com designates 104.245.209.211 as permitted sender) client-ip=104.245.209.211;'},\n",
       "   {'name': 'Authentication-Results',\n",
       "    'value': 'mx.google.com;       dkim=pass header.i=@pm.mtasv.net header.s=pm20241021 header.b=ooZsUcSW;       dkim=pass header.i=@tldrnewsletter.com header.s=20220225222136pm header.b=Ev9s60Hs;       spf=pass (google.com: domain of pm_bounces@pm-bounces.tldrnewsletter.com designates 104.245.209.211 as permitted sender) smtp.mailfrom=pm_bounces@pm-bounces.tldrnewsletter.com;       dmarc=pass (p=REJECT sp=REJECT dis=NONE) header.from=tldrnewsletter.com'},\n",
       "   {'name': 'DKIM-Signature',\n",
       "    'value': 'v=1; a=rsa-sha256; c=relaxed/relaxed; s=pm20241021; d=pm.mtasv.net; h=From:Date:Subject:Message-Id:To:Feedback-ID:MIME-Version:Content-Type: Content-Transfer-Encoding:Date:From:Message-ID:Reply-To:Sender:Subject:To:CC; t=1732851056; x=1732937456; bh=QON907E7lmaPKODz1gR+oz1/23yH0Z6Wa1jc76aSz+4=; b=ooZsUcSWWGN1qlepmZT/E5vEUP5lRgdqn5gPailgwfBnZA8wt/mN3D/UodiBiqfOV2Rm454/74HU   iZsZ4rnK1Qh7ZRTHB3chZnuYiiu/bmlY58hDuB6/oz4VgjG+L3XTNmLWZcih9CSgHJ0ipdX4NfHU   ROkQnLXHhGvN9k7AW/WXPIcwyoExFQnzOhZKiEGlFsKh5OA9wHGJMJI7t8lc5JqBJvPO6XHr7KLI   izUp3B2M4YdSy9iMxW5HAbjLxa8DKmMWmomU4wSwCN6GR5XQCa9DXo4nfrHcWIpY+f8i79ddYhzQ   6nurhEyBnlPOJ5JQgQ2BFrGWPIliVq7S+8LY4w=='},\n",
       "   {'name': 'Received',\n",
       "    'value': 'by mta211a-ord.mtasv.net id h94qn03864o0 for <automatic.newsletters@gmail.com>; Thu, 28 Nov 2024 22:30:55 -0500 (envelope-from <pm_bounces@pm-bounces.tldrnewsletter.com>)'},\n",
       "   {'name': 'X-PM-IP', 'value': '104.245.209.211'},\n",
       "   {'name': 'X-IADB-IP', 'value': '104.245.209.211'},\n",
       "   {'name': 'X-IADB-IP-REVERSE', 'value': '211.209.245.104'},\n",
       "   {'name': 'DKIM-Signature',\n",
       "    'value': 'v=1; a=rsa-sha256; d=tldrnewsletter.com; s=20220225222136pm; c=relaxed/relaxed; i=dan@tldrnewsletter.com; t=1732851055; x=1733023855; h=date:date:from:from:message-id:reply-to:sender:subject:subject:to:to:cc: feedback-id:mime-version:content-type:content-transfer-encoding; bh=QON907E7lmaPKODz1gR+oz1/23yH0Z6Wa1jc76aSz+4=; b=Ev9s60HsgvzU77HJHfG+S/9T26AOGY7GXftHdf35BLS0u/lEBM7LI08KaF7xJCf2kI7ezp4v0jH IRDik+ui1u0APGqFkfIvxZlv8HLDTm0IImOEA5hrVy1KlpHcY9/pgWkCGyEFd2k1TDzFQLrazE8A+ jHCzZOdfN9+YbH0yWFU='},\n",
       "   {'name': 'From', 'value': 'TLDR <dan@tldrnewsletter.com>'},\n",
       "   {'name': 'Date', 'value': 'Fri, 29 Nov 2024 03:30:55 +0000'},\n",
       "   {'name': 'Subject', 'value': 'TLDR AI - Confirm your signup'},\n",
       "   {'name': 'Message-Id',\n",
       "    'value': '<8f5373ee-a7c1-44d5-b2e9-39fd3c820ec0@mtasv.net>'},\n",
       "   {'name': 'To', 'value': 'automatic.newsletters@gmail.com'},\n",
       "   {'name': 'Feedback-ID',\n",
       "    'value': 's8667556-d2VsY29tZS1lbWFpbA==:s8667556:a229502:postmark'},\n",
       "   {'name': 'X-Complaints-To', 'value': 'abuse@postmarkapp.com'},\n",
       "   {'name': 'X-PM-Message-Id',\n",
       "    'value': '8f5373ee-a7c1-44d5-b2e9-39fd3c820ec0'},\n",
       "   {'name': 'X-PM-Tag', 'value': 'welcome-email'},\n",
       "   {'name': 'X-PM-RCPT',\n",
       "    'value': '|bTB8MjI5NTAyfDg2Njc1NTZ8YXV0b21hdGljLm5ld3NsZXR0ZXJzQGdtYWlsLmNvbQ==|'},\n",
       "   {'name': 'X-PM-Message-Options',\n",
       "    'value': 'v1;1._FjV5pksyMW3y0BPJ1ahIg.RnykWj_woRht8Toa81u2rE9x8WbmDzpyjW55k1s_UU7hyyKTNexFceCOHjycck4F1f7f1u0AIjCiO0d13sXd1qeia0SOF5JIlYAwn8yMbcT7TY4Bn3Xi6K7zWr_iiXmJyd0UCn2-ISNCgR5-HatXM9qth91UgPA6RDqhqmqPoTiUstcAVP6yvpIeaiaI9bTO'},\n",
       "   {'name': 'MIME-Version', 'value': '1.0'},\n",
       "   {'name': 'X-PM-MTA-Pool', 'value': 'transactional-2'},\n",
       "   {'name': 'Content-Type', 'value': 'text/html; charset=UTF-8'},\n",
       "   {'name': 'Content-Transfer-Encoding', 'value': 'quoted-printable'}],\n",
       "  'body': {'size': 3668,\n",
       "   'data': 'DQogIDwhRE9DVFlQRSBodG1sIFBVQkxJQyAiLS8vVzNDLy9EVEQgWEhUTUwgMS4wIFRyYW5zaXRpb25hbC8vRU4iICJodHRwOi8vd3d3LnczLm9yZy9UUi94aHRtbDEvRFREL3hodG1sMS10cmFuc2l0aW9uYWwuZHRkIj4NCiAgICA8aHRtbD4NCiAgICA8aGVhZD4NCiAgICAgICAgPHRpdGxlPlRoYW5rcyBmb3Igc3Vic2NyaWJpbmchPC90aXRsZT4NCiAgICA8L2hlYWQ-DQogICAgPGJvZHk-DQogICAgPHRhYmxlIHdpZHRoPSIxMDAlIiBjZWxsc3BhY2luZz0iMCIgY2VsbHBhZGRpbmc9IjAiIHN0eWxlPSJmb250LWZhbWlseTogQXJpYWwsIEhlbHZldGljYSwgc2Fucy1zZXJpZjsgbWF4LXdpZHRoOiA3MDBweDsgbWFyZ2luOiAwIGF1dG87IHBhZGRpbmc6IDE1cHg7Ij4NCiAgICAgICAgPHRyPg0KICAgICAgICAgICAgPHRkPg0KICAgICAgICAgICAgICAgIDxwIHN0eWxlPSJmb250LXNpemU6IDE2cHg7Ij48Yj5XZWxjb21lIHRvIFRMRFIgQUkhIEJlZm9yZSB3ZSBnZXQgaW50byB3aGF0IHRvIGV4cGVjdCwgb25lIHF1aWNrIHRoaW5nOjwvYj48L3A-DQogICAgICAgICAgICAgICAgPHAgc3R5bGU9ImZvbnQtc2l6ZTogMTZweDsiPjEpIDxiPlJlcGx5ICdPSycgdG8gdGhpcyBlbWFpbC48L2I-IChZb3UgY2FuIHNraXAgdGhpcyBzdGVwIGlmIHlvdSdyZSBzaWduaW5nIHVwIGFuIFJTUyByZWFkZXIsIEdvb2dsZSBHcm91cCwgb3IgU2xhY2sgR3JvdXAgeW91IGFyZSBhdXRvbWF0aWNhbGx5IHZlcmlmaWVkKS48L3A-DQogICAgICAgICAgICAgICAgPHAgc3R5bGU9ImZvbnQtc2l6ZTogMTZweDsiPjIpIElmIHRoaXMgZW1haWwgaXMgaW4gdGhlIHNwYW0gb3IgcHJvbW90aW9ucyBmb2xkZXIgbWFrZSBzdXJlIHRvIDxiPm1vdmUgaXQgdG8geW91ciBwcmltYXJ5IGluYm94LjwvYj4gSGVyZSdzIGhvdyB0byBkbyBpdDo8L3A-DQogICAgICAgICAgICAgICAgPHA-PGI-Rm9yIEdtYWlsIG9uIHlvdXIgcGhvbmU6PC9iPiBIaXQgdGhlIDMgZG90cyBhdCB0b3AgcmlnaHQgY29ybmVyLCBjbGljayAiTW92ZSB0byIgdGhlbiAiUHJpbWFyeS4iPC9wPg0KICAgICAgICAgICAgICAgIDxwPjxiPkZvciBHbWFpbCBvbiB5b3VyIGNvbXB1dGVyOjwvYj4gQmFjayBvdXQgb2YgdGhpcyBlbWFpbCB0aGVuIGRyYWcgYW5kIGRyb3AgdGhpcyBlbWFpbCBpbnRvIHRoZSAiUHJpbWFyeSIgdGFiIG5lYXIgdGhlIHRvcCBsZWZ0IG9mIHlvdXIgc2NyZWVuLjwvcD4NCiAgICAgICAgICAgICAgICA8cD48Yj5Gb3IgQXBwbGUgbWFpbCB1c2Vyczo8L2I-IFRhcCBvbiBvdXIgZW1haWwgYWRkcmVzcyBhdCB0aGUgdG9wIG9mIHRoaXMgZW1haWwgKG5leHQgdG8gIkZyb206IiBvbiBtb2JpbGUpIGFuZCBjbGljayAiQWRkIHRvIFZJUHMuIjwvcD4NCiAgICAgICAgICAgICAgICA8cD48Yj5Gb3IgZXZlcnlvbmUgZWxzZTo8L2I-IDxhIGhyZWY9Imh0dHBzOi8vY2xpY2sucHN0bXJrLml0LzNzL2hlbHAuYXdlYmVyLmNvbSUyRmhjJTJGZW4tdXMlMkZhcnRpY2xlcyUyRjIwNDAyOTI0Ni9wRUdFLzg2eTVBUS9BUS84ZjUzNzNlZS1hN2MxLTQ0ZDUtYjJlOS0zOWZkM2M4MjBlYzAvMS93VDdGTTYxalp0Ij5QbGVhc2UgZm9sbG93IHRoZXNlIGluc3RydWN0aW9uczwvYT4uPC9wPg0KICAgICAgICAgICAgICAgIDxwIHN0eWxlPSJmb250LXNpemU6IDE2cHg7Ij4zKSBXaGVuIHlvdeKAmXJlIGRvbmUgd2l0aCBzdGVwcyAxIGFuZCAyLCBjbGljayB0aGUgYnV0dG9uIGJlbG93IHRvIGZpbmFsaXplIHlvdXIgc2lnbnVwITwvcD4NCiAgICAgICAgICAgIDwvdGQ-DQogICAgICAgIDwvdHI-DQogICAgICAgIDx0cj4NCiAgICAgICAgICAgIDx0ZCBhbGlnbj0iY2VudGVyIj4NCiAgICAgICAgICAgICAgICA8dGFibGUgY2VsbHNwYWNpbmc9IjAiIGNlbGxwYWRkaW5nPSIwIj4NCiAgICAgICAgICAgICAgICAgICAgPHRyPg0KICAgICAgICAgICAgICAgICAgICAgICAgPHRkIGFsaWduPSJjZW50ZXIiIHN0eWxlPSJib3JkZXItcmFkaXVzOiA1cHg7Ij4NCiAgICAgICAgICAgICAgICAgICAgICAgICAgICA8YSBocmVmPSJodHRwczovL2NsaWNrLnBzdG1yay5pdC8zcy90bGRyLnRlY2glMkZjb25maXJtZWQlM0ZlbWFpbCUzRGF1dG9tYXRpYy5uZXdzbGV0dGVycyUyNTQwZ21haWwuY29tJTI2bmV3c2xldHRlciUzRGFpL3BFR0UvODZ5NUFRL0FRLzhmNTM3M2VlLWE3YzEtNDRkNS1iMmU5LTM5ZmQzYzgyMGVjMC8yL0VBNU1fdXZoRzgiIHN0eWxlPSJiYWNrZ3JvdW5kLWNvbG9yOiAjNWExOWZmOyBiYWNrZ3JvdW5kOiBsaW5lYXItZ3JhZGllbnQoLTIyNWRlZywgI2FjMzJlNCAwJSwgIzc5MThmMiA0OCUsICM1YTE5ZmYgMTAwJSk7IGNvbG9yOiB3aGl0ZTsgZm9udC1zaXplOiAxNnB4OyBmb250LWZhbWlseTogQXJpYWwsIHNhbnMtc2VyaWY7IHRleHQtZGVjb3JhdGlvbjogbm9uZTsgcGFkZGluZzogMTBweCAyMHB4OyBkaXNwbGF5OiBibG9jazsiPkNvbmZpcm0gU2lnbnVwPC9hPg0KICAgICAgICAgICAgICAgICAgICAgICAgPC90ZD4NCiAgICAgICAgICAgICAgICAgICAgPC90cj4NCiAgICAgICAgICAgICAgICA8L3RhYmxlPg0KICAgICAgICAgICAgPC90ZD4NCiAgICAgICAgPC90cj4NCiAgICAgICAgPHRyPg0KICAgICAgICAgICAgPHRkPg0KICAgICAgICAgICAgICAgIDxicj4NCiAgICAgICAgICAgICAgICA8cCBzdHlsZT0iZm9udC1zaXplOiAxNnB4OyI-UFM6IElmIHlvdSBkaWQgbm90IHN1YnNjcmliZSB0byBUTERSIEFJLCBwbGVhc2UgPGEgaHJlZj0iaHR0cHM6Ly9jbGljay5wc3RtcmsuaXQvM3MvdGxkci50ZWNoJTJGYXBpJTJGdW5zdWJzY3JpYmUlMkZhaSUzRmVtYWlsJTNEYXV0b21hdGljLm5ld3NsZXR0ZXJzJTI1NDBnbWFpbC5jb20vcEVHRS84Nnk1QVEvQVEvOGY1MzczZWUtYTdjMS00NGQ1LWIyZTktMzlmZDNjODIwZWMwLzMvcElIdzVlS1ptOSI-Y2xpY2sgaGVyZTwvYT4gdG8gdW5zdWJzY3JpYmUuPC9wPg0KICAgICAgICAgICAgPC90ZD4NCiAgICAgICAgPC90cj4NCiAgICAgIDwvdGFibGU-DQogICAgICA8aW1nIHNyYz0iaHR0cHM6Ly9lYS5wc3RtcmsuaXQvb3Blbj9tPXYzXzEuTDhvRU9paDlNdk03cTdwT2xvc1BGdy45S3RpV0VHRlA0aTJ5YloxYnM1SUhWN3lEYnpYcG84eDVIbGJYTDNKU2ljNkkxeTUtbVZkU1ZNODMtOWxuQ3UtNzY0bjdfWVd0cFJ3Z216T1NheFg0YURla1JuQ3NTVkQ1RkJmb0lQd2p6UFlrN3E5bUFGOWNHZnhJeUFURGNUbTBhNFpFOGd4eDFnS3U5N3BhZjJ3cnBsYWF1aXpoT05TaTdscEtBSFJJcnFhV3RuU0duUkphai1xSlViZEdvVDhtUWJRRWpIUlBfMEh6NjVHQURhRW9pU2hxNHlkZGVCTm5sMTRjZFEwTTYtVnpWUm1Edm90RExXTzc0Qkc2OExaNkZpOC1xVG4weGp2TlJrS3V2Sk5NT3RZcTNfY1JyT0I3OVh3bjYwZV90czNOTExESXpsOUh5dWhyUU0zQUhPYU5Qem1vbldaaWQ0Z0JDV2I4bU5sTnNzdEtvMVdKM3plMW5mckFkVHl4dVE1WE14Y0Z6bDNibGxoQWNiYzJvYmV4TFJmb3JJZVVzeG9hLXVoNGZRZGwzTERYX3I4RGhENHNBUFVrMEhhVGFNMzBhdjA0cjlNR2VZVDB2ZE5RQkRSejA3dDhJOGpNVDZ5MGtRU2p2bTNkSF9TMHo3MElFMXNkTlFpS04wb2VPMktUX21EN0ItU1ZjUkdRTk9Bby1kUWE4bWllaS1waHNnLVpYZ25MVjZjbXciIHdpZHRoPSIxIiBoZWlnaHQ9IjEiIGJvcmRlcj0iMCIgYWx0PSIiIC8-PC9ib2R5Pg0KICAgIDwvaHRtbD4NCiAgICA='}},\n",
       " 'sizeEstimate': 9445,\n",
       " 'historyId': '1776',\n",
       " 'internalDate': '1732851055000'}"
      ]
     },
     "execution_count": 17,
     "metadata": {},
     "output_type": "execute_result"
    }
   ],
   "source": [
    "message"
   ]
  },
  {
   "cell_type": "code",
   "execution_count": null,
   "id": "9a53c474-d08b-4a97-83ec-7ba79df73e54",
   "metadata": {},
   "outputs": [],
   "source": [
    "# need to parse it"
   ]
  }
 ],
 "metadata": {
  "kernelspec": {
   "display_name": "Python 3 (ipykernel)",
   "language": "python",
   "name": "python3"
  },
  "language_info": {
   "codemirror_mode": {
    "name": "ipython",
    "version": 3
   },
   "file_extension": ".py",
   "mimetype": "text/x-python",
   "name": "python",
   "nbconvert_exporter": "python",
   "pygments_lexer": "ipython3",
   "version": "3.11.9"
  }
 },
 "nbformat": 4,
 "nbformat_minor": 5
}
