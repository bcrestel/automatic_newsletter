{
 "cells": [
  {
   "cell_type": "markdown",
   "id": "441e0228-9605-449a-8b84-96d323894c0e",
   "metadata": {},
   "source": [
    "Test for gmail API reader\n",
    "Following instructions on that page: https://developers.google.com/gmail/api/quickstart/python"
   ]
  },
  {
   "cell_type": "markdown",
   "id": "67b86127-7aa3-40f4-8ba1-7d46e3b312fd",
   "metadata": {},
   "source": [
    "# Test class Gmail"
   ]
  },
  {
   "cell_type": "code",
   "execution_count": 1,
   "id": "6c6e8271-f787-4f94-b92a-5958dde11e66",
   "metadata": {
    "execution": {
     "iopub.execute_input": "2025-01-10T04:42:49.591121Z",
     "iopub.status.busy": "2025-01-10T04:42:49.590636Z",
     "iopub.status.idle": "2025-01-10T04:42:49.603657Z",
     "shell.execute_reply": "2025-01-10T04:42:49.602229Z",
     "shell.execute_reply.started": "2025-01-10T04:42:49.591092Z"
    }
   },
   "outputs": [],
   "source": [
    "import sys\n",
    "sys.path.append(\"../..\")"
   ]
  },
  {
   "cell_type": "code",
   "execution_count": 3,
   "id": "ab09e605-f722-4447-841c-4c3c02408d0d",
   "metadata": {
    "execution": {
     "iopub.execute_input": "2025-02-02T04:01:21.922679Z",
     "iopub.status.busy": "2025-02-02T04:01:21.922167Z",
     "iopub.status.idle": "2025-02-02T04:01:22.082016Z",
     "shell.execute_reply": "2025-02-02T04:01:22.081382Z",
     "shell.execute_reply.started": "2025-02-02T04:01:21.922652Z"
    }
   },
   "outputs": [],
   "source": [
    "from src.gmail import Gmail"
   ]
  },
  {
   "cell_type": "code",
   "execution_count": 4,
   "id": "8410029c-0182-49fd-a878-28d0d0514326",
   "metadata": {
    "execution": {
     "iopub.execute_input": "2025-02-02T04:01:22.722854Z",
     "iopub.status.busy": "2025-02-02T04:01:22.721974Z",
     "iopub.status.idle": "2025-02-02T04:01:22.822194Z",
     "shell.execute_reply": "2025-02-02T04:01:22.820368Z",
     "shell.execute_reply.started": "2025-02-02T04:01:22.722819Z"
    },
    "scrolled": true
   },
   "outputs": [
    {
     "ename": "FileNotFoundError",
     "evalue": "[Errno 2] No such file or directory: '/home/secrets_vault/token.json'",
     "output_type": "error",
     "traceback": [
      "\u001b[0;31m---------------------------------------------------------------------------\u001b[0m",
      "\u001b[0;31mFileNotFoundError\u001b[0m                         Traceback (most recent call last)",
      "Cell \u001b[0;32mIn[4], line 4\u001b[0m\n\u001b[1;32m      1\u001b[0m \u001b[38;5;28;01mfrom\u001b[39;00m \u001b[38;5;21;01mpathlib\u001b[39;00m \u001b[38;5;28;01mimport\u001b[39;00m Path\n\u001b[1;32m      2\u001b[0m \u001b[38;5;28;01mfrom\u001b[39;00m \u001b[38;5;21;01msrc\u001b[39;00m\u001b[38;5;21;01m.\u001b[39;00m\u001b[38;5;21;01mconfig\u001b[39;00m \u001b[38;5;28;01mimport\u001b[39;00m SCOPES\n\u001b[0;32m----> 4\u001b[0m gmail_api \u001b[38;5;241m=\u001b[39m \u001b[43mGmail\u001b[49m\u001b[43m(\u001b[49m\u001b[43mpath_to_token\u001b[49m\u001b[38;5;241;43m=\u001b[39;49m\u001b[43mPath\u001b[49m\u001b[43m(\u001b[49m\u001b[38;5;124;43m\"\u001b[39;49m\u001b[38;5;124;43m/home/secrets_vault/token.json\u001b[39;49m\u001b[38;5;124;43m\"\u001b[39;49m\u001b[43m)\u001b[49m\u001b[43m,\u001b[49m\u001b[43m \u001b[49m\u001b[43mpath_to_credentials\u001b[49m\u001b[38;5;241;43m=\u001b[39;49m\u001b[43mPath\u001b[49m\u001b[43m(\u001b[49m\u001b[38;5;124;43m\"\u001b[39;49m\u001b[38;5;124;43m/home/secrets_vault/credentials.json\u001b[39;49m\u001b[38;5;124;43m\"\u001b[39;49m\u001b[43m)\u001b[49m\u001b[43m,\u001b[49m\u001b[43m \u001b[49m\u001b[43mscopes\u001b[49m\u001b[38;5;241;43m=\u001b[39;49m\u001b[43mSCOPES\u001b[49m\u001b[43m)\u001b[49m\n",
      "File \u001b[0;32m/home/src/gmail.py:28\u001b[0m, in \u001b[0;36mGmail.__init__\u001b[0;34m(self, path_to_token, path_to_credentials, scopes)\u001b[0m\n\u001b[1;32m     26\u001b[0m \u001b[38;5;28mself\u001b[39m\u001b[38;5;241m.\u001b[39mpath_to_credentials \u001b[38;5;241m=\u001b[39m path_to_credentials\n\u001b[1;32m     27\u001b[0m \u001b[38;5;28mself\u001b[39m\u001b[38;5;241m.\u001b[39mscopes \u001b[38;5;241m=\u001b[39m scopes\n\u001b[0;32m---> 28\u001b[0m \u001b[38;5;28mself\u001b[39m\u001b[38;5;241m.\u001b[39mservice \u001b[38;5;241m=\u001b[39m \u001b[38;5;28;43mself\u001b[39;49m\u001b[38;5;241;43m.\u001b[39;49m\u001b[43m_create_services\u001b[49m\u001b[43m(\u001b[49m\u001b[43m)\u001b[49m\n",
      "File \u001b[0;32m/home/src/gmail.py:99\u001b[0m, in \u001b[0;36mGmail._create_services\u001b[0;34m(self)\u001b[0m\n\u001b[1;32m     98\u001b[0m \u001b[38;5;28;01mdef\u001b[39;00m \u001b[38;5;21m_create_services\u001b[39m(\u001b[38;5;28mself\u001b[39m):\n\u001b[0;32m---> 99\u001b[0m     creds \u001b[38;5;241m=\u001b[39m \u001b[43mCredentials\u001b[49m\u001b[38;5;241;43m.\u001b[39;49m\u001b[43mfrom_authorized_user_file\u001b[49m\u001b[43m(\u001b[49m\n\u001b[1;32m    100\u001b[0m \u001b[43m        \u001b[49m\u001b[43mfilename\u001b[49m\u001b[38;5;241;43m=\u001b[39;49m\u001b[38;5;28;43mself\u001b[39;49m\u001b[38;5;241;43m.\u001b[39;49m\u001b[43mpath_to_token\u001b[49m\u001b[43m,\u001b[49m\u001b[43m \u001b[49m\u001b[43mscopes\u001b[49m\u001b[38;5;241;43m=\u001b[39;49m\u001b[38;5;28;43mself\u001b[39;49m\u001b[38;5;241;43m.\u001b[39;49m\u001b[43mscopes\u001b[49m\n\u001b[1;32m    101\u001b[0m \u001b[43m    \u001b[49m\u001b[43m)\u001b[49m\n\u001b[1;32m    102\u001b[0m     \u001b[38;5;28;01mreturn\u001b[39;00m build(\u001b[38;5;124m\"\u001b[39m\u001b[38;5;124mgmail\u001b[39m\u001b[38;5;124m\"\u001b[39m, \u001b[38;5;124m\"\u001b[39m\u001b[38;5;124mv1\u001b[39m\u001b[38;5;124m\"\u001b[39m, credentials\u001b[38;5;241m=\u001b[39mcreds)\n",
      "File \u001b[0;32m/usr/local/lib/python3.11/site-packages/google/oauth2/credentials.py:515\u001b[0m, in \u001b[0;36mCredentials.from_authorized_user_file\u001b[0;34m(cls, filename, scopes)\u001b[0m\n\u001b[1;32m    499\u001b[0m \u001b[38;5;129m@classmethod\u001b[39m\n\u001b[1;32m    500\u001b[0m \u001b[38;5;28;01mdef\u001b[39;00m \u001b[38;5;21mfrom_authorized_user_file\u001b[39m(\u001b[38;5;28mcls\u001b[39m, filename, scopes\u001b[38;5;241m=\u001b[39m\u001b[38;5;28;01mNone\u001b[39;00m):\n\u001b[1;32m    501\u001b[0m \u001b[38;5;250m    \u001b[39m\u001b[38;5;124;03m\"\"\"Creates a Credentials instance from an authorized user json file.\u001b[39;00m\n\u001b[1;32m    502\u001b[0m \n\u001b[1;32m    503\u001b[0m \u001b[38;5;124;03m    Args:\u001b[39;00m\n\u001b[0;32m   (...)\u001b[0m\n\u001b[1;32m    513\u001b[0m \u001b[38;5;124;03m        ValueError: If the file is not in the expected format.\u001b[39;00m\n\u001b[1;32m    514\u001b[0m \u001b[38;5;124;03m    \"\"\"\u001b[39;00m\n\u001b[0;32m--> 515\u001b[0m     \u001b[38;5;28;01mwith\u001b[39;00m \u001b[43mio\u001b[49m\u001b[38;5;241;43m.\u001b[39;49m\u001b[43mopen\u001b[49m\u001b[43m(\u001b[49m\u001b[43mfilename\u001b[49m\u001b[43m,\u001b[49m\u001b[43m \u001b[49m\u001b[38;5;124;43m\"\u001b[39;49m\u001b[38;5;124;43mr\u001b[39;49m\u001b[38;5;124;43m\"\u001b[39;49m\u001b[43m,\u001b[49m\u001b[43m \u001b[49m\u001b[43mencoding\u001b[49m\u001b[38;5;241;43m=\u001b[39;49m\u001b[38;5;124;43m\"\u001b[39;49m\u001b[38;5;124;43mutf-8\u001b[39;49m\u001b[38;5;124;43m\"\u001b[39;49m\u001b[43m)\u001b[49m \u001b[38;5;28;01mas\u001b[39;00m json_file:\n\u001b[1;32m    516\u001b[0m         data \u001b[38;5;241m=\u001b[39m json\u001b[38;5;241m.\u001b[39mload(json_file)\n\u001b[1;32m    517\u001b[0m         \u001b[38;5;28;01mreturn\u001b[39;00m \u001b[38;5;28mcls\u001b[39m\u001b[38;5;241m.\u001b[39mfrom_authorized_user_info(data, scopes)\n",
      "\u001b[0;31mFileNotFoundError\u001b[0m: [Errno 2] No such file or directory: '/home/secrets_vault/token.json'"
     ]
    }
   ],
   "source": [
    "from pathlib import Path\n",
    "from src.config import SCOPES\n",
    "\n",
    "gmail_api = Gmail(path_to_token=Path(\"/home/secrets_vault/token.json\"), path_to_credentials=Path(\"/home/secrets_vault/credentials.json\"), scopes=SCOPES)"
   ]
  },
  {
   "cell_type": "code",
   "execution_count": 8,
   "id": "ae44d34d-5f7b-4b26-884a-84369d527dbe",
   "metadata": {
    "execution": {
     "iopub.execute_input": "2025-01-10T04:43:24.568535Z",
     "iopub.status.busy": "2025-01-10T04:43:24.566757Z",
     "iopub.status.idle": "2025-01-10T04:43:25.012786Z",
     "shell.execute_reply": "2025-01-10T04:43:25.011840Z",
     "shell.execute_reply.started": "2025-01-10T04:43:24.568501Z"
    }
   },
   "outputs": [],
   "source": [
    "list_emails = gmail_api.fetch_emails(sender=\"TLDR AI <dan@tldrnewsletter.com>\", after=\"2024-12-03\", before=\"2024-12-03\")"
   ]
  },
  {
   "cell_type": "code",
   "execution_count": 9,
   "id": "e1b97ac7-bca9-4bd7-be2c-7fd0563069be",
   "metadata": {
    "execution": {
     "iopub.execute_input": "2025-01-10T04:43:25.212866Z",
     "iopub.status.busy": "2025-01-10T04:43:25.212467Z",
     "iopub.status.idle": "2025-01-10T04:43:25.223641Z",
     "shell.execute_reply": "2025-01-10T04:43:25.221382Z",
     "shell.execute_reply.started": "2025-01-10T04:43:25.212837Z"
    }
   },
   "outputs": [
    {
     "data": {
      "text/plain": [
       "1"
      ]
     },
     "execution_count": 9,
     "metadata": {},
     "output_type": "execute_result"
    }
   ],
   "source": [
    "len(list_emails)"
   ]
  },
  {
   "cell_type": "code",
   "execution_count": 10,
   "id": "afed583c-b3ff-4ec0-a710-c69d4707fa6e",
   "metadata": {
    "execution": {
     "iopub.execute_input": "2025-01-10T04:43:25.951922Z",
     "iopub.status.busy": "2025-01-10T04:43:25.950796Z",
     "iopub.status.idle": "2025-01-10T04:43:25.958323Z",
     "shell.execute_reply": "2025-01-10T04:43:25.957127Z",
     "shell.execute_reply.started": "2025-01-10T04:43:25.951890Z"
    }
   },
   "outputs": [
    {
     "name": "stdout",
     "output_type": "stream",
     "text": [
      "Subject: ChatGPT ads 📰, online shopping AI agents 🛍️, Marc Benioff on AI 🤖, Date:Tue, 3 Dec 2024 14:13:10 +0000\n"
     ]
    }
   ],
   "source": [
    "for ll in list_emails:\n",
    "    print(f\"Subject: {ll['subject']}, Date:{ll['date_utc']}\")"
   ]
  },
  {
   "cell_type": "code",
   "execution_count": 8,
   "id": "fc84ee2c-82ba-44d7-8f13-c3dfbb4f6283",
   "metadata": {
    "execution": {
     "iopub.execute_input": "2024-12-15T23:29:48.351656Z",
     "iopub.status.busy": "2024-12-15T23:29:48.351309Z",
     "iopub.status.idle": "2024-12-15T23:29:48.360131Z",
     "shell.execute_reply": "2024-12-15T23:29:48.358396Z",
     "shell.execute_reply.started": "2024-12-15T23:29:48.351631Z"
    },
    "scrolled": true
   },
   "outputs": [
    {
     "data": {
      "text/plain": [
       "\"OpenAI's 6th announcement day introduces video in advanced voice mode,\\r\\nallowing users to share their live videos and screens with\\r\\nChatGPT.\\xa0\\u200c\\xa0\\u200c\\xa0\\u200c\\xa0\\u200c\\xa0\\u200c\\xa0\\u200c\\xa0\\u200c\\xa0\\u200c\\xa0\\u200c\\xa0\\u200c\\xa0\\u200c\\xa0\\u200c\\xa0\\u200c\\xa0\\u200c\\xa0\\u200c\\xa0\\u200c\\xa0\\u200c\\xa0\\u200c\\xa0\\u200c\\xa0\\u200c\\xa0\\u200c\\xa0\\u200c\\xa0\\u200c\\xa0\\u200c\\xa0\\u200c\\xa0\\u200c\\xa0\\xa0\\u200c\\xa0\\u200c\\xa0\\u200c\\xa0\\u200c\\xa0\\u200c\\xa0\\u200c\\xa0\\u200c\\xa0\\u200c\\xa0\\u200c\\xa0\\u200c\\xa0\\u200c\\xa0\\u200c\\xa0\\u200c\\xa0\\u200c\\xa0\\u200c\\xa0\\u200c\\xa0\\u200c\\xa0\\u200c\\xa0\\u200c\\xa0\\u200c\\xa0\\u200c\\xa0\\u200c\\xa0\\u200c\\xa0\\u200c\\xa0\\u200c\\xa0\\u200c\\xa0\\r\\n\\r\\n\\r\\n Sign Up [1] |Advertise [2]|View Online [3] \\r\\n\\r\\n\\t\\tTLDR \\r\\n\\r\\n\\t\\tTOGETHER WITH [Algolia] [4]\\r\\n\\r\\nTLDR AI 2024-12-13\\r\\n\\r\\n POWER UP PRODUCT RECOMMENDATIONS WITH AI (SPONSOR) [4] \\r\\n\\r\\n Learn how AI-driven product recommendation systems, powered by\\r\\nmachine learning and advanced algorithms, are reshaping customer\\r\\ninteractions. This eBook from Algolia [4] breaks down how these\\r\\ntechnologies deliver tailored experiences, predict customer\\r\\npreferences with precision, and drive measurable increases in\\r\\nconversions and revenue. Get actionable insights including how to\\r\\nimplement AI models effectively as well as practical examples of their\\r\\napplications beyond ecommerce.\\xa0\\r\\n\\r\\nDownload your free copy [4]today to optimize your product\\r\\nrecommendation strategy and stay ahead in a competitive market.\\r\\n\\r\\n🚀 \\r\\n\\r\\nHEADLINES & LAUNCHES\\r\\n\\r\\n $1M K PRIZE LAUNCHES (4 MINUTE READ) [5] \\r\\n\\r\\n Andy Konwinski has launched a new prize for an open source AI agent\\r\\nthat can get 90% on a private contamination free SWE agent benchmark.\\r\\nThe competition is hosted on Kaggle and runs for the next 3 months. \\r\\n\\r\\n OPENAI INTRODUCES ADVANCED VIDEO MODE (11 MINUTE READ) [6] \\r\\n\\r\\n OpenAI's 6th announcement day introduces video in advanced voice\\r\\nmode, allowing users to share their live videos and screens with\\r\\nChatGPT. \\r\\n\\r\\n AI'S ROLE IN SAFEGUARDING 2024 ELECTIONS (4 MINUTE READ) [7] \\r\\n\\r\\n Anthropic discusses how AI technologies can be deployed to ensure the\\r\\nintegrity of the 2024 elections, focusing on detecting disinformation\\r\\nand enhancing cybersecurity. \\r\\n\\r\\n🧠 \\r\\n\\r\\nRESEARCH & INNOVATION\\r\\n\\r\\n STYLIZE YOUR VIDEO WITH ARTISTIC GENERATION AND TRANSLATION (13\\r\\nMINUTE READ) [8] \\r\\n\\r\\n Surprisingly robust video style transfer method that maintains strong\\r\\nconsistency over time and has a diverse range of available styles\\r\\nprompted via text. \\r\\n\\r\\n ENHANCING TEXT REPRESENTATION WITH CONTRASTIVE LEARNING (17 MINUTE\\r\\nREAD) [9] \\r\\n\\r\\n This research explores how contrastive learning techniques can\\r\\nimprove text representation models, demonstrating superior performance\\r\\nin various NLP benchmarks. \\r\\n\\r\\n HIERARCHICAL TRANSFORMERS (10 MINUTE READ) [10] \\r\\n\\r\\n The paper presents a novel hierarchical transformer model designed\\r\\nfor long-context understanding, offering efficiency gains over\\r\\ntraditional transformers in processing extensive text or data. \\r\\n\\r\\n🧑\\u200d💻 \\r\\n\\r\\nENGINEERING & RESOURCES\\r\\n\\r\\n LAION-SG: AN ENHANCED LARGE-SCALE DATASET (GITHUB REPO) [11] \\r\\n\\r\\n This work improves upon LAION Aesthetics dataset by adding structured\\r\\nprompting information. This can be used as a dataset for improved\\r\\ntraining of multimodal generative models. \\r\\n\\r\\n BROWSERGYM (GITHUB REPO) [12] \\r\\n\\r\\n An open toolkit for accelerating browser based agentic research. It\\r\\nincludes a unified interface and a number of important tasks. It also\\r\\nprovides a way to screenshot the output from the browser. \\r\\n\\r\\n LIGHTWEIGHT FINE-TUNING FOR MULTILINGUAL TASKS (GITHUB REPO) [13] \\r\\n\\r\\n A framework that simplifies fine-tuning for multilingual NLP models,\\r\\nenabling faster and more efficient adaptation across languages. \\r\\n\\r\\n🎁 \\r\\n\\r\\nMISCELLANEOUS\\r\\n\\r\\n GPT-POWERED DEVELOPMENT FRAMEWORK (5 MINUTE READ) [14] \\r\\n\\r\\n GPD is a new framework leveraging GPT models to streamline software\\r\\ndevelopment tasks, including code generation and debugging, with a\\r\\nfocus on user-friendly workflows. \\r\\n\\r\\n FIRST IMPRESSIONS OF THE NEW AMAZON NOVA LLMS (8 MINUTE READ) [15] \\r\\n\\r\\n Amazon unveiled the Nova family of LLMs at AWS re:Invent, featuring\\r\\ncompetitive pricing and multimodal capabilities like handling images,\\r\\nvideo, and PDFs. The Nova series, particularly Nova Micro, is\\r\\nextremely cost-effective, undercutting Google's Gemini models while\\r\\noffering large context handling. With Nova's multimodal advancements,\\r\\nAmazon positions itself as a strong competitor in the AI landscape. \\r\\n\\r\\n GOOGLE'S MODEL OUTPERFORMS TOP WEATHER FORECAST SYSTEMS (6 MINUTE\\r\\nREAD) [16] \\r\\n\\r\\n The new GenCast AI model advances weather forecasting by using\\r\\nhigh-resolution ensemble predictions to provide faster and more\\r\\naccurate forecasts up to 15 days ahead. \\r\\n\\r\\n⚡ \\r\\n\\r\\nQUICK LINKS\\r\\n\\r\\n FREE COURSE: UPLEVEL YOUR AI SKILLS (SPONSOR) [17] \\r\\n\\r\\n Take the AI for Product Management Course [17] to learn how to\\r\\nleverage AI throughout the development lifecycle and why product\\r\\nmanagers should view AI as a strategic tool—not a threat. \\r\\n\\r\\n GOOGLE AI SHARES TIPS FOR SMARTER TOOLS (3 MINUTE READ) [18] \\r\\n\\r\\n Google shares practical tips and best practices for integrating AI\\r\\ninto daily workflows. \\r\\n\\r\\n SUMMARIZATION TOOL FOR COMPRESSED RECAPS (3 MINUTE READ) [19] \\r\\n\\r\\n A tool for generating compressed recaps using cutting-edge\\r\\nsummarization techniques, aimed at reducing reading time without\\r\\nsacrificing key content. \\r\\n\\r\\n OPENAI CONSIDERS DITCHING PROVISION THAT WOULD PREVENT AGI FROM BEING\\r\\nUSED FOR COMMERCIAL GAIN (1 MINUTE READ) [20] \\r\\n\\r\\n OpenAI might remove a provision blocking Microsoft from its advanced\\r\\ntech if AGI is achieved. \\r\\n\\r\\nWant to advertise in TLDR? 📰\\r\\n\\r\\n If your company is interested in reaching an audience of AI\\r\\nprofessionals and decision makers, you may want to ADVERTISE WITH US\\r\\n[21]. \\r\\n\\r\\n If you have any comments or feedback, just respond to this email! \\r\\n\\r\\nThanks for reading, \\r\\nAndrew Tan & Andrew Carr \\r\\n\\r\\nIf you don't want to receive future editions of TLDR AI, please\\r\\nunsubscribe from TLDR AI [22] or manage all of your TLDR newsletter\\r\\nsubscriptions [23]. \\r\\n\\r\\n \\r\\n\\r\\nLinks:\\r\\n------\\r\\n[1] https://tldr.tech/ai?utm_source=tldrai\\r\\n[2] https://advertise.tldr.tech/?utm_source=tldrai&utm_medium=newsletter&utm_campaign=advertisetopnav\\r\\n[3] https://a.tldrnewsletter.com/web-version?ep=1&lc=57aff87c-ae02-11ef-9074-4b7e3c69f0c6&p=08530414-b941-11ef-a8c2-9f373d1f2099&pt=campaign&t=1734099331&s=fb4462a094f1bab494afe4e32e6fdd5f03be1e84d3d48d79797f655cf35dde9b\\r\\n[4] https://resources.algolia.com/ai-search/ebook-power-up-product-recommendations?utm_campaign=tldr_ww_wnet_awa_dev_reac_ai&utm_medium=display&utm_source=tldr&utm_content=tldr_ww_wnet&utm_term=dev_awa_ebo_powerup&utm_camp_parent=wnet&utm_2nd_camp=awa_dev&utm_model=cpm&utm_region=ww&utm_goal=reac&utm_ag=ra\\r\\n[5] https://kprize.ai/?utm_source=tldrai\\r\\n[6] https://www.youtube.com/watch?v=NIQDnWlwYyQ&utm_source=tldrai\\r\\n[7] https://www.anthropic.com/news/elections-ai-2024?utm_source=tldrai\\r\\n[8] https://zixuan-ye.github.io/stylemaster/?utm_source=tldrai\\r\\n[9] https://arxiv.org/abs/2412.08580v1?utm_source=tldrai\\r\\n[10] https://arxiv.org/abs/2412.08263v1?utm_source=tldrai\\r\\n[11] https://github.com/mengcye/LAION-SG?utm_source=tldrai\\r\\n[12] https://github.com/ServiceNow/BrowserGym?utm_source=tldrai\\r\\n[13] https://github.com/franciszzj/leffa?utm_source=tldrai\\r\\n[14] https://wzzheng.net/GPD/?utm_source=tldrai\\r\\n[15] https://simonwillison.net/2024/Dec/4/amazon-nova/?utm_source=tldrai\\r\\n[16] https://deepmind.google/discover/blog/gencast-predicts-weather-and-the-risks-of-extreme-conditions-with-sota-accuracy/?utm_source=tldrai\\r\\n[17] https://www.productledcertified.com/ai-for-product-management?pc=tldr-ai\\r\\n[18] https://blog.google/technology/ai/google-ai-tips-tricks-2024/?utm_source=tldrai\\r\\n[19] https://huggingface.co/datasets/FanLu31/CompreCap?utm_source=tldrai\\r\\n[20] https://techcrunch.com/2024/12/06/openai-considers-ditching-provision-that-would-prevent-agi-from-being-used-for-commercial-gain/?utm_source=tldrai\\r\\n[21] https://advertise.tldr.tech/?utm_source=tldrai&utm_medium=newsletter&utm_campaign=advertisecta\\r\\n[22] https://a.tldrnewsletter.com/unsubscribe?ep=1&l=eedf6b14-3de3-11ed-9a32-0241b9615763&lc=57aff87c-ae02-11ef-9074-4b7e3c69f0c6&p=08530414-b941-11ef-a8c2-9f373d1f2099&pt=campaign&pv=4&spa=1734098464&t=1734099331&s=19ce36201f6a8f4c84dbf9a3994875bd579ed1461aa76a0f7704438368a422ad\\r\\n[23] https://tldr.tech/ai/manage?email=automatic.newsletters%40gmail.com\""
      ]
     },
     "execution_count": 8,
     "metadata": {},
     "output_type": "execute_result"
    }
   ],
   "source": [
    "list_emails[0]['text']"
   ]
  },
  {
   "cell_type": "markdown",
   "id": "c863f322-2aac-4642-be22-8c779415d302",
   "metadata": {},
   "source": [
    "# Start of notebook"
   ]
  },
  {
   "cell_type": "code",
   "execution_count": 1,
   "id": "158eab49-32c3-442b-82ad-5c64dab04ede",
   "metadata": {
    "execution": {
     "iopub.execute_input": "2025-01-04T03:46:22.733867Z",
     "iopub.status.busy": "2025-01-04T03:46:22.732150Z",
     "iopub.status.idle": "2025-01-04T03:46:22.983842Z",
     "shell.execute_reply": "2025-01-04T03:46:22.981752Z",
     "shell.execute_reply.started": "2025-01-04T03:46:22.733829Z"
    }
   },
   "outputs": [],
   "source": [
    "import os.path\n",
    "\n",
    "from google.auth.transport.requests import Request\n",
    "from google.oauth2.credentials import Credentials\n",
    "from google_auth_oauthlib.flow import InstalledAppFlow\n",
    "from googleapiclient.discovery import build\n",
    "from googleapiclient.errors import HttpError"
   ]
  },
  {
   "cell_type": "code",
   "execution_count": 2,
   "id": "905dd37f-2809-43d9-8240-bb9588e7b404",
   "metadata": {
    "execution": {
     "iopub.execute_input": "2025-01-04T03:46:23.042509Z",
     "iopub.status.busy": "2025-01-04T03:46:23.042003Z",
     "iopub.status.idle": "2025-01-04T03:46:23.050654Z",
     "shell.execute_reply": "2025-01-04T03:46:23.049327Z",
     "shell.execute_reply.started": "2025-01-04T03:46:23.042479Z"
    }
   },
   "outputs": [],
   "source": [
    "SCOPES = [\"https://www.googleapis.com/auth/gmail.readonly\"]"
   ]
  },
  {
   "cell_type": "code",
   "execution_count": 3,
   "id": "f818a2d3-c1a0-4d08-a505-567fbd9e0efe",
   "metadata": {
    "execution": {
     "iopub.execute_input": "2025-01-04T03:46:25.388098Z",
     "iopub.status.busy": "2025-01-04T03:46:25.387025Z",
     "iopub.status.idle": "2025-01-04T03:46:25.396728Z",
     "shell.execute_reply": "2025-01-04T03:46:25.395663Z",
     "shell.execute_reply.started": "2025-01-04T03:46:25.388071Z"
    }
   },
   "outputs": [],
   "source": [
    "creds = None\n",
    "json_file = \"/home/secrets_vault/token.json\"\n",
    "if os.path.exists(json_file):\n",
    "    creds = Credentials.from_authorized_user_file(json_file, SCOPES)"
   ]
  },
  {
   "cell_type": "markdown",
   "id": "bd82b2b2-9c25-4c68-a7ed-8ec7ba48ff90",
   "metadata": {},
   "source": [
    "# Create my credentials (token.json) if needed"
   ]
  },
  {
   "cell_type": "code",
   "execution_count": 1,
   "id": "0183eec5-c220-4152-9f72-1359ff5d2e9d",
   "metadata": {
    "execution": {
     "iopub.execute_input": "2025-02-02T04:03:12.786607Z",
     "iopub.status.busy": "2025-02-02T04:03:12.786079Z",
     "iopub.status.idle": "2025-02-02T04:04:35.599117Z",
     "shell.execute_reply": "2025-02-02T04:04:35.597121Z",
     "shell.execute_reply.started": "2025-02-02T04:03:12.786547Z"
    }
   },
   "outputs": [
    {
     "name": "stderr",
     "output_type": "stream",
     "text": [
      "File /home/secrets_vault/token.json does not exist. Skipping the step to move the old token.\n"
     ]
    },
    {
     "name": "stdout",
     "output_type": "stream",
     "text": [
      "Please visit this URL to authorize this application: https://accounts.google.com/o/oauth2/auth?response_type=code&client_id=1085373024194-n8rtj5ob0b8a6r96am65f846r0m1m6je.apps.googleusercontent.com&redirect_uri=http%3A%2F%2Flocalhost%3A8080%2F&scope=https%3A%2F%2Fwww.googleapis.com%2Fauth%2Fgmail.readonly+https%3A%2F%2Fwww.googleapis.com%2Fauth%2Fspreadsheets.readonly+https%3A%2F%2Fwww.googleapis.com%2Fauth%2Fgmail.send&state=bXbg9GWztXjuEghi95MvqYjgQ2sYeZ&access_type=offline\n"
     ]
    }
   ],
   "source": [
    "from src.utils.google import recreate_token\n",
    "from src.config import SCOPES\n",
    "\n",
    "recreate_token(path_to_token=\"/home/secrets_vault/token.json\", path_to_credentials=\"/home/secrets_vault/credentials.json\", scopes=SCOPES)"
   ]
  },
  {
   "cell_type": "markdown",
   "id": "1a04637d-4f32-4249-940f-be464963cdad",
   "metadata": {},
   "source": [
    "# Test the Gmail API"
   ]
  },
  {
   "cell_type": "code",
   "execution_count": 10,
   "id": "57bd05db-93cd-43e6-98ae-236d2c7d4aab",
   "metadata": {
    "execution": {
     "iopub.execute_input": "2024-12-01T14:42:48.612529Z",
     "iopub.status.busy": "2024-12-01T14:42:48.611524Z",
     "iopub.status.idle": "2024-12-01T14:42:48.631173Z",
     "shell.execute_reply": "2024-12-01T14:42:48.629342Z",
     "shell.execute_reply.started": "2024-12-01T14:42:48.612495Z"
    }
   },
   "outputs": [
    {
     "name": "stderr",
     "output_type": "stream",
     "text": [
      "2024-12-01 14:42:48,617 - googleapiclient.discovery_cache - INFO - __init__.py -- l.49: file_cache is only supported with oauth2client<4.0.0\n"
     ]
    }
   ],
   "source": [
    "from googleapiclient.discovery import build\n",
    "\n",
    "# Build the Gmail API service\n",
    "service = build('gmail', 'v1', credentials=creds)"
   ]
  },
  {
   "cell_type": "code",
   "execution_count": 89,
   "id": "ca0b44c5-7bb5-490f-b522-5043e802dd04",
   "metadata": {
    "execution": {
     "iopub.execute_input": "2024-11-30T04:02:19.228388Z",
     "iopub.status.busy": "2024-11-30T04:02:19.228042Z",
     "iopub.status.idle": "2024-11-30T04:02:19.485972Z",
     "shell.execute_reply": "2024-11-30T04:02:19.483780Z",
     "shell.execute_reply.started": "2024-11-30T04:02:19.228364Z"
    }
   },
   "outputs": [
    {
     "name": "stdout",
     "output_type": "stream",
     "text": [
      "By default, you only receive 7 messages.\n"
     ]
    }
   ],
   "source": [
    "results = service.users().messages().list(userId='me').execute()\n",
    "messages = results.get('messages', [])\n",
    "print(f\"By default, you only receive {len(messages)} messages.\")"
   ]
  },
  {
   "cell_type": "code",
   "execution_count": 90,
   "id": "5e7d100d-4039-4173-8a3b-73538071aa38",
   "metadata": {
    "execution": {
     "iopub.execute_input": "2024-11-30T04:02:19.577129Z",
     "iopub.status.busy": "2024-11-30T04:02:19.576644Z",
     "iopub.status.idle": "2024-11-30T04:02:19.718126Z",
     "shell.execute_reply": "2024-11-30T04:02:19.717284Z",
     "shell.execute_reply.started": "2024-11-30T04:02:19.577103Z"
    }
   },
   "outputs": [
    {
     "name": "stdout",
     "output_type": "stream",
     "text": [
      "Now we have received 5 messages.\n"
     ]
    }
   ],
   "source": [
    "results = service.users().messages().list(userId='me', maxResults=5).execute()\n",
    "messages = results.get('messages', [])\n",
    "print(f\"Now we have received {len(messages)} messages.\")"
   ]
  },
  {
   "cell_type": "code",
   "execution_count": 92,
   "id": "a5ae0be1-c547-4d5c-93e4-25bd22b9cf2d",
   "metadata": {
    "execution": {
     "iopub.execute_input": "2024-11-30T04:03:00.344226Z",
     "iopub.status.busy": "2024-11-30T04:03:00.343698Z",
     "iopub.status.idle": "2024-11-30T04:03:00.356922Z",
     "shell.execute_reply": "2024-11-30T04:03:00.354782Z",
     "shell.execute_reply.started": "2024-11-30T04:03:00.344197Z"
    }
   },
   "outputs": [
    {
     "data": {
      "text/plain": [
       "{'id': '19378a89533c25da', 'threadId': '19378a89533c25da'}"
      ]
     },
     "execution_count": 92,
     "metadata": {},
     "output_type": "execute_result"
    }
   ],
   "source": [
    "messages[0]"
   ]
  },
  {
   "cell_type": "code",
   "execution_count": 4,
   "id": "53d56187-ad53-4df0-9e19-50f52295ef32",
   "metadata": {
    "execution": {
     "iopub.execute_input": "2025-01-04T03:46:30.165338Z",
     "iopub.status.busy": "2025-01-04T03:46:30.164999Z",
     "iopub.status.idle": "2025-01-04T03:46:30.463895Z",
     "shell.execute_reply": "2025-01-04T03:46:30.462545Z",
     "shell.execute_reply.started": "2025-01-04T03:46:30.165313Z"
    }
   },
   "outputs": [
    {
     "ename": "NameError",
     "evalue": "name 'service' is not defined",
     "output_type": "error",
     "traceback": [
      "\u001b[0;31m---------------------------------------------------------------------------\u001b[0m",
      "\u001b[0;31mNameError\u001b[0m                                 Traceback (most recent call last)",
      "Cell \u001b[0;32mIn[4], line 6\u001b[0m\n\u001b[1;32m      4\u001b[0m before\u001b[38;5;241m=\u001b[39m\u001b[38;5;124m\"\u001b[39m\u001b[38;5;124m2024/12/31\u001b[39m\u001b[38;5;124m\"\u001b[39m\n\u001b[1;32m      5\u001b[0m query \u001b[38;5;241m=\u001b[39m \u001b[38;5;124mf\u001b[39m\u001b[38;5;124m\"\u001b[39m\u001b[38;5;124mafter:\u001b[39m\u001b[38;5;132;01m{\u001b[39;00mafter\u001b[38;5;132;01m}\u001b[39;00m\u001b[38;5;124m before:\u001b[39m\u001b[38;5;132;01m{\u001b[39;00mbefore\u001b[38;5;132;01m}\u001b[39;00m\u001b[38;5;124m from:\u001b[39m\u001b[38;5;132;01m{\u001b[39;00mfrom_\u001b[38;5;132;01m}\u001b[39;00m\u001b[38;5;124m\"\u001b[39m\n\u001b[0;32m----> 6\u001b[0m results \u001b[38;5;241m=\u001b[39m \u001b[43mservice\u001b[49m\u001b[38;5;241m.\u001b[39musers()\u001b[38;5;241m.\u001b[39mmessages()\u001b[38;5;241m.\u001b[39mlist(userId\u001b[38;5;241m=\u001b[39m\u001b[38;5;124m'\u001b[39m\u001b[38;5;124mme\u001b[39m\u001b[38;5;124m'\u001b[39m, q\u001b[38;5;241m=\u001b[39mquery)\u001b[38;5;241m.\u001b[39mexecute()\n\u001b[1;32m      7\u001b[0m messages \u001b[38;5;241m=\u001b[39m results\u001b[38;5;241m.\u001b[39mget(\u001b[38;5;124m'\u001b[39m\u001b[38;5;124mmessages\u001b[39m\u001b[38;5;124m'\u001b[39m, [])\n\u001b[1;32m      8\u001b[0m \u001b[38;5;28;01mfor\u001b[39;00m msg \u001b[38;5;129;01min\u001b[39;00m messages:\n",
      "\u001b[0;31mNameError\u001b[0m: name 'service' is not defined"
     ]
    }
   ],
   "source": [
    "#query = 'after:2024/11/29 before:2024/12/31 from:dan@tldrnewsletter.com'\n",
    "after=\"2024/11/27\"\n",
    "from_=\"TLDR AI <dan@tldrnewsletter.com>\" #from_=\"dan@tldrnewsletter.com\"\n",
    "before=\"2024/12/31\"\n",
    "query = f\"after:{after} before:{before} from:{from_}\"\n",
    "results = service.users().messages().list(userId='me', q=query).execute()\n",
    "messages = results.get('messages', [])\n",
    "for msg in messages:\n",
    "    print('='*10)\n",
    "    msg_id = msg['id']\n",
    "    message = service.users().messages().get(userId='me', id=msg_id).execute()\n",
    "\n",
    "    # Extract headers\n",
    "    headers = message['payload']['headers']\n",
    "    subject = next(header['value'] for header in headers if header['name'] == 'Subject')\n",
    "    sender = next(header['value'] for header in headers if header['name'] == 'From')\n",
    "    date = next(header['value'] for header in headers if header['name'] == 'Date')\n",
    "    email_id = msg['id']\n",
    "    \n",
    "\n",
    "    print(f\"Subject: {subject}\")\n",
    "    print(f\"From: {sender}\")\n",
    "    print(f\"Date: {date}\")\n",
    "    print(f\"ID: {email_id}\")"
   ]
  },
  {
   "cell_type": "code",
   "execution_count": 14,
   "id": "bd41895f-b82f-46ca-b7f6-e6349432303d",
   "metadata": {
    "execution": {
     "iopub.execute_input": "2024-12-01T04:15:00.466389Z",
     "iopub.status.busy": "2024-12-01T04:15:00.465947Z",
     "iopub.status.idle": "2024-12-01T04:15:00.481226Z",
     "shell.execute_reply": "2024-12-01T04:15:00.475965Z",
     "shell.execute_reply.started": "2024-12-01T04:15:00.466357Z"
    }
   },
   "outputs": [
    {
     "data": {
      "text/plain": [
       "dict_keys(['id', 'threadId'])"
      ]
     },
     "execution_count": 14,
     "metadata": {},
     "output_type": "execute_result"
    }
   ],
   "source": [
    "messages[0].keys()"
   ]
  },
  {
   "cell_type": "markdown",
   "id": "cd0d32e9-6c9f-4c13-a0d0-5b75b2978bc8",
   "metadata": {},
   "source": [
    "# Parse a message with simple mimeType"
   ]
  },
  {
   "cell_type": "code",
   "execution_count": 116,
   "id": "4e2b48bd-646d-40c5-a048-64430ba3b766",
   "metadata": {
    "execution": {
     "iopub.execute_input": "2024-11-30T04:05:57.540093Z",
     "iopub.status.busy": "2024-11-30T04:05:57.538368Z",
     "iopub.status.idle": "2024-11-30T04:05:57.671143Z",
     "shell.execute_reply": "2024-11-30T04:05:57.670399Z",
     "shell.execute_reply.started": "2024-11-30T04:05:57.539713Z"
    }
   },
   "outputs": [],
   "source": [
    "# Get a single message\n",
    "email_id = '19375f8c0ee524ef'\n",
    "message = service.users().messages().get(userId='me', id=email_id).execute()"
   ]
  },
  {
   "cell_type": "markdown",
   "id": "8de6db87-021a-421e-81fb-dfb77b70e3f1",
   "metadata": {},
   "source": [
    "## message"
   ]
  },
  {
   "cell_type": "code",
   "execution_count": 117,
   "id": "7ef60506-28d3-4b80-b37b-0565770a215f",
   "metadata": {
    "execution": {
     "iopub.execute_input": "2024-11-30T04:05:57.672616Z",
     "iopub.status.busy": "2024-11-30T04:05:57.672316Z",
     "iopub.status.idle": "2024-11-30T04:05:57.682916Z",
     "shell.execute_reply": "2024-11-30T04:05:57.681412Z",
     "shell.execute_reply.started": "2024-11-30T04:05:57.672572Z"
    }
   },
   "outputs": [
    {
     "data": {
      "text/plain": [
       "dict"
      ]
     },
     "execution_count": 117,
     "metadata": {},
     "output_type": "execute_result"
    }
   ],
   "source": [
    "type(message)"
   ]
  },
  {
   "cell_type": "code",
   "execution_count": 118,
   "id": "9a53c474-d08b-4a97-83ec-7ba79df73e54",
   "metadata": {
    "execution": {
     "iopub.execute_input": "2024-11-30T04:05:57.685934Z",
     "iopub.status.busy": "2024-11-30T04:05:57.685505Z",
     "iopub.status.idle": "2024-11-30T04:05:57.704577Z",
     "shell.execute_reply": "2024-11-30T04:05:57.701272Z",
     "shell.execute_reply.started": "2024-11-30T04:05:57.685906Z"
    }
   },
   "outputs": [
    {
     "data": {
      "text/plain": [
       "dict_keys(['id', 'threadId', 'labelIds', 'snippet', 'payload', 'sizeEstimate', 'historyId', 'internalDate'])"
      ]
     },
     "execution_count": 118,
     "metadata": {},
     "output_type": "execute_result"
    }
   ],
   "source": [
    "message.keys()"
   ]
  },
  {
   "cell_type": "code",
   "execution_count": 119,
   "id": "00902304-8091-42f3-84b0-6b684bb261d2",
   "metadata": {
    "execution": {
     "iopub.execute_input": "2024-11-30T04:05:57.710974Z",
     "iopub.status.busy": "2024-11-30T04:05:57.710520Z",
     "iopub.status.idle": "2024-11-30T04:05:57.728081Z",
     "shell.execute_reply": "2024-11-30T04:05:57.720894Z",
     "shell.execute_reply.started": "2024-11-30T04:05:57.710945Z"
    }
   },
   "outputs": [
    {
     "data": {
      "text/plain": [
       "'19375f8c0ee524ef'"
      ]
     },
     "execution_count": 119,
     "metadata": {},
     "output_type": "execute_result"
    }
   ],
   "source": [
    "message['id']"
   ]
  },
  {
   "cell_type": "code",
   "execution_count": 120,
   "id": "84c7d95c-c7ed-4ab8-949d-57c1575ceed0",
   "metadata": {
    "execution": {
     "iopub.execute_input": "2024-11-30T04:05:57.732150Z",
     "iopub.status.busy": "2024-11-30T04:05:57.731697Z",
     "iopub.status.idle": "2024-11-30T04:05:57.748390Z",
     "shell.execute_reply": "2024-11-30T04:05:57.745173Z",
     "shell.execute_reply.started": "2024-11-30T04:05:57.732115Z"
    }
   },
   "outputs": [
    {
     "data": {
      "text/plain": [
       "'19375f8c0ee524ef'"
      ]
     },
     "execution_count": 120,
     "metadata": {},
     "output_type": "execute_result"
    }
   ],
   "source": [
    "message['threadId']"
   ]
  },
  {
   "cell_type": "code",
   "execution_count": 121,
   "id": "b5a105ca-fde2-4b0b-a452-10543790bf76",
   "metadata": {
    "execution": {
     "iopub.execute_input": "2024-11-30T04:05:57.750805Z",
     "iopub.status.busy": "2024-11-30T04:05:57.750206Z",
     "iopub.status.idle": "2024-11-30T04:05:57.764579Z",
     "shell.execute_reply": "2024-11-30T04:05:57.762258Z",
     "shell.execute_reply.started": "2024-11-30T04:05:57.750705Z"
    }
   },
   "outputs": [
    {
     "data": {
      "text/plain": [
       "['CATEGORY_UPDATES', 'INBOX']"
      ]
     },
     "execution_count": 121,
     "metadata": {},
     "output_type": "execute_result"
    }
   ],
   "source": [
    "message['labelIds']"
   ]
  },
  {
   "cell_type": "code",
   "execution_count": 122,
   "id": "34943f11-3bf7-40cd-8594-f9e5c1e1a632",
   "metadata": {
    "execution": {
     "iopub.execute_input": "2024-11-30T04:05:57.767750Z",
     "iopub.status.busy": "2024-11-30T04:05:57.766935Z",
     "iopub.status.idle": "2024-11-30T04:05:57.783700Z",
     "shell.execute_reply": "2024-11-30T04:05:57.781086Z",
     "shell.execute_reply.started": "2024-11-30T04:05:57.767721Z"
    }
   },
   "outputs": [
    {
     "data": {
      "text/plain": [
       "9445"
      ]
     },
     "execution_count": 122,
     "metadata": {},
     "output_type": "execute_result"
    }
   ],
   "source": [
    "message['sizeEstimate']"
   ]
  },
  {
   "cell_type": "code",
   "execution_count": 123,
   "id": "8e2189e7-f8b8-43a5-94ca-2e5d620155d0",
   "metadata": {
    "execution": {
     "iopub.execute_input": "2024-11-30T04:05:57.785482Z",
     "iopub.status.busy": "2024-11-30T04:05:57.785162Z",
     "iopub.status.idle": "2024-11-30T04:05:57.800879Z",
     "shell.execute_reply": "2024-11-30T04:05:57.797677Z",
     "shell.execute_reply.started": "2024-11-30T04:05:57.785448Z"
    }
   },
   "outputs": [
    {
     "data": {
      "text/plain": [
       "'2710'"
      ]
     },
     "execution_count": 123,
     "metadata": {},
     "output_type": "execute_result"
    }
   ],
   "source": [
    "message['historyId']"
   ]
  },
  {
   "cell_type": "code",
   "execution_count": 124,
   "id": "70d31644-f851-4f1f-9220-db9ab17ef135",
   "metadata": {
    "execution": {
     "iopub.execute_input": "2024-11-30T04:05:57.807515Z",
     "iopub.status.busy": "2024-11-30T04:05:57.806868Z",
     "iopub.status.idle": "2024-11-30T04:05:57.822208Z",
     "shell.execute_reply": "2024-11-30T04:05:57.818960Z",
     "shell.execute_reply.started": "2024-11-30T04:05:57.807483Z"
    }
   },
   "outputs": [
    {
     "data": {
      "text/plain": [
       "'1732851055000'"
      ]
     },
     "execution_count": 124,
     "metadata": {},
     "output_type": "execute_result"
    }
   ],
   "source": [
    "message['internalDate']"
   ]
  },
  {
   "cell_type": "markdown",
   "id": "98b80dac-ca86-408d-acec-e1ec82e66ec7",
   "metadata": {
    "execution": {
     "iopub.execute_input": "2024-11-30T03:39:17.542674Z",
     "iopub.status.busy": "2024-11-30T03:39:17.542130Z",
     "iopub.status.idle": "2024-11-30T03:39:17.551595Z",
     "shell.execute_reply": "2024-11-30T03:39:17.548653Z",
     "shell.execute_reply.started": "2024-11-30T03:39:17.542647Z"
    }
   },
   "source": [
    "## payload"
   ]
  },
  {
   "cell_type": "code",
   "execution_count": 125,
   "id": "256236b9-56c2-4a8d-8f9b-6861efd32e75",
   "metadata": {
    "execution": {
     "iopub.execute_input": "2024-11-30T04:05:57.831412Z",
     "iopub.status.busy": "2024-11-30T04:05:57.829844Z",
     "iopub.status.idle": "2024-11-30T04:05:57.843687Z",
     "shell.execute_reply": "2024-11-30T04:05:57.839187Z",
     "shell.execute_reply.started": "2024-11-30T04:05:57.831123Z"
    }
   },
   "outputs": [],
   "source": [
    "payload = message['payload']"
   ]
  },
  {
   "cell_type": "code",
   "execution_count": 126,
   "id": "32fc358e-d677-47a2-8623-8d003de182c6",
   "metadata": {
    "execution": {
     "iopub.execute_input": "2024-11-30T04:05:57.847596Z",
     "iopub.status.busy": "2024-11-30T04:05:57.845521Z",
     "iopub.status.idle": "2024-11-30T04:05:57.863269Z",
     "shell.execute_reply": "2024-11-30T04:05:57.860447Z",
     "shell.execute_reply.started": "2024-11-30T04:05:57.847547Z"
    }
   },
   "outputs": [
    {
     "name": "stdout",
     "output_type": "stream",
     "text": [
      "<class 'dict'>\n",
      "dict_keys(['partId', 'mimeType', 'filename', 'headers', 'body'])\n"
     ]
    },
    {
     "data": {
      "text/plain": [
       "(None, None)"
      ]
     },
     "execution_count": 126,
     "metadata": {},
     "output_type": "execute_result"
    }
   ],
   "source": [
    "print(type(payload)), print(payload.keys())"
   ]
  },
  {
   "cell_type": "code",
   "execution_count": 127,
   "id": "1ab09934-2959-410b-bef4-31132cde2f9f",
   "metadata": {
    "execution": {
     "iopub.execute_input": "2024-11-30T04:05:57.865956Z",
     "iopub.status.busy": "2024-11-30T04:05:57.864811Z",
     "iopub.status.idle": "2024-11-30T04:05:57.880368Z",
     "shell.execute_reply": "2024-11-30T04:05:57.876943Z",
     "shell.execute_reply.started": "2024-11-30T04:05:57.865926Z"
    }
   },
   "outputs": [
    {
     "data": {
      "text/plain": [
       "''"
      ]
     },
     "execution_count": 127,
     "metadata": {},
     "output_type": "execute_result"
    }
   ],
   "source": [
    "payload['partId']"
   ]
  },
  {
   "cell_type": "code",
   "execution_count": 133,
   "id": "66ad4d9f-1103-48b8-828c-0dd2754a6c78",
   "metadata": {
    "execution": {
     "iopub.execute_input": "2024-11-30T04:07:56.711596Z",
     "iopub.status.busy": "2024-11-30T04:07:56.711164Z",
     "iopub.status.idle": "2024-11-30T04:07:56.728453Z",
     "shell.execute_reply": "2024-11-30T04:07:56.726345Z",
     "shell.execute_reply.started": "2024-11-30T04:07:56.711562Z"
    }
   },
   "outputs": [
    {
     "data": {
      "text/plain": [
       "'text/html'"
      ]
     },
     "execution_count": 133,
     "metadata": {},
     "output_type": "execute_result"
    }
   ],
   "source": [
    "# Give the format of the email. Here it should be text/html. So a single part, we'll be able to parse that easily\n",
    "payload['mimeType']"
   ]
  },
  {
   "cell_type": "code",
   "execution_count": 129,
   "id": "a20d9c49-009d-473e-9a4d-062001c8cca9",
   "metadata": {
    "execution": {
     "iopub.execute_input": "2024-11-30T04:05:57.914155Z",
     "iopub.status.busy": "2024-11-30T04:05:57.911702Z",
     "iopub.status.idle": "2024-11-30T04:05:57.946676Z",
     "shell.execute_reply": "2024-11-30T04:05:57.942529Z",
     "shell.execute_reply.started": "2024-11-30T04:05:57.913985Z"
    }
   },
   "outputs": [
    {
     "data": {
      "text/plain": [
       "''"
      ]
     },
     "execution_count": 129,
     "metadata": {},
     "output_type": "execute_result"
    }
   ],
   "source": [
    "payload['filename']"
   ]
  },
  {
   "cell_type": "code",
   "execution_count": 130,
   "id": "5bbbc3d0-5ef7-484f-9cec-31384f7059d8",
   "metadata": {
    "execution": {
     "iopub.execute_input": "2024-11-30T04:05:57.951258Z",
     "iopub.status.busy": "2024-11-30T04:05:57.950670Z",
     "iopub.status.idle": "2024-11-30T04:05:57.978843Z",
     "shell.execute_reply": "2024-11-30T04:05:57.973472Z",
     "shell.execute_reply.started": "2024-11-30T04:05:57.951223Z"
    }
   },
   "outputs": [
    {
     "data": {
      "text/plain": [
       "dict_keys(['size', 'data'])"
      ]
     },
     "execution_count": 130,
     "metadata": {},
     "output_type": "execute_result"
    }
   ],
   "source": [
    "payload['body'].keys()"
   ]
  },
  {
   "cell_type": "code",
   "execution_count": 131,
   "id": "8b0b24c2-6931-4688-a0ca-2d3f3ec6587e",
   "metadata": {
    "execution": {
     "iopub.execute_input": "2024-11-30T04:05:57.983608Z",
     "iopub.status.busy": "2024-11-30T04:05:57.982453Z",
     "iopub.status.idle": "2024-11-30T04:05:58.009445Z",
     "shell.execute_reply": "2024-11-30T04:05:58.000664Z",
     "shell.execute_reply.started": "2024-11-30T04:05:57.983463Z"
    },
    "scrolled": true
   },
   "outputs": [
    {
     "data": {
      "text/plain": [
       "'\\r\\n  <!DOCTYPE html PUBLIC \"-//W3C//DTD XHTML 1.0 Transitional//EN\" \"http://www.w3.org/TR/xhtml1/DTD/xhtml1-transitional.dtd\">\\r\\n    <html>\\r\\n    <head>\\r\\n        <title>Thanks for subscribing!</title>\\r\\n    </head>\\r\\n    <body>\\r\\n    <table width=\"100%\" cellspacing=\"0\" cellpadding=\"0\" style=\"font-family: Arial, Helvetica, sans-serif; max-width: 700px; margin: 0 auto; padding: 15px;\">\\r\\n        <tr>\\r\\n            <td>\\r\\n                <p style=\"font-size: 16px;\"><b>Welcome to TLDR AI! Before we get into what to expect, one quick thing:</b></p>\\r\\n                <p style=\"font-size: 16px;\">1) <b>Reply \\'OK\\' to this email.</b> (You can skip this step if you\\'re signing up an RSS reader, Google Group, or Slack Group you are automatically verified).</p>\\r\\n                <p style=\"font-size: 16px;\">2) If this email is in the spam or promotions folder make sure to <b>move it to your primary inbox.</b> Here\\'s how to do it:</p>\\r\\n                <p><b>For Gmail on your phone:</b> Hit the 3 dots at top right corner, click \"Move to\" then \"Primary.\"</p>\\r\\n                <p><b>For Gmail on your computer:</b> Back out of this email then drag and drop this email into the \"Primary\" tab near the top left of your screen.</p>\\r\\n                <p><b>For Apple mail users:</b> Tap on our email address at the top of this email (next to \"From:\" on mobile) and click \"Add to VIPs.\"</p>\\r\\n                <p><b>For everyone else:</b> <a href=\"https://click.pstmrk.it/3s/help.aweber.com%2Fhc%2Fen-us%2Farticles%2F204029246/pEGE/86y5AQ/AQ/8f5373ee-a7c1-44d5-b2e9-39fd3c820ec0/1/wT7FM61jZt\">Please follow these instructions</a>.</p>\\r\\n                <p style=\"font-size: 16px;\">3) When you’re done with steps 1 and 2, click the button below to finalize your signup!</p>\\r\\n            </td>\\r\\n        </tr>\\r\\n        <tr>\\r\\n            <td align=\"center\">\\r\\n                <table cellspacing=\"0\" cellpadding=\"0\">\\r\\n                    <tr>\\r\\n                        <td align=\"center\" style=\"border-radius: 5px;\">\\r\\n                            <a href=\"https://click.pstmrk.it/3s/tldr.tech%2Fconfirmed%3Femail%3Dautomatic.newsletters%2540gmail.com%26newsletter%3Dai/pEGE/86y5AQ/AQ/8f5373ee-a7c1-44d5-b2e9-39fd3c820ec0/2/EA5M_uvhG8\" style=\"background-color: #5a19ff; background: linear-gradient(-225deg, #ac32e4 0%, #7918f2 48%, #5a19ff 100%); color: white; font-size: 16px; font-family: Arial, sans-serif; text-decoration: none; padding: 10px 20px; display: block;\">Confirm Signup</a>\\r\\n                        </td>\\r\\n                    </tr>\\r\\n                </table>\\r\\n            </td>\\r\\n        </tr>\\r\\n        <tr>\\r\\n            <td>\\r\\n                <br>\\r\\n                <p style=\"font-size: 16px;\">PS: If you did not subscribe to TLDR AI, please <a href=\"https://click.pstmrk.it/3s/tldr.tech%2Fapi%2Funsubscribe%2Fai%3Femail%3Dautomatic.newsletters%2540gmail.com/pEGE/86y5AQ/AQ/8f5373ee-a7c1-44d5-b2e9-39fd3c820ec0/3/pIHw5eKZm9\">click here</a> to unsubscribe.</p>\\r\\n            </td>\\r\\n        </tr>\\r\\n      </table>\\r\\n      <img src=\"https://ea.pstmrk.it/open?m=v3_1.L8oEOih9MvM7q7pOlosPFw.9KtiWEGFP4i2ybZ1bs5IHV7yDbzXpo8x5HlbXL3JSic6I1y5-mVdSVM83-9lnCu-764n7_YWtpRwgmzOSaxX4aDekRnCsSVD5FBfoIPwjzPYk7q9mAF9cGfxIyATDcTm0a4ZE8gxx1gKu97paf2wrplaauizhONSi7lpKAHRIrqaWtnSGnRJaj-qJUbdGoT8mQbQEjHRP_0Hz65GADaEoiShq4yddeBNnl14cdQ0M6-VzVRmDvotDLWO74BG68LZ6Fi8-qTn0xjvNRkKuvJNMOtYq3_cRrOB79Xwn60e_ts3NLLDIzl9HyuhrQM3AHOaNPzmonWZid4gBCWb8mNlNsstKo1WJ3ze1nfrAdTyxuQ5XMxcFzl3bllhAcbc2obexLRforIeUsxoa-uh4fQdl3LDX_r8DhD4sAPUk0HaTaM30av04r9MGeYT0vdNQBDRz07t8I8jMT6y0kQSjvm3dH_S0z70IE1sdNQiKN0oeO2KT_mD7B-SVcRGQNOAo-dQa8miei-phsg-ZXgnLV6cmw\" width=\"1\" height=\"1\" border=\"0\" alt=\"\" /></body>\\r\\n    </html>\\r\\n    '"
      ]
     },
     "execution_count": 131,
     "metadata": {},
     "output_type": "execute_result"
    }
   ],
   "source": [
    "import base64\n",
    "\n",
    "body_data = message['payload']['body']['data']\n",
    "decoded_body = base64.urlsafe_b64decode(body_data).decode()\n",
    "decoded_body"
   ]
  },
  {
   "cell_type": "code",
   "execution_count": 132,
   "id": "dcfd107e-b5f6-4a17-8e0f-c01d9ee4b82b",
   "metadata": {
    "execution": {
     "iopub.execute_input": "2024-11-30T04:05:58.014555Z",
     "iopub.status.busy": "2024-11-30T04:05:58.012104Z",
     "iopub.status.idle": "2024-11-30T04:05:58.052624Z",
     "shell.execute_reply": "2024-11-30T04:05:58.040723Z",
     "shell.execute_reply.started": "2024-11-30T04:05:58.014515Z"
    },
    "scrolled": true
   },
   "outputs": [
    {
     "name": "stdout",
     "output_type": "stream",
     "text": [
      "\n",
      "\n",
      "\n",
      "\n",
      "Thanks for subscribing!\n",
      "\n",
      "\n",
      "\n",
      "\n",
      "\n",
      "Welcome to TLDR AI! Before we get into what to expect, one quick thing:\n",
      "1) Reply 'OK' to this email. (You can skip this step if you're signing up an RSS reader, Google Group, or Slack Group you are automatically verified).\n",
      "2) If this email is in the spam or promotions folder make sure to move it to your primary inbox. Here's how to do it:\n",
      "For Gmail on your phone: Hit the 3 dots at top right corner, click \"Move to\" then \"Primary.\"\n",
      "For Gmail on your computer: Back out of this email then drag and drop this email into the \"Primary\" tab near the top left of your screen.\n",
      "For Apple mail users: Tap on our email address at the top of this email (next to \"From:\" on mobile) and click \"Add to VIPs.\"\n",
      "For everyone else: Please follow these instructions.\n",
      "3) When you’re done with steps 1 and 2, click the button below to finalize your signup!\n",
      "\n",
      "\n",
      "\n",
      "\n",
      "\n",
      "\n",
      "\n",
      "Confirm Signup\n",
      "\n",
      "\n",
      "\n",
      "\n",
      "\n",
      "\n",
      "\n",
      "\n",
      "PS: If you did not subscribe to TLDR AI, please click here to unsubscribe.\n",
      "\n",
      "\n",
      "\n",
      "\n",
      "\n",
      "\n"
     ]
    }
   ],
   "source": [
    "from bs4 import BeautifulSoup\n",
    "\n",
    "plain_text = BeautifulSoup(decoded_body, 'html.parser').get_text()\n",
    "print(plain_text)  # Prints the plain text content of the HTML"
   ]
  },
  {
   "cell_type": "markdown",
   "id": "db035c3f-ff6a-4d87-b24d-c159a9ce39e4",
   "metadata": {},
   "source": [
    "# Parse an email with multiple parts"
   ]
  },
  {
   "cell_type": "code",
   "execution_count": 35,
   "id": "7e141e16-a00b-4598-95f8-9ff6b4c8aa0e",
   "metadata": {
    "execution": {
     "iopub.execute_input": "2024-12-01T04:37:21.075261Z",
     "iopub.status.busy": "2024-12-01T04:37:21.074190Z",
     "iopub.status.idle": "2024-12-01T04:37:21.309846Z",
     "shell.execute_reply": "2024-12-01T04:37:21.308661Z",
     "shell.execute_reply.started": "2024-12-01T04:37:21.075216Z"
    }
   },
   "outputs": [
    {
     "name": "stderr",
     "output_type": "stream",
     "text": [
      "2024-12-01 04:37:21,079 DEBUG discovery.py--l.1258: URL being requested: GET https://gmail.googleapis.com/gmail/v1/users/me/messages/19378480b1d8b929?alt=json\n"
     ]
    }
   ],
   "source": [
    "# Get a single message\n",
    "email_id = '19378480b1d8b929'\n",
    "message = service.users().messages().get(userId='me', id=email_id).execute()"
   ]
  },
  {
   "cell_type": "code",
   "execution_count": 36,
   "id": "e671011e-45f8-4546-a694-533ecf5d26d7",
   "metadata": {
    "execution": {
     "iopub.execute_input": "2024-12-01T04:37:21.892874Z",
     "iopub.status.busy": "2024-12-01T04:37:21.890506Z",
     "iopub.status.idle": "2024-12-01T04:37:22.010208Z",
     "shell.execute_reply": "2024-12-01T04:37:22.008528Z",
     "shell.execute_reply.started": "2024-12-01T04:37:21.892753Z"
    }
   },
   "outputs": [
    {
     "name": "stderr",
     "output_type": "stream",
     "text": [
      "2024-12-01 04:37:21,896 DEBUG discovery.py--l.1258: URL being requested: GET https://gmail.googleapis.com/gmail/v1/users/me/messages/19377ae6d00bdb0c?alt=json\n"
     ]
    },
    {
     "name": "stdout",
     "output_type": "stream",
     "text": [
      "Delivered-To\n",
      "Received\n",
      "X-Google-Smtp-Source\n",
      "X-Received\n",
      "ARC-Seal\n",
      "ARC-Message-Signature\n",
      "ARC-Authentication-Results\n",
      "Return-Path\n",
      "Received\n",
      "Received-SPF\n",
      "Authentication-Results\n",
      "DKIM-Signature\n",
      "DKIM-Signature\n",
      "From\n",
      "To\n",
      "Subject\n",
      "X-Entity-Ref-Id\n",
      "X-EmailOctopus-Parent-Id\n",
      "X-EmailOctopus-Parent-Type-Id\n",
      "X-EmailOctopus-List-Id\n",
      "X-EmailOctopus-List-Contact-Id\n",
      "X-EmailOctopus-Started-Preparing-At\n",
      "X-EmailOctopus-Sent-At\n",
      "X-EmailOctopus-Team-Id\n",
      "X-EmailOctopus-Version\n",
      "List-Unsubscribe\n",
      "List-Unsubscribe-Post\n",
      "X-EmailOctopus-Ses-Configuration-Set-Name\n",
      "MIME-Version\n",
      "Date\n",
      "Message-ID\n",
      "Content-Type\n",
      "Feedback-ID\n",
      "X-SES-Outgoing\n"
     ]
    }
   ],
   "source": [
    "# Check the list of possible headers in the email\n",
    "message = service.users().messages().get(userId='me', id=messages[0]['id']).execute()\n",
    "for hd in message['payload']['headers']:\n",
    "    print(hd['name'])"
   ]
  },
  {
   "cell_type": "code",
   "execution_count": 33,
   "id": "9c2d26fa-72b0-421f-8589-dbc9faabb298",
   "metadata": {
    "execution": {
     "iopub.execute_input": "2024-12-01T04:32:59.021293Z",
     "iopub.status.busy": "2024-12-01T04:32:59.020250Z",
     "iopub.status.idle": "2024-12-01T04:32:59.032249Z",
     "shell.execute_reply": "2024-12-01T04:32:59.031265Z",
     "shell.execute_reply.started": "2024-12-01T04:32:59.021261Z"
    }
   },
   "outputs": [
    {
     "data": {
      "text/plain": [
       "'multipart/alternative'"
      ]
     },
     "execution_count": 33,
     "metadata": {},
     "output_type": "execute_result"
    }
   ],
   "source": [
    "# Give the format of the email. \n",
    "# Multipart (HTML and Plain Text): Use the parts array to select the desired format.\n",
    "message['payload']['mimeType']"
   ]
  },
  {
   "cell_type": "code",
   "execution_count": 8,
   "id": "41b21028-7716-4204-aaaf-9650a823bf1f",
   "metadata": {
    "execution": {
     "iopub.execute_input": "2024-12-01T03:54:59.422461Z",
     "iopub.status.busy": "2024-12-01T03:54:59.421340Z",
     "iopub.status.idle": "2024-12-01T03:54:59.430752Z",
     "shell.execute_reply": "2024-12-01T03:54:59.430004Z",
     "shell.execute_reply.started": "2024-12-01T03:54:59.422413Z"
    }
   },
   "outputs": [
    {
     "data": {
      "text/plain": [
       "dict_keys(['partId', 'mimeType', 'filename', 'headers', 'body', 'parts'])"
      ]
     },
     "execution_count": 8,
     "metadata": {},
     "output_type": "execute_result"
    }
   ],
   "source": [
    "message['payload'].keys()"
   ]
  },
  {
   "cell_type": "code",
   "execution_count": 9,
   "id": "6d336611-8756-42ba-9d35-f212c6c70a4f",
   "metadata": {
    "execution": {
     "iopub.execute_input": "2024-12-01T03:55:00.943351Z",
     "iopub.status.busy": "2024-12-01T03:55:00.942475Z",
     "iopub.status.idle": "2024-12-01T03:55:00.951627Z",
     "shell.execute_reply": "2024-12-01T03:55:00.950370Z",
     "shell.execute_reply.started": "2024-12-01T03:55:00.943305Z"
    }
   },
   "outputs": [
    {
     "data": {
      "text/plain": [
       "{'size': 0}"
      ]
     },
     "execution_count": 9,
     "metadata": {},
     "output_type": "execute_result"
    }
   ],
   "source": [
    "# In the case of a multiparts email, there is nothing in the body\n",
    "message['payload']['body']"
   ]
  },
  {
   "cell_type": "code",
   "execution_count": 10,
   "id": "6f0a8093-c8bf-4bef-b640-e308df4df585",
   "metadata": {
    "execution": {
     "iopub.execute_input": "2024-12-01T03:55:02.740567Z",
     "iopub.status.busy": "2024-12-01T03:55:02.739560Z",
     "iopub.status.idle": "2024-12-01T03:55:02.746731Z",
     "shell.execute_reply": "2024-12-01T03:55:02.745702Z",
     "shell.execute_reply.started": "2024-12-01T03:55:02.740540Z"
    }
   },
   "outputs": [
    {
     "data": {
      "text/plain": [
       "2"
      ]
     },
     "execution_count": 10,
     "metadata": {},
     "output_type": "execute_result"
    }
   ],
   "source": [
    "# And 'payload' has a new key, 'parts'\n",
    "len(message['payload']['parts'])"
   ]
  },
  {
   "cell_type": "code",
   "execution_count": 39,
   "id": "388137d3-3b1a-4373-95b6-1661d154beba",
   "metadata": {
    "execution": {
     "iopub.execute_input": "2024-12-01T04:41:28.726091Z",
     "iopub.status.busy": "2024-12-01T04:41:28.724961Z",
     "iopub.status.idle": "2024-12-01T04:41:28.737199Z",
     "shell.execute_reply": "2024-12-01T04:41:28.735115Z",
     "shell.execute_reply.started": "2024-12-01T04:41:28.726058Z"
    },
    "scrolled": true
   },
   "outputs": [
    {
     "name": "stdout",
     "output_type": "stream",
     "text": [
      "Bluesky says it is working to comply with European Union rules after\n",
      "it was accused of flouting digital regulations. It is consulting with\n",
      "lawyers ‌ ‌ ‌ ‌ ‌ ‌ ‌ ‌ ‌ ‌ ‌ ‌ ‌ ‌ ‌ ‌ ‌ ‌ ‌ ‌ ‌ ‌ ‌ ‌ ‌ ‌  ‌ ‌ ‌ ‌ ‌ ‌ ‌ ‌ ‌ ‌ ‌ ‌ ‌ ‌ ‌ ‌ ‌ ‌ ‌ ‌ ‌ ‌ ‌ ‌ ‌ ‌ \n",
      "\n",
      "\n",
      " Sign Up [1] |Advertise [2]|View Online [3] \n",
      "\n",
      "\t\tTLDR \n",
      "\n",
      "\t\tTOGETHER WITH [Dollar Flight Club] [4]\n",
      "\n",
      "TLDR 2024-11-29\n",
      "\n",
      " 🎁 THIS HOLIDAY SEASON, SPEND $1 TODAY FOR $2K OFF VACATIONS TO THE\n",
      "WORLD'S MOST SPECTACULAR DESTINATIONS (SPONSOR) [4] \n",
      "\n",
      " Would you spend one dollar if it meant you could travel the world –\n",
      "for your next holiday adventure?\n",
      "\n",
      "Dollar Flight Club [4] makes that dream a reality. Try for just $1\n",
      "today to join a club of over 1 million members saving up to 90% on\n",
      "every flight. Just select your departure airports, relax, and they'll\n",
      "alert you when great deals roll in.\n",
      "\n",
      "Here are just a few holiday-ready destinations you could explore:\n",
      "\n",
      "🇫🇷France: $282 roundtrip\n",
      "\n",
      "🇨🇷Costa Rica: $173 roundtrip\n",
      "\n",
      "🇪🇸Spain: $247 roundtrip\n",
      "\n",
      "🇯🇵Japan: $455 roundtrip\n",
      "\n",
      "🇺🇸Hawaii: $161 roundtrip\n",
      "\n",
      "It's the season of giving. What better gift to yourself than seeing\n",
      "the world for next to nothing?\n",
      "\n",
      "🎉 _Special Holiday Offer_ for TLDR readers! Try for $1 [4]\n",
      "\n",
      "📱 \n",
      "\n",
      "BIG TECH & STARTUPS\n",
      "\n",
      " BLUESKY SAYS IT WILL COMPLY WITH EU RULES AFTER BEING CALLED OUT (3\n",
      "MINUTE READ) [5] \n",
      "\n",
      " Bluesky says it is working to comply with European Union rules after\n",
      "it was accused of flouting digital regulations. The company is\n",
      "consulting with lawyers to follow the EU's information disclosure\n",
      "rules. Bluesky has exploded in popularity as many people are seeking\n",
      "alternatives to X. It added a million users in a single day on\n",
      "November 15 and last week surpassed 20 million users. \n",
      "\n",
      " SMART GADGETS' FAILURE TO COMMIT TO SOFTWARE SUPPORT COULD BE\n",
      "ILLEGAL, FTC WARNS (4 MINUTE READ) [6] \n",
      "\n",
      " The Federal Trade Commission (FTC) has warned makers of smart devices\n",
      "that they may be breaking the Magnuson Moss Warranty Act if they fail\n",
      "to disclose how long they will support their products with software\n",
      "updates. The majority of products reviewed by the FTC failed to\n",
      "disclose the device's support duration or end date. Google's AI\n",
      "Overviews may provide incorrect software support information. Many\n",
      "vendors reviewed by the FTC make software support information elusive,\n",
      "sometimes burying the information in specs, support, FAQ pages, or\n",
      "footnotes. \n",
      "\n",
      "🚀 \n",
      "\n",
      "SCIENCE & FUTURISTIC TECHNOLOGY\n",
      "\n",
      " GOLD-BASED DRUG SLOWS CANCER TUMOR GROWTH BY 82%, OUTPERFORMS\n",
      "CHEMOTHERAPY (4 MINUTE READ) [7] \n",
      "\n",
      " Researchers from Australia and India have revealed a novel gold-based\n",
      "drug that shows significant promise in the fight against cancer. The\n",
      "new gold compound is 27 times more potent against cervical cancer\n",
      "cells than a widely used chemotherapy drug. It is also 3.5 times more\n",
      "effective against prostate cancer and 7.5 times more effective against\n",
      "fibrosarcoma than current treatments. The compound is tailored to\n",
      "interact with an enzyme abundant in cancer cells. It effectively stops\n",
      "cancer cells from multiplying and developing drug resistance. \n",
      "\n",
      " WHAT FOSSILIZED DINO FECES CAN TELL US ABOUT THEIR RISE TO DOMINANCE\n",
      "(6 MINUTE READ) [8] \n",
      "\n",
      " Coprolites and paleofeces can be a veritable goldmine of information.\n",
      "They can indicate whether an animal was a carnivore and how they may\n",
      "have eaten their prey. The size and shape can also reveal what type of\n",
      "animal it was. Studies of dinosaur coprolites and paleofeces support\n",
      "the theory that dinosaurs rose to dominance from the Late Triassic\n",
      "Period to the onset of the Jurassic Period as they were better able to\n",
      "adapt to a rapidly changing environment brought about by random\n",
      "processes like volcanic eruptions, climate changes, and other\n",
      "catastrophic events. \n",
      "\n",
      "💻 \n",
      "\n",
      "PROGRAMMING, DESIGN & DATA SCIENCE\n",
      "\n",
      " FLOUR, WATER, SALT, GITHUB: THE BREAD CODE IS A SOURDOUGH BAKING\n",
      "FRAMEWORK (9 MINUTE READ) [9] \n",
      "\n",
      " The Bread Code is a GitHub repository centered around a book called\n",
      "The Sourdough Framework. It's an open source code base that\n",
      "self-compiles into new LaTeX book editions that is free to read\n",
      "online. The repository is centered around one real bread loaf recipe\n",
      "and has 17 flowcharts, 15 tables, and dozens of timelines, process\n",
      "illustrations, and photos of good and bad examples. The Bread Code was\n",
      "created by Hendrik Kleinwächter, a full-stack engineer who has\n",
      "founded firms and worked at companies related to blogging, e-commerce,\n",
      "food ordering, travel, and health. \n",
      "\n",
      " SCREENSHOT-TO-CODE (GITHUB REPO) [10] \n",
      "\n",
      " screenshot-to-code is an AI tool that converts screenshots, mockups,\n",
      "and Figma designs into functional code. It supports HTML + Tailwind,\n",
      "HTML + CSS, React + Tailwind, Vue + Tailwind, Bootstrap, Ionic +\n",
      "Tailwind, and SVG using Claude Sonnet 3.5 and GPT-4o. It can also\n",
      "generate images using DALL-3 or Flux Schnell. Video examples are\n",
      "available. \n",
      "\n",
      "🎁 \n",
      "\n",
      "MISCELLANEOUS\n",
      "\n",
      " BREAKING DOWN THE DOJ'S PLAN TO END GOOGLE'S SEARCH MONOPOLY (14\n",
      "MINUTE READ) [11] \n",
      "\n",
      " The Department of Justice's remedies, aimed at breaking up Google's\n",
      "search monopoly, range from syndicating the company's search results\n",
      "to selling the Chrome browser. The remedies could imperil Google's\n",
      "ability to compete in its core business of search and search\n",
      "advertising. Google could see billions of dollars shaved off its\n",
      "empire. There are several potential buyers for Chrome, but some of the\n",
      "Big Tech companies that might want it, such as Amazon and Meta, would\n",
      "likely be blocked as potential antitrust threats. Chrome could be\n",
      "valuable to large language model companies as it could provide a\n",
      "distribution channel for their services. \n",
      "\n",
      " THE BEGINNING OF THE END OF BIG TECH (5 MINUTE READ) [12] \n",
      "\n",
      " Critique of Big Tech is now commonplace. The collateral consequences\n",
      "of the current Big Tech model - centralization, surveillance, and\n",
      "information control - are too obvious to ignore. This concentration of\n",
      "power leads to things like the CrowdStrike outage that happened in the\n",
      "middle of this year. Big Tech's end will be the beginning of a new and\n",
      "vibrant ecosystem that is actually innovative and built for benefit,\n",
      "not just profit and control. \n",
      "\n",
      "⚡ \n",
      "\n",
      "QUICK LINKS\n",
      "\n",
      " INDIA TO EXPAND EV MANUFACTURING INCENTIVES AFTER TESLA\n",
      "DISAPPOINTMENT, SOURCE SAYS (2 MINUTE READ) [13] \n",
      "\n",
      " India plans to expand its EV policy to encourage existing automakers\n",
      "in the country instead of limiting the benefits to only automakers\n",
      "willing to build new plants. \n",
      "\n",
      " DUE TO EXPORT RESTRICTIONS, HUAWEI HAS BEEN FORCED TO DEVELOP A WEIRD\n",
      "HYBRID SSD/TAPE STORAGE DRIVE FOR DATA ARCHIVING (4 MINUTE READ) [14] \n",
      "\n",
      " Huawei's magnetic-electric drives combine a large SSD with twin tape\n",
      "spools and drivers all in one handy unit. \n",
      "\n",
      " CRAFT 3 IS SHOCKINGLY CLOSE TO MY IDEAL PRODUCTIVITY APP (5 MINUTE\n",
      "READ) [15] \n",
      "\n",
      " Craft is a tool that helps users organize their entire life. \n",
      "\n",
      " REDDIT LOOKS TO UK, INDIA, BRAZIL, AND THE PHILIPPINES TO SPUR\n",
      "INTERNATIONAL GROWTH (1 MINUTE READ) [16] \n",
      "\n",
      " More than 50% of Reddit's user base is outside of the US, but the US\n",
      "accounts for 83% of the site's total revenue. \n",
      "\n",
      " CASIO TURNS BACK TIME WITH THE G-SHOCK THAT STARTED IT ALL (3 MINUTE\n",
      "READ) [17] \n",
      "\n",
      " Casio's new G-Shock Dw-5000R is visually nearly identical to the\n",
      "original Dw-5000C launched in 1983. \n",
      "\n",
      " WHY THE WORLD'S POWERS ARE LOCKED IN A BATTLE OVER COMPUTER CHIPS (9\n",
      "MINUTE READ) [18] \n",
      "\n",
      " Computer chips are vital in processing and understanding the\n",
      "mountains of data that are the lifeblood of the economy. \n",
      "\n",
      "Want to advertise in TLDR? 📰\n",
      "\n",
      " If your company is interested in reaching an audience of tech\n",
      "executives, decision-makers and engineers, you may want to ADVERTISE\n",
      "WITH US [19]. \n",
      "\n",
      " If you have any comments or feedback, just respond to this email! \n",
      "\n",
      "Thanks for reading, \n",
      "Dan Ni & Stephen Flanders \n",
      "\n",
      "If you don't want to receive future editions of TLDR, please\n",
      "unsubscribe from TLDR [20] or manage all of your TLDR newsletter\n",
      "subscriptions [21]. \n",
      "\n",
      " \n",
      "\n",
      "Links:\n",
      "------\n",
      "[1] https://tldr.tech/signup?utm_source=tldr\n",
      "[2] https://advertise.tldr.tech/?utm_source=tldr&utm_medium=newsletter&utm_campaign=advertisetopnav\n",
      "[3] https://berenice.eomail3.com/web-version?ep=1&lc=72e4a2a0-ae02-11ef-a394-6dc3c0f62180&p=e8e4fed0-ae40-11ef-b0c8-0d816b76854b&pt=campaign&t=1732879739&s=68ee1ba0ead3c7a7ec7e27cef4ab46fb26bc8472b74aa88aa9557e8924199b54\n",
      "[4] https://app.dollarflightclub.com/signup/cheapflights4?utm_source=tldr&utm_medium=paidplacement\n",
      "[5] https://www.bloomberg.com/news/articles/2024-11-26/bluesky-says-it-will-comply-with-eu-rules-after-being-called-out?utm_source=tldrnewsletter\n",
      "[6] https://arstechnica.com/gadgets/2024/11/smart-gadgets-failure-to-commit-to-software-support-could-be-illegal-ftc-warns/?utm_source=tldrnewsletter\n",
      "[7] https://interestingengineering.com/health/gold-based-drug-slows-cancer?utm_source=tldrnewsletter\n",
      "[8] https://arstechnica.com/science/2024/11/what-fossilized-dino-feces-can-tell-us-about-their-rise-to-dominance/?utm_source=tldrnewsletter\n",
      "[9] https://arstechnica.com/culture/2024/11/flour-water-salt-github-the-bread-code-is-a-sourdough-baking-framework/?utm_source=tldrnewsletter\n",
      "[10] https://github.com/abi/screenshot-to-code?utm_source=tldrnewsletter\n",
      "[11] https://www.theverge.com/2024/11/27/24302415/doj-google-search-antitrust-remedies-chrome-android?utm_source=tldrnewsletter\n",
      "[12] https://www.wired.com/story/the-beginning-of-the-end-of-big-tech/?utm_source=tldrnewsletter\n",
      "[13] https://links.tldrnewsletter.com/ZDT7OZ\n",
      "[14] https://www.pcgamer.com/hardware/storage/due-to-export-restrictions-huawei-has-been-forced-to-develop-a-weird-hybrid-ssd-tape-storage-drive-for-data-archiving/?utm_source=tldrnewsletter\n",
      "[15] https://www.theverge.com/2024/11/28/24307906/craft-3-notes-tasks-calendar-app-mac-iphone-windows?utm_source=tldrnewsletter\n",
      "[16] https://techcrunch.com/2024/11/28/reddit-looks-to-uk-india-brazil-and-the-philippines-to-spur-international-growth/?utm_source=tldrnewsletter\n",
      "[17] https://www.theverge.com/2024/11/28/24308133/casio-g-shock-dw5000r-digital-watch-announcement?utm_source=tldrnewsletter\n",
      "[18] https://www.bloomberg.com/news/articles/2024-11-28/nvidia-tsmc-huawei-how-us-china-others-are-fighting-for-chip-dominance?utm_source=tldrnewsletter\n",
      "[19] https://advertise.tldr.tech/?utm_source=tldr&utm_medium=newsletter&utm_campaign=advertisecta\n",
      "[20] https://berenice.eomail3.com/unsubscribe?ep=1&l=cfa2d55a-b7be-11e8-a3c9-06b79b628af2&lc=72e4a2a0-ae02-11ef-a394-6dc3c0f62180&p=e8e4fed0-ae40-11ef-b0c8-0d816b76854b&pt=campaign&pv=4&spa=1732878164&t=1732879739&s=e6e8f5513236df46b7998603ef3b3ef0d9cce125fd3a7523edb7a3053fc66be5\n",
      "[21] https://tldr.tech/tech/manage?email=automatic.newsletters%40gmail.com\n"
     ]
    }
   ],
   "source": [
    "import base64\n",
    "\n",
    "for pp in message['payload']['parts']:\n",
    "    if pp['mimeType'] == 'text/plain':\n",
    "        body_data = pp['body']['data']\n",
    "        decoded_body = base64.urlsafe_b64decode(body_data).decode()\n",
    "        print(decoded_body)"
   ]
  },
  {
   "cell_type": "code",
   "execution_count": 150,
   "id": "eb620e40-c1c5-4027-8f8d-c03955782c37",
   "metadata": {
    "execution": {
     "iopub.execute_input": "2024-11-30T04:22:08.757634Z",
     "iopub.status.busy": "2024-11-30T04:22:08.756700Z",
     "iopub.status.idle": "2024-11-30T04:22:08.940391Z",
     "shell.execute_reply": "2024-11-30T04:22:08.937335Z",
     "shell.execute_reply.started": "2024-11-30T04:22:08.757590Z"
    },
    "scrolled": true
   },
   "outputs": [
    {
     "name": "stdout",
     "output_type": "stream",
     "text": [
      "TLDR AI\n",
      "Elon Musk's xAI plans to launch a standalone app for its Grok chatbot by December, competing directly with OpenAI's ChatGPT. ‌ ‌ ‌ ‌ ‌ ‌ ‌ ‌ ‌ ‌ ‌ ‌ ‌ ‌ ‌ ‌ ‌ ‌ ‌ ‌ ‌ ‌ ‌ ‌ ‌ ‌  ‌ ‌ ‌ ‌ ‌ ‌ ‌ ‌ ‌ ‌ ‌ ‌ ‌ ‌ ‌ ‌ ‌ ‌ ‌ ‌ ‌ ‌ ‌ ‌ ‌ ‌ \n",
      "\n",
      "\n",
      "\n",
      "\n",
      "\n",
      "\n",
      "\n",
      "\n",
      "\n",
      "\n",
      "Sign Up\n",
      "|Advertise|View Online\n",
      "\n",
      "\n",
      "\n",
      "TLDR\n",
      "\n",
      "Together With \n",
      "\n",
      "\n",
      "\n",
      "TLDR AI 2024-11-29\n",
      "\n",
      "\n",
      "\n",
      "\n",
      "\n",
      "\n",
      "\n",
      "🎁 This Holiday Season, Protect Your Privacy: Data Brokers Are Selling Them Legally (Sponsor)\n",
      "\n",
      "\n",
      "\n",
      "\n",
      "\n",
      "                                    This holiday season, you deserve peace of mind—especially when it comes to your personal data.Check out Incogni — it's the hassle-free way to protect your data privacy:\n",
      "\n",
      "Incogni scans people search sites for your personal information and sends removal requests on your behalf.\n",
      "Within ±14 days, your records are off the dark corners of the internet.\n",
      "Every 10 days, Incogni does it all over again.\n",
      "You stay in the loop with regular privacy reports.\n",
      "\n",
      "Take back control. Reduce spam, scam, and cyber risk.\n",
      "🎄 Special Holiday Offer: Get 58% off Incogni with code TLDRAI (30 day money back guarantee)\n",
      "\n",
      "\n",
      "\n",
      "\n",
      "\n",
      "\n",
      "\n",
      "\n",
      "\n",
      "\n",
      "\n",
      "\n",
      "🚀\n",
      "\n",
      "\n",
      "\n",
      "\n",
      "Headlines & Launches\n",
      "\n",
      "\n",
      "\n",
      "\n",
      "\n",
      "\n",
      "\n",
      "\n",
      "\n",
      "Alibaba Challenging OpenAI's o1 with a New Model (2 minute read)\n",
      "\n",
      "\n",
      "\n",
      "\n",
      "\n",
      "                                    Alibaba has released QwQ-32B-Preview, an ‘open' challenger to OpenAI's o1 reasoning model.\n",
      "                                \n",
      "\n",
      "\n",
      "\n",
      "\n",
      "\n",
      "\n",
      "\n",
      "\n",
      "Ai2 releases new language models competitive with Meta's Llama (3 minute read)\n",
      "\n",
      "\n",
      "\n",
      "\n",
      "\n",
      "                                    Ai2 has released OLMo 2, an open-source language model series with models containing 7 and 13 billion parameters. OLMo 2 is developed with publicly accessible training data and code. Aiming to boost open-source AI innovation, Ai2 claims these models outperform similar open models like Meta's Llama 3.1. The models are available under the Apache 2.0 license for commercial use.\n",
      "                                \n",
      "\n",
      "\n",
      "\n",
      "\n",
      "\n",
      "\n",
      "\n",
      "\n",
      "xAI could soon have its own app (1 minute read)\n",
      "\n",
      "\n",
      "\n",
      "\n",
      "\n",
      "                                    Elon Musk's xAI plans to launch a standalone app for its Grok chatbot by December, competing directly with OpenAI's ChatGPT. Grok is currently accessible through X for subscribers only. This move positions xAI to more directly challenge established chatbot apps from OpenAI, Google, and Anthropic.\n",
      "                                \n",
      "\n",
      "\n",
      "\n",
      "\n",
      "\n",
      "\n",
      "🧠\n",
      "\n",
      "\n",
      "\n",
      "\n",
      "\n",
      "Research & Innovation\n",
      "\n",
      "\n",
      "\n",
      "\n",
      "\n",
      "\n",
      "\n",
      "\n",
      "\n",
      "ThunderKittens for Apple Silicon (15 minute read)\n",
      "\n",
      "\n",
      "\n",
      "\n",
      "\n",
      "                                    Hazy Research has been critical in improving hardware utilization for AI workloads. It has extended its amazing ThunderKittens Kernel writing framework to work on Apple Silicon.\n",
      "                                \n",
      "\n",
      "\n",
      "\n",
      "\n",
      "\n",
      "\n",
      "\n",
      "\n",
      "DiffusionDrive: Truncated Diffusion Model for End-to-End Autonomous Driving (21 minute read)\n",
      "\n",
      "\n",
      "\n",
      "\n",
      "\n",
      "                                    Diffusion models for End-to-End driving of autonomous vehicles which can operate at 45 FPS on a 4090 chip.\n",
      "                                \n",
      "\n",
      "\n",
      "\n",
      "\n",
      "\n",
      "\n",
      "\n",
      "\n",
      "Super-Resolution with Low-Bit Quantization (16 minute read)\n",
      "\n",
      "\n",
      "\n",
      "\n",
      "\n",
      "                                    PassionSR introduces an approach that makes diffusion-based image super-resolution (SR) models more hardware-friendly.\n",
      "                                \n",
      "\n",
      "\n",
      "\n",
      "\n",
      "\n",
      "\n",
      "🧑‍💻\n",
      "\n",
      "\n",
      "\n",
      "\n",
      "\n",
      "Engineering & Resources\n",
      "\n",
      "\n",
      "\n",
      "\n",
      "\n",
      "\n",
      "\n",
      "\n",
      "\n",
      "Open Instruct (GitHub Repo)\n",
      "\n",
      "\n",
      "\n",
      "\n",
      "\n",
      "                                    The Allen AI Institute has released extremely useful post training code for instruction tuning.\n",
      "                                \n",
      "\n",
      "\n",
      "\n",
      "\n",
      "\n",
      "\n",
      "\n",
      "\n",
      "Star Attention (GitHub Repo)\n",
      "\n",
      "\n",
      "\n",
      "\n",
      "\n",
      "                                    Up to 11x speed improvement for long context token processing and generation. It is slightly better than ring attention, but still worse than full attention.\n",
      "                                \n",
      "\n",
      "\n",
      "\n",
      "\n",
      "\n",
      "\n",
      "\n",
      "\n",
      "Fine-Grained Image Quality Assessment (2 minute read)\n",
      "\n",
      "\n",
      "\n",
      "\n",
      "\n",
      "                                    Grounding-IQA is a new approach to image quality assessment (IQA) that integrates precise location-based grounding and multimodal descriptions.\n",
      "                                \n",
      "\n",
      "\n",
      "\n",
      "\n",
      "\n",
      "\n",
      "🎁\n",
      "\n",
      "\n",
      "\n",
      "Miscellaneous\n",
      "\n",
      "\n",
      "\n",
      "\n",
      "\n",
      "\n",
      "\n",
      "\n",
      "It's Surprisingly Easy to Jailbreak LLM-Driven Robots (6 minute read)\n",
      "\n",
      "\n",
      "\n",
      "\n",
      "\n",
      "                                    RoboPAIR is an algorithm that successfully jailbreaks robots powered by LLMs, bypassing all safety guardrails. Experiments showed a 100% success rate in hacking systems like Go2, a self-driving simulator, and robot dogs. These findings reveal significant security vulnerabilities, stressing the need for better defenses against LLM-based robot hacking.\n",
      "                                \n",
      "\n",
      "\n",
      "\n",
      "\n",
      "\n",
      "\n",
      "\n",
      "\n",
      "World's Most Flexible Sound Machine Debuts (6 minute read)\n",
      "\n",
      "\n",
      "\n",
      "\n",
      "\n",
      "                                    Fugatto, a new generative AI model, allows users to control audio creation and transformation using text prompts. It can generate music, modify voices, and create unique sounds, showcasing capabilities through tasks like music production and video game development. Developed by NVIDIA researchers, Fugatto uses 2.5 billion parameters and was trained on a vast dataset to handle multilingual audio tasks and unsupervised learning.\n",
      "                                \n",
      "\n",
      "\n",
      "\n",
      "\n",
      "\n",
      "\n",
      "\n",
      "\n",
      "The new AI scaling law shell game (4 minute read)\n",
      "\n",
      "\n",
      "\n",
      "\n",
      "\n",
      "                                    Recent shifts in AI scaling laws reveal limitations in predictability and effectiveness, with new models not meeting earlier expectations. Microsoft CEO Satya Nadella highlights \"inference time compute\" as a potential area of focus, but concerns about cost and reliability persist. Innovation beyond scaling is needed. LLMs should be part of a broader AI strategy.\n",
      "                                \n",
      "\n",
      "\n",
      "\n",
      "\n",
      "\n",
      "\n",
      "⚡\n",
      "\n",
      "\n",
      "\n",
      "\n",
      "Quick Links\n",
      "\n",
      "\n",
      "\n",
      "\n",
      "\n",
      "\n",
      "\n",
      "\n",
      "\n",
      "Steel Browser API for AI Agents (GitHub Repo)\n",
      "\n",
      "\n",
      "\n",
      "\n",
      "\n",
      "                                    Controlling web browsers for AI agents is a useful thing for accessing information.\n",
      "                                \n",
      "\n",
      "\n",
      "\n",
      "\n",
      "\n",
      "\n",
      "\n",
      "\n",
      "PixMo dataset (Hugging Face Hub)\n",
      "\n",
      "\n",
      "\n",
      "\n",
      "\n",
      "                                    Allen AI has released several datasets that were used to train its visual language models.\n",
      "                                \n",
      "\n",
      "\n",
      "\n",
      "\n",
      "\n",
      "\n",
      "\n",
      "\n",
      "Human Image Animation (4 minute read)\n",
      "\n",
      "\n",
      "\n",
      "\n",
      "\n",
      "                                    StableAnimator introduces a breakthrough in human image animation by ensuring identity consistency in generated videos.\n",
      "                                \n",
      "\n",
      "\n",
      "\n",
      "\n",
      "\n",
      "\n",
      "Want to advertise in TLDR? 📰\n",
      "\n",
      "\n",
      "\n",
      "\n",
      "If your company is interested in reaching an audience of AI professionals and decision makers, you may want to advertise with us.\n",
      "\n",
      "\n",
      "\n",
      "If you have any comments or feedback, just respond to this email!\n",
      "\n",
      " Thanks for reading,\n",
      "\n",
      "Andrew Tan & Andrew Carr\n",
      "\n",
      "\n",
      "\n",
      "\n",
      "\n",
      "\n",
      "If you don't want to receive future editions of TLDR AI, please unsubscribe from TLDR AI or manage all of your TLDR newsletter subscriptions.\n",
      "\n",
      "\n",
      "\n",
      "\n",
      "\n",
      "\n",
      "\n",
      "\n",
      "\n"
     ]
    }
   ],
   "source": [
    "for pp in message['payload']['parts']:\n",
    "    if pp['mimeType'] == 'text/html':\n",
    "        body_data = pp['body']['data']\n",
    "        decoded_body = base64.urlsafe_b64decode(body_data).decode()\n",
    "        plain_text = BeautifulSoup(decoded_body, 'html.parser').get_text()\n",
    "        print(plain_text)  # Prints the plain text content of the HTML"
   ]
  },
  {
   "cell_type": "markdown",
   "id": "4c9078f9-0be6-4e0c-ba73-b90de00cfde1",
   "metadata": {},
   "source": [
    "# Misc."
   ]
  },
  {
   "cell_type": "code",
   "execution_count": 11,
   "id": "ed69c917-f36f-4640-935b-f148dad4f0fb",
   "metadata": {
    "execution": {
     "iopub.execute_input": "2025-01-04T04:01:05.039257Z",
     "iopub.status.busy": "2025-01-04T04:01:05.031765Z",
     "iopub.status.idle": "2025-01-04T04:01:05.110096Z",
     "shell.execute_reply": "2025-01-04T04:01:05.108492Z",
     "shell.execute_reply.started": "2025-01-04T04:01:05.038467Z"
    }
   },
   "outputs": [],
   "source": [
    "from datetime import datetime\n",
    "import pytz\n",
    "\n",
    "def convert_est_to_utc(est_date_str, format_str=\"%Y-%m-%d\"):\n",
    "    # Parse the EST date string\n",
    "    naive_date = datetime.strptime(est_date_str, format_str)\n",
    "\n",
    "    # Define the EST timezone\n",
    "    est_tz = pytz.timezone(\"US/Eastern\")\n",
    "\n",
    "    # Localize to EST and convert to UTC\n",
    "    est_date = est_tz.localize(naive_date)\n",
    "    utc_date = est_date.astimezone(pytz.utc)\n",
    "\n",
    "    # Return the UTC date string in RFC3339 format\n",
    "    return utc_date.isoformat()\n"
   ]
  },
  {
   "cell_type": "code",
   "execution_count": 12,
   "id": "77522e92-c131-4e59-a516-b9642a4ffd0a",
   "metadata": {
    "execution": {
     "iopub.execute_input": "2025-01-04T04:01:17.660108Z",
     "iopub.status.busy": "2025-01-04T04:01:17.659001Z",
     "iopub.status.idle": "2025-01-04T04:01:17.732431Z",
     "shell.execute_reply": "2025-01-04T04:01:17.731200Z",
     "shell.execute_reply.started": "2025-01-04T04:01:17.660071Z"
    }
   },
   "outputs": [
    {
     "name": "stdout",
     "output_type": "stream",
     "text": [
      "UTC Date for Gmail Query: 2025-01-03T05:00:00+00:00\n"
     ]
    }
   ],
   "source": [
    "est_date_str = \"2025-01-03\"\n",
    "utc_date_str = convert_est_to_utc(est_date_str)\n",
    "print(\"UTC Date for Gmail Query:\", utc_date_str)"
   ]
  },
  {
   "cell_type": "code",
   "execution_count": null,
   "id": "208036be-adfa-4fb7-a22f-d956e1575c52",
   "metadata": {},
   "outputs": [],
   "source": [
    "est_date_str = \"2025-01-03\"\n",
    "utc_date_str = convert_est_to_utc(est_date_str)\n",
    "print(\"UTC Date for Gmail Query:\", utc_date_str)"
   ]
  }
 ],
 "metadata": {
  "kernelspec": {
   "display_name": "Python 3 (ipykernel)",
   "language": "python",
   "name": "python3"
  },
  "language_info": {
   "codemirror_mode": {
    "name": "ipython",
    "version": 3
   },
   "file_extension": ".py",
   "mimetype": "text/x-python",
   "name": "python",
   "nbconvert_exporter": "python",
   "pygments_lexer": "ipython3",
   "version": "3.11.11"
  }
 },
 "nbformat": 4,
 "nbformat_minor": 5
}
