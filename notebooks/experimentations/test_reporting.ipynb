{
 "cells": [
  {
   "cell_type": "code",
   "execution_count": 1,
   "id": "e739d28b-747d-4409-935d-94010b1ad9cb",
   "metadata": {
    "execution": {
     "iopub.execute_input": "2024-12-26T14:56:09.328663Z",
     "iopub.status.busy": "2024-12-26T14:56:09.327082Z",
     "iopub.status.idle": "2024-12-26T14:56:09.340331Z",
     "shell.execute_reply": "2024-12-26T14:56:09.338817Z",
     "shell.execute_reply.started": "2024-12-26T14:56:09.328626Z"
    }
   },
   "outputs": [],
   "source": [
    "import logging\n",
    "logging.basicConfig(\n",
    "    level=logging.DEBUG,\n",
    "    format=\"%(asctime)s - %(name)s - %(levelname)s -- l.%(lineno)d: %(message)s\",\n",
    ")"
   ]
  },
  {
   "cell_type": "code",
   "execution_count": 2,
   "id": "55d5207a-3bc5-4431-8317-fbd0d9bea875",
   "metadata": {
    "execution": {
     "iopub.execute_input": "2024-12-26T14:56:09.396575Z",
     "iopub.status.busy": "2024-12-26T14:56:09.396241Z",
     "iopub.status.idle": "2024-12-26T14:56:12.859951Z",
     "shell.execute_reply": "2024-12-26T14:56:12.859435Z",
     "shell.execute_reply.started": "2024-12-26T14:56:09.396549Z"
    }
   },
   "outputs": [],
   "source": [
    "from src.newsletters.main import runner as runner_newsletters\n",
    "from src.scoring.main import runner as runner_scoring\n",
    "from src.reporting.report import Report"
   ]
  },
  {
   "cell_type": "code",
   "execution_count": 3,
   "id": "6b15ea69-48b9-4128-b8c6-90c3765c8cd7",
   "metadata": {
    "execution": {
     "iopub.execute_input": "2024-12-26T14:56:12.861445Z",
     "iopub.status.busy": "2024-12-26T14:56:12.860515Z",
     "iopub.status.idle": "2024-12-26T14:56:23.213523Z",
     "shell.execute_reply": "2024-12-26T14:56:23.212447Z",
     "shell.execute_reply.started": "2024-12-26T14:56:12.861421Z"
    },
    "scrolled": true
   },
   "outputs": [
    {
     "name": "stderr",
     "output_type": "stream",
     "text": [
      "2024-12-26 14:56:12,870 - googleapiclient.discovery_cache - INFO -- l.49: file_cache is only supported with oauth2client<4.0.0\n",
      "2024-12-26 14:56:12,874 - src.newsletters.main - INFO -- l.26: Query emails\n",
      "2024-12-26 14:56:12,875 - src.newsletters.gmail - DEBUG -- l.35: Fetch email for sender TLDR AI <dan@tldrnewsletter.com> from 2024-12-01 until 2024-12-03.\n",
      "2024-12-26 14:56:12,880 - googleapiclient.discovery - DEBUG -- l.1258: URL being requested: GET https://gmail.googleapis.com/gmail/v1/users/me/messages?q=after%3A2024-12-01+before%3A2024-12-03+from%3ATLDR+AI+%3Cdan%40tldrnewsletter.com%3E&alt=json\n",
      "2024-12-26 14:56:12,882 - google_auth_httplib2 - DEBUG -- l.118: Making request: POST https://oauth2.googleapis.com/token\n",
      "2024-12-26 14:56:13,252 - googleapiclient.discovery - DEBUG -- l.1258: URL being requested: GET https://gmail.googleapis.com/gmail/v1/users/me/messages/19387c6f6bdf98de?alt=json\n",
      "2024-12-26 14:56:13,357 - googleapiclient.discovery - DEBUG -- l.1258: URL being requested: GET https://gmail.googleapis.com/gmail/v1/users/me/messages/193871f73323b0e6?alt=json\n",
      "2024-12-26 14:56:13,451 - src.newsletters.main - INFO -- l.32: Using 1 sender(s): dict_keys(['TLDR AI <dan@tldrnewsletter.com>']).\n",
      "2024-12-26 14:56:13,452 - src.newsletters.main - DEBUG -- l.34: Found 1 emails from sender TLDR AI <dan@tldrnewsletter.com>\n",
      "2024-12-26 14:56:13,454 - src.newsletters.main - INFO -- l.37: Parsing emails to extract news stories\n",
      "2024-12-26 14:56:13,454 - src.newsletters.parser.tldr - DEBUG -- l.26: Parsing email: Elon Musk vs. OpenAI ⚔️, Perplexity hardware 🤖, INTELLECT-1 Release 1️⃣\n",
      "2024-12-26 14:56:13,457 - urllib3.connectionpool - DEBUG -- l.1051: Starting new HTTPS connection (1): www.theverge.com:443\n",
      "2024-12-26 14:56:13,564 - urllib3.connectionpool - DEBUG -- l.546: https://www.theverge.com:443 \"HEAD /2024/11/30/24309697/elon-musk-openai-lawsuit-for-profit-transition-preliminary-injunction?utm_source=tldrai HTTP/11\" 200 0\n",
      "2024-12-26 14:56:13,569 - urllib3.connectionpool - DEBUG -- l.1051: Starting new HTTPS connection (1): techcrunch.com:443\n",
      "2024-12-26 14:56:13,682 - urllib3.connectionpool - DEBUG -- l.546: https://techcrunch.com:443 \"HEAD /2024/11/26/perplexity-mulls-getting-into-hardware/?utm_source=tldrai HTTP/11\" 200 0\n",
      "2024-12-26 14:56:13,687 - urllib3.connectionpool - DEBUG -- l.1051: Starting new HTTPS connection (1): techcrunch.com:443\n",
      "2024-12-26 14:56:13,807 - urllib3.connectionpool - DEBUG -- l.546: https://techcrunch.com:443 \"HEAD /2024/11/26/inflection-ceo-says-its-done-competing-to-make-next-generation-ai-models/?utm_source=tldrai HTTP/11\" 200 0\n",
      "2024-12-26 14:56:13,812 - urllib3.connectionpool - DEBUG -- l.1051: Starting new HTTPS connection (1): www.primeintellect.ai:443\n",
      "2024-12-26 14:56:13,979 - urllib3.connectionpool - DEBUG -- l.546: https://www.primeintellect.ai:443 \"HEAD /blog/intellect-1-release?utm_source=tldrai HTTP/11\" 200 0\n",
      "2024-12-26 14:56:13,983 - urllib3.connectionpool - DEBUG -- l.1051: Starting new HTTPS connection (1): arxiv.org:443\n",
      "2024-12-26 14:56:14,053 - urllib3.connectionpool - DEBUG -- l.546: https://arxiv.org:443 \"HEAD /abs/2411.18207v1?utm_source=tldrai HTTP/11\" 200 0\n",
      "2024-12-26 14:56:14,057 - urllib3.connectionpool - DEBUG -- l.1051: Starting new HTTPS connection (1): arxiv.org:443\n",
      "2024-12-26 14:56:14,125 - urllib3.connectionpool - DEBUG -- l.546: https://arxiv.org:443 \"HEAD /abs/2411.18296v1?utm_source=tldrai HTTP/11\" 200 0\n",
      "2024-12-26 14:56:14,128 - urllib3.connectionpool - DEBUG -- l.1051: Starting new HTTPS connection (1): research.google:443\n",
      "2024-12-26 14:56:14,649 - urllib3.connectionpool - DEBUG -- l.546: https://research.google:443 \"HEAD /blog/mapping-the-ionosphere-with-the-power-of-android/?utm_source=tldrai HTTP/11\" 200 0\n",
      "2024-12-26 14:56:14,653 - urllib3.connectionpool - DEBUG -- l.1051: Starting new HTTPS connection (1): arxiv.org:443\n",
      "2024-12-26 14:56:14,725 - urllib3.connectionpool - DEBUG -- l.546: https://arxiv.org:443 \"HEAD /abs/2409.16045v1?utm_source=tldrai HTTP/11\" 200 0\n",
      "2024-12-26 14:56:14,728 - urllib3.connectionpool - DEBUG -- l.1051: Starting new HTTPS connection (1): gair-nlp.github.io:443\n",
      "2024-12-26 14:56:14,794 - urllib3.connectionpool - DEBUG -- l.546: https://gair-nlp.github.io:443 \"HEAD /ProX/homepage.html?utm_source=tldrai HTTP/11\" 200 0\n",
      "2024-12-26 14:56:14,797 - urllib3.connectionpool - DEBUG -- l.1051: Starting new HTTPS connection (1): huggingface.co:443\n",
      "2024-12-26 14:56:14,963 - urllib3.connectionpool - DEBUG -- l.546: https://huggingface.co:443 \"HEAD /wangyueqian/MMDuet?utm_source=tldrai HTTP/11\" 200 0\n",
      "2024-12-26 14:56:14,966 - urllib3.connectionpool - DEBUG -- l.1051: Starting new HTTPS connection (1): calpaterson.com:443\n",
      "2024-12-26 14:56:15,042 - urllib3.connectionpool - DEBUG -- l.546: https://calpaterson.com:443 \"HEAD /porter.html?utm_source=tldrai HTTP/11\" 200 0\n",
      "2024-12-26 14:56:15,046 - urllib3.connectionpool - DEBUG -- l.1051: Starting new HTTPS connection (1): www.notboring.co:443\n",
      "2024-12-26 14:56:15,129 - urllib3.connectionpool - DEBUG -- l.546: https://www.notboring.co:443 \"HEAD /p/rox?utm_source=tldrai HTTP/11\" 200 0\n",
      "2024-12-26 14:56:15,133 - urllib3.connectionpool - DEBUG -- l.1051: Starting new HTTPS connection (1): blog.play.ai:443\n",
      "2024-12-26 14:56:15,228 - urllib3.connectionpool - DEBUG -- l.546: https://blog.play.ai:443 \"HEAD /blog/21m-funding?utm_source=tldrai HTTP/11\" 200 0\n",
      "2024-12-26 14:56:15,232 - urllib3.connectionpool - DEBUG -- l.1051: Starting new HTTPS connection (1): www.theverge.com:443\n",
      "2024-12-26 14:56:15,318 - urllib3.connectionpool - DEBUG -- l.546: https://www.theverge.com:443 \"HEAD /2024/11/26/24306575/anthropic-claude-ai-custom-style-presets?utm_source=tldrai HTTP/11\" 200 0\n",
      "2024-12-26 14:56:15,323 - urllib3.connectionpool - DEBUG -- l.1051: Starting new HTTPS connection (1): github.com:443\n",
      "2024-12-26 14:56:15,605 - urllib3.connectionpool - DEBUG -- l.546: https://github.com:443 \"HEAD /rasbt/LLMs-from-scratch/tree/main/ch05/07_gpt_to_llama?utm_source=tldrai HTTP/11\" 200 0\n",
      "2024-12-26 14:56:15,607 - src.newsletters.main - INFO -- l.44: Newsletters block complete. Found 15 news stories.\n",
      "2024-12-26 14:56:15,608 - src.scoring.main - INFO -- l.22: Converting all news stories to a structured format.\n",
      "2024-12-26 14:56:16,274 - src.scoring.main - INFO -- l.26: Querying the metadata tags from Google Sheets.\n",
      "2024-12-26 14:56:16,279 - googleapiclient.discovery_cache - INFO -- l.49: file_cache is only supported with oauth2client<4.0.0\n",
      "2024-12-26 14:56:16,436 - googleapiclient.discovery - DEBUG -- l.1258: URL being requested: GET https://sheets.googleapis.com/v4/spreadsheets/1AZhmfDyjbbX5tWJYRsziL4hlHVUhp8G3aYv0-o5VyDA/values/competitive_intelligence?alt=json\n",
      "2024-12-26 14:56:16,436 - google_auth_httplib2 - DEBUG -- l.118: Making request: POST https://oauth2.googleapis.com/token\n",
      "2024-12-26 14:56:16,895 - googleapiclient.discovery - DEBUG -- l.1258: URL being requested: GET https://sheets.googleapis.com/v4/spreadsheets/1AZhmfDyjbbX5tWJYRsziL4hlHVUhp8G3aYv0-o5VyDA/values/themes?alt=json\n",
      "2024-12-26 14:56:17,127 - googleapiclient.discovery - DEBUG -- l.1258: URL being requested: GET https://sheets.googleapis.com/v4/spreadsheets/1AZhmfDyjbbX5tWJYRsziL4hlHVUhp8G3aYv0-o5VyDA/values/market_intelligence?alt=json\n",
      "2024-12-26 14:56:17,316 - googleapiclient.discovery - DEBUG -- l.1258: URL being requested: GET https://sheets.googleapis.com/v4/spreadsheets/1AZhmfDyjbbX5tWJYRsziL4hlHVUhp8G3aYv0-o5VyDA/values/personalities?alt=json\n",
      "2024-12-26 14:56:23,203 - src.scoring.structured_news_stories - DEBUG -- l.84: col=competitive_intelligence, score_col=0     0\n",
      "1     0\n",
      "2     0\n",
      "3     0\n",
      "4     0\n",
      "5     0\n",
      "6     0\n",
      "7     0\n",
      "8     0\n",
      "9     0\n",
      "10    0\n",
      "11    0\n",
      "12    0\n",
      "13    0\n",
      "14    0\n",
      "Name: competitive_intelligence, dtype: int64\n",
      "2024-12-26 14:56:23,204 - src.scoring.structured_news_stories - DEBUG -- l.84: col=themes, score_col=0     1\n",
      "1     2\n",
      "2     2\n",
      "3     2\n",
      "4     2\n",
      "5     2\n",
      "6     0\n",
      "7     1\n",
      "8     2\n",
      "9     1\n",
      "10    3\n",
      "11    2\n",
      "12    3\n",
      "13    1\n",
      "14    1\n",
      "Name: themes, dtype: int64\n",
      "2024-12-26 14:56:23,206 - src.scoring.structured_news_stories - DEBUG -- l.84: col=market_intelligence, score_col=0     1\n",
      "1     0\n",
      "2     0\n",
      "3     0\n",
      "4     0\n",
      "5     0\n",
      "6     1\n",
      "7     0\n",
      "8     0\n",
      "9     0\n",
      "10    2\n",
      "11    0\n",
      "12    0\n",
      "13    1\n",
      "14    1\n",
      "Name: market_intelligence, dtype: int64\n",
      "2024-12-26 14:56:23,207 - src.scoring.structured_news_stories - DEBUG -- l.84: col=personalities, score_col=0     0\n",
      "1     0\n",
      "2     0\n",
      "3     0\n",
      "4     0\n",
      "5     0\n",
      "6     0\n",
      "7     0\n",
      "8     0\n",
      "9     0\n",
      "10    0\n",
      "11    0\n",
      "12    0\n",
      "13    0\n",
      "14    0\n",
      "Name: personalities, dtype: int64\n"
     ]
    }
   ],
   "source": [
    "news_stories = runner_newsletters(after='2024-12-01', before='2024-12-03')\n",
    "df_news_stories, target_fields = runner_scoring(news_stories)"
   ]
  },
  {
   "cell_type": "code",
   "execution_count": 4,
   "id": "a55ac8cc-3f74-4fbe-a69e-13f5f0da7419",
   "metadata": {
    "execution": {
     "iopub.execute_input": "2024-12-26T14:56:23.214665Z",
     "iopub.status.busy": "2024-12-26T14:56:23.214347Z",
     "iopub.status.idle": "2024-12-26T14:56:23.224239Z",
     "shell.execute_reply": "2024-12-26T14:56:23.222499Z",
     "shell.execute_reply.started": "2024-12-26T14:56:23.214575Z"
    }
   },
   "outputs": [
    {
     "data": {
      "text/plain": [
       "True"
      ]
     },
     "execution_count": 4,
     "metadata": {},
     "output_type": "execute_result"
    }
   ],
   "source": [
    "\"competitive_intelligence\" in target_fields.keys()"
   ]
  },
  {
   "cell_type": "code",
   "execution_count": 5,
   "id": "7aade827-6665-4117-a5cb-9cae8271b823",
   "metadata": {
    "execution": {
     "iopub.execute_input": "2024-12-26T14:56:23.226571Z",
     "iopub.status.busy": "2024-12-26T14:56:23.226260Z",
     "iopub.status.idle": "2024-12-26T14:56:23.233332Z",
     "shell.execute_reply": "2024-12-26T14:56:23.231689Z",
     "shell.execute_reply.started": "2024-12-26T14:56:23.226543Z"
    }
   },
   "outputs": [],
   "source": [
    "report = Report(df_news_stories, target_fields)"
   ]
  },
  {
   "cell_type": "code",
   "execution_count": 6,
   "id": "aed379c4-37bb-42af-ae7b-c7477bb76a3e",
   "metadata": {
    "execution": {
     "iopub.execute_input": "2024-12-26T14:56:23.235784Z",
     "iopub.status.busy": "2024-12-26T14:56:23.235105Z",
     "iopub.status.idle": "2024-12-26T14:56:23.262207Z",
     "shell.execute_reply": "2024-12-26T14:56:23.260954Z",
     "shell.execute_reply.started": "2024-12-26T14:56:23.235696Z"
    }
   },
   "outputs": [
    {
     "name": "stderr",
     "output_type": "stream",
     "text": [
      "2024-12-26 14:56:23,246 - src.reporting.report - DEBUG -- l.91: min_nb_entries=5, min_pct_entries_in_db={min_pct_entries_in_nb}, min_entries={min_entries}, score_min_entries={score_min_entries}\n",
      "2024-12-26 14:56:23,247 - src.reporting.report - DEBUG -- l.97: title                       ELON MUSK SEEKS TO BLOCK OPENAI'S FOR-PROFIT C...\n",
      "url                         https://www.theverge.com/2024/11/30/24309697/e...\n",
      "news_provider                                                www.theverge.com\n",
      "source_of_the_news                           TLDR AI <dan@tldrnewsletter.com>\n",
      "text                                                                         \n",
      "news_summary                Elon Musk's legal team has filed a motion to p...\n",
      "date_source                                    Mon, 2 Dec 2024 14:29:42 +0000\n",
      "competitive_intelligence                                                   []\n",
      "themes                                                                [Legal]\n",
      "market_intelligence                                                  [OpenAI]\n",
      "personalities                                                              []\n",
      "score                                                                       2\n",
      "Name: 0, dtype: object\n",
      "2024-12-26 14:56:23,251 - src.reporting.report - WARNING -- l.99: The score to maintain a minimum number of entries is {score_min_entries}, which is less than the target threshold {min_score_threshold}.\n"
     ]
    },
    {
     "data": {
      "text/plain": [
       "dict_keys(['competitive_intelligence', 'funding', 'evaluation', 'themes'])"
      ]
     },
     "execution_count": 6,
     "metadata": {},
     "output_type": "execute_result"
    }
   ],
   "source": [
    "news_stories_for_report = report.filtered_news_stories(min_score_threshold=3, min_nb_entries=5, min_pct_entries=0.1)\n",
    "news_stories_for_report.keys()"
   ]
  },
  {
   "cell_type": "code",
   "execution_count": 9,
   "id": "92fe739a-d7d9-481d-9614-e10e6b028afd",
   "metadata": {
    "execution": {
     "iopub.execute_input": "2024-12-26T14:58:50.302554Z",
     "iopub.status.busy": "2024-12-26T14:58:50.302206Z",
     "iopub.status.idle": "2024-12-26T14:58:50.323944Z",
     "shell.execute_reply": "2024-12-26T14:58:50.321575Z",
     "shell.execute_reply.started": "2024-12-26T14:58:50.302528Z"
    },
    "scrolled": true
   },
   "outputs": [
    {
     "data": {
      "text/html": [
       "<div>\n",
       "<style scoped>\n",
       "    .dataframe tbody tr th:only-of-type {\n",
       "        vertical-align: middle;\n",
       "    }\n",
       "\n",
       "    .dataframe tbody tr th {\n",
       "        vertical-align: top;\n",
       "    }\n",
       "\n",
       "    .dataframe thead th {\n",
       "        text-align: right;\n",
       "    }\n",
       "</style>\n",
       "<table border=\"1\" class=\"dataframe\">\n",
       "  <thead>\n",
       "    <tr style=\"text-align: right;\">\n",
       "      <th></th>\n",
       "      <th>title</th>\n",
       "      <th>url</th>\n",
       "      <th>news_provider</th>\n",
       "      <th>source_of_the_news</th>\n",
       "      <th>text</th>\n",
       "      <th>news_summary</th>\n",
       "      <th>date_source</th>\n",
       "      <th>competitive_intelligence</th>\n",
       "      <th>themes</th>\n",
       "      <th>market_intelligence</th>\n",
       "      <th>personalities</th>\n",
       "      <th>score</th>\n",
       "    </tr>\n",
       "  </thead>\n",
       "  <tbody>\n",
       "    <tr>\n",
       "      <th>10</th>\n",
       "      <td>BUILDING LLMS IS PROBABLY NOT GOING BE A BRILL...</td>\n",
       "      <td>https://calpaterson.com/porter.html</td>\n",
       "      <td>calpaterson.com</td>\n",
       "      <td>TLDR AI &lt;dan@tldrnewsletter.com&gt;</td>\n",
       "      <td></td>\n",
       "      <td>LLM makers like OpenAI face significant challe...</td>\n",
       "      <td>Mon, 2 Dec 2024 14:29:42 +0000</td>\n",
       "      <td>[]</td>\n",
       "      <td>[AI&amp;GenAI, Model, Funding]</td>\n",
       "      <td>[OpenAI, NVIDIA]</td>\n",
       "      <td>[]</td>\n",
       "      <td>5</td>\n",
       "    </tr>\n",
       "    <tr>\n",
       "      <th>11</th>\n",
       "      <td>ROX</td>\n",
       "      <td>https://www.notboring.co/p/rox</td>\n",
       "      <td>www.notboring.co</td>\n",
       "      <td>TLDR AI &lt;dan@tldrnewsletter.com&gt;</td>\n",
       "      <td></td>\n",
       "      <td>A new AI-native CRM, Rox, aims to disrupt Sale...</td>\n",
       "      <td>Mon, 2 Dec 2024 14:29:42 +0000</td>\n",
       "      <td>[]</td>\n",
       "      <td>[AI&amp;GenAI, Funding]</td>\n",
       "      <td>[]</td>\n",
       "      <td>[]</td>\n",
       "      <td>2</td>\n",
       "    </tr>\n",
       "    <tr>\n",
       "      <th>12</th>\n",
       "      <td>PLAYAI RAISES $21M FUNDING AND RELEASES A NEW ...</td>\n",
       "      <td>https://blog.play.ai/blog/21m-funding</td>\n",
       "      <td>blog.play.ai</td>\n",
       "      <td>TLDR AI &lt;dan@tldrnewsletter.com&gt;</td>\n",
       "      <td></td>\n",
       "      <td>PlayAI raised $21 Million to advance voice-fir...</td>\n",
       "      <td>Mon, 2 Dec 2024 14:29:42 +0000</td>\n",
       "      <td>[]</td>\n",
       "      <td>[AI&amp;GenAI, Multimodal, Funding]</td>\n",
       "      <td>[]</td>\n",
       "      <td>[]</td>\n",
       "      <td>3</td>\n",
       "    </tr>\n",
       "  </tbody>\n",
       "</table>\n",
       "</div>"
      ],
      "text/plain": [
       "                                                title  \\\n",
       "10  BUILDING LLMS IS PROBABLY NOT GOING BE A BRILL...   \n",
       "11                                                ROX   \n",
       "12  PLAYAI RAISES $21M FUNDING AND RELEASES A NEW ...   \n",
       "\n",
       "                                      url     news_provider  \\\n",
       "10    https://calpaterson.com/porter.html   calpaterson.com   \n",
       "11         https://www.notboring.co/p/rox  www.notboring.co   \n",
       "12  https://blog.play.ai/blog/21m-funding      blog.play.ai   \n",
       "\n",
       "                  source_of_the_news text  \\\n",
       "10  TLDR AI <dan@tldrnewsletter.com>        \n",
       "11  TLDR AI <dan@tldrnewsletter.com>        \n",
       "12  TLDR AI <dan@tldrnewsletter.com>        \n",
       "\n",
       "                                         news_summary  \\\n",
       "10  LLM makers like OpenAI face significant challe...   \n",
       "11  A new AI-native CRM, Rox, aims to disrupt Sale...   \n",
       "12  PlayAI raised $21 Million to advance voice-fir...   \n",
       "\n",
       "                       date_source competitive_intelligence  \\\n",
       "10  Mon, 2 Dec 2024 14:29:42 +0000                       []   \n",
       "11  Mon, 2 Dec 2024 14:29:42 +0000                       []   \n",
       "12  Mon, 2 Dec 2024 14:29:42 +0000                       []   \n",
       "\n",
       "                             themes market_intelligence personalities  score  \n",
       "10       [AI&GenAI, Model, Funding]    [OpenAI, NVIDIA]            []      5  \n",
       "11              [AI&GenAI, Funding]                  []            []      2  \n",
       "12  [AI&GenAI, Multimodal, Funding]                  []            []      3  "
      ]
     },
     "execution_count": 9,
     "metadata": {},
     "output_type": "execute_result"
    }
   ],
   "source": [
    "news_stories_for_report[\"funding\"]"
   ]
  },
  {
   "cell_type": "code",
   "execution_count": null,
   "id": "6b2f0b53-5119-493b-95c6-99fcf97c2b17",
   "metadata": {
    "execution": {
     "iopub.status.busy": "2024-12-26T14:50:47.515246Z",
     "iopub.status.idle": "2024-12-26T14:50:47.515572Z",
     "shell.execute_reply": "2024-12-26T14:50:47.515437Z",
     "shell.execute_reply.started": "2024-12-26T14:50:47.515425Z"
    }
   },
   "outputs": [],
   "source": [
    "df_news_stories.iloc[df_news_stories.index.difference(df_filtered.index)]"
   ]
  },
  {
   "cell_type": "code",
   "execution_count": null,
   "id": "4dd24f87-cd6b-493a-adc1-bb531898754f",
   "metadata": {
    "execution": {
     "iopub.status.busy": "2024-12-26T14:50:47.516264Z",
     "iopub.status.idle": "2024-12-26T14:50:47.516628Z",
     "shell.execute_reply": "2024-12-26T14:50:47.516477Z",
     "shell.execute_reply.started": "2024-12-26T14:50:47.516454Z"
    }
   },
   "outputs": [],
   "source": [
    "df_news_stories.loc[0][\"news_summary\"]"
   ]
  },
  {
   "cell_type": "code",
   "execution_count": null,
   "id": "2e36341a-c902-4b2b-bf10-b0f97abee994",
   "metadata": {
    "execution": {
     "iopub.status.busy": "2024-12-26T14:50:47.518167Z",
     "iopub.status.idle": "2024-12-26T14:50:47.518520Z",
     "shell.execute_reply": "2024-12-26T14:50:47.518389Z",
     "shell.execute_reply.started": "2024-12-26T14:50:47.518375Z"
    }
   },
   "outputs": [],
   "source": [
    "for row in df_news_stories.index.difference(df_filtered.index):\n",
    "    print(\"=\"*25)\n",
    "    print(df_news_stories.iloc[row][[\"title\", \"news_summary\"]].values)"
   ]
  },
  {
   "cell_type": "code",
   "execution_count": null,
   "id": "ba4f4b73-9073-4863-9b69-65a72dbb6353",
   "metadata": {
    "execution": {
     "iopub.status.busy": "2024-12-26T14:50:47.519746Z",
     "iopub.status.idle": "2024-12-26T14:50:47.520088Z",
     "shell.execute_reply": "2024-12-26T14:50:47.519948Z",
     "shell.execute_reply.started": "2024-12-26T14:50:47.519935Z"
    }
   },
   "outputs": [],
   "source": [
    "df_filtered[\"themes\"]"
   ]
  },
  {
   "cell_type": "code",
   "execution_count": null,
   "id": "fc20cd55-6bc7-4723-a71f-ad19bf5a0991",
   "metadata": {
    "execution": {
     "iopub.status.busy": "2024-12-26T14:50:47.521637Z",
     "iopub.status.idle": "2024-12-26T14:50:47.522621Z",
     "shell.execute_reply": "2024-12-26T14:50:47.522096Z",
     "shell.execute_reply.started": "2024-12-26T14:50:47.522071Z"
    }
   },
   "outputs": [],
   "source": [
    "from src.utils.list import flatten_list_of_lists\n",
    "from collections import Counter"
   ]
  },
  {
   "cell_type": "code",
   "execution_count": null,
   "id": "d27c8c33-0a06-4f48-a667-241b89edb740",
   "metadata": {
    "execution": {
     "iopub.status.busy": "2024-12-26T14:50:47.524785Z",
     "iopub.status.idle": "2024-12-26T14:50:47.525281Z",
     "shell.execute_reply": "2024-12-26T14:50:47.525058Z",
     "shell.execute_reply.started": "2024-12-26T14:50:47.525037Z"
    }
   },
   "outputs": [],
   "source": [
    "Counter(flatten_list_of_lists(df_filtered[\"themes\"]))"
   ]
  },
  {
   "cell_type": "code",
   "execution_count": null,
   "id": "1ef044da-78ec-4a70-894c-f7b202bcda01",
   "metadata": {
    "execution": {
     "iopub.status.busy": "2024-12-26T14:50:47.526210Z",
     "iopub.status.idle": "2024-12-26T14:50:47.526802Z",
     "shell.execute_reply": "2024-12-26T14:50:47.526496Z",
     "shell.execute_reply.started": "2024-12-26T14:50:47.526451Z"
    }
   },
   "outputs": [],
   "source": [
    "df_filtered[df_filtered[\"themes\"].apply(lambda x: \"Funding\" in x)]"
   ]
  },
  {
   "cell_type": "code",
   "execution_count": null,
   "id": "326f7ce6-cd3c-4ccf-83bd-a7e3562bd63e",
   "metadata": {
    "execution": {
     "iopub.status.busy": "2024-12-26T14:50:47.528404Z",
     "iopub.status.idle": "2024-12-26T14:50:47.528750Z",
     "shell.execute_reply": "2024-12-26T14:50:47.528616Z",
     "shell.execute_reply.started": "2024-12-26T14:50:47.528603Z"
    }
   },
   "outputs": [],
   "source": [
    "df_filtered.loc[11][\"news_summary\"]"
   ]
  },
  {
   "cell_type": "code",
   "execution_count": null,
   "id": "f44d9219-0c3b-4f5c-beed-9c2bacd6d8c3",
   "metadata": {},
   "outputs": [],
   "source": []
  }
 ],
 "metadata": {
  "kernelspec": {
   "display_name": "Python 3 (ipykernel)",
   "language": "python",
   "name": "python3"
  },
  "language_info": {
   "codemirror_mode": {
    "name": "ipython",
    "version": 3
   },
   "file_extension": ".py",
   "mimetype": "text/x-python",
   "name": "python",
   "nbconvert_exporter": "python",
   "pygments_lexer": "ipython3",
   "version": "3.11.9"
  }
 },
 "nbformat": 4,
 "nbformat_minor": 5
}
