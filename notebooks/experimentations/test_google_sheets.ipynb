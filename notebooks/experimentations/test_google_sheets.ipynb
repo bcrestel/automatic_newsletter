{
 "cells": [
  {
   "cell_type": "code",
   "execution_count": 1,
   "id": "03ad85fb-e1e5-4bb6-a697-e97f8ed9fecd",
   "metadata": {
    "execution": {
     "iopub.execute_input": "2024-12-17T03:50:05.918156Z",
     "iopub.status.busy": "2024-12-17T03:50:05.917834Z",
     "iopub.status.idle": "2024-12-17T03:50:07.014480Z",
     "shell.execute_reply": "2024-12-17T03:50:07.013242Z",
     "shell.execute_reply.started": "2024-12-17T03:50:05.918129Z"
    }
   },
   "outputs": [],
   "source": [
    "from src.scoring.google_sheets import GoogleSheets\n",
    "import pandas as pd"
   ]
  },
  {
   "cell_type": "code",
   "execution_count": 2,
   "id": "0bf7e9a9-8cbe-4653-a18a-bde638289912",
   "metadata": {
    "execution": {
     "iopub.execute_input": "2024-12-17T03:50:07.050581Z",
     "iopub.status.busy": "2024-12-17T03:50:07.049248Z",
     "iopub.status.idle": "2024-12-17T03:50:07.082537Z",
     "shell.execute_reply": "2024-12-17T03:50:07.080527Z",
     "shell.execute_reply.started": "2024-12-17T03:50:07.050471Z"
    }
   },
   "outputs": [],
   "source": [
    "from pathlib import Path\n",
    "from src.config import SCOPES\n",
    "\n",
    "sheets = GoogleSheets(path_to_token=Path(\"../../secrets_vault/token.json\"), path_to_credentials=Path(\"../../secrets_vault/credentials.json\"), scopes=SCOPES)"
   ]
  },
  {
   "cell_type": "code",
   "execution_count": 3,
   "id": "da90eaae-daf3-48ee-bd36-164f2ffcbc54",
   "metadata": {
    "execution": {
     "iopub.execute_input": "2024-12-17T03:50:07.084602Z",
     "iopub.status.busy": "2024-12-17T03:50:07.084146Z",
     "iopub.status.idle": "2024-12-17T03:50:08.955627Z",
     "shell.execute_reply": "2024-12-17T03:50:08.954514Z",
     "shell.execute_reply.started": "2024-12-17T03:50:07.084565Z"
    }
   },
   "outputs": [],
   "source": [
    "all_tables = sheets.get_all_tables()"
   ]
  },
  {
   "cell_type": "code",
   "execution_count": 4,
   "id": "749f099c-6859-4085-ac73-18088f39c4a9",
   "metadata": {
    "execution": {
     "iopub.execute_input": "2024-12-17T03:50:08.957763Z",
     "iopub.status.busy": "2024-12-17T03:50:08.957044Z",
     "iopub.status.idle": "2024-12-17T03:50:08.978653Z",
     "shell.execute_reply": "2024-12-17T03:50:08.974596Z",
     "shell.execute_reply.started": "2024-12-17T03:50:08.957680Z"
    }
   },
   "outputs": [
    {
     "data": {
      "text/plain": [
       "dict_keys(['competitive_intelligence', 'themes', 'market_intelligence', 'personalities'])"
      ]
     },
     "execution_count": 4,
     "metadata": {},
     "output_type": "execute_result"
    }
   ],
   "source": [
    "all_tables.keys()"
   ]
  },
  {
   "cell_type": "code",
   "execution_count": 13,
   "id": "f1d14113-db3f-4dc8-8418-80dfc8c50f92",
   "metadata": {
    "execution": {
     "iopub.execute_input": "2024-12-17T03:55:55.377624Z",
     "iopub.status.busy": "2024-12-17T03:55:55.376656Z",
     "iopub.status.idle": "2024-12-17T03:55:55.395532Z",
     "shell.execute_reply": "2024-12-17T03:55:55.394212Z",
     "shell.execute_reply.started": "2024-12-17T03:55:55.377589Z"
    }
   },
   "outputs": [
    {
     "data": {
      "text/html": [
       "<div>\n",
       "<style scoped>\n",
       "    .dataframe tbody tr th:only-of-type {\n",
       "        vertical-align: middle;\n",
       "    }\n",
       "\n",
       "    .dataframe tbody tr th {\n",
       "        vertical-align: top;\n",
       "    }\n",
       "\n",
       "    .dataframe thead th {\n",
       "        text-align: right;\n",
       "    }\n",
       "</style>\n",
       "<table border=\"1\" class=\"dataframe\">\n",
       "  <thead>\n",
       "    <tr style=\"text-align: right;\">\n",
       "      <th></th>\n",
       "      <th>col1</th>\n",
       "      <th>col2</th>\n",
       "      <th>col3</th>\n",
       "      <th>col4</th>\n",
       "      <th>col5</th>\n",
       "      <th>col6</th>\n",
       "    </tr>\n",
       "    <tr>\n",
       "      <th>key</th>\n",
       "      <th></th>\n",
       "      <th></th>\n",
       "      <th></th>\n",
       "      <th></th>\n",
       "      <th></th>\n",
       "      <th></th>\n",
       "    </tr>\n",
       "  </thead>\n",
       "  <tbody>\n",
       "    <tr>\n",
       "      <th>OpenAI</th>\n",
       "      <td>OpenAI</td>\n",
       "      <td>Open AI</td>\n",
       "      <td>None</td>\n",
       "      <td>None</td>\n",
       "      <td>None</td>\n",
       "      <td>None</td>\n",
       "    </tr>\n",
       "    <tr>\n",
       "      <th>Anthropic</th>\n",
       "      <td>Anthropic</td>\n",
       "      <td>None</td>\n",
       "      <td>None</td>\n",
       "      <td>None</td>\n",
       "      <td>None</td>\n",
       "      <td>None</td>\n",
       "    </tr>\n",
       "    <tr>\n",
       "      <th>Cohere</th>\n",
       "      <td>Cohere</td>\n",
       "      <td>None</td>\n",
       "      <td>None</td>\n",
       "      <td>None</td>\n",
       "      <td>None</td>\n",
       "      <td>None</td>\n",
       "    </tr>\n",
       "    <tr>\n",
       "      <th>AI21</th>\n",
       "      <td>AI21 Labs</td>\n",
       "      <td>AI 21 Labs</td>\n",
       "      <td>None</td>\n",
       "      <td>None</td>\n",
       "      <td>None</td>\n",
       "      <td>None</td>\n",
       "    </tr>\n",
       "    <tr>\n",
       "      <th>Mistral AI</th>\n",
       "      <td>Mistral AI</td>\n",
       "      <td>Mistral</td>\n",
       "      <td>None</td>\n",
       "      <td>None</td>\n",
       "      <td>None</td>\n",
       "      <td>None</td>\n",
       "    </tr>\n",
       "    <tr>\n",
       "      <th>Scale</th>\n",
       "      <td>Scale</td>\n",
       "      <td>Scale AI</td>\n",
       "      <td>None</td>\n",
       "      <td>None</td>\n",
       "      <td>None</td>\n",
       "      <td>None</td>\n",
       "    </tr>\n",
       "    <tr>\n",
       "      <th>Google</th>\n",
       "      <td>Google</td>\n",
       "      <td>GCP</td>\n",
       "      <td>Google Cloud Platform</td>\n",
       "      <td>Deepmind</td>\n",
       "      <td>Google Deepmind</td>\n",
       "      <td>None</td>\n",
       "    </tr>\n",
       "    <tr>\n",
       "      <th>Microsoft</th>\n",
       "      <td>Microsoft</td>\n",
       "      <td>Azure</td>\n",
       "      <td>None</td>\n",
       "      <td>None</td>\n",
       "      <td>None</td>\n",
       "      <td>None</td>\n",
       "    </tr>\n",
       "    <tr>\n",
       "      <th>Amazon</th>\n",
       "      <td>Amazon</td>\n",
       "      <td>AWS</td>\n",
       "      <td>None</td>\n",
       "      <td>None</td>\n",
       "      <td>None</td>\n",
       "      <td>None</td>\n",
       "    </tr>\n",
       "    <tr>\n",
       "      <th>NVIDIA</th>\n",
       "      <td>NVIDIA</td>\n",
       "      <td>None</td>\n",
       "      <td>None</td>\n",
       "      <td>None</td>\n",
       "      <td>None</td>\n",
       "      <td>None</td>\n",
       "    </tr>\n",
       "    <tr>\n",
       "      <th>Meta</th>\n",
       "      <td>Meta</td>\n",
       "      <td>Facebook</td>\n",
       "      <td>Whatsapp</td>\n",
       "      <td>Instragram</td>\n",
       "      <td>FAIR</td>\n",
       "      <td>Facebook AI Research</td>\n",
       "    </tr>\n",
       "    <tr>\n",
       "      <th>HF</th>\n",
       "      <td>HuggingFace</td>\n",
       "      <td>Hugging Face</td>\n",
       "      <td>None</td>\n",
       "      <td>None</td>\n",
       "      <td>None</td>\n",
       "      <td>None</td>\n",
       "    </tr>\n",
       "    <tr>\n",
       "      <th>Twitter</th>\n",
       "      <td>Twitter</td>\n",
       "      <td>X</td>\n",
       "      <td>X.AI</td>\n",
       "      <td>Grok</td>\n",
       "      <td>Tesla</td>\n",
       "      <td>None</td>\n",
       "    </tr>\n",
       "  </tbody>\n",
       "</table>\n",
       "</div>"
      ],
      "text/plain": [
       "                   col1          col2                   col3        col4  \\\n",
       "key                                                                        \n",
       "OpenAI           OpenAI       Open AI                   None        None   \n",
       "Anthropic     Anthropic          None                   None        None   \n",
       "Cohere           Cohere          None                   None        None   \n",
       "AI21          AI21 Labs    AI 21 Labs                   None        None   \n",
       "Mistral AI   Mistral AI       Mistral                   None        None   \n",
       "Scale             Scale      Scale AI                   None        None   \n",
       "Google           Google           GCP  Google Cloud Platform    Deepmind   \n",
       "Microsoft     Microsoft         Azure                   None        None   \n",
       "Amazon           Amazon           AWS                   None        None   \n",
       "NVIDIA           NVIDIA          None                   None        None   \n",
       "Meta               Meta      Facebook               Whatsapp  Instragram   \n",
       "HF          HuggingFace  Hugging Face                   None        None   \n",
       "Twitter         Twitter             X                   X.AI        Grok   \n",
       "\n",
       "                       col5                  col6  \n",
       "key                                                \n",
       "OpenAI                 None                  None  \n",
       "Anthropic              None                  None  \n",
       "Cohere                 None                  None  \n",
       "AI21                   None                  None  \n",
       "Mistral AI             None                  None  \n",
       "Scale                  None                  None  \n",
       "Google      Google Deepmind                  None  \n",
       "Microsoft              None                  None  \n",
       "Amazon                 None                  None  \n",
       "NVIDIA                 None                  None  \n",
       "Meta                   FAIR  Facebook AI Research  \n",
       "HF                     None                  None  \n",
       "Twitter               Tesla                  None  "
      ]
     },
     "execution_count": 13,
     "metadata": {},
     "output_type": "execute_result"
    }
   ],
   "source": [
    "all_tables['market_intelligence'].set_index('key')"
   ]
  },
  {
   "cell_type": "code",
   "execution_count": 12,
   "id": "726fe89f-1e55-432d-9d14-68dc1831ce49",
   "metadata": {
    "execution": {
     "iopub.execute_input": "2024-12-17T03:55:47.305405Z",
     "iopub.status.busy": "2024-12-17T03:55:47.304238Z",
     "iopub.status.idle": "2024-12-17T03:55:47.325194Z",
     "shell.execute_reply": "2024-12-17T03:55:47.323605Z",
     "shell.execute_reply.started": "2024-12-17T03:55:47.305371Z"
    }
   },
   "outputs": [
    {
     "data": {
      "text/plain": [
       "array(['OpenAI', 'Open AI'], dtype=object)"
      ]
     },
     "execution_count": 12,
     "metadata": {},
     "output_type": "execute_result"
    }
   ],
   "source": [
    "all_tables['market_intelligence'].set_index('key').loc['OpenAI'].dropna().values"
   ]
  },
  {
   "cell_type": "code",
   "execution_count": 7,
   "id": "42e36abe-3dcb-43b2-9d1e-c2ce92cdc809",
   "metadata": {
    "execution": {
     "iopub.execute_input": "2024-12-17T03:50:47.898486Z",
     "iopub.status.busy": "2024-12-17T03:50:47.897949Z",
     "iopub.status.idle": "2024-12-17T03:51:15.808501Z",
     "shell.execute_reply": "2024-12-17T03:51:15.807259Z",
     "shell.execute_reply.started": "2024-12-17T03:50:47.898458Z"
    },
    "scrolled": true
   },
   "outputs": [
    {
     "name": "stdout",
     "output_type": "stream",
     "text": [
      "Collecting spacy\n",
      "  Downloading spacy-3.8.3-cp311-cp311-manylinux_2_17_x86_64.manylinux2014_x86_64.whl.metadata (27 kB)\n",
      "Collecting spacy-legacy<3.1.0,>=3.0.11 (from spacy)\n",
      "  Downloading spacy_legacy-3.0.12-py2.py3-none-any.whl.metadata (2.8 kB)\n",
      "Collecting spacy-loggers<2.0.0,>=1.0.0 (from spacy)\n",
      "  Downloading spacy_loggers-1.0.5-py3-none-any.whl.metadata (23 kB)\n",
      "Collecting murmurhash<1.1.0,>=0.28.0 (from spacy)\n",
      "  Downloading murmurhash-1.0.11-cp311-cp311-manylinux_2_5_x86_64.manylinux1_x86_64.manylinux_2_17_x86_64.manylinux2014_x86_64.whl.metadata (2.0 kB)\n",
      "Collecting cymem<2.1.0,>=2.0.2 (from spacy)\n",
      "  Downloading cymem-2.0.10-cp311-cp311-manylinux_2_17_x86_64.manylinux2014_x86_64.whl.metadata (8.4 kB)\n",
      "Collecting preshed<3.1.0,>=3.0.2 (from spacy)\n",
      "  Downloading preshed-3.0.9-cp311-cp311-manylinux_2_5_x86_64.manylinux1_x86_64.manylinux_2_17_x86_64.manylinux2014_x86_64.whl.metadata (2.2 kB)\n",
      "Collecting thinc<8.4.0,>=8.3.0 (from spacy)\n",
      "  Downloading thinc-8.3.3-cp311-cp311-manylinux_2_17_x86_64.manylinux2014_x86_64.whl.metadata (15 kB)\n",
      "Collecting wasabi<1.2.0,>=0.9.1 (from spacy)\n",
      "  Downloading wasabi-1.1.3-py3-none-any.whl.metadata (28 kB)\n",
      "Collecting srsly<3.0.0,>=2.4.3 (from spacy)\n",
      "  Downloading srsly-2.5.0-cp311-cp311-manylinux_2_17_x86_64.manylinux2014_x86_64.whl.metadata (19 kB)\n",
      "Collecting catalogue<2.1.0,>=2.0.6 (from spacy)\n",
      "  Downloading catalogue-2.0.10-py3-none-any.whl.metadata (14 kB)\n",
      "Collecting weasel<0.5.0,>=0.1.0 (from spacy)\n",
      "  Downloading weasel-0.4.1-py3-none-any.whl.metadata (4.6 kB)\n",
      "Collecting typer<1.0.0,>=0.3.0 (from spacy)\n",
      "  Downloading typer-0.15.1-py3-none-any.whl.metadata (15 kB)\n",
      "Collecting tqdm<5.0.0,>=4.38.0 (from spacy)\n",
      "  Downloading tqdm-4.67.1-py3-none-any.whl.metadata (57 kB)\n",
      "\u001b[2K     \u001b[90m━━━━━━━━━━━━━━━━━━━━━━━━━━━━━━━━━━━━━━━━\u001b[0m \u001b[32m57.7/57.7 kB\u001b[0m \u001b[31m4.3 MB/s\u001b[0m eta \u001b[36m0:00:00\u001b[0m\n",
      "\u001b[?25hRequirement already satisfied: numpy>=1.19.0 in /usr/local/lib/python3.11/site-packages (from spacy) (2.1.3)\n",
      "Requirement already satisfied: requests<3.0.0,>=2.13.0 in /usr/local/lib/python3.11/site-packages (from spacy) (2.32.3)\n",
      "Collecting pydantic!=1.8,!=1.8.1,<3.0.0,>=1.7.4 (from spacy)\n",
      "  Downloading pydantic-2.10.3-py3-none-any.whl.metadata (172 kB)\n",
      "\u001b[2K     \u001b[90m━━━━━━━━━━━━━━━━━━━━━━━━━━━━━━━━━━━━━━━\u001b[0m \u001b[32m172.0/172.0 kB\u001b[0m \u001b[31m6.9 MB/s\u001b[0m eta \u001b[36m0:00:00\u001b[0m\n",
      "\u001b[?25hRequirement already satisfied: jinja2 in /usr/local/lib/python3.11/site-packages (from spacy) (3.1.4)\n",
      "Requirement already satisfied: setuptools in /usr/local/lib/python3.11/site-packages (from spacy) (65.5.1)\n",
      "Requirement already satisfied: packaging>=20.0 in /usr/local/lib/python3.11/site-packages (from spacy) (24.2)\n",
      "Collecting langcodes<4.0.0,>=3.2.0 (from spacy)\n",
      "  Downloading langcodes-3.5.0-py3-none-any.whl.metadata (29 kB)\n",
      "Collecting language-data>=1.2 (from langcodes<4.0.0,>=3.2.0->spacy)\n",
      "  Downloading language_data-1.3.0-py3-none-any.whl.metadata (4.3 kB)\n",
      "Collecting annotated-types>=0.6.0 (from pydantic!=1.8,!=1.8.1,<3.0.0,>=1.7.4->spacy)\n",
      "  Downloading annotated_types-0.7.0-py3-none-any.whl.metadata (15 kB)\n",
      "Collecting pydantic-core==2.27.1 (from pydantic!=1.8,!=1.8.1,<3.0.0,>=1.7.4->spacy)\n",
      "  Downloading pydantic_core-2.27.1-cp311-cp311-manylinux_2_17_x86_64.manylinux2014_x86_64.whl.metadata (6.6 kB)\n",
      "Requirement already satisfied: typing-extensions>=4.12.2 in /usr/local/lib/python3.11/site-packages (from pydantic!=1.8,!=1.8.1,<3.0.0,>=1.7.4->spacy) (4.12.2)\n",
      "Requirement already satisfied: charset-normalizer<4,>=2 in /usr/local/lib/python3.11/site-packages (from requests<3.0.0,>=2.13.0->spacy) (3.4.0)\n",
      "Requirement already satisfied: idna<4,>=2.5 in /usr/local/lib/python3.11/site-packages (from requests<3.0.0,>=2.13.0->spacy) (3.10)\n",
      "Requirement already satisfied: urllib3<3,>=1.21.1 in /usr/local/lib/python3.11/site-packages (from requests<3.0.0,>=2.13.0->spacy) (2.2.3)\n",
      "Requirement already satisfied: certifi>=2017.4.17 in /usr/local/lib/python3.11/site-packages (from requests<3.0.0,>=2.13.0->spacy) (2024.8.30)\n",
      "Collecting blis<1.2.0,>=1.1.0 (from thinc<8.4.0,>=8.3.0->spacy)\n",
      "  Downloading blis-1.1.0-cp311-cp311-manylinux_2_17_x86_64.manylinux2014_x86_64.whl.metadata (7.7 kB)\n",
      "Collecting confection<1.0.0,>=0.0.1 (from thinc<8.4.0,>=8.3.0->spacy)\n",
      "  Downloading confection-0.1.5-py3-none-any.whl.metadata (19 kB)\n",
      "Requirement already satisfied: click>=8.0.0 in /usr/local/lib/python3.11/site-packages (from typer<1.0.0,>=0.3.0->spacy) (8.1.7)\n",
      "Collecting shellingham>=1.3.0 (from typer<1.0.0,>=0.3.0->spacy)\n",
      "  Downloading shellingham-1.5.4-py2.py3-none-any.whl.metadata (3.5 kB)\n",
      "Collecting rich>=10.11.0 (from typer<1.0.0,>=0.3.0->spacy)\n",
      "  Downloading rich-13.9.4-py3-none-any.whl.metadata (18 kB)\n",
      "Collecting cloudpathlib<1.0.0,>=0.7.0 (from weasel<0.5.0,>=0.1.0->spacy)\n",
      "  Downloading cloudpathlib-0.20.0-py3-none-any.whl.metadata (14 kB)\n",
      "Collecting smart-open<8.0.0,>=5.2.1 (from weasel<0.5.0,>=0.1.0->spacy)\n",
      "  Downloading smart_open-7.0.5-py3-none-any.whl.metadata (24 kB)\n",
      "Requirement already satisfied: MarkupSafe>=2.0 in /usr/local/lib/python3.11/site-packages (from jinja2->spacy) (3.0.2)\n",
      "Collecting marisa-trie>=1.1.0 (from language-data>=1.2->langcodes<4.0.0,>=3.2.0->spacy)\n",
      "  Downloading marisa_trie-1.2.1-cp311-cp311-manylinux_2_17_x86_64.manylinux2014_x86_64.whl.metadata (9.0 kB)\n",
      "Collecting markdown-it-py>=2.2.0 (from rich>=10.11.0->typer<1.0.0,>=0.3.0->spacy)\n",
      "  Downloading markdown_it_py-3.0.0-py3-none-any.whl.metadata (6.9 kB)\n",
      "Requirement already satisfied: pygments<3.0.0,>=2.13.0 in /usr/local/lib/python3.11/site-packages (from rich>=10.11.0->typer<1.0.0,>=0.3.0->spacy) (2.18.0)\n",
      "Collecting wrapt (from smart-open<8.0.0,>=5.2.1->weasel<0.5.0,>=0.1.0->spacy)\n",
      "  Downloading wrapt-1.17.0-cp311-cp311-manylinux_2_5_x86_64.manylinux1_x86_64.manylinux_2_17_x86_64.manylinux2014_x86_64.whl.metadata (6.4 kB)\n",
      "Collecting mdurl~=0.1 (from markdown-it-py>=2.2.0->rich>=10.11.0->typer<1.0.0,>=0.3.0->spacy)\n",
      "  Downloading mdurl-0.1.2-py3-none-any.whl.metadata (1.6 kB)\n",
      "Downloading spacy-3.8.3-cp311-cp311-manylinux_2_17_x86_64.manylinux2014_x86_64.whl (30.6 MB)\n",
      "\u001b[2K   \u001b[90m━━━━━━━━━━━━━━━━━━━━━━━━━━━━━━━━━━━━━━━━\u001b[0m \u001b[32m30.6/30.6 MB\u001b[0m \u001b[31m8.6 MB/s\u001b[0m eta \u001b[36m0:00:00\u001b[0m:00:01\u001b[0m00:01\u001b[0m\n",
      "\u001b[?25hDownloading catalogue-2.0.10-py3-none-any.whl (17 kB)\n",
      "Downloading cymem-2.0.10-cp311-cp311-manylinux_2_17_x86_64.manylinux2014_x86_64.whl (218 kB)\n",
      "\u001b[2K   \u001b[90m━━━━━━━━━━━━━━━━━━━━━━━━━━━━━━━━━━━━━━━━\u001b[0m \u001b[32m218.8/218.8 kB\u001b[0m \u001b[31m11.1 MB/s\u001b[0m eta \u001b[36m0:00:00\u001b[0m\n",
      "\u001b[?25hDownloading langcodes-3.5.0-py3-none-any.whl (182 kB)\n",
      "\u001b[2K   \u001b[90m━━━━━━━━━━━━━━━━━━━━━━━━━━━━━━━━━━━━━━━━\u001b[0m \u001b[32m183.0/183.0 kB\u001b[0m \u001b[31m10.3 MB/s\u001b[0m eta \u001b[36m0:00:00\u001b[0m\n",
      "\u001b[?25hDownloading murmurhash-1.0.11-cp311-cp311-manylinux_2_5_x86_64.manylinux1_x86_64.manylinux_2_17_x86_64.manylinux2014_x86_64.whl (134 kB)\n",
      "\u001b[2K   \u001b[90m━━━━━━━━━━━━━━━━━━━━━━━━━━━━━━━━━━━━━━━━\u001b[0m \u001b[32m134.3/134.3 kB\u001b[0m \u001b[31m12.9 MB/s\u001b[0m eta \u001b[36m0:00:00\u001b[0m\n",
      "\u001b[?25hDownloading preshed-3.0.9-cp311-cp311-manylinux_2_5_x86_64.manylinux1_x86_64.manylinux_2_17_x86_64.manylinux2014_x86_64.whl (157 kB)\n",
      "\u001b[2K   \u001b[90m━━━━━━━━━━━━━━━━━━━━━━━━━━━━━━━━━━━━━━━━\u001b[0m \u001b[32m157.2/157.2 kB\u001b[0m \u001b[31m7.5 MB/s\u001b[0m eta \u001b[36m0:00:00\u001b[0m\n",
      "\u001b[?25hDownloading pydantic-2.10.3-py3-none-any.whl (456 kB)\n",
      "\u001b[2K   \u001b[90m━━━━━━━━━━━━━━━━━━━━━━━━━━━━━━━━━━━━━━━━\u001b[0m \u001b[32m457.0/457.0 kB\u001b[0m \u001b[31m11.7 MB/s\u001b[0m eta \u001b[36m0:00:00\u001b[0m00:01\u001b[0m\n",
      "\u001b[?25hDownloading pydantic_core-2.27.1-cp311-cp311-manylinux_2_17_x86_64.manylinux2014_x86_64.whl (2.1 MB)\n",
      "\u001b[2K   \u001b[90m━━━━━━━━━━━━━━━━━━━━━━━━━━━━━━━━━━━━━━━━\u001b[0m \u001b[32m2.1/2.1 MB\u001b[0m \u001b[31m9.1 MB/s\u001b[0m eta \u001b[36m0:00:00\u001b[0m:00:01\u001b[0m00:01\u001b[0m\n",
      "\u001b[?25hDownloading spacy_legacy-3.0.12-py2.py3-none-any.whl (29 kB)\n",
      "Downloading spacy_loggers-1.0.5-py3-none-any.whl (22 kB)\n",
      "Downloading srsly-2.5.0-cp311-cp311-manylinux_2_17_x86_64.manylinux2014_x86_64.whl (1.1 MB)\n",
      "\u001b[2K   \u001b[90m━━━━━━━━━━━━━━━━━━━━━━━━━━━━━━━━━━━━━━━━\u001b[0m \u001b[32m1.1/1.1 MB\u001b[0m \u001b[31m11.6 MB/s\u001b[0m eta \u001b[36m0:00:00\u001b[0ma \u001b[36m0:00:01\u001b[0m\n",
      "\u001b[?25hDownloading thinc-8.3.3-cp311-cp311-manylinux_2_17_x86_64.manylinux2014_x86_64.whl (3.9 MB)\n",
      "\u001b[2K   \u001b[90m━━━━━━━━━━━━━━━━━━━━━━━━━━━━━━━━━━━━━━━━\u001b[0m \u001b[32m3.9/3.9 MB\u001b[0m \u001b[31m13.1 MB/s\u001b[0m eta \u001b[36m0:00:00\u001b[0m00:01\u001b[0m00:01\u001b[0m\n",
      "\u001b[?25hDownloading tqdm-4.67.1-py3-none-any.whl (78 kB)\n",
      "\u001b[2K   \u001b[90m━━━━━━━━━━━━━━━━━━━━━━━━━━━━━━━━━━━━━━━━\u001b[0m \u001b[32m78.5/78.5 kB\u001b[0m \u001b[31m4.0 MB/s\u001b[0m eta \u001b[36m0:00:00\u001b[0m\n",
      "\u001b[?25hDownloading typer-0.15.1-py3-none-any.whl (44 kB)\n",
      "\u001b[2K   \u001b[90m━━━━━━━━━━━━━━━━━━━━━━━━━━━━━━━━━━━━━━━━\u001b[0m \u001b[32m44.9/44.9 kB\u001b[0m \u001b[31m3.5 MB/s\u001b[0m eta \u001b[36m0:00:00\u001b[0m\n",
      "\u001b[?25hDownloading wasabi-1.1.3-py3-none-any.whl (27 kB)\n",
      "Downloading weasel-0.4.1-py3-none-any.whl (50 kB)\n",
      "\u001b[2K   \u001b[90m━━━━━━━━━━━━━━━━━━━━━━━━━━━━━━━━━━━━━━━━\u001b[0m \u001b[32m50.3/50.3 kB\u001b[0m \u001b[31m1.9 MB/s\u001b[0m eta \u001b[36m0:00:00\u001b[0m\n",
      "\u001b[?25hDownloading annotated_types-0.7.0-py3-none-any.whl (13 kB)\n",
      "Downloading blis-1.1.0-cp311-cp311-manylinux_2_17_x86_64.manylinux2014_x86_64.whl (9.3 MB)\n",
      "\u001b[2K   \u001b[90m━━━━━━━━━━━━━━━━━━━━━━━━━━━━━━━━━━━━━━━━\u001b[0m \u001b[32m9.3/9.3 MB\u001b[0m \u001b[31m12.0 MB/s\u001b[0m eta \u001b[36m0:00:00\u001b[0m00:01\u001b[0m00:01\u001b[0m\n",
      "\u001b[?25hDownloading cloudpathlib-0.20.0-py3-none-any.whl (52 kB)\n",
      "\u001b[2K   \u001b[90m━━━━━━━━━━━━━━━━━━━━━━━━━━━━━━━━━━━━━━━━\u001b[0m \u001b[32m52.5/52.5 kB\u001b[0m \u001b[31m4.3 MB/s\u001b[0m eta \u001b[36m0:00:00\u001b[0m\n",
      "\u001b[?25hDownloading confection-0.1.5-py3-none-any.whl (35 kB)\n",
      "Downloading language_data-1.3.0-py3-none-any.whl (5.4 MB)\n",
      "\u001b[2K   \u001b[90m━━━━━━━━━━━━━━━━━━━━━━━━━━━━━━━━━━━━━━━━\u001b[0m \u001b[32m5.4/5.4 MB\u001b[0m \u001b[31m10.9 MB/s\u001b[0m eta \u001b[36m0:00:00\u001b[0m00:01\u001b[0m00:01\u001b[0m\n",
      "\u001b[?25hDownloading rich-13.9.4-py3-none-any.whl (242 kB)\n",
      "\u001b[2K   \u001b[90m━━━━━━━━━━━━━━━━━━━━━━━━━━━━━━━━━━━━━━━━\u001b[0m \u001b[32m242.4/242.4 kB\u001b[0m \u001b[31m10.3 MB/s\u001b[0m eta \u001b[36m0:00:00\u001b[0m\n",
      "\u001b[?25hDownloading shellingham-1.5.4-py2.py3-none-any.whl (9.8 kB)\n",
      "Downloading smart_open-7.0.5-py3-none-any.whl (61 kB)\n",
      "\u001b[2K   \u001b[90m━━━━━━━━━━━━━━━━━━━━━━━━━━━━━━━━━━━━━━━━\u001b[0m \u001b[32m61.4/61.4 kB\u001b[0m \u001b[31m7.0 MB/s\u001b[0m eta \u001b[36m0:00:00\u001b[0m\n",
      "\u001b[?25hDownloading marisa_trie-1.2.1-cp311-cp311-manylinux_2_17_x86_64.manylinux2014_x86_64.whl (1.4 MB)\n",
      "\u001b[2K   \u001b[90m━━━━━━━━━━━━━━━━━━━━━━━━━━━━━━━━━━━━━━━━\u001b[0m \u001b[32m1.4/1.4 MB\u001b[0m \u001b[31m12.0 MB/s\u001b[0m eta \u001b[36m0:00:00\u001b[0m00:01\u001b[0m00:01\u001b[0m\n",
      "\u001b[?25hDownloading markdown_it_py-3.0.0-py3-none-any.whl (87 kB)\n",
      "\u001b[2K   \u001b[90m━━━━━━━━━━━━━━━━━━━━━━━━━━━━━━━━━━━━━━━━\u001b[0m \u001b[32m87.5/87.5 kB\u001b[0m \u001b[31m9.9 MB/s\u001b[0m eta \u001b[36m0:00:00\u001b[0m\n",
      "\u001b[?25hDownloading wrapt-1.17.0-cp311-cp311-manylinux_2_5_x86_64.manylinux1_x86_64.manylinux_2_17_x86_64.manylinux2014_x86_64.whl (83 kB)\n",
      "\u001b[2K   \u001b[90m━━━━━━━━━━━━━━━━━━━━━━━━━━━━━━━━━━━━━━━━\u001b[0m \u001b[32m83.2/83.2 kB\u001b[0m \u001b[31m7.6 MB/s\u001b[0m eta \u001b[36m0:00:00\u001b[0m\n",
      "\u001b[?25hDownloading mdurl-0.1.2-py3-none-any.whl (10.0 kB)\n",
      "Installing collected packages: cymem, wrapt, wasabi, tqdm, spacy-loggers, spacy-legacy, shellingham, pydantic-core, murmurhash, mdurl, marisa-trie, cloudpathlib, catalogue, blis, annotated-types, srsly, smart-open, pydantic, preshed, markdown-it-py, language-data, rich, langcodes, confection, typer, thinc, weasel, spacy\n",
      "Successfully installed annotated-types-0.7.0 blis-1.1.0 catalogue-2.0.10 cloudpathlib-0.20.0 confection-0.1.5 cymem-2.0.10 langcodes-3.5.0 language-data-1.3.0 marisa-trie-1.2.1 markdown-it-py-3.0.0 mdurl-0.1.2 murmurhash-1.0.11 preshed-3.0.9 pydantic-2.10.3 pydantic-core-2.27.1 rich-13.9.4 shellingham-1.5.4 smart-open-7.0.5 spacy-3.8.3 spacy-legacy-3.0.12 spacy-loggers-1.0.5 srsly-2.5.0 thinc-8.3.3 tqdm-4.67.1 typer-0.15.1 wasabi-1.1.3 weasel-0.4.1 wrapt-1.17.0\n",
      "\u001b[33mWARNING: Running pip as the 'root' user can result in broken permissions and conflicting behaviour with the system package manager. It is recommended to use a virtual environment instead: https://pip.pypa.io/warnings/venv\u001b[0m\u001b[33m\n",
      "\u001b[0m\n",
      "\u001b[1m[\u001b[0m\u001b[34;49mnotice\u001b[0m\u001b[1;39;49m]\u001b[0m\u001b[39;49m A new release of pip is available: \u001b[0m\u001b[31;49m24.0\u001b[0m\u001b[39;49m -> \u001b[0m\u001b[32;49m24.3.1\u001b[0m\n",
      "\u001b[1m[\u001b[0m\u001b[34;49mnotice\u001b[0m\u001b[1;39;49m]\u001b[0m\u001b[39;49m To update, run: \u001b[0m\u001b[32;49mpip install --upgrade pip\u001b[0m\n"
     ]
    }
   ],
   "source": [
    "!pip install spacy"
   ]
  },
  {
   "cell_type": "code",
   "execution_count": 69,
   "id": "5e69d0e4-2b88-4b75-a774-6b0cacf6f637",
   "metadata": {
    "execution": {
     "iopub.execute_input": "2024-12-17T05:00:23.603151Z",
     "iopub.status.busy": "2024-12-17T05:00:23.600345Z",
     "iopub.status.idle": "2024-12-17T05:00:23.611309Z",
     "shell.execute_reply": "2024-12-17T05:00:23.609497Z",
     "shell.execute_reply.started": "2024-12-17T05:00:23.603098Z"
    }
   },
   "outputs": [
    {
     "name": "stdout",
     "output_type": "stream",
     "text": [
      "SAM ALTMAN SAYS ARTIFICIAL GENERAL INTELLIGENCE IS ON THE HORIZON\n",
      "Sam Altman, CEO of OpenAI, stated at the DealBook Summit that Artificial General Intelligence might impact everyday life less significantly than expected. He also loves LLM-as-a-Judge, but not as a judge.\n"
     ]
    }
   ],
   "source": [
    "test_text = \"SAM ALTMAN SAYS ARTIFICIAL GENERAL INTELLIGENCE IS ON THE HORIZON\\nSam Altman, CEO of OpenAI, stated at the DealBook Summit that Artificial General Intelligence might impact everyday life less significantly than expected. He also loves LLM-as-a-Judge, but not as a judge.\"\n",
    "print(test_text)"
   ]
  },
  {
   "cell_type": "code",
   "execution_count": 16,
   "id": "34a07c9c-4b6f-46e8-b420-d85a7cc0f29b",
   "metadata": {
    "execution": {
     "iopub.execute_input": "2024-12-17T03:59:29.298278Z",
     "iopub.status.busy": "2024-12-17T03:59:29.296368Z",
     "iopub.status.idle": "2024-12-17T03:59:35.074151Z",
     "shell.execute_reply": "2024-12-17T03:59:35.072911Z",
     "shell.execute_reply.started": "2024-12-17T03:59:29.298219Z"
    }
   },
   "outputs": [
    {
     "name": "stdout",
     "output_type": "stream",
     "text": [
      "Collecting en-core-web-sm==3.8.0\n",
      "  Downloading https://github.com/explosion/spacy-models/releases/download/en_core_web_sm-3.8.0/en_core_web_sm-3.8.0-py3-none-any.whl (12.8 MB)\n",
      "\u001b[2K     \u001b[90m━━━━━━━━━━━━━━━━━━━━━━━━━━━━━━━━━━━━━━━━\u001b[0m \u001b[32m12.8/12.8 MB\u001b[0m \u001b[31m14.3 MB/s\u001b[0m eta \u001b[36m0:00:00\u001b[0m00:01\u001b[0m00:01\u001b[0m\n",
      "\u001b[?25hInstalling collected packages: en-core-web-sm\n",
      "Successfully installed en-core-web-sm-3.8.0\n",
      "\u001b[33mWARNING: Running pip as the 'root' user can result in broken permissions and conflicting behaviour with the system package manager. It is recommended to use a virtual environment instead: https://pip.pypa.io/warnings/venv\u001b[0m\u001b[33m\n",
      "\u001b[0m\n",
      "\u001b[1m[\u001b[0m\u001b[34;49mnotice\u001b[0m\u001b[1;39;49m]\u001b[0m\u001b[39;49m A new release of pip is available: \u001b[0m\u001b[31;49m24.0\u001b[0m\u001b[39;49m -> \u001b[0m\u001b[32;49m24.3.1\u001b[0m\n",
      "\u001b[1m[\u001b[0m\u001b[34;49mnotice\u001b[0m\u001b[1;39;49m]\u001b[0m\u001b[39;49m To update, run: \u001b[0m\u001b[32;49mpip install --upgrade pip\u001b[0m\n",
      "\u001b[38;5;2m✔ Download and installation successful\u001b[0m\n",
      "You can now load the package via spacy.load('en_core_web_sm')\n"
     ]
    }
   ],
   "source": [
    "!spacy download en_core_web_sm"
   ]
  },
  {
   "cell_type": "code",
   "execution_count": 40,
   "id": "41a1fb83-86ae-4d80-9771-e6a2cb0df73a",
   "metadata": {
    "execution": {
     "iopub.execute_input": "2024-12-17T04:38:27.816326Z",
     "iopub.status.busy": "2024-12-17T04:38:27.814900Z",
     "iopub.status.idle": "2024-12-17T04:38:27.825000Z",
     "shell.execute_reply": "2024-12-17T04:38:27.823405Z",
     "shell.execute_reply.started": "2024-12-17T04:38:27.816286Z"
    }
   },
   "outputs": [],
   "source": [
    "import spacy\n",
    "from spacy.matcher import PhraseMatcher"
   ]
  },
  {
   "cell_type": "code",
   "execution_count": 70,
   "id": "5c7e838e-4d78-4444-a723-4f74eff7c8f6",
   "metadata": {
    "execution": {
     "iopub.execute_input": "2024-12-17T05:00:28.921738Z",
     "iopub.status.busy": "2024-12-17T05:00:28.921253Z",
     "iopub.status.idle": "2024-12-17T05:00:29.739843Z",
     "shell.execute_reply": "2024-12-17T05:00:29.738858Z",
     "shell.execute_reply.started": "2024-12-17T05:00:28.921706Z"
    }
   },
   "outputs": [],
   "source": [
    "nlp = spacy.load(\"en_core_web_sm\")\n",
    "doc = nlp(test_text)"
   ]
  },
  {
   "cell_type": "code",
   "execution_count": 71,
   "id": "9a2c5915-18b6-49a4-9ab0-55d7331f43a3",
   "metadata": {
    "execution": {
     "iopub.execute_input": "2024-12-17T05:00:29.741756Z",
     "iopub.status.busy": "2024-12-17T05:00:29.741383Z",
     "iopub.status.idle": "2024-12-17T05:00:29.751606Z",
     "shell.execute_reply": "2024-12-17T05:00:29.750008Z",
     "shell.execute_reply.started": "2024-12-17T05:00:29.741729Z"
    }
   },
   "outputs": [
    {
     "name": "stdout",
     "output_type": "stream",
     "text": [
      "SAM ALTMAN 0 10 ORG\n",
      "HORIZON 58 65 ORG\n",
      "Sam Altman 66 76 PERSON\n",
      "OpenAI 85 91 ORG\n",
      "the DealBook Summit 103 122 ORG\n",
      "Artificial General Intelligence 128 159 ORG\n",
      "LLM 235 238 ORG\n"
     ]
    }
   ],
   "source": [
    "#nlp = spacy.load(\"en_core_web_sm\")\n",
    "#doc = nlp(\"Apple is looking at buying U.K. startup for $1 billion\")\n",
    "for ent in doc.ents:\n",
    "    print(ent.text, ent.start_char, ent.end_char, ent.label_)"
   ]
  },
  {
   "cell_type": "code",
   "execution_count": 72,
   "id": "2107e825-b15f-4923-9368-9f59cf569bdb",
   "metadata": {
    "execution": {
     "iopub.execute_input": "2024-12-17T05:00:29.754767Z",
     "iopub.status.busy": "2024-12-17T05:00:29.754306Z",
     "iopub.status.idle": "2024-12-17T05:00:29.764348Z",
     "shell.execute_reply": "2024-12-17T05:00:29.760233Z",
     "shell.execute_reply.started": "2024-12-17T05:00:29.754723Z"
    }
   },
   "outputs": [
    {
     "name": "stdout",
     "output_type": "stream",
     "text": [
      "SAM ALTMAN SAYS ARTIFICIAL GENERAL INTELLIGENCE IS ON THE HORIZON\n",
      "Sam Altman, CEO of OpenAI, stated at the DealBook Summit that Artificial General Intelligence might impact everyday life less significantly than expected. He also loves LLM-as-a-Judge, but not as a judge.\n"
     ]
    }
   ],
   "source": [
    "print(test_text)"
   ]
  },
  {
   "cell_type": "code",
   "execution_count": 73,
   "id": "4b0d043e-1900-44ee-8bc2-6003e633597b",
   "metadata": {
    "execution": {
     "iopub.execute_input": "2024-12-17T05:00:29.964801Z",
     "iopub.status.busy": "2024-12-17T05:00:29.964007Z",
     "iopub.status.idle": "2024-12-17T05:00:29.976777Z",
     "shell.execute_reply": "2024-12-17T05:00:29.974706Z",
     "shell.execute_reply.started": "2024-12-17T05:00:29.964750Z"
    }
   },
   "outputs": [
    {
     "data": {
      "text/plain": [
       "array(['OpenAI', 'Open AI'], dtype=object)"
      ]
     },
     "execution_count": 73,
     "metadata": {},
     "output_type": "execute_result"
    }
   ],
   "source": [
    "all_tables['market_intelligence'].set_index('key').loc[\"OpenAI\"].dropna().values"
   ]
  },
  {
   "cell_type": "code",
   "execution_count": 74,
   "id": "9bb2e4b7-bde7-40c0-92f0-5098b7acc5da",
   "metadata": {
    "execution": {
     "iopub.execute_input": "2024-12-17T05:00:30.584615Z",
     "iopub.status.busy": "2024-12-17T05:00:30.581054Z",
     "iopub.status.idle": "2024-12-17T05:00:30.601731Z",
     "shell.execute_reply": "2024-12-17T05:00:30.600022Z",
     "shell.execute_reply.started": "2024-12-17T05:00:30.584339Z"
    }
   },
   "outputs": [
    {
     "name": "stdout",
     "output_type": "stream",
     "text": [
      "OpenAI\n"
     ]
    }
   ],
   "source": [
    "matcher = PhraseMatcher(nlp.vocab, attr=\"LOWER\")\n",
    "terms = list(all_tables['market_intelligence'].set_index('key').loc[\"OpenAI\"].dropna().values)\n",
    "# Only run nlp.make_doc to speed things up\n",
    "patterns = [nlp.make_doc(text) for text in terms]\n",
    "matcher.add(\"TerminologyList\", patterns)\n",
    "\n",
    "matches = matcher(doc)\n",
    "for match_id, start, end in matches:\n",
    "    span = doc[start:end]\n",
    "    print(span.text)"
   ]
  },
  {
   "cell_type": "code",
   "execution_count": 75,
   "id": "7a582d68-4f67-428a-a1ef-3ccb766122d2",
   "metadata": {
    "execution": {
     "iopub.execute_input": "2024-12-17T05:00:30.809851Z",
     "iopub.status.busy": "2024-12-17T05:00:30.809146Z",
     "iopub.status.idle": "2024-12-17T05:00:30.830074Z",
     "shell.execute_reply": "2024-12-17T05:00:30.828221Z",
     "shell.execute_reply.started": "2024-12-17T05:00:30.809817Z"
    }
   },
   "outputs": [
    {
     "name": "stdout",
     "output_type": "stream",
     "text": [
      "['AI', 'Artificial Intelligence', 'AGI', 'Artificial General Intelligence', 'A.I']\n",
      "2\n",
      "ARTIFICIAL GENERAL INTELLIGENCE\n",
      "Artificial General Intelligence\n"
     ]
    }
   ],
   "source": [
    "matcher = PhraseMatcher(nlp.vocab, attr=\"LOWER\")\n",
    "terms = list(all_tables['themes'].drop(columns=\"qualifying\").set_index('key').loc[\"AI\"].dropna().values)\n",
    "print(terms)\n",
    "# Only run nlp.make_doc to speed things up\n",
    "patterns = [nlp.make_doc(text) for text in terms]\n",
    "matcher.add(\"TerminologyList\", patterns)\n",
    "\n",
    "matches = matcher(doc)\n",
    "print(len(matches))\n",
    "for match_id, start, end in matches:\n",
    "    span = doc[start:end]\n",
    "    print(span.text)"
   ]
  },
  {
   "cell_type": "code",
   "execution_count": 76,
   "id": "10ece0ca-2cec-4803-8517-d9d1109560ae",
   "metadata": {
    "execution": {
     "iopub.execute_input": "2024-12-17T05:00:31.020580Z",
     "iopub.status.busy": "2024-12-17T05:00:31.019453Z",
     "iopub.status.idle": "2024-12-17T05:00:31.037422Z",
     "shell.execute_reply": "2024-12-17T05:00:31.036282Z",
     "shell.execute_reply.started": "2024-12-17T05:00:31.020543Z"
    }
   },
   "outputs": [
    {
     "name": "stdout",
     "output_type": "stream",
     "text": [
      "['evaluation', 'eval', 'leaderboard', 'benchmark', 'metrics', 'as-a-Judge']\n",
      "1\n",
      "loves LLM-as-a-Judge\n"
     ]
    }
   ],
   "source": [
    "matcher = PhraseMatcher(nlp.vocab, attr=\"LOWER\")\n",
    "terms = list(all_tables['themes'].drop(columns=\"qualifying\").set_index('key').loc[\"Evaluation\"].dropna().values)\n",
    "print(terms)\n",
    "# Only run nlp.make_doc to speed things up\n",
    "patterns = [nlp.make_doc(text) for text in terms]\n",
    "matcher.add(\"TerminologyList\", patterns)\n",
    "\n",
    "matches = matcher(doc)\n",
    "print(len(matches))\n",
    "for match_id, start, end in matches:\n",
    "    span = doc[start-3:end]\n",
    "    print(span.text)"
   ]
  },
  {
   "cell_type": "code",
   "execution_count": null,
   "id": "56bddba0-3ad5-4d35-a52e-a2d49c03bd65",
   "metadata": {},
   "outputs": [],
   "source": []
  },
  {
   "cell_type": "code",
   "execution_count": null,
   "id": "cdad3443-7184-4a4e-8419-7b68c799c1fe",
   "metadata": {},
   "outputs": [],
   "source": []
  },
  {
   "cell_type": "code",
   "execution_count": null,
   "id": "660901cb-e422-40f6-9893-01f7cf43b9c4",
   "metadata": {},
   "outputs": [],
   "source": []
  }
 ],
 "metadata": {
  "kernelspec": {
   "display_name": "Python 3 (ipykernel)",
   "language": "python",
   "name": "python3"
  },
  "language_info": {
   "codemirror_mode": {
    "name": "ipython",
    "version": 3
   },
   "file_extension": ".py",
   "mimetype": "text/x-python",
   "name": "python",
   "nbconvert_exporter": "python",
   "pygments_lexer": "ipython3",
   "version": "3.11.9"
  }
 },
 "nbformat": 4,
 "nbformat_minor": 5
}
