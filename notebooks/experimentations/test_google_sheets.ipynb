{
 "cells": [
  {
   "cell_type": "code",
   "execution_count": 1,
   "id": "03ad85fb-e1e5-4bb6-a697-e97f8ed9fecd",
   "metadata": {
    "execution": {
     "iopub.execute_input": "2024-12-18T23:41:28.448665Z",
     "iopub.status.busy": "2024-12-18T23:41:28.448212Z",
     "iopub.status.idle": "2024-12-18T23:41:29.358386Z",
     "shell.execute_reply": "2024-12-18T23:41:29.355994Z",
     "shell.execute_reply.started": "2024-12-18T23:41:28.448585Z"
    }
   },
   "outputs": [],
   "source": [
    "import pandas as pd\n",
    "from pathlib import Path\n",
    "\n",
    "from src.config import SCOPES\n",
    "from src.utils.list import flatten_list_of_lists\n",
    "from src.scoring.google_sheets import GoogleSheets"
   ]
  },
  {
   "cell_type": "code",
   "execution_count": 2,
   "id": "0bf7e9a9-8cbe-4653-a18a-bde638289912",
   "metadata": {
    "execution": {
     "iopub.execute_input": "2024-12-18T23:41:29.361172Z",
     "iopub.status.busy": "2024-12-18T23:41:29.360591Z",
     "iopub.status.idle": "2024-12-18T23:41:29.391134Z",
     "shell.execute_reply": "2024-12-18T23:41:29.389300Z",
     "shell.execute_reply.started": "2024-12-18T23:41:29.361142Z"
    }
   },
   "outputs": [],
   "source": [
    "sheets = GoogleSheets(path_to_token=Path(\"../../secrets_vault/token.json\"), path_to_credentials=Path(\"../../secrets_vault/credentials.json\"), scopes=SCOPES)"
   ]
  },
  {
   "cell_type": "code",
   "execution_count": 3,
   "id": "da90eaae-daf3-48ee-bd36-164f2ffcbc54",
   "metadata": {
    "execution": {
     "iopub.execute_input": "2024-12-18T23:41:29.393433Z",
     "iopub.status.busy": "2024-12-18T23:41:29.392758Z",
     "iopub.status.idle": "2024-12-18T23:41:31.179266Z",
     "shell.execute_reply": "2024-12-18T23:41:31.178046Z",
     "shell.execute_reply.started": "2024-12-18T23:41:29.393399Z"
    }
   },
   "outputs": [],
   "source": [
    "all_tables = sheets.get_all_tables()"
   ]
  },
  {
   "cell_type": "code",
   "execution_count": 4,
   "id": "749f099c-6859-4085-ac73-18088f39c4a9",
   "metadata": {
    "execution": {
     "iopub.execute_input": "2024-12-18T23:41:31.181751Z",
     "iopub.status.busy": "2024-12-18T23:41:31.180645Z",
     "iopub.status.idle": "2024-12-18T23:41:31.200142Z",
     "shell.execute_reply": "2024-12-18T23:41:31.197614Z",
     "shell.execute_reply.started": "2024-12-18T23:41:31.181719Z"
    }
   },
   "outputs": [
    {
     "data": {
      "text/plain": [
       "dict_keys(['competitive_intelligence', 'themes', 'market_intelligence', 'personalities'])"
      ]
     },
     "execution_count": 4,
     "metadata": {},
     "output_type": "execute_result"
    }
   ],
   "source": [
    "all_tables.keys()"
   ]
  },
  {
   "cell_type": "code",
   "execution_count": 5,
   "id": "f1d14113-db3f-4dc8-8418-80dfc8c50f92",
   "metadata": {
    "execution": {
     "iopub.execute_input": "2024-12-18T23:41:31.202376Z",
     "iopub.status.busy": "2024-12-18T23:41:31.201666Z",
     "iopub.status.idle": "2024-12-18T23:41:31.213290Z",
     "shell.execute_reply": "2024-12-18T23:41:31.211488Z",
     "shell.execute_reply.started": "2024-12-18T23:41:31.202298Z"
    }
   },
   "outputs": [
    {
     "data": {
      "text/plain": [
       "{'OpenAI': ['OpenAI', 'Open AI'],\n",
       " 'Anthropic': ['Anthropic'],\n",
       " 'Cohere': ['Cohere'],\n",
       " 'AI21': ['AI21 Labs', 'AI 21 Labs'],\n",
       " 'Mistral AI': ['Mistral AI', 'Mistral'],\n",
       " 'Scale': ['Scale', 'Scale AI'],\n",
       " 'Google': ['Google', 'GCP', 'Google Cloud Platform', 'Deepmind'],\n",
       " 'Microsoft': ['Microsoft', 'Azure'],\n",
       " 'Amazon': ['Amazon', 'AWS'],\n",
       " 'NVIDIA': ['NVIDIA', 'NVDA'],\n",
       " 'Meta': ['Meta',\n",
       "  'Facebook',\n",
       "  'Whatsapp',\n",
       "  'Instragram',\n",
       "  'FAIR',\n",
       "  'Facebook AI Research'],\n",
       " 'HF': ['HuggingFace', 'Hugging Face'],\n",
       " 'Twitter': ['Twitter', 'X', 'X.AI', 'Grok', 'Tesla']}"
      ]
     },
     "execution_count": 5,
     "metadata": {},
     "output_type": "execute_result"
    }
   ],
   "source": [
    "all_tables['market_intelligence']"
   ]
  },
  {
   "cell_type": "code",
   "execution_count": 6,
   "id": "ef01c985-68d1-481e-b8da-244399b60fdd",
   "metadata": {
    "execution": {
     "iopub.execute_input": "2024-12-18T23:41:31.513167Z",
     "iopub.status.busy": "2024-12-18T23:41:31.512630Z",
     "iopub.status.idle": "2024-12-18T23:41:31.524926Z",
     "shell.execute_reply": "2024-12-18T23:41:31.523608Z",
     "shell.execute_reply.started": "2024-12-18T23:41:31.513079Z"
    }
   },
   "outputs": [
    {
     "data": {
      "text/plain": [
       "{'AI': ['AI',\n",
       "  'Artificial Intelligence',\n",
       "  'AGI',\n",
       "  'Artificial General Intelligence',\n",
       "  'A.I'],\n",
       " 'GenAI': ['GenAI', 'Gen AI', 'Generative AI', 'GenerativeAI'],\n",
       " 'Model': ['LLM',\n",
       "  'Large Language Model',\n",
       "  'Foundational Model',\n",
       "  'Foundational Language Model',\n",
       "  'Language Model',\n",
       "  'Transformer'],\n",
       " 'Agents': ['autonomous agent',\n",
       "  'AI agent',\n",
       "  'RL agent',\n",
       "  'reinforcement learning agent'],\n",
       " 'Conversational AI': ['conversational AI', 'chatbot'],\n",
       " 'Computer Vision': ['computer Vision', 'CV'],\n",
       " 'Autonomous Vehicle': ['autonomous vehicle',\n",
       "  'self-driving car',\n",
       "  'autonomous driving'],\n",
       " 'RAG': ['RAG',\n",
       "  'Retrieval Augmented Generation',\n",
       "  'Knowledge management',\n",
       "  'RAG Graph',\n",
       "  'Knowledge Search',\n",
       "  'GraphRAG',\n",
       "  'Graph RAG',\n",
       "  'AI Search',\n",
       "  'semantic search',\n",
       "  'vector similarity'],\n",
       " 'Fine-tuning': ['fine-tuning',\n",
       "  'Fine-tune',\n",
       "  'SFT',\n",
       "  'LoRA',\n",
       "  'finetune',\n",
       "  'finetuning'],\n",
       " 'Post-training': ['post-training',\n",
       "  'RLHF',\n",
       "  'Constitutional AI',\n",
       "  'RL',\n",
       "  'Reinforcement Learning',\n",
       "  'DPO',\n",
       "  'Alignment',\n",
       "  'PPO',\n",
       "  'instruction finetuning',\n",
       "  'distillation'],\n",
       " 'DL': ['DL', 'Deep Learning', 'Neural Network', 'ANN', 'MLP', 'perceptron'],\n",
       " 'Embeddings': ['embedding model'],\n",
       " 'Multi-modal': ['Multi-modal', 'Multi-modality', 'multimodal'],\n",
       " 'Evaluation': ['evaluation',\n",
       "  'eval',\n",
       "  'leaderboard',\n",
       "  'benchmark',\n",
       "  'metrics',\n",
       "  'as-a-Judge'],\n",
       " 'ML': ['ML',\n",
       "  'Machine Learning',\n",
       "  'XGBoost',\n",
       "  'kNN',\n",
       "  'decision tree',\n",
       "  'classifier'],\n",
       " 'Responsible AI': ['Responsible AI',\n",
       "  'RAI',\n",
       "  'AI ethics',\n",
       "  'Trustworthy',\n",
       "  'explainability',\n",
       "  'interpretability',\n",
       "  'bias',\n",
       "  'fairness',\n",
       "  'XAI'],\n",
       " 'Pre-training': ['Pre-training', 'SSL', 'Self-supervised learning'],\n",
       " 'FoW': ['digital workforce', 'digital employee', 'future of work'],\n",
       " 'Funding': ['series', 'round', 'investor', 'valuation', 'IPO', 'VC']}"
      ]
     },
     "execution_count": 6,
     "metadata": {},
     "output_type": "execute_result"
    }
   ],
   "source": [
    "all_tables['themes']"
   ]
  },
  {
   "cell_type": "code",
   "execution_count": 7,
   "id": "41a1fb83-86ae-4d80-9771-e6a2cb0df73a",
   "metadata": {
    "execution": {
     "iopub.execute_input": "2024-12-18T23:41:51.821151Z",
     "iopub.status.busy": "2024-12-18T23:41:51.820332Z",
     "iopub.status.idle": "2024-12-18T23:41:52.582301Z",
     "shell.execute_reply": "2024-12-18T23:41:52.581206Z",
     "shell.execute_reply.started": "2024-12-18T23:41:51.821123Z"
    }
   },
   "outputs": [],
   "source": [
    "import spacy\n",
    "from spacy.matcher import PhraseMatcher"
   ]
  },
  {
   "cell_type": "code",
   "execution_count": 10,
   "id": "3c688613-635f-4cfa-bd09-4534bf4dea3a",
   "metadata": {
    "execution": {
     "iopub.execute_input": "2024-12-18T23:42:51.060079Z",
     "iopub.status.busy": "2024-12-18T23:42:51.058484Z",
     "iopub.status.idle": "2024-12-18T23:42:51.071142Z",
     "shell.execute_reply": "2024-12-18T23:42:51.069264Z",
     "shell.execute_reply.started": "2024-12-18T23:42:51.059979Z"
    }
   },
   "outputs": [
    {
     "data": {
      "text/plain": [
       "['OpenAI', 'Open AI']"
      ]
     },
     "execution_count": 10,
     "metadata": {},
     "output_type": "execute_result"
    }
   ],
   "source": [
    "all_tables['market_intelligence'][\"OpenAI\"]"
   ]
  },
  {
   "cell_type": "code",
   "execution_count": 12,
   "id": "7a582d68-4f67-428a-a1ef-3ccb766122d2",
   "metadata": {
    "execution": {
     "iopub.execute_input": "2024-12-18T23:43:25.734043Z",
     "iopub.status.busy": "2024-12-18T23:43:25.733256Z",
     "iopub.status.idle": "2024-12-18T23:43:26.583093Z",
     "shell.execute_reply": "2024-12-18T23:43:26.581499Z",
     "shell.execute_reply.started": "2024-12-18T23:43:25.733995Z"
    }
   },
   "outputs": [
    {
     "name": "stdout",
     "output_type": "stream",
     "text": [
      "SAM ALTMAN SAYS ARTIFICIAL GENERAL    INTELLIGENCE IS ON THE HORIZON.\n",
      "Sam Altman, CEO of OpenAI, stated at the DealBook Summit that artificial  general\n",
      "intelligence might impact everyday life less significantly than expected. He also loves LLM-as-a-judges, but not as a judge, and he thinks A.I with a dot in-between is absolute dope! Actually he wants to see many AIs. Even though you can't beat artificial intelligences, plain and simple.\n",
      "['AI', 'Artificial Intelligence', 'AGI', 'Artificial General Intelligence', 'A.I']\n",
      "Found 1 matche(s)\n",
      "A.I\n"
     ]
    }
   ],
   "source": [
    "test_text = \"SAM ALTMAN SAYS ARTIFICIAL GENERAL    INTELLIGENCE IS ON THE HORIZON.\\nSam Altman, \" + \\\n",
    "\"CEO of OpenAI, stated at the DealBook Summit that artificial  general\\n\\rintelligence might impact everyday life less significantly than expected. \" + \\\n",
    "\"He also loves LLM-as-a-judges, but not as a judge, and he thinks A.I with a dot in-between is absolute dope! Actually he wants to see many AIs.\" + \\\n",
    "\" Even though you can't beat artificial intelligences, plain and simple.\"\n",
    "print(test_text)\n",
    "nlp = spacy.load(\"en_core_web_sm\")\n",
    "doc = nlp(test_text)\n",
    "matcher = PhraseMatcher(nlp.vocab, attr=\"LOWER\")\n",
    "terms = all_tables['themes'][\"AI\"]\n",
    "print(terms)\n",
    "# Only run nlp.make_doc to speed things up\n",
    "patterns = [nlp.make_doc(text) for text in terms]\n",
    "matcher.add(\"TerminologyList\", patterns)\n",
    "\n",
    "matches = matcher(doc)\n",
    "print(f\"Found {len(matches)} matche(s)\")\n",
    "for match_id, start, end in matches:\n",
    "    span = doc[start:end]\n",
    "    print(span.text)"
   ]
  },
  {
   "cell_type": "code",
   "execution_count": 13,
   "id": "311176a3-a43c-42c9-88eb-9d9e37d565f1",
   "metadata": {
    "execution": {
     "iopub.execute_input": "2024-12-18T23:43:30.089906Z",
     "iopub.status.busy": "2024-12-18T23:43:30.087866Z",
     "iopub.status.idle": "2024-12-18T23:43:30.953460Z",
     "shell.execute_reply": "2024-12-18T23:43:30.950070Z",
     "shell.execute_reply.started": "2024-12-18T23:43:30.089804Z"
    }
   },
   "outputs": [
    {
     "name": "stdout",
     "output_type": "stream",
     "text": [
      "SAM ALTMAN say ARTIFICIAL GENERAL INTELLIGENCE be on the HORIZON . Sam Altman , CEO of OpenAI , state at the DealBook Summit that artificial general intelligence might impact everyday life less significantly than expect . he also love LLM - as - a - judge , but not as a judge , and he think A.I with a dot in - between be absolute dope ! actually he want to see many ai . even though you can not beat artificial intelligence , plain and simple .\n"
     ]
    }
   ],
   "source": [
    "test_text_split = ' '.join(test_text.split())\n",
    "nlp = spacy.load(\"en_core_web_sm\")\n",
    "doc2 = nlp(test_text_split)\n",
    "lemmas = [token.lemma_ for token in doc2]\n",
    "lemmas_text = \" \".join(lemmas)\n",
    "new_doc = nlp(lemmas_text)\n",
    "print(new_doc)"
   ]
  },
  {
   "cell_type": "code",
   "execution_count": 15,
   "id": "72e84609-e6fd-4aa2-a055-1d11c36db735",
   "metadata": {
    "execution": {
     "iopub.execute_input": "2024-12-18T23:43:50.527334Z",
     "iopub.status.busy": "2024-12-18T23:43:50.526997Z",
     "iopub.status.idle": "2024-12-18T23:43:50.539775Z",
     "shell.execute_reply": "2024-12-18T23:43:50.536603Z",
     "shell.execute_reply.started": "2024-12-18T23:43:50.527309Z"
    }
   },
   "outputs": [
    {
     "name": "stdout",
     "output_type": "stream",
     "text": [
      "['AI', 'Artificial Intelligence', 'AGI', 'Artificial General Intelligence', 'A.I']\n",
      "Found 5 matche(s)\n",
      "ARTIFICIAL GENERAL INTELLIGENCE\n",
      "artificial general intelligence\n",
      "A.I\n",
      "AIs\n",
      "artificial intelligences\n"
     ]
    }
   ],
   "source": [
    "matcher = PhraseMatcher(nlp.vocab, attr=\"LOWER\")\n",
    "terms = all_tables['themes'][\"AI\"]\n",
    "print(terms)\n",
    "# Only run nlp.make_doc to speed things up\n",
    "patterns = [nlp.make_doc(text) for text in terms]\n",
    "matcher.add(\"TerminologyList\", patterns)\n",
    "\n",
    "matches = matcher(new_doc)\n",
    "print(f\"Found {len(matches)} matche(s)\")\n",
    "for match_id, start, end in matches:\n",
    "    span = doc2[start:end]\n",
    "    print(span.text)"
   ]
  },
  {
   "cell_type": "code",
   "execution_count": 16,
   "id": "10ece0ca-2cec-4803-8517-d9d1109560ae",
   "metadata": {
    "execution": {
     "iopub.execute_input": "2024-12-18T23:44:12.102395Z",
     "iopub.status.busy": "2024-12-18T23:44:12.101451Z",
     "iopub.status.idle": "2024-12-18T23:44:12.123541Z",
     "shell.execute_reply": "2024-12-18T23:44:12.119901Z",
     "shell.execute_reply.started": "2024-12-18T23:44:12.102358Z"
    }
   },
   "outputs": [
    {
     "name": "stdout",
     "output_type": "stream",
     "text": [
      "['evaluation', 'eval', 'leaderboard', 'benchmark', 'metrics', 'as-a-Judge']\n",
      "Found 1 matche(s)\n",
      "loves LLM-as-a-judges\n"
     ]
    }
   ],
   "source": [
    "matcher = PhraseMatcher(nlp.vocab, attr=\"LOWER\")\n",
    "terms = all_tables['themes'][\"Evaluation\"]\n",
    "print(terms)\n",
    "# Only run nlp.make_doc to speed things up\n",
    "patterns = [nlp.make_doc(text) for text in terms]\n",
    "matcher.add(\"TerminologyList\", patterns)\n",
    "\n",
    "matches = matcher(new_doc)\n",
    "print(f\"Found {len(matches)} matche(s)\")\n",
    "for match_id, start, end in matches:\n",
    "    span = doc2[start-3:end]\n",
    "    print(span.text)"
   ]
  },
  {
   "cell_type": "code",
   "execution_count": null,
   "id": "eee956d4-57f9-4ed0-b623-c7460c9da3ad",
   "metadata": {},
   "outputs": [],
   "source": []
  }
 ],
 "metadata": {
  "kernelspec": {
   "display_name": "Python 3 (ipykernel)",
   "language": "python",
   "name": "python3"
  },
  "language_info": {
   "codemirror_mode": {
    "name": "ipython",
    "version": 3
   },
   "file_extension": ".py",
   "mimetype": "text/x-python",
   "name": "python",
   "nbconvert_exporter": "python",
   "pygments_lexer": "ipython3",
   "version": "3.11.9"
  }
 },
 "nbformat": 4,
 "nbformat_minor": 5
}
