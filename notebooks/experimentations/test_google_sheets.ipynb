{
 "cells": [
  {
   "cell_type": "code",
   "execution_count": 1,
   "id": "03ad85fb-e1e5-4bb6-a697-e97f8ed9fecd",
   "metadata": {
    "execution": {
     "iopub.execute_input": "2024-12-16T04:14:44.243213Z",
     "iopub.status.busy": "2024-12-16T04:14:44.242770Z",
     "iopub.status.idle": "2024-12-16T04:14:44.826882Z",
     "shell.execute_reply": "2024-12-16T04:14:44.825678Z",
     "shell.execute_reply.started": "2024-12-16T04:14:44.243182Z"
    }
   },
   "outputs": [],
   "source": [
    "from src.scoring.google_sheets import GoogleSheets\n",
    "import pandas as pd"
   ]
  },
  {
   "cell_type": "code",
   "execution_count": 2,
   "id": "0bf7e9a9-8cbe-4653-a18a-bde638289912",
   "metadata": {
    "execution": {
     "iopub.execute_input": "2024-12-16T04:14:45.262642Z",
     "iopub.status.busy": "2024-12-16T04:14:45.262335Z",
     "iopub.status.idle": "2024-12-16T04:14:45.288395Z",
     "shell.execute_reply": "2024-12-16T04:14:45.284662Z",
     "shell.execute_reply.started": "2024-12-16T04:14:45.262617Z"
    }
   },
   "outputs": [],
   "source": [
    "from pathlib import Path\n",
    "from src.config import SCOPES\n",
    "\n",
    "sheets = GoogleSheets(path_to_token=Path(\"../../secrets_vault/token.json\"), path_to_credentials=Path(\"../../secrets_vault/credentials.json\"), scopes=SCOPES)"
   ]
  },
  {
   "cell_type": "code",
   "execution_count": 3,
   "id": "da90eaae-daf3-48ee-bd36-164f2ffcbc54",
   "metadata": {
    "execution": {
     "iopub.execute_input": "2024-12-16T04:14:46.247298Z",
     "iopub.status.busy": "2024-12-16T04:14:46.246669Z",
     "iopub.status.idle": "2024-12-16T04:14:47.723921Z",
     "shell.execute_reply": "2024-12-16T04:14:47.722746Z",
     "shell.execute_reply.started": "2024-12-16T04:14:46.247259Z"
    }
   },
   "outputs": [],
   "source": [
    "all_tables = sheets.get_all_tables()"
   ]
  },
  {
   "cell_type": "code",
   "execution_count": 4,
   "id": "749f099c-6859-4085-ac73-18088f39c4a9",
   "metadata": {
    "execution": {
     "iopub.execute_input": "2024-12-16T04:14:49.332013Z",
     "iopub.status.busy": "2024-12-16T04:14:49.331560Z",
     "iopub.status.idle": "2024-12-16T04:14:49.345134Z",
     "shell.execute_reply": "2024-12-16T04:14:49.343517Z",
     "shell.execute_reply.started": "2024-12-16T04:14:49.331980Z"
    }
   },
   "outputs": [
    {
     "data": {
      "text/plain": [
       "dict_keys(['competitive_intelligence', 'themes', 'market_intelligence', 'personalities'])"
      ]
     },
     "execution_count": 4,
     "metadata": {},
     "output_type": "execute_result"
    }
   ],
   "source": [
    "all_tables.keys()"
   ]
  },
  {
   "cell_type": "code",
   "execution_count": 11,
   "id": "726fe89f-1e55-432d-9d14-68dc1831ce49",
   "metadata": {
    "execution": {
     "iopub.execute_input": "2024-12-16T04:16:15.468781Z",
     "iopub.status.busy": "2024-12-16T04:16:15.468351Z",
     "iopub.status.idle": "2024-12-16T04:16:15.482182Z",
     "shell.execute_reply": "2024-12-16T04:16:15.480470Z",
     "shell.execute_reply.started": "2024-12-16T04:16:15.468754Z"
    }
   },
   "outputs": [
    {
     "data": {
      "text/plain": [
       "array(['J.P. Morgan', 'JP Morgan', 'Chase', 'JPMorgan', 'J P Morgan'],\n",
       "      dtype=object)"
      ]
     },
     "execution_count": 11,
     "metadata": {},
     "output_type": "execute_result"
    }
   ],
   "source": [
    "all_tables['competitive_intelligence'].set_index('key').loc['JPM'].dropna().values"
   ]
  },
  {
   "cell_type": "code",
   "execution_count": null,
   "id": "42e36abe-3dcb-43b2-9d1e-c2ce92cdc809",
   "metadata": {},
   "outputs": [],
   "source": []
  },
  {
   "cell_type": "code",
   "execution_count": 35,
   "id": "2290738d-20d8-45d0-9692-760e0126a831",
   "metadata": {
    "execution": {
     "iopub.execute_input": "2024-12-16T04:10:59.183614Z",
     "iopub.status.busy": "2024-12-16T04:10:59.182736Z",
     "iopub.status.idle": "2024-12-16T04:10:59.198304Z",
     "shell.execute_reply": "2024-12-16T04:10:59.196314Z",
     "shell.execute_reply.started": "2024-12-16T04:10:59.183583Z"
    }
   },
   "outputs": [
    {
     "data": {
      "text/plain": [
       "None                        93\n",
       "                            13\n",
       "y                            5\n",
       "AI                           2\n",
       "GenAI                        2\n",
       "                            ..\n",
       "Self-supervised learning     1\n",
       "FoW                          1\n",
       "digital workforce            1\n",
       "digital employee             1\n",
       "future of work               1\n",
       "Name: count, Length: 100, dtype: int64"
      ]
     },
     "execution_count": 35,
     "metadata": {},
     "output_type": "execute_result"
    }
   ],
   "source": [
    "pd.Series(all_tables['themes'].values.flatten()).value_counts(dropna=False)"
   ]
  },
  {
   "cell_type": "code",
   "execution_count": 36,
   "id": "a24d3a78-e921-4c39-bdf6-5554c5aeacf5",
   "metadata": {
    "execution": {
     "iopub.execute_input": "2024-12-16T04:11:02.364456Z",
     "iopub.status.busy": "2024-12-16T04:11:02.363582Z",
     "iopub.status.idle": "2024-12-16T04:11:02.379049Z",
     "shell.execute_reply": "2024-12-16T04:11:02.377930Z",
     "shell.execute_reply.started": "2024-12-16T04:11:02.364422Z"
    }
   },
   "outputs": [
    {
     "data": {
      "text/plain": [
       "1"
      ]
     },
     "execution_count": 36,
     "metadata": {},
     "output_type": "execute_result"
    }
   ],
   "source": [
    "all_tables['personalities'].apply(lambda x: (\" \").join(x), axis=1).value_counts().max().item()"
   ]
  },
  {
   "cell_type": "code",
   "execution_count": 38,
   "id": "42198e8d-20e3-4502-a6e0-59896a9fade0",
   "metadata": {
    "execution": {
     "iopub.execute_input": "2024-12-16T04:11:32.666596Z",
     "iopub.status.busy": "2024-12-16T04:11:32.665577Z",
     "iopub.status.idle": "2024-12-16T04:11:32.673790Z",
     "shell.execute_reply": "2024-12-16T04:11:32.671822Z",
     "shell.execute_reply.started": "2024-12-16T04:11:32.666560Z"
    }
   },
   "outputs": [],
   "source": [
    "target_col = [col for col in all_tables['themes'].columns if col.startswith('col')]"
   ]
  },
  {
   "cell_type": "code",
   "execution_count": 43,
   "id": "5cb22e8d-e612-4ea2-9fbc-e250e76d02d0",
   "metadata": {
    "execution": {
     "iopub.execute_input": "2024-12-16T04:12:09.270513Z",
     "iopub.status.busy": "2024-12-16T04:12:09.269706Z",
     "iopub.status.idle": "2024-12-16T04:12:09.284129Z",
     "shell.execute_reply": "2024-12-16T04:12:09.282904Z",
     "shell.execute_reply.started": "2024-12-16T04:12:09.270481Z"
    }
   },
   "outputs": [
    {
     "data": {
      "text/plain": [
       "1"
      ]
     },
     "execution_count": 43,
     "metadata": {},
     "output_type": "execute_result"
    }
   ],
   "source": [
    "pd.Series(all_tables['themes'][target_col].values.flatten()).value_counts(dropna=True).max().item()"
   ]
  },
  {
   "cell_type": "code",
   "execution_count": 3,
   "id": "71c3346d-8f1d-4e19-9e8a-1e7ccc78a303",
   "metadata": {
    "execution": {
     "iopub.execute_input": "2024-12-16T00:00:19.173553Z",
     "iopub.status.busy": "2024-12-16T00:00:19.172671Z",
     "iopub.status.idle": "2024-12-16T00:00:19.182749Z",
     "shell.execute_reply": "2024-12-16T00:00:19.181681Z",
     "shell.execute_reply.started": "2024-12-16T00:00:19.173521Z"
    }
   },
   "outputs": [],
   "source": [
    "with open(\"../../secrets_vault/spreadsheet_id.txt\", \"r\") as f:\n",
    "    spreadsheet_id = f.readline().strip()"
   ]
  },
  {
   "cell_type": "code",
   "execution_count": 8,
   "id": "8b239d21-19fb-406d-aa11-c698b3fb2a7d",
   "metadata": {
    "execution": {
     "iopub.execute_input": "2024-12-16T00:01:29.136828Z",
     "iopub.status.busy": "2024-12-16T00:01:29.135883Z",
     "iopub.status.idle": "2024-12-16T00:01:29.386183Z",
     "shell.execute_reply": "2024-12-16T00:01:29.384080Z",
     "shell.execute_reply.started": "2024-12-16T00:01:29.136792Z"
    }
   },
   "outputs": [],
   "source": [
    "sheet = sheets.service.spreadsheets()\n",
    "result = sheet.values().get(spreadsheetId=spreadsheet_id, range='competitive_intelligence').execute()\n",
    "values = result.get('values', [])"
   ]
  },
  {
   "cell_type": "code",
   "execution_count": 9,
   "id": "5751ead0-d59e-4c0b-b9f4-76a5cd3c0099",
   "metadata": {
    "execution": {
     "iopub.execute_input": "2024-12-16T00:01:30.028896Z",
     "iopub.status.busy": "2024-12-16T00:01:30.027572Z",
     "iopub.status.idle": "2024-12-16T00:01:30.039321Z",
     "shell.execute_reply": "2024-12-16T00:01:30.037548Z",
     "shell.execute_reply.started": "2024-12-16T00:01:30.028839Z"
    }
   },
   "outputs": [
    {
     "data": {
      "text/plain": [
       "[['key', 'entry1', 'entry2', 'entry3', 'entry4', 'entry5'],\n",
       " ['MS', 'Morgan Stanley'],\n",
       " ['JPM', 'J.P. Morgan', 'JP Morgan', 'Chase', 'JPMorgan', 'J P Morgan'],\n",
       " ['GS', 'Goldman Sachs'],\n",
       " ['BoA', 'Bank of America'],\n",
       " ['Citi', 'Citi', 'Citigroup'],\n",
       " ['UBS', 'UBS'],\n",
       " ['Deutsche', 'Deutsche Bank'],\n",
       " ['HSBC', 'HSBC'],\n",
       " ['Barclays', 'Barclays'],\n",
       " ['RBC', 'RBC', 'Royal Bank of Canada', 'Borealis AI', 'RBC Borealis'],\n",
       " ['Wells', 'Wells Fargo'],\n",
       " ['Capital', 'Capital One'],\n",
       " ['BNY', 'BNY', 'Mellon', 'Bank of New York'],\n",
       " ['TD', 'TD', 'Layer 6', 'Layer6']]"
      ]
     },
     "execution_count": 9,
     "metadata": {},
     "output_type": "execute_result"
    }
   ],
   "source": [
    "values"
   ]
  },
  {
   "cell_type": "code",
   "execution_count": 15,
   "id": "fcd454fd-cb2a-44a5-942e-4b73fabe15bf",
   "metadata": {
    "execution": {
     "iopub.execute_input": "2024-12-16T03:43:31.951168Z",
     "iopub.status.busy": "2024-12-16T03:43:31.949592Z",
     "iopub.status.idle": "2024-12-16T03:43:31.986050Z",
     "shell.execute_reply": "2024-12-16T03:43:31.982173Z",
     "shell.execute_reply.started": "2024-12-16T03:43:31.951110Z"
    }
   },
   "outputs": [
    {
     "data": {
      "text/html": [
       "<div>\n",
       "<style scoped>\n",
       "    .dataframe tbody tr th:only-of-type {\n",
       "        vertical-align: middle;\n",
       "    }\n",
       "\n",
       "    .dataframe tbody tr th {\n",
       "        vertical-align: top;\n",
       "    }\n",
       "\n",
       "    .dataframe thead th {\n",
       "        text-align: right;\n",
       "    }\n",
       "</style>\n",
       "<table border=\"1\" class=\"dataframe\">\n",
       "  <thead>\n",
       "    <tr style=\"text-align: right;\">\n",
       "      <th></th>\n",
       "      <th>key</th>\n",
       "      <th>entry1</th>\n",
       "      <th>entry2</th>\n",
       "      <th>entry3</th>\n",
       "      <th>entry4</th>\n",
       "      <th>entry5</th>\n",
       "    </tr>\n",
       "  </thead>\n",
       "  <tbody>\n",
       "    <tr>\n",
       "      <th>0</th>\n",
       "      <td>MS</td>\n",
       "      <td>Morgan Stanley</td>\n",
       "      <td>None</td>\n",
       "      <td>None</td>\n",
       "      <td>None</td>\n",
       "      <td>None</td>\n",
       "    </tr>\n",
       "    <tr>\n",
       "      <th>1</th>\n",
       "      <td>JPM</td>\n",
       "      <td>J.P. Morgan</td>\n",
       "      <td>JP Morgan</td>\n",
       "      <td>Chase</td>\n",
       "      <td>JPMorgan</td>\n",
       "      <td>J P Morgan</td>\n",
       "    </tr>\n",
       "    <tr>\n",
       "      <th>2</th>\n",
       "      <td>GS</td>\n",
       "      <td>Goldman Sachs</td>\n",
       "      <td>None</td>\n",
       "      <td>None</td>\n",
       "      <td>None</td>\n",
       "      <td>None</td>\n",
       "    </tr>\n",
       "    <tr>\n",
       "      <th>3</th>\n",
       "      <td>BoA</td>\n",
       "      <td>Bank of America</td>\n",
       "      <td>None</td>\n",
       "      <td>None</td>\n",
       "      <td>None</td>\n",
       "      <td>None</td>\n",
       "    </tr>\n",
       "    <tr>\n",
       "      <th>4</th>\n",
       "      <td>Citi</td>\n",
       "      <td>Citi</td>\n",
       "      <td>Citigroup</td>\n",
       "      <td>None</td>\n",
       "      <td>None</td>\n",
       "      <td>None</td>\n",
       "    </tr>\n",
       "    <tr>\n",
       "      <th>5</th>\n",
       "      <td>UBS</td>\n",
       "      <td>UBS</td>\n",
       "      <td>None</td>\n",
       "      <td>None</td>\n",
       "      <td>None</td>\n",
       "      <td>None</td>\n",
       "    </tr>\n",
       "    <tr>\n",
       "      <th>6</th>\n",
       "      <td>Deutsche</td>\n",
       "      <td>Deutsche Bank</td>\n",
       "      <td>None</td>\n",
       "      <td>None</td>\n",
       "      <td>None</td>\n",
       "      <td>None</td>\n",
       "    </tr>\n",
       "    <tr>\n",
       "      <th>7</th>\n",
       "      <td>HSBC</td>\n",
       "      <td>HSBC</td>\n",
       "      <td>None</td>\n",
       "      <td>None</td>\n",
       "      <td>None</td>\n",
       "      <td>None</td>\n",
       "    </tr>\n",
       "    <tr>\n",
       "      <th>8</th>\n",
       "      <td>Barclays</td>\n",
       "      <td>Barclays</td>\n",
       "      <td>None</td>\n",
       "      <td>None</td>\n",
       "      <td>None</td>\n",
       "      <td>None</td>\n",
       "    </tr>\n",
       "    <tr>\n",
       "      <th>9</th>\n",
       "      <td>RBC</td>\n",
       "      <td>RBC</td>\n",
       "      <td>Royal Bank of Canada</td>\n",
       "      <td>Borealis AI</td>\n",
       "      <td>RBC Borealis</td>\n",
       "      <td>None</td>\n",
       "    </tr>\n",
       "    <tr>\n",
       "      <th>10</th>\n",
       "      <td>Wells</td>\n",
       "      <td>Wells Fargo</td>\n",
       "      <td>None</td>\n",
       "      <td>None</td>\n",
       "      <td>None</td>\n",
       "      <td>None</td>\n",
       "    </tr>\n",
       "    <tr>\n",
       "      <th>11</th>\n",
       "      <td>Capital</td>\n",
       "      <td>Capital One</td>\n",
       "      <td>None</td>\n",
       "      <td>None</td>\n",
       "      <td>None</td>\n",
       "      <td>None</td>\n",
       "    </tr>\n",
       "    <tr>\n",
       "      <th>12</th>\n",
       "      <td>BNY</td>\n",
       "      <td>BNY</td>\n",
       "      <td>Mellon</td>\n",
       "      <td>Bank of New York</td>\n",
       "      <td>None</td>\n",
       "      <td>None</td>\n",
       "    </tr>\n",
       "    <tr>\n",
       "      <th>13</th>\n",
       "      <td>TD</td>\n",
       "      <td>TD</td>\n",
       "      <td>Layer 6</td>\n",
       "      <td>Layer6</td>\n",
       "      <td>None</td>\n",
       "      <td>None</td>\n",
       "    </tr>\n",
       "  </tbody>\n",
       "</table>\n",
       "</div>"
      ],
      "text/plain": [
       "         key           entry1                entry2            entry3  \\\n",
       "0         MS   Morgan Stanley                  None              None   \n",
       "1        JPM      J.P. Morgan             JP Morgan             Chase   \n",
       "2         GS    Goldman Sachs                  None              None   \n",
       "3        BoA  Bank of America                  None              None   \n",
       "4       Citi             Citi             Citigroup              None   \n",
       "5        UBS              UBS                  None              None   \n",
       "6   Deutsche    Deutsche Bank                  None              None   \n",
       "7       HSBC             HSBC                  None              None   \n",
       "8   Barclays         Barclays                  None              None   \n",
       "9        RBC              RBC  Royal Bank of Canada       Borealis AI   \n",
       "10     Wells      Wells Fargo                  None              None   \n",
       "11   Capital      Capital One                  None              None   \n",
       "12       BNY              BNY                Mellon  Bank of New York   \n",
       "13        TD               TD               Layer 6            Layer6   \n",
       "\n",
       "          entry4      entry5  \n",
       "0           None        None  \n",
       "1       JPMorgan  J P Morgan  \n",
       "2           None        None  \n",
       "3           None        None  \n",
       "4           None        None  \n",
       "5           None        None  \n",
       "6           None        None  \n",
       "7           None        None  \n",
       "8           None        None  \n",
       "9   RBC Borealis        None  \n",
       "10          None        None  \n",
       "11          None        None  \n",
       "12          None        None  \n",
       "13          None        None  "
      ]
     },
     "execution_count": 15,
     "metadata": {},
     "output_type": "execute_result"
    }
   ],
   "source": [
    "pd.DataFrame(result['values'][1:], columns=result['values'][0])"
   ]
  },
  {
   "cell_type": "code",
   "execution_count": null,
   "id": "73f8cb55-c120-4528-a1f8-bbeb6adbd8a0",
   "metadata": {},
   "outputs": [],
   "source": []
  }
 ],
 "metadata": {
  "kernelspec": {
   "display_name": "Python 3 (ipykernel)",
   "language": "python",
   "name": "python3"
  },
  "language_info": {
   "codemirror_mode": {
    "name": "ipython",
    "version": 3
   },
   "file_extension": ".py",
   "mimetype": "text/x-python",
   "name": "python",
   "nbconvert_exporter": "python",
   "pygments_lexer": "ipython3",
   "version": "3.11.9"
  }
 },
 "nbformat": 4,
 "nbformat_minor": 5
}
