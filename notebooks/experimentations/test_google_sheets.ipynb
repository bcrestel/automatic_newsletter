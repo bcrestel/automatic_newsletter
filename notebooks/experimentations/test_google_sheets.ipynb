{
 "cells": [
  {
   "cell_type": "code",
   "execution_count": 1,
   "id": "03ad85fb-e1e5-4bb6-a697-e97f8ed9fecd",
   "metadata": {
    "execution": {
     "iopub.execute_input": "2024-12-18T23:11:10.999294Z",
     "iopub.status.busy": "2024-12-18T23:11:10.995825Z",
     "iopub.status.idle": "2024-12-18T23:11:11.567369Z",
     "shell.execute_reply": "2024-12-18T23:11:11.566209Z",
     "shell.execute_reply.started": "2024-12-18T23:11:10.999257Z"
    }
   },
   "outputs": [],
   "source": [
    "import pandas as pd\n",
    "from pathlib import Path\n",
    "\n",
    "from src.config import SCOPES\n",
    "from src.utils.list import flatten_list_of_lists\n",
    "from src.scoring.google_sheets import GoogleSheets"
   ]
  },
  {
   "cell_type": "code",
   "execution_count": 2,
   "id": "0bf7e9a9-8cbe-4653-a18a-bde638289912",
   "metadata": {
    "execution": {
     "iopub.execute_input": "2024-12-18T23:11:11.569073Z",
     "iopub.status.busy": "2024-12-18T23:11:11.568690Z",
     "iopub.status.idle": "2024-12-18T23:11:11.588323Z",
     "shell.execute_reply": "2024-12-18T23:11:11.586916Z",
     "shell.execute_reply.started": "2024-12-18T23:11:11.569047Z"
    }
   },
   "outputs": [],
   "source": [
    "sheets = GoogleSheets(path_to_token=Path(\"../../secrets_vault/token.json\"), path_to_credentials=Path(\"../../secrets_vault/credentials.json\"), scopes=SCOPES)"
   ]
  },
  {
   "cell_type": "code",
   "execution_count": 3,
   "id": "da90eaae-daf3-48ee-bd36-164f2ffcbc54",
   "metadata": {
    "execution": {
     "iopub.execute_input": "2024-12-18T23:11:12.515203Z",
     "iopub.status.busy": "2024-12-18T23:11:12.514866Z",
     "iopub.status.idle": "2024-12-18T23:11:14.185314Z",
     "shell.execute_reply": "2024-12-18T23:11:14.184219Z",
     "shell.execute_reply.started": "2024-12-18T23:11:12.515176Z"
    }
   },
   "outputs": [],
   "source": [
    "all_tables = sheets.get_all_tables()"
   ]
  },
  {
   "cell_type": "code",
   "execution_count": 4,
   "id": "749f099c-6859-4085-ac73-18088f39c4a9",
   "metadata": {
    "execution": {
     "iopub.execute_input": "2024-12-18T23:11:14.842841Z",
     "iopub.status.busy": "2024-12-18T23:11:14.842213Z",
     "iopub.status.idle": "2024-12-18T23:11:14.855923Z",
     "shell.execute_reply": "2024-12-18T23:11:14.855006Z",
     "shell.execute_reply.started": "2024-12-18T23:11:14.842789Z"
    }
   },
   "outputs": [
    {
     "data": {
      "text/plain": [
       "dict_keys(['competitive_intelligence', 'themes', 'market_intelligence', 'personalities'])"
      ]
     },
     "execution_count": 4,
     "metadata": {},
     "output_type": "execute_result"
    }
   ],
   "source": [
    "all_tables.keys()"
   ]
  },
  {
   "cell_type": "code",
   "execution_count": 5,
   "id": "f1d14113-db3f-4dc8-8418-80dfc8c50f92",
   "metadata": {
    "execution": {
     "iopub.execute_input": "2024-12-18T23:11:28.472139Z",
     "iopub.status.busy": "2024-12-18T23:11:28.471799Z",
     "iopub.status.idle": "2024-12-18T23:11:28.485077Z",
     "shell.execute_reply": "2024-12-18T23:11:28.482649Z",
     "shell.execute_reply.started": "2024-12-18T23:11:28.472111Z"
    }
   },
   "outputs": [
    {
     "data": {
      "text/plain": [
       "{'OpenAI': ['OpenAI', 'Open AI'],\n",
       " 'Anthropic': ['Anthropic'],\n",
       " 'Cohere': ['Cohere'],\n",
       " 'AI21': ['AI21 Labs', 'AI 21 Labs'],\n",
       " 'Mistral AI': ['Mistral AI', 'Mistral'],\n",
       " 'Scale': ['Scale', 'Scale AI'],\n",
       " 'Google': ['Google',\n",
       "  'GCP',\n",
       "  'Google Cloud Platform',\n",
       "  'Deepmind',\n",
       "  'Google Deepmind'],\n",
       " 'Microsoft': ['Microsoft', 'Azure'],\n",
       " 'Amazon': ['Amazon', 'AWS'],\n",
       " 'NVIDIA': ['NVIDIA', 'NVDA'],\n",
       " 'Meta': ['Meta',\n",
       "  'Facebook',\n",
       "  'Whatsapp',\n",
       "  'Instragram',\n",
       "  'FAIR',\n",
       "  'Facebook AI Research'],\n",
       " 'HF': ['HuggingFace', 'Hugging Face'],\n",
       " 'Twitter': ['Twitter', 'X', 'X.AI', 'Grok', 'Tesla']}"
      ]
     },
     "execution_count": 5,
     "metadata": {},
     "output_type": "execute_result"
    }
   ],
   "source": [
    "all_tables['market_intelligence']"
   ]
  },
  {
   "cell_type": "code",
   "execution_count": 6,
   "id": "ef01c985-68d1-481e-b8da-244399b60fdd",
   "metadata": {
    "execution": {
     "iopub.execute_input": "2024-12-18T23:11:51.509196Z",
     "iopub.status.busy": "2024-12-18T23:11:51.507098Z",
     "iopub.status.idle": "2024-12-18T23:11:51.520629Z",
     "shell.execute_reply": "2024-12-18T23:11:51.518679Z",
     "shell.execute_reply.started": "2024-12-18T23:11:51.509074Z"
    }
   },
   "outputs": [
    {
     "data": {
      "text/plain": [
       "{'AI': ['AI',\n",
       "  'Artificial Intelligence',\n",
       "  'AGI',\n",
       "  'Artificial General Intelligence',\n",
       "  'A.I'],\n",
       " 'GenAI': ['GenAI', 'Gen AI', 'Generative AI', 'GenerativeAI'],\n",
       " 'Model': ['LLM',\n",
       "  'Large Language Model',\n",
       "  'Foundational Model',\n",
       "  'Foundational Language Model',\n",
       "  'Language Model',\n",
       "  'Transformer'],\n",
       " 'Agents': ['autonomous agent',\n",
       "  'AI agent',\n",
       "  'RL agent',\n",
       "  'reinforcement learning agent'],\n",
       " 'Conversational AI': ['conversational AI', 'chatbot'],\n",
       " 'Computer Vision': ['computer Vision', 'CV'],\n",
       " 'Autonomous Vehicle': ['autonomous vehicle',\n",
       "  'self-driving car',\n",
       "  'autonomous driving'],\n",
       " 'RAG': ['RAG',\n",
       "  'Retrieval Augmented Generation',\n",
       "  'Knowledge management',\n",
       "  'RAG Graph',\n",
       "  'Knowledge Search',\n",
       "  'GraphRAG',\n",
       "  'Graph RAG',\n",
       "  'AI Search',\n",
       "  'semantic search',\n",
       "  'vector similarity'],\n",
       " 'Fine-tuning': ['fine-tuning',\n",
       "  'Fine-tune',\n",
       "  'SFT',\n",
       "  'LoRA',\n",
       "  'finetune',\n",
       "  'finetuning'],\n",
       " 'Post-training': ['post-training',\n",
       "  'RLHF',\n",
       "  'Constitutional AI',\n",
       "  'RL',\n",
       "  'Reinforcement Learning',\n",
       "  'DPO',\n",
       "  'Alignment',\n",
       "  'PPO',\n",
       "  'instruction finetuning',\n",
       "  'distillation'],\n",
       " 'DL': ['DL', 'Deep Learning', 'Neural Network', 'ANN', 'MLP', 'perceptron'],\n",
       " 'Embeddings': ['embedding model'],\n",
       " 'Multi-modal': ['Multi-modal', 'Multi-modality', 'multimodal'],\n",
       " 'Evaluation': ['evaluation',\n",
       "  'eval',\n",
       "  'leaderboard',\n",
       "  'benchmark',\n",
       "  'metrics',\n",
       "  'as-a-Judge'],\n",
       " 'ML': ['ML',\n",
       "  'Machine Learning',\n",
       "  'XGBoost',\n",
       "  'kNN',\n",
       "  'decision tree',\n",
       "  'classifier'],\n",
       " 'Responsible AI': ['Responsible AI',\n",
       "  'RAI',\n",
       "  'AI ethics',\n",
       "  'Trustworthy',\n",
       "  'explainability',\n",
       "  'interpretability',\n",
       "  'bias',\n",
       "  'fairness',\n",
       "  'XAI'],\n",
       " 'Pre-training': ['Pre-training', 'SSL', 'Self-supervised learning'],\n",
       " 'FoW': ['digital workforce', 'digital employee', 'future of work'],\n",
       " 'Funding': ['series', 'round', 'investor', 'valuation', 'IPO', 'VC']}"
      ]
     },
     "execution_count": 6,
     "metadata": {},
     "output_type": "execute_result"
    }
   ],
   "source": [
    "all_tables['themes']"
   ]
  },
  {
   "cell_type": "code",
   "execution_count": 7,
   "id": "42e36abe-3dcb-43b2-9d1e-c2ce92cdc809",
   "metadata": {
    "execution": {
     "iopub.execute_input": "2024-12-18T04:29:07.623889Z",
     "iopub.status.busy": "2024-12-18T04:29:07.621424Z",
     "iopub.status.idle": "2024-12-18T04:29:32.203752Z",
     "shell.execute_reply": "2024-12-18T04:29:32.202858Z",
     "shell.execute_reply.started": "2024-12-18T04:29:07.623851Z"
    },
    "scrolled": true
   },
   "outputs": [
    {
     "name": "stdout",
     "output_type": "stream",
     "text": [
      "Collecting spacy\n",
      "  Downloading spacy-3.8.3-cp311-cp311-manylinux_2_17_x86_64.manylinux2014_x86_64.whl.metadata (27 kB)\n",
      "Collecting spacy-legacy<3.1.0,>=3.0.11 (from spacy)\n",
      "  Downloading spacy_legacy-3.0.12-py2.py3-none-any.whl.metadata (2.8 kB)\n",
      "Collecting spacy-loggers<2.0.0,>=1.0.0 (from spacy)\n",
      "  Downloading spacy_loggers-1.0.5-py3-none-any.whl.metadata (23 kB)\n",
      "Collecting murmurhash<1.1.0,>=0.28.0 (from spacy)\n",
      "  Downloading murmurhash-1.0.11-cp311-cp311-manylinux_2_5_x86_64.manylinux1_x86_64.manylinux_2_17_x86_64.manylinux2014_x86_64.whl.metadata (2.0 kB)\n",
      "Collecting cymem<2.1.0,>=2.0.2 (from spacy)\n",
      "  Downloading cymem-2.0.10-cp311-cp311-manylinux_2_17_x86_64.manylinux2014_x86_64.whl.metadata (8.4 kB)\n",
      "Collecting preshed<3.1.0,>=3.0.2 (from spacy)\n",
      "  Downloading preshed-3.0.9-cp311-cp311-manylinux_2_5_x86_64.manylinux1_x86_64.manylinux_2_17_x86_64.manylinux2014_x86_64.whl.metadata (2.2 kB)\n",
      "Collecting thinc<8.4.0,>=8.3.0 (from spacy)\n",
      "  Downloading thinc-8.3.3-cp311-cp311-manylinux_2_17_x86_64.manylinux2014_x86_64.whl.metadata (15 kB)\n",
      "Collecting wasabi<1.2.0,>=0.9.1 (from spacy)\n",
      "  Downloading wasabi-1.1.3-py3-none-any.whl.metadata (28 kB)\n",
      "Collecting srsly<3.0.0,>=2.4.3 (from spacy)\n",
      "  Downloading srsly-2.5.0-cp311-cp311-manylinux_2_17_x86_64.manylinux2014_x86_64.whl.metadata (19 kB)\n",
      "Collecting catalogue<2.1.0,>=2.0.6 (from spacy)\n",
      "  Downloading catalogue-2.0.10-py3-none-any.whl.metadata (14 kB)\n",
      "Collecting weasel<0.5.0,>=0.1.0 (from spacy)\n",
      "  Downloading weasel-0.4.1-py3-none-any.whl.metadata (4.6 kB)\n",
      "Collecting typer<1.0.0,>=0.3.0 (from spacy)\n",
      "  Downloading typer-0.15.1-py3-none-any.whl.metadata (15 kB)\n",
      "Collecting tqdm<5.0.0,>=4.38.0 (from spacy)\n",
      "  Downloading tqdm-4.67.1-py3-none-any.whl.metadata (57 kB)\n",
      "\u001b[2K     \u001b[90m━━━━━━━━━━━━━━━━━━━━━━━━━━━━━━━━━━━━━━━━\u001b[0m \u001b[32m57.7/57.7 kB\u001b[0m \u001b[31m6.7 MB/s\u001b[0m eta \u001b[36m0:00:00\u001b[0m\n",
      "\u001b[?25hRequirement already satisfied: numpy>=1.19.0 in /usr/local/lib/python3.11/site-packages (from spacy) (2.1.3)\n",
      "Requirement already satisfied: requests<3.0.0,>=2.13.0 in /usr/local/lib/python3.11/site-packages (from spacy) (2.32.3)\n",
      "Collecting pydantic!=1.8,!=1.8.1,<3.0.0,>=1.7.4 (from spacy)\n",
      "  Downloading pydantic-2.10.3-py3-none-any.whl.metadata (172 kB)\n",
      "\u001b[2K     \u001b[90m━━━━━━━━━━━━━━━━━━━━━━━━━━━━━━━━━━━━━━\u001b[0m \u001b[32m172.0/172.0 kB\u001b[0m \u001b[31m10.0 MB/s\u001b[0m eta \u001b[36m0:00:00\u001b[0m\n",
      "\u001b[?25hRequirement already satisfied: jinja2 in /usr/local/lib/python3.11/site-packages (from spacy) (3.1.4)\n",
      "Requirement already satisfied: setuptools in /usr/local/lib/python3.11/site-packages (from spacy) (65.5.1)\n",
      "Requirement already satisfied: packaging>=20.0 in /usr/local/lib/python3.11/site-packages (from spacy) (24.2)\n",
      "Collecting langcodes<4.0.0,>=3.2.0 (from spacy)\n",
      "  Downloading langcodes-3.5.0-py3-none-any.whl.metadata (29 kB)\n",
      "Collecting language-data>=1.2 (from langcodes<4.0.0,>=3.2.0->spacy)\n",
      "  Downloading language_data-1.3.0-py3-none-any.whl.metadata (4.3 kB)\n",
      "Collecting annotated-types>=0.6.0 (from pydantic!=1.8,!=1.8.1,<3.0.0,>=1.7.4->spacy)\n",
      "  Downloading annotated_types-0.7.0-py3-none-any.whl.metadata (15 kB)\n",
      "Collecting pydantic-core==2.27.1 (from pydantic!=1.8,!=1.8.1,<3.0.0,>=1.7.4->spacy)\n",
      "  Downloading pydantic_core-2.27.1-cp311-cp311-manylinux_2_17_x86_64.manylinux2014_x86_64.whl.metadata (6.6 kB)\n",
      "Requirement already satisfied: typing-extensions>=4.12.2 in /usr/local/lib/python3.11/site-packages (from pydantic!=1.8,!=1.8.1,<3.0.0,>=1.7.4->spacy) (4.12.2)\n",
      "Requirement already satisfied: charset-normalizer<4,>=2 in /usr/local/lib/python3.11/site-packages (from requests<3.0.0,>=2.13.0->spacy) (3.4.0)\n",
      "Requirement already satisfied: idna<4,>=2.5 in /usr/local/lib/python3.11/site-packages (from requests<3.0.0,>=2.13.0->spacy) (3.10)\n",
      "Requirement already satisfied: urllib3<3,>=1.21.1 in /usr/local/lib/python3.11/site-packages (from requests<3.0.0,>=2.13.0->spacy) (2.2.3)\n",
      "Requirement already satisfied: certifi>=2017.4.17 in /usr/local/lib/python3.11/site-packages (from requests<3.0.0,>=2.13.0->spacy) (2024.8.30)\n",
      "Collecting blis<1.2.0,>=1.1.0 (from thinc<8.4.0,>=8.3.0->spacy)\n",
      "  Downloading blis-1.1.0-cp311-cp311-manylinux_2_17_x86_64.manylinux2014_x86_64.whl.metadata (7.7 kB)\n",
      "Collecting confection<1.0.0,>=0.0.1 (from thinc<8.4.0,>=8.3.0->spacy)\n",
      "  Downloading confection-0.1.5-py3-none-any.whl.metadata (19 kB)\n",
      "Requirement already satisfied: click>=8.0.0 in /usr/local/lib/python3.11/site-packages (from typer<1.0.0,>=0.3.0->spacy) (8.1.7)\n",
      "Collecting shellingham>=1.3.0 (from typer<1.0.0,>=0.3.0->spacy)\n",
      "  Downloading shellingham-1.5.4-py2.py3-none-any.whl.metadata (3.5 kB)\n",
      "Collecting rich>=10.11.0 (from typer<1.0.0,>=0.3.0->spacy)\n",
      "  Downloading rich-13.9.4-py3-none-any.whl.metadata (18 kB)\n",
      "Collecting cloudpathlib<1.0.0,>=0.7.0 (from weasel<0.5.0,>=0.1.0->spacy)\n",
      "  Downloading cloudpathlib-0.20.0-py3-none-any.whl.metadata (14 kB)\n",
      "Collecting smart-open<8.0.0,>=5.2.1 (from weasel<0.5.0,>=0.1.0->spacy)\n",
      "  Downloading smart_open-7.1.0-py3-none-any.whl.metadata (24 kB)\n",
      "Requirement already satisfied: MarkupSafe>=2.0 in /usr/local/lib/python3.11/site-packages (from jinja2->spacy) (3.0.2)\n",
      "Collecting marisa-trie>=1.1.0 (from language-data>=1.2->langcodes<4.0.0,>=3.2.0->spacy)\n",
      "  Downloading marisa_trie-1.2.1-cp311-cp311-manylinux_2_17_x86_64.manylinux2014_x86_64.whl.metadata (9.0 kB)\n",
      "Collecting markdown-it-py>=2.2.0 (from rich>=10.11.0->typer<1.0.0,>=0.3.0->spacy)\n",
      "  Downloading markdown_it_py-3.0.0-py3-none-any.whl.metadata (6.9 kB)\n",
      "Requirement already satisfied: pygments<3.0.0,>=2.13.0 in /usr/local/lib/python3.11/site-packages (from rich>=10.11.0->typer<1.0.0,>=0.3.0->spacy) (2.18.0)\n",
      "Collecting wrapt (from smart-open<8.0.0,>=5.2.1->weasel<0.5.0,>=0.1.0->spacy)\n",
      "  Downloading wrapt-1.17.0-cp311-cp311-manylinux_2_5_x86_64.manylinux1_x86_64.manylinux_2_17_x86_64.manylinux2014_x86_64.whl.metadata (6.4 kB)\n",
      "Collecting mdurl~=0.1 (from markdown-it-py>=2.2.0->rich>=10.11.0->typer<1.0.0,>=0.3.0->spacy)\n",
      "  Downloading mdurl-0.1.2-py3-none-any.whl.metadata (1.6 kB)\n",
      "Downloading spacy-3.8.3-cp311-cp311-manylinux_2_17_x86_64.manylinux2014_x86_64.whl (30.6 MB)\n",
      "\u001b[2K   \u001b[90m━━━━━━━━━━━━━━━━━━━━━━━━━━━━━━━━━━━━━━━━\u001b[0m \u001b[32m30.6/30.6 MB\u001b[0m \u001b[31m9.4 MB/s\u001b[0m eta \u001b[36m0:00:00\u001b[0m:00:01\u001b[0m00:01\u001b[0m\n",
      "\u001b[?25hDownloading catalogue-2.0.10-py3-none-any.whl (17 kB)\n",
      "Downloading cymem-2.0.10-cp311-cp311-manylinux_2_17_x86_64.manylinux2014_x86_64.whl (218 kB)\n",
      "\u001b[2K   \u001b[90m━━━━━━━━━━━━━━━━━━━━━━━━━━━━━━━━━━━━━━━━\u001b[0m \u001b[32m218.8/218.8 kB\u001b[0m \u001b[31m10.7 MB/s\u001b[0m eta \u001b[36m0:00:00\u001b[0m\n",
      "\u001b[?25hDownloading langcodes-3.5.0-py3-none-any.whl (182 kB)\n",
      "\u001b[2K   \u001b[90m━━━━━━━━━━━━━━━━━━━━━━━━━━━━━━━━━━━━━━━━\u001b[0m \u001b[32m183.0/183.0 kB\u001b[0m \u001b[31m15.6 MB/s\u001b[0m eta \u001b[36m0:00:00\u001b[0m\n",
      "\u001b[?25hDownloading murmurhash-1.0.11-cp311-cp311-manylinux_2_5_x86_64.manylinux1_x86_64.manylinux_2_17_x86_64.manylinux2014_x86_64.whl (134 kB)\n",
      "\u001b[2K   \u001b[90m━━━━━━━━━━━━━━━━━━━━━━━━━━━━━━━━━━━━━━━━\u001b[0m \u001b[32m134.3/134.3 kB\u001b[0m \u001b[31m1.0 MB/s\u001b[0m eta \u001b[36m0:00:00\u001b[0m:00:01\u001b[0m\n",
      "\u001b[?25hDownloading preshed-3.0.9-cp311-cp311-manylinux_2_5_x86_64.manylinux1_x86_64.manylinux_2_17_x86_64.manylinux2014_x86_64.whl (157 kB)\n",
      "\u001b[2K   \u001b[90m━━━━━━━━━━━━━━━━━━━━━━━━━━━━━━━━━━━━━━━━\u001b[0m \u001b[32m157.2/157.2 kB\u001b[0m \u001b[31m8.6 MB/s\u001b[0m eta \u001b[36m0:00:00\u001b[0m\n",
      "\u001b[?25hDownloading pydantic-2.10.3-py3-none-any.whl (456 kB)\n",
      "\u001b[2K   \u001b[90m━━━━━━━━━━━━━━━━━━━━━━━━━━━━━━━━━━━━━━━━\u001b[0m \u001b[32m457.0/457.0 kB\u001b[0m \u001b[31m12.6 MB/s\u001b[0m eta \u001b[36m0:00:00\u001b[0m00:01\u001b[0m\n",
      "\u001b[?25hDownloading pydantic_core-2.27.1-cp311-cp311-manylinux_2_17_x86_64.manylinux2014_x86_64.whl (2.1 MB)\n",
      "\u001b[2K   \u001b[90m━━━━━━━━━━━━━━━━━━━━━━━━━━━━━━━━━━━━━━━━\u001b[0m \u001b[32m2.1/2.1 MB\u001b[0m \u001b[31m13.6 MB/s\u001b[0m eta \u001b[36m0:00:00\u001b[0m00:01\u001b[0m00:01\u001b[0m\n",
      "\u001b[?25hDownloading spacy_legacy-3.0.12-py2.py3-none-any.whl (29 kB)\n",
      "Downloading spacy_loggers-1.0.5-py3-none-any.whl (22 kB)\n",
      "Downloading srsly-2.5.0-cp311-cp311-manylinux_2_17_x86_64.manylinux2014_x86_64.whl (1.1 MB)\n",
      "\u001b[2K   \u001b[90m━━━━━━━━━━━━━━━━━━━━━━━━━━━━━━━━━━━━━━━━\u001b[0m \u001b[32m1.1/1.1 MB\u001b[0m \u001b[31m13.1 MB/s\u001b[0m eta \u001b[36m0:00:00\u001b[0ma \u001b[36m0:00:01\u001b[0m\n",
      "\u001b[?25hDownloading thinc-8.3.3-cp311-cp311-manylinux_2_17_x86_64.manylinux2014_x86_64.whl (3.9 MB)\n",
      "\u001b[2K   \u001b[90m━━━━━━━━━━━━━━━━━━━━━━━━━━━━━━━━━━━━━━━━\u001b[0m \u001b[32m3.9/3.9 MB\u001b[0m \u001b[31m12.6 MB/s\u001b[0m eta \u001b[36m0:00:00\u001b[0m00:01\u001b[0m00:01\u001b[0m\n",
      "\u001b[?25hDownloading tqdm-4.67.1-py3-none-any.whl (78 kB)\n",
      "\u001b[2K   \u001b[90m━━━━━━━━━━━━━━━━━━━━━━━━━━━━━━━━━━━━━━━━\u001b[0m \u001b[32m78.5/78.5 kB\u001b[0m \u001b[31m8.5 MB/s\u001b[0m eta \u001b[36m0:00:00\u001b[0m\n",
      "\u001b[?25hDownloading typer-0.15.1-py3-none-any.whl (44 kB)\n",
      "\u001b[2K   \u001b[90m━━━━━━━━━━━━━━━━━━━━━━━━━━━━━━━━━━━━━━━━\u001b[0m \u001b[32m44.9/44.9 kB\u001b[0m \u001b[31m4.6 MB/s\u001b[0m eta \u001b[36m0:00:00\u001b[0m\n",
      "\u001b[?25hDownloading wasabi-1.1.3-py3-none-any.whl (27 kB)\n",
      "Downloading weasel-0.4.1-py3-none-any.whl (50 kB)\n",
      "\u001b[2K   \u001b[90m━━━━━━━━━━━━━━━━━━━━━━━━━━━━━━━━━━━━━━━━\u001b[0m \u001b[32m50.3/50.3 kB\u001b[0m \u001b[31m5.6 MB/s\u001b[0m eta \u001b[36m0:00:00\u001b[0m\n",
      "\u001b[?25hDownloading annotated_types-0.7.0-py3-none-any.whl (13 kB)\n",
      "Downloading blis-1.1.0-cp311-cp311-manylinux_2_17_x86_64.manylinux2014_x86_64.whl (9.3 MB)\n",
      "\u001b[2K   \u001b[90m━━━━━━━━━━━━━━━━━━━━━━━━━━━━━━━━━━━━━━━━\u001b[0m \u001b[32m9.3/9.3 MB\u001b[0m \u001b[31m12.7 MB/s\u001b[0m eta \u001b[36m0:00:00\u001b[0m00:01\u001b[0m00:01\u001b[0m\n",
      "\u001b[?25hDownloading cloudpathlib-0.20.0-py3-none-any.whl (52 kB)\n",
      "\u001b[2K   \u001b[90m━━━━━━━━━━━━━━━━━━━━━━━━━━━━━━━━━━━━━━━━\u001b[0m \u001b[32m52.5/52.5 kB\u001b[0m \u001b[31m9.5 MB/s\u001b[0m eta \u001b[36m0:00:00\u001b[0m\n",
      "\u001b[?25hDownloading confection-0.1.5-py3-none-any.whl (35 kB)\n",
      "Downloading language_data-1.3.0-py3-none-any.whl (5.4 MB)\n",
      "\u001b[2K   \u001b[90m━━━━━━━━━━━━━━━━━━━━━━━━━━━━━━━━━━━━━━━━\u001b[0m \u001b[32m5.4/5.4 MB\u001b[0m \u001b[31m12.7 MB/s\u001b[0m eta \u001b[36m0:00:00\u001b[0m00:01\u001b[0m00:01\u001b[0m\n",
      "\u001b[?25hDownloading rich-13.9.4-py3-none-any.whl (242 kB)\n",
      "\u001b[2K   \u001b[90m━━━━━━━━━━━━━━━━━━━━━━━━━━━━━━━━━━━━━━━━\u001b[0m \u001b[32m242.4/242.4 kB\u001b[0m \u001b[31m14.5 MB/s\u001b[0m eta \u001b[36m0:00:00\u001b[0m\n",
      "\u001b[?25hDownloading shellingham-1.5.4-py2.py3-none-any.whl (9.8 kB)\n",
      "Downloading smart_open-7.1.0-py3-none-any.whl (61 kB)\n",
      "\u001b[2K   \u001b[90m━━━━━━━━━━━━━━━━━━━━━━━━━━━━━━━━━━━━━━━━\u001b[0m \u001b[32m61.7/61.7 kB\u001b[0m \u001b[31m5.5 MB/s\u001b[0m eta \u001b[36m0:00:00\u001b[0m\n",
      "\u001b[?25hDownloading marisa_trie-1.2.1-cp311-cp311-manylinux_2_17_x86_64.manylinux2014_x86_64.whl (1.4 MB)\n",
      "\u001b[2K   \u001b[90m━━━━━━━━━━━━━━━━━━━━━━━━━━━━━━━━━━━━━━━━\u001b[0m \u001b[32m1.4/1.4 MB\u001b[0m \u001b[31m13.1 MB/s\u001b[0m eta \u001b[36m0:00:00\u001b[0m00:01\u001b[0m00:01\u001b[0m\n",
      "\u001b[?25hDownloading markdown_it_py-3.0.0-py3-none-any.whl (87 kB)\n",
      "\u001b[2K   \u001b[90m━━━━━━━━━━━━━━━━━━━━━━━━━━━━━━━━━━━━━━━━\u001b[0m \u001b[32m87.5/87.5 kB\u001b[0m \u001b[31m12.4 MB/s\u001b[0m eta \u001b[36m0:00:00\u001b[0m\n",
      "\u001b[?25hDownloading wrapt-1.17.0-cp311-cp311-manylinux_2_5_x86_64.manylinux1_x86_64.manylinux_2_17_x86_64.manylinux2014_x86_64.whl (83 kB)\n",
      "\u001b[2K   \u001b[90m━━━━━━━━━━━━━━━━━━━━━━━━━━━━━━━━━━━━━━━━\u001b[0m \u001b[32m83.2/83.2 kB\u001b[0m \u001b[31m9.8 MB/s\u001b[0m eta \u001b[36m0:00:00\u001b[0m\n",
      "\u001b[?25hDownloading mdurl-0.1.2-py3-none-any.whl (10.0 kB)\n",
      "Installing collected packages: cymem, wrapt, wasabi, tqdm, spacy-loggers, spacy-legacy, shellingham, pydantic-core, murmurhash, mdurl, marisa-trie, cloudpathlib, catalogue, blis, annotated-types, srsly, smart-open, pydantic, preshed, markdown-it-py, language-data, rich, langcodes, confection, typer, thinc, weasel, spacy\n",
      "Successfully installed annotated-types-0.7.0 blis-1.1.0 catalogue-2.0.10 cloudpathlib-0.20.0 confection-0.1.5 cymem-2.0.10 langcodes-3.5.0 language-data-1.3.0 marisa-trie-1.2.1 markdown-it-py-3.0.0 mdurl-0.1.2 murmurhash-1.0.11 preshed-3.0.9 pydantic-2.10.3 pydantic-core-2.27.1 rich-13.9.4 shellingham-1.5.4 smart-open-7.1.0 spacy-3.8.3 spacy-legacy-3.0.12 spacy-loggers-1.0.5 srsly-2.5.0 thinc-8.3.3 tqdm-4.67.1 typer-0.15.1 wasabi-1.1.3 weasel-0.4.1 wrapt-1.17.0\n",
      "\u001b[33mWARNING: Running pip as the 'root' user can result in broken permissions and conflicting behaviour with the system package manager. It is recommended to use a virtual environment instead: https://pip.pypa.io/warnings/venv\u001b[0m\u001b[33m\n",
      "\u001b[0m\n",
      "\u001b[1m[\u001b[0m\u001b[34;49mnotice\u001b[0m\u001b[1;39;49m]\u001b[0m\u001b[39;49m A new release of pip is available: \u001b[0m\u001b[31;49m24.0\u001b[0m\u001b[39;49m -> \u001b[0m\u001b[32;49m24.3.1\u001b[0m\n",
      "\u001b[1m[\u001b[0m\u001b[34;49mnotice\u001b[0m\u001b[1;39;49m]\u001b[0m\u001b[39;49m To update, run: \u001b[0m\u001b[32;49mpip install --upgrade pip\u001b[0m\n"
     ]
    }
   ],
   "source": [
    "!pip install spacy"
   ]
  },
  {
   "cell_type": "code",
   "execution_count": 18,
   "id": "5e69d0e4-2b88-4b75-a774-6b0cacf6f637",
   "metadata": {
    "execution": {
     "iopub.execute_input": "2024-12-18T04:30:38.672913Z",
     "iopub.status.busy": "2024-12-18T04:30:38.672610Z",
     "iopub.status.idle": "2024-12-18T04:30:38.687764Z",
     "shell.execute_reply": "2024-12-18T04:30:38.682677Z",
     "shell.execute_reply.started": "2024-12-18T04:30:38.672889Z"
    }
   },
   "outputs": [
    {
     "name": "stdout",
     "output_type": "stream",
     "text": [
      "SAM ALTMAN SAYS ARTIFICIAL GENERAL INTELLIGENCE IS ON THE HORIZON\n",
      "Sam Altman, CEO of OpenAI, stated at the DealBook Summit that Artificial  General\n",
      "Intelligence might impact everyday life less significantly than expected. He also loves LLM-as-a-Judge, but not as a judge.\n"
     ]
    }
   ],
   "source": [
    "test_text = \"SAM ALTMAN SAYS ARTIFICIAL GENERAL INTELLIGENCE IS ON THE HORIZON\\nSam Altman, CEO of OpenAI, stated at the DealBook Summit that Artificial  General\\n\\rIntelligence might impact everyday life less significantly than expected. He also loves LLM-as-a-Judge, but not as a judge.\"\n",
    "print(test_text)"
   ]
  },
  {
   "cell_type": "code",
   "execution_count": 9,
   "id": "34a07c9c-4b6f-46e8-b420-d85a7cc0f29b",
   "metadata": {
    "execution": {
     "iopub.execute_input": "2024-12-18T04:29:41.577011Z",
     "iopub.status.busy": "2024-12-18T04:29:41.576631Z",
     "iopub.status.idle": "2024-12-18T04:29:47.111170Z",
     "shell.execute_reply": "2024-12-18T04:29:47.110085Z",
     "shell.execute_reply.started": "2024-12-18T04:29:41.576984Z"
    }
   },
   "outputs": [
    {
     "name": "stdout",
     "output_type": "stream",
     "text": [
      "Collecting en-core-web-sm==3.8.0\n",
      "  Downloading https://github.com/explosion/spacy-models/releases/download/en_core_web_sm-3.8.0/en_core_web_sm-3.8.0-py3-none-any.whl (12.8 MB)\n",
      "\u001b[2K     \u001b[90m━━━━━━━━━━━━━━━━━━━━━━━━━━━━━━━━━━━━━━━━\u001b[0m \u001b[32m12.8/12.8 MB\u001b[0m \u001b[31m13.7 MB/s\u001b[0m eta \u001b[36m0:00:00\u001b[0m00:01\u001b[0m00:01\u001b[0m\n",
      "\u001b[?25hInstalling collected packages: en-core-web-sm\n",
      "Successfully installed en-core-web-sm-3.8.0\n",
      "\u001b[33mWARNING: Running pip as the 'root' user can result in broken permissions and conflicting behaviour with the system package manager. It is recommended to use a virtual environment instead: https://pip.pypa.io/warnings/venv\u001b[0m\u001b[33m\n",
      "\u001b[0m\n",
      "\u001b[1m[\u001b[0m\u001b[34;49mnotice\u001b[0m\u001b[1;39;49m]\u001b[0m\u001b[39;49m A new release of pip is available: \u001b[0m\u001b[31;49m24.0\u001b[0m\u001b[39;49m -> \u001b[0m\u001b[32;49m24.3.1\u001b[0m\n",
      "\u001b[1m[\u001b[0m\u001b[34;49mnotice\u001b[0m\u001b[1;39;49m]\u001b[0m\u001b[39;49m To update, run: \u001b[0m\u001b[32;49mpip install --upgrade pip\u001b[0m\n",
      "\u001b[38;5;2m✔ Download and installation successful\u001b[0m\n",
      "You can now load the package via spacy.load('en_core_web_sm')\n"
     ]
    }
   ],
   "source": [
    "!spacy download en_core_web_sm"
   ]
  },
  {
   "cell_type": "code",
   "execution_count": 10,
   "id": "41a1fb83-86ae-4d80-9771-e6a2cb0df73a",
   "metadata": {
    "execution": {
     "iopub.execute_input": "2024-12-18T04:29:47.113597Z",
     "iopub.status.busy": "2024-12-18T04:29:47.113127Z",
     "iopub.status.idle": "2024-12-18T04:29:48.070285Z",
     "shell.execute_reply": "2024-12-18T04:29:48.068173Z",
     "shell.execute_reply.started": "2024-12-18T04:29:47.113566Z"
    }
   },
   "outputs": [],
   "source": [
    "import spacy\n",
    "from spacy.matcher import PhraseMatcher"
   ]
  },
  {
   "cell_type": "code",
   "execution_count": 11,
   "id": "5c7e838e-4d78-4444-a723-4f74eff7c8f6",
   "metadata": {
    "execution": {
     "iopub.execute_input": "2024-12-18T04:29:48.073709Z",
     "iopub.status.busy": "2024-12-18T04:29:48.073121Z",
     "iopub.status.idle": "2024-12-18T04:29:49.427906Z",
     "shell.execute_reply": "2024-12-18T04:29:49.426521Z",
     "shell.execute_reply.started": "2024-12-18T04:29:48.073635Z"
    }
   },
   "outputs": [],
   "source": [
    "nlp = spacy.load(\"en_core_web_sm\")\n",
    "doc = nlp(test_text)"
   ]
  },
  {
   "cell_type": "code",
   "execution_count": 12,
   "id": "9a2c5915-18b6-49a4-9ab0-55d7331f43a3",
   "metadata": {
    "execution": {
     "iopub.execute_input": "2024-12-18T04:29:51.810372Z",
     "iopub.status.busy": "2024-12-18T04:29:51.808562Z",
     "iopub.status.idle": "2024-12-18T04:29:51.818370Z",
     "shell.execute_reply": "2024-12-18T04:29:51.816783Z",
     "shell.execute_reply.started": "2024-12-18T04:29:51.810336Z"
    }
   },
   "outputs": [
    {
     "name": "stdout",
     "output_type": "stream",
     "text": [
      "SAM ALTMAN 0 10 ORG\n",
      "HORIZON 60 67 ORG\n",
      "Sam Altman 68 78 PERSON\n",
      "OpenAI 87 93 ORG\n",
      "the DealBook Summit 105 124 ORG\n",
      "LLM 239 242 ORG\n"
     ]
    }
   ],
   "source": [
    "#nlp = spacy.load(\"en_core_web_sm\")\n",
    "#doc = nlp(\"Apple is looking at buying U.K. startup for $1 billion\")\n",
    "for ent in doc.ents:\n",
    "    print(ent.text, ent.start_char, ent.end_char, ent.label_)"
   ]
  },
  {
   "cell_type": "code",
   "execution_count": 13,
   "id": "2107e825-b15f-4923-9368-9f59cf569bdb",
   "metadata": {
    "execution": {
     "iopub.execute_input": "2024-12-18T04:30:06.330979Z",
     "iopub.status.busy": "2024-12-18T04:30:06.330506Z",
     "iopub.status.idle": "2024-12-18T04:30:06.419174Z",
     "shell.execute_reply": "2024-12-18T04:30:06.351700Z",
     "shell.execute_reply.started": "2024-12-18T04:30:06.330950Z"
    }
   },
   "outputs": [
    {
     "name": "stdout",
     "output_type": "stream",
     "text": [
      "SAM ALTMAN SAYS ARTIFICIAL   GENERAL INTELLIGENCE IS ON THE HORIZON\n",
      "Sam Altman, CEO of OpenAI, stated at the DealBook Summit that Artificial  General\n",
      "Intelligence might impact everyday life less significantly than expected. He also loves LLM-as-a-Judge, but not as a judge.\n"
     ]
    }
   ],
   "source": [
    "print(test_text)"
   ]
  },
  {
   "cell_type": "code",
   "execution_count": 14,
   "id": "4b0d043e-1900-44ee-8bc2-6003e633597b",
   "metadata": {
    "execution": {
     "iopub.execute_input": "2024-12-18T04:30:11.451107Z",
     "iopub.status.busy": "2024-12-18T04:30:11.450620Z",
     "iopub.status.idle": "2024-12-18T04:30:11.462243Z",
     "shell.execute_reply": "2024-12-18T04:30:11.460881Z",
     "shell.execute_reply.started": "2024-12-18T04:30:11.451034Z"
    }
   },
   "outputs": [
    {
     "data": {
      "text/plain": [
       "array(['OpenAI', 'Open AI'], dtype=object)"
      ]
     },
     "execution_count": 14,
     "metadata": {},
     "output_type": "execute_result"
    }
   ],
   "source": [
    "all_tables['market_intelligence'].set_index('key').loc[\"OpenAI\"].dropna().values"
   ]
  },
  {
   "cell_type": "code",
   "execution_count": 15,
   "id": "9bb2e4b7-bde7-40c0-92f0-5098b7acc5da",
   "metadata": {
    "execution": {
     "iopub.execute_input": "2024-12-18T04:30:14.956941Z",
     "iopub.status.busy": "2024-12-18T04:30:14.956636Z",
     "iopub.status.idle": "2024-12-18T04:30:14.967437Z",
     "shell.execute_reply": "2024-12-18T04:30:14.965989Z",
     "shell.execute_reply.started": "2024-12-18T04:30:14.956917Z"
    }
   },
   "outputs": [
    {
     "name": "stdout",
     "output_type": "stream",
     "text": [
      "OpenAI\n"
     ]
    }
   ],
   "source": [
    "matcher = PhraseMatcher(nlp.vocab, attr=\"LOWER\")\n",
    "terms = list(all_tables['market_intelligence'].set_index('key').loc[\"OpenAI\"].dropna().values)\n",
    "# Only run nlp.make_doc to speed things up\n",
    "patterns = [nlp.make_doc(text) for text in terms]\n",
    "matcher.add(\"TerminologyList\", patterns)\n",
    "\n",
    "matches = matcher(doc)\n",
    "for match_id, start, end in matches:\n",
    "    span = doc[start:end]\n",
    "    print(span.text)"
   ]
  },
  {
   "cell_type": "code",
   "execution_count": 98,
   "id": "7a582d68-4f67-428a-a1ef-3ccb766122d2",
   "metadata": {
    "execution": {
     "iopub.execute_input": "2024-12-18T22:32:56.283727Z",
     "iopub.status.busy": "2024-12-18T22:32:56.282798Z",
     "iopub.status.idle": "2024-12-18T22:32:57.386775Z",
     "shell.execute_reply": "2024-12-18T22:32:57.384565Z",
     "shell.execute_reply.started": "2024-12-18T22:32:56.283693Z"
    }
   },
   "outputs": [
    {
     "name": "stdout",
     "output_type": "stream",
     "text": [
      "SAM ALTMAN SAYS ARTIFICIAL GENERAL    INTELLIGENCE IS ON THE HORIZON.\n",
      "Sam Altman, CEO of OpenAI, stated at the DealBook Summit that artificial  general\n",
      "intelligence might impact everyday life less significantly than expected. He also loves LLM-as-a-judges, but not as a judge, and he thinks A.I with a dot in-between is absolute dope! Actually he wants to see many AIs. Even though you can't beat artificial intelligences, plain and simple.\n",
      "['AI', 'Artificial Intelligence', 'AGI', 'Artificial General Intelligence', 'A.I']\n",
      "Found 1 matche(s)\n",
      "A.I\n"
     ]
    }
   ],
   "source": [
    "test_text = \"SAM ALTMAN SAYS ARTIFICIAL GENERAL    INTELLIGENCE IS ON THE HORIZON.\\nSam Altman, \" + \\\n",
    "\"CEO of OpenAI, stated at the DealBook Summit that artificial  general\\n\\rintelligence might impact everyday life less significantly than expected. \" + \\\n",
    "\"He also loves LLM-as-a-judges, but not as a judge, and he thinks A.I with a dot in-between is absolute dope! Actually he wants to see many AIs.\" + \\\n",
    "\" Even though you can't beat artificial intelligences, plain and simple.\"\n",
    "print(test_text)\n",
    "nlp = spacy.load(\"en_core_web_sm\")\n",
    "doc = nlp(test_text)\n",
    "matcher = PhraseMatcher(nlp.vocab, attr=\"LOWER\")\n",
    "terms = list(all_tables['themes'].drop(columns=\"qualifying\").set_index('key').loc[\"AI\"].dropna().values)\n",
    "print(terms)\n",
    "# Only run nlp.make_doc to speed things up\n",
    "patterns = [nlp.make_doc(text) for text in terms]\n",
    "matcher.add(\"TerminologyList\", patterns)\n",
    "\n",
    "matches = matcher(doc)\n",
    "print(f\"Found {len(matches)} matche(s)\")\n",
    "for match_id, start, end in matches:\n",
    "    span = doc[start:end]\n",
    "    print(span.text)"
   ]
  },
  {
   "cell_type": "code",
   "execution_count": 99,
   "id": "311176a3-a43c-42c9-88eb-9d9e37d565f1",
   "metadata": {
    "execution": {
     "iopub.execute_input": "2024-12-18T22:32:57.390314Z",
     "iopub.status.busy": "2024-12-18T22:32:57.389008Z",
     "iopub.status.idle": "2024-12-18T22:32:58.667376Z",
     "shell.execute_reply": "2024-12-18T22:32:58.663845Z",
     "shell.execute_reply.started": "2024-12-18T22:32:57.390223Z"
    }
   },
   "outputs": [
    {
     "name": "stdout",
     "output_type": "stream",
     "text": [
      "SAM ALTMAN say ARTIFICIAL GENERAL INTELLIGENCE be on the HORIZON . Sam Altman , CEO of OpenAI , state at the DealBook Summit that artificial general intelligence might impact everyday life less significantly than expect . he also love LLM - as - a - judge , but not as a judge , and he think A.I with a dot in - between be absolute dope ! actually he want to see many ai . even though you can not beat artificial intelligence , plain and simple .\n"
     ]
    }
   ],
   "source": [
    "test_text_split = ' '.join(test_text.split())\n",
    "nlp = spacy.load(\"en_core_web_sm\")\n",
    "doc2 = nlp(test_text_split)\n",
    "lemmas = [token.lemma_ for token in doc2]\n",
    "lemmas_text = \" \".join(lemmas)\n",
    "new_doc = nlp(lemmas_text)\n",
    "print(new_doc)"
   ]
  },
  {
   "cell_type": "code",
   "execution_count": 104,
   "id": "72e84609-e6fd-4aa2-a055-1d11c36db735",
   "metadata": {
    "execution": {
     "iopub.execute_input": "2024-12-18T22:33:28.267458Z",
     "iopub.status.busy": "2024-12-18T22:33:28.266939Z",
     "iopub.status.idle": "2024-12-18T22:33:28.280435Z",
     "shell.execute_reply": "2024-12-18T22:33:28.278629Z",
     "shell.execute_reply.started": "2024-12-18T22:33:28.267427Z"
    }
   },
   "outputs": [
    {
     "name": "stdout",
     "output_type": "stream",
     "text": [
      "['AI', 'Artificial Intelligence', 'AGI', 'Artificial General Intelligence', 'A.I']\n",
      "Found 5 matche(s)\n",
      "ARTIFICIAL GENERAL INTELLIGENCE\n",
      "artificial general intelligence\n",
      "A.I\n",
      "AIs\n",
      "artificial intelligences\n"
     ]
    }
   ],
   "source": [
    "matcher = PhraseMatcher(nlp.vocab, attr=\"LOWER\")\n",
    "terms = list(all_tables['themes'].drop(columns=\"qualifying\").set_index('key').loc[\"AI\"].dropna().values)\n",
    "print(terms)\n",
    "# Only run nlp.make_doc to speed things up\n",
    "patterns = [nlp.make_doc(text) for text in terms]\n",
    "matcher.add(\"TerminologyList\", patterns)\n",
    "\n",
    "matches = matcher(new_doc)\n",
    "print(f\"Found {len(matches)} matche(s)\")\n",
    "for match_id, start, end in matches:\n",
    "    span = doc2[start:end]\n",
    "    print(span.text)"
   ]
  },
  {
   "cell_type": "code",
   "execution_count": 105,
   "id": "10ece0ca-2cec-4803-8517-d9d1109560ae",
   "metadata": {
    "execution": {
     "iopub.execute_input": "2024-12-18T22:33:28.639361Z",
     "iopub.status.busy": "2024-12-18T22:33:28.637999Z",
     "iopub.status.idle": "2024-12-18T22:33:28.654511Z",
     "shell.execute_reply": "2024-12-18T22:33:28.652354Z",
     "shell.execute_reply.started": "2024-12-18T22:33:28.639305Z"
    }
   },
   "outputs": [
    {
     "name": "stdout",
     "output_type": "stream",
     "text": [
      "['evaluation', 'eval', 'leaderboard', 'benchmark', 'metrics', 'as-a-Judge']\n",
      "Found 1 matche(s)\n",
      "loves LLM-as-a-judges\n"
     ]
    }
   ],
   "source": [
    "matcher = PhraseMatcher(nlp.vocab, attr=\"LOWER\")\n",
    "terms = list(all_tables['themes'].drop(columns=\"qualifying\").set_index('key').loc[\"Evaluation\"].dropna().values)\n",
    "print(terms)\n",
    "# Only run nlp.make_doc to speed things up\n",
    "patterns = [nlp.make_doc(text) for text in terms]\n",
    "matcher.add(\"TerminologyList\", patterns)\n",
    "\n",
    "matches = matcher(new_doc)\n",
    "print(f\"Found {len(matches)} matche(s)\")\n",
    "for match_id, start, end in matches:\n",
    "    span = doc2[start-3:end]\n",
    "    print(span.text)"
   ]
  },
  {
   "cell_type": "code",
   "execution_count": null,
   "id": "eee956d4-57f9-4ed0-b623-c7460c9da3ad",
   "metadata": {},
   "outputs": [],
   "source": []
  }
 ],
 "metadata": {
  "kernelspec": {
   "display_name": "Python 3 (ipykernel)",
   "language": "python",
   "name": "python3"
  },
  "language_info": {
   "codemirror_mode": {
    "name": "ipython",
    "version": 3
   },
   "file_extension": ".py",
   "mimetype": "text/x-python",
   "name": "python",
   "nbconvert_exporter": "python",
   "pygments_lexer": "ipython3",
   "version": "3.11.9"
  }
 },
 "nbformat": 4,
 "nbformat_minor": 5
}
