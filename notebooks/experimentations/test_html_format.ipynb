{
 "cells": [
  {
   "cell_type": "code",
   "execution_count": 1,
   "id": "2a8f3655-835c-4d41-9937-b0a6421ccafa",
   "metadata": {
    "execution": {
     "iopub.execute_input": "2025-02-22T23:39:11.468588Z",
     "iopub.status.busy": "2025-02-22T23:39:11.467974Z",
     "iopub.status.idle": "2025-02-22T23:39:12.095240Z",
     "shell.execute_reply": "2025-02-22T23:39:12.094302Z",
     "shell.execute_reply.started": "2025-02-22T23:39:11.468555Z"
    }
   },
   "outputs": [
    {
     "name": "stderr",
     "output_type": "stream",
     "text": [
      "/tmp/ipykernel_20/4190657540.py:2: DeprecationWarning: Importing display from IPython.core.display is deprecated since IPython 7.14, please import from IPython.display\n",
      "  from IPython.core.display import display, HTML\n"
     ]
    }
   ],
   "source": [
    "import markdown\n",
    "from IPython.core.display import display, HTML\n",
    "\n",
    "from src.gmail import Gmail\n",
    "from src.config import SCOPES"
   ]
  },
  {
   "cell_type": "markdown",
   "id": "7b6e5caa-856c-4135-9328-e929c2198a58",
   "metadata": {},
   "source": [
    "# Create markdown text"
   ]
  },
  {
   "cell_type": "code",
   "execution_count": 44,
   "id": "f2df33ce-ee4b-480d-aa7c-c6be806bff69",
   "metadata": {
    "execution": {
     "iopub.execute_input": "2025-02-22T23:51:35.551283Z",
     "iopub.status.busy": "2025-02-22T23:51:35.547196Z",
     "iopub.status.idle": "2025-02-22T23:51:35.567917Z",
     "shell.execute_reply": "2025-02-22T23:51:35.565048Z",
     "shell.execute_reply.started": "2025-02-22T23:51:35.551218Z"
    }
   },
   "outputs": [],
   "source": [
    "txt_mkdown = \"\"\"\n",
    "Table of Contents\n",
    "\n",
    "[TOC]\n",
    "\n",
    "# Section 1\n",
    "\n",
    "## Sub-title 1\n",
    "\n",
    "This is an example of text. This is not very good, but it's okay.\n",
    "\n",
    "1. First link\n",
    "1. Second link\n",
    "1. Third link\n",
    "\n",
    "Sources:\n",
    "\n",
    "1. [My first article](https://www.url_1.com)\n",
    "2. [My second article](https://www.url_2.com)\n",
    "\n",
    "***\n",
    "\n",
    "# Section 2\n",
    "\n",
    "\"\"\""
   ]
  },
  {
   "cell_type": "code",
   "execution_count": 45,
   "id": "3fd3a3be-9cdb-4fd4-8ce4-c5c0e914d6cd",
   "metadata": {
    "execution": {
     "iopub.execute_input": "2025-02-22T23:51:35.809242Z",
     "iopub.status.busy": "2025-02-22T23:51:35.808917Z",
     "iopub.status.idle": "2025-02-22T23:51:35.820747Z",
     "shell.execute_reply": "2025-02-22T23:51:35.819138Z",
     "shell.execute_reply.started": "2025-02-22T23:51:35.809217Z"
    }
   },
   "outputs": [
    {
     "data": {
      "text/plain": [
       "\"\\nTable of Contents\\n\\n[TOC]\\n\\n# Section 1\\n\\n## Sub-title 1\\n\\nThis is an example of text. This is not very good, but it's okay.\\n\\n1. First link\\n1. Second link\\n1. Third link\\n\\nSources:\\n\\n1. [My first article](https://www.url_1.com)\\n2. [My second article](https://www.url_2.com)\\n\\n***\\n\\n# Section 2\\n\\n\""
      ]
     },
     "execution_count": 45,
     "metadata": {},
     "output_type": "execute_result"
    }
   ],
   "source": [
    "txt_mkdown"
   ]
  },
  {
   "cell_type": "markdown",
   "id": "399f4987-9dc0-4972-895d-1a1e58e15f48",
   "metadata": {},
   "source": [
    "Table of Contents\n",
    "\n",
    "[TOC]\n",
    "\n",
    "# Section 1\n",
    "\n",
    "## Sub-title 1\n",
    "\n",
    "This is an example of text. This is not very good, but it's okay.\n",
    "\n",
    "1. First link\n",
    "1. Second link\n",
    "1. Third link\n",
    "\n",
    "Sources:  \n",
    "1. [My first article](https://www.url_1.com)\n",
    "2. [My second article](https://www.url_2.com)"
   ]
  },
  {
   "cell_type": "code",
   "execution_count": 46,
   "id": "a90abdb4-1c51-4fa1-9a24-a35fc08695a8",
   "metadata": {
    "execution": {
     "iopub.execute_input": "2025-02-22T23:51:36.289951Z",
     "iopub.status.busy": "2025-02-22T23:51:36.289593Z",
     "iopub.status.idle": "2025-02-22T23:51:36.303682Z",
     "shell.execute_reply": "2025-02-22T23:51:36.302716Z",
     "shell.execute_reply.started": "2025-02-22T23:51:36.289927Z"
    }
   },
   "outputs": [],
   "source": [
    "md = markdown.Markdown(extensions=['toc'])\n",
    "txt_html = md.convert(txt_mkdown)"
   ]
  },
  {
   "cell_type": "code",
   "execution_count": 47,
   "id": "b65aa133-0d70-45ed-880e-3602b8af9056",
   "metadata": {
    "execution": {
     "iopub.execute_input": "2025-02-22T23:51:36.922147Z",
     "iopub.status.busy": "2025-02-22T23:51:36.921640Z",
     "iopub.status.idle": "2025-02-22T23:51:36.927063Z",
     "shell.execute_reply": "2025-02-22T23:51:36.926337Z",
     "shell.execute_reply.started": "2025-02-22T23:51:36.922121Z"
    }
   },
   "outputs": [
    {
     "data": {
      "text/plain": [
       "str"
      ]
     },
     "execution_count": 47,
     "metadata": {},
     "output_type": "execute_result"
    }
   ],
   "source": [
    "type(txt_html)"
   ]
  },
  {
   "cell_type": "code",
   "execution_count": 48,
   "id": "d547b40b-7437-4667-9ac0-1c297501f1ee",
   "metadata": {
    "execution": {
     "iopub.execute_input": "2025-02-22T23:51:37.291045Z",
     "iopub.status.busy": "2025-02-22T23:51:37.290550Z",
     "iopub.status.idle": "2025-02-22T23:51:37.295055Z",
     "shell.execute_reply": "2025-02-22T23:51:37.294338Z",
     "shell.execute_reply.started": "2025-02-22T23:51:37.291021Z"
    }
   },
   "outputs": [
    {
     "name": "stdout",
     "output_type": "stream",
     "text": [
      "<p>Table of Contents</p>\n",
      "<div class=\"toc\">\n",
      "<ul>\n",
      "<li><a href=\"#section-1\">Section 1</a><ul>\n",
      "<li><a href=\"#sub-title-1\">Sub-title 1</a></li>\n",
      "</ul>\n",
      "</li>\n",
      "<li><a href=\"#section-2\">Section 2</a></li>\n",
      "</ul>\n",
      "</div>\n",
      "<h1 id=\"section-1\">Section 1</h1>\n",
      "<h2 id=\"sub-title-1\">Sub-title 1</h2>\n",
      "<p>This is an example of text. This is not very good, but it's okay.</p>\n",
      "<ol>\n",
      "<li>First link</li>\n",
      "<li>Second link</li>\n",
      "<li>Third link</li>\n",
      "</ol>\n",
      "<p>Sources:</p>\n",
      "<ol>\n",
      "<li><a href=\"https://www.url_1.com\">My first article</a></li>\n",
      "<li><a href=\"https://www.url_2.com\">My second article</a></li>\n",
      "</ol>\n",
      "<hr />\n",
      "<h1 id=\"section-2\">Section 2</h1>\n"
     ]
    }
   ],
   "source": [
    "print(txt_html)"
   ]
  },
  {
   "cell_type": "code",
   "execution_count": 49,
   "id": "96cf0328-cc59-4495-8a92-2cb08bf0786f",
   "metadata": {
    "execution": {
     "iopub.execute_input": "2025-02-22T23:51:38.346287Z",
     "iopub.status.busy": "2025-02-22T23:51:38.345690Z",
     "iopub.status.idle": "2025-02-22T23:51:38.356072Z",
     "shell.execute_reply": "2025-02-22T23:51:38.355263Z",
     "shell.execute_reply.started": "2025-02-22T23:51:38.346262Z"
    }
   },
   "outputs": [
    {
     "data": {
      "text/html": [
       "<p>Table of Contents</p>\n",
       "<div class=\"toc\">\n",
       "<ul>\n",
       "<li><a href=\"#section-1\">Section 1</a><ul>\n",
       "<li><a href=\"#sub-title-1\">Sub-title 1</a></li>\n",
       "</ul>\n",
       "</li>\n",
       "<li><a href=\"#section-2\">Section 2</a></li>\n",
       "</ul>\n",
       "</div>\n",
       "<h1 id=\"section-1\">Section 1</h1>\n",
       "<h2 id=\"sub-title-1\">Sub-title 1</h2>\n",
       "<p>This is an example of text. This is not very good, but it's okay.</p>\n",
       "<ol>\n",
       "<li>First link</li>\n",
       "<li>Second link</li>\n",
       "<li>Third link</li>\n",
       "</ol>\n",
       "<p>Sources:</p>\n",
       "<ol>\n",
       "<li><a href=\"https://www.url_1.com\">My first article</a></li>\n",
       "<li><a href=\"https://www.url_2.com\">My second article</a></li>\n",
       "</ol>\n",
       "<hr />\n",
       "<h1 id=\"section-2\">Section 2</h1>"
      ],
      "text/plain": [
       "<IPython.core.display.HTML object>"
      ]
     },
     "metadata": {},
     "output_type": "display_data"
    }
   ],
   "source": [
    "display(HTML(txt_html))"
   ]
  },
  {
   "cell_type": "markdown",
   "id": "c3ab46dd-6a6d-4773-aed7-04b0ab7ffc46",
   "metadata": {
    "jp-MarkdownHeadingCollapsed": true
   },
   "source": [
    "# Send by email"
   ]
  },
  {
   "cell_type": "code",
   "execution_count": 7,
   "id": "81d5d181-0e08-494c-b9c9-3d1a92e3f1b3",
   "metadata": {
    "execution": {
     "iopub.execute_input": "2025-02-22T22:36:00.628048Z",
     "iopub.status.busy": "2025-02-22T22:36:00.626429Z",
     "iopub.status.idle": "2025-02-22T22:36:00.642195Z",
     "shell.execute_reply": "2025-02-22T22:36:00.639301Z",
     "shell.execute_reply.started": "2025-02-22T22:36:00.628014Z"
    }
   },
   "outputs": [],
   "source": [
    "gmail = Gmail(\n",
    "    path_to_token=\"/home/secrets_vault/token.json\",\n",
    "    path_to_credentials=\"/home/secrets_vault/credentials.json\",\n",
    "    scopes=SCOPES\n",
    ")"
   ]
  },
  {
   "cell_type": "code",
   "execution_count": 8,
   "id": "0021b2f3-0ac0-46af-9ad6-1b4526318263",
   "metadata": {
    "execution": {
     "iopub.execute_input": "2025-02-22T22:36:00.645792Z",
     "iopub.status.busy": "2025-02-22T22:36:00.645391Z",
     "iopub.status.idle": "2025-02-22T22:36:00.704033Z",
     "shell.execute_reply": "2025-02-22T22:36:00.702911Z",
     "shell.execute_reply.started": "2025-02-22T22:36:00.645760Z"
    }
   },
   "outputs": [
    {
     "data": {
      "text/plain": [
       "\u001b[0;31mSignature:\u001b[0m\n",
       "\u001b[0mgmail\u001b[0m\u001b[0;34m.\u001b[0m\u001b[0msend_email\u001b[0m\u001b[0;34m(\u001b[0m\u001b[0;34m\u001b[0m\n",
       "\u001b[0;34m\u001b[0m    \u001b[0msender\u001b[0m\u001b[0;34m:\u001b[0m \u001b[0mstr\u001b[0m\u001b[0;34m,\u001b[0m\u001b[0;34m\u001b[0m\n",
       "\u001b[0;34m\u001b[0m    \u001b[0mrecipient\u001b[0m\u001b[0;34m:\u001b[0m \u001b[0mstr\u001b[0m\u001b[0;34m,\u001b[0m\u001b[0;34m\u001b[0m\n",
       "\u001b[0;34m\u001b[0m    \u001b[0msubject\u001b[0m\u001b[0;34m:\u001b[0m \u001b[0mstr\u001b[0m\u001b[0;34m,\u001b[0m\u001b[0;34m\u001b[0m\n",
       "\u001b[0;34m\u001b[0m    \u001b[0mbody\u001b[0m\u001b[0;34m:\u001b[0m \u001b[0mstr\u001b[0m\u001b[0;34m,\u001b[0m\u001b[0;34m\u001b[0m\n",
       "\u001b[0;34m\u001b[0m    \u001b[0memail_subtype\u001b[0m\u001b[0;34m:\u001b[0m \u001b[0mstr\u001b[0m \u001b[0;34m=\u001b[0m \u001b[0;34m'plain'\u001b[0m\u001b[0;34m,\u001b[0m\u001b[0;34m\u001b[0m\n",
       "\u001b[0;34m\u001b[0m\u001b[0;34m)\u001b[0m \u001b[0;34m->\u001b[0m \u001b[0;32mNone\u001b[0m\u001b[0;34m\u001b[0m\u001b[0;34m\u001b[0m\u001b[0m\n",
       "\u001b[0;31mDocstring:\u001b[0m\n",
       "Send an email\n",
       "\n",
       "Args:\n",
       "    sender (str): Email address of the sender\n",
       "    recipient (str): Email address of the recipient\n",
       "    subject (str): Subject of the email\n",
       "    body (str): Text of the message\n",
       "    email_subtype (str, optional): Format of the email. Can be \"plain\" or \"html\". Defaults to \"plain\".\n",
       "\u001b[0;31mFile:\u001b[0m      /home/src/gmail.py\n",
       "\u001b[0;31mType:\u001b[0m      method"
      ]
     },
     "metadata": {},
     "output_type": "display_data"
    }
   ],
   "source": [
    "gmail.send_email?"
   ]
  },
  {
   "cell_type": "code",
   "execution_count": 10,
   "id": "52a5f892-8777-4c22-94d3-184cd61084e9",
   "metadata": {
    "execution": {
     "iopub.execute_input": "2025-02-22T22:38:00.969286Z",
     "iopub.status.busy": "2025-02-22T22:38:00.968845Z",
     "iopub.status.idle": "2025-02-22T22:38:01.235401Z",
     "shell.execute_reply": "2025-02-22T22:38:01.233573Z",
     "shell.execute_reply.started": "2025-02-22T22:38:00.969257Z"
    }
   },
   "outputs": [],
   "source": [
    "gmail.send_email(\n",
    "    \"automatic.newsletters@gmail.com\",\n",
    "    \"ben.crestel@zoho.com\",\n",
    "    \"Test html email in plain format\",\n",
    "    txt_html,\n",
    "    \"plain\"\n",
    ")"
   ]
  },
  {
   "cell_type": "code",
   "execution_count": 11,
   "id": "1862ff5e-dd09-4788-aaf0-57c402d84aba",
   "metadata": {
    "execution": {
     "iopub.execute_input": "2025-02-22T22:38:41.375097Z",
     "iopub.status.busy": "2025-02-22T22:38:41.371683Z",
     "iopub.status.idle": "2025-02-22T22:38:41.692867Z",
     "shell.execute_reply": "2025-02-22T22:38:41.691310Z",
     "shell.execute_reply.started": "2025-02-22T22:38:41.375049Z"
    }
   },
   "outputs": [],
   "source": [
    "gmail.send_email(\n",
    "    \"automatic.newsletters@gmail.com\",\n",
    "    \"ben.crestel@zoho.com\",\n",
    "    \"Test html email in html format\",\n",
    "    txt_html,\n",
    "    \"html\"\n",
    ")"
   ]
  },
  {
   "cell_type": "markdown",
   "id": "1b571538-3980-42f3-ac4f-d8ccde2e1de1",
   "metadata": {},
   "source": [
    "# Add links to html email"
   ]
  },
  {
   "cell_type": "code",
   "execution_count": 8,
   "id": "aa93eb28-4054-4a5c-a4f9-85f070c31f8c",
   "metadata": {
    "execution": {
     "iopub.execute_input": "2025-02-22T23:22:56.362805Z",
     "iopub.status.busy": "2025-02-22T23:22:56.362346Z",
     "iopub.status.idle": "2025-02-22T23:22:56.371936Z",
     "shell.execute_reply": "2025-02-22T23:22:56.370821Z",
     "shell.execute_reply.started": "2025-02-22T23:22:56.362769Z"
    }
   },
   "outputs": [
    {
     "data": {
      "text/plain": [
       "'<h1>Section 1</h1>\\n<h2>Sub-title 1</h2>\\n<p>This is an example of text. This is not very good, but it\\'s okay.</p>\\n<p>Sources:<br />\\n* <a href=\"https://www.url_1.com\">My first article</a></p>'"
      ]
     },
     "execution_count": 8,
     "metadata": {},
     "output_type": "execute_result"
    }
   ],
   "source": [
    "txt_html"
   ]
  },
  {
   "cell_type": "code",
   "execution_count": null,
   "id": "f3028e8b-0a92-4cba-8953-a1eb6c871b85",
   "metadata": {},
   "outputs": [],
   "source": []
  }
 ],
 "metadata": {
  "kernelspec": {
   "display_name": "Python 3 (ipykernel)",
   "language": "python",
   "name": "python3"
  },
  "language_info": {
   "codemirror_mode": {
    "name": "ipython",
    "version": 3
   },
   "file_extension": ".py",
   "mimetype": "text/x-python",
   "name": "python",
   "nbconvert_exporter": "python",
   "pygments_lexer": "ipython3",
   "version": "3.11.11"
  }
 },
 "nbformat": 4,
 "nbformat_minor": 5
}
